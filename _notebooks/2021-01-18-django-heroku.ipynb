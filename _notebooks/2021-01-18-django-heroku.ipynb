{
 "cells": [
  {
   "cell_type": "markdown",
   "metadata": {
    "pycharm": {
     "name": "#%% md\n"
    }
   },
   "source": [
    "# Building a Django App and Deploying It on Heroku\n",
    "> \"Building a dummy 'hello world' web app using Django and deploying it on Heroku.\"\n",
    "\n",
    "- hide: true\n",
    "- toc: true\n",
    "- branch: master\n",
    "- badges: true\n",
    "- comments: true\n",
    "- categories: [mdjango, heroku, github, deployment]\n",
    "- image: images/django-heroku/heroku-logotype-horizontal-purple.png"
   ]
  },
  {
   "cell_type": "markdown",
   "metadata": {
    "pycharm": {
     "name": "#%% md\n"
    }
   },
   "source": [
    "In this step-by-step guide, I show how to setup a simple Django web app that says \"Hello World!\"\n",
    "and how to deploy it on Heroku through GitHub.\n",
    "\n",
    "\n",
    "## Requirements\n",
    "\n",
    "For that, Heroku and GitHub accounts are required. Both are free.\n",
    "\n",
    "All code should be in a GitHub repository.\n",
    "For reference, this is my GitHub repository:\n",
    "https://github.com/stefanbschneider/django-hello-world\n",
    "\n",
    "\n",
    "## Django \"Hello World\" App\n",
    "\n",
    "### Initial Setup\n",
    "\n",
    "Install Django:\n",
    "\n",
    "```\n",
    "pip install django\n",
    "```\n",
    "\n",
    "Create a new Django project (inside the GitHub repository):\n",
    "\n",
    "```\n",
    "django-admin startproject myproject\n",
    "```\n",
    "\n",
    "A project can consist of multiple apps.\n",
    "Create a new Django `helloworld` app inside the `myproject` project:\n",
    "\n",
    "```\n",
    "cd myproject\n",
    "python manage.py startapp helloworld\n",
    "```\n",
    "\n",
    "Run the dev server:\n",
    "\n",
    "```\n",
    "python manage.py runserver\n",
    "```\n",
    "\n",
    "Go to http://localhost:8000/ in the browser. This should confirm the successful initial setup:\n",
    "\n",
    "![](/images/django-heroku/django-dev-server.png)\n",
    "\n",
    "\n",
    "### Create the \"Hello World\" App\n",
    "\n",
    "\n"
   ]
  }
 ],
 "metadata": {
  "kernelspec": {
   "display_name": "Python 3",
   "language": "python",
   "name": "python3"
  },
  "language_info": {
   "codemirror_mode": {
    "name": "ipython",
    "version": 3
   },
   "file_extension": ".py",
   "mimetype": "text/x-python",
   "name": "python",
   "nbconvert_exporter": "python",
   "pygments_lexer": "ipython3",
   "version": "3.8.2"
  }
 },
 "nbformat": 4,
 "nbformat_minor": 4
}