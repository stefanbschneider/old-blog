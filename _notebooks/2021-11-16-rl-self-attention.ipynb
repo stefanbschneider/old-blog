{
 "cells": [
  {
   "cell_type": "markdown",
   "metadata": {
    "pycharm": {
     "name": "#%% md\n"
    }
   },
   "source": [
    "# Why and When Attention Matters in Reinforcement Learning\n",
    "> \"Using RLlib and AttentionNet to master environments with stateless observations, here, stateless CartPole.\"\n",
    "\n",
    "- hide: true\n",
    "- toc: true\n",
    "- branch: master\n",
    "- badges: true\n",
    "- comments: true\n",
    "- categories: [python, gym, ray, rllib, tensorflow, machine learning, reinforcement learning, sequence, attention]\n",
    "- image: images/cartpole.jpg"
   ]
  },
  {
   "cell_type": "markdown",
   "metadata": {
    "pycharm": {
     "name": "#%% md\n"
    }
   },
   "source": [
    "In reinforcement learning (RL), the RL agent typically selects a suitable action based on the last observation.\n",
    "In many practical environments, the full state can only be observed partially,\n",
    "such that important information may be missing when just considering the last observation.\n",
    "This blog post covers options for dealing with missing and only partially observed state,\n",
    "e.g., considering a *sequence* of last observations and applying *self-attention* to this sequence.\n",
    "\n",
    "\n",
    "## Example: The CartPole Gym Environment\n",
    "\n",
    "As an example, consider the popular [OpenAI Gym CartPole environment](https://gym.openai.com/envs/CartPole-v1/).\n",
    "Here, the task is to move a cart left or right in order to balance a pole on the cart as long as possible.\n",
    "\n",
    "![OpenAI Gym CartPole-v1 Environment](attention/cartpole.gif \"OpenAI Gym CartPole-v1 Environment\")\n",
    "\n",
    "In the normal [`CartPole-v1` environment](https://gym.openai.com/envs/CartPole-v1/), the RL agent observes four scalar values ([defined here](https://github.com/openai/gym/blob/master/gym/envs/classic_control/cartpole.py#L26:L32)):\n",
    "* The cart position, i.e., where the cart currently is.\n",
    "* The cart velocity, i.e., how fast the cart is currently moving and in which direction (can be positive or negative).\n",
    "* The pole angle, i.e., how tilted the pole currently is and in which direction.\n",
    "* The pole angular velocity, i.e., how fast the pole is currently moving and in which direction.\n",
    "\n",
    "All four observations are important to decide whether the cart should move left or right.\n",
    "\n",
    "Now, assume the RL agent only has access to an instant snapshot of the cart and the pole (e.g., through a photo/raw pixels)\n",
    "and can neither observe cart velocity nor pole angular velocity.\n",
    "In this case, the RL agent does not know whether the pole is currently swinging to one side and cannot properly balance the pole.\n",
    "How to deal with this problem of missing state (here, cart and pole velocity)?\n",
    "\n",
    "\n",
    "## Options for Dealing With Missing State\n",
    "\n",
    "There are different options for dealing with missing state, e.g., missing velocity in the CartPole example:\n",
    "\n",
    "1. Add the missing state explicitly, e.g., measure and observe velocity. Note that this may require installing extra sensors or may even be infeasible in some scenarios.\n",
    "2. Ignore the missing state, i.e., just rely on the available, partial observations. Depending on the missing state, this may be problematic and keep the agent from learning.\n",
    "3. Keep track of a sequence of the last observations. By observing the cart position and pole angle over time, the agent can implicitly derive their velocity. There are different ways to deal with this sequence:\n",
    "   1. Just use the sequence as is for a standard multi-layer perceptron (MLP)/dense feedforward neural network.\n",
    "   2. Feed the sequence into a recurrent neural network (RNN), e.g., with long short-term memory (LSTM).\n",
    "   3. Feed the sequence into a neural network with *self-attention*.\n",
    "\n",
    "In the following, I explain each option in more detail and illustrate them using simple example code.\n",
    "\n",
    "\n",
    "### Setup\n",
    "\n",
    "For the examples, I use a PPO RL agent from Ray RLlib with the CartPole environment, described above.\n",
    "\n",
    "To install these dependencies, run the following code (tested with Python 3.8 on Windows):"
   ]
  },
  {
   "cell_type": "code",
   "execution_count": 32,
   "outputs": [
    {
     "name": "stdout",
     "output_type": "stream",
     "text": [
      "Requirement already satisfied: ray[rllib]==1.8.0 in c:\\users\\stefan\\git-repos\\private\\blog\\venv\\lib\\site-packages (1.8.0)\n",
      "Requirement already satisfied: grpcio>=1.28.1 in c:\\users\\stefan\\git-repos\\private\\blog\\venv\\lib\\site-packages (from ray[rllib]==1.8.0) (1.41.1)\n",
      "Requirement already satisfied: click>=7.0 in c:\\users\\stefan\\git-repos\\private\\blog\\venv\\lib\\site-packages (from ray[rllib]==1.8.0) (8.0.3)\n",
      "Requirement already satisfied: protobuf>=3.15.3 in c:\\users\\stefan\\git-repos\\private\\blog\\venv\\lib\\site-packages (from ray[rllib]==1.8.0) (3.19.1)\n",
      "Requirement already satisfied: redis>=3.5.0 in c:\\users\\stefan\\git-repos\\private\\blog\\venv\\lib\\site-packages (from ray[rllib]==1.8.0) (4.0.0)\n",
      "Requirement already satisfied: jsonschema in c:\\users\\stefan\\git-repos\\private\\blog\\venv\\lib\\site-packages (from ray[rllib]==1.8.0) (3.2.0)\n",
      "Requirement already satisfied: msgpack<2.0.0,>=1.0.0 in c:\\users\\stefan\\git-repos\\private\\blog\\venv\\lib\\site-packages (from ray[rllib]==1.8.0) (1.0.2)\n",
      "Requirement already satisfied: pyyaml in c:\\users\\stefan\\git-repos\\private\\blog\\venv\\lib\\site-packages (from ray[rllib]==1.8.0) (6.0)\n",
      "Requirement already satisfied: numpy>=1.16 in c:\\users\\stefan\\git-repos\\private\\blog\\venv\\lib\\site-packages (from ray[rllib]==1.8.0) (1.21.4)\n",
      "Requirement already satisfied: filelock in c:\\users\\stefan\\git-repos\\private\\blog\\venv\\lib\\site-packages (from ray[rllib]==1.8.0) (3.4.0)\n",
      "Requirement already satisfied: attrs in c:\\users\\stefan\\git-repos\\private\\blog\\venv\\lib\\site-packages (from ray[rllib]==1.8.0) (20.3.0)\n",
      "Requirement already satisfied: requests in c:\\users\\stefan\\git-repos\\private\\blog\\venv\\lib\\site-packages (from ray[rllib]==1.8.0) (2.25.1)\n",
      "Requirement already satisfied: matplotlib!=3.4.3 in c:\\users\\stefan\\git-repos\\private\\blog\\venv\\lib\\site-packages (from ray[rllib]==1.8.0) (3.5.0)\n",
      "Requirement already satisfied: tabulate in c:\\users\\stefan\\git-repos\\private\\blog\\venv\\lib\\site-packages (from ray[rllib]==1.8.0) (0.8.9)\n",
      "Requirement already satisfied: scikit-image in c:\\users\\stefan\\git-repos\\private\\blog\\venv\\lib\\site-packages (from ray[rllib]==1.8.0) (0.18.3)\n",
      "Requirement already satisfied: gym in c:\\users\\stefan\\git-repos\\private\\blog\\venv\\lib\\site-packages (from ray[rllib]==1.8.0) (0.21.0)\n",
      "Requirement already satisfied: scipy in c:\\users\\stefan\\git-repos\\private\\blog\\venv\\lib\\site-packages (from ray[rllib]==1.8.0) (1.7.2)\n",
      "Requirement already satisfied: tensorboardX>=1.9 in c:\\users\\stefan\\git-repos\\private\\blog\\venv\\lib\\site-packages (from ray[rllib]==1.8.0) (2.4)\n",
      "Requirement already satisfied: dm-tree in c:\\users\\stefan\\git-repos\\private\\blog\\venv\\lib\\site-packages (from ray[rllib]==1.8.0) (0.1.6)\n",
      "Requirement already satisfied: pandas in c:\\users\\stefan\\git-repos\\private\\blog\\venv\\lib\\site-packages (from ray[rllib]==1.8.0) (1.3.4)\n",
      "Requirement already satisfied: lz4 in c:\\users\\stefan\\git-repos\\private\\blog\\venv\\lib\\site-packages (from ray[rllib]==1.8.0) (3.1.3)\n",
      "Requirement already satisfied: colorama in c:\\users\\stefan\\git-repos\\private\\blog\\venv\\lib\\site-packages (from click>=7.0->ray[rllib]==1.8.0) (0.4.4)\n",
      "Requirement already satisfied: six>=1.5.2 in c:\\users\\stefan\\git-repos\\private\\blog\\venv\\lib\\site-packages (from grpcio>=1.28.1->ray[rllib]==1.8.0) (1.15.0)\n",
      "Requirement already satisfied: setuptools-scm>=4 in c:\\users\\stefan\\git-repos\\private\\blog\\venv\\lib\\site-packages (from matplotlib!=3.4.3->ray[rllib]==1.8.0) (6.3.2)\n",
      "Requirement already satisfied: python-dateutil>=2.7 in c:\\users\\stefan\\git-repos\\private\\blog\\venv\\lib\\site-packages (from matplotlib!=3.4.3->ray[rllib]==1.8.0) (2.8.1)\n",
      "Requirement already satisfied: fonttools>=4.22.0 in c:\\users\\stefan\\git-repos\\private\\blog\\venv\\lib\\site-packages (from matplotlib!=3.4.3->ray[rllib]==1.8.0) (4.28.1)\n",
      "Requirement already satisfied: packaging>=20.0 in c:\\users\\stefan\\git-repos\\private\\blog\\venv\\lib\\site-packages (from matplotlib!=3.4.3->ray[rllib]==1.8.0) (20.8)\n",
      "Requirement already satisfied: pillow>=6.2.0 in c:\\users\\stefan\\git-repos\\private\\blog\\venv\\lib\\site-packages (from matplotlib!=3.4.3->ray[rllib]==1.8.0) (8.4.0)\n",
      "Requirement already satisfied: cycler>=0.10 in c:\\users\\stefan\\git-repos\\private\\blog\\venv\\lib\\site-packages (from matplotlib!=3.4.3->ray[rllib]==1.8.0) (0.11.0)\n",
      "Requirement already satisfied: pyparsing>=2.2.1 in c:\\users\\stefan\\git-repos\\private\\blog\\venv\\lib\\site-packages (from matplotlib!=3.4.3->ray[rllib]==1.8.0) (2.4.7)\n",
      "Requirement already satisfied: kiwisolver>=1.0.1 in c:\\users\\stefan\\git-repos\\private\\blog\\venv\\lib\\site-packages (from matplotlib!=3.4.3->ray[rllib]==1.8.0) (1.3.2)\n",
      "Requirement already satisfied: deprecated in c:\\users\\stefan\\git-repos\\private\\blog\\venv\\lib\\site-packages (from redis>=3.5.0->ray[rllib]==1.8.0) (1.2.13)\n",
      "Requirement already satisfied: cloudpickle>=1.2.0 in c:\\users\\stefan\\git-repos\\private\\blog\\venv\\lib\\site-packages (from gym->ray[rllib]==1.8.0) (2.0.0)\n",
      "Requirement already satisfied: pyrsistent>=0.14.0 in c:\\users\\stefan\\git-repos\\private\\blog\\venv\\lib\\site-packages (from jsonschema->ray[rllib]==1.8.0) (0.17.3)\n",
      "Requirement already satisfied: setuptools in c:\\users\\stefan\\git-repos\\private\\blog\\venv\\lib\\site-packages (from jsonschema->ray[rllib]==1.8.0) (46.1.3)\n",
      "Requirement already satisfied: pytz>=2017.3 in c:\\users\\stefan\\git-repos\\private\\blog\\venv\\lib\\site-packages (from pandas->ray[rllib]==1.8.0) (2020.5)\n",
      "Requirement already satisfied: certifi>=2017.4.17 in c:\\users\\stefan\\git-repos\\private\\blog\\venv\\lib\\site-packages (from requests->ray[rllib]==1.8.0) (2020.12.5)\n",
      "Requirement already satisfied: chardet<5,>=3.0.2 in c:\\users\\stefan\\git-repos\\private\\blog\\venv\\lib\\site-packages (from requests->ray[rllib]==1.8.0) (4.0.0)\n",
      "Requirement already satisfied: idna<3,>=2.5 in c:\\users\\stefan\\git-repos\\private\\blog\\venv\\lib\\site-packages (from requests->ray[rllib]==1.8.0) (2.10)\n",
      "Requirement already satisfied: urllib3<1.27,>=1.21.1 in c:\\users\\stefan\\git-repos\\private\\blog\\venv\\lib\\site-packages (from requests->ray[rllib]==1.8.0) (1.26.2)\n",
      "Requirement already satisfied: imageio>=2.3.0 in c:\\users\\stefan\\git-repos\\private\\blog\\venv\\lib\\site-packages (from scikit-image->ray[rllib]==1.8.0) (2.10.4)\n",
      "Requirement already satisfied: networkx>=2.0 in c:\\users\\stefan\\git-repos\\private\\blog\\venv\\lib\\site-packages (from scikit-image->ray[rllib]==1.8.0) (2.6.3)\n",
      "Requirement already satisfied: PyWavelets>=1.1.1 in c:\\users\\stefan\\git-repos\\private\\blog\\venv\\lib\\site-packages (from scikit-image->ray[rllib]==1.8.0) (1.2.0)\n",
      "Requirement already satisfied: tifffile>=2019.7.26 in c:\\users\\stefan\\git-repos\\private\\blog\\venv\\lib\\site-packages (from scikit-image->ray[rllib]==1.8.0) (2021.11.2)\n",
      "Requirement already satisfied: tomli>=1.0.0 in c:\\users\\stefan\\git-repos\\private\\blog\\venv\\lib\\site-packages (from setuptools-scm>=4->matplotlib!=3.4.3->ray[rllib]==1.8.0) (1.2.2)\n",
      "Requirement already satisfied: wrapt<2,>=1.10 in c:\\users\\stefan\\git-repos\\private\\blog\\venv\\lib\\site-packages (from deprecated->redis>=3.5.0->ray[rllib]==1.8.0) (1.13.3)\n",
      "Requirement already satisfied: tensorflow==2.7.0 in c:\\users\\stefan\\git-repos\\private\\blog\\venv\\lib\\site-packages (2.7.0)\n",
      "Requirement already satisfied: gast<0.5.0,>=0.2.1 in c:\\users\\stefan\\git-repos\\private\\blog\\venv\\lib\\site-packages (from tensorflow==2.7.0) (0.4.0)\n",
      "Requirement already satisfied: wheel<1.0,>=0.32.0 in c:\\users\\stefan\\git-repos\\private\\blog\\venv\\lib\\site-packages (from tensorflow==2.7.0) (0.34.2)\n",
      "Requirement already satisfied: tensorflow-io-gcs-filesystem>=0.21.0 in c:\\users\\stefan\\git-repos\\private\\blog\\venv\\lib\\site-packages (from tensorflow==2.7.0) (0.22.0)\n",
      "Requirement already satisfied: grpcio<2.0,>=1.24.3 in c:\\users\\stefan\\git-repos\\private\\blog\\venv\\lib\\site-packages (from tensorflow==2.7.0) (1.41.1)\n",
      "Requirement already satisfied: numpy>=1.14.5 in c:\\users\\stefan\\git-repos\\private\\blog\\venv\\lib\\site-packages (from tensorflow==2.7.0) (1.21.4)\n",
      "Requirement already satisfied: wrapt>=1.11.0 in c:\\users\\stefan\\git-repos\\private\\blog\\venv\\lib\\site-packages (from tensorflow==2.7.0) (1.13.3)\n",
      "Requirement already satisfied: h5py>=2.9.0 in c:\\users\\stefan\\git-repos\\private\\blog\\venv\\lib\\site-packages (from tensorflow==2.7.0) (3.6.0)\n",
      "Requirement already satisfied: opt-einsum>=2.3.2 in c:\\users\\stefan\\git-repos\\private\\blog\\venv\\lib\\site-packages (from tensorflow==2.7.0) (3.3.0)\n",
      "Requirement already satisfied: tensorflow-estimator<2.8,~=2.7.0rc0 in c:\\users\\stefan\\git-repos\\private\\blog\\venv\\lib\\site-packages (from tensorflow==2.7.0) (2.7.0)\n",
      "Requirement already satisfied: keras<2.8,>=2.7.0rc0 in c:\\users\\stefan\\git-repos\\private\\blog\\venv\\lib\\site-packages (from tensorflow==2.7.0) (2.7.0)\n",
      "Requirement already satisfied: libclang>=9.0.1 in c:\\users\\stefan\\git-repos\\private\\blog\\venv\\lib\\site-packages (from tensorflow==2.7.0) (12.0.0)\n",
      "Requirement already satisfied: keras-preprocessing>=1.1.1 in c:\\users\\stefan\\git-repos\\private\\blog\\venv\\lib\\site-packages (from tensorflow==2.7.0) (1.1.2)\n",
      "Requirement already satisfied: absl-py>=0.4.0 in c:\\users\\stefan\\git-repos\\private\\blog\\venv\\lib\\site-packages (from tensorflow==2.7.0) (1.0.0)\n",
      "Requirement already satisfied: termcolor>=1.1.0 in c:\\users\\stefan\\git-repos\\private\\blog\\venv\\lib\\site-packages (from tensorflow==2.7.0) (1.1.0)\n",
      "Requirement already satisfied: tensorboard~=2.6 in c:\\users\\stefan\\git-repos\\private\\blog\\venv\\lib\\site-packages (from tensorflow==2.7.0) (2.7.0)\n",
      "Requirement already satisfied: astunparse>=1.6.0 in c:\\users\\stefan\\git-repos\\private\\blog\\venv\\lib\\site-packages (from tensorflow==2.7.0) (1.6.3)\n",
      "Requirement already satisfied: six>=1.12.0 in c:\\users\\stefan\\git-repos\\private\\blog\\venv\\lib\\site-packages (from tensorflow==2.7.0) (1.15.0)\n",
      "Requirement already satisfied: google-pasta>=0.1.1 in c:\\users\\stefan\\git-repos\\private\\blog\\venv\\lib\\site-packages (from tensorflow==2.7.0) (0.2.0)\n",
      "Requirement already satisfied: flatbuffers<3.0,>=1.12 in c:\\users\\stefan\\git-repos\\private\\blog\\venv\\lib\\site-packages (from tensorflow==2.7.0) (2.0)\n",
      "Requirement already satisfied: protobuf>=3.9.2 in c:\\users\\stefan\\git-repos\\private\\blog\\venv\\lib\\site-packages (from tensorflow==2.7.0) (3.19.1)\n",
      "Requirement already satisfied: typing-extensions>=3.6.6 in c:\\users\\stefan\\git-repos\\private\\blog\\venv\\lib\\site-packages (from tensorflow==2.7.0) (4.0.0)\n",
      "Requirement already satisfied: google-auth-oauthlib<0.5,>=0.4.1 in c:\\users\\stefan\\git-repos\\private\\blog\\venv\\lib\\site-packages (from tensorboard~=2.6->tensorflow==2.7.0) (0.4.6)\n",
      "Requirement already satisfied: markdown>=2.6.8 in c:\\users\\stefan\\git-repos\\private\\blog\\venv\\lib\\site-packages (from tensorboard~=2.6->tensorflow==2.7.0) (3.3.5)\n",
      "Requirement already satisfied: requests<3,>=2.21.0 in c:\\users\\stefan\\git-repos\\private\\blog\\venv\\lib\\site-packages (from tensorboard~=2.6->tensorflow==2.7.0) (2.25.1)\n",
      "Requirement already satisfied: tensorboard-data-server<0.7.0,>=0.6.0 in c:\\users\\stefan\\git-repos\\private\\blog\\venv\\lib\\site-packages (from tensorboard~=2.6->tensorflow==2.7.0) (0.6.1)\n",
      "Requirement already satisfied: google-auth<3,>=1.6.3 in c:\\users\\stefan\\git-repos\\private\\blog\\venv\\lib\\site-packages (from tensorboard~=2.6->tensorflow==2.7.0) (2.3.3)\n",
      "Requirement already satisfied: tensorboard-plugin-wit>=1.6.0 in c:\\users\\stefan\\git-repos\\private\\blog\\venv\\lib\\site-packages (from tensorboard~=2.6->tensorflow==2.7.0) (1.8.0)\n",
      "Requirement already satisfied: werkzeug>=0.11.15 in c:\\users\\stefan\\git-repos\\private\\blog\\venv\\lib\\site-packages (from tensorboard~=2.6->tensorflow==2.7.0) (2.0.2)\n",
      "Requirement already satisfied: setuptools>=41.0.0 in c:\\users\\stefan\\git-repos\\private\\blog\\venv\\lib\\site-packages (from tensorboard~=2.6->tensorflow==2.7.0) (46.1.3)\n",
      "Requirement already satisfied: rsa<5,>=3.1.4 in c:\\users\\stefan\\git-repos\\private\\blog\\venv\\lib\\site-packages (from google-auth<3,>=1.6.3->tensorboard~=2.6->tensorflow==2.7.0) (4.7.2)\n",
      "Requirement already satisfied: pyasn1-modules>=0.2.1 in c:\\users\\stefan\\git-repos\\private\\blog\\venv\\lib\\site-packages (from google-auth<3,>=1.6.3->tensorboard~=2.6->tensorflow==2.7.0) (0.2.8)\n",
      "Requirement already satisfied: cachetools<5.0,>=2.0.0 in c:\\users\\stefan\\git-repos\\private\\blog\\venv\\lib\\site-packages (from google-auth<3,>=1.6.3->tensorboard~=2.6->tensorflow==2.7.0) (4.2.4)\n",
      "Requirement already satisfied: requests-oauthlib>=0.7.0 in c:\\users\\stefan\\git-repos\\private\\blog\\venv\\lib\\site-packages (from google-auth-oauthlib<0.5,>=0.4.1->tensorboard~=2.6->tensorflow==2.7.0) (1.3.0)\n",
      "Requirement already satisfied: importlib-metadata>='4.4' in c:\\users\\stefan\\git-repos\\private\\blog\\venv\\lib\\site-packages (from markdown>=2.6.8->tensorboard~=2.6->tensorflow==2.7.0) (4.8.2)\n",
      "Requirement already satisfied: idna<3,>=2.5 in c:\\users\\stefan\\git-repos\\private\\blog\\venv\\lib\\site-packages (from requests<3,>=2.21.0->tensorboard~=2.6->tensorflow==2.7.0) (2.10)\n",
      "Requirement already satisfied: chardet<5,>=3.0.2 in c:\\users\\stefan\\git-repos\\private\\blog\\venv\\lib\\site-packages (from requests<3,>=2.21.0->tensorboard~=2.6->tensorflow==2.7.0) (4.0.0)\n",
      "Requirement already satisfied: certifi>=2017.4.17 in c:\\users\\stefan\\git-repos\\private\\blog\\venv\\lib\\site-packages (from requests<3,>=2.21.0->tensorboard~=2.6->tensorflow==2.7.0) (2020.12.5)\n",
      "Requirement already satisfied: urllib3<1.27,>=1.21.1 in c:\\users\\stefan\\git-repos\\private\\blog\\venv\\lib\\site-packages (from requests<3,>=2.21.0->tensorboard~=2.6->tensorflow==2.7.0) (1.26.2)\n",
      "Requirement already satisfied: zipp>=0.5 in c:\\users\\stefan\\git-repos\\private\\blog\\venv\\lib\\site-packages (from importlib-metadata>='4.4'->markdown>=2.6.8->tensorboard~=2.6->tensorflow==2.7.0) (3.6.0)\n",
      "Requirement already satisfied: pyasn1<0.5.0,>=0.4.6 in c:\\users\\stefan\\git-repos\\private\\blog\\venv\\lib\\site-packages (from pyasn1-modules>=0.2.1->google-auth<3,>=1.6.3->tensorboard~=2.6->tensorflow==2.7.0) (0.4.8)\n",
      "Requirement already satisfied: oauthlib>=3.0.0 in c:\\users\\stefan\\git-repos\\private\\blog\\venv\\lib\\site-packages (from requests-oauthlib>=0.7.0->google-auth-oauthlib<0.5,>=0.4.1->tensorboard~=2.6->tensorflow==2.7.0) (3.1.1)\n",
      "Requirement already satisfied: seaborn==0.11.2 in c:\\users\\stefan\\git-repos\\private\\blog\\venv\\lib\\site-packages (0.11.2)\n",
      "Requirement already satisfied: scipy>=1.0 in c:\\users\\stefan\\git-repos\\private\\blog\\venv\\lib\\site-packages (from seaborn==0.11.2) (1.7.2)\n",
      "Requirement already satisfied: numpy>=1.15 in c:\\users\\stefan\\git-repos\\private\\blog\\venv\\lib\\site-packages (from seaborn==0.11.2) (1.21.4)\n",
      "Requirement already satisfied: matplotlib>=2.2 in c:\\users\\stefan\\git-repos\\private\\blog\\venv\\lib\\site-packages (from seaborn==0.11.2) (3.5.0)\n",
      "Requirement already satisfied: pandas>=0.23 in c:\\users\\stefan\\git-repos\\private\\blog\\venv\\lib\\site-packages (from seaborn==0.11.2) (1.3.4)\n",
      "Requirement already satisfied: python-dateutil>=2.7 in c:\\users\\stefan\\git-repos\\private\\blog\\venv\\lib\\site-packages (from matplotlib>=2.2->seaborn==0.11.2) (2.8.1)\n",
      "Requirement already satisfied: kiwisolver>=1.0.1 in c:\\users\\stefan\\git-repos\\private\\blog\\venv\\lib\\site-packages (from matplotlib>=2.2->seaborn==0.11.2) (1.3.2)\n",
      "Requirement already satisfied: cycler>=0.10 in c:\\users\\stefan\\git-repos\\private\\blog\\venv\\lib\\site-packages (from matplotlib>=2.2->seaborn==0.11.2) (0.11.0)\n",
      "Requirement already satisfied: packaging>=20.0 in c:\\users\\stefan\\git-repos\\private\\blog\\venv\\lib\\site-packages (from matplotlib>=2.2->seaborn==0.11.2) (20.8)\n",
      "Requirement already satisfied: pillow>=6.2.0 in c:\\users\\stefan\\git-repos\\private\\blog\\venv\\lib\\site-packages (from matplotlib>=2.2->seaborn==0.11.2) (8.4.0)\n",
      "Requirement already satisfied: fonttools>=4.22.0 in c:\\users\\stefan\\git-repos\\private\\blog\\venv\\lib\\site-packages (from matplotlib>=2.2->seaborn==0.11.2) (4.28.1)\n",
      "Requirement already satisfied: pyparsing>=2.2.1 in c:\\users\\stefan\\git-repos\\private\\blog\\venv\\lib\\site-packages (from matplotlib>=2.2->seaborn==0.11.2) (2.4.7)\n",
      "Requirement already satisfied: setuptools-scm>=4 in c:\\users\\stefan\\git-repos\\private\\blog\\venv\\lib\\site-packages (from matplotlib>=2.2->seaborn==0.11.2) (6.3.2)\n",
      "Requirement already satisfied: pytz>=2017.3 in c:\\users\\stefan\\git-repos\\private\\blog\\venv\\lib\\site-packages (from pandas>=0.23->seaborn==0.11.2) (2020.5)\n",
      "Requirement already satisfied: six>=1.5 in c:\\users\\stefan\\git-repos\\private\\blog\\venv\\lib\\site-packages (from python-dateutil>=2.7->matplotlib>=2.2->seaborn==0.11.2) (1.15.0)\n",
      "Requirement already satisfied: setuptools in c:\\users\\stefan\\git-repos\\private\\blog\\venv\\lib\\site-packages (from setuptools-scm>=4->matplotlib>=2.2->seaborn==0.11.2) (46.1.3)\n",
      "Requirement already satisfied: tomli>=1.0.0 in c:\\users\\stefan\\git-repos\\private\\blog\\venv\\lib\\site-packages (from setuptools-scm>=4->matplotlib>=2.2->seaborn==0.11.2) (1.2.2)\n",
      "Requirement already satisfied: gym==0.21.0 in c:\\users\\stefan\\git-repos\\private\\blog\\venv\\lib\\site-packages (0.21.0)\n",
      "Requirement already satisfied: cloudpickle>=1.2.0 in c:\\users\\stefan\\git-repos\\private\\blog\\venv\\lib\\site-packages (from gym==0.21.0) (2.0.0)\n",
      "Requirement already satisfied: numpy>=1.18.0 in c:\\users\\stefan\\git-repos\\private\\blog\\venv\\lib\\site-packages (from gym==0.21.0) (1.21.4)\n",
      "Requirement already satisfied: pyglet==1.5.21 in c:\\users\\stefan\\git-repos\\private\\blog\\venv\\lib\\site-packages (1.5.21)\n"
     ]
    }
   ],
   "source": [
    "#collapse-output\n",
    "!pip install ray[rllib]==1.8.0\n",
    "!pip install tensorflow==2.7.0\n",
    "!pip install seaborn==0.11.2\n",
    "!pip install gym==0.21.0\n",
    "!pip install pyglet==1.5.21"
   ],
   "metadata": {
    "collapsed": false,
    "pycharm": {
     "name": "#%%\n"
    }
   }
  },
  {
   "cell_type": "markdown",
   "source": [
    "Start up ray, load the default PPO config, and determine the number of training iterations,\n",
    "which is the same for all options (for comparability)."
   ],
   "metadata": {
    "collapsed": false,
    "pycharm": {
     "name": "#%% md\n"
    }
   }
  },
  {
   "cell_type": "code",
   "execution_count": 33,
   "outputs": [
    {
     "name": "stderr",
     "output_type": "stream",
     "text": [
      "2021-11-23 19:46:59,351\tINFO worker.py:832 -- Calling ray.init() again after it has already been called.\n"
     ]
    }
   ],
   "source": [
    "import ray\n",
    "\n",
    "# adjust num_cpus and num_gpus to your system\n",
    "# for some reason, num_cpus=2 gets stuck on my system (when trying to train)\n",
    "ray.init(num_cpus=3, ignore_reinit_error=True)\n",
    "\n",
    "# stop conditions based on training iterations (each with 4000 train steps)\n",
    "stop = {\"training_iteration\": 10}"
   ],
   "metadata": {
    "collapsed": false,
    "pycharm": {
     "name": "#%%\n"
    }
   }
  },
  {
   "cell_type": "markdown",
   "source": [
    "### Option 1: Explicitly Add Missing State\n",
    "\n",
    "Sometimes, it is possible to extend the observations and explicitly add important state that was previously unobserved.\n",
    "In the CartPole example, the cart and pole velocity can simply be \"added\" by using the default `CartPole-v1` environment.\n",
    "Here, the cart velocity and pole velocity are already included in the observations.\n",
    "\n",
    "Note that in many practical scenarios such \"missing\" state cannot be added and observed simply.\n",
    "Instead, it may require installing additional sensors or may even be completely infeasible.\n",
    "\n",
    "Let's start with the best case, i.e., explicitly including the missing state."
   ],
   "metadata": {
    "collapsed": false,
    "pycharm": {
     "name": "#%% md\n"
    }
   }
  },
  {
   "cell_type": "code",
   "execution_count": 34,
   "outputs": [
    {
     "data": {
      "text/plain": "(4,)"
     },
     "execution_count": 34,
     "metadata": {},
     "output_type": "execute_result"
    }
   ],
   "source": [
    "import gym\n",
    "\n",
    "# the default CartPole env has all 4 observations: position and velocity of both cart and pole\n",
    "env = gym.make(\"CartPole-v1\")\n",
    "env.observation_space.shape"
   ],
   "metadata": {
    "collapsed": false,
    "pycharm": {
     "name": "#%%\n"
    }
   }
  },
  {
   "cell_type": "code",
   "execution_count": 35,
   "metadata": {
    "collapsed": false,
    "jupyter": {
     "outputs_hidden": false
    },
    "pycharm": {
     "name": "#%%\n"
    }
   },
   "outputs": [
    {
     "data": {
      "text/plain": "<IPython.core.display.HTML object>",
      "text/html": "== Status ==<br>Current time: 2021-11-23 19:46:59 (running for 00:00:00.16)<br>Memory usage on this node: 9.3/11.9 GiB<br>Using FIFO scheduling algorithm.<br>Resources requested: 0/3 CPUs, 0/0 GPUs, 0.0/1.4 GiB heap, 0.0/0.7 GiB objects<br>Result logdir: C:\\Users\\Stefan\\ray_results\\PPO<br>Number of trials: 1/1 (1 PENDING)<br><table>\n<thead>\n<tr><th>Trial name                 </th><th>status  </th><th>loc  </th></tr>\n</thead>\n<tbody>\n<tr><td>PPO_CartPole-v1_bd6e2_00000</td><td>PENDING </td><td>     </td></tr>\n</tbody>\n</table><br><br>"
     },
     "metadata": {},
     "output_type": "display_data"
    },
    {
     "name": "stderr",
     "output_type": "stream",
     "text": [
      "\u001B[2m\u001B[36m(pid=None)\u001B[0m c:\\users\\stefan\\git-repos\\private\\blog\\venv\\lib\\site-packages\\redis\\connection.py:77: UserWarning: redis-py works best with hiredis. Please consider installing\r\n",
      "\u001B[2m\u001B[36m(pid=None)\u001B[0m   warnings.warn(msg)\r\n"
     ]
    },
    {
     "data": {
      "text/plain": "<IPython.core.display.HTML object>",
      "text/html": "== Status ==<br>Current time: 2021-11-23 19:47:04 (running for 00:00:05.17)<br>Memory usage on this node: 9.3/11.9 GiB<br>Using FIFO scheduling algorithm.<br>Resources requested: 0/3 CPUs, 0/0 GPUs, 0.0/1.4 GiB heap, 0.0/0.7 GiB objects<br>Result logdir: C:\\Users\\Stefan\\ray_results\\PPO<br>Number of trials: 1/1 (1 PENDING)<br><table>\n<thead>\n<tr><th>Trial name                 </th><th>status  </th><th>loc  </th></tr>\n</thead>\n<tbody>\n<tr><td>PPO_CartPole-v1_bd6e2_00000</td><td>PENDING </td><td>     </td></tr>\n</tbody>\n</table><br><br>"
     },
     "metadata": {},
     "output_type": "display_data"
    },
    {
     "name": "stderr",
     "output_type": "stream",
     "text": [
      "\u001B[2m\u001B[36m(pid=9332)\u001B[0m 2021-11-23 19:47:10,868\tINFO trainer.py:753 -- Tip: set framework=tfe or the --eager flag to enable TensorFlow eager execution\r\n",
      "\u001B[2m\u001B[36m(pid=9332)\u001B[0m 2021-11-23 19:47:10,868\tINFO ppo.py:166 -- In multi-agent mode, policies will be optimized sequentially by the multi-GPU optimizer. Consider setting simple_optimizer=True if this doesn't work for you.\r\n",
      "\u001B[2m\u001B[36m(pid=9332)\u001B[0m 2021-11-23 19:47:10,868\tINFO trainer.py:770 -- Current log_level is WARN. For more information, set 'log_level': 'INFO' / 'DEBUG' or use the -v and -vv flags.\r\n",
      "\u001B[2m\u001B[36m(pid=None)\u001B[0m c:\\users\\stefan\\git-repos\\private\\blog\\venv\\lib\\site-packages\\redis\\connection.py:77: UserWarning: redis-py works best with hiredis. Please consider installing\r\n",
      "\u001B[2m\u001B[36m(pid=None)\u001B[0m   warnings.warn(msg)\r\n",
      "\u001B[2m\u001B[36m(pid=None)\u001B[0m c:\\users\\stefan\\git-repos\\private\\blog\\venv\\lib\\site-packages\\redis\\connection.py:77: UserWarning: redis-py works best with hiredis. Please consider installing\r\n",
      "\u001B[2m\u001B[36m(pid=None)\u001B[0m   warnings.warn(msg)\r\n",
      "\u001B[2m\u001B[36m(pid=6508)\u001B[0m 2021-11-23 19:47:22,968\tWARNING deprecation.py:38 -- DeprecationWarning: `SampleBatch['is_training']` has been deprecated. Use `SampleBatch.is_training` instead. This will raise an error in the future!\r\n",
      "\u001B[2m\u001B[36m(pid=9332)\u001B[0m 2021-11-23 19:47:24,418\tWARNING deprecation.py:38 -- DeprecationWarning: `SampleBatch['is_training']` has been deprecated. Use `SampleBatch.is_training` instead. This will raise an error in the future!\r\n"
     ]
    },
    {
     "data": {
      "text/plain": "<IPython.core.display.HTML object>",
      "text/html": "== Status ==<br>Current time: 2021-11-23 19:47:25 (running for 00:00:26.02)<br>Memory usage on this node: 10.0/11.9 GiB<br>Using FIFO scheduling algorithm.<br>Resources requested: 3.0/3 CPUs, 0/0 GPUs, 0.0/1.4 GiB heap, 0.0/0.7 GiB objects<br>Result logdir: C:\\Users\\Stefan\\ray_results\\PPO<br>Number of trials: 1/1 (1 RUNNING)<br><table>\n<thead>\n<tr><th>Trial name                 </th><th>status  </th><th>loc           </th></tr>\n</thead>\n<tbody>\n<tr><td>PPO_CartPole-v1_bd6e2_00000</td><td>RUNNING </td><td>127.0.0.1:9332</td></tr>\n</tbody>\n</table><br><br>"
     },
     "metadata": {},
     "output_type": "display_data"
    },
    {
     "name": "stderr",
     "output_type": "stream",
     "text": [
      "\u001B[2m\u001B[36m(pid=9332)\u001B[0m 2021-11-23 19:47:25,401\tWARNING trainer_template.py:185 -- `execution_plan` functions should accept `trainer`, `workers`, and `config` as args!\r\n",
      "\u001B[2m\u001B[36m(pid=9332)\u001B[0m 2021-11-23 19:47:25,401\tINFO trainable.py:110 -- Trainable.setup took 14.534 seconds. If your trainable is slow to initialize, consider setting reuse_actors=True to reduce actor creation overheads.\r\n",
      "\u001B[2m\u001B[36m(pid=9332)\u001B[0m 2021-11-23 19:47:25,401\tWARNING util.py:57 -- Install gputil for GPU system monitoring.\r\n"
     ]
    },
    {
     "data": {
      "text/plain": "<IPython.core.display.HTML object>",
      "text/html": "== Status ==<br>Current time: 2021-11-23 19:47:26 (running for 00:00:27.03)<br>Memory usage on this node: 10.0/11.9 GiB<br>Using FIFO scheduling algorithm.<br>Resources requested: 3.0/3 CPUs, 0/0 GPUs, 0.0/1.4 GiB heap, 0.0/0.7 GiB objects<br>Result logdir: C:\\Users\\Stefan\\ray_results\\PPO<br>Number of trials: 1/1 (1 RUNNING)<br><table>\n<thead>\n<tr><th>Trial name                 </th><th>status  </th><th>loc           </th></tr>\n</thead>\n<tbody>\n<tr><td>PPO_CartPole-v1_bd6e2_00000</td><td>RUNNING </td><td>127.0.0.1:9332</td></tr>\n</tbody>\n</table><br><br>"
     },
     "metadata": {},
     "output_type": "display_data"
    },
    {
     "name": "stderr",
     "output_type": "stream",
     "text": [
      "\u001B[2m\u001B[36m(pid=9332)\u001B[0m 2021-11-23 19:47:29,301\tWARNING deprecation.py:38 -- DeprecationWarning: `slice` has been deprecated. Use `SampleBatch[start:stop]` instead. This will raise an error in the future!\r\n"
     ]
    },
    {
     "data": {
      "text/plain": "<IPython.core.display.HTML object>",
      "text/html": "== Status ==<br>Current time: 2021-11-23 19:47:31 (running for 00:00:32.10)<br>Memory usage on this node: 10.1/11.9 GiB<br>Using FIFO scheduling algorithm.<br>Resources requested: 3.0/3 CPUs, 0/0 GPUs, 0.0/1.4 GiB heap, 0.0/0.7 GiB objects<br>Result logdir: C:\\Users\\Stefan\\ray_results\\PPO<br>Number of trials: 1/1 (1 RUNNING)<br><table>\n<thead>\n<tr><th>Trial name                 </th><th>status  </th><th>loc           </th></tr>\n</thead>\n<tbody>\n<tr><td>PPO_CartPole-v1_bd6e2_00000</td><td>RUNNING </td><td>127.0.0.1:9332</td></tr>\n</tbody>\n</table><br><br>"
     },
     "metadata": {},
     "output_type": "display_data"
    },
    {
     "name": "stdout",
     "output_type": "stream",
     "text": [
      "Result for PPO_CartPole-v1_bd6e2_00000:\n",
      "  agent_timesteps_total: 4000\n",
      "  custom_metrics: {}\n",
      "  date: 2021-11-23_19-47-32\n",
      "  done: false\n",
      "  episode_len_mean: 23.201183431952664\n",
      "  episode_media: {}\n",
      "  episode_reward_max: 64.0\n",
      "  episode_reward_mean: 23.201183431952664\n",
      "  episode_reward_min: 8.0\n",
      "  episodes_this_iter: 169\n",
      "  episodes_total: 169\n",
      "  experiment_id: ada6434c43d44cc4854441944ca25a66\n",
      "  hostname: nb-stschn\n",
      "  info:\n",
      "    learner:\n",
      "      default_policy:\n",
      "        custom_metrics: {}\n",
      "        learner_stats:\n",
      "          cur_kl_coeff: 0.20000000298023224\n",
      "          cur_lr: 4.999999873689376e-05\n",
      "          entropy: 0.6663767099380493\n",
      "          entropy_coeff: 0.0\n",
      "          kl: 0.02739105187356472\n",
      "          model: {}\n",
      "          policy_loss: -0.04134032875299454\n",
      "          total_loss: 200.2156219482422\n",
      "          vf_explained_var: 0.026224354282021523\n",
      "          vf_loss: 200.25149536132812\n",
      "    num_agent_steps_sampled: 4000\n",
      "    num_agent_steps_trained: 4000\n",
      "    num_steps_sampled: 4000\n",
      "    num_steps_trained: 4000\n",
      "  iterations_since_restore: 1\n",
      "  node_ip: 127.0.0.1\n",
      "  num_healthy_workers: 2\n",
      "  off_policy_estimator: {}\n",
      "  perf:\n",
      "    cpu_util_percent: 68.96363636363635\n",
      "    ram_util_percent: 84.45454545454545\n",
      "  pid: 9332\n",
      "  policy_reward_max: {}\n",
      "  policy_reward_mean: {}\n",
      "  policy_reward_min: {}\n",
      "  sampler_perf:\n",
      "    mean_action_processing_ms: 0.08780811829245165\n",
      "    mean_env_render_ms: 0.0\n",
      "    mean_env_wait_ms: 0.09023848270573184\n",
      "    mean_inference_ms: 1.5741673442388602\n",
      "    mean_raw_obs_processing_ms: 0.1437277133823059\n",
      "  time_since_restore: 7.516907691955566\n",
      "  time_this_iter_s: 7.516907691955566\n",
      "  time_total_s: 7.516907691955566\n",
      "  timers:\n",
      "    learn_throughput: 1111.186\n",
      "    learn_time_ms: 3599.756\n",
      "    load_throughput: 0.0\n",
      "    load_time_ms: 0.0\n",
      "    sample_throughput: 1024.425\n",
      "    sample_time_ms: 3904.629\n",
      "    update_time_ms: 0.0\n",
      "  timestamp: 1637693252\n",
      "  timesteps_since_restore: 0\n",
      "  timesteps_this_iter: 0\n",
      "  timesteps_total: 4000\n",
      "  training_iteration: 1\n",
      "  trial_id: bd6e2_00000\n",
      "  \n"
     ]
    },
    {
     "data": {
      "text/plain": "<IPython.core.display.HTML object>",
      "text/html": "== Status ==<br>Current time: 2021-11-23 19:47:37 (running for 00:00:37.62)<br>Memory usage on this node: 10.1/11.9 GiB<br>Using FIFO scheduling algorithm.<br>Resources requested: 3.0/3 CPUs, 0/0 GPUs, 0.0/1.4 GiB heap, 0.0/0.7 GiB objects<br>Result logdir: C:\\Users\\Stefan\\ray_results\\PPO<br>Number of trials: 1/1 (1 RUNNING)<br><table>\n<thead>\n<tr><th>Trial name                 </th><th>status  </th><th>loc           </th><th style=\"text-align: right;\">  iter</th><th style=\"text-align: right;\">  total time (s)</th><th style=\"text-align: right;\">  ts</th><th style=\"text-align: right;\">  reward</th><th style=\"text-align: right;\">  episode_reward_max</th><th style=\"text-align: right;\">  episode_reward_min</th><th style=\"text-align: right;\">  episode_len_mean</th></tr>\n</thead>\n<tbody>\n<tr><td>PPO_CartPole-v1_bd6e2_00000</td><td>RUNNING </td><td>127.0.0.1:9332</td><td style=\"text-align: right;\">     1</td><td style=\"text-align: right;\">         7.51691</td><td style=\"text-align: right;\">4000</td><td style=\"text-align: right;\"> 23.2012</td><td style=\"text-align: right;\">                  64</td><td style=\"text-align: right;\">                   8</td><td style=\"text-align: right;\">           23.2012</td></tr>\n</tbody>\n</table><br><br>"
     },
     "metadata": {},
     "output_type": "display_data"
    },
    {
     "name": "stdout",
     "output_type": "stream",
     "text": [
      "Result for PPO_CartPole-v1_bd6e2_00000:\n",
      "  agent_timesteps_total: 8000\n",
      "  custom_metrics: {}\n",
      "  date: 2021-11-23_19-47-39\n",
      "  done: false\n",
      "  episode_len_mean: 42.95\n",
      "  episode_media: {}\n",
      "  episode_reward_max: 150.0\n",
      "  episode_reward_mean: 42.95\n",
      "  episode_reward_min: 10.0\n",
      "  episodes_this_iter: 87\n",
      "  episodes_total: 256\n",
      "  experiment_id: ada6434c43d44cc4854441944ca25a66\n",
      "  hostname: nb-stschn\n",
      "  info:\n",
      "    learner:\n",
      "      default_policy:\n",
      "        custom_metrics: {}\n",
      "        learner_stats:\n",
      "          cur_kl_coeff: 0.30000001192092896\n",
      "          cur_lr: 4.999999873689376e-05\n",
      "          entropy: 0.6131702065467834\n",
      "          entropy_coeff: 0.0\n",
      "          kl: 0.015614509582519531\n",
      "          model: {}\n",
      "          policy_loss: -0.030681779608130455\n",
      "          total_loss: 312.3175964355469\n",
      "          vf_explained_var: 0.07965515553951263\n",
      "          vf_loss: 312.3436279296875\n",
      "    num_agent_steps_sampled: 8000\n",
      "    num_agent_steps_trained: 8000\n",
      "    num_steps_sampled: 8000\n",
      "    num_steps_trained: 8000\n",
      "    num_steps_trained_this_iter: 0\n",
      "  iterations_since_restore: 2\n",
      "  node_ip: 127.0.0.1\n",
      "  num_healthy_workers: 2\n",
      "  off_policy_estimator: {}\n",
      "  perf:\n",
      "    cpu_util_percent: 70.44\n",
      "    ram_util_percent: 84.61\n",
      "  pid: 9332\n",
      "  policy_reward_max: {}\n",
      "  policy_reward_mean: {}\n",
      "  policy_reward_min: {}\n",
      "  sampler_perf:\n",
      "    mean_action_processing_ms: 0.08674016599786703\n",
      "    mean_env_render_ms: 0.0\n",
      "    mean_env_wait_ms: 0.10221243666315946\n",
      "    mean_inference_ms: 1.4379395671503181\n",
      "    mean_raw_obs_processing_ms: 0.15194804311583987\n",
      "  time_since_restore: 14.383461952209473\n",
      "  time_this_iter_s: 6.866554260253906\n",
      "  time_total_s: 14.383461952209473\n",
      "  timers:\n",
      "    learn_throughput: 1118.369\n",
      "    learn_time_ms: 3576.637\n",
      "    load_throughput: 0.0\n",
      "    load_time_ms: 0.0\n",
      "    sample_throughput: 735.569\n",
      "    sample_time_ms: 5437.97\n",
      "    update_time_ms: 0.0\n",
      "  timestamp: 1637693259\n",
      "  timesteps_since_restore: 0\n",
      "  timesteps_this_iter: 0\n",
      "  timesteps_total: 8000\n",
      "  training_iteration: 2\n",
      "  trial_id: bd6e2_00000\n",
      "  \n"
     ]
    },
    {
     "data": {
      "text/plain": "<IPython.core.display.HTML object>",
      "text/html": "== Status ==<br>Current time: 2021-11-23 19:47:42 (running for 00:00:43.52)<br>Memory usage on this node: 10.1/11.9 GiB<br>Using FIFO scheduling algorithm.<br>Resources requested: 3.0/3 CPUs, 0/0 GPUs, 0.0/1.4 GiB heap, 0.0/0.7 GiB objects<br>Result logdir: C:\\Users\\Stefan\\ray_results\\PPO<br>Number of trials: 1/1 (1 RUNNING)<br><table>\n<thead>\n<tr><th>Trial name                 </th><th>status  </th><th>loc           </th><th style=\"text-align: right;\">  iter</th><th style=\"text-align: right;\">  total time (s)</th><th style=\"text-align: right;\">  ts</th><th style=\"text-align: right;\">  reward</th><th style=\"text-align: right;\">  episode_reward_max</th><th style=\"text-align: right;\">  episode_reward_min</th><th style=\"text-align: right;\">  episode_len_mean</th></tr>\n</thead>\n<tbody>\n<tr><td>PPO_CartPole-v1_bd6e2_00000</td><td>RUNNING </td><td>127.0.0.1:9332</td><td style=\"text-align: right;\">     2</td><td style=\"text-align: right;\">         14.3835</td><td style=\"text-align: right;\">8000</td><td style=\"text-align: right;\">   42.95</td><td style=\"text-align: right;\">                 150</td><td style=\"text-align: right;\">                  10</td><td style=\"text-align: right;\">             42.95</td></tr>\n</tbody>\n</table><br><br>"
     },
     "metadata": {},
     "output_type": "display_data"
    },
    {
     "name": "stdout",
     "output_type": "stream",
     "text": [
      "Result for PPO_CartPole-v1_bd6e2_00000:\n",
      "  agent_timesteps_total: 12000\n",
      "  custom_metrics: {}\n",
      "  date: 2021-11-23_19-47-46\n",
      "  done: false\n",
      "  episode_len_mean: 72.01\n",
      "  episode_media: {}\n",
      "  episode_reward_max: 367.0\n",
      "  episode_reward_mean: 72.01\n",
      "  episode_reward_min: 10.0\n",
      "  episodes_this_iter: 31\n",
      "  episodes_total: 287\n",
      "  experiment_id: ada6434c43d44cc4854441944ca25a66\n",
      "  hostname: nb-stschn\n",
      "  info:\n",
      "    learner:\n",
      "      default_policy:\n",
      "        custom_metrics: {}\n",
      "        learner_stats:\n",
      "          cur_kl_coeff: 0.30000001192092896\n",
      "          cur_lr: 4.999999873689376e-05\n",
      "          entropy: 0.5750772953033447\n",
      "          entropy_coeff: 0.0\n",
      "          kl: 0.010552152059972286\n",
      "          model: {}\n",
      "          policy_loss: -0.02355009876191616\n",
      "          total_loss: 682.247802734375\n",
      "          vf_explained_var: 0.08913025259971619\n",
      "          vf_loss: 682.2681274414062\n",
      "    num_agent_steps_sampled: 12000\n",
      "    num_agent_steps_trained: 12000\n",
      "    num_steps_sampled: 12000\n",
      "    num_steps_trained: 12000\n",
      "    num_steps_trained_this_iter: 0\n",
      "  iterations_since_restore: 3\n",
      "  node_ip: 127.0.0.1\n",
      "  num_healthy_workers: 2\n",
      "  off_policy_estimator: {}\n",
      "  perf:\n",
      "    cpu_util_percent: 65.9\n",
      "    ram_util_percent: 84.63333333333334\n",
      "  pid: 9332\n",
      "  policy_reward_max: {}\n",
      "  policy_reward_mean: {}\n",
      "  policy_reward_min: {}\n",
      "  sampler_perf:\n",
      "    mean_action_processing_ms: 0.08345135189333704\n",
      "    mean_env_render_ms: 0.0\n",
      "    mean_env_wait_ms: 0.10287899069530118\n",
      "    mean_inference_ms: 1.4127022652323893\n",
      "    mean_raw_obs_processing_ms: 0.146412975705891\n",
      "  time_since_restore: 20.96682572364807\n",
      "  time_this_iter_s: 6.583363771438599\n",
      "  time_total_s: 20.96682572364807\n",
      "  timers:\n",
      "    learn_throughput: 1149.968\n",
      "    learn_time_ms: 3478.358\n",
      "    load_throughput: 11955260.808\n",
      "    load_time_ms: 0.335\n",
      "    sample_throughput: 676.221\n",
      "    sample_time_ms: 5915.228\n",
      "    update_time_ms: 0.0\n",
      "  timestamp: 1637693266\n",
      "  timesteps_since_restore: 0\n",
      "  timesteps_this_iter: 0\n",
      "  timesteps_total: 12000\n",
      "  training_iteration: 3\n",
      "  trial_id: bd6e2_00000\n",
      "  \n"
     ]
    },
    {
     "data": {
      "text/plain": "<IPython.core.display.HTML object>",
      "text/html": "== Status ==<br>Current time: 2021-11-23 19:47:48 (running for 00:00:49.12)<br>Memory usage on this node: 10.1/11.9 GiB<br>Using FIFO scheduling algorithm.<br>Resources requested: 3.0/3 CPUs, 0/0 GPUs, 0.0/1.4 GiB heap, 0.0/0.7 GiB objects<br>Result logdir: C:\\Users\\Stefan\\ray_results\\PPO<br>Number of trials: 1/1 (1 RUNNING)<br><table>\n<thead>\n<tr><th>Trial name                 </th><th>status  </th><th>loc           </th><th style=\"text-align: right;\">  iter</th><th style=\"text-align: right;\">  total time (s)</th><th style=\"text-align: right;\">   ts</th><th style=\"text-align: right;\">  reward</th><th style=\"text-align: right;\">  episode_reward_max</th><th style=\"text-align: right;\">  episode_reward_min</th><th style=\"text-align: right;\">  episode_len_mean</th></tr>\n</thead>\n<tbody>\n<tr><td>PPO_CartPole-v1_bd6e2_00000</td><td>RUNNING </td><td>127.0.0.1:9332</td><td style=\"text-align: right;\">     3</td><td style=\"text-align: right;\">         20.9668</td><td style=\"text-align: right;\">12000</td><td style=\"text-align: right;\">   72.01</td><td style=\"text-align: right;\">                 367</td><td style=\"text-align: right;\">                  10</td><td style=\"text-align: right;\">             72.01</td></tr>\n</tbody>\n</table><br><br>"
     },
     "metadata": {},
     "output_type": "display_data"
    },
    {
     "name": "stdout",
     "output_type": "stream",
     "text": [
      "Result for PPO_CartPole-v1_bd6e2_00000:\n",
      "  agent_timesteps_total: 16000\n",
      "  custom_metrics: {}\n",
      "  date: 2021-11-23_19-47-53\n",
      "  done: false\n",
      "  episode_len_mean: 99.53\n",
      "  episode_media: {}\n",
      "  episode_reward_max: 367.0\n",
      "  episode_reward_mean: 99.53\n",
      "  episode_reward_min: 10.0\n",
      "  episodes_this_iter: 24\n",
      "  episodes_total: 311\n",
      "  experiment_id: ada6434c43d44cc4854441944ca25a66\n",
      "  hostname: nb-stschn\n",
      "  info:\n",
      "    learner:\n",
      "      default_policy:\n",
      "        custom_metrics: {}\n",
      "        learner_stats:\n",
      "          cur_kl_coeff: 0.30000001192092896\n",
      "          cur_lr: 4.999999873689376e-05\n",
      "          entropy: 0.5543258190155029\n",
      "          entropy_coeff: 0.0\n",
      "          kl: 0.005451680161058903\n",
      "          model: {}\n",
      "          policy_loss: -0.013567883521318436\n",
      "          total_loss: 657.56103515625\n",
      "          vf_explained_var: 0.31792160868644714\n",
      "          vf_loss: 657.572998046875\n",
      "    num_agent_steps_sampled: 16000\n",
      "    num_agent_steps_trained: 16000\n",
      "    num_steps_sampled: 16000\n",
      "    num_steps_trained: 16000\n",
      "    num_steps_trained_this_iter: 0\n",
      "  iterations_since_restore: 4\n",
      "  node_ip: 127.0.0.1\n",
      "  num_healthy_workers: 2\n",
      "  off_policy_estimator: {}\n",
      "  perf:\n",
      "    cpu_util_percent: 67.78888888888889\n",
      "    ram_util_percent: 84.67777777777779\n",
      "  pid: 9332\n",
      "  policy_reward_max: {}\n",
      "  policy_reward_mean: {}\n",
      "  policy_reward_min: {}\n",
      "  sampler_perf:\n",
      "    mean_action_processing_ms: 0.07607290116067764\n",
      "    mean_env_render_ms: 0.0\n",
      "    mean_env_wait_ms: 0.10106716069791831\n",
      "    mean_inference_ms: 1.413093391686641\n",
      "    mean_raw_obs_processing_ms: 0.13886860480277202\n",
      "  time_since_restore: 27.66690731048584\n",
      "  time_this_iter_s: 6.7000815868377686\n",
      "  time_total_s: 27.66690731048584\n",
      "  timers:\n",
      "    learn_throughput: 1164.888\n",
      "    learn_time_ms: 3433.808\n",
      "    load_throughput: 15940347.743\n",
      "    load_time_ms: 0.251\n",
      "    sample_throughput: 654.005\n",
      "    sample_time_ms: 6116.164\n",
      "    update_time_ms: 3.91\n",
      "  timestamp: 1637693273\n",
      "  timesteps_since_restore: 0\n",
      "  timesteps_this_iter: 0\n",
      "  timesteps_total: 16000\n",
      "  training_iteration: 4\n",
      "  trial_id: bd6e2_00000\n",
      "  \n"
     ]
    },
    {
     "data": {
      "text/plain": "<IPython.core.display.HTML object>",
      "text/html": "== Status ==<br>Current time: 2021-11-23 19:47:54 (running for 00:00:54.83)<br>Memory usage on this node: 10.1/11.9 GiB<br>Using FIFO scheduling algorithm.<br>Resources requested: 3.0/3 CPUs, 0/0 GPUs, 0.0/1.4 GiB heap, 0.0/0.7 GiB objects<br>Result logdir: C:\\Users\\Stefan\\ray_results\\PPO<br>Number of trials: 1/1 (1 RUNNING)<br><table>\n<thead>\n<tr><th>Trial name                 </th><th>status  </th><th>loc           </th><th style=\"text-align: right;\">  iter</th><th style=\"text-align: right;\">  total time (s)</th><th style=\"text-align: right;\">   ts</th><th style=\"text-align: right;\">  reward</th><th style=\"text-align: right;\">  episode_reward_max</th><th style=\"text-align: right;\">  episode_reward_min</th><th style=\"text-align: right;\">  episode_len_mean</th></tr>\n</thead>\n<tbody>\n<tr><td>PPO_CartPole-v1_bd6e2_00000</td><td>RUNNING </td><td>127.0.0.1:9332</td><td style=\"text-align: right;\">     4</td><td style=\"text-align: right;\">         27.6669</td><td style=\"text-align: right;\">16000</td><td style=\"text-align: right;\">   99.53</td><td style=\"text-align: right;\">                 367</td><td style=\"text-align: right;\">                  10</td><td style=\"text-align: right;\">             99.53</td></tr>\n</tbody>\n</table><br><br>"
     },
     "metadata": {},
     "output_type": "display_data"
    },
    {
     "data": {
      "text/plain": "<IPython.core.display.HTML object>",
      "text/html": "== Status ==<br>Current time: 2021-11-23 19:47:59 (running for 00:00:59.92)<br>Memory usage on this node: 10.1/11.9 GiB<br>Using FIFO scheduling algorithm.<br>Resources requested: 3.0/3 CPUs, 0/0 GPUs, 0.0/1.4 GiB heap, 0.0/0.7 GiB objects<br>Result logdir: C:\\Users\\Stefan\\ray_results\\PPO<br>Number of trials: 1/1 (1 RUNNING)<br><table>\n<thead>\n<tr><th>Trial name                 </th><th>status  </th><th>loc           </th><th style=\"text-align: right;\">  iter</th><th style=\"text-align: right;\">  total time (s)</th><th style=\"text-align: right;\">   ts</th><th style=\"text-align: right;\">  reward</th><th style=\"text-align: right;\">  episode_reward_max</th><th style=\"text-align: right;\">  episode_reward_min</th><th style=\"text-align: right;\">  episode_len_mean</th></tr>\n</thead>\n<tbody>\n<tr><td>PPO_CartPole-v1_bd6e2_00000</td><td>RUNNING </td><td>127.0.0.1:9332</td><td style=\"text-align: right;\">     4</td><td style=\"text-align: right;\">         27.6669</td><td style=\"text-align: right;\">16000</td><td style=\"text-align: right;\">   99.53</td><td style=\"text-align: right;\">                 367</td><td style=\"text-align: right;\">                  10</td><td style=\"text-align: right;\">             99.53</td></tr>\n</tbody>\n</table><br><br>"
     },
     "metadata": {},
     "output_type": "display_data"
    },
    {
     "name": "stdout",
     "output_type": "stream",
     "text": [
      "Result for PPO_CartPole-v1_bd6e2_00000:\n",
      "  agent_timesteps_total: 20000\n",
      "  custom_metrics: {}\n",
      "  date: 2021-11-23_19-47-59\n",
      "  done: false\n",
      "  episode_len_mean: 131.85\n",
      "  episode_media: {}\n",
      "  episode_reward_max: 472.0\n",
      "  episode_reward_mean: 131.85\n",
      "  episode_reward_min: 11.0\n",
      "  episodes_this_iter: 16\n",
      "  episodes_total: 327\n",
      "  experiment_id: ada6434c43d44cc4854441944ca25a66\n",
      "  hostname: nb-stschn\n",
      "  info:\n",
      "    learner:\n",
      "      default_policy:\n",
      "        custom_metrics: {}\n",
      "        learner_stats:\n",
      "          cur_kl_coeff: 0.30000001192092896\n",
      "          cur_lr: 4.999999873689376e-05\n",
      "          entropy: 0.5512375831604004\n",
      "          entropy_coeff: 0.0\n",
      "          kl: 0.0024686120450496674\n",
      "          model: {}\n",
      "          policy_loss: -0.010818097740411758\n",
      "          total_loss: 538.4854125976562\n",
      "          vf_explained_var: 0.321399986743927\n",
      "          vf_loss: 538.4955444335938\n",
      "    num_agent_steps_sampled: 20000\n",
      "    num_agent_steps_trained: 20000\n",
      "    num_steps_sampled: 20000\n",
      "    num_steps_trained: 20000\n",
      "    num_steps_trained_this_iter: 0\n",
      "  iterations_since_restore: 5\n",
      "  node_ip: 127.0.0.1\n",
      "  num_healthy_workers: 2\n",
      "  off_policy_estimator: {}\n",
      "  perf:\n",
      "    cpu_util_percent: 66.27000000000001\n",
      "    ram_util_percent: 84.69000000000001\n",
      "  pid: 9332\n",
      "  policy_reward_max: {}\n",
      "  policy_reward_mean: {}\n",
      "  policy_reward_min: {}\n",
      "  sampler_perf:\n",
      "    mean_action_processing_ms: 0.07838994072084958\n",
      "    mean_env_render_ms: 0.0\n",
      "    mean_env_wait_ms: 0.09994187932727808\n",
      "    mean_inference_ms: 1.4035711330826053\n",
      "    mean_raw_obs_processing_ms: 0.13563655209121872\n",
      "  time_since_restore: 34.28356695175171\n",
      "  time_this_iter_s: 6.616659641265869\n",
      "  time_total_s: 34.28356695175171\n",
      "  timers:\n",
      "    learn_throughput: 1174.033\n",
      "    learn_time_ms: 3407.059\n",
      "    load_throughput: 19925434.679\n",
      "    load_time_ms: 0.201\n",
      "    sample_throughput: 642.973\n",
      "    sample_time_ms: 6221.1\n",
      "    update_time_ms: 6.459\n",
      "  timestamp: 1637693279\n",
      "  timesteps_since_restore: 0\n",
      "  timesteps_this_iter: 0\n",
      "  timesteps_total: 20000\n",
      "  training_iteration: 5\n",
      "  trial_id: bd6e2_00000\n",
      "  \n"
     ]
    },
    {
     "data": {
      "text/plain": "<IPython.core.display.HTML object>",
      "text/html": "== Status ==<br>Current time: 2021-11-23 19:48:04 (running for 00:01:05.53)<br>Memory usage on this node: 10.1/11.9 GiB<br>Using FIFO scheduling algorithm.<br>Resources requested: 3.0/3 CPUs, 0/0 GPUs, 0.0/1.4 GiB heap, 0.0/0.7 GiB objects<br>Result logdir: C:\\Users\\Stefan\\ray_results\\PPO<br>Number of trials: 1/1 (1 RUNNING)<br><table>\n<thead>\n<tr><th>Trial name                 </th><th>status  </th><th>loc           </th><th style=\"text-align: right;\">  iter</th><th style=\"text-align: right;\">  total time (s)</th><th style=\"text-align: right;\">   ts</th><th style=\"text-align: right;\">  reward</th><th style=\"text-align: right;\">  episode_reward_max</th><th style=\"text-align: right;\">  episode_reward_min</th><th style=\"text-align: right;\">  episode_len_mean</th></tr>\n</thead>\n<tbody>\n<tr><td>PPO_CartPole-v1_bd6e2_00000</td><td>RUNNING </td><td>127.0.0.1:9332</td><td style=\"text-align: right;\">     5</td><td style=\"text-align: right;\">         34.2836</td><td style=\"text-align: right;\">20000</td><td style=\"text-align: right;\">  131.85</td><td style=\"text-align: right;\">                 472</td><td style=\"text-align: right;\">                  11</td><td style=\"text-align: right;\">            131.85</td></tr>\n</tbody>\n</table><br><br>"
     },
     "metadata": {},
     "output_type": "display_data"
    },
    {
     "name": "stdout",
     "output_type": "stream",
     "text": [
      "Result for PPO_CartPole-v1_bd6e2_00000:\n",
      "  agent_timesteps_total: 24000\n",
      "  custom_metrics: {}\n",
      "  date: 2021-11-23_19-48-06\n",
      "  done: false\n",
      "  episode_len_mean: 165.3\n",
      "  episode_media: {}\n",
      "  episode_reward_max: 500.0\n",
      "  episode_reward_mean: 165.3\n",
      "  episode_reward_min: 14.0\n",
      "  episodes_this_iter: 14\n",
      "  episodes_total: 341\n",
      "  experiment_id: ada6434c43d44cc4854441944ca25a66\n",
      "  hostname: nb-stschn\n",
      "  info:\n",
      "    learner:\n",
      "      default_policy:\n",
      "        custom_metrics: {}\n",
      "        learner_stats:\n",
      "          cur_kl_coeff: 0.15000000596046448\n",
      "          cur_lr: 4.999999873689376e-05\n",
      "          entropy: 0.5289359092712402\n",
      "          entropy_coeff: 0.0\n",
      "          kl: 0.007540307007730007\n",
      "          model: {}\n",
      "          policy_loss: -0.010302959010004997\n",
      "          total_loss: 430.6041564941406\n",
      "          vf_explained_var: 0.3625507056713104\n",
      "          vf_loss: 430.6133117675781\n",
      "    num_agent_steps_sampled: 24000\n",
      "    num_agent_steps_trained: 24000\n",
      "    num_steps_sampled: 24000\n",
      "    num_steps_trained: 24000\n",
      "    num_steps_trained_this_iter: 0\n",
      "  iterations_since_restore: 6\n",
      "  node_ip: 127.0.0.1\n",
      "  num_healthy_workers: 2\n",
      "  off_policy_estimator: {}\n",
      "  perf:\n",
      "    cpu_util_percent: 66.44444444444444\n",
      "    ram_util_percent: 84.6888888888889\n",
      "  pid: 9332\n",
      "  policy_reward_max: {}\n",
      "  policy_reward_mean: {}\n",
      "  policy_reward_min: {}\n",
      "  sampler_perf:\n",
      "    mean_action_processing_ms: 0.08137795136967195\n",
      "    mean_env_render_ms: 0.0\n",
      "    mean_env_wait_ms: 0.09919168272984091\n",
      "    mean_inference_ms: 1.3928938913992197\n",
      "    mean_raw_obs_processing_ms: 0.13256708957866883\n",
      "  time_since_restore: 40.86706018447876\n",
      "  time_this_iter_s: 6.583493232727051\n",
      "  time_total_s: 40.86706018447876\n",
      "  timers:\n",
      "    learn_throughput: 1181.754\n",
      "    learn_time_ms: 3384.8\n",
      "    load_throughput: 23910521.615\n",
      "    load_time_ms: 0.167\n",
      "    sample_throughput: 635.607\n",
      "    sample_time_ms: 6293.196\n",
      "    update_time_ms: 5.383\n",
      "  timestamp: 1637693286\n",
      "  timesteps_since_restore: 0\n",
      "  timesteps_this_iter: 0\n",
      "  timesteps_total: 24000\n",
      "  training_iteration: 6\n",
      "  trial_id: bd6e2_00000\n",
      "  \n"
     ]
    },
    {
     "data": {
      "text/plain": "<IPython.core.display.HTML object>",
      "text/html": "== Status ==<br>Current time: 2021-11-23 19:48:10 (running for 00:01:11.15)<br>Memory usage on this node: 10.1/11.9 GiB<br>Using FIFO scheduling algorithm.<br>Resources requested: 3.0/3 CPUs, 0/0 GPUs, 0.0/1.4 GiB heap, 0.0/0.7 GiB objects<br>Result logdir: C:\\Users\\Stefan\\ray_results\\PPO<br>Number of trials: 1/1 (1 RUNNING)<br><table>\n<thead>\n<tr><th>Trial name                 </th><th>status  </th><th>loc           </th><th style=\"text-align: right;\">  iter</th><th style=\"text-align: right;\">  total time (s)</th><th style=\"text-align: right;\">   ts</th><th style=\"text-align: right;\">  reward</th><th style=\"text-align: right;\">  episode_reward_max</th><th style=\"text-align: right;\">  episode_reward_min</th><th style=\"text-align: right;\">  episode_len_mean</th></tr>\n</thead>\n<tbody>\n<tr><td>PPO_CartPole-v1_bd6e2_00000</td><td>RUNNING </td><td>127.0.0.1:9332</td><td style=\"text-align: right;\">     6</td><td style=\"text-align: right;\">         40.8671</td><td style=\"text-align: right;\">24000</td><td style=\"text-align: right;\">   165.3</td><td style=\"text-align: right;\">                 500</td><td style=\"text-align: right;\">                  14</td><td style=\"text-align: right;\">             165.3</td></tr>\n</tbody>\n</table><br><br>"
     },
     "metadata": {},
     "output_type": "display_data"
    },
    {
     "name": "stdout",
     "output_type": "stream",
     "text": [
      "Result for PPO_CartPole-v1_bd6e2_00000:\n",
      "  agent_timesteps_total: 28000\n",
      "  custom_metrics: {}\n",
      "  date: 2021-11-23_19-48-13\n",
      "  done: false\n",
      "  episode_len_mean: 200.73\n",
      "  episode_media: {}\n",
      "  episode_reward_max: 500.0\n",
      "  episode_reward_mean: 200.73\n",
      "  episode_reward_min: 14.0\n",
      "  episodes_this_iter: 10\n",
      "  episodes_total: 351\n",
      "  experiment_id: ada6434c43d44cc4854441944ca25a66\n",
      "  hostname: nb-stschn\n",
      "  info:\n",
      "    learner:\n",
      "      default_policy:\n",
      "        custom_metrics: {}\n",
      "        learner_stats:\n",
      "          cur_kl_coeff: 0.15000000596046448\n",
      "          cur_lr: 4.999999873689376e-05\n",
      "          entropy: 0.5529451966285706\n",
      "          entropy_coeff: 0.0\n",
      "          kl: 0.004082479979842901\n",
      "          model: {}\n",
      "          policy_loss: -0.007522972766309977\n",
      "          total_loss: 385.4500427246094\n",
      "          vf_explained_var: 0.34760990738868713\n",
      "          vf_loss: 385.45697021484375\n",
      "    num_agent_steps_sampled: 28000\n",
      "    num_agent_steps_trained: 28000\n",
      "    num_steps_sampled: 28000\n",
      "    num_steps_trained: 28000\n",
      "    num_steps_trained_this_iter: 0\n",
      "  iterations_since_restore: 7\n",
      "  node_ip: 127.0.0.1\n",
      "  num_healthy_workers: 2\n",
      "  off_policy_estimator: {}\n",
      "  perf:\n",
      "    cpu_util_percent: 65.51111111111112\n",
      "    ram_util_percent: 84.62222222222222\n",
      "  pid: 9332\n",
      "  policy_reward_max: {}\n",
      "  policy_reward_mean: {}\n",
      "  policy_reward_min: {}\n",
      "  sampler_perf:\n",
      "    mean_action_processing_ms: 0.08292146908394506\n",
      "    mean_env_render_ms: 0.0\n",
      "    mean_env_wait_ms: 0.09879974143372734\n",
      "    mean_inference_ms: 1.385670263519395\n",
      "    mean_raw_obs_processing_ms: 0.13008639493272484\n",
      "  time_since_restore: 47.68342137336731\n",
      "  time_this_iter_s: 6.81636118888855\n",
      "  time_total_s: 47.68342137336731\n",
      "  timers:\n",
      "    learn_throughput: 1178.46\n",
      "    learn_time_ms: 3394.26\n",
      "    load_throughput: 27895608.551\n",
      "    load_time_ms: 0.143\n",
      "    sample_throughput: 630.221\n",
      "    sample_time_ms: 6346.978\n",
      "    update_time_ms: 4.614\n",
      "  timestamp: 1637693293\n",
      "  timesteps_since_restore: 0\n",
      "  timesteps_this_iter: 0\n",
      "  timesteps_total: 28000\n",
      "  training_iteration: 7\n",
      "  trial_id: bd6e2_00000\n",
      "  \n"
     ]
    },
    {
     "data": {
      "text/plain": "<IPython.core.display.HTML object>",
      "text/html": "== Status ==<br>Current time: 2021-11-23 19:48:16 (running for 00:01:17.00)<br>Memory usage on this node: 9.8/11.9 GiB<br>Using FIFO scheduling algorithm.<br>Resources requested: 3.0/3 CPUs, 0/0 GPUs, 0.0/1.4 GiB heap, 0.0/0.7 GiB objects<br>Result logdir: C:\\Users\\Stefan\\ray_results\\PPO<br>Number of trials: 1/1 (1 RUNNING)<br><table>\n<thead>\n<tr><th>Trial name                 </th><th>status  </th><th>loc           </th><th style=\"text-align: right;\">  iter</th><th style=\"text-align: right;\">  total time (s)</th><th style=\"text-align: right;\">   ts</th><th style=\"text-align: right;\">  reward</th><th style=\"text-align: right;\">  episode_reward_max</th><th style=\"text-align: right;\">  episode_reward_min</th><th style=\"text-align: right;\">  episode_len_mean</th></tr>\n</thead>\n<tbody>\n<tr><td>PPO_CartPole-v1_bd6e2_00000</td><td>RUNNING </td><td>127.0.0.1:9332</td><td style=\"text-align: right;\">     7</td><td style=\"text-align: right;\">         47.6834</td><td style=\"text-align: right;\">28000</td><td style=\"text-align: right;\">  200.73</td><td style=\"text-align: right;\">                 500</td><td style=\"text-align: right;\">                  14</td><td style=\"text-align: right;\">            200.73</td></tr>\n</tbody>\n</table><br><br>"
     },
     "metadata": {},
     "output_type": "display_data"
    },
    {
     "name": "stdout",
     "output_type": "stream",
     "text": [
      "Result for PPO_CartPole-v1_bd6e2_00000:\n",
      "  agent_timesteps_total: 32000\n",
      "  custom_metrics: {}\n",
      "  date: 2021-11-23_19-48-20\n",
      "  done: false\n",
      "  episode_len_mean: 231.96\n",
      "  episode_media: {}\n",
      "  episode_reward_max: 500.0\n",
      "  episode_reward_mean: 231.96\n",
      "  episode_reward_min: 22.0\n",
      "  episodes_this_iter: 8\n",
      "  episodes_total: 359\n",
      "  experiment_id: ada6434c43d44cc4854441944ca25a66\n",
      "  hostname: nb-stschn\n",
      "  info:\n",
      "    learner:\n",
      "      default_policy:\n",
      "        custom_metrics: {}\n",
      "        learner_stats:\n",
      "          cur_kl_coeff: 0.07500000298023224\n",
      "          cur_lr: 4.999999873689376e-05\n",
      "          entropy: 0.5215219259262085\n",
      "          entropy_coeff: 0.0\n",
      "          kl: 0.003867241321131587\n",
      "          model: {}\n",
      "          policy_loss: -0.006445886567234993\n",
      "          total_loss: 463.6306457519531\n",
      "          vf_explained_var: 0.039233140647411346\n",
      "          vf_loss: 463.6368408203125\n",
      "    num_agent_steps_sampled: 32000\n",
      "    num_agent_steps_trained: 32000\n",
      "    num_steps_sampled: 32000\n",
      "    num_steps_trained: 32000\n",
      "    num_steps_trained_this_iter: 0\n",
      "  iterations_since_restore: 8\n",
      "  node_ip: 127.0.0.1\n",
      "  num_healthy_workers: 2\n",
      "  off_policy_estimator: {}\n",
      "  perf:\n",
      "    cpu_util_percent: 74.09\n",
      "    ram_util_percent: 82.85\n",
      "  pid: 9332\n",
      "  policy_reward_max: {}\n",
      "  policy_reward_mean: {}\n",
      "  policy_reward_min: {}\n",
      "  sampler_perf:\n",
      "    mean_action_processing_ms: 0.08278395268749097\n",
      "    mean_env_render_ms: 0.0\n",
      "    mean_env_wait_ms: 0.09865615802656738\n",
      "    mean_inference_ms: 1.3818915499780655\n",
      "    mean_raw_obs_processing_ms: 0.12845417041433646\n",
      "  time_since_restore: 54.49989891052246\n",
      "  time_this_iter_s: 6.816477537155151\n",
      "  time_total_s: 54.49989891052246\n",
      "  timers:\n",
      "    learn_throughput: 1177.487\n",
      "    learn_time_ms: 3397.064\n",
      "    load_throughput: 31880695.487\n",
      "    load_time_ms: 0.125\n",
      "    sample_throughput: 623.274\n",
      "    sample_time_ms: 6417.719\n",
      "    update_time_ms: 4.037\n",
      "  timestamp: 1637693300\n",
      "  timesteps_since_restore: 0\n",
      "  timesteps_this_iter: 0\n",
      "  timesteps_total: 32000\n",
      "  training_iteration: 8\n",
      "  trial_id: bd6e2_00000\n",
      "  \n"
     ]
    },
    {
     "data": {
      "text/plain": "<IPython.core.display.HTML object>",
      "text/html": "== Status ==<br>Current time: 2021-11-23 19:48:23 (running for 00:01:23.82)<br>Memory usage on this node: 9.9/11.9 GiB<br>Using FIFO scheduling algorithm.<br>Resources requested: 3.0/3 CPUs, 0/0 GPUs, 0.0/1.4 GiB heap, 0.0/0.7 GiB objects<br>Result logdir: C:\\Users\\Stefan\\ray_results\\PPO<br>Number of trials: 1/1 (1 RUNNING)<br><table>\n<thead>\n<tr><th>Trial name                 </th><th>status  </th><th>loc           </th><th style=\"text-align: right;\">  iter</th><th style=\"text-align: right;\">  total time (s)</th><th style=\"text-align: right;\">   ts</th><th style=\"text-align: right;\">  reward</th><th style=\"text-align: right;\">  episode_reward_max</th><th style=\"text-align: right;\">  episode_reward_min</th><th style=\"text-align: right;\">  episode_len_mean</th></tr>\n</thead>\n<tbody>\n<tr><td>PPO_CartPole-v1_bd6e2_00000</td><td>RUNNING </td><td>127.0.0.1:9332</td><td style=\"text-align: right;\">     8</td><td style=\"text-align: right;\">         54.4999</td><td style=\"text-align: right;\">32000</td><td style=\"text-align: right;\">  231.96</td><td style=\"text-align: right;\">                 500</td><td style=\"text-align: right;\">                  22</td><td style=\"text-align: right;\">            231.96</td></tr>\n</tbody>\n</table><br><br>"
     },
     "metadata": {},
     "output_type": "display_data"
    },
    {
     "name": "stdout",
     "output_type": "stream",
     "text": [
      "Result for PPO_CartPole-v1_bd6e2_00000:\n",
      "  agent_timesteps_total: 36000\n",
      "  custom_metrics: {}\n",
      "  date: 2021-11-23_19-48-26\n",
      "  done: false\n",
      "  episode_len_mean: 262.68\n",
      "  episode_media: {}\n",
      "  episode_reward_max: 500.0\n",
      "  episode_reward_mean: 262.68\n",
      "  episode_reward_min: 23.0\n",
      "  episodes_this_iter: 9\n",
      "  episodes_total: 368\n",
      "  experiment_id: ada6434c43d44cc4854441944ca25a66\n",
      "  hostname: nb-stschn\n",
      "  info:\n",
      "    learner:\n",
      "      default_policy:\n",
      "        custom_metrics: {}\n",
      "        learner_stats:\n",
      "          cur_kl_coeff: 0.03750000149011612\n",
      "          cur_lr: 4.999999873689376e-05\n",
      "          entropy: 0.5338630676269531\n",
      "          entropy_coeff: 0.0\n",
      "          kl: 0.007856571115553379\n",
      "          model: {}\n",
      "          policy_loss: -0.023872433230280876\n",
      "          total_loss: 322.21954345703125\n",
      "          vf_explained_var: 0.245315819978714\n",
      "          vf_loss: 322.2431335449219\n",
      "    num_agent_steps_sampled: 36000\n",
      "    num_agent_steps_trained: 36000\n",
      "    num_steps_sampled: 36000\n",
      "    num_steps_trained: 36000\n",
      "    num_steps_trained_this_iter: 0\n",
      "  iterations_since_restore: 9\n",
      "  node_ip: 127.0.0.1\n",
      "  num_healthy_workers: 2\n",
      "  off_policy_estimator: {}\n",
      "  perf:\n",
      "    cpu_util_percent: 68.84444444444443\n",
      "    ram_util_percent: 82.88888888888889\n",
      "  pid: 9332\n",
      "  policy_reward_max: {}\n",
      "  policy_reward_mean: {}\n",
      "  policy_reward_min: {}\n",
      "  sampler_perf:\n",
      "    mean_action_processing_ms: 0.0811432695248291\n",
      "    mean_env_render_ms: 0.0\n",
      "    mean_env_wait_ms: 0.09879980490397404\n",
      "    mean_inference_ms: 1.380473521421992\n",
      "    mean_raw_obs_processing_ms: 0.1275865818305654\n",
      "  time_since_restore: 61.216761350631714\n",
      "  time_this_iter_s: 6.716862440109253\n",
      "  time_total_s: 61.216761350631714\n",
      "  timers:\n",
      "    learn_throughput: 1182.524\n",
      "    learn_time_ms: 3382.596\n",
      "    load_throughput: 35865782.423\n",
      "    load_time_ms: 0.112\n",
      "    sample_throughput: 618.128\n",
      "    sample_time_ms: 6471.147\n",
      "    update_time_ms: 3.589\n",
      "  timestamp: 1637693306\n",
      "  timesteps_since_restore: 0\n",
      "  timesteps_this_iter: 0\n",
      "  timesteps_total: 36000\n",
      "  training_iteration: 9\n",
      "  trial_id: bd6e2_00000\n",
      "  \n"
     ]
    },
    {
     "data": {
      "text/plain": "<IPython.core.display.HTML object>",
      "text/html": "== Status ==<br>Current time: 2021-11-23 19:48:28 (running for 00:01:29.58)<br>Memory usage on this node: 9.9/11.9 GiB<br>Using FIFO scheduling algorithm.<br>Resources requested: 3.0/3 CPUs, 0/0 GPUs, 0.0/1.4 GiB heap, 0.0/0.7 GiB objects<br>Result logdir: C:\\Users\\Stefan\\ray_results\\PPO<br>Number of trials: 1/1 (1 RUNNING)<br><table>\n<thead>\n<tr><th>Trial name                 </th><th>status  </th><th>loc           </th><th style=\"text-align: right;\">  iter</th><th style=\"text-align: right;\">  total time (s)</th><th style=\"text-align: right;\">   ts</th><th style=\"text-align: right;\">  reward</th><th style=\"text-align: right;\">  episode_reward_max</th><th style=\"text-align: right;\">  episode_reward_min</th><th style=\"text-align: right;\">  episode_len_mean</th></tr>\n</thead>\n<tbody>\n<tr><td>PPO_CartPole-v1_bd6e2_00000</td><td>RUNNING </td><td>127.0.0.1:9332</td><td style=\"text-align: right;\">     9</td><td style=\"text-align: right;\">         61.2168</td><td style=\"text-align: right;\">36000</td><td style=\"text-align: right;\">  262.68</td><td style=\"text-align: right;\">                 500</td><td style=\"text-align: right;\">                  23</td><td style=\"text-align: right;\">            262.68</td></tr>\n</tbody>\n</table><br><br>"
     },
     "metadata": {},
     "output_type": "display_data"
    },
    {
     "name": "stdout",
     "output_type": "stream",
     "text": [
      "Result for PPO_CartPole-v1_bd6e2_00000:\n",
      "  agent_timesteps_total: 40000\n",
      "  custom_metrics: {}\n",
      "  date: 2021-11-23_19-48-33\n",
      "  done: true\n",
      "  episode_len_mean: 293.67\n",
      "  episode_media: {}\n",
      "  episode_reward_max: 500.0\n",
      "  episode_reward_mean: 293.67\n",
      "  episode_reward_min: 23.0\n",
      "  episodes_this_iter: 8\n",
      "  episodes_total: 376\n",
      "  experiment_id: ada6434c43d44cc4854441944ca25a66\n",
      "  hostname: nb-stschn\n",
      "  info:\n",
      "    learner:\n",
      "      default_policy:\n",
      "        custom_metrics: {}\n",
      "        learner_stats:\n",
      "          cur_kl_coeff: 0.03750000149011612\n",
      "          cur_lr: 4.999999873689376e-05\n",
      "          entropy: 0.5301569700241089\n",
      "          entropy_coeff: 0.0\n",
      "          kl: 0.003627386409789324\n",
      "          model: {}\n",
      "          policy_loss: -0.014947282150387764\n",
      "          total_loss: 501.4374694824219\n",
      "          vf_explained_var: -0.0290857944637537\n",
      "          vf_loss: 501.4522705078125\n",
      "    num_agent_steps_sampled: 40000\n",
      "    num_agent_steps_trained: 40000\n",
      "    num_steps_sampled: 40000\n",
      "    num_steps_trained: 40000\n",
      "    num_steps_trained_this_iter: 0\n",
      "  iterations_since_restore: 10\n",
      "  node_ip: 127.0.0.1\n",
      "  num_healthy_workers: 2\n",
      "  off_policy_estimator: {}\n",
      "  perf:\n",
      "    cpu_util_percent: 67.72999999999999\n",
      "    ram_util_percent: 82.9\n",
      "  pid: 9332\n",
      "  policy_reward_max: {}\n",
      "  policy_reward_mean: {}\n",
      "  policy_reward_min: {}\n",
      "  sampler_perf:\n",
      "    mean_action_processing_ms: 0.08066479833841124\n",
      "    mean_env_render_ms: 0.0\n",
      "    mean_env_wait_ms: 0.09868370561224364\n",
      "    mean_inference_ms: 1.3787463257944534\n",
      "    mean_raw_obs_processing_ms: 0.12667667753095402\n",
      "  time_since_restore: 67.84992170333862\n",
      "  time_this_iter_s: 6.633160352706909\n",
      "  time_total_s: 67.84992170333862\n",
      "  timers:\n",
      "    learn_throughput: 1186.015\n",
      "    learn_time_ms: 3372.637\n",
      "    load_throughput: 39850869.359\n",
      "    load_time_ms: 0.1\n",
      "    sample_throughput: 616.427\n",
      "    sample_time_ms: 6489.005\n",
      "    update_time_ms: 3.23\n",
      "  timestamp: 1637693313\n",
      "  timesteps_since_restore: 0\n",
      "  timesteps_this_iter: 0\n",
      "  timesteps_total: 40000\n",
      "  training_iteration: 10\n",
      "  trial_id: bd6e2_00000\n",
      "  \n"
     ]
    },
    {
     "data": {
      "text/plain": "<IPython.core.display.HTML object>",
      "text/html": "== Status ==<br>Current time: 2021-11-23 19:48:33 (running for 00:01:34.28)<br>Memory usage on this node: 9.9/11.9 GiB<br>Using FIFO scheduling algorithm.<br>Resources requested: 0/3 CPUs, 0/0 GPUs, 0.0/1.4 GiB heap, 0.0/0.7 GiB objects<br>Result logdir: C:\\Users\\Stefan\\ray_results\\PPO<br>Number of trials: 1/1 (1 TERMINATED)<br><table>\n<thead>\n<tr><th>Trial name                 </th><th>status    </th><th>loc           </th><th style=\"text-align: right;\">  iter</th><th style=\"text-align: right;\">  total time (s)</th><th style=\"text-align: right;\">   ts</th><th style=\"text-align: right;\">  reward</th><th style=\"text-align: right;\">  episode_reward_max</th><th style=\"text-align: right;\">  episode_reward_min</th><th style=\"text-align: right;\">  episode_len_mean</th></tr>\n</thead>\n<tbody>\n<tr><td>PPO_CartPole-v1_bd6e2_00000</td><td>TERMINATED</td><td>127.0.0.1:9332</td><td style=\"text-align: right;\">    10</td><td style=\"text-align: right;\">         67.8499</td><td style=\"text-align: right;\">40000</td><td style=\"text-align: right;\">  293.67</td><td style=\"text-align: right;\">                 500</td><td style=\"text-align: right;\">                  23</td><td style=\"text-align: right;\">            293.67</td></tr>\n</tbody>\n</table><br><br>"
     },
     "metadata": {},
     "output_type": "display_data"
    },
    {
     "name": "stderr",
     "output_type": "stream",
     "text": [
      "\u001B[2m\u001B[36m(pid=9332)\u001B[0m [2021-11-23 19:48:34,182 E 9332 1660] raylet_client.cc:159: IOError: Unknown error [RayletClient] Failed to disconnect from raylet.\r\n",
      "\u001B[2m\u001B[36m(pid=9332)\u001B[0m Windows fatal exception: access violation\n",
      "\u001B[2m\u001B[36m(pid=9332)\u001B[0m \n",
      "\u001B[2m\u001B[36m(pid=5972)\u001B[0m [2021-11-23 19:48:34,205 C 5972 17072] core_worker.cc:796:  Check failed: _s.ok() Bad status: IOError: Unknown error\n",
      "\u001B[2m\u001B[36m(pid=5972)\u001B[0m *** StackTrace Information ***\n",
      "\u001B[2m\u001B[36m(pid=5972)\u001B[0m     PyInit__raylet\n",
      "\u001B[2m\u001B[36m(pid=5972)\u001B[0m     PyInit__raylet\n",
      "\u001B[2m\u001B[36m(pid=5972)\u001B[0m     PyInit__raylet\n",
      "\u001B[2m\u001B[36m(pid=5972)\u001B[0m     PyInit__raylet\n",
      "\u001B[2m\u001B[36m(pid=5972)\u001B[0m     PyInit__raylet\n",
      "\u001B[2m\u001B[36m(pid=5972)\u001B[0m     PyInit__raylet\n",
      "\u001B[2m\u001B[36m(pid=5972)\u001B[0m     PyInit__raylet\n",
      "\u001B[2m\u001B[36m(pid=5972)\u001B[0m     PyInit__raylet\n",
      "\u001B[2m\u001B[36m(pid=5972)\u001B[0m     PyInit__raylet\n",
      "\u001B[2m\u001B[36m(pid=5972)\u001B[0m     PyInit__raylet\n",
      "\u001B[2m\u001B[36m(pid=5972)\u001B[0m     PyInit__raylet\n",
      "\u001B[2m\u001B[36m(pid=5972)\u001B[0m     PyInit__raylet\n",
      "\u001B[2m\u001B[36m(pid=5972)\u001B[0m     PyInit__raylet\n",
      "\u001B[2m\u001B[36m(pid=5972)\u001B[0m     PyInit__raylet\n",
      "\u001B[2m\u001B[36m(pid=5972)\u001B[0m     PyInit__raylet\n",
      "\u001B[2m\u001B[36m(pid=5972)\u001B[0m     PyInit__raylet\n",
      "\u001B[2m\u001B[36m(pid=5972)\u001B[0m     PyNumber_InPlaceLshift\n",
      "\u001B[2m\u001B[36m(pid=5972)\u001B[0m     Py_CheckFunctionResult\n",
      "\u001B[2m\u001B[36m(pid=5972)\u001B[0m     PyEval_EvalFrameDefault\n",
      "\u001B[2m\u001B[36m(pid=5972)\u001B[0m     Py_CheckFunctionResult\n",
      "\u001B[2m\u001B[36m(pid=5972)\u001B[0m     PyEval_EvalFrameDefault\n",
      "\u001B[2m\u001B[36m(pid=5972)\u001B[0m     PyEval_EvalCodeWithName\n",
      "\u001B[2m\u001B[36m(pid=5972)\u001B[0m     PyEval_EvalCodeEx\n",
      "\u001B[2m\u001B[36m(pid=5972)\u001B[0m     PyEval_EvalCode\n",
      "\u001B[2m\u001B[36m(pid=5972)\u001B[0m     PyArena_New\n",
      "\u001B[2m\u001B[36m(pid=5972)\u001B[0m     PyArena_New\n",
      "\u001B[2m\u001B[36m(pid=5972)\u001B[0m     PyRun_FileExFlags\n",
      "\u001B[2m\u001B[36m(pid=5972)\u001B[0m     PyRun_SimpleFileExFlags\n",
      "\u001B[2m\u001B[36m(pid=5972)\u001B[0m     PyRun_AnyFileExFlags\n",
      "\u001B[2m\u001B[36m(pid=5972)\u001B[0m     Py_FatalError\n",
      "\u001B[2m\u001B[36m(pid=5972)\u001B[0m     Py_RunMain\n",
      "\u001B[2m\u001B[36m(pid=5972)\u001B[0m     Py_RunMain\n",
      "\u001B[2m\u001B[36m(pid=5972)\u001B[0m     Py_Main\n",
      "\u001B[2m\u001B[36m(pid=5972)\u001B[0m     BaseThreadInitThunk\n",
      "\u001B[2m\u001B[36m(pid=5972)\u001B[0m     RtlUserThreadStart\n",
      "\u001B[2m\u001B[36m(pid=5972)\u001B[0m \r\n",
      "\u001B[2m\u001B[36m(pid=6508)\u001B[0m [2021-11-23 19:48:34,220 C 6508 9932] core_worker.cc:796:  Check failed: _s.ok() Bad status: IOError: Unknown error\n",
      "\u001B[2m\u001B[36m(pid=6508)\u001B[0m *** StackTrace Information ***\n",
      "\u001B[2m\u001B[36m(pid=6508)\u001B[0m     PyInit__raylet\n",
      "\u001B[2m\u001B[36m(pid=6508)\u001B[0m     PyInit__raylet\n",
      "\u001B[2m\u001B[36m(pid=6508)\u001B[0m     PyInit__raylet\n",
      "\u001B[2m\u001B[36m(pid=6508)\u001B[0m     PyInit__raylet\n",
      "\u001B[2m\u001B[36m(pid=6508)\u001B[0m     PyInit__raylet\n",
      "\u001B[2m\u001B[36m(pid=6508)\u001B[0m     PyInit__raylet\n",
      "\u001B[2m\u001B[36m(pid=6508)\u001B[0m     PyInit__raylet\n",
      "\u001B[2m\u001B[36m(pid=6508)\u001B[0m     PyInit__raylet\n",
      "\u001B[2m\u001B[36m(pid=6508)\u001B[0m     PyInit__raylet\n",
      "\u001B[2m\u001B[36m(pid=6508)\u001B[0m     PyInit__raylet\n",
      "\u001B[2m\u001B[36m(pid=6508)\u001B[0m     PyInit__raylet\n",
      "\u001B[2m\u001B[36m(pid=6508)\u001B[0m     PyInit__raylet\n",
      "\u001B[2m\u001B[36m(pid=6508)\u001B[0m     PyInit__raylet\n",
      "\u001B[2m\u001B[36m(pid=6508)\u001B[0m     PyInit__raylet\n",
      "\u001B[2m\u001B[36m(pid=6508)\u001B[0m     PyInit__raylet\n",
      "\u001B[2m\u001B[36m(pid=6508)\u001B[0m     PyInit__raylet\n",
      "\u001B[2m\u001B[36m(pid=6508)\u001B[0m     PyNumber_InPlaceLshift\n",
      "\u001B[2m\u001B[36m(pid=6508)\u001B[0m     Py_CheckFunctionResult\n",
      "\u001B[2m\u001B[36m(pid=6508)\u001B[0m     PyEval_EvalFrameDefault\n",
      "\u001B[2m\u001B[36m(pid=6508)\u001B[0m     Py_CheckFunctionResult\n",
      "\u001B[2m\u001B[36m(pid=6508)\u001B[0m     PyEval_EvalFrameDefault\n",
      "\u001B[2m\u001B[36m(pid=6508)\u001B[0m     PyEval_EvalCodeWithName\n",
      "\u001B[2m\u001B[36m(pid=6508)\u001B[0m     PyEval_EvalCodeEx\n",
      "\u001B[2m\u001B[36m(pid=6508)\u001B[0m     PyEval_EvalCode\n",
      "\u001B[2m\u001B[36m(pid=6508)\u001B[0m     PyArena_New\n",
      "\u001B[2m\u001B[36m(pid=6508)\u001B[0m     PyArena_New\n",
      "\u001B[2m\u001B[36m(pid=6508)\u001B[0m     PyRun_FileExFlags\n",
      "\u001B[2m\u001B[36m(pid=6508)\u001B[0m     PyRun_SimpleFileExFlags\n",
      "\u001B[2m\u001B[36m(pid=6508)\u001B[0m     PyRun_AnyFileExFlags\n",
      "\u001B[2m\u001B[36m(pid=6508)\u001B[0m     Py_FatalError\n",
      "\u001B[2m\u001B[36m(pid=6508)\u001B[0m     Py_RunMain\n",
      "\u001B[2m\u001B[36m(pid=6508)\u001B[0m     Py_RunMain\n",
      "\u001B[2m\u001B[36m(pid=6508)\u001B[0m     Py_Main\n",
      "\u001B[2m\u001B[36m(pid=6508)\u001B[0m     BaseThreadInitThunk\n",
      "\u001B[2m\u001B[36m(pid=6508)\u001B[0m     RtlUserThreadStart\n",
      "\u001B[2m\u001B[36m(pid=6508)\u001B[0m \r\n",
      "\u001B[2m\u001B[36m(pid=5972)\u001B[0m Windows fatal exception: access violation\n",
      "\u001B[2m\u001B[36m(pid=5972)\u001B[0m \n",
      "\u001B[2m\u001B[36m(pid=5972)\u001B[0m Stack (most recent call first):\n",
      "\u001B[2m\u001B[36m(pid=5972)\u001B[0m   File \"c:\\users\\stefan\\git-repos\\private\\blog\\venv\\lib\\site-packages\\ray\\worker.py\", line 425 in main_loop\n",
      "\u001B[2m\u001B[36m(pid=5972)\u001B[0m   File \"\n",
      "\u001B[2m\u001B[36m(pid=6508)\u001B[0m Windows fatal exception: access violation\n",
      "\u001B[2m\u001B[36m(pid=6508)\u001B[0m \n",
      "\u001B[2m\u001B[36m(pid=6508)\u001B[0m Stack (most recent call first):\n",
      "\u001B[2m\u001B[36m(pid=6508)\u001B[0m   File \"c:\\users\\stefan\\git-repos\\private\\blog\\venv\\lib\\site-packages\\ray\\worker.py\", line 425 in main_loop\n",
      "\u001B[2m\u001B[36m(pid=6508)\u001B[0m   File \"c:\\users\\stefan\\git-repos\\private\\blog\\venv\\lib\\site-packages\\ray\\workers/default_worker.py\", line 218 in <module>\n",
      "\u001B[2m\u001B[36m(pid=5972)\u001B[0m c:\\users\\stefan\\git-repos\\private\\blog\\venv\\lib\\site-packages\\ray\\workers/\n",
      "\u001B[2m\u001B[36m(pid=5972)\u001B[0m d\n",
      "\u001B[2m\u001B[36m(pid=5972)\u001B[0m e\n",
      "\u001B[2m\u001B[36m(pid=5972)\u001B[0m fau\n",
      "\u001B[2m\u001B[36m(pid=5972)\u001B[0m l\n",
      "\u001B[2m\u001B[36m(pid=5972)\u001B[0m t\n",
      "\u001B[2m\u001B[36m(pid=5972)\u001B[0m _w\n",
      "\u001B[2m\u001B[36m(pid=5972)\u001B[0m ork\n",
      "\u001B[2m\u001B[36m(pid=5972)\u001B[0m er.p\n",
      "\u001B[2m\u001B[36m(pid=5972)\u001B[0m y\n",
      "\u001B[2m\u001B[36m(pid=5972)\u001B[0m \", line 218 in <m\n",
      "\u001B[2m\u001B[36m(pid=5972)\u001B[0m o\n",
      "\u001B[2m\u001B[36m(pid=5972)\u001B[0m dule>\n",
      "2021-11-23 19:48:34,300\tINFO tune.py:630 -- Total run time: 94.92 seconds (94.22 seconds for the tuning loop).\n"
     ]
    },
    {
     "name": "stdout",
     "output_type": "stream",
     "text": [
      "Option 1: Training finished successfully\n"
     ]
    }
   ],
   "source": [
    "#collapse-output\n",
    "\n",
    "from ray.rllib.agents import ppo\n",
    "\n",
    "# run PPO on the default CartPole-v1 env\n",
    "config1 = ppo.DEFAULT_CONFIG.copy()\n",
    "config1[\"env\"] = \"CartPole-v1\"\n",
    "\n",
    "# training takes a while\n",
    "results1 = ray.tune.run(\"PPO\", config=config1, stop=stop)\n",
    "print(\"Option 1: Training finished successfully\")"
   ]
  },
  {
   "cell_type": "code",
   "execution_count": 36,
   "outputs": [
    {
     "data": {
      "text/plain": "293.67"
     },
     "execution_count": 36,
     "metadata": {},
     "output_type": "execute_result"
    }
   ],
   "source": [
    "# check results\n",
    "results1.default_metric = \"episode_reward_mean\"\n",
    "results1.default_mode = \"max\"\n",
    "# print mean number of time steps the pole was balanced (higher = better)\n",
    "results1.best_result[\"episode_reward_mean\"]"
   ],
   "metadata": {
    "collapsed": false,
    "pycharm": {
     "name": "#%%\n"
    }
   }
  },
  {
   "cell_type": "code",
   "execution_count": 37,
   "outputs": [
    {
     "name": "stderr",
     "output_type": "stream",
     "text": [
      "c:\\users\\stefan\\git-repos\\private\\blog\\venv\\lib\\site-packages\\seaborn\\_decorators.py:36: FutureWarning: Pass the following variables as keyword args: x, y. From version 0.12, the only valid positional argument will be `data`, and passing other arguments without an explicit keyword will result in an error or misinterpretation.\n",
      "  warnings.warn(\n"
     ]
    },
    {
     "data": {
      "text/plain": "<Figure size 432x288 with 1 Axes>",
      "image/png": "[encoded data removed]"
     },
     "metadata": {
      "needs_background": "light"
     },
     "output_type": "display_data"
    }
   ],
   "source": [
    "# plot the last 100 episode rewards\n",
    "import seaborn as sns\n",
    "\n",
    "def plot_rewards(results):\n",
    "    \"\"\"Plot scatter plot of the last 100 training episodes\"\"\"\n",
    "    eps_rewards = results.best_result[\"hist_stats\"][\"episode_reward\"]\n",
    "    eps = [i for i in range(len(eps_rewards))]\n",
    "    ax = sns.scatterplot(eps, eps_rewards)\n",
    "    ax.set_title(\"Reward over the last 100 Episodes\")\n",
    "    ax.set_xlabel(\"Episodes\")\n",
    "    ax.set_ylabel(\"Episode Reward\")\n",
    "\n",
    "\n",
    "plot_rewards(results1)\n"
   ],
   "metadata": {
    "collapsed": false,
    "pycharm": {
     "name": "#%%\n"
    }
   }
  },
  {
   "cell_type": "markdown",
   "source": [
    "## Option 2: Ignore Missing State\n",
    "\n",
    "In many practical"
   ],
   "metadata": {
    "collapsed": false,
    "pycharm": {
     "name": "#%% md\n"
    }
   }
  },
  {
   "cell_type": "code",
   "execution_count": 38,
   "outputs": [
    {
     "data": {
      "text/plain": "<IPython.core.display.HTML object>",
      "text/html": "== Status ==<br>Current time: 2021-11-23 19:48:34 (running for 00:00:00.13)<br>Memory usage on this node: 9.1/11.9 GiB<br>Using FIFO scheduling algorithm.<br>Resources requested: 0/3 CPUs, 0/0 GPUs, 0.0/1.4 GiB heap, 0.0/0.7 GiB objects<br>Result logdir: C:\\Users\\Stefan\\ray_results\\PPO<br>Number of trials: 1/1 (1 PENDING)<br><table>\n<thead>\n<tr><th>Trial name                       </th><th>status  </th><th>loc  </th></tr>\n</thead>\n<tbody>\n<tr><td>PPO_StatelessCartPole_f6243_00000</td><td>PENDING </td><td>     </td></tr>\n</tbody>\n</table><br><br>"
     },
     "metadata": {},
     "output_type": "display_data"
    },
    {
     "name": "stderr",
     "output_type": "stream",
     "text": [
      "\u001B[2m\u001B[36m(pid=None)\u001B[0m c:\\users\\stefan\\git-repos\\private\\blog\\venv\\lib\\site-packages\\redis\\connection.py:77: UserWarning: redis-py works best with hiredis. Please consider installing\r\n",
      "\u001B[2m\u001B[36m(pid=None)\u001B[0m   warnings.warn(msg)\r\n"
     ]
    },
    {
     "data": {
      "text/plain": "<IPython.core.display.HTML object>",
      "text/html": "== Status ==<br>Current time: 2021-11-23 19:48:39 (running for 00:00:05.14)<br>Memory usage on this node: 9.1/11.9 GiB<br>Using FIFO scheduling algorithm.<br>Resources requested: 0/3 CPUs, 0/0 GPUs, 0.0/1.4 GiB heap, 0.0/0.7 GiB objects<br>Result logdir: C:\\Users\\Stefan\\ray_results\\PPO<br>Number of trials: 1/1 (1 PENDING)<br><table>\n<thead>\n<tr><th>Trial name                       </th><th>status  </th><th>loc  </th></tr>\n</thead>\n<tbody>\n<tr><td>PPO_StatelessCartPole_f6243_00000</td><td>PENDING </td><td>     </td></tr>\n</tbody>\n</table><br><br>"
     },
     "metadata": {},
     "output_type": "display_data"
    },
    {
     "name": "stderr",
     "output_type": "stream",
     "text": [
      "\u001B[2m\u001B[36m(pid=15776)\u001B[0m 2021-11-23 19:48:45,935\tINFO trainer.py:753 -- Tip: set framework=tfe or the --eager flag to enable TensorFlow eager execution\r\n",
      "\u001B[2m\u001B[36m(pid=15776)\u001B[0m 2021-11-23 19:48:45,935\tINFO ppo.py:166 -- In multi-agent mode, policies will be optimized sequentially by the multi-GPU optimizer. Consider setting simple_optimizer=True if this doesn't work for you.\r\n",
      "\u001B[2m\u001B[36m(pid=15776)\u001B[0m 2021-11-23 19:48:45,935\tINFO trainer.py:770 -- Current log_level is WARN. For more information, set 'log_level': 'INFO' / 'DEBUG' or use the -v and -vv flags.\r\n",
      "\u001B[2m\u001B[36m(pid=None)\u001B[0m c:\\users\\stefan\\git-repos\\private\\blog\\venv\\lib\\site-packages\\redis\\connection.py:77: UserWarning: redis-py works best with hiredis. Please consider installing\r\n",
      "\u001B[2m\u001B[36m(pid=None)\u001B[0m   warnings.warn(msg)\r\n",
      "\u001B[2m\u001B[36m(pid=None)\u001B[0m c:\\users\\stefan\\git-repos\\private\\blog\\venv\\lib\\site-packages\\redis\\connection.py:77: UserWarning: redis-py works best with hiredis. Please consider installing\r\n",
      "\u001B[2m\u001B[36m(pid=None)\u001B[0m   warnings.warn(msg)\r\n",
      "\u001B[2m\u001B[36m(pid=24480)\u001B[0m 2021-11-23 19:48:59,018\tWARNING deprecation.py:38 -- DeprecationWarning: `SampleBatch['is_training']` has been deprecated. Use `SampleBatch.is_training` instead. This will raise an error in the future!\r\n",
      "\u001B[2m\u001B[36m(pid=15776)\u001B[0m 2021-11-23 19:49:00,468\tWARNING deprecation.py:38 -- DeprecationWarning: `SampleBatch['is_training']` has been deprecated. Use `SampleBatch.is_training` instead. This will raise an error in the future!\r\n"
     ]
    },
    {
     "data": {
      "text/plain": "<IPython.core.display.HTML object>",
      "text/html": "== Status ==<br>Current time: 2021-11-23 19:49:01 (running for 00:00:26.94)<br>Memory usage on this node: 9.9/11.9 GiB<br>Using FIFO scheduling algorithm.<br>Resources requested: 3.0/3 CPUs, 0/0 GPUs, 0.0/1.4 GiB heap, 0.0/0.7 GiB objects<br>Result logdir: C:\\Users\\Stefan\\ray_results\\PPO<br>Number of trials: 1/1 (1 RUNNING)<br><table>\n<thead>\n<tr><th>Trial name                       </th><th>status  </th><th>loc            </th></tr>\n</thead>\n<tbody>\n<tr><td>PPO_StatelessCartPole_f6243_00000</td><td>RUNNING </td><td>127.0.0.1:15776</td></tr>\n</tbody>\n</table><br><br>"
     },
     "metadata": {},
     "output_type": "display_data"
    },
    {
     "name": "stderr",
     "output_type": "stream",
     "text": [
      "\u001B[2m\u001B[36m(pid=15776)\u001B[0m 2021-11-23 19:49:01,452\tWARNING trainer_template.py:185 -- `execution_plan` functions should accept `trainer`, `workers`, and `config` as args!\r\n",
      "\u001B[2m\u001B[36m(pid=15776)\u001B[0m 2021-11-23 19:49:01,452\tINFO trainable.py:110 -- Trainable.setup took 15.517 seconds. If your trainable is slow to initialize, consider setting reuse_actors=True to reduce actor creation overheads.\r\n",
      "\u001B[2m\u001B[36m(pid=15776)\u001B[0m 2021-11-23 19:49:01,468\tWARNING util.py:57 -- Install gputil for GPU system monitoring.\r\n"
     ]
    },
    {
     "data": {
      "text/plain": "<IPython.core.display.HTML object>",
      "text/html": "== Status ==<br>Current time: 2021-11-23 19:49:02 (running for 00:00:27.96)<br>Memory usage on this node: 9.9/11.9 GiB<br>Using FIFO scheduling algorithm.<br>Resources requested: 3.0/3 CPUs, 0/0 GPUs, 0.0/1.4 GiB heap, 0.0/0.7 GiB objects<br>Result logdir: C:\\Users\\Stefan\\ray_results\\PPO<br>Number of trials: 1/1 (1 RUNNING)<br><table>\n<thead>\n<tr><th>Trial name                       </th><th>status  </th><th>loc            </th></tr>\n</thead>\n<tbody>\n<tr><td>PPO_StatelessCartPole_f6243_00000</td><td>RUNNING </td><td>127.0.0.1:15776</td></tr>\n</tbody>\n</table><br><br>"
     },
     "metadata": {},
     "output_type": "display_data"
    },
    {
     "name": "stderr",
     "output_type": "stream",
     "text": [
      "\u001B[2m\u001B[36m(pid=15776)\u001B[0m 2021-11-23 19:49:05,068\tWARNING deprecation.py:38 -- DeprecationWarning: `slice` has been deprecated. Use `SampleBatch[start:stop]` instead. This will raise an error in the future!\r\n"
     ]
    },
    {
     "data": {
      "text/plain": "<IPython.core.display.HTML object>",
      "text/html": "== Status ==<br>Current time: 2021-11-23 19:49:07 (running for 00:00:33.03)<br>Memory usage on this node: 9.9/11.9 GiB<br>Using FIFO scheduling algorithm.<br>Resources requested: 3.0/3 CPUs, 0/0 GPUs, 0.0/1.4 GiB heap, 0.0/0.7 GiB objects<br>Result logdir: C:\\Users\\Stefan\\ray_results\\PPO<br>Number of trials: 1/1 (1 RUNNING)<br><table>\n<thead>\n<tr><th>Trial name                       </th><th>status  </th><th>loc            </th></tr>\n</thead>\n<tbody>\n<tr><td>PPO_StatelessCartPole_f6243_00000</td><td>RUNNING </td><td>127.0.0.1:15776</td></tr>\n</tbody>\n</table><br><br>"
     },
     "metadata": {},
     "output_type": "display_data"
    },
    {
     "name": "stdout",
     "output_type": "stream",
     "text": [
      "Result for PPO_StatelessCartPole_f6243_00000:\n",
      "  agent_timesteps_total: 4000\n",
      "  custom_metrics: {}\n",
      "  date: 2021-11-23_19-49-08\n",
      "  done: false\n",
      "  episode_len_mean: 20.723958333333332\n",
      "  episode_media: {}\n",
      "  episode_reward_max: 64.0\n",
      "  episode_reward_mean: 20.723958333333332\n",
      "  episode_reward_min: 9.0\n",
      "  episodes_this_iter: 192\n",
      "  episodes_total: 192\n",
      "  experiment_id: e1ee612c6c3f4f48a9f19984a409dc5c\n",
      "  hostname: nb-stschn\n",
      "  info:\n",
      "    learner:\n",
      "      default_policy:\n",
      "        custom_metrics: {}\n",
      "        learner_stats:\n",
      "          cur_kl_coeff: 0.20000000298023224\n",
      "          cur_lr: 4.999999873689376e-05\n",
      "          entropy: 0.6812710165977478\n",
      "          entropy_coeff: 0.0\n",
      "          kl: 0.012129432521760464\n",
      "          model: {}\n",
      "          policy_loss: -0.019796958193182945\n",
      "          total_loss: 149.3815155029297\n",
      "          vf_explained_var: 0.007414208725094795\n",
      "          vf_loss: 149.39889526367188\n",
      "    num_agent_steps_sampled: 4000\n",
      "    num_agent_steps_trained: 4000\n",
      "    num_steps_sampled: 4000\n",
      "    num_steps_trained: 4000\n",
      "  iterations_since_restore: 1\n",
      "  node_ip: 127.0.0.1\n",
      "  num_healthy_workers: 2\n",
      "  off_policy_estimator: {}\n",
      "  perf:\n",
      "    cpu_util_percent: 63.45454545454545\n",
      "    ram_util_percent: 83.53636363636363\n",
      "  pid: 15776\n",
      "  policy_reward_max: {}\n",
      "  policy_reward_mean: {}\n",
      "  policy_reward_min: {}\n",
      "  sampler_perf:\n",
      "    mean_action_processing_ms: 0.07648677423201698\n",
      "    mean_env_render_ms: 0.0\n",
      "    mean_env_wait_ms: 0.09130326962443208\n",
      "    mean_inference_ms: 1.3772258331790361\n",
      "    mean_raw_obs_processing_ms: 0.19347365351690762\n",
      "  time_since_restore: 7.172215700149536\n",
      "  time_this_iter_s: 7.172215700149536\n",
      "  time_total_s: 7.172215700149536\n",
      "  timers:\n",
      "    learn_throughput: 1121.407\n",
      "    learn_time_ms: 3566.947\n",
      "    load_throughput: 0.0\n",
      "    load_time_ms: 0.0\n",
      "    sample_throughput: 1107.595\n",
      "    sample_time_ms: 3611.43\n",
      "    update_time_ms: 16.655\n",
      "  timestamp: 1637693348\n",
      "  timesteps_since_restore: 0\n",
      "  timesteps_this_iter: 0\n",
      "  timesteps_total: 4000\n",
      "  training_iteration: 1\n",
      "  trial_id: f6243_00000\n",
      "  \n"
     ]
    },
    {
     "data": {
      "text/plain": "<IPython.core.display.HTML object>",
      "text/html": "== Status ==<br>Current time: 2021-11-23 19:49:12 (running for 00:00:38.23)<br>Memory usage on this node: 9.9/11.9 GiB<br>Using FIFO scheduling algorithm.<br>Resources requested: 3.0/3 CPUs, 0/0 GPUs, 0.0/1.4 GiB heap, 0.0/0.7 GiB objects<br>Result logdir: C:\\Users\\Stefan\\ray_results\\PPO<br>Number of trials: 1/1 (1 RUNNING)<br><table>\n<thead>\n<tr><th>Trial name                       </th><th>status  </th><th>loc            </th><th style=\"text-align: right;\">  iter</th><th style=\"text-align: right;\">  total time (s)</th><th style=\"text-align: right;\">  ts</th><th style=\"text-align: right;\">  reward</th><th style=\"text-align: right;\">  episode_reward_max</th><th style=\"text-align: right;\">  episode_reward_min</th><th style=\"text-align: right;\">  episode_len_mean</th></tr>\n</thead>\n<tbody>\n<tr><td>PPO_StatelessCartPole_f6243_00000</td><td>RUNNING </td><td>127.0.0.1:15776</td><td style=\"text-align: right;\">     1</td><td style=\"text-align: right;\">         7.17222</td><td style=\"text-align: right;\">4000</td><td style=\"text-align: right;\">  20.724</td><td style=\"text-align: right;\">                  64</td><td style=\"text-align: right;\">                   9</td><td style=\"text-align: right;\">            20.724</td></tr>\n</tbody>\n</table><br><br>"
     },
     "metadata": {},
     "output_type": "display_data"
    },
    {
     "name": "stdout",
     "output_type": "stream",
     "text": [
      "Result for PPO_StatelessCartPole_f6243_00000:\n",
      "  agent_timesteps_total: 8000\n",
      "  custom_metrics: {}\n",
      "  date: 2021-11-23_19-49-15\n",
      "  done: false\n",
      "  episode_len_mean: 27.685314685314687\n",
      "  episode_media: {}\n",
      "  episode_reward_max: 77.0\n",
      "  episode_reward_mean: 27.685314685314687\n",
      "  episode_reward_min: 10.0\n",
      "  episodes_this_iter: 143\n",
      "  episodes_total: 335\n",
      "  experiment_id: e1ee612c6c3f4f48a9f19984a409dc5c\n",
      "  hostname: nb-stschn\n",
      "  info:\n",
      "    learner:\n",
      "      default_policy:\n",
      "        custom_metrics: {}\n",
      "        learner_stats:\n",
      "          cur_kl_coeff: 0.20000000298023224\n",
      "          cur_lr: 4.999999873689376e-05\n",
      "          entropy: 0.6397432684898376\n",
      "          entropy_coeff: 0.0\n",
      "          kl: 0.014385893940925598\n",
      "          model: {}\n",
      "          policy_loss: -0.024019667878746986\n",
      "          total_loss: 124.4566650390625\n",
      "          vf_explained_var: 0.03795936703681946\n",
      "          vf_loss: 124.4778060913086\n",
      "    num_agent_steps_sampled: 8000\n",
      "    num_agent_steps_trained: 8000\n",
      "    num_steps_sampled: 8000\n",
      "    num_steps_trained: 8000\n",
      "    num_steps_trained_this_iter: 0\n",
      "  iterations_since_restore: 2\n",
      "  node_ip: 127.0.0.1\n",
      "  num_healthy_workers: 2\n",
      "  off_policy_estimator: {}\n",
      "  perf:\n",
      "    cpu_util_percent: 66.28888888888889\n",
      "    ram_util_percent: 83.6\n",
      "  pid: 15776\n",
      "  policy_reward_max: {}\n",
      "  policy_reward_mean: {}\n",
      "  policy_reward_min: {}\n",
      "  sampler_perf:\n",
      "    mean_action_processing_ms: 0.0674684653726705\n",
      "    mean_env_render_ms: 0.0\n",
      "    mean_env_wait_ms: 0.10436432086360654\n",
      "    mean_inference_ms: 1.3726427800181444\n",
      "    mean_raw_obs_processing_ms: 0.17047277193303836\n",
      "  time_since_restore: 13.921866655349731\n",
      "  time_this_iter_s: 6.749650955200195\n",
      "  time_total_s: 13.921866655349731\n",
      "  timers:\n",
      "    learn_throughput: 1159.465\n",
      "    learn_time_ms: 3449.867\n",
      "    load_throughput: 0.0\n",
      "    load_time_ms: 0.0\n",
      "    sample_throughput: 751.582\n",
      "    sample_time_ms: 5322.108\n",
      "    update_time_ms: 8.327\n",
      "  timestamp: 1637693355\n",
      "  timesteps_since_restore: 0\n",
      "  timesteps_this_iter: 0\n",
      "  timesteps_total: 8000\n",
      "  training_iteration: 2\n",
      "  trial_id: f6243_00000\n",
      "  \n"
     ]
    },
    {
     "data": {
      "text/plain": "<IPython.core.display.HTML object>",
      "text/html": "== Status ==<br>Current time: 2021-11-23 19:49:18 (running for 00:00:43.99)<br>Memory usage on this node: 10.0/11.9 GiB<br>Using FIFO scheduling algorithm.<br>Resources requested: 3.0/3 CPUs, 0/0 GPUs, 0.0/1.4 GiB heap, 0.0/0.7 GiB objects<br>Result logdir: C:\\Users\\Stefan\\ray_results\\PPO<br>Number of trials: 1/1 (1 RUNNING)<br><table>\n<thead>\n<tr><th>Trial name                       </th><th>status  </th><th>loc            </th><th style=\"text-align: right;\">  iter</th><th style=\"text-align: right;\">  total time (s)</th><th style=\"text-align: right;\">  ts</th><th style=\"text-align: right;\">  reward</th><th style=\"text-align: right;\">  episode_reward_max</th><th style=\"text-align: right;\">  episode_reward_min</th><th style=\"text-align: right;\">  episode_len_mean</th></tr>\n</thead>\n<tbody>\n<tr><td>PPO_StatelessCartPole_f6243_00000</td><td>RUNNING </td><td>127.0.0.1:15776</td><td style=\"text-align: right;\">     2</td><td style=\"text-align: right;\">         13.9219</td><td style=\"text-align: right;\">8000</td><td style=\"text-align: right;\"> 27.6853</td><td style=\"text-align: right;\">                  77</td><td style=\"text-align: right;\">                  10</td><td style=\"text-align: right;\">           27.6853</td></tr>\n</tbody>\n</table><br><br>"
     },
     "metadata": {},
     "output_type": "display_data"
    },
    {
     "name": "stdout",
     "output_type": "stream",
     "text": [
      "Result for PPO_StatelessCartPole_f6243_00000:\n",
      "  agent_timesteps_total: 12000\n",
      "  custom_metrics: {}\n",
      "  date: 2021-11-23_19-49-22\n",
      "  done: false\n",
      "  episode_len_mean: 41.26\n",
      "  episode_media: {}\n",
      "  episode_reward_max: 130.0\n",
      "  episode_reward_mean: 41.26\n",
      "  episode_reward_min: 10.0\n",
      "  episodes_this_iter: 96\n",
      "  episodes_total: 431\n",
      "  experiment_id: e1ee612c6c3f4f48a9f19984a409dc5c\n",
      "  hostname: nb-stschn\n",
      "  info:\n",
      "    learner:\n",
      "      default_policy:\n",
      "        custom_metrics: {}\n",
      "        learner_stats:\n",
      "          cur_kl_coeff: 0.20000000298023224\n",
      "          cur_lr: 4.999999873689376e-05\n",
      "          entropy: 0.6044858694076538\n",
      "          entropy_coeff: 0.0\n",
      "          kl: 0.006583377253264189\n",
      "          model: {}\n",
      "          policy_loss: -0.010080553591251373\n",
      "          total_loss: 215.9619140625\n",
      "          vf_explained_var: 0.08694871515035629\n",
      "          vf_loss: 215.97067260742188\n",
      "    num_agent_steps_sampled: 12000\n",
      "    num_agent_steps_trained: 12000\n",
      "    num_steps_sampled: 12000\n",
      "    num_steps_trained: 12000\n",
      "    num_steps_trained_this_iter: 0\n",
      "  iterations_since_restore: 3\n",
      "  node_ip: 127.0.0.1\n",
      "  num_healthy_workers: 2\n",
      "  off_policy_estimator: {}\n",
      "  perf:\n",
      "    cpu_util_percent: 66.15555555555555\n",
      "    ram_util_percent: 83.6888888888889\n",
      "  pid: 15776\n",
      "  policy_reward_max: {}\n",
      "  policy_reward_mean: {}\n",
      "  policy_reward_min: {}\n",
      "  sampler_perf:\n",
      "    mean_action_processing_ms: 0.06627052248314967\n",
      "    mean_env_render_ms: 0.0\n",
      "    mean_env_wait_ms: 0.10074768092138378\n",
      "    mean_inference_ms: 1.3647424179536052\n",
      "    mean_raw_obs_processing_ms: 0.17819369635152466\n",
      "  time_since_restore: 20.67140221595764\n",
      "  time_this_iter_s: 6.74953556060791\n",
      "  time_total_s: 20.67140221595764\n",
      "  timers:\n",
      "    learn_throughput: 1174.47\n",
      "    learn_time_ms: 3405.791\n",
      "    load_throughput: 0.0\n",
      "    load_time_ms: 0.0\n",
      "    sample_throughput: 687.968\n",
      "    sample_time_ms: 5814.226\n",
      "    update_time_ms: 5.552\n",
      "  timestamp: 1637693362\n",
      "  timesteps_since_restore: 0\n",
      "  timesteps_this_iter: 0\n",
      "  timesteps_total: 12000\n",
      "  training_iteration: 3\n",
      "  trial_id: f6243_00000\n",
      "  \n"
     ]
    },
    {
     "data": {
      "text/plain": "<IPython.core.display.HTML object>",
      "text/html": "== Status ==<br>Current time: 2021-11-23 19:49:24 (running for 00:00:49.76)<br>Memory usage on this node: 9.9/11.9 GiB<br>Using FIFO scheduling algorithm.<br>Resources requested: 3.0/3 CPUs, 0/0 GPUs, 0.0/1.4 GiB heap, 0.0/0.7 GiB objects<br>Result logdir: C:\\Users\\Stefan\\ray_results\\PPO<br>Number of trials: 1/1 (1 RUNNING)<br><table>\n<thead>\n<tr><th>Trial name                       </th><th>status  </th><th>loc            </th><th style=\"text-align: right;\">  iter</th><th style=\"text-align: right;\">  total time (s)</th><th style=\"text-align: right;\">   ts</th><th style=\"text-align: right;\">  reward</th><th style=\"text-align: right;\">  episode_reward_max</th><th style=\"text-align: right;\">  episode_reward_min</th><th style=\"text-align: right;\">  episode_len_mean</th></tr>\n</thead>\n<tbody>\n<tr><td>PPO_StatelessCartPole_f6243_00000</td><td>RUNNING </td><td>127.0.0.1:15776</td><td style=\"text-align: right;\">     3</td><td style=\"text-align: right;\">         20.6714</td><td style=\"text-align: right;\">12000</td><td style=\"text-align: right;\">   41.26</td><td style=\"text-align: right;\">                 130</td><td style=\"text-align: right;\">                  10</td><td style=\"text-align: right;\">             41.26</td></tr>\n</tbody>\n</table><br><br>"
     },
     "metadata": {},
     "output_type": "display_data"
    },
    {
     "name": "stdout",
     "output_type": "stream",
     "text": [
      "Result for PPO_StatelessCartPole_f6243_00000:\n",
      "  agent_timesteps_total: 16000\n",
      "  custom_metrics: {}\n",
      "  date: 2021-11-23_19-49-29\n",
      "  done: false\n",
      "  episode_len_mean: 43.61\n",
      "  episode_media: {}\n",
      "  episode_reward_max: 155.0\n",
      "  episode_reward_mean: 43.61\n",
      "  episode_reward_min: 11.0\n",
      "  episodes_this_iter: 90\n",
      "  episodes_total: 521\n",
      "  experiment_id: e1ee612c6c3f4f48a9f19984a409dc5c\n",
      "  hostname: nb-stschn\n",
      "  info:\n",
      "    learner:\n",
      "      default_policy:\n",
      "        custom_metrics: {}\n",
      "        learner_stats:\n",
      "          cur_kl_coeff: 0.20000000298023224\n",
      "          cur_lr: 4.999999873689376e-05\n",
      "          entropy: 0.5590699315071106\n",
      "          entropy_coeff: 0.0\n",
      "          kl: 0.004985678941011429\n",
      "          model: {}\n",
      "          policy_loss: -0.00941834133118391\n",
      "          total_loss: 248.4127655029297\n",
      "          vf_explained_var: 0.12295760214328766\n",
      "          vf_loss: 248.42120361328125\n",
      "    num_agent_steps_sampled: 16000\n",
      "    num_agent_steps_trained: 16000\n",
      "    num_steps_sampled: 16000\n",
      "    num_steps_trained: 16000\n",
      "    num_steps_trained_this_iter: 0\n",
      "  iterations_since_restore: 4\n",
      "  node_ip: 127.0.0.1\n",
      "  num_healthy_workers: 2\n",
      "  off_policy_estimator: {}\n",
      "  perf:\n",
      "    cpu_util_percent: 68.22\n",
      "    ram_util_percent: 83.62\n",
      "  pid: 15776\n",
      "  policy_reward_max: {}\n",
      "  policy_reward_mean: {}\n",
      "  policy_reward_min: {}\n",
      "  sampler_perf:\n",
      "    mean_action_processing_ms: 0.06685427241237019\n",
      "    mean_env_render_ms: 0.0\n",
      "    mean_env_wait_ms: 0.09767074502769837\n",
      "    mean_inference_ms: 1.3661803226509006\n",
      "    mean_raw_obs_processing_ms: 0.1706688797119504\n",
      "  time_since_restore: 27.404489040374756\n",
      "  time_this_iter_s: 6.733086824417114\n",
      "  time_total_s: 27.404489040374756\n",
      "  timers:\n",
      "    learn_throughput: 1183.679\n",
      "    learn_time_ms: 3379.295\n",
      "    load_throughput: 0.0\n",
      "    load_time_ms: 0.0\n",
      "    sample_throughput: 660.274\n",
      "    sample_time_ms: 6058.087\n",
      "    update_time_ms: 4.164\n",
      "  timestamp: 1637693369\n",
      "  timesteps_since_restore: 0\n",
      "  timesteps_this_iter: 0\n",
      "  timesteps_total: 16000\n",
      "  training_iteration: 4\n",
      "  trial_id: f6243_00000\n",
      "  \n"
     ]
    },
    {
     "data": {
      "text/plain": "<IPython.core.display.HTML object>",
      "text/html": "== Status ==<br>Current time: 2021-11-23 19:49:31 (running for 00:00:56.50)<br>Memory usage on this node: 9.9/11.9 GiB<br>Using FIFO scheduling algorithm.<br>Resources requested: 3.0/3 CPUs, 0/0 GPUs, 0.0/1.4 GiB heap, 0.0/0.7 GiB objects<br>Result logdir: C:\\Users\\Stefan\\ray_results\\PPO<br>Number of trials: 1/1 (1 RUNNING)<br><table>\n<thead>\n<tr><th>Trial name                       </th><th>status  </th><th>loc            </th><th style=\"text-align: right;\">  iter</th><th style=\"text-align: right;\">  total time (s)</th><th style=\"text-align: right;\">   ts</th><th style=\"text-align: right;\">  reward</th><th style=\"text-align: right;\">  episode_reward_max</th><th style=\"text-align: right;\">  episode_reward_min</th><th style=\"text-align: right;\">  episode_len_mean</th></tr>\n</thead>\n<tbody>\n<tr><td>PPO_StatelessCartPole_f6243_00000</td><td>RUNNING </td><td>127.0.0.1:15776</td><td style=\"text-align: right;\">     4</td><td style=\"text-align: right;\">         27.4045</td><td style=\"text-align: right;\">16000</td><td style=\"text-align: right;\">   43.61</td><td style=\"text-align: right;\">                 155</td><td style=\"text-align: right;\">                  11</td><td style=\"text-align: right;\">             43.61</td></tr>\n</tbody>\n</table><br><br>"
     },
     "metadata": {},
     "output_type": "display_data"
    },
    {
     "data": {
      "text/plain": "<IPython.core.display.HTML object>",
      "text/html": "== Status ==<br>Current time: 2021-11-23 19:49:36 (running for 00:01:01.58)<br>Memory usage on this node: 10.0/11.9 GiB<br>Using FIFO scheduling algorithm.<br>Resources requested: 3.0/3 CPUs, 0/0 GPUs, 0.0/1.4 GiB heap, 0.0/0.7 GiB objects<br>Result logdir: C:\\Users\\Stefan\\ray_results\\PPO<br>Number of trials: 1/1 (1 RUNNING)<br><table>\n<thead>\n<tr><th>Trial name                       </th><th>status  </th><th>loc            </th><th style=\"text-align: right;\">  iter</th><th style=\"text-align: right;\">  total time (s)</th><th style=\"text-align: right;\">   ts</th><th style=\"text-align: right;\">  reward</th><th style=\"text-align: right;\">  episode_reward_max</th><th style=\"text-align: right;\">  episode_reward_min</th><th style=\"text-align: right;\">  episode_len_mean</th></tr>\n</thead>\n<tbody>\n<tr><td>PPO_StatelessCartPole_f6243_00000</td><td>RUNNING </td><td>127.0.0.1:15776</td><td style=\"text-align: right;\">     4</td><td style=\"text-align: right;\">         27.4045</td><td style=\"text-align: right;\">16000</td><td style=\"text-align: right;\">   43.61</td><td style=\"text-align: right;\">                 155</td><td style=\"text-align: right;\">                  11</td><td style=\"text-align: right;\">             43.61</td></tr>\n</tbody>\n</table><br><br>"
     },
     "metadata": {},
     "output_type": "display_data"
    },
    {
     "name": "stdout",
     "output_type": "stream",
     "text": [
      "Result for PPO_StatelessCartPole_f6243_00000:\n",
      "  agent_timesteps_total: 20000\n",
      "  custom_metrics: {}\n",
      "  date: 2021-11-23_19-49-36\n",
      "  done: false\n",
      "  episode_len_mean: 45.82\n",
      "  episode_media: {}\n",
      "  episode_reward_max: 155.0\n",
      "  episode_reward_mean: 45.82\n",
      "  episode_reward_min: 12.0\n",
      "  episodes_this_iter: 89\n",
      "  episodes_total: 610\n",
      "  experiment_id: e1ee612c6c3f4f48a9f19984a409dc5c\n",
      "  hostname: nb-stschn\n",
      "  info:\n",
      "    learner:\n",
      "      default_policy:\n",
      "        custom_metrics: {}\n",
      "        learner_stats:\n",
      "          cur_kl_coeff: 0.10000000149011612\n",
      "          cur_lr: 4.999999873689376e-05\n",
      "          entropy: 0.5189774036407471\n",
      "          entropy_coeff: 0.0\n",
      "          kl: 0.003044182201847434\n",
      "          model: {}\n",
      "          policy_loss: 0.001426202361471951\n",
      "          total_loss: 230.5676727294922\n",
      "          vf_explained_var: 0.16542400419712067\n",
      "          vf_loss: 230.5659637451172\n",
      "    num_agent_steps_sampled: 20000\n",
      "    num_agent_steps_trained: 20000\n",
      "    num_steps_sampled: 20000\n",
      "    num_steps_trained: 20000\n",
      "    num_steps_trained_this_iter: 0\n",
      "  iterations_since_restore: 5\n",
      "  node_ip: 127.0.0.1\n",
      "  num_healthy_workers: 2\n",
      "  off_policy_estimator: {}\n",
      "  perf:\n",
      "    cpu_util_percent: 77.62727272727274\n",
      "    ram_util_percent: 83.7090909090909\n",
      "  pid: 15776\n",
      "  policy_reward_max: {}\n",
      "  policy_reward_mean: {}\n",
      "  policy_reward_min: {}\n",
      "  sampler_perf:\n",
      "    mean_action_processing_ms: 0.06714989286621349\n",
      "    mean_env_render_ms: 0.0\n",
      "    mean_env_wait_ms: 0.09601894778190767\n",
      "    mean_inference_ms: 1.3755709465948727\n",
      "    mean_raw_obs_processing_ms: 0.1653164592918336\n",
      "  time_since_restore: 35.08799147605896\n",
      "  time_this_iter_s: 7.683502435684204\n",
      "  time_total_s: 35.08799147605896\n",
      "  timers:\n",
      "    learn_throughput: 1132.994\n",
      "    learn_time_ms: 3530.469\n",
      "    load_throughput: 0.0\n",
      "    load_time_ms: 0.0\n",
      "    sample_throughput: 643.046\n",
      "    sample_time_ms: 6220.39\n",
      "    update_time_ms: 3.331\n",
      "  timestamp: 1637693376\n",
      "  timesteps_since_restore: 0\n",
      "  timesteps_this_iter: 0\n",
      "  timesteps_total: 20000\n",
      "  training_iteration: 5\n",
      "  trial_id: f6243_00000\n",
      "  \n"
     ]
    },
    {
     "data": {
      "text/plain": "<IPython.core.display.HTML object>",
      "text/html": "== Status ==<br>Current time: 2021-11-23 19:49:41 (running for 00:01:07.28)<br>Memory usage on this node: 10.1/11.9 GiB<br>Using FIFO scheduling algorithm.<br>Resources requested: 3.0/3 CPUs, 0/0 GPUs, 0.0/1.4 GiB heap, 0.0/0.7 GiB objects<br>Result logdir: C:\\Users\\Stefan\\ray_results\\PPO<br>Number of trials: 1/1 (1 RUNNING)<br><table>\n<thead>\n<tr><th>Trial name                       </th><th>status  </th><th>loc            </th><th style=\"text-align: right;\">  iter</th><th style=\"text-align: right;\">  total time (s)</th><th style=\"text-align: right;\">   ts</th><th style=\"text-align: right;\">  reward</th><th style=\"text-align: right;\">  episode_reward_max</th><th style=\"text-align: right;\">  episode_reward_min</th><th style=\"text-align: right;\">  episode_len_mean</th></tr>\n</thead>\n<tbody>\n<tr><td>PPO_StatelessCartPole_f6243_00000</td><td>RUNNING </td><td>127.0.0.1:15776</td><td style=\"text-align: right;\">     5</td><td style=\"text-align: right;\">          35.088</td><td style=\"text-align: right;\">20000</td><td style=\"text-align: right;\">   45.82</td><td style=\"text-align: right;\">                 155</td><td style=\"text-align: right;\">                  12</td><td style=\"text-align: right;\">             45.82</td></tr>\n</tbody>\n</table><br><br>"
     },
     "metadata": {},
     "output_type": "display_data"
    },
    {
     "name": "stdout",
     "output_type": "stream",
     "text": [
      "Result for PPO_StatelessCartPole_f6243_00000:\n",
      "  agent_timesteps_total: 24000\n",
      "  custom_metrics: {}\n",
      "  date: 2021-11-23_19-49-44\n",
      "  done: false\n",
      "  episode_len_mean: 47.12\n",
      "  episode_media: {}\n",
      "  episode_reward_max: 123.0\n",
      "  episode_reward_mean: 47.12\n",
      "  episode_reward_min: 11.0\n",
      "  episodes_this_iter: 86\n",
      "  episodes_total: 696\n",
      "  experiment_id: e1ee612c6c3f4f48a9f19984a409dc5c\n",
      "  hostname: nb-stschn\n",
      "  info:\n",
      "    learner:\n",
      "      default_policy:\n",
      "        custom_metrics: {}\n",
      "        learner_stats:\n",
      "          cur_kl_coeff: 0.05000000074505806\n",
      "          cur_lr: 4.999999873689376e-05\n",
      "          entropy: 0.4841262400150299\n",
      "          entropy_coeff: 0.0\n",
      "          kl: 0.002589465817436576\n",
      "          model: {}\n",
      "          policy_loss: -0.0048765153624117374\n",
      "          total_loss: 186.0424041748047\n",
      "          vf_explained_var: 0.18889868259429932\n",
      "          vf_loss: 186.0471649169922\n",
      "    num_agent_steps_sampled: 24000\n",
      "    num_agent_steps_trained: 24000\n",
      "    num_steps_sampled: 24000\n",
      "    num_steps_trained: 24000\n",
      "    num_steps_trained_this_iter: 0\n",
      "  iterations_since_restore: 6\n",
      "  node_ip: 127.0.0.1\n",
      "  num_healthy_workers: 2\n",
      "  off_policy_estimator: {}\n",
      "  perf:\n",
      "    cpu_util_percent: 86.0909090909091\n",
      "    ram_util_percent: 84.58181818181816\n",
      "  pid: 15776\n",
      "  policy_reward_max: {}\n",
      "  policy_reward_mean: {}\n",
      "  policy_reward_min: {}\n",
      "  sampler_perf:\n",
      "    mean_action_processing_ms: 0.0701231674246916\n",
      "    mean_env_render_ms: 0.0\n",
      "    mean_env_wait_ms: 0.0948783101644181\n",
      "    mean_inference_ms: 1.4164701451124595\n",
      "    mean_raw_obs_processing_ms: 0.16299152776545836\n",
      "  time_since_restore: 43.03928899765015\n",
      "  time_this_iter_s: 7.9512975215911865\n",
      "  time_total_s: 43.03928899765015\n",
      "  timers:\n",
      "    learn_throughput: 1114.411\n",
      "    learn_time_ms: 3589.34\n",
      "    load_throughput: 0.0\n",
      "    load_time_ms: 0.0\n",
      "    sample_throughput: 609.662\n",
      "    sample_time_ms: 6561.008\n",
      "    update_time_ms: 2.776\n",
      "  timestamp: 1637693384\n",
      "  timesteps_since_restore: 0\n",
      "  timesteps_this_iter: 0\n",
      "  timesteps_total: 24000\n",
      "  training_iteration: 6\n",
      "  trial_id: f6243_00000\n",
      "  \n"
     ]
    },
    {
     "data": {
      "text/plain": "<IPython.core.display.HTML object>",
      "text/html": "== Status ==<br>Current time: 2021-11-23 19:49:47 (running for 00:01:13.28)<br>Memory usage on this node: 10.2/11.9 GiB<br>Using FIFO scheduling algorithm.<br>Resources requested: 3.0/3 CPUs, 0/0 GPUs, 0.0/1.4 GiB heap, 0.0/0.7 GiB objects<br>Result logdir: C:\\Users\\Stefan\\ray_results\\PPO<br>Number of trials: 1/1 (1 RUNNING)<br><table>\n<thead>\n<tr><th>Trial name                       </th><th>status  </th><th>loc            </th><th style=\"text-align: right;\">  iter</th><th style=\"text-align: right;\">  total time (s)</th><th style=\"text-align: right;\">   ts</th><th style=\"text-align: right;\">  reward</th><th style=\"text-align: right;\">  episode_reward_max</th><th style=\"text-align: right;\">  episode_reward_min</th><th style=\"text-align: right;\">  episode_len_mean</th></tr>\n</thead>\n<tbody>\n<tr><td>PPO_StatelessCartPole_f6243_00000</td><td>RUNNING </td><td>127.0.0.1:15776</td><td style=\"text-align: right;\">     6</td><td style=\"text-align: right;\">         43.0393</td><td style=\"text-align: right;\">24000</td><td style=\"text-align: right;\">   47.12</td><td style=\"text-align: right;\">                 123</td><td style=\"text-align: right;\">                  11</td><td style=\"text-align: right;\">             47.12</td></tr>\n</tbody>\n</table><br><br>"
     },
     "metadata": {},
     "output_type": "display_data"
    },
    {
     "name": "stdout",
     "output_type": "stream",
     "text": [
      "Result for PPO_StatelessCartPole_f6243_00000:\n",
      "  agent_timesteps_total: 28000\n",
      "  custom_metrics: {}\n",
      "  date: 2021-11-23_19-49-52\n",
      "  done: false\n",
      "  episode_len_mean: 48.9\n",
      "  episode_media: {}\n",
      "  episode_reward_max: 132.0\n",
      "  episode_reward_mean: 48.9\n",
      "  episode_reward_min: 10.0\n",
      "  episodes_this_iter: 78\n",
      "  episodes_total: 774\n",
      "  experiment_id: e1ee612c6c3f4f48a9f19984a409dc5c\n",
      "  hostname: nb-stschn\n",
      "  info:\n",
      "    learner:\n",
      "      default_policy:\n",
      "        custom_metrics: {}\n",
      "        learner_stats:\n",
      "          cur_kl_coeff: 0.02500000037252903\n",
      "          cur_lr: 4.999999873689376e-05\n",
      "          entropy: 0.4601098895072937\n",
      "          entropy_coeff: 0.0\n",
      "          kl: 0.0032913885079324245\n",
      "          model: {}\n",
      "          policy_loss: -0.009747156873345375\n",
      "          total_loss: 165.0985107421875\n",
      "          vf_explained_var: 0.2212902456521988\n",
      "          vf_loss: 165.10816955566406\n",
      "    num_agent_steps_sampled: 28000\n",
      "    num_agent_steps_trained: 28000\n",
      "    num_steps_sampled: 28000\n",
      "    num_steps_trained: 28000\n",
      "    num_steps_trained_this_iter: 0\n",
      "  iterations_since_restore: 7\n",
      "  node_ip: 127.0.0.1\n",
      "  num_healthy_workers: 2\n",
      "  off_policy_estimator: {}\n",
      "  perf:\n",
      "    cpu_util_percent: 82.04545454545453\n",
      "    ram_util_percent: 85.5909090909091\n",
      "  pid: 15776\n",
      "  policy_reward_max: {}\n",
      "  policy_reward_mean: {}\n",
      "  policy_reward_min: {}\n",
      "  sampler_perf:\n",
      "    mean_action_processing_ms: 0.07340913232282371\n",
      "    mean_env_render_ms: 0.0\n",
      "    mean_env_wait_ms: 0.10125854571462303\n",
      "    mean_inference_ms: 1.4386485193573981\n",
      "    mean_raw_obs_processing_ms: 0.16407616070027764\n",
      "  time_since_restore: 50.722336292266846\n",
      "  time_this_iter_s: 7.683047294616699\n",
      "  time_total_s: 50.722336292266846\n",
      "  timers:\n",
      "    learn_throughput: 1112.463\n",
      "    learn_time_ms: 3595.625\n",
      "    load_throughput: 0.0\n",
      "    load_time_ms: 0.0\n",
      "    sample_throughput: 591.606\n",
      "    sample_time_ms: 6761.26\n",
      "    update_time_ms: 2.379\n",
      "  timestamp: 1637693392\n",
      "  timesteps_since_restore: 0\n",
      "  timesteps_this_iter: 0\n",
      "  timesteps_total: 28000\n",
      "  training_iteration: 7\n",
      "  trial_id: f6243_00000\n",
      "  \n"
     ]
    },
    {
     "data": {
      "text/plain": "<IPython.core.display.HTML object>",
      "text/html": "== Status ==<br>Current time: 2021-11-23 19:49:53 (running for 00:01:18.95)<br>Memory usage on this node: 10.3/11.9 GiB<br>Using FIFO scheduling algorithm.<br>Resources requested: 3.0/3 CPUs, 0/0 GPUs, 0.0/1.4 GiB heap, 0.0/0.7 GiB objects<br>Result logdir: C:\\Users\\Stefan\\ray_results\\PPO<br>Number of trials: 1/1 (1 RUNNING)<br><table>\n<thead>\n<tr><th>Trial name                       </th><th>status  </th><th>loc            </th><th style=\"text-align: right;\">  iter</th><th style=\"text-align: right;\">  total time (s)</th><th style=\"text-align: right;\">   ts</th><th style=\"text-align: right;\">  reward</th><th style=\"text-align: right;\">  episode_reward_max</th><th style=\"text-align: right;\">  episode_reward_min</th><th style=\"text-align: right;\">  episode_len_mean</th></tr>\n</thead>\n<tbody>\n<tr><td>PPO_StatelessCartPole_f6243_00000</td><td>RUNNING </td><td>127.0.0.1:15776</td><td style=\"text-align: right;\">     7</td><td style=\"text-align: right;\">         50.7223</td><td style=\"text-align: right;\">28000</td><td style=\"text-align: right;\">    48.9</td><td style=\"text-align: right;\">                 132</td><td style=\"text-align: right;\">                  10</td><td style=\"text-align: right;\">              48.9</td></tr>\n</tbody>\n</table><br><br>"
     },
     "metadata": {},
     "output_type": "display_data"
    },
    {
     "data": {
      "text/plain": "<IPython.core.display.HTML object>",
      "text/html": "== Status ==<br>Current time: 2021-11-23 19:49:58 (running for 00:01:24.03)<br>Memory usage on this node: 10.3/11.9 GiB<br>Using FIFO scheduling algorithm.<br>Resources requested: 3.0/3 CPUs, 0/0 GPUs, 0.0/1.4 GiB heap, 0.0/0.7 GiB objects<br>Result logdir: C:\\Users\\Stefan\\ray_results\\PPO<br>Number of trials: 1/1 (1 RUNNING)<br><table>\n<thead>\n<tr><th>Trial name                       </th><th>status  </th><th>loc            </th><th style=\"text-align: right;\">  iter</th><th style=\"text-align: right;\">  total time (s)</th><th style=\"text-align: right;\">   ts</th><th style=\"text-align: right;\">  reward</th><th style=\"text-align: right;\">  episode_reward_max</th><th style=\"text-align: right;\">  episode_reward_min</th><th style=\"text-align: right;\">  episode_len_mean</th></tr>\n</thead>\n<tbody>\n<tr><td>PPO_StatelessCartPole_f6243_00000</td><td>RUNNING </td><td>127.0.0.1:15776</td><td style=\"text-align: right;\">     7</td><td style=\"text-align: right;\">         50.7223</td><td style=\"text-align: right;\">28000</td><td style=\"text-align: right;\">    48.9</td><td style=\"text-align: right;\">                 132</td><td style=\"text-align: right;\">                  10</td><td style=\"text-align: right;\">              48.9</td></tr>\n</tbody>\n</table><br><br>"
     },
     "metadata": {},
     "output_type": "display_data"
    },
    {
     "name": "stdout",
     "output_type": "stream",
     "text": [
      "Result for PPO_StatelessCartPole_f6243_00000:\n",
      "  agent_timesteps_total: 32000\n",
      "  custom_metrics: {}\n",
      "  date: 2021-11-23_19-50-00\n",
      "  done: false\n",
      "  episode_len_mean: 49.94\n",
      "  episode_media: {}\n",
      "  episode_reward_max: 132.0\n",
      "  episode_reward_mean: 49.94\n",
      "  episode_reward_min: 10.0\n",
      "  episodes_this_iter: 80\n",
      "  episodes_total: 854\n",
      "  experiment_id: e1ee612c6c3f4f48a9f19984a409dc5c\n",
      "  hostname: nb-stschn\n",
      "  info:\n",
      "    learner:\n",
      "      default_policy:\n",
      "        custom_metrics: {}\n",
      "        learner_stats:\n",
      "          cur_kl_coeff: 0.012500000186264515\n",
      "          cur_lr: 4.999999873689376e-05\n",
      "          entropy: 0.41464871168136597\n",
      "          entropy_coeff: 0.0\n",
      "          kl: 0.003240640740841627\n",
      "          model: {}\n",
      "          policy_loss: -0.0035140279214829206\n",
      "          total_loss: 157.30711364746094\n",
      "          vf_explained_var: 0.2239331603050232\n",
      "          vf_loss: 157.31057739257812\n",
      "    num_agent_steps_sampled: 32000\n",
      "    num_agent_steps_trained: 32000\n",
      "    num_steps_sampled: 32000\n",
      "    num_steps_trained: 32000\n",
      "    num_steps_trained_this_iter: 0\n",
      "  iterations_since_restore: 8\n",
      "  node_ip: 127.0.0.1\n",
      "  num_healthy_workers: 2\n",
      "  off_policy_estimator: {}\n",
      "  perf:\n",
      "    cpu_util_percent: 83.00999999999999\n",
      "    ram_util_percent: 86.56999999999998\n",
      "  pid: 15776\n",
      "  policy_reward_max: {}\n",
      "  policy_reward_mean: {}\n",
      "  policy_reward_min: {}\n",
      "  sampler_perf:\n",
      "    mean_action_processing_ms: 0.08037184503765213\n",
      "    mean_env_render_ms: 0.0\n",
      "    mean_env_wait_ms: 0.10194644822663296\n",
      "    mean_inference_ms: 1.461113024900464\n",
      "    mean_raw_obs_processing_ms: 0.16301264450339187\n",
      "  time_since_restore: 58.39958596229553\n",
      "  time_this_iter_s: 7.6772496700286865\n",
      "  time_total_s: 58.39958596229553\n",
      "  timers:\n",
      "    learn_throughput: 1111.65\n",
      "    learn_time_ms: 3598.255\n",
      "    load_throughput: 0.0\n",
      "    load_time_ms: 0.0\n",
      "    sample_throughput: 581.176\n",
      "    sample_time_ms: 6882.592\n",
      "    update_time_ms: 2.082\n",
      "  timestamp: 1637693400\n",
      "  timesteps_since_restore: 0\n",
      "  timesteps_this_iter: 0\n",
      "  timesteps_total: 32000\n",
      "  training_iteration: 8\n",
      "  trial_id: f6243_00000\n",
      "  \n"
     ]
    },
    {
     "data": {
      "text/plain": "<IPython.core.display.HTML object>",
      "text/html": "== Status ==<br>Current time: 2021-11-23 19:50:04 (running for 00:01:29.73)<br>Memory usage on this node: 10.4/11.9 GiB<br>Using FIFO scheduling algorithm.<br>Resources requested: 3.0/3 CPUs, 0/0 GPUs, 0.0/1.4 GiB heap, 0.0/0.7 GiB objects<br>Result logdir: C:\\Users\\Stefan\\ray_results\\PPO<br>Number of trials: 1/1 (1 RUNNING)<br><table>\n<thead>\n<tr><th>Trial name                       </th><th>status  </th><th>loc            </th><th style=\"text-align: right;\">  iter</th><th style=\"text-align: right;\">  total time (s)</th><th style=\"text-align: right;\">   ts</th><th style=\"text-align: right;\">  reward</th><th style=\"text-align: right;\">  episode_reward_max</th><th style=\"text-align: right;\">  episode_reward_min</th><th style=\"text-align: right;\">  episode_len_mean</th></tr>\n</thead>\n<tbody>\n<tr><td>PPO_StatelessCartPole_f6243_00000</td><td>RUNNING </td><td>127.0.0.1:15776</td><td style=\"text-align: right;\">     8</td><td style=\"text-align: right;\">         58.3996</td><td style=\"text-align: right;\">32000</td><td style=\"text-align: right;\">   49.94</td><td style=\"text-align: right;\">                 132</td><td style=\"text-align: right;\">                  10</td><td style=\"text-align: right;\">             49.94</td></tr>\n</tbody>\n</table><br><br>"
     },
     "metadata": {},
     "output_type": "display_data"
    },
    {
     "name": "stdout",
     "output_type": "stream",
     "text": [
      "Result for PPO_StatelessCartPole_f6243_00000:\n",
      "  agent_timesteps_total: 36000\n",
      "  custom_metrics: {}\n",
      "  date: 2021-11-23_19-50-08\n",
      "  done: false\n",
      "  episode_len_mean: 51.12\n",
      "  episode_media: {}\n",
      "  episode_reward_max: 125.0\n",
      "  episode_reward_mean: 51.12\n",
      "  episode_reward_min: 14.0\n",
      "  episodes_this_iter: 79\n",
      "  episodes_total: 933\n",
      "  experiment_id: e1ee612c6c3f4f48a9f19984a409dc5c\n",
      "  hostname: nb-stschn\n",
      "  info:\n",
      "    learner:\n",
      "      default_policy:\n",
      "        custom_metrics: {}\n",
      "        learner_stats:\n",
      "          cur_kl_coeff: 0.0062500000931322575\n",
      "          cur_lr: 4.999999873689376e-05\n",
      "          entropy: 0.43995144963264465\n",
      "          entropy_coeff: 0.0\n",
      "          kl: 0.002562695648521185\n",
      "          model: {}\n",
      "          policy_loss: -0.008500334806740284\n",
      "          total_loss: 144.52923583984375\n",
      "          vf_explained_var: 0.27317333221435547\n",
      "          vf_loss: 144.5377197265625\n",
      "    num_agent_steps_sampled: 36000\n",
      "    num_agent_steps_trained: 36000\n",
      "    num_steps_sampled: 36000\n",
      "    num_steps_trained: 36000\n",
      "    num_steps_trained_this_iter: 0\n",
      "  iterations_since_restore: 9\n",
      "  node_ip: 127.0.0.1\n",
      "  num_healthy_workers: 2\n",
      "  off_policy_estimator: {}\n",
      "  perf:\n",
      "    cpu_util_percent: 82.54545454545455\n",
      "    ram_util_percent: 87.0\n",
      "  pid: 15776\n",
      "  policy_reward_max: {}\n",
      "  policy_reward_mean: {}\n",
      "  policy_reward_min: {}\n",
      "  sampler_perf:\n",
      "    mean_action_processing_ms: 0.0844253703671287\n",
      "    mean_env_render_ms: 0.0\n",
      "    mean_env_wait_ms: 0.10347341322560075\n",
      "    mean_inference_ms: 1.4792651792195692\n",
      "    mean_raw_obs_processing_ms: 0.1622538972715257\n",
      "  time_since_restore: 66.21657919883728\n",
      "  time_this_iter_s: 7.816993236541748\n",
      "  time_total_s: 66.21657919883728\n",
      "  timers:\n",
      "    learn_throughput: 1107.594\n",
      "    learn_time_ms: 3611.432\n",
      "    load_throughput: 0.0\n",
      "    load_time_ms: 0.0\n",
      "    sample_throughput: 572.872\n",
      "    sample_time_ms: 6982.361\n",
      "    update_time_ms: 1.851\n",
      "  timestamp: 1637693408\n",
      "  timesteps_since_restore: 0\n",
      "  timesteps_this_iter: 0\n",
      "  timesteps_total: 36000\n",
      "  training_iteration: 9\n",
      "  trial_id: f6243_00000\n",
      "  \n"
     ]
    },
    {
     "data": {
      "text/plain": "<IPython.core.display.HTML object>",
      "text/html": "== Status ==<br>Current time: 2021-11-23 19:50:11 (running for 00:01:36.58)<br>Memory usage on this node: 10.3/11.9 GiB<br>Using FIFO scheduling algorithm.<br>Resources requested: 3.0/3 CPUs, 0/0 GPUs, 0.0/1.4 GiB heap, 0.0/0.7 GiB objects<br>Result logdir: C:\\Users\\Stefan\\ray_results\\PPO<br>Number of trials: 1/1 (1 RUNNING)<br><table>\n<thead>\n<tr><th>Trial name                       </th><th>status  </th><th>loc            </th><th style=\"text-align: right;\">  iter</th><th style=\"text-align: right;\">  total time (s)</th><th style=\"text-align: right;\">   ts</th><th style=\"text-align: right;\">  reward</th><th style=\"text-align: right;\">  episode_reward_max</th><th style=\"text-align: right;\">  episode_reward_min</th><th style=\"text-align: right;\">  episode_len_mean</th></tr>\n</thead>\n<tbody>\n<tr><td>PPO_StatelessCartPole_f6243_00000</td><td>RUNNING </td><td>127.0.0.1:15776</td><td style=\"text-align: right;\">     9</td><td style=\"text-align: right;\">         66.2166</td><td style=\"text-align: right;\">36000</td><td style=\"text-align: right;\">   51.12</td><td style=\"text-align: right;\">                 125</td><td style=\"text-align: right;\">                  14</td><td style=\"text-align: right;\">             51.12</td></tr>\n</tbody>\n</table><br><br>"
     },
     "metadata": {},
     "output_type": "display_data"
    },
    {
     "name": "stdout",
     "output_type": "stream",
     "text": [
      "Result for PPO_StatelessCartPole_f6243_00000:\n",
      "  agent_timesteps_total: 40000\n",
      "  custom_metrics: {}\n",
      "  date: 2021-11-23_19-50-16\n",
      "  done: true\n",
      "  episode_len_mean: 51.67\n",
      "  episode_media: {}\n",
      "  episode_reward_max: 147.0\n",
      "  episode_reward_mean: 51.67\n",
      "  episode_reward_min: 16.0\n",
      "  episodes_this_iter: 74\n",
      "  episodes_total: 1007\n",
      "  experiment_id: e1ee612c6c3f4f48a9f19984a409dc5c\n",
      "  hostname: nb-stschn\n",
      "  info:\n",
      "    learner:\n",
      "      default_policy:\n",
      "        custom_metrics: {}\n",
      "        learner_stats:\n",
      "          cur_kl_coeff: 0.0031250000465661287\n",
      "          cur_lr: 4.999999873689376e-05\n",
      "          entropy: 0.4446806311607361\n",
      "          entropy_coeff: 0.0\n",
      "          kl: 0.0022894737776368856\n",
      "          model: {}\n",
      "          policy_loss: 0.003023507073521614\n",
      "          total_loss: 219.97442626953125\n",
      "          vf_explained_var: 0.1855245977640152\n",
      "          vf_loss: 219.9713897705078\n",
      "    num_agent_steps_sampled: 40000\n",
      "    num_agent_steps_trained: 40000\n",
      "    num_steps_sampled: 40000\n",
      "    num_steps_trained: 40000\n",
      "    num_steps_trained_this_iter: 0\n",
      "  iterations_since_restore: 10\n",
      "  node_ip: 127.0.0.1\n",
      "  num_healthy_workers: 2\n",
      "  off_policy_estimator: {}\n",
      "  perf:\n",
      "    cpu_util_percent: 83.63333333333334\n",
      "    ram_util_percent: 86.93333333333334\n",
      "  pid: 15776\n",
      "  policy_reward_max: {}\n",
      "  policy_reward_mean: {}\n",
      "  policy_reward_min: {}\n",
      "  sampler_perf:\n",
      "    mean_action_processing_ms: 0.08614659311321836\n",
      "    mean_env_render_ms: 0.0\n",
      "    mean_env_wait_ms: 0.10334351867174033\n",
      "    mean_inference_ms: 1.4976440046604949\n",
      "    mean_raw_obs_processing_ms: 0.16262805119902793\n",
      "  time_since_restore: 74.18315482139587\n",
      "  time_this_iter_s: 7.966575622558594\n",
      "  time_total_s: 74.18315482139587\n",
      "  timers:\n",
      "    learn_throughput: 1102.352\n",
      "    learn_time_ms: 3628.605\n",
      "    load_throughput: 0.0\n",
      "    load_time_ms: 0.0\n",
      "    sample_throughput: 565.026\n",
      "    sample_time_ms: 7079.322\n",
      "    update_time_ms: 1.665\n",
      "  timestamp: 1637693416\n",
      "  timesteps_since_restore: 0\n",
      "  timesteps_this_iter: 0\n",
      "  timesteps_total: 40000\n",
      "  training_iteration: 10\n",
      "  trial_id: f6243_00000\n",
      "  \n"
     ]
    },
    {
     "data": {
      "text/plain": "<IPython.core.display.HTML object>",
      "text/html": "== Status ==<br>Current time: 2021-11-23 19:50:16 (running for 00:01:41.61)<br>Memory usage on this node: 10.3/11.9 GiB<br>Using FIFO scheduling algorithm.<br>Resources requested: 0/3 CPUs, 0/0 GPUs, 0.0/1.4 GiB heap, 0.0/0.7 GiB objects<br>Result logdir: C:\\Users\\Stefan\\ray_results\\PPO<br>Number of trials: 1/1 (1 TERMINATED)<br><table>\n<thead>\n<tr><th>Trial name                       </th><th>status    </th><th>loc            </th><th style=\"text-align: right;\">  iter</th><th style=\"text-align: right;\">  total time (s)</th><th style=\"text-align: right;\">   ts</th><th style=\"text-align: right;\">  reward</th><th style=\"text-align: right;\">  episode_reward_max</th><th style=\"text-align: right;\">  episode_reward_min</th><th style=\"text-align: right;\">  episode_len_mean</th></tr>\n</thead>\n<tbody>\n<tr><td>PPO_StatelessCartPole_f6243_00000</td><td>TERMINATED</td><td>127.0.0.1:15776</td><td style=\"text-align: right;\">    10</td><td style=\"text-align: right;\">         74.1832</td><td style=\"text-align: right;\">40000</td><td style=\"text-align: right;\">   51.67</td><td style=\"text-align: right;\">                 147</td><td style=\"text-align: right;\">                  16</td><td style=\"text-align: right;\">             51.67</td></tr>\n</tbody>\n</table><br><br>"
     },
     "metadata": {},
     "output_type": "display_data"
    },
    {
     "name": "stderr",
     "output_type": "stream",
     "text": [
      "\u001B[2m\u001B[36m(pid=15776)\u001B[0m Windows fatal exception: access violation\n",
      "\u001B[2m\u001B[36m(pid=15776)\u001B[0m \n",
      "\u001B[2m\u001B[36m(pid=24480)\u001B[0m [2021-11-23 19:50:16,710 E 24480 11408] raylet_client.cc:159: IOError: Unknown error [RayletClient] Failed to disconnect from raylet.\r\n",
      "\u001B[2m\u001B[36m(pid=16964)\u001B[0m [2021-11-23 19:50:16,721 E 16964 23092] raylet_client.cc:159: IOError: Unknown error [RayletClient] Failed to disconnect from raylet.\r\n",
      "\u001B[2m\u001B[36m(pid=16964)\u001B[0m Windows fatal exception: access violation\n",
      "\u001B[2m\u001B[36m(pid=16964)\u001B[0m \n",
      "2021-11-23 19:50:16,834\tINFO tune.py:630 -- Total run time: 102.31 seconds (101.56 seconds for the tuning loop).\n"
     ]
    },
    {
     "name": "stdout",
     "output_type": "stream",
     "text": [
      "Option 2: Training finished successfully\n"
     ]
    }
   ],
   "source": [
    "from ray.rllib.examples.env.stateless_cartpole import StatelessCartPole\n",
    "from ray.tune import registry\n",
    "\n",
    "registry.register_env(\"StatelessCartPole\", lambda _: StatelessCartPole())\n",
    "config2 = ppo.DEFAULT_CONFIG.copy()\n",
    "config2[\"env\"] = \"StatelessCartPole\"\n",
    "# train; this takes a while\n",
    "results2 = ray.tune.run(\"PPO\", config=config2, stop=stop)\n",
    "print(\"Option 2: Training finished successfully\")"
   ],
   "metadata": {
    "collapsed": false,
    "pycharm": {
     "name": "#%%\n"
    }
   }
  },
  {
   "cell_type": "code",
   "execution_count": 39,
   "outputs": [
    {
     "data": {
      "text/plain": "51.67"
     },
     "execution_count": 39,
     "metadata": {},
     "output_type": "execute_result"
    }
   ],
   "source": [
    "# check results\n",
    "results2.default_metric = \"episode_reward_mean\"\n",
    "results2.default_mode = \"max\"\n",
    "# print the mean episode reward = episode length --> higher = better\n",
    "results2.best_result[\"episode_reward_mean\"]"
   ],
   "metadata": {
    "collapsed": false,
    "pycharm": {
     "name": "#%%\n"
    }
   }
  },
  {
   "cell_type": "code",
   "execution_count": 40,
   "outputs": [
    {
     "name": "stderr",
     "output_type": "stream",
     "text": [
      "c:\\users\\stefan\\git-repos\\private\\blog\\venv\\lib\\site-packages\\seaborn\\_decorators.py:36: FutureWarning: Pass the following variables as keyword args: x, y. From version 0.12, the only valid positional argument will be `data`, and passing other arguments without an explicit keyword will result in an error or misinterpretation.\n",
      "  warnings.warn(\n"
     ]
    },
    {
     "data": {
      "text/plain": "<Figure size 432x288 with 1 Axes>",
      "image/png": "[encoded data removed]"
     },
     "metadata": {
      "needs_background": "light"
     },
     "output_type": "display_data"
    }
   ],
   "source": [
    "plot_rewards(results2)"
   ],
   "metadata": {
    "collapsed": false,
    "pycharm": {
     "name": "#%%\n"
    }
   }
  },
  {
   "cell_type": "markdown",
   "source": [
    "## Option 3: Use Sequence of Last Observations\n",
    "\n",
    "### Option 3a: Use Raw Sequence as Input\n",
    "\n",
    "For an MLP; stack last 10 observations\n",
    "\n",
    "Use Gym's `FrameStack` to automatically stack the last x frames."
   ],
   "metadata": {
    "collapsed": false,
    "pycharm": {
     "name": "#%% md\n"
    }
   }
  },
  {
   "cell_type": "code",
   "execution_count": 41,
   "outputs": [
    {
     "name": "stdout",
     "output_type": "stream",
     "text": [
      "Shape of observation space (stateless CartPole): (2,)\n",
      "Shape of observation space (stacked stateless CartPole): (10, 2)\n"
     ]
    }
   ],
   "source": [
    "from gym.wrappers import FrameStack\n",
    "\n",
    "# stateless CartPole --> only 2 observations: position of cart & angle of pole (not: velocity of cart or pole)\n",
    "env = StatelessCartPole()\n",
    "print(f\"Shape of observation space (stateless CartPole): {env.observation_space.shape}\")\n",
    "\n",
    "# stack last 10 observations into sequence --> 10x2\n",
    "env_stacked = FrameStack(env, 10)\n",
    "print(f\"Shape of observation space (stacked stateless CartPole): {env_stacked.observation_space.shape}\")\n",
    "\n",
    "# register env for RLlib\n",
    "registry.register_env(\"StackedStatelessCartPole\", lambda _: FrameStack(StatelessCartPole(), 10))"
   ],
   "metadata": {
    "collapsed": false,
    "pycharm": {
     "name": "#%%\n"
    }
   }
  },
  {
   "cell_type": "code",
   "execution_count": 42,
   "outputs": [
    {
     "data": {
      "text/plain": "<IPython.core.display.HTML object>",
      "text/html": "== Status ==<br>Current time: 2021-11-23 19:50:17 (running for 00:00:00.15)<br>Memory usage on this node: 9.5/11.9 GiB<br>Using FIFO scheduling algorithm.<br>Resources requested: 0/3 CPUs, 0/0 GPUs, 0.0/1.4 GiB heap, 0.0/0.7 GiB objects<br>Result logdir: C:\\Users\\Stefan\\ray_results\\PPO<br>Number of trials: 1/1 (1 PENDING)<br><table>\n<thead>\n<tr><th>Trial name                              </th><th>status  </th><th>loc  </th></tr>\n</thead>\n<tbody>\n<tr><td>PPO_StackedStatelessCartPole_334c6_00000</td><td>PENDING </td><td>     </td></tr>\n</tbody>\n</table><br><br>"
     },
     "metadata": {},
     "output_type": "display_data"
    },
    {
     "name": "stderr",
     "output_type": "stream",
     "text": [
      "\u001B[2m\u001B[36m(pid=None)\u001B[0m c:\\users\\stefan\\git-repos\\private\\blog\\venv\\lib\\site-packages\\redis\\connection.py:77: UserWarning: redis-py works best with hiredis. Please consider installing\r\n",
      "\u001B[2m\u001B[36m(pid=None)\u001B[0m   warnings.warn(msg)\r\n"
     ]
    },
    {
     "data": {
      "text/plain": "<IPython.core.display.HTML object>",
      "text/html": "== Status ==<br>Current time: 2021-11-23 19:50:22 (running for 00:00:05.17)<br>Memory usage on this node: 9.5/11.9 GiB<br>Using FIFO scheduling algorithm.<br>Resources requested: 0/3 CPUs, 0/0 GPUs, 0.0/1.4 GiB heap, 0.0/0.7 GiB objects<br>Result logdir: C:\\Users\\Stefan\\ray_results\\PPO<br>Number of trials: 1/1 (1 PENDING)<br><table>\n<thead>\n<tr><th>Trial name                              </th><th>status  </th><th>loc  </th></tr>\n</thead>\n<tbody>\n<tr><td>PPO_StackedStatelessCartPole_334c6_00000</td><td>PENDING </td><td>     </td></tr>\n</tbody>\n</table><br><br>"
     },
     "metadata": {},
     "output_type": "display_data"
    },
    {
     "name": "stderr",
     "output_type": "stream",
     "text": [
      "\u001B[2m\u001B[36m(pid=21856)\u001B[0m 2021-11-23 19:50:30,258\tINFO trainer.py:753 -- Tip: set framework=tfe or the --eager flag to enable TensorFlow eager execution\r\n",
      "\u001B[2m\u001B[36m(pid=21856)\u001B[0m 2021-11-23 19:50:30,258\tINFO ppo.py:166 -- In multi-agent mode, policies will be optimized sequentially by the multi-GPU optimizer. Consider setting simple_optimizer=True if this doesn't work for you.\r\n",
      "\u001B[2m\u001B[36m(pid=21856)\u001B[0m 2021-11-23 19:50:30,258\tINFO trainer.py:770 -- Current log_level is WARN. For more information, set 'log_level': 'INFO' / 'DEBUG' or use the -v and -vv flags.\r\n",
      "\u001B[2m\u001B[36m(pid=None)\u001B[0m c:\\users\\stefan\\git-repos\\private\\blog\\venv\\lib\\site-packages\\redis\\connection.py:77: UserWarning: redis-py works best with hiredis. Please consider installing\r\n",
      "\u001B[2m\u001B[36m(pid=None)\u001B[0m   warnings.warn(msg)\r\n",
      "\u001B[2m\u001B[36m(pid=None)\u001B[0m c:\\users\\stefan\\git-repos\\private\\blog\\venv\\lib\\site-packages\\redis\\connection.py:77: UserWarning: redis-py works best with hiredis. Please consider installing\r\n",
      "\u001B[2m\u001B[36m(pid=None)\u001B[0m   warnings.warn(msg)\r\n",
      "\u001B[2m\u001B[36m(pid=2944)\u001B[0m c:\\users\\stefan\\git-repos\\private\\blog\\venv\\lib\\site-packages\\gym\\spaces\\box.py:142: UserWarning: \u001B[33mWARN: Casting input x to numpy array.\u001B[0m\r\n",
      "\u001B[2m\u001B[36m(pid=2944)\u001B[0m   logger.warn(\"Casting input x to numpy array.\")\r\n",
      "\u001B[2m\u001B[36m(pid=2944)\u001B[0m 2021-11-23 19:50:43,843\tWARNING deprecation.py:38 -- DeprecationWarning: `SampleBatch['is_training']` has been deprecated. Use `SampleBatch.is_training` instead. This will raise an error in the future!\r\n",
      "\u001B[2m\u001B[36m(pid=16956)\u001B[0m c:\\users\\stefan\\git-repos\\private\\blog\\venv\\lib\\site-packages\\gym\\spaces\\box.py:142: UserWarning: \u001B[33mWARN: Casting input x to numpy array.\u001B[0m\r\n",
      "\u001B[2m\u001B[36m(pid=16956)\u001B[0m   logger.warn(\"Casting input x to numpy array.\")\r\n",
      "\u001B[2m\u001B[36m(pid=21856)\u001B[0m 2021-11-23 19:50:45,691\tWARNING deprecation.py:38 -- DeprecationWarning: `SampleBatch['is_training']` has been deprecated. Use `SampleBatch.is_training` instead. This will raise an error in the future!\r\n"
     ]
    },
    {
     "data": {
      "text/plain": "<IPython.core.display.HTML object>",
      "text/html": "== Status ==<br>Current time: 2021-11-23 19:50:46 (running for 00:00:29.80)<br>Memory usage on this node: 10.3/11.9 GiB<br>Using FIFO scheduling algorithm.<br>Resources requested: 3.0/3 CPUs, 0/0 GPUs, 0.0/1.4 GiB heap, 0.0/0.7 GiB objects<br>Result logdir: C:\\Users\\Stefan\\ray_results\\PPO<br>Number of trials: 1/1 (1 RUNNING)<br><table>\n<thead>\n<tr><th>Trial name                              </th><th>status  </th><th>loc            </th></tr>\n</thead>\n<tbody>\n<tr><td>PPO_StackedStatelessCartPole_334c6_00000</td><td>RUNNING </td><td>127.0.0.1:21856</td></tr>\n</tbody>\n</table><br><br>"
     },
     "metadata": {},
     "output_type": "display_data"
    },
    {
     "name": "stderr",
     "output_type": "stream",
     "text": [
      "\u001B[2m\u001B[36m(pid=21856)\u001B[0m 2021-11-23 19:50:46,918\tWARNING trainer_template.py:185 -- `execution_plan` functions should accept `trainer`, `workers`, and `config` as args!\r\n",
      "\u001B[2m\u001B[36m(pid=21856)\u001B[0m 2021-11-23 19:50:46,918\tINFO trainable.py:110 -- Trainable.setup took 16.666 seconds. If your trainable is slow to initialize, consider setting reuse_actors=True to reduce actor creation overheads.\r\n",
      "\u001B[2m\u001B[36m(pid=21856)\u001B[0m 2021-11-23 19:50:46,934\tWARNING util.py:57 -- Install gputil for GPU system monitoring.\r\n"
     ]
    },
    {
     "data": {
      "text/plain": "<IPython.core.display.HTML object>",
      "text/html": "== Status ==<br>Current time: 2021-11-23 19:50:47 (running for 00:00:30.82)<br>Memory usage on this node: 10.3/11.9 GiB<br>Using FIFO scheduling algorithm.<br>Resources requested: 3.0/3 CPUs, 0/0 GPUs, 0.0/1.4 GiB heap, 0.0/0.7 GiB objects<br>Result logdir: C:\\Users\\Stefan\\ray_results\\PPO<br>Number of trials: 1/1 (1 RUNNING)<br><table>\n<thead>\n<tr><th>Trial name                              </th><th>status  </th><th>loc            </th></tr>\n</thead>\n<tbody>\n<tr><td>PPO_StackedStatelessCartPole_334c6_00000</td><td>RUNNING </td><td>127.0.0.1:21856</td></tr>\n</tbody>\n</table><br><br>"
     },
     "metadata": {},
     "output_type": "display_data"
    },
    {
     "name": "stderr",
     "output_type": "stream",
     "text": [
      "\u001B[2m\u001B[36m(pid=21856)\u001B[0m 2021-11-23 19:50:52,286\tWARNING deprecation.py:38 -- DeprecationWarning: `slice` has been deprecated. Use `SampleBatch[start:stop]` instead. This will raise an error in the future!\r\n"
     ]
    },
    {
     "data": {
      "text/plain": "<IPython.core.display.HTML object>",
      "text/html": "== Status ==<br>Current time: 2021-11-23 19:50:53 (running for 00:00:35.91)<br>Memory usage on this node: 10.4/11.9 GiB<br>Using FIFO scheduling algorithm.<br>Resources requested: 3.0/3 CPUs, 0/0 GPUs, 0.0/1.4 GiB heap, 0.0/0.7 GiB objects<br>Result logdir: C:\\Users\\Stefan\\ray_results\\PPO<br>Number of trials: 1/1 (1 RUNNING)<br><table>\n<thead>\n<tr><th>Trial name                              </th><th>status  </th><th>loc            </th></tr>\n</thead>\n<tbody>\n<tr><td>PPO_StackedStatelessCartPole_334c6_00000</td><td>RUNNING </td><td>127.0.0.1:21856</td></tr>\n</tbody>\n</table><br><br>"
     },
     "metadata": {},
     "output_type": "display_data"
    },
    {
     "name": "stdout",
     "output_type": "stream",
     "text": [
      "Result for PPO_StackedStatelessCartPole_334c6_00000:\n",
      "  agent_timesteps_total: 4000\n",
      "  custom_metrics: {}\n",
      "  date: 2021-11-23_19-50-57\n",
      "  done: false\n",
      "  episode_len_mean: 21.583783783783783\n",
      "  episode_media: {}\n",
      "  episode_reward_max: 71.0\n",
      "  episode_reward_mean: 21.583783783783783\n",
      "  episode_reward_min: 9.0\n",
      "  episodes_this_iter: 185\n",
      "  episodes_total: 185\n",
      "  experiment_id: 3406233b9d5e48b6850f434e85f011e6\n",
      "  hostname: nb-stschn\n",
      "  info:\n",
      "    learner:\n",
      "      default_policy:\n",
      "        custom_metrics: {}\n",
      "        learner_stats:\n",
      "          cur_kl_coeff: 0.20000000298023224\n",
      "          cur_lr: 4.999999873689376e-05\n",
      "          entropy: 0.6828362345695496\n",
      "          entropy_coeff: 0.0\n",
      "          kl: 0.01051727682352066\n",
      "          model: {}\n",
      "          policy_loss: -0.013245193287730217\n",
      "          total_loss: 173.20103454589844\n",
      "          vf_explained_var: 0.009739658795297146\n",
      "          vf_loss: 173.212158203125\n",
      "    num_agent_steps_sampled: 4000\n",
      "    num_agent_steps_trained: 4000\n",
      "    num_steps_sampled: 4000\n",
      "    num_steps_trained: 4000\n",
      "  iterations_since_restore: 1\n",
      "  node_ip: 127.0.0.1\n",
      "  num_healthy_workers: 2\n",
      "  off_policy_estimator: {}\n",
      "  perf:\n",
      "    cpu_util_percent: 94.36666666666666\n",
      "    ram_util_percent: 87.3\n",
      "  pid: 21856\n",
      "  policy_reward_max: {}\n",
      "  policy_reward_mean: {}\n",
      "  policy_reward_min: {}\n",
      "  sampler_perf:\n",
      "    mean_action_processing_ms: 0.1264461031615342\n",
      "    mean_env_render_ms: 0.0\n",
      "    mean_env_wait_ms: 0.12399380559712724\n",
      "    mean_inference_ms: 2.045415063724043\n",
      "    mean_raw_obs_processing_ms: 0.29375070703569506\n",
      "  time_since_restore: 10.32796335220337\n",
      "  time_this_iter_s: 10.32796335220337\n",
      "  time_total_s: 10.32796335220337\n",
      "  timers:\n",
      "    learn_throughput: 805.107\n",
      "    learn_time_ms: 4968.284\n",
      "    load_throughput: 0.0\n",
      "    load_time_ms: 0.0\n",
      "    sample_throughput: 747.206\n",
      "    sample_time_ms: 5353.279\n",
      "    update_time_ms: 5.107\n",
      "  timestamp: 1637693457\n",
      "  timesteps_since_restore: 0\n",
      "  timesteps_this_iter: 0\n",
      "  timesteps_total: 4000\n",
      "  training_iteration: 1\n",
      "  trial_id: 334c6_00000\n",
      "  \n"
     ]
    },
    {
     "data": {
      "text/plain": "<IPython.core.display.HTML object>",
      "text/html": "== Status ==<br>Current time: 2021-11-23 19:50:58 (running for 00:00:41.22)<br>Memory usage on this node: 10.4/11.9 GiB<br>Using FIFO scheduling algorithm.<br>Resources requested: 3.0/3 CPUs, 0/0 GPUs, 0.0/1.4 GiB heap, 0.0/0.7 GiB objects<br>Result logdir: C:\\Users\\Stefan\\ray_results\\PPO<br>Number of trials: 1/1 (1 RUNNING)<br><table>\n<thead>\n<tr><th>Trial name                              </th><th>status  </th><th>loc            </th><th style=\"text-align: right;\">  iter</th><th style=\"text-align: right;\">  total time (s)</th><th style=\"text-align: right;\">  ts</th><th style=\"text-align: right;\">  reward</th><th style=\"text-align: right;\">  episode_reward_max</th><th style=\"text-align: right;\">  episode_reward_min</th><th style=\"text-align: right;\">  episode_len_mean</th></tr>\n</thead>\n<tbody>\n<tr><td>PPO_StackedStatelessCartPole_334c6_00000</td><td>RUNNING </td><td>127.0.0.1:21856</td><td style=\"text-align: right;\">     1</td><td style=\"text-align: right;\">          10.328</td><td style=\"text-align: right;\">4000</td><td style=\"text-align: right;\"> 21.5838</td><td style=\"text-align: right;\">                  71</td><td style=\"text-align: right;\">                   9</td><td style=\"text-align: right;\">           21.5838</td></tr>\n</tbody>\n</table><br><br>"
     },
     "metadata": {},
     "output_type": "display_data"
    },
    {
     "data": {
      "text/plain": "<IPython.core.display.HTML object>",
      "text/html": "== Status ==<br>Current time: 2021-11-23 19:51:03 (running for 00:00:46.30)<br>Memory usage on this node: 10.4/11.9 GiB<br>Using FIFO scheduling algorithm.<br>Resources requested: 3.0/3 CPUs, 0/0 GPUs, 0.0/1.4 GiB heap, 0.0/0.7 GiB objects<br>Result logdir: C:\\Users\\Stefan\\ray_results\\PPO<br>Number of trials: 1/1 (1 RUNNING)<br><table>\n<thead>\n<tr><th>Trial name                              </th><th>status  </th><th>loc            </th><th style=\"text-align: right;\">  iter</th><th style=\"text-align: right;\">  total time (s)</th><th style=\"text-align: right;\">  ts</th><th style=\"text-align: right;\">  reward</th><th style=\"text-align: right;\">  episode_reward_max</th><th style=\"text-align: right;\">  episode_reward_min</th><th style=\"text-align: right;\">  episode_len_mean</th></tr>\n</thead>\n<tbody>\n<tr><td>PPO_StackedStatelessCartPole_334c6_00000</td><td>RUNNING </td><td>127.0.0.1:21856</td><td style=\"text-align: right;\">     1</td><td style=\"text-align: right;\">          10.328</td><td style=\"text-align: right;\">4000</td><td style=\"text-align: right;\"> 21.5838</td><td style=\"text-align: right;\">                  71</td><td style=\"text-align: right;\">                   9</td><td style=\"text-align: right;\">           21.5838</td></tr>\n</tbody>\n</table><br><br>"
     },
     "metadata": {},
     "output_type": "display_data"
    },
    {
     "name": "stdout",
     "output_type": "stream",
     "text": [
      "Result for PPO_StackedStatelessCartPole_334c6_00000:\n",
      "  agent_timesteps_total: 8000\n",
      "  custom_metrics: {}\n",
      "  date: 2021-11-23_19-51-05\n",
      "  done: false\n",
      "  episode_len_mean: 28.392857142857142\n",
      "  episode_media: {}\n",
      "  episode_reward_max: 128.0\n",
      "  episode_reward_mean: 28.392857142857142\n",
      "  episode_reward_min: 10.0\n",
      "  episodes_this_iter: 140\n",
      "  episodes_total: 325\n",
      "  experiment_id: 3406233b9d5e48b6850f434e85f011e6\n",
      "  hostname: nb-stschn\n",
      "  info:\n",
      "    learner:\n",
      "      default_policy:\n",
      "        custom_metrics: {}\n",
      "        learner_stats:\n",
      "          cur_kl_coeff: 0.20000000298023224\n",
      "          cur_lr: 4.999999873689376e-05\n",
      "          entropy: 0.6483438611030579\n",
      "          entropy_coeff: 0.0\n",
      "          kl: 0.011442010290920734\n",
      "          model: {}\n",
      "          policy_loss: -0.019726689904928207\n",
      "          total_loss: 179.05523681640625\n",
      "          vf_explained_var: 0.005053635686635971\n",
      "          vf_loss: 179.0726776123047\n",
      "    num_agent_steps_sampled: 8000\n",
      "    num_agent_steps_trained: 8000\n",
      "    num_steps_sampled: 8000\n",
      "    num_steps_trained: 8000\n",
      "    num_steps_trained_this_iter: 0\n",
      "  iterations_since_restore: 2\n",
      "  node_ip: 127.0.0.1\n",
      "  num_healthy_workers: 2\n",
      "  off_policy_estimator: {}\n",
      "  perf:\n",
      "    cpu_util_percent: 87.46363636363637\n",
      "    ram_util_percent: 87.48181818181818\n",
      "  pid: 21856\n",
      "  policy_reward_max: {}\n",
      "  policy_reward_mean: {}\n",
      "  policy_reward_min: {}\n",
      "  sampler_perf:\n",
      "    mean_action_processing_ms: 0.10591564436575533\n",
      "    mean_env_render_ms: 0.0\n",
      "    mean_env_wait_ms: 0.12694323003732622\n",
      "    mean_inference_ms: 1.8817601670591309\n",
      "    mean_raw_obs_processing_ms: 0.29241387581124645\n",
      "  time_since_restore: 18.639503479003906\n",
      "  time_this_iter_s: 8.311540126800537\n",
      "  time_total_s: 18.639503479003906\n",
      "  timers:\n",
      "    learn_throughput: 922.887\n",
      "    learn_time_ms: 4334.226\n",
      "    load_throughput: 0.0\n",
      "    load_time_ms: 0.0\n",
      "    sample_throughput: 533.253\n",
      "    sample_time_ms: 7501.123\n",
      "    update_time_ms: 10.881\n",
      "  timestamp: 1637693465\n",
      "  timesteps_since_restore: 0\n",
      "  timesteps_this_iter: 0\n",
      "  timesteps_total: 8000\n",
      "  training_iteration: 2\n",
      "  trial_id: 334c6_00000\n",
      "  \n"
     ]
    },
    {
     "data": {
      "text/plain": "<IPython.core.display.HTML object>",
      "text/html": "== Status ==<br>Current time: 2021-11-23 19:51:08 (running for 00:00:51.58)<br>Memory usage on this node: 10.0/11.9 GiB<br>Using FIFO scheduling algorithm.<br>Resources requested: 3.0/3 CPUs, 0/0 GPUs, 0.0/1.4 GiB heap, 0.0/0.7 GiB objects<br>Result logdir: C:\\Users\\Stefan\\ray_results\\PPO<br>Number of trials: 1/1 (1 RUNNING)<br><table>\n<thead>\n<tr><th>Trial name                              </th><th>status  </th><th>loc            </th><th style=\"text-align: right;\">  iter</th><th style=\"text-align: right;\">  total time (s)</th><th style=\"text-align: right;\">  ts</th><th style=\"text-align: right;\">  reward</th><th style=\"text-align: right;\">  episode_reward_max</th><th style=\"text-align: right;\">  episode_reward_min</th><th style=\"text-align: right;\">  episode_len_mean</th></tr>\n</thead>\n<tbody>\n<tr><td>PPO_StackedStatelessCartPole_334c6_00000</td><td>RUNNING </td><td>127.0.0.1:21856</td><td style=\"text-align: right;\">     2</td><td style=\"text-align: right;\">         18.6395</td><td style=\"text-align: right;\">8000</td><td style=\"text-align: right;\"> 28.3929</td><td style=\"text-align: right;\">                 128</td><td style=\"text-align: right;\">                  10</td><td style=\"text-align: right;\">           28.3929</td></tr>\n</tbody>\n</table><br><br>"
     },
     "metadata": {},
     "output_type": "display_data"
    },
    {
     "name": "stdout",
     "output_type": "stream",
     "text": [
      "Result for PPO_StackedStatelessCartPole_334c6_00000:\n",
      "  agent_timesteps_total: 12000\n",
      "  custom_metrics: {}\n",
      "  date: 2021-11-23_19-51-13\n",
      "  done: false\n",
      "  episode_len_mean: 43.38\n",
      "  episode_media: {}\n",
      "  episode_reward_max: 149.0\n",
      "  episode_reward_mean: 43.38\n",
      "  episode_reward_min: 10.0\n",
      "  episodes_this_iter: 89\n",
      "  episodes_total: 414\n",
      "  experiment_id: 3406233b9d5e48b6850f434e85f011e6\n",
      "  hostname: nb-stschn\n",
      "  info:\n",
      "    learner:\n",
      "      default_policy:\n",
      "        custom_metrics: {}\n",
      "        learner_stats:\n",
      "          cur_kl_coeff: 0.20000000298023224\n",
      "          cur_lr: 4.999999873689376e-05\n",
      "          entropy: 0.6209912896156311\n",
      "          entropy_coeff: 0.0\n",
      "          kl: 0.007972992956638336\n",
      "          model: {}\n",
      "          policy_loss: -0.019326912239193916\n",
      "          total_loss: 285.2525634765625\n",
      "          vf_explained_var: 0.026905234903097153\n",
      "          vf_loss: 285.2702941894531\n",
      "    num_agent_steps_sampled: 12000\n",
      "    num_agent_steps_trained: 12000\n",
      "    num_steps_sampled: 12000\n",
      "    num_steps_trained: 12000\n",
      "    num_steps_trained_this_iter: 0\n",
      "  iterations_since_restore: 3\n",
      "  node_ip: 127.0.0.1\n",
      "  num_healthy_workers: 2\n",
      "  off_policy_estimator: {}\n",
      "  perf:\n",
      "    cpu_util_percent: 72.26\n",
      "    ram_util_percent: 84.36000000000001\n",
      "  pid: 21856\n",
      "  policy_reward_max: {}\n",
      "  policy_reward_mean: {}\n",
      "  policy_reward_min: {}\n",
      "  sampler_perf:\n",
      "    mean_action_processing_ms: 0.10213356022287437\n",
      "    mean_env_render_ms: 0.0\n",
      "    mean_env_wait_ms: 0.1171790631468361\n",
      "    mean_inference_ms: 1.73218446496924\n",
      "    mean_raw_obs_processing_ms: 0.27074444152479216\n",
      "  time_since_restore: 26.00638175010681\n",
      "  time_this_iter_s: 7.366878271102905\n",
      "  time_total_s: 26.00638175010681\n",
      "  timers:\n",
      "    learn_throughput: 975.458\n",
      "    learn_time_ms: 4100.636\n",
      "    load_throughput: 0.0\n",
      "    load_time_ms: 0.0\n",
      "    sample_throughput: 533.639\n",
      "    sample_time_ms: 7495.705\n",
      "    update_time_ms: 7.254\n",
      "  timestamp: 1637693473\n",
      "  timesteps_since_restore: 0\n",
      "  timesteps_this_iter: 0\n",
      "  timesteps_total: 12000\n",
      "  training_iteration: 3\n",
      "  trial_id: 334c6_00000\n",
      "  \n"
     ]
    },
    {
     "data": {
      "text/plain": "<IPython.core.display.HTML object>",
      "text/html": "== Status ==<br>Current time: 2021-11-23 19:51:14 (running for 00:00:56.97)<br>Memory usage on this node: 10.1/11.9 GiB<br>Using FIFO scheduling algorithm.<br>Resources requested: 3.0/3 CPUs, 0/0 GPUs, 0.0/1.4 GiB heap, 0.0/0.7 GiB objects<br>Result logdir: C:\\Users\\Stefan\\ray_results\\PPO<br>Number of trials: 1/1 (1 RUNNING)<br><table>\n<thead>\n<tr><th>Trial name                              </th><th>status  </th><th>loc            </th><th style=\"text-align: right;\">  iter</th><th style=\"text-align: right;\">  total time (s)</th><th style=\"text-align: right;\">   ts</th><th style=\"text-align: right;\">  reward</th><th style=\"text-align: right;\">  episode_reward_max</th><th style=\"text-align: right;\">  episode_reward_min</th><th style=\"text-align: right;\">  episode_len_mean</th></tr>\n</thead>\n<tbody>\n<tr><td>PPO_StackedStatelessCartPole_334c6_00000</td><td>RUNNING </td><td>127.0.0.1:21856</td><td style=\"text-align: right;\">     3</td><td style=\"text-align: right;\">         26.0064</td><td style=\"text-align: right;\">12000</td><td style=\"text-align: right;\">   43.38</td><td style=\"text-align: right;\">                 149</td><td style=\"text-align: right;\">                  10</td><td style=\"text-align: right;\">             43.38</td></tr>\n</tbody>\n</table><br><br>"
     },
     "metadata": {},
     "output_type": "display_data"
    },
    {
     "data": {
      "text/plain": "<IPython.core.display.HTML object>",
      "text/html": "== Status ==<br>Current time: 2021-11-23 19:51:19 (running for 00:01:02.04)<br>Memory usage on this node: 9.7/11.9 GiB<br>Using FIFO scheduling algorithm.<br>Resources requested: 3.0/3 CPUs, 0/0 GPUs, 0.0/1.4 GiB heap, 0.0/0.7 GiB objects<br>Result logdir: C:\\Users\\Stefan\\ray_results\\PPO<br>Number of trials: 1/1 (1 RUNNING)<br><table>\n<thead>\n<tr><th>Trial name                              </th><th>status  </th><th>loc            </th><th style=\"text-align: right;\">  iter</th><th style=\"text-align: right;\">  total time (s)</th><th style=\"text-align: right;\">   ts</th><th style=\"text-align: right;\">  reward</th><th style=\"text-align: right;\">  episode_reward_max</th><th style=\"text-align: right;\">  episode_reward_min</th><th style=\"text-align: right;\">  episode_len_mean</th></tr>\n</thead>\n<tbody>\n<tr><td>PPO_StackedStatelessCartPole_334c6_00000</td><td>RUNNING </td><td>127.0.0.1:21856</td><td style=\"text-align: right;\">     3</td><td style=\"text-align: right;\">         26.0064</td><td style=\"text-align: right;\">12000</td><td style=\"text-align: right;\">   43.38</td><td style=\"text-align: right;\">                 149</td><td style=\"text-align: right;\">                  10</td><td style=\"text-align: right;\">             43.38</td></tr>\n</tbody>\n</table><br><br>"
     },
     "metadata": {},
     "output_type": "display_data"
    },
    {
     "name": "stdout",
     "output_type": "stream",
     "text": [
      "Result for PPO_StackedStatelessCartPole_334c6_00000:\n",
      "  agent_timesteps_total: 16000\n",
      "  custom_metrics: {}\n",
      "  date: 2021-11-23_19-51-20\n",
      "  done: false\n",
      "  episode_len_mean: 54.51\n",
      "  episode_media: {}\n",
      "  episode_reward_max: 162.0\n",
      "  episode_reward_mean: 54.51\n",
      "  episode_reward_min: 10.0\n",
      "  episodes_this_iter: 64\n",
      "  episodes_total: 478\n",
      "  experiment_id: 3406233b9d5e48b6850f434e85f011e6\n",
      "  hostname: nb-stschn\n",
      "  info:\n",
      "    learner:\n",
      "      default_policy:\n",
      "        custom_metrics: {}\n",
      "        learner_stats:\n",
      "          cur_kl_coeff: 0.20000000298023224\n",
      "          cur_lr: 4.999999873689376e-05\n",
      "          entropy: 0.5755634307861328\n",
      "          entropy_coeff: 0.0\n",
      "          kl: 0.007560615427792072\n",
      "          model: {}\n",
      "          policy_loss: -0.011042849160730839\n",
      "          total_loss: 282.7450256347656\n",
      "          vf_explained_var: 0.11883030086755753\n",
      "          vf_loss: 282.7546081542969\n",
      "    num_agent_steps_sampled: 16000\n",
      "    num_agent_steps_trained: 16000\n",
      "    num_steps_sampled: 16000\n",
      "    num_steps_trained: 16000\n",
      "    num_steps_trained_this_iter: 0\n",
      "  iterations_since_restore: 4\n",
      "  node_ip: 127.0.0.1\n",
      "  num_healthy_workers: 2\n",
      "  off_policy_estimator: {}\n",
      "  perf:\n",
      "    cpu_util_percent: 77.32727272727271\n",
      "    ram_util_percent: 82.68181818181819\n",
      "  pid: 21856\n",
      "  policy_reward_max: {}\n",
      "  policy_reward_mean: {}\n",
      "  policy_reward_min: {}\n",
      "  sampler_perf:\n",
      "    mean_action_processing_ms: 0.10450716380642175\n",
      "    mean_env_render_ms: 0.0\n",
      "    mean_env_wait_ms: 0.11369024958535126\n",
      "    mean_inference_ms: 1.6865983682412478\n",
      "    mean_raw_obs_processing_ms: 0.2619407126052182\n",
      "  time_since_restore: 33.53990077972412\n",
      "  time_this_iter_s: 7.53351902961731\n",
      "  time_total_s: 33.53990077972412\n",
      "  timers:\n",
      "    learn_throughput: 1018.957\n",
      "    learn_time_ms: 3925.581\n",
      "    load_throughput: 0.0\n",
      "    load_time_ms: 0.0\n",
      "    sample_throughput: 527.844\n",
      "    sample_time_ms: 7578.002\n",
      "    update_time_ms: 5.441\n",
      "  timestamp: 1637693480\n",
      "  timesteps_since_restore: 0\n",
      "  timesteps_this_iter: 0\n",
      "  timesteps_total: 16000\n",
      "  training_iteration: 4\n",
      "  trial_id: 334c6_00000\n",
      "  \n"
     ]
    },
    {
     "data": {
      "text/plain": "<IPython.core.display.HTML object>",
      "text/html": "== Status ==<br>Current time: 2021-11-23 19:51:24 (running for 00:01:07.58)<br>Memory usage on this node: 9.7/11.9 GiB<br>Using FIFO scheduling algorithm.<br>Resources requested: 3.0/3 CPUs, 0/0 GPUs, 0.0/1.4 GiB heap, 0.0/0.7 GiB objects<br>Result logdir: C:\\Users\\Stefan\\ray_results\\PPO<br>Number of trials: 1/1 (1 RUNNING)<br><table>\n<thead>\n<tr><th>Trial name                              </th><th>status  </th><th>loc            </th><th style=\"text-align: right;\">  iter</th><th style=\"text-align: right;\">  total time (s)</th><th style=\"text-align: right;\">   ts</th><th style=\"text-align: right;\">  reward</th><th style=\"text-align: right;\">  episode_reward_max</th><th style=\"text-align: right;\">  episode_reward_min</th><th style=\"text-align: right;\">  episode_len_mean</th></tr>\n</thead>\n<tbody>\n<tr><td>PPO_StackedStatelessCartPole_334c6_00000</td><td>RUNNING </td><td>127.0.0.1:21856</td><td style=\"text-align: right;\">     4</td><td style=\"text-align: right;\">         33.5399</td><td style=\"text-align: right;\">16000</td><td style=\"text-align: right;\">   54.51</td><td style=\"text-align: right;\">                 162</td><td style=\"text-align: right;\">                  10</td><td style=\"text-align: right;\">             54.51</td></tr>\n</tbody>\n</table><br><br>"
     },
     "metadata": {},
     "output_type": "display_data"
    },
    {
     "name": "stdout",
     "output_type": "stream",
     "text": [
      "Result for PPO_StackedStatelessCartPole_334c6_00000:\n",
      "  agent_timesteps_total: 20000\n",
      "  custom_metrics: {}\n",
      "  date: 2021-11-23_19-51-27\n",
      "  done: false\n",
      "  episode_len_mean: 76.08\n",
      "  episode_media: {}\n",
      "  episode_reward_max: 224.0\n",
      "  episode_reward_mean: 76.08\n",
      "  episode_reward_min: 11.0\n",
      "  episodes_this_iter: 40\n",
      "  episodes_total: 518\n",
      "  experiment_id: 3406233b9d5e48b6850f434e85f011e6\n",
      "  hostname: nb-stschn\n",
      "  info:\n",
      "    learner:\n",
      "      default_policy:\n",
      "        custom_metrics: {}\n",
      "        learner_stats:\n",
      "          cur_kl_coeff: 0.20000000298023224\n",
      "          cur_lr: 4.999999873689376e-05\n",
      "          entropy: 0.5578123927116394\n",
      "          entropy_coeff: 0.0\n",
      "          kl: 0.004904056433588266\n",
      "          model: {}\n",
      "          policy_loss: -0.009942948818206787\n",
      "          total_loss: 460.74786376953125\n",
      "          vf_explained_var: 0.20050150156021118\n",
      "          vf_loss: 460.7568664550781\n",
      "    num_agent_steps_sampled: 20000\n",
      "    num_agent_steps_trained: 20000\n",
      "    num_steps_sampled: 20000\n",
      "    num_steps_trained: 20000\n",
      "    num_steps_trained_this_iter: 0\n",
      "  iterations_since_restore: 5\n",
      "  node_ip: 127.0.0.1\n",
      "  num_healthy_workers: 2\n",
      "  off_policy_estimator: {}\n",
      "  perf:\n",
      "    cpu_util_percent: 65.13000000000001\n",
      "    ram_util_percent: 81.6\n",
      "  pid: 21856\n",
      "  policy_reward_max: {}\n",
      "  policy_reward_mean: {}\n",
      "  policy_reward_min: {}\n",
      "  sampler_perf:\n",
      "    mean_action_processing_ms: 0.1007791799011192\n",
      "    mean_env_render_ms: 0.0\n",
      "    mean_env_wait_ms: 0.11746657281591709\n",
      "    mean_inference_ms: 1.6577531887388206\n",
      "    mean_raw_obs_processing_ms: 0.24756730721629494\n",
      "  time_since_restore: 40.456207275390625\n",
      "  time_this_iter_s: 6.916306495666504\n",
      "  time_total_s: 40.456207275390625\n",
      "  timers:\n",
      "    learn_throughput: 1048.099\n",
      "    learn_time_ms: 3816.434\n",
      "    load_throughput: 0.0\n",
      "    load_time_ms: 0.0\n",
      "    sample_throughput: 536.551\n",
      "    sample_time_ms: 7455.028\n",
      "    update_time_ms: 4.559\n",
      "  timestamp: 1637693487\n",
      "  timesteps_since_restore: 0\n",
      "  timesteps_this_iter: 0\n",
      "  timesteps_total: 20000\n",
      "  training_iteration: 5\n",
      "  trial_id: 334c6_00000\n",
      "  \n"
     ]
    },
    {
     "data": {
      "text/plain": "<IPython.core.display.HTML object>",
      "text/html": "== Status ==<br>Current time: 2021-11-23 19:51:30 (running for 00:01:13.53)<br>Memory usage on this node: 9.7/11.9 GiB<br>Using FIFO scheduling algorithm.<br>Resources requested: 3.0/3 CPUs, 0/0 GPUs, 0.0/1.4 GiB heap, 0.0/0.7 GiB objects<br>Result logdir: C:\\Users\\Stefan\\ray_results\\PPO<br>Number of trials: 1/1 (1 RUNNING)<br><table>\n<thead>\n<tr><th>Trial name                              </th><th>status  </th><th>loc            </th><th style=\"text-align: right;\">  iter</th><th style=\"text-align: right;\">  total time (s)</th><th style=\"text-align: right;\">   ts</th><th style=\"text-align: right;\">  reward</th><th style=\"text-align: right;\">  episode_reward_max</th><th style=\"text-align: right;\">  episode_reward_min</th><th style=\"text-align: right;\">  episode_len_mean</th></tr>\n</thead>\n<tbody>\n<tr><td>PPO_StackedStatelessCartPole_334c6_00000</td><td>RUNNING </td><td>127.0.0.1:21856</td><td style=\"text-align: right;\">     5</td><td style=\"text-align: right;\">         40.4562</td><td style=\"text-align: right;\">20000</td><td style=\"text-align: right;\">   76.08</td><td style=\"text-align: right;\">                 224</td><td style=\"text-align: right;\">                  11</td><td style=\"text-align: right;\">             76.08</td></tr>\n</tbody>\n</table><br><br>"
     },
     "metadata": {},
     "output_type": "display_data"
    },
    {
     "name": "stdout",
     "output_type": "stream",
     "text": [
      "Result for PPO_StackedStatelessCartPole_334c6_00000:\n",
      "  agent_timesteps_total: 24000\n",
      "  custom_metrics: {}\n",
      "  date: 2021-11-23_19-51-34\n",
      "  done: false\n",
      "  episode_len_mean: 95.69\n",
      "  episode_media: {}\n",
      "  episode_reward_max: 292.0\n",
      "  episode_reward_mean: 95.69\n",
      "  episode_reward_min: 11.0\n",
      "  episodes_this_iter: 31\n",
      "  episodes_total: 549\n",
      "  experiment_id: 3406233b9d5e48b6850f434e85f011e6\n",
      "  hostname: nb-stschn\n",
      "  info:\n",
      "    learner:\n",
      "      default_policy:\n",
      "        custom_metrics: {}\n",
      "        learner_stats:\n",
      "          cur_kl_coeff: 0.10000000149011612\n",
      "          cur_lr: 4.999999873689376e-05\n",
      "          entropy: 0.5465037822723389\n",
      "          entropy_coeff: 0.0\n",
      "          kl: 0.010195990093052387\n",
      "          model: {}\n",
      "          policy_loss: -0.015780465677380562\n",
      "          total_loss: 540.371826171875\n",
      "          vf_explained_var: 0.37211480736732483\n",
      "          vf_loss: 540.3865356445312\n",
      "    num_agent_steps_sampled: 24000\n",
      "    num_agent_steps_trained: 24000\n",
      "    num_steps_sampled: 24000\n",
      "    num_steps_trained: 24000\n",
      "    num_steps_trained_this_iter: 0\n",
      "  iterations_since_restore: 6\n",
      "  node_ip: 127.0.0.1\n",
      "  num_healthy_workers: 2\n",
      "  off_policy_estimator: {}\n",
      "  perf:\n",
      "    cpu_util_percent: 68.6\n",
      "    ram_util_percent: 81.6\n",
      "  pid: 21856\n",
      "  policy_reward_max: {}\n",
      "  policy_reward_mean: {}\n",
      "  policy_reward_min: {}\n",
      "  sampler_perf:\n",
      "    mean_action_processing_ms: 0.09921285955781167\n",
      "    mean_env_render_ms: 0.0\n",
      "    mean_env_wait_ms: 0.1164039578803512\n",
      "    mean_inference_ms: 1.6122339861896569\n",
      "    mean_raw_obs_processing_ms: 0.24484183801304893\n",
      "  time_since_restore: 47.40630769729614\n",
      "  time_this_iter_s: 6.950100421905518\n",
      "  time_total_s: 47.40630769729614\n",
      "  timers:\n",
      "    learn_throughput: 1069.886\n",
      "    learn_time_ms: 3738.714\n",
      "    load_throughput: 0.0\n",
      "    load_time_ms: 0.0\n",
      "    sample_throughput: 541.766\n",
      "    sample_time_ms: 7383.26\n",
      "    update_time_ms: 6.574\n",
      "  timestamp: 1637693494\n",
      "  timesteps_since_restore: 0\n",
      "  timesteps_this_iter: 0\n",
      "  timesteps_total: 24000\n",
      "  training_iteration: 6\n",
      "  trial_id: 334c6_00000\n",
      "  \n"
     ]
    },
    {
     "data": {
      "text/plain": "<IPython.core.display.HTML object>",
      "text/html": "== Status ==<br>Current time: 2021-11-23 19:51:36 (running for 00:01:19.50)<br>Memory usage on this node: 9.7/11.9 GiB<br>Using FIFO scheduling algorithm.<br>Resources requested: 3.0/3 CPUs, 0/0 GPUs, 0.0/1.4 GiB heap, 0.0/0.7 GiB objects<br>Result logdir: C:\\Users\\Stefan\\ray_results\\PPO<br>Number of trials: 1/1 (1 RUNNING)<br><table>\n<thead>\n<tr><th>Trial name                              </th><th>status  </th><th>loc            </th><th style=\"text-align: right;\">  iter</th><th style=\"text-align: right;\">  total time (s)</th><th style=\"text-align: right;\">   ts</th><th style=\"text-align: right;\">  reward</th><th style=\"text-align: right;\">  episode_reward_max</th><th style=\"text-align: right;\">  episode_reward_min</th><th style=\"text-align: right;\">  episode_len_mean</th></tr>\n</thead>\n<tbody>\n<tr><td>PPO_StackedStatelessCartPole_334c6_00000</td><td>RUNNING </td><td>127.0.0.1:21856</td><td style=\"text-align: right;\">     6</td><td style=\"text-align: right;\">         47.4063</td><td style=\"text-align: right;\">24000</td><td style=\"text-align: right;\">   95.69</td><td style=\"text-align: right;\">                 292</td><td style=\"text-align: right;\">                  11</td><td style=\"text-align: right;\">             95.69</td></tr>\n</tbody>\n</table><br><br>"
     },
     "metadata": {},
     "output_type": "display_data"
    },
    {
     "name": "stdout",
     "output_type": "stream",
     "text": [
      "Result for PPO_StackedStatelessCartPole_334c6_00000:\n",
      "  agent_timesteps_total: 28000\n",
      "  custom_metrics: {}\n",
      "  date: 2021-11-23_19-51-41\n",
      "  done: false\n",
      "  episode_len_mean: 119.4\n",
      "  episode_media: {}\n",
      "  episode_reward_max: 348.0\n",
      "  episode_reward_mean: 119.4\n",
      "  episode_reward_min: 11.0\n",
      "  episodes_this_iter: 29\n",
      "  episodes_total: 578\n",
      "  experiment_id: 3406233b9d5e48b6850f434e85f011e6\n",
      "  hostname: nb-stschn\n",
      "  info:\n",
      "    learner:\n",
      "      default_policy:\n",
      "        custom_metrics: {}\n",
      "        learner_stats:\n",
      "          cur_kl_coeff: 0.10000000149011612\n",
      "          cur_lr: 4.999999873689376e-05\n",
      "          entropy: 0.5417383313179016\n",
      "          entropy_coeff: 0.0\n",
      "          kl: 0.014021089300513268\n",
      "          model: {}\n",
      "          policy_loss: -0.01545604970306158\n",
      "          total_loss: 454.87908935546875\n",
      "          vf_explained_var: 0.30136990547180176\n",
      "          vf_loss: 454.8931579589844\n",
      "    num_agent_steps_sampled: 28000\n",
      "    num_agent_steps_trained: 28000\n",
      "    num_steps_sampled: 28000\n",
      "    num_steps_trained: 28000\n",
      "    num_steps_trained_this_iter: 0\n",
      "  iterations_since_restore: 7\n",
      "  node_ip: 127.0.0.1\n",
      "  num_healthy_workers: 2\n",
      "  off_policy_estimator: {}\n",
      "  perf:\n",
      "    cpu_util_percent: 67.8\n",
      "    ram_util_percent: 81.6\n",
      "  pid: 21856\n",
      "  policy_reward_max: {}\n",
      "  policy_reward_mean: {}\n",
      "  policy_reward_min: {}\n",
      "  sampler_perf:\n",
      "    mean_action_processing_ms: 0.09559257831152217\n",
      "    mean_env_render_ms: 0.0\n",
      "    mean_env_wait_ms: 0.11832242476705872\n",
      "    mean_inference_ms: 1.580812267260636\n",
      "    mean_raw_obs_processing_ms: 0.2370588419859717\n",
      "  time_since_restore: 54.33967614173889\n",
      "  time_this_iter_s: 6.933368444442749\n",
      "  time_total_s: 54.33967614173889\n",
      "  timers:\n",
      "    learn_throughput: 1086.014\n",
      "    learn_time_ms: 3683.195\n",
      "    load_throughput: 0.0\n",
      "    load_time_ms: 0.0\n",
      "    sample_throughput: 546.154\n",
      "    sample_time_ms: 7323.946\n",
      "    update_time_ms: 5.635\n",
      "  timestamp: 1637693501\n",
      "  timesteps_since_restore: 0\n",
      "  timesteps_this_iter: 0\n",
      "  timesteps_total: 28000\n",
      "  training_iteration: 7\n",
      "  trial_id: 334c6_00000\n",
      "  \n"
     ]
    },
    {
     "data": {
      "text/plain": "<IPython.core.display.HTML object>",
      "text/html": "== Status ==<br>Current time: 2021-11-23 19:51:42 (running for 00:01:25.45)<br>Memory usage on this node: 9.7/11.9 GiB<br>Using FIFO scheduling algorithm.<br>Resources requested: 3.0/3 CPUs, 0/0 GPUs, 0.0/1.4 GiB heap, 0.0/0.7 GiB objects<br>Result logdir: C:\\Users\\Stefan\\ray_results\\PPO<br>Number of trials: 1/1 (1 RUNNING)<br><table>\n<thead>\n<tr><th>Trial name                              </th><th>status  </th><th>loc            </th><th style=\"text-align: right;\">  iter</th><th style=\"text-align: right;\">  total time (s)</th><th style=\"text-align: right;\">   ts</th><th style=\"text-align: right;\">  reward</th><th style=\"text-align: right;\">  episode_reward_max</th><th style=\"text-align: right;\">  episode_reward_min</th><th style=\"text-align: right;\">  episode_len_mean</th></tr>\n</thead>\n<tbody>\n<tr><td>PPO_StackedStatelessCartPole_334c6_00000</td><td>RUNNING </td><td>127.0.0.1:21856</td><td style=\"text-align: right;\">     7</td><td style=\"text-align: right;\">         54.3397</td><td style=\"text-align: right;\">28000</td><td style=\"text-align: right;\">   119.4</td><td style=\"text-align: right;\">                 348</td><td style=\"text-align: right;\">                  11</td><td style=\"text-align: right;\">             119.4</td></tr>\n</tbody>\n</table><br><br>"
     },
     "metadata": {},
     "output_type": "display_data"
    },
    {
     "data": {
      "text/plain": "<IPython.core.display.HTML object>",
      "text/html": "== Status ==<br>Current time: 2021-11-23 19:51:47 (running for 00:01:30.53)<br>Memory usage on this node: 9.7/11.9 GiB<br>Using FIFO scheduling algorithm.<br>Resources requested: 3.0/3 CPUs, 0/0 GPUs, 0.0/1.4 GiB heap, 0.0/0.7 GiB objects<br>Result logdir: C:\\Users\\Stefan\\ray_results\\PPO<br>Number of trials: 1/1 (1 RUNNING)<br><table>\n<thead>\n<tr><th>Trial name                              </th><th>status  </th><th>loc            </th><th style=\"text-align: right;\">  iter</th><th style=\"text-align: right;\">  total time (s)</th><th style=\"text-align: right;\">   ts</th><th style=\"text-align: right;\">  reward</th><th style=\"text-align: right;\">  episode_reward_max</th><th style=\"text-align: right;\">  episode_reward_min</th><th style=\"text-align: right;\">  episode_len_mean</th></tr>\n</thead>\n<tbody>\n<tr><td>PPO_StackedStatelessCartPole_334c6_00000</td><td>RUNNING </td><td>127.0.0.1:21856</td><td style=\"text-align: right;\">     7</td><td style=\"text-align: right;\">         54.3397</td><td style=\"text-align: right;\">28000</td><td style=\"text-align: right;\">   119.4</td><td style=\"text-align: right;\">                 348</td><td style=\"text-align: right;\">                  11</td><td style=\"text-align: right;\">             119.4</td></tr>\n</tbody>\n</table><br><br>"
     },
     "metadata": {},
     "output_type": "display_data"
    },
    {
     "name": "stdout",
     "output_type": "stream",
     "text": [
      "Result for PPO_StackedStatelessCartPole_334c6_00000:\n",
      "  agent_timesteps_total: 32000\n",
      "  custom_metrics: {}\n",
      "  date: 2021-11-23_19-51-48\n",
      "  done: false\n",
      "  episode_len_mean: 144.95\n",
      "  episode_media: {}\n",
      "  episode_reward_max: 428.0\n",
      "  episode_reward_mean: 144.95\n",
      "  episode_reward_min: 13.0\n",
      "  episodes_this_iter: 17\n",
      "  episodes_total: 595\n",
      "  experiment_id: 3406233b9d5e48b6850f434e85f011e6\n",
      "  hostname: nb-stschn\n",
      "  info:\n",
      "    learner:\n",
      "      default_policy:\n",
      "        custom_metrics: {}\n",
      "        learner_stats:\n",
      "          cur_kl_coeff: 0.10000000149011612\n",
      "          cur_lr: 4.999999873689376e-05\n",
      "          entropy: 0.5297797918319702\n",
      "          entropy_coeff: 0.0\n",
      "          kl: 0.006123337894678116\n",
      "          model: {}\n",
      "          policy_loss: -0.008807317353785038\n",
      "          total_loss: 491.5013427734375\n",
      "          vf_explained_var: 0.3308054804801941\n",
      "          vf_loss: 491.5095520019531\n",
      "    num_agent_steps_sampled: 32000\n",
      "    num_agent_steps_trained: 32000\n",
      "    num_steps_sampled: 32000\n",
      "    num_steps_trained: 32000\n",
      "    num_steps_trained_this_iter: 0\n",
      "  iterations_since_restore: 8\n",
      "  node_ip: 127.0.0.1\n",
      "  num_healthy_workers: 2\n",
      "  off_policy_estimator: {}\n",
      "  perf:\n",
      "    cpu_util_percent: 68.66\n",
      "    ram_util_percent: 81.5\n",
      "  pid: 21856\n",
      "  policy_reward_max: {}\n",
      "  policy_reward_mean: {}\n",
      "  policy_reward_min: {}\n",
      "  sampler_perf:\n",
      "    mean_action_processing_ms: 0.09518007677112732\n",
      "    mean_env_render_ms: 0.0\n",
      "    mean_env_wait_ms: 0.11894499998647488\n",
      "    mean_inference_ms: 1.5598401544613563\n",
      "    mean_raw_obs_processing_ms: 0.23453600570299077\n",
      "  time_since_restore: 61.50656342506409\n",
      "  time_this_iter_s: 7.166887283325195\n",
      "  time_total_s: 61.50656342506409\n",
      "  timers:\n",
      "    learn_throughput: 1088.551\n",
      "    learn_time_ms: 3674.61\n",
      "    load_throughput: 0.0\n",
      "    load_time_ms: 0.0\n",
      "    sample_throughput: 549.771\n",
      "    sample_time_ms: 7275.756\n",
      "    update_time_ms: 4.931\n",
      "  timestamp: 1637693508\n",
      "  timesteps_since_restore: 0\n",
      "  timesteps_this_iter: 0\n",
      "  timesteps_total: 32000\n",
      "  training_iteration: 8\n",
      "  trial_id: 334c6_00000\n",
      "  \n"
     ]
    },
    {
     "data": {
      "text/plain": "<IPython.core.display.HTML object>",
      "text/html": "== Status ==<br>Current time: 2021-11-23 19:51:52 (running for 00:01:35.72)<br>Memory usage on this node: 9.7/11.9 GiB<br>Using FIFO scheduling algorithm.<br>Resources requested: 3.0/3 CPUs, 0/0 GPUs, 0.0/1.4 GiB heap, 0.0/0.7 GiB objects<br>Result logdir: C:\\Users\\Stefan\\ray_results\\PPO<br>Number of trials: 1/1 (1 RUNNING)<br><table>\n<thead>\n<tr><th>Trial name                              </th><th>status  </th><th>loc            </th><th style=\"text-align: right;\">  iter</th><th style=\"text-align: right;\">  total time (s)</th><th style=\"text-align: right;\">   ts</th><th style=\"text-align: right;\">  reward</th><th style=\"text-align: right;\">  episode_reward_max</th><th style=\"text-align: right;\">  episode_reward_min</th><th style=\"text-align: right;\">  episode_len_mean</th></tr>\n</thead>\n<tbody>\n<tr><td>PPO_StackedStatelessCartPole_334c6_00000</td><td>RUNNING </td><td>127.0.0.1:21856</td><td style=\"text-align: right;\">     8</td><td style=\"text-align: right;\">         61.5066</td><td style=\"text-align: right;\">32000</td><td style=\"text-align: right;\">  144.95</td><td style=\"text-align: right;\">                 428</td><td style=\"text-align: right;\">                  13</td><td style=\"text-align: right;\">            144.95</td></tr>\n</tbody>\n</table><br><br>"
     },
     "metadata": {},
     "output_type": "display_data"
    },
    {
     "name": "stdout",
     "output_type": "stream",
     "text": [
      "Result for PPO_StackedStatelessCartPole_334c6_00000:\n",
      "  agent_timesteps_total: 36000\n",
      "  custom_metrics: {}\n",
      "  date: 2021-11-23_19-51-55\n",
      "  done: false\n",
      "  episode_len_mean: 169.85\n",
      "  episode_media: {}\n",
      "  episode_reward_max: 428.0\n",
      "  episode_reward_mean: 169.85\n",
      "  episode_reward_min: 13.0\n",
      "  episodes_this_iter: 14\n",
      "  episodes_total: 609\n",
      "  experiment_id: 3406233b9d5e48b6850f434e85f011e6\n",
      "  hostname: nb-stschn\n",
      "  info:\n",
      "    learner:\n",
      "      default_policy:\n",
      "        custom_metrics: {}\n",
      "        learner_stats:\n",
      "          cur_kl_coeff: 0.10000000149011612\n",
      "          cur_lr: 4.999999873689376e-05\n",
      "          entropy: 0.5099759697914124\n",
      "          entropy_coeff: 0.0\n",
      "          kl: 0.005467054434120655\n",
      "          model: {}\n",
      "          policy_loss: -0.005776348058134317\n",
      "          total_loss: 352.68896484375\n",
      "          vf_explained_var: 0.4378887414932251\n",
      "          vf_loss: 352.6941833496094\n",
      "    num_agent_steps_sampled: 36000\n",
      "    num_agent_steps_trained: 36000\n",
      "    num_steps_sampled: 36000\n",
      "    num_steps_trained: 36000\n",
      "    num_steps_trained_this_iter: 0\n",
      "  iterations_since_restore: 9\n",
      "  node_ip: 127.0.0.1\n",
      "  num_healthy_workers: 2\n",
      "  off_policy_estimator: {}\n",
      "  perf:\n",
      "    cpu_util_percent: 69.6\n",
      "    ram_util_percent: 81.6\n",
      "  pid: 21856\n",
      "  policy_reward_max: {}\n",
      "  policy_reward_mean: {}\n",
      "  policy_reward_min: {}\n",
      "  sampler_perf:\n",
      "    mean_action_processing_ms: 0.09467874884365873\n",
      "    mean_env_render_ms: 0.0\n",
      "    mean_env_wait_ms: 0.11908028734354836\n",
      "    mean_inference_ms: 1.5431553269125369\n",
      "    mean_raw_obs_processing_ms: 0.23251295582902728\n",
      "  time_since_restore: 68.4231686592102\n",
      "  time_this_iter_s: 6.916605234146118\n",
      "  time_total_s: 68.4231686592102\n",
      "  timers:\n",
      "    learn_throughput: 1098.791\n",
      "    learn_time_ms: 3640.365\n",
      "    load_throughput: 0.0\n",
      "    load_time_ms: 0.0\n",
      "    sample_throughput: 550.416\n",
      "    sample_time_ms: 7267.227\n",
      "    update_time_ms: 6.121\n",
      "  timestamp: 1637693515\n",
      "  timesteps_since_restore: 0\n",
      "  timesteps_this_iter: 0\n",
      "  timesteps_total: 36000\n",
      "  training_iteration: 9\n",
      "  trial_id: 334c6_00000\n",
      "  \n"
     ]
    },
    {
     "data": {
      "text/plain": "<IPython.core.display.HTML object>",
      "text/html": "== Status ==<br>Current time: 2021-11-23 19:51:58 (running for 00:01:41.62)<br>Memory usage on this node: 9.7/11.9 GiB<br>Using FIFO scheduling algorithm.<br>Resources requested: 3.0/3 CPUs, 0/0 GPUs, 0.0/1.4 GiB heap, 0.0/0.7 GiB objects<br>Result logdir: C:\\Users\\Stefan\\ray_results\\PPO<br>Number of trials: 1/1 (1 RUNNING)<br><table>\n<thead>\n<tr><th>Trial name                              </th><th>status  </th><th>loc            </th><th style=\"text-align: right;\">  iter</th><th style=\"text-align: right;\">  total time (s)</th><th style=\"text-align: right;\">   ts</th><th style=\"text-align: right;\">  reward</th><th style=\"text-align: right;\">  episode_reward_max</th><th style=\"text-align: right;\">  episode_reward_min</th><th style=\"text-align: right;\">  episode_len_mean</th></tr>\n</thead>\n<tbody>\n<tr><td>PPO_StackedStatelessCartPole_334c6_00000</td><td>RUNNING </td><td>127.0.0.1:21856</td><td style=\"text-align: right;\">     9</td><td style=\"text-align: right;\">         68.4232</td><td style=\"text-align: right;\">36000</td><td style=\"text-align: right;\">  169.85</td><td style=\"text-align: right;\">                 428</td><td style=\"text-align: right;\">                  13</td><td style=\"text-align: right;\">            169.85</td></tr>\n</tbody>\n</table><br><br>"
     },
     "metadata": {},
     "output_type": "display_data"
    },
    {
     "name": "stdout",
     "output_type": "stream",
     "text": [
      "Result for PPO_StackedStatelessCartPole_334c6_00000:\n",
      "  agent_timesteps_total: 40000\n",
      "  custom_metrics: {}\n",
      "  date: 2021-11-23_19-52-02\n",
      "  done: true\n",
      "  episode_len_mean: 188.77\n",
      "  episode_media: {}\n",
      "  episode_reward_max: 550.0\n",
      "  episode_reward_mean: 188.77\n",
      "  episode_reward_min: 13.0\n",
      "  episodes_this_iter: 17\n",
      "  episodes_total: 626\n",
      "  experiment_id: 3406233b9d5e48b6850f434e85f011e6\n",
      "  hostname: nb-stschn\n",
      "  info:\n",
      "    learner:\n",
      "      default_policy:\n",
      "        custom_metrics: {}\n",
      "        learner_stats:\n",
      "          cur_kl_coeff: 0.10000000149011612\n",
      "          cur_lr: 4.999999873689376e-05\n",
      "          entropy: 0.47847867012023926\n",
      "          entropy_coeff: 0.0\n",
      "          kl: 0.006629487499594688\n",
      "          model: {}\n",
      "          policy_loss: -0.006158406380563974\n",
      "          total_loss: 478.2373046875\n",
      "          vf_explained_var: 0.25408467650413513\n",
      "          vf_loss: 478.2427978515625\n",
      "    num_agent_steps_sampled: 40000\n",
      "    num_agent_steps_trained: 40000\n",
      "    num_steps_sampled: 40000\n",
      "    num_steps_trained: 40000\n",
      "    num_steps_trained_this_iter: 0\n",
      "  iterations_since_restore: 10\n",
      "  node_ip: 127.0.0.1\n",
      "  num_healthy_workers: 2\n",
      "  off_policy_estimator: {}\n",
      "  perf:\n",
      "    cpu_util_percent: 66.86\n",
      "    ram_util_percent: 81.63000000000001\n",
      "  pid: 21856\n",
      "  policy_reward_max: {}\n",
      "  policy_reward_mean: {}\n",
      "  policy_reward_min: {}\n",
      "  sampler_perf:\n",
      "    mean_action_processing_ms: 0.09391271110669815\n",
      "    mean_env_render_ms: 0.0\n",
      "    mean_env_wait_ms: 0.11926550179481503\n",
      "    mean_inference_ms: 1.5253108671191222\n",
      "    mean_raw_obs_processing_ms: 0.22900390792580588\n",
      "  time_since_restore: 75.35639786720276\n",
      "  time_this_iter_s: 6.933229207992554\n",
      "  time_total_s: 75.35639786720276\n",
      "  timers:\n",
      "    learn_throughput: 1106.606\n",
      "    learn_time_ms: 3614.655\n",
      "    load_throughput: 0.0\n",
      "    load_time_ms: 0.0\n",
      "    sample_throughput: 552.792\n",
      "    sample_time_ms: 7235.996\n",
      "    update_time_ms: 7.174\n",
      "  timestamp: 1637693522\n",
      "  timesteps_since_restore: 0\n",
      "  timesteps_this_iter: 0\n",
      "  timesteps_total: 40000\n",
      "  training_iteration: 10\n",
      "  trial_id: 334c6_00000\n",
      "  \n"
     ]
    },
    {
     "data": {
      "text/plain": "<IPython.core.display.HTML object>",
      "text/html": "== Status ==<br>Current time: 2021-11-23 19:52:02 (running for 00:01:45.62)<br>Memory usage on this node: 9.7/11.9 GiB<br>Using FIFO scheduling algorithm.<br>Resources requested: 0/3 CPUs, 0/0 GPUs, 0.0/1.4 GiB heap, 0.0/0.7 GiB objects<br>Result logdir: C:\\Users\\Stefan\\ray_results\\PPO<br>Number of trials: 1/1 (1 TERMINATED)<br><table>\n<thead>\n<tr><th>Trial name                              </th><th>status    </th><th>loc            </th><th style=\"text-align: right;\">  iter</th><th style=\"text-align: right;\">  total time (s)</th><th style=\"text-align: right;\">   ts</th><th style=\"text-align: right;\">  reward</th><th style=\"text-align: right;\">  episode_reward_max</th><th style=\"text-align: right;\">  episode_reward_min</th><th style=\"text-align: right;\">  episode_len_mean</th></tr>\n</thead>\n<tbody>\n<tr><td>PPO_StackedStatelessCartPole_334c6_00000</td><td>TERMINATED</td><td>127.0.0.1:21856</td><td style=\"text-align: right;\">    10</td><td style=\"text-align: right;\">         75.3564</td><td style=\"text-align: right;\">40000</td><td style=\"text-align: right;\">  188.77</td><td style=\"text-align: right;\">                 550</td><td style=\"text-align: right;\">                  13</td><td style=\"text-align: right;\">            188.77</td></tr>\n</tbody>\n</table><br><br>"
     },
     "metadata": {},
     "output_type": "display_data"
    },
    {
     "name": "stderr",
     "output_type": "stream",
     "text": [
      "\u001B[2m\u001B[36m(pid=21856)\u001B[0m Windows fatal exception: access violation\n",
      "\u001B[2m\u001B[36m(pid=21856)\u001B[0m \n",
      "\u001B[2m\u001B[36m(pid=2944)\u001B[0m [2021-11-23 19:52:03,274 E 2944 12840] raylet_client.cc:159: IOError: Unknown error [RayletClient] Failed to disconnect from raylet.\r\n",
      "\u001B[2m\u001B[36m(pid=2944)\u001B[0m Windows fatal exception: access violation\n",
      "\u001B[2m\u001B[36m(pid=2944)\u001B[0m \n",
      "\u001B[2m\u001B[36m(pid=16956)\u001B[0m [2021-11-23 19:52:03,275 E 16956 10444] raylet_client.cc:159: IOError: Unknown error [RayletClient] Failed to disconnect from raylet.\r\n",
      "\u001B[2m\u001B[36m(pid=16956)\u001B[0m Windows fatal exception: access violation\n",
      "\u001B[2m\u001B[36m(pid=16956)\u001B[0m \n",
      "2021-11-23 19:52:03,401\tINFO tune.py:630 -- Total run time: 106.27 seconds (105.57 seconds for the tuning loop).\n"
     ]
    },
    {
     "name": "stdout",
     "output_type": "stream",
     "text": [
      "Option 3a: Training finished successfully\n"
     ]
    }
   ],
   "source": [
    "# use PPO with vanilla MLP\n",
    "config3a = ppo.DEFAULT_CONFIG.copy()\n",
    "config3a[\"env\"] = \"StackedStatelessCartPole\"\n",
    "# train; this takes a while\n",
    "results3a = ray.tune.run(\"PPO\", config=config3a, stop=stop)\n",
    "print(\"Option 3a: Training finished successfully\")"
   ],
   "metadata": {
    "collapsed": false,
    "pycharm": {
     "name": "#%%\n"
    }
   }
  },
  {
   "cell_type": "code",
   "execution_count": 43,
   "outputs": [
    {
     "data": {
      "text/plain": "188.77"
     },
     "execution_count": 43,
     "metadata": {},
     "output_type": "execute_result"
    }
   ],
   "source": [
    "# check results\n",
    "results3a.default_metric = \"episode_reward_mean\"\n",
    "results3a.default_mode = \"max\"\n",
    "# print the mean episode reward = episode length --> higher = better\n",
    "results3a.best_result[\"episode_reward_mean\"]"
   ],
   "metadata": {
    "collapsed": false,
    "pycharm": {
     "name": "#%%\n"
    }
   }
  },
  {
   "cell_type": "code",
   "execution_count": 44,
   "outputs": [
    {
     "name": "stderr",
     "output_type": "stream",
     "text": [
      "c:\\users\\stefan\\git-repos\\private\\blog\\venv\\lib\\site-packages\\seaborn\\_decorators.py:36: FutureWarning: Pass the following variables as keyword args: x, y. From version 0.12, the only valid positional argument will be `data`, and passing other arguments without an explicit keyword will result in an error or misinterpretation.\n",
      "  warnings.warn(\n"
     ]
    },
    {
     "data": {
      "text/plain": "<Figure size 432x288 with 1 Axes>",
      "image/png": "[encoded data removed]"
     },
     "metadata": {
      "needs_background": "light"
     },
     "output_type": "display_data"
    }
   ],
   "source": [
    "plot_rewards(results3a)"
   ],
   "metadata": {
    "collapsed": false,
    "pycharm": {
     "name": "#%%\n"
    }
   }
  },
  {
   "cell_type": "markdown",
   "source": [
    "### Option 3b: Use LSTM for Processing the Sequence\n",
    "\n",
    "Again max sequence length 10\n",
    "\n",
    "Also see the corresponding RLlib example: https://github.com/ray-project/ray/blob/master/rllib/examples/cartpole_lstm.py"
   ],
   "metadata": {
    "collapsed": false,
    "pycharm": {
     "name": "#%% md\n"
    }
   }
  },
  {
   "cell_type": "code",
   "execution_count": 45,
   "outputs": [
    {
     "data": {
      "text/plain": "<IPython.core.display.HTML object>",
      "text/html": "== Status ==<br>Current time: 2021-11-23 19:52:03 (running for 00:00:00.13)<br>Memory usage on this node: 8.9/11.9 GiB<br>Using FIFO scheduling algorithm.<br>Resources requested: 0/3 CPUs, 0/0 GPUs, 0.0/1.4 GiB heap, 0.0/0.7 GiB objects<br>Result logdir: C:\\Users\\Stefan\\ray_results\\PPO<br>Number of trials: 1/1 (1 PENDING)<br><table>\n<thead>\n<tr><th>Trial name                       </th><th>status  </th><th>loc  </th></tr>\n</thead>\n<tbody>\n<tr><td>PPO_StatelessCartPole_72c9b_00000</td><td>PENDING </td><td>     </td></tr>\n</tbody>\n</table><br><br>"
     },
     "metadata": {},
     "output_type": "display_data"
    },
    {
     "name": "stderr",
     "output_type": "stream",
     "text": [
      "\u001B[2m\u001B[36m(pid=None)\u001B[0m c:\\users\\stefan\\git-repos\\private\\blog\\venv\\lib\\site-packages\\redis\\connection.py:77: UserWarning: redis-py works best with hiredis. Please consider installing\r\n",
      "\u001B[2m\u001B[36m(pid=None)\u001B[0m   warnings.warn(msg)\r\n"
     ]
    },
    {
     "data": {
      "text/plain": "<IPython.core.display.HTML object>",
      "text/html": "== Status ==<br>Current time: 2021-11-23 19:52:08 (running for 00:00:05.15)<br>Memory usage on this node: 9.0/11.9 GiB<br>Using FIFO scheduling algorithm.<br>Resources requested: 0/3 CPUs, 0/0 GPUs, 0.0/1.4 GiB heap, 0.0/0.7 GiB objects<br>Result logdir: C:\\Users\\Stefan\\ray_results\\PPO<br>Number of trials: 1/1 (1 PENDING)<br><table>\n<thead>\n<tr><th>Trial name                       </th><th>status  </th><th>loc  </th></tr>\n</thead>\n<tbody>\n<tr><td>PPO_StatelessCartPole_72c9b_00000</td><td>PENDING </td><td>     </td></tr>\n</tbody>\n</table><br><br>"
     },
     "metadata": {},
     "output_type": "display_data"
    },
    {
     "name": "stderr",
     "output_type": "stream",
     "text": [
      "\u001B[2m\u001B[36m(pid=8232)\u001B[0m 2021-11-23 19:52:15,002\tINFO trainer.py:753 -- Tip: set framework=tfe or the --eager flag to enable TensorFlow eager execution\r\n",
      "\u001B[2m\u001B[36m(pid=8232)\u001B[0m 2021-11-23 19:52:15,002\tINFO ppo.py:166 -- In multi-agent mode, policies will be optimized sequentially by the multi-GPU optimizer. Consider setting simple_optimizer=True if this doesn't work for you.\r\n",
      "\u001B[2m\u001B[36m(pid=8232)\u001B[0m 2021-11-23 19:52:15,002\tINFO trainer.py:770 -- Current log_level is WARN. For more information, set 'log_level': 'INFO' / 'DEBUG' or use the -v and -vv flags.\r\n",
      "\u001B[2m\u001B[36m(pid=None)\u001B[0m c:\\users\\stefan\\git-repos\\private\\blog\\venv\\lib\\site-packages\\redis\\connection.py:77: UserWarning: redis-py works best with hiredis. Please consider installing\r\n",
      "\u001B[2m\u001B[36m(pid=None)\u001B[0m   warnings.warn(msg)\r\n",
      "\u001B[2m\u001B[36m(pid=None)\u001B[0m c:\\users\\stefan\\git-repos\\private\\blog\\venv\\lib\\site-packages\\redis\\connection.py:77: UserWarning: redis-py works best with hiredis. Please consider installing\r\n",
      "\u001B[2m\u001B[36m(pid=None)\u001B[0m   warnings.warn(msg)\r\n",
      "\u001B[2m\u001B[36m(pid=20100)\u001B[0m 2021-11-23 19:52:27,435\tWARNING deprecation.py:38 -- DeprecationWarning: `SampleBatch['is_training']` has been deprecated. Use `SampleBatch.is_training` instead. This will raise an error in the future!\r\n",
      "\u001B[2m\u001B[36m(pid=8232)\u001B[0m 2021-11-23 19:52:30,867\tWARNING deprecation.py:38 -- DeprecationWarning: `SampleBatch['is_training']` has been deprecated. Use `SampleBatch.is_training` instead. This will raise an error in the future!\r\n"
     ]
    },
    {
     "data": {
      "text/plain": "<IPython.core.display.HTML object>",
      "text/html": "== Status ==<br>Current time: 2021-11-23 19:52:32 (running for 00:00:29.23)<br>Memory usage on this node: 9.8/11.9 GiB<br>Using FIFO scheduling algorithm.<br>Resources requested: 3.0/3 CPUs, 0/0 GPUs, 0.0/1.4 GiB heap, 0.0/0.7 GiB objects<br>Result logdir: C:\\Users\\Stefan\\ray_results\\PPO<br>Number of trials: 1/1 (1 RUNNING)<br><table>\n<thead>\n<tr><th>Trial name                       </th><th>status  </th><th>loc           </th></tr>\n</thead>\n<tbody>\n<tr><td>PPO_StatelessCartPole_72c9b_00000</td><td>RUNNING </td><td>127.0.0.1:8232</td></tr>\n</tbody>\n</table><br><br>"
     },
     "metadata": {},
     "output_type": "display_data"
    },
    {
     "name": "stderr",
     "output_type": "stream",
     "text": [
      "\u001B[2m\u001B[36m(pid=8232)\u001B[0m 2021-11-23 19:52:32,885\tWARNING trainer_template.py:185 -- `execution_plan` functions should accept `trainer`, `workers`, and `config` as args!\r\n",
      "\u001B[2m\u001B[36m(pid=8232)\u001B[0m 2021-11-23 19:52:32,885\tINFO trainable.py:110 -- Trainable.setup took 17.900 seconds. If your trainable is slow to initialize, consider setting reuse_actors=True to reduce actor creation overheads.\r\n",
      "\u001B[2m\u001B[36m(pid=8232)\u001B[0m 2021-11-23 19:52:32,885\tWARNING util.py:57 -- Install gputil for GPU system monitoring.\r\n"
     ]
    },
    {
     "data": {
      "text/plain": "<IPython.core.display.HTML object>",
      "text/html": "== Status ==<br>Current time: 2021-11-23 19:52:33 (running for 00:00:30.27)<br>Memory usage on this node: 9.8/11.9 GiB<br>Using FIFO scheduling algorithm.<br>Resources requested: 3.0/3 CPUs, 0/0 GPUs, 0.0/1.4 GiB heap, 0.0/0.7 GiB objects<br>Result logdir: C:\\Users\\Stefan\\ray_results\\PPO<br>Number of trials: 1/1 (1 RUNNING)<br><table>\n<thead>\n<tr><th>Trial name                       </th><th>status  </th><th>loc           </th></tr>\n</thead>\n<tbody>\n<tr><td>PPO_StatelessCartPole_72c9b_00000</td><td>RUNNING </td><td>127.0.0.1:8232</td></tr>\n</tbody>\n</table><br><br>"
     },
     "metadata": {},
     "output_type": "display_data"
    },
    {
     "name": "stderr",
     "output_type": "stream",
     "text": [
      "\u001B[2m\u001B[36m(pid=8232)\u001B[0m 2021-11-23 19:52:38,751\tWARNING deprecation.py:38 -- DeprecationWarning: `slice` has been deprecated. Use `SampleBatch[start:stop]` instead. This will raise an error in the future!\r\n"
     ]
    },
    {
     "data": {
      "text/plain": "<IPython.core.display.HTML object>",
      "text/html": "== Status ==<br>Current time: 2021-11-23 19:52:39 (running for 00:00:36.32)<br>Memory usage on this node: 9.9/11.9 GiB<br>Using FIFO scheduling algorithm.<br>Resources requested: 3.0/3 CPUs, 0/0 GPUs, 0.0/1.4 GiB heap, 0.0/0.7 GiB objects<br>Result logdir: C:\\Users\\Stefan\\ray_results\\PPO<br>Number of trials: 1/1 (1 RUNNING)<br><table>\n<thead>\n<tr><th>Trial name                       </th><th>status  </th><th>loc           </th></tr>\n</thead>\n<tbody>\n<tr><td>PPO_StatelessCartPole_72c9b_00000</td><td>RUNNING </td><td>127.0.0.1:8232</td></tr>\n</tbody>\n</table><br><br>"
     },
     "metadata": {},
     "output_type": "display_data"
    },
    {
     "data": {
      "text/plain": "<IPython.core.display.HTML object>",
      "text/html": "== Status ==<br>Current time: 2021-11-23 19:52:45 (running for 00:00:41.45)<br>Memory usage on this node: 9.9/11.9 GiB<br>Using FIFO scheduling algorithm.<br>Resources requested: 3.0/3 CPUs, 0/0 GPUs, 0.0/1.4 GiB heap, 0.0/0.7 GiB objects<br>Result logdir: C:\\Users\\Stefan\\ray_results\\PPO<br>Number of trials: 1/1 (1 RUNNING)<br><table>\n<thead>\n<tr><th>Trial name                       </th><th>status  </th><th>loc           </th></tr>\n</thead>\n<tbody>\n<tr><td>PPO_StatelessCartPole_72c9b_00000</td><td>RUNNING </td><td>127.0.0.1:8232</td></tr>\n</tbody>\n</table><br><br>"
     },
     "metadata": {},
     "output_type": "display_data"
    },
    {
     "data": {
      "text/plain": "<IPython.core.display.HTML object>",
      "text/html": "== Status ==<br>Current time: 2021-11-23 19:52:50 (running for 00:00:46.57)<br>Memory usage on this node: 9.9/11.9 GiB<br>Using FIFO scheduling algorithm.<br>Resources requested: 3.0/3 CPUs, 0/0 GPUs, 0.0/1.4 GiB heap, 0.0/0.7 GiB objects<br>Result logdir: C:\\Users\\Stefan\\ray_results\\PPO<br>Number of trials: 1/1 (1 RUNNING)<br><table>\n<thead>\n<tr><th>Trial name                       </th><th>status  </th><th>loc           </th></tr>\n</thead>\n<tbody>\n<tr><td>PPO_StatelessCartPole_72c9b_00000</td><td>RUNNING </td><td>127.0.0.1:8232</td></tr>\n</tbody>\n</table><br><br>"
     },
     "metadata": {},
     "output_type": "display_data"
    },
    {
     "data": {
      "text/plain": "<IPython.core.display.HTML object>",
      "text/html": "== Status ==<br>Current time: 2021-11-23 19:52:55 (running for 00:00:51.84)<br>Memory usage on this node: 9.9/11.9 GiB<br>Using FIFO scheduling algorithm.<br>Resources requested: 3.0/3 CPUs, 0/0 GPUs, 0.0/1.4 GiB heap, 0.0/0.7 GiB objects<br>Result logdir: C:\\Users\\Stefan\\ray_results\\PPO<br>Number of trials: 1/1 (1 RUNNING)<br><table>\n<thead>\n<tr><th>Trial name                       </th><th>status  </th><th>loc           </th></tr>\n</thead>\n<tbody>\n<tr><td>PPO_StatelessCartPole_72c9b_00000</td><td>RUNNING </td><td>127.0.0.1:8232</td></tr>\n</tbody>\n</table><br><br>"
     },
     "metadata": {},
     "output_type": "display_data"
    },
    {
     "data": {
      "text/plain": "<IPython.core.display.HTML object>",
      "text/html": "== Status ==<br>Current time: 2021-11-23 19:53:00 (running for 00:00:56.93)<br>Memory usage on this node: 9.9/11.9 GiB<br>Using FIFO scheduling algorithm.<br>Resources requested: 3.0/3 CPUs, 0/0 GPUs, 0.0/1.4 GiB heap, 0.0/0.7 GiB objects<br>Result logdir: C:\\Users\\Stefan\\ray_results\\PPO<br>Number of trials: 1/1 (1 RUNNING)<br><table>\n<thead>\n<tr><th>Trial name                       </th><th>status  </th><th>loc           </th></tr>\n</thead>\n<tbody>\n<tr><td>PPO_StatelessCartPole_72c9b_00000</td><td>RUNNING </td><td>127.0.0.1:8232</td></tr>\n</tbody>\n</table><br><br>"
     },
     "metadata": {},
     "output_type": "display_data"
    },
    {
     "data": {
      "text/plain": "<IPython.core.display.HTML object>",
      "text/html": "== Status ==<br>Current time: 2021-11-23 19:53:05 (running for 00:01:02.12)<br>Memory usage on this node: 9.9/11.9 GiB<br>Using FIFO scheduling algorithm.<br>Resources requested: 3.0/3 CPUs, 0/0 GPUs, 0.0/1.4 GiB heap, 0.0/0.7 GiB objects<br>Result logdir: C:\\Users\\Stefan\\ray_results\\PPO<br>Number of trials: 1/1 (1 RUNNING)<br><table>\n<thead>\n<tr><th>Trial name                       </th><th>status  </th><th>loc           </th></tr>\n</thead>\n<tbody>\n<tr><td>PPO_StatelessCartPole_72c9b_00000</td><td>RUNNING </td><td>127.0.0.1:8232</td></tr>\n</tbody>\n</table><br><br>"
     },
     "metadata": {},
     "output_type": "display_data"
    },
    {
     "data": {
      "text/plain": "<IPython.core.display.HTML object>",
      "text/html": "== Status ==<br>Current time: 2021-11-23 19:53:10 (running for 00:01:07.18)<br>Memory usage on this node: 9.9/11.9 GiB<br>Using FIFO scheduling algorithm.<br>Resources requested: 3.0/3 CPUs, 0/0 GPUs, 0.0/1.4 GiB heap, 0.0/0.7 GiB objects<br>Result logdir: C:\\Users\\Stefan\\ray_results\\PPO<br>Number of trials: 1/1 (1 RUNNING)<br><table>\n<thead>\n<tr><th>Trial name                       </th><th>status  </th><th>loc           </th></tr>\n</thead>\n<tbody>\n<tr><td>PPO_StatelessCartPole_72c9b_00000</td><td>RUNNING </td><td>127.0.0.1:8232</td></tr>\n</tbody>\n</table><br><br>"
     },
     "metadata": {},
     "output_type": "display_data"
    },
    {
     "data": {
      "text/plain": "<IPython.core.display.HTML object>",
      "text/html": "== Status ==<br>Current time: 2021-11-23 19:53:16 (running for 00:01:12.36)<br>Memory usage on this node: 9.9/11.9 GiB<br>Using FIFO scheduling algorithm.<br>Resources requested: 3.0/3 CPUs, 0/0 GPUs, 0.0/1.4 GiB heap, 0.0/0.7 GiB objects<br>Result logdir: C:\\Users\\Stefan\\ray_results\\PPO<br>Number of trials: 1/1 (1 RUNNING)<br><table>\n<thead>\n<tr><th>Trial name                       </th><th>status  </th><th>loc           </th></tr>\n</thead>\n<tbody>\n<tr><td>PPO_StatelessCartPole_72c9b_00000</td><td>RUNNING </td><td>127.0.0.1:8232</td></tr>\n</tbody>\n</table><br><br>"
     },
     "metadata": {},
     "output_type": "display_data"
    },
    {
     "data": {
      "text/plain": "<IPython.core.display.HTML object>",
      "text/html": "== Status ==<br>Current time: 2021-11-23 19:53:21 (running for 00:01:17.52)<br>Memory usage on this node: 9.8/11.9 GiB<br>Using FIFO scheduling algorithm.<br>Resources requested: 3.0/3 CPUs, 0/0 GPUs, 0.0/1.4 GiB heap, 0.0/0.7 GiB objects<br>Result logdir: C:\\Users\\Stefan\\ray_results\\PPO<br>Number of trials: 1/1 (1 RUNNING)<br><table>\n<thead>\n<tr><th>Trial name                       </th><th>status  </th><th>loc           </th></tr>\n</thead>\n<tbody>\n<tr><td>PPO_StatelessCartPole_72c9b_00000</td><td>RUNNING </td><td>127.0.0.1:8232</td></tr>\n</tbody>\n</table><br><br>"
     },
     "metadata": {},
     "output_type": "display_data"
    },
    {
     "data": {
      "text/plain": "<IPython.core.display.HTML object>",
      "text/html": "== Status ==<br>Current time: 2021-11-23 19:53:26 (running for 00:01:22.88)<br>Memory usage on this node: 9.7/11.9 GiB<br>Using FIFO scheduling algorithm.<br>Resources requested: 3.0/3 CPUs, 0/0 GPUs, 0.0/1.4 GiB heap, 0.0/0.7 GiB objects<br>Result logdir: C:\\Users\\Stefan\\ray_results\\PPO<br>Number of trials: 1/1 (1 RUNNING)<br><table>\n<thead>\n<tr><th>Trial name                       </th><th>status  </th><th>loc           </th></tr>\n</thead>\n<tbody>\n<tr><td>PPO_StatelessCartPole_72c9b_00000</td><td>RUNNING </td><td>127.0.0.1:8232</td></tr>\n</tbody>\n</table><br><br>"
     },
     "metadata": {},
     "output_type": "display_data"
    },
    {
     "name": "stdout",
     "output_type": "stream",
     "text": [
      "Result for PPO_StatelessCartPole_72c9b_00000:\n",
      "  agent_timesteps_total: 4000\n",
      "  custom_metrics: {}\n",
      "  date: 2021-11-23_19-53-30\n",
      "  done: false\n",
      "  episode_len_mean: 23.963636363636365\n",
      "  episode_media: {}\n",
      "  episode_reward_max: 73.0\n",
      "  episode_reward_mean: 23.963636363636365\n",
      "  episode_reward_min: 9.0\n",
      "  episodes_this_iter: 165\n",
      "  episodes_total: 165\n",
      "  experiment_id: 5ab5d39a5646406282869656a0cafe8c\n",
      "  hostname: nb-stschn\n",
      "  info:\n",
      "    learner:\n",
      "      default_policy:\n",
      "        custom_metrics: {}\n",
      "        learner_stats:\n",
      "          cur_kl_coeff: 0.20000000298023224\n",
      "          cur_lr: 4.999999873689376e-05\n",
      "          entropy: 0.6856714487075806\n",
      "          entropy_coeff: 0.0\n",
      "          kl: 0.0071548279374837875\n",
      "          model: {}\n",
      "          policy_loss: -0.013108992949128151\n",
      "          total_loss: 156.71572875976562\n",
      "          vf_explained_var: -0.1254156082868576\n",
      "          vf_loss: 156.72740173339844\n",
      "    num_agent_steps_sampled: 4000\n",
      "    num_agent_steps_trained: 4000\n",
      "    num_steps_sampled: 4000\n",
      "    num_steps_trained: 4000\n",
      "  iterations_since_restore: 1\n",
      "  node_ip: 127.0.0.1\n",
      "  num_healthy_workers: 2\n",
      "  off_policy_estimator: {}\n",
      "  perf:\n",
      "    cpu_util_percent: 93.22405063291139\n",
      "    ram_util_percent: 82.67215189873417\n",
      "  pid: 8232\n",
      "  policy_reward_max: {}\n",
      "  policy_reward_mean: {}\n",
      "  policy_reward_min: {}\n",
      "  sampler_perf:\n",
      "    mean_action_processing_ms: 0.15980393529875245\n",
      "    mean_env_render_ms: 0.0\n",
      "    mean_env_wait_ms: 0.1100260960855909\n",
      "    mean_inference_ms: 2.406109340685576\n",
      "    mean_raw_obs_processing_ms: 0.1688659383395904\n",
      "  time_since_restore: 57.10041046142578\n",
      "  time_this_iter_s: 57.10041046142578\n",
      "  time_total_s: 57.10041046142578\n",
      "  timers:\n",
      "    learn_throughput: 78.098\n",
      "    learn_time_ms: 51217.385\n",
      "    load_throughput: 0.0\n",
      "    load_time_ms: 0.0\n",
      "    sample_throughput: 681.455\n",
      "    sample_time_ms: 5869.79\n",
      "    update_time_ms: 16.155\n",
      "  timestamp: 1637693610\n",
      "  timesteps_since_restore: 0\n",
      "  timesteps_this_iter: 0\n",
      "  timesteps_total: 4000\n",
      "  training_iteration: 1\n",
      "  trial_id: 72c9b_00000\n",
      "  \n"
     ]
    },
    {
     "data": {
      "text/plain": "<IPython.core.display.HTML object>",
      "text/html": "== Status ==<br>Current time: 2021-11-23 19:53:32 (running for 00:01:28.40)<br>Memory usage on this node: 9.7/11.9 GiB<br>Using FIFO scheduling algorithm.<br>Resources requested: 3.0/3 CPUs, 0/0 GPUs, 0.0/1.4 GiB heap, 0.0/0.7 GiB objects<br>Result logdir: C:\\Users\\Stefan\\ray_results\\PPO<br>Number of trials: 1/1 (1 RUNNING)<br><table>\n<thead>\n<tr><th>Trial name                       </th><th>status  </th><th>loc           </th><th style=\"text-align: right;\">  iter</th><th style=\"text-align: right;\">  total time (s)</th><th style=\"text-align: right;\">  ts</th><th style=\"text-align: right;\">  reward</th><th style=\"text-align: right;\">  episode_reward_max</th><th style=\"text-align: right;\">  episode_reward_min</th><th style=\"text-align: right;\">  episode_len_mean</th></tr>\n</thead>\n<tbody>\n<tr><td>PPO_StatelessCartPole_72c9b_00000</td><td>RUNNING </td><td>127.0.0.1:8232</td><td style=\"text-align: right;\">     1</td><td style=\"text-align: right;\">         57.1004</td><td style=\"text-align: right;\">4000</td><td style=\"text-align: right;\"> 23.9636</td><td style=\"text-align: right;\">                  73</td><td style=\"text-align: right;\">                   9</td><td style=\"text-align: right;\">           23.9636</td></tr>\n</tbody>\n</table><br><br>"
     },
     "metadata": {},
     "output_type": "display_data"
    },
    {
     "data": {
      "text/plain": "<IPython.core.display.HTML object>",
      "text/html": "== Status ==<br>Current time: 2021-11-23 19:53:37 (running for 00:01:33.48)<br>Memory usage on this node: 9.7/11.9 GiB<br>Using FIFO scheduling algorithm.<br>Resources requested: 3.0/3 CPUs, 0/0 GPUs, 0.0/1.4 GiB heap, 0.0/0.7 GiB objects<br>Result logdir: C:\\Users\\Stefan\\ray_results\\PPO<br>Number of trials: 1/1 (1 RUNNING)<br><table>\n<thead>\n<tr><th>Trial name                       </th><th>status  </th><th>loc           </th><th style=\"text-align: right;\">  iter</th><th style=\"text-align: right;\">  total time (s)</th><th style=\"text-align: right;\">  ts</th><th style=\"text-align: right;\">  reward</th><th style=\"text-align: right;\">  episode_reward_max</th><th style=\"text-align: right;\">  episode_reward_min</th><th style=\"text-align: right;\">  episode_len_mean</th></tr>\n</thead>\n<tbody>\n<tr><td>PPO_StatelessCartPole_72c9b_00000</td><td>RUNNING </td><td>127.0.0.1:8232</td><td style=\"text-align: right;\">     1</td><td style=\"text-align: right;\">         57.1004</td><td style=\"text-align: right;\">4000</td><td style=\"text-align: right;\"> 23.9636</td><td style=\"text-align: right;\">                  73</td><td style=\"text-align: right;\">                   9</td><td style=\"text-align: right;\">           23.9636</td></tr>\n</tbody>\n</table><br><br>"
     },
     "metadata": {},
     "output_type": "display_data"
    },
    {
     "data": {
      "text/plain": "<IPython.core.display.HTML object>",
      "text/html": "== Status ==<br>Current time: 2021-11-23 19:53:42 (running for 00:01:38.55)<br>Memory usage on this node: 9.7/11.9 GiB<br>Using FIFO scheduling algorithm.<br>Resources requested: 3.0/3 CPUs, 0/0 GPUs, 0.0/1.4 GiB heap, 0.0/0.7 GiB objects<br>Result logdir: C:\\Users\\Stefan\\ray_results\\PPO<br>Number of trials: 1/1 (1 RUNNING)<br><table>\n<thead>\n<tr><th>Trial name                       </th><th>status  </th><th>loc           </th><th style=\"text-align: right;\">  iter</th><th style=\"text-align: right;\">  total time (s)</th><th style=\"text-align: right;\">  ts</th><th style=\"text-align: right;\">  reward</th><th style=\"text-align: right;\">  episode_reward_max</th><th style=\"text-align: right;\">  episode_reward_min</th><th style=\"text-align: right;\">  episode_len_mean</th></tr>\n</thead>\n<tbody>\n<tr><td>PPO_StatelessCartPole_72c9b_00000</td><td>RUNNING </td><td>127.0.0.1:8232</td><td style=\"text-align: right;\">     1</td><td style=\"text-align: right;\">         57.1004</td><td style=\"text-align: right;\">4000</td><td style=\"text-align: right;\"> 23.9636</td><td style=\"text-align: right;\">                  73</td><td style=\"text-align: right;\">                   9</td><td style=\"text-align: right;\">           23.9636</td></tr>\n</tbody>\n</table><br><br>"
     },
     "metadata": {},
     "output_type": "display_data"
    },
    {
     "data": {
      "text/plain": "<IPython.core.display.HTML object>",
      "text/html": "== Status ==<br>Current time: 2021-11-23 19:53:47 (running for 00:01:43.81)<br>Memory usage on this node: 9.9/11.9 GiB<br>Using FIFO scheduling algorithm.<br>Resources requested: 3.0/3 CPUs, 0/0 GPUs, 0.0/1.4 GiB heap, 0.0/0.7 GiB objects<br>Result logdir: C:\\Users\\Stefan\\ray_results\\PPO<br>Number of trials: 1/1 (1 RUNNING)<br><table>\n<thead>\n<tr><th>Trial name                       </th><th>status  </th><th>loc           </th><th style=\"text-align: right;\">  iter</th><th style=\"text-align: right;\">  total time (s)</th><th style=\"text-align: right;\">  ts</th><th style=\"text-align: right;\">  reward</th><th style=\"text-align: right;\">  episode_reward_max</th><th style=\"text-align: right;\">  episode_reward_min</th><th style=\"text-align: right;\">  episode_len_mean</th></tr>\n</thead>\n<tbody>\n<tr><td>PPO_StatelessCartPole_72c9b_00000</td><td>RUNNING </td><td>127.0.0.1:8232</td><td style=\"text-align: right;\">     1</td><td style=\"text-align: right;\">         57.1004</td><td style=\"text-align: right;\">4000</td><td style=\"text-align: right;\"> 23.9636</td><td style=\"text-align: right;\">                  73</td><td style=\"text-align: right;\">                   9</td><td style=\"text-align: right;\">           23.9636</td></tr>\n</tbody>\n</table><br><br>"
     },
     "metadata": {},
     "output_type": "display_data"
    },
    {
     "data": {
      "text/plain": "<IPython.core.display.HTML object>",
      "text/html": "== Status ==<br>Current time: 2021-11-23 19:53:52 (running for 00:01:48.95)<br>Memory usage on this node: 9.9/11.9 GiB<br>Using FIFO scheduling algorithm.<br>Resources requested: 3.0/3 CPUs, 0/0 GPUs, 0.0/1.4 GiB heap, 0.0/0.7 GiB objects<br>Result logdir: C:\\Users\\Stefan\\ray_results\\PPO<br>Number of trials: 1/1 (1 RUNNING)<br><table>\n<thead>\n<tr><th>Trial name                       </th><th>status  </th><th>loc           </th><th style=\"text-align: right;\">  iter</th><th style=\"text-align: right;\">  total time (s)</th><th style=\"text-align: right;\">  ts</th><th style=\"text-align: right;\">  reward</th><th style=\"text-align: right;\">  episode_reward_max</th><th style=\"text-align: right;\">  episode_reward_min</th><th style=\"text-align: right;\">  episode_len_mean</th></tr>\n</thead>\n<tbody>\n<tr><td>PPO_StatelessCartPole_72c9b_00000</td><td>RUNNING </td><td>127.0.0.1:8232</td><td style=\"text-align: right;\">     1</td><td style=\"text-align: right;\">         57.1004</td><td style=\"text-align: right;\">4000</td><td style=\"text-align: right;\"> 23.9636</td><td style=\"text-align: right;\">                  73</td><td style=\"text-align: right;\">                   9</td><td style=\"text-align: right;\">           23.9636</td></tr>\n</tbody>\n</table><br><br>"
     },
     "metadata": {},
     "output_type": "display_data"
    },
    {
     "data": {
      "text/plain": "<IPython.core.display.HTML object>",
      "text/html": "== Status ==<br>Current time: 2021-11-23 19:53:57 (running for 00:01:54.14)<br>Memory usage on this node: 9.9/11.9 GiB<br>Using FIFO scheduling algorithm.<br>Resources requested: 3.0/3 CPUs, 0/0 GPUs, 0.0/1.4 GiB heap, 0.0/0.7 GiB objects<br>Result logdir: C:\\Users\\Stefan\\ray_results\\PPO<br>Number of trials: 1/1 (1 RUNNING)<br><table>\n<thead>\n<tr><th>Trial name                       </th><th>status  </th><th>loc           </th><th style=\"text-align: right;\">  iter</th><th style=\"text-align: right;\">  total time (s)</th><th style=\"text-align: right;\">  ts</th><th style=\"text-align: right;\">  reward</th><th style=\"text-align: right;\">  episode_reward_max</th><th style=\"text-align: right;\">  episode_reward_min</th><th style=\"text-align: right;\">  episode_len_mean</th></tr>\n</thead>\n<tbody>\n<tr><td>PPO_StatelessCartPole_72c9b_00000</td><td>RUNNING </td><td>127.0.0.1:8232</td><td style=\"text-align: right;\">     1</td><td style=\"text-align: right;\">         57.1004</td><td style=\"text-align: right;\">4000</td><td style=\"text-align: right;\"> 23.9636</td><td style=\"text-align: right;\">                  73</td><td style=\"text-align: right;\">                   9</td><td style=\"text-align: right;\">           23.9636</td></tr>\n</tbody>\n</table><br><br>"
     },
     "metadata": {},
     "output_type": "display_data"
    },
    {
     "data": {
      "text/plain": "<IPython.core.display.HTML object>",
      "text/html": "== Status ==<br>Current time: 2021-11-23 19:54:02 (running for 00:01:59.27)<br>Memory usage on this node: 9.9/11.9 GiB<br>Using FIFO scheduling algorithm.<br>Resources requested: 3.0/3 CPUs, 0/0 GPUs, 0.0/1.4 GiB heap, 0.0/0.7 GiB objects<br>Result logdir: C:\\Users\\Stefan\\ray_results\\PPO<br>Number of trials: 1/1 (1 RUNNING)<br><table>\n<thead>\n<tr><th>Trial name                       </th><th>status  </th><th>loc           </th><th style=\"text-align: right;\">  iter</th><th style=\"text-align: right;\">  total time (s)</th><th style=\"text-align: right;\">  ts</th><th style=\"text-align: right;\">  reward</th><th style=\"text-align: right;\">  episode_reward_max</th><th style=\"text-align: right;\">  episode_reward_min</th><th style=\"text-align: right;\">  episode_len_mean</th></tr>\n</thead>\n<tbody>\n<tr><td>PPO_StatelessCartPole_72c9b_00000</td><td>RUNNING </td><td>127.0.0.1:8232</td><td style=\"text-align: right;\">     1</td><td style=\"text-align: right;\">         57.1004</td><td style=\"text-align: right;\">4000</td><td style=\"text-align: right;\"> 23.9636</td><td style=\"text-align: right;\">                  73</td><td style=\"text-align: right;\">                   9</td><td style=\"text-align: right;\">           23.9636</td></tr>\n</tbody>\n</table><br><br>"
     },
     "metadata": {},
     "output_type": "display_data"
    },
    {
     "data": {
      "text/plain": "<IPython.core.display.HTML object>",
      "text/html": "== Status ==<br>Current time: 2021-11-23 19:54:08 (running for 00:02:04.58)<br>Memory usage on this node: 9.9/11.9 GiB<br>Using FIFO scheduling algorithm.<br>Resources requested: 3.0/3 CPUs, 0/0 GPUs, 0.0/1.4 GiB heap, 0.0/0.7 GiB objects<br>Result logdir: C:\\Users\\Stefan\\ray_results\\PPO<br>Number of trials: 1/1 (1 RUNNING)<br><table>\n<thead>\n<tr><th>Trial name                       </th><th>status  </th><th>loc           </th><th style=\"text-align: right;\">  iter</th><th style=\"text-align: right;\">  total time (s)</th><th style=\"text-align: right;\">  ts</th><th style=\"text-align: right;\">  reward</th><th style=\"text-align: right;\">  episode_reward_max</th><th style=\"text-align: right;\">  episode_reward_min</th><th style=\"text-align: right;\">  episode_len_mean</th></tr>\n</thead>\n<tbody>\n<tr><td>PPO_StatelessCartPole_72c9b_00000</td><td>RUNNING </td><td>127.0.0.1:8232</td><td style=\"text-align: right;\">     1</td><td style=\"text-align: right;\">         57.1004</td><td style=\"text-align: right;\">4000</td><td style=\"text-align: right;\"> 23.9636</td><td style=\"text-align: right;\">                  73</td><td style=\"text-align: right;\">                   9</td><td style=\"text-align: right;\">           23.9636</td></tr>\n</tbody>\n</table><br><br>"
     },
     "metadata": {},
     "output_type": "display_data"
    },
    {
     "data": {
      "text/plain": "<IPython.core.display.HTML object>",
      "text/html": "== Status ==<br>Current time: 2021-11-23 19:54:13 (running for 00:02:09.65)<br>Memory usage on this node: 9.9/11.9 GiB<br>Using FIFO scheduling algorithm.<br>Resources requested: 3.0/3 CPUs, 0/0 GPUs, 0.0/1.4 GiB heap, 0.0/0.7 GiB objects<br>Result logdir: C:\\Users\\Stefan\\ray_results\\PPO<br>Number of trials: 1/1 (1 RUNNING)<br><table>\n<thead>\n<tr><th>Trial name                       </th><th>status  </th><th>loc           </th><th style=\"text-align: right;\">  iter</th><th style=\"text-align: right;\">  total time (s)</th><th style=\"text-align: right;\">  ts</th><th style=\"text-align: right;\">  reward</th><th style=\"text-align: right;\">  episode_reward_max</th><th style=\"text-align: right;\">  episode_reward_min</th><th style=\"text-align: right;\">  episode_len_mean</th></tr>\n</thead>\n<tbody>\n<tr><td>PPO_StatelessCartPole_72c9b_00000</td><td>RUNNING </td><td>127.0.0.1:8232</td><td style=\"text-align: right;\">     1</td><td style=\"text-align: right;\">         57.1004</td><td style=\"text-align: right;\">4000</td><td style=\"text-align: right;\"> 23.9636</td><td style=\"text-align: right;\">                  73</td><td style=\"text-align: right;\">                   9</td><td style=\"text-align: right;\">           23.9636</td></tr>\n</tbody>\n</table><br><br>"
     },
     "metadata": {},
     "output_type": "display_data"
    },
    {
     "data": {
      "text/plain": "<IPython.core.display.HTML object>",
      "text/html": "== Status ==<br>Current time: 2021-11-23 19:54:18 (running for 00:02:14.78)<br>Memory usage on this node: 9.9/11.9 GiB<br>Using FIFO scheduling algorithm.<br>Resources requested: 3.0/3 CPUs, 0/0 GPUs, 0.0/1.4 GiB heap, 0.0/0.7 GiB objects<br>Result logdir: C:\\Users\\Stefan\\ray_results\\PPO<br>Number of trials: 1/1 (1 RUNNING)<br><table>\n<thead>\n<tr><th>Trial name                       </th><th>status  </th><th>loc           </th><th style=\"text-align: right;\">  iter</th><th style=\"text-align: right;\">  total time (s)</th><th style=\"text-align: right;\">  ts</th><th style=\"text-align: right;\">  reward</th><th style=\"text-align: right;\">  episode_reward_max</th><th style=\"text-align: right;\">  episode_reward_min</th><th style=\"text-align: right;\">  episode_len_mean</th></tr>\n</thead>\n<tbody>\n<tr><td>PPO_StatelessCartPole_72c9b_00000</td><td>RUNNING </td><td>127.0.0.1:8232</td><td style=\"text-align: right;\">     1</td><td style=\"text-align: right;\">         57.1004</td><td style=\"text-align: right;\">4000</td><td style=\"text-align: right;\"> 23.9636</td><td style=\"text-align: right;\">                  73</td><td style=\"text-align: right;\">                   9</td><td style=\"text-align: right;\">           23.9636</td></tr>\n</tbody>\n</table><br><br>"
     },
     "metadata": {},
     "output_type": "display_data"
    },
    {
     "data": {
      "text/plain": "<IPython.core.display.HTML object>",
      "text/html": "== Status ==<br>Current time: 2021-11-23 19:54:23 (running for 00:02:19.87)<br>Memory usage on this node: 9.9/11.9 GiB<br>Using FIFO scheduling algorithm.<br>Resources requested: 3.0/3 CPUs, 0/0 GPUs, 0.0/1.4 GiB heap, 0.0/0.7 GiB objects<br>Result logdir: C:\\Users\\Stefan\\ray_results\\PPO<br>Number of trials: 1/1 (1 RUNNING)<br><table>\n<thead>\n<tr><th>Trial name                       </th><th>status  </th><th>loc           </th><th style=\"text-align: right;\">  iter</th><th style=\"text-align: right;\">  total time (s)</th><th style=\"text-align: right;\">  ts</th><th style=\"text-align: right;\">  reward</th><th style=\"text-align: right;\">  episode_reward_max</th><th style=\"text-align: right;\">  episode_reward_min</th><th style=\"text-align: right;\">  episode_len_mean</th></tr>\n</thead>\n<tbody>\n<tr><td>PPO_StatelessCartPole_72c9b_00000</td><td>RUNNING </td><td>127.0.0.1:8232</td><td style=\"text-align: right;\">     1</td><td style=\"text-align: right;\">         57.1004</td><td style=\"text-align: right;\">4000</td><td style=\"text-align: right;\"> 23.9636</td><td style=\"text-align: right;\">                  73</td><td style=\"text-align: right;\">                   9</td><td style=\"text-align: right;\">           23.9636</td></tr>\n</tbody>\n</table><br><br>"
     },
     "metadata": {},
     "output_type": "display_data"
    },
    {
     "name": "stdout",
     "output_type": "stream",
     "text": [
      "Result for PPO_StatelessCartPole_72c9b_00000:\n",
      "  agent_timesteps_total: 8000\n",
      "  custom_metrics: {}\n",
      "  date: 2021-11-23_19-54-28\n",
      "  done: false\n",
      "  episode_len_mean: 25.468354430379748\n",
      "  episode_media: {}\n",
      "  episode_reward_max: 97.0\n",
      "  episode_reward_mean: 25.468354430379748\n",
      "  episode_reward_min: 10.0\n",
      "  episodes_this_iter: 158\n",
      "  episodes_total: 323\n",
      "  experiment_id: 5ab5d39a5646406282869656a0cafe8c\n",
      "  hostname: nb-stschn\n",
      "  info:\n",
      "    learner:\n",
      "      default_policy:\n",
      "        custom_metrics: {}\n",
      "        learner_stats:\n",
      "          cur_kl_coeff: 0.20000000298023224\n",
      "          cur_lr: 4.999999873689376e-05\n",
      "          entropy: 0.6618409752845764\n",
      "          entropy_coeff: 0.0\n",
      "          kl: 0.01124719437211752\n",
      "          model: {}\n",
      "          policy_loss: -0.009560177102684975\n",
      "          total_loss: 122.11344146728516\n",
      "          vf_explained_var: 0.11272706091403961\n",
      "          vf_loss: 122.1207504272461\n",
      "    num_agent_steps_sampled: 8000\n",
      "    num_agent_steps_trained: 8000\n",
      "    num_steps_sampled: 8000\n",
      "    num_steps_trained: 8000\n",
      "    num_steps_trained_this_iter: 0\n",
      "  iterations_since_restore: 2\n",
      "  node_ip: 127.0.0.1\n",
      "  num_healthy_workers: 2\n",
      "  off_policy_estimator: {}\n",
      "  perf:\n",
      "    cpu_util_percent: 95.07874999999999\n",
      "    ram_util_percent: 82.76125000000002\n",
      "  pid: 8232\n",
      "  policy_reward_max: {}\n",
      "  policy_reward_mean: {}\n",
      "  policy_reward_min: {}\n",
      "  sampler_perf:\n",
      "    mean_action_processing_ms: 0.13160724084485959\n",
      "    mean_env_render_ms: 0.0\n",
      "    mean_env_wait_ms: 0.11008200262669397\n",
      "    mean_inference_ms: 2.367575524963852\n",
      "    mean_raw_obs_processing_ms: 0.17981744452886814\n",
      "  time_since_restore: 115.16697239875793\n",
      "  time_this_iter_s: 58.06656193733215\n",
      "  time_total_s: 115.16697239875793\n",
      "  timers:\n",
      "    learn_throughput: 77.158\n",
      "    learn_time_ms: 51841.977\n",
      "    load_throughput: 0.0\n",
      "    load_time_ms: 0.0\n",
      "    sample_throughput: 127.55\n",
      "    sample_time_ms: 31360.292\n",
      "    update_time_ms: 16.409\n",
      "  timestamp: 1637693668\n",
      "  timesteps_since_restore: 0\n",
      "  timesteps_this_iter: 0\n",
      "  timesteps_total: 8000\n",
      "  training_iteration: 2\n",
      "  trial_id: 72c9b_00000\n",
      "  \n"
     ]
    },
    {
     "data": {
      "text/plain": "<IPython.core.display.HTML object>",
      "text/html": "== Status ==<br>Current time: 2021-11-23 19:54:29 (running for 00:02:25.48)<br>Memory usage on this node: 9.9/11.9 GiB<br>Using FIFO scheduling algorithm.<br>Resources requested: 3.0/3 CPUs, 0/0 GPUs, 0.0/1.4 GiB heap, 0.0/0.7 GiB objects<br>Result logdir: C:\\Users\\Stefan\\ray_results\\PPO<br>Number of trials: 1/1 (1 RUNNING)<br><table>\n<thead>\n<tr><th>Trial name                       </th><th>status  </th><th>loc           </th><th style=\"text-align: right;\">  iter</th><th style=\"text-align: right;\">  total time (s)</th><th style=\"text-align: right;\">  ts</th><th style=\"text-align: right;\">  reward</th><th style=\"text-align: right;\">  episode_reward_max</th><th style=\"text-align: right;\">  episode_reward_min</th><th style=\"text-align: right;\">  episode_len_mean</th></tr>\n</thead>\n<tbody>\n<tr><td>PPO_StatelessCartPole_72c9b_00000</td><td>RUNNING </td><td>127.0.0.1:8232</td><td style=\"text-align: right;\">     2</td><td style=\"text-align: right;\">         115.167</td><td style=\"text-align: right;\">8000</td><td style=\"text-align: right;\"> 25.4684</td><td style=\"text-align: right;\">                  97</td><td style=\"text-align: right;\">                  10</td><td style=\"text-align: right;\">           25.4684</td></tr>\n</tbody>\n</table><br><br>"
     },
     "metadata": {},
     "output_type": "display_data"
    },
    {
     "data": {
      "text/plain": "<IPython.core.display.HTML object>",
      "text/html": "== Status ==<br>Current time: 2021-11-23 19:54:34 (running for 00:02:30.57)<br>Memory usage on this node: 9.9/11.9 GiB<br>Using FIFO scheduling algorithm.<br>Resources requested: 3.0/3 CPUs, 0/0 GPUs, 0.0/1.4 GiB heap, 0.0/0.7 GiB objects<br>Result logdir: C:\\Users\\Stefan\\ray_results\\PPO<br>Number of trials: 1/1 (1 RUNNING)<br><table>\n<thead>\n<tr><th>Trial name                       </th><th>status  </th><th>loc           </th><th style=\"text-align: right;\">  iter</th><th style=\"text-align: right;\">  total time (s)</th><th style=\"text-align: right;\">  ts</th><th style=\"text-align: right;\">  reward</th><th style=\"text-align: right;\">  episode_reward_max</th><th style=\"text-align: right;\">  episode_reward_min</th><th style=\"text-align: right;\">  episode_len_mean</th></tr>\n</thead>\n<tbody>\n<tr><td>PPO_StatelessCartPole_72c9b_00000</td><td>RUNNING </td><td>127.0.0.1:8232</td><td style=\"text-align: right;\">     2</td><td style=\"text-align: right;\">         115.167</td><td style=\"text-align: right;\">8000</td><td style=\"text-align: right;\"> 25.4684</td><td style=\"text-align: right;\">                  97</td><td style=\"text-align: right;\">                  10</td><td style=\"text-align: right;\">           25.4684</td></tr>\n</tbody>\n</table><br><br>"
     },
     "metadata": {},
     "output_type": "display_data"
    },
    {
     "data": {
      "text/plain": "<IPython.core.display.HTML object>",
      "text/html": "== Status ==<br>Current time: 2021-11-23 19:54:39 (running for 00:02:35.72)<br>Memory usage on this node: 9.9/11.9 GiB<br>Using FIFO scheduling algorithm.<br>Resources requested: 3.0/3 CPUs, 0/0 GPUs, 0.0/1.4 GiB heap, 0.0/0.7 GiB objects<br>Result logdir: C:\\Users\\Stefan\\ray_results\\PPO<br>Number of trials: 1/1 (1 RUNNING)<br><table>\n<thead>\n<tr><th>Trial name                       </th><th>status  </th><th>loc           </th><th style=\"text-align: right;\">  iter</th><th style=\"text-align: right;\">  total time (s)</th><th style=\"text-align: right;\">  ts</th><th style=\"text-align: right;\">  reward</th><th style=\"text-align: right;\">  episode_reward_max</th><th style=\"text-align: right;\">  episode_reward_min</th><th style=\"text-align: right;\">  episode_len_mean</th></tr>\n</thead>\n<tbody>\n<tr><td>PPO_StatelessCartPole_72c9b_00000</td><td>RUNNING </td><td>127.0.0.1:8232</td><td style=\"text-align: right;\">     2</td><td style=\"text-align: right;\">         115.167</td><td style=\"text-align: right;\">8000</td><td style=\"text-align: right;\"> 25.4684</td><td style=\"text-align: right;\">                  97</td><td style=\"text-align: right;\">                  10</td><td style=\"text-align: right;\">           25.4684</td></tr>\n</tbody>\n</table><br><br>"
     },
     "metadata": {},
     "output_type": "display_data"
    },
    {
     "data": {
      "text/plain": "<IPython.core.display.HTML object>",
      "text/html": "== Status ==<br>Current time: 2021-11-23 19:54:44 (running for 00:02:40.78)<br>Memory usage on this node: 9.9/11.9 GiB<br>Using FIFO scheduling algorithm.<br>Resources requested: 3.0/3 CPUs, 0/0 GPUs, 0.0/1.4 GiB heap, 0.0/0.7 GiB objects<br>Result logdir: C:\\Users\\Stefan\\ray_results\\PPO<br>Number of trials: 1/1 (1 RUNNING)<br><table>\n<thead>\n<tr><th>Trial name                       </th><th>status  </th><th>loc           </th><th style=\"text-align: right;\">  iter</th><th style=\"text-align: right;\">  total time (s)</th><th style=\"text-align: right;\">  ts</th><th style=\"text-align: right;\">  reward</th><th style=\"text-align: right;\">  episode_reward_max</th><th style=\"text-align: right;\">  episode_reward_min</th><th style=\"text-align: right;\">  episode_len_mean</th></tr>\n</thead>\n<tbody>\n<tr><td>PPO_StatelessCartPole_72c9b_00000</td><td>RUNNING </td><td>127.0.0.1:8232</td><td style=\"text-align: right;\">     2</td><td style=\"text-align: right;\">         115.167</td><td style=\"text-align: right;\">8000</td><td style=\"text-align: right;\"> 25.4684</td><td style=\"text-align: right;\">                  97</td><td style=\"text-align: right;\">                  10</td><td style=\"text-align: right;\">           25.4684</td></tr>\n</tbody>\n</table><br><br>"
     },
     "metadata": {},
     "output_type": "display_data"
    },
    {
     "data": {
      "text/plain": "<IPython.core.display.HTML object>",
      "text/html": "== Status ==<br>Current time: 2021-11-23 19:54:49 (running for 00:02:45.94)<br>Memory usage on this node: 9.9/11.9 GiB<br>Using FIFO scheduling algorithm.<br>Resources requested: 3.0/3 CPUs, 0/0 GPUs, 0.0/1.4 GiB heap, 0.0/0.7 GiB objects<br>Result logdir: C:\\Users\\Stefan\\ray_results\\PPO<br>Number of trials: 1/1 (1 RUNNING)<br><table>\n<thead>\n<tr><th>Trial name                       </th><th>status  </th><th>loc           </th><th style=\"text-align: right;\">  iter</th><th style=\"text-align: right;\">  total time (s)</th><th style=\"text-align: right;\">  ts</th><th style=\"text-align: right;\">  reward</th><th style=\"text-align: right;\">  episode_reward_max</th><th style=\"text-align: right;\">  episode_reward_min</th><th style=\"text-align: right;\">  episode_len_mean</th></tr>\n</thead>\n<tbody>\n<tr><td>PPO_StatelessCartPole_72c9b_00000</td><td>RUNNING </td><td>127.0.0.1:8232</td><td style=\"text-align: right;\">     2</td><td style=\"text-align: right;\">         115.167</td><td style=\"text-align: right;\">8000</td><td style=\"text-align: right;\"> 25.4684</td><td style=\"text-align: right;\">                  97</td><td style=\"text-align: right;\">                  10</td><td style=\"text-align: right;\">           25.4684</td></tr>\n</tbody>\n</table><br><br>"
     },
     "metadata": {},
     "output_type": "display_data"
    },
    {
     "data": {
      "text/plain": "<IPython.core.display.HTML object>",
      "text/html": "== Status ==<br>Current time: 2021-11-23 19:54:54 (running for 00:02:51.04)<br>Memory usage on this node: 9.9/11.9 GiB<br>Using FIFO scheduling algorithm.<br>Resources requested: 3.0/3 CPUs, 0/0 GPUs, 0.0/1.4 GiB heap, 0.0/0.7 GiB objects<br>Result logdir: C:\\Users\\Stefan\\ray_results\\PPO<br>Number of trials: 1/1 (1 RUNNING)<br><table>\n<thead>\n<tr><th>Trial name                       </th><th>status  </th><th>loc           </th><th style=\"text-align: right;\">  iter</th><th style=\"text-align: right;\">  total time (s)</th><th style=\"text-align: right;\">  ts</th><th style=\"text-align: right;\">  reward</th><th style=\"text-align: right;\">  episode_reward_max</th><th style=\"text-align: right;\">  episode_reward_min</th><th style=\"text-align: right;\">  episode_len_mean</th></tr>\n</thead>\n<tbody>\n<tr><td>PPO_StatelessCartPole_72c9b_00000</td><td>RUNNING </td><td>127.0.0.1:8232</td><td style=\"text-align: right;\">     2</td><td style=\"text-align: right;\">         115.167</td><td style=\"text-align: right;\">8000</td><td style=\"text-align: right;\"> 25.4684</td><td style=\"text-align: right;\">                  97</td><td style=\"text-align: right;\">                  10</td><td style=\"text-align: right;\">           25.4684</td></tr>\n</tbody>\n</table><br><br>"
     },
     "metadata": {},
     "output_type": "display_data"
    },
    {
     "data": {
      "text/plain": "<IPython.core.display.HTML object>",
      "text/html": "== Status ==<br>Current time: 2021-11-23 19:54:59 (running for 00:02:56.31)<br>Memory usage on this node: 9.9/11.9 GiB<br>Using FIFO scheduling algorithm.<br>Resources requested: 3.0/3 CPUs, 0/0 GPUs, 0.0/1.4 GiB heap, 0.0/0.7 GiB objects<br>Result logdir: C:\\Users\\Stefan\\ray_results\\PPO<br>Number of trials: 1/1 (1 RUNNING)<br><table>\n<thead>\n<tr><th>Trial name                       </th><th>status  </th><th>loc           </th><th style=\"text-align: right;\">  iter</th><th style=\"text-align: right;\">  total time (s)</th><th style=\"text-align: right;\">  ts</th><th style=\"text-align: right;\">  reward</th><th style=\"text-align: right;\">  episode_reward_max</th><th style=\"text-align: right;\">  episode_reward_min</th><th style=\"text-align: right;\">  episode_len_mean</th></tr>\n</thead>\n<tbody>\n<tr><td>PPO_StatelessCartPole_72c9b_00000</td><td>RUNNING </td><td>127.0.0.1:8232</td><td style=\"text-align: right;\">     2</td><td style=\"text-align: right;\">         115.167</td><td style=\"text-align: right;\">8000</td><td style=\"text-align: right;\"> 25.4684</td><td style=\"text-align: right;\">                  97</td><td style=\"text-align: right;\">                  10</td><td style=\"text-align: right;\">           25.4684</td></tr>\n</tbody>\n</table><br><br>"
     },
     "metadata": {},
     "output_type": "display_data"
    },
    {
     "data": {
      "text/plain": "<IPython.core.display.HTML object>",
      "text/html": "== Status ==<br>Current time: 2021-11-23 19:55:05 (running for 00:03:01.36)<br>Memory usage on this node: 9.9/11.9 GiB<br>Using FIFO scheduling algorithm.<br>Resources requested: 3.0/3 CPUs, 0/0 GPUs, 0.0/1.4 GiB heap, 0.0/0.7 GiB objects<br>Result logdir: C:\\Users\\Stefan\\ray_results\\PPO<br>Number of trials: 1/1 (1 RUNNING)<br><table>\n<thead>\n<tr><th>Trial name                       </th><th>status  </th><th>loc           </th><th style=\"text-align: right;\">  iter</th><th style=\"text-align: right;\">  total time (s)</th><th style=\"text-align: right;\">  ts</th><th style=\"text-align: right;\">  reward</th><th style=\"text-align: right;\">  episode_reward_max</th><th style=\"text-align: right;\">  episode_reward_min</th><th style=\"text-align: right;\">  episode_len_mean</th></tr>\n</thead>\n<tbody>\n<tr><td>PPO_StatelessCartPole_72c9b_00000</td><td>RUNNING </td><td>127.0.0.1:8232</td><td style=\"text-align: right;\">     2</td><td style=\"text-align: right;\">         115.167</td><td style=\"text-align: right;\">8000</td><td style=\"text-align: right;\"> 25.4684</td><td style=\"text-align: right;\">                  97</td><td style=\"text-align: right;\">                  10</td><td style=\"text-align: right;\">           25.4684</td></tr>\n</tbody>\n</table><br><br>"
     },
     "metadata": {},
     "output_type": "display_data"
    },
    {
     "data": {
      "text/plain": "<IPython.core.display.HTML object>",
      "text/html": "== Status ==<br>Current time: 2021-11-23 19:55:10 (running for 00:03:06.45)<br>Memory usage on this node: 9.9/11.9 GiB<br>Using FIFO scheduling algorithm.<br>Resources requested: 3.0/3 CPUs, 0/0 GPUs, 0.0/1.4 GiB heap, 0.0/0.7 GiB objects<br>Result logdir: C:\\Users\\Stefan\\ray_results\\PPO<br>Number of trials: 1/1 (1 RUNNING)<br><table>\n<thead>\n<tr><th>Trial name                       </th><th>status  </th><th>loc           </th><th style=\"text-align: right;\">  iter</th><th style=\"text-align: right;\">  total time (s)</th><th style=\"text-align: right;\">  ts</th><th style=\"text-align: right;\">  reward</th><th style=\"text-align: right;\">  episode_reward_max</th><th style=\"text-align: right;\">  episode_reward_min</th><th style=\"text-align: right;\">  episode_len_mean</th></tr>\n</thead>\n<tbody>\n<tr><td>PPO_StatelessCartPole_72c9b_00000</td><td>RUNNING </td><td>127.0.0.1:8232</td><td style=\"text-align: right;\">     2</td><td style=\"text-align: right;\">         115.167</td><td style=\"text-align: right;\">8000</td><td style=\"text-align: right;\"> 25.4684</td><td style=\"text-align: right;\">                  97</td><td style=\"text-align: right;\">                  10</td><td style=\"text-align: right;\">           25.4684</td></tr>\n</tbody>\n</table><br><br>"
     },
     "metadata": {},
     "output_type": "display_data"
    },
    {
     "data": {
      "text/plain": "<IPython.core.display.HTML object>",
      "text/html": "== Status ==<br>Current time: 2021-11-23 19:55:15 (running for 00:03:11.54)<br>Memory usage on this node: 9.9/11.9 GiB<br>Using FIFO scheduling algorithm.<br>Resources requested: 3.0/3 CPUs, 0/0 GPUs, 0.0/1.4 GiB heap, 0.0/0.7 GiB objects<br>Result logdir: C:\\Users\\Stefan\\ray_results\\PPO<br>Number of trials: 1/1 (1 RUNNING)<br><table>\n<thead>\n<tr><th>Trial name                       </th><th>status  </th><th>loc           </th><th style=\"text-align: right;\">  iter</th><th style=\"text-align: right;\">  total time (s)</th><th style=\"text-align: right;\">  ts</th><th style=\"text-align: right;\">  reward</th><th style=\"text-align: right;\">  episode_reward_max</th><th style=\"text-align: right;\">  episode_reward_min</th><th style=\"text-align: right;\">  episode_len_mean</th></tr>\n</thead>\n<tbody>\n<tr><td>PPO_StatelessCartPole_72c9b_00000</td><td>RUNNING </td><td>127.0.0.1:8232</td><td style=\"text-align: right;\">     2</td><td style=\"text-align: right;\">         115.167</td><td style=\"text-align: right;\">8000</td><td style=\"text-align: right;\"> 25.4684</td><td style=\"text-align: right;\">                  97</td><td style=\"text-align: right;\">                  10</td><td style=\"text-align: right;\">           25.4684</td></tr>\n</tbody>\n</table><br><br>"
     },
     "metadata": {},
     "output_type": "display_data"
    },
    {
     "data": {
      "text/plain": "<IPython.core.display.HTML object>",
      "text/html": "== Status ==<br>Current time: 2021-11-23 19:55:20 (running for 00:03:16.67)<br>Memory usage on this node: 9.9/11.9 GiB<br>Using FIFO scheduling algorithm.<br>Resources requested: 3.0/3 CPUs, 0/0 GPUs, 0.0/1.4 GiB heap, 0.0/0.7 GiB objects<br>Result logdir: C:\\Users\\Stefan\\ray_results\\PPO<br>Number of trials: 1/1 (1 RUNNING)<br><table>\n<thead>\n<tr><th>Trial name                       </th><th>status  </th><th>loc           </th><th style=\"text-align: right;\">  iter</th><th style=\"text-align: right;\">  total time (s)</th><th style=\"text-align: right;\">  ts</th><th style=\"text-align: right;\">  reward</th><th style=\"text-align: right;\">  episode_reward_max</th><th style=\"text-align: right;\">  episode_reward_min</th><th style=\"text-align: right;\">  episode_len_mean</th></tr>\n</thead>\n<tbody>\n<tr><td>PPO_StatelessCartPole_72c9b_00000</td><td>RUNNING </td><td>127.0.0.1:8232</td><td style=\"text-align: right;\">     2</td><td style=\"text-align: right;\">         115.167</td><td style=\"text-align: right;\">8000</td><td style=\"text-align: right;\"> 25.4684</td><td style=\"text-align: right;\">                  97</td><td style=\"text-align: right;\">                  10</td><td style=\"text-align: right;\">           25.4684</td></tr>\n</tbody>\n</table><br><br>"
     },
     "metadata": {},
     "output_type": "display_data"
    },
    {
     "name": "stdout",
     "output_type": "stream",
     "text": [
      "Result for PPO_StatelessCartPole_72c9b_00000:\n",
      "  agent_timesteps_total: 12000\n",
      "  custom_metrics: {}\n",
      "  date: 2021-11-23_19-55-25\n",
      "  done: false\n",
      "  episode_len_mean: 32.08870967741935\n",
      "  episode_media: {}\n",
      "  episode_reward_max: 90.0\n",
      "  episode_reward_mean: 32.08870967741935\n",
      "  episode_reward_min: 9.0\n",
      "  episodes_this_iter: 124\n",
      "  episodes_total: 447\n",
      "  experiment_id: 5ab5d39a5646406282869656a0cafe8c\n",
      "  hostname: nb-stschn\n",
      "  info:\n",
      "    learner:\n",
      "      default_policy:\n",
      "        custom_metrics: {}\n",
      "        learner_stats:\n",
      "          cur_kl_coeff: 0.20000000298023224\n",
      "          cur_lr: 4.999999873689376e-05\n",
      "          entropy: 0.6306056380271912\n",
      "          entropy_coeff: 0.0\n",
      "          kl: 0.009760460816323757\n",
      "          model: {}\n",
      "          policy_loss: -0.0017034645425155759\n",
      "          total_loss: 144.0667724609375\n",
      "          vf_explained_var: 0.15614184737205505\n",
      "          vf_loss: 144.06649780273438\n",
      "    num_agent_steps_sampled: 12000\n",
      "    num_agent_steps_trained: 12000\n",
      "    num_steps_sampled: 12000\n",
      "    num_steps_trained: 12000\n",
      "    num_steps_trained_this_iter: 0\n",
      "  iterations_since_restore: 3\n",
      "  node_ip: 127.0.0.1\n",
      "  num_healthy_workers: 2\n",
      "  off_policy_estimator: {}\n",
      "  perf:\n",
      "    cpu_util_percent: 94.77564102564102\n",
      "    ram_util_percent: 83.16538461538462\n",
      "  pid: 8232\n",
      "  policy_reward_max: {}\n",
      "  policy_reward_mean: {}\n",
      "  policy_reward_min: {}\n",
      "  sampler_perf:\n",
      "    mean_action_processing_ms: 0.1118766331122731\n",
      "    mean_env_render_ms: 0.0\n",
      "    mean_env_wait_ms: 0.10583924019156825\n",
      "    mean_inference_ms: 2.375331270175747\n",
      "    mean_raw_obs_processing_ms: 0.17992743781620923\n",
      "  time_since_restore: 172.16690039634705\n",
      "  time_this_iter_s: 56.99992799758911\n",
      "  time_total_s: 172.16690039634705\n",
      "  timers:\n",
      "    learn_throughput: 77.386\n",
      "    learn_time_ms: 51689.215\n",
      "    load_throughput: 0.0\n",
      "    load_time_ms: 0.0\n",
      "    sample_throughput: 99.299\n",
      "    sample_time_ms: 40282.439\n",
      "    update_time_ms: 10.94\n",
      "  timestamp: 1637693725\n",
      "  timesteps_since_restore: 0\n",
      "  timesteps_this_iter: 0\n",
      "  timesteps_total: 12000\n",
      "  training_iteration: 3\n",
      "  trial_id: 72c9b_00000\n",
      "  \n"
     ]
    },
    {
     "data": {
      "text/plain": "<IPython.core.display.HTML object>",
      "text/html": "== Status ==<br>Current time: 2021-11-23 19:55:27 (running for 00:03:23.52)<br>Memory usage on this node: 9.9/11.9 GiB<br>Using FIFO scheduling algorithm.<br>Resources requested: 3.0/3 CPUs, 0/0 GPUs, 0.0/1.4 GiB heap, 0.0/0.7 GiB objects<br>Result logdir: C:\\Users\\Stefan\\ray_results\\PPO<br>Number of trials: 1/1 (1 RUNNING)<br><table>\n<thead>\n<tr><th>Trial name                       </th><th>status  </th><th>loc           </th><th style=\"text-align: right;\">  iter</th><th style=\"text-align: right;\">  total time (s)</th><th style=\"text-align: right;\">   ts</th><th style=\"text-align: right;\">  reward</th><th style=\"text-align: right;\">  episode_reward_max</th><th style=\"text-align: right;\">  episode_reward_min</th><th style=\"text-align: right;\">  episode_len_mean</th></tr>\n</thead>\n<tbody>\n<tr><td>PPO_StatelessCartPole_72c9b_00000</td><td>RUNNING </td><td>127.0.0.1:8232</td><td style=\"text-align: right;\">     3</td><td style=\"text-align: right;\">         172.167</td><td style=\"text-align: right;\">12000</td><td style=\"text-align: right;\"> 32.0887</td><td style=\"text-align: right;\">                  90</td><td style=\"text-align: right;\">                   9</td><td style=\"text-align: right;\">           32.0887</td></tr>\n</tbody>\n</table><br><br>"
     },
     "metadata": {},
     "output_type": "display_data"
    },
    {
     "data": {
      "text/plain": "<IPython.core.display.HTML object>",
      "text/html": "== Status ==<br>Current time: 2021-11-23 19:55:32 (running for 00:03:28.63)<br>Memory usage on this node: 9.9/11.9 GiB<br>Using FIFO scheduling algorithm.<br>Resources requested: 3.0/3 CPUs, 0/0 GPUs, 0.0/1.4 GiB heap, 0.0/0.7 GiB objects<br>Result logdir: C:\\Users\\Stefan\\ray_results\\PPO<br>Number of trials: 1/1 (1 RUNNING)<br><table>\n<thead>\n<tr><th>Trial name                       </th><th>status  </th><th>loc           </th><th style=\"text-align: right;\">  iter</th><th style=\"text-align: right;\">  total time (s)</th><th style=\"text-align: right;\">   ts</th><th style=\"text-align: right;\">  reward</th><th style=\"text-align: right;\">  episode_reward_max</th><th style=\"text-align: right;\">  episode_reward_min</th><th style=\"text-align: right;\">  episode_len_mean</th></tr>\n</thead>\n<tbody>\n<tr><td>PPO_StatelessCartPole_72c9b_00000</td><td>RUNNING </td><td>127.0.0.1:8232</td><td style=\"text-align: right;\">     3</td><td style=\"text-align: right;\">         172.167</td><td style=\"text-align: right;\">12000</td><td style=\"text-align: right;\"> 32.0887</td><td style=\"text-align: right;\">                  90</td><td style=\"text-align: right;\">                   9</td><td style=\"text-align: right;\">           32.0887</td></tr>\n</tbody>\n</table><br><br>"
     },
     "metadata": {},
     "output_type": "display_data"
    },
    {
     "data": {
      "text/plain": "<IPython.core.display.HTML object>",
      "text/html": "== Status ==<br>Current time: 2021-11-23 19:55:37 (running for 00:03:33.73)<br>Memory usage on this node: 9.9/11.9 GiB<br>Using FIFO scheduling algorithm.<br>Resources requested: 3.0/3 CPUs, 0/0 GPUs, 0.0/1.4 GiB heap, 0.0/0.7 GiB objects<br>Result logdir: C:\\Users\\Stefan\\ray_results\\PPO<br>Number of trials: 1/1 (1 RUNNING)<br><table>\n<thead>\n<tr><th>Trial name                       </th><th>status  </th><th>loc           </th><th style=\"text-align: right;\">  iter</th><th style=\"text-align: right;\">  total time (s)</th><th style=\"text-align: right;\">   ts</th><th style=\"text-align: right;\">  reward</th><th style=\"text-align: right;\">  episode_reward_max</th><th style=\"text-align: right;\">  episode_reward_min</th><th style=\"text-align: right;\">  episode_len_mean</th></tr>\n</thead>\n<tbody>\n<tr><td>PPO_StatelessCartPole_72c9b_00000</td><td>RUNNING </td><td>127.0.0.1:8232</td><td style=\"text-align: right;\">     3</td><td style=\"text-align: right;\">         172.167</td><td style=\"text-align: right;\">12000</td><td style=\"text-align: right;\"> 32.0887</td><td style=\"text-align: right;\">                  90</td><td style=\"text-align: right;\">                   9</td><td style=\"text-align: right;\">           32.0887</td></tr>\n</tbody>\n</table><br><br>"
     },
     "metadata": {},
     "output_type": "display_data"
    },
    {
     "data": {
      "text/plain": "<IPython.core.display.HTML object>",
      "text/html": "== Status ==<br>Current time: 2021-11-23 19:55:42 (running for 00:03:38.88)<br>Memory usage on this node: 9.9/11.9 GiB<br>Using FIFO scheduling algorithm.<br>Resources requested: 3.0/3 CPUs, 0/0 GPUs, 0.0/1.4 GiB heap, 0.0/0.7 GiB objects<br>Result logdir: C:\\Users\\Stefan\\ray_results\\PPO<br>Number of trials: 1/1 (1 RUNNING)<br><table>\n<thead>\n<tr><th>Trial name                       </th><th>status  </th><th>loc           </th><th style=\"text-align: right;\">  iter</th><th style=\"text-align: right;\">  total time (s)</th><th style=\"text-align: right;\">   ts</th><th style=\"text-align: right;\">  reward</th><th style=\"text-align: right;\">  episode_reward_max</th><th style=\"text-align: right;\">  episode_reward_min</th><th style=\"text-align: right;\">  episode_len_mean</th></tr>\n</thead>\n<tbody>\n<tr><td>PPO_StatelessCartPole_72c9b_00000</td><td>RUNNING </td><td>127.0.0.1:8232</td><td style=\"text-align: right;\">     3</td><td style=\"text-align: right;\">         172.167</td><td style=\"text-align: right;\">12000</td><td style=\"text-align: right;\"> 32.0887</td><td style=\"text-align: right;\">                  90</td><td style=\"text-align: right;\">                   9</td><td style=\"text-align: right;\">           32.0887</td></tr>\n</tbody>\n</table><br><br>"
     },
     "metadata": {},
     "output_type": "display_data"
    },
    {
     "data": {
      "text/plain": "<IPython.core.display.HTML object>",
      "text/html": "== Status ==<br>Current time: 2021-11-23 19:55:47 (running for 00:03:44.00)<br>Memory usage on this node: 9.9/11.9 GiB<br>Using FIFO scheduling algorithm.<br>Resources requested: 3.0/3 CPUs, 0/0 GPUs, 0.0/1.4 GiB heap, 0.0/0.7 GiB objects<br>Result logdir: C:\\Users\\Stefan\\ray_results\\PPO<br>Number of trials: 1/1 (1 RUNNING)<br><table>\n<thead>\n<tr><th>Trial name                       </th><th>status  </th><th>loc           </th><th style=\"text-align: right;\">  iter</th><th style=\"text-align: right;\">  total time (s)</th><th style=\"text-align: right;\">   ts</th><th style=\"text-align: right;\">  reward</th><th style=\"text-align: right;\">  episode_reward_max</th><th style=\"text-align: right;\">  episode_reward_min</th><th style=\"text-align: right;\">  episode_len_mean</th></tr>\n</thead>\n<tbody>\n<tr><td>PPO_StatelessCartPole_72c9b_00000</td><td>RUNNING </td><td>127.0.0.1:8232</td><td style=\"text-align: right;\">     3</td><td style=\"text-align: right;\">         172.167</td><td style=\"text-align: right;\">12000</td><td style=\"text-align: right;\"> 32.0887</td><td style=\"text-align: right;\">                  90</td><td style=\"text-align: right;\">                   9</td><td style=\"text-align: right;\">           32.0887</td></tr>\n</tbody>\n</table><br><br>"
     },
     "metadata": {},
     "output_type": "display_data"
    },
    {
     "data": {
      "text/plain": "<IPython.core.display.HTML object>",
      "text/html": "== Status ==<br>Current time: 2021-11-23 19:55:52 (running for 00:03:49.12)<br>Memory usage on this node: 9.9/11.9 GiB<br>Using FIFO scheduling algorithm.<br>Resources requested: 3.0/3 CPUs, 0/0 GPUs, 0.0/1.4 GiB heap, 0.0/0.7 GiB objects<br>Result logdir: C:\\Users\\Stefan\\ray_results\\PPO<br>Number of trials: 1/1 (1 RUNNING)<br><table>\n<thead>\n<tr><th>Trial name                       </th><th>status  </th><th>loc           </th><th style=\"text-align: right;\">  iter</th><th style=\"text-align: right;\">  total time (s)</th><th style=\"text-align: right;\">   ts</th><th style=\"text-align: right;\">  reward</th><th style=\"text-align: right;\">  episode_reward_max</th><th style=\"text-align: right;\">  episode_reward_min</th><th style=\"text-align: right;\">  episode_len_mean</th></tr>\n</thead>\n<tbody>\n<tr><td>PPO_StatelessCartPole_72c9b_00000</td><td>RUNNING </td><td>127.0.0.1:8232</td><td style=\"text-align: right;\">     3</td><td style=\"text-align: right;\">         172.167</td><td style=\"text-align: right;\">12000</td><td style=\"text-align: right;\"> 32.0887</td><td style=\"text-align: right;\">                  90</td><td style=\"text-align: right;\">                   9</td><td style=\"text-align: right;\">           32.0887</td></tr>\n</tbody>\n</table><br><br>"
     },
     "metadata": {},
     "output_type": "display_data"
    },
    {
     "data": {
      "text/plain": "<IPython.core.display.HTML object>",
      "text/html": "== Status ==<br>Current time: 2021-11-23 19:55:57 (running for 00:03:54.27)<br>Memory usage on this node: 9.9/11.9 GiB<br>Using FIFO scheduling algorithm.<br>Resources requested: 3.0/3 CPUs, 0/0 GPUs, 0.0/1.4 GiB heap, 0.0/0.7 GiB objects<br>Result logdir: C:\\Users\\Stefan\\ray_results\\PPO<br>Number of trials: 1/1 (1 RUNNING)<br><table>\n<thead>\n<tr><th>Trial name                       </th><th>status  </th><th>loc           </th><th style=\"text-align: right;\">  iter</th><th style=\"text-align: right;\">  total time (s)</th><th style=\"text-align: right;\">   ts</th><th style=\"text-align: right;\">  reward</th><th style=\"text-align: right;\">  episode_reward_max</th><th style=\"text-align: right;\">  episode_reward_min</th><th style=\"text-align: right;\">  episode_len_mean</th></tr>\n</thead>\n<tbody>\n<tr><td>PPO_StatelessCartPole_72c9b_00000</td><td>RUNNING </td><td>127.0.0.1:8232</td><td style=\"text-align: right;\">     3</td><td style=\"text-align: right;\">         172.167</td><td style=\"text-align: right;\">12000</td><td style=\"text-align: right;\"> 32.0887</td><td style=\"text-align: right;\">                  90</td><td style=\"text-align: right;\">                   9</td><td style=\"text-align: right;\">           32.0887</td></tr>\n</tbody>\n</table><br><br>"
     },
     "metadata": {},
     "output_type": "display_data"
    },
    {
     "data": {
      "text/plain": "<IPython.core.display.HTML object>",
      "text/html": "== Status ==<br>Current time: 2021-11-23 19:56:03 (running for 00:03:59.42)<br>Memory usage on this node: 9.9/11.9 GiB<br>Using FIFO scheduling algorithm.<br>Resources requested: 3.0/3 CPUs, 0/0 GPUs, 0.0/1.4 GiB heap, 0.0/0.7 GiB objects<br>Result logdir: C:\\Users\\Stefan\\ray_results\\PPO<br>Number of trials: 1/1 (1 RUNNING)<br><table>\n<thead>\n<tr><th>Trial name                       </th><th>status  </th><th>loc           </th><th style=\"text-align: right;\">  iter</th><th style=\"text-align: right;\">  total time (s)</th><th style=\"text-align: right;\">   ts</th><th style=\"text-align: right;\">  reward</th><th style=\"text-align: right;\">  episode_reward_max</th><th style=\"text-align: right;\">  episode_reward_min</th><th style=\"text-align: right;\">  episode_len_mean</th></tr>\n</thead>\n<tbody>\n<tr><td>PPO_StatelessCartPole_72c9b_00000</td><td>RUNNING </td><td>127.0.0.1:8232</td><td style=\"text-align: right;\">     3</td><td style=\"text-align: right;\">         172.167</td><td style=\"text-align: right;\">12000</td><td style=\"text-align: right;\"> 32.0887</td><td style=\"text-align: right;\">                  90</td><td style=\"text-align: right;\">                   9</td><td style=\"text-align: right;\">           32.0887</td></tr>\n</tbody>\n</table><br><br>"
     },
     "metadata": {},
     "output_type": "display_data"
    },
    {
     "data": {
      "text/plain": "<IPython.core.display.HTML object>",
      "text/html": "== Status ==<br>Current time: 2021-11-23 19:56:08 (running for 00:04:04.53)<br>Memory usage on this node: 9.9/11.9 GiB<br>Using FIFO scheduling algorithm.<br>Resources requested: 3.0/3 CPUs, 0/0 GPUs, 0.0/1.4 GiB heap, 0.0/0.7 GiB objects<br>Result logdir: C:\\Users\\Stefan\\ray_results\\PPO<br>Number of trials: 1/1 (1 RUNNING)<br><table>\n<thead>\n<tr><th>Trial name                       </th><th>status  </th><th>loc           </th><th style=\"text-align: right;\">  iter</th><th style=\"text-align: right;\">  total time (s)</th><th style=\"text-align: right;\">   ts</th><th style=\"text-align: right;\">  reward</th><th style=\"text-align: right;\">  episode_reward_max</th><th style=\"text-align: right;\">  episode_reward_min</th><th style=\"text-align: right;\">  episode_len_mean</th></tr>\n</thead>\n<tbody>\n<tr><td>PPO_StatelessCartPole_72c9b_00000</td><td>RUNNING </td><td>127.0.0.1:8232</td><td style=\"text-align: right;\">     3</td><td style=\"text-align: right;\">         172.167</td><td style=\"text-align: right;\">12000</td><td style=\"text-align: right;\"> 32.0887</td><td style=\"text-align: right;\">                  90</td><td style=\"text-align: right;\">                   9</td><td style=\"text-align: right;\">           32.0887</td></tr>\n</tbody>\n</table><br><br>"
     },
     "metadata": {},
     "output_type": "display_data"
    },
    {
     "data": {
      "text/plain": "<IPython.core.display.HTML object>",
      "text/html": "== Status ==<br>Current time: 2021-11-23 19:56:13 (running for 00:04:09.67)<br>Memory usage on this node: 9.9/11.9 GiB<br>Using FIFO scheduling algorithm.<br>Resources requested: 3.0/3 CPUs, 0/0 GPUs, 0.0/1.4 GiB heap, 0.0/0.7 GiB objects<br>Result logdir: C:\\Users\\Stefan\\ray_results\\PPO<br>Number of trials: 1/1 (1 RUNNING)<br><table>\n<thead>\n<tr><th>Trial name                       </th><th>status  </th><th>loc           </th><th style=\"text-align: right;\">  iter</th><th style=\"text-align: right;\">  total time (s)</th><th style=\"text-align: right;\">   ts</th><th style=\"text-align: right;\">  reward</th><th style=\"text-align: right;\">  episode_reward_max</th><th style=\"text-align: right;\">  episode_reward_min</th><th style=\"text-align: right;\">  episode_len_mean</th></tr>\n</thead>\n<tbody>\n<tr><td>PPO_StatelessCartPole_72c9b_00000</td><td>RUNNING </td><td>127.0.0.1:8232</td><td style=\"text-align: right;\">     3</td><td style=\"text-align: right;\">         172.167</td><td style=\"text-align: right;\">12000</td><td style=\"text-align: right;\"> 32.0887</td><td style=\"text-align: right;\">                  90</td><td style=\"text-align: right;\">                   9</td><td style=\"text-align: right;\">           32.0887</td></tr>\n</tbody>\n</table><br><br>"
     },
     "metadata": {},
     "output_type": "display_data"
    },
    {
     "data": {
      "text/plain": "<IPython.core.display.HTML object>",
      "text/html": "== Status ==<br>Current time: 2021-11-23 19:56:18 (running for 00:04:14.78)<br>Memory usage on this node: 9.9/11.9 GiB<br>Using FIFO scheduling algorithm.<br>Resources requested: 3.0/3 CPUs, 0/0 GPUs, 0.0/1.4 GiB heap, 0.0/0.7 GiB objects<br>Result logdir: C:\\Users\\Stefan\\ray_results\\PPO<br>Number of trials: 1/1 (1 RUNNING)<br><table>\n<thead>\n<tr><th>Trial name                       </th><th>status  </th><th>loc           </th><th style=\"text-align: right;\">  iter</th><th style=\"text-align: right;\">  total time (s)</th><th style=\"text-align: right;\">   ts</th><th style=\"text-align: right;\">  reward</th><th style=\"text-align: right;\">  episode_reward_max</th><th style=\"text-align: right;\">  episode_reward_min</th><th style=\"text-align: right;\">  episode_len_mean</th></tr>\n</thead>\n<tbody>\n<tr><td>PPO_StatelessCartPole_72c9b_00000</td><td>RUNNING </td><td>127.0.0.1:8232</td><td style=\"text-align: right;\">     3</td><td style=\"text-align: right;\">         172.167</td><td style=\"text-align: right;\">12000</td><td style=\"text-align: right;\"> 32.0887</td><td style=\"text-align: right;\">                  90</td><td style=\"text-align: right;\">                   9</td><td style=\"text-align: right;\">           32.0887</td></tr>\n</tbody>\n</table><br><br>"
     },
     "metadata": {},
     "output_type": "display_data"
    },
    {
     "name": "stdout",
     "output_type": "stream",
     "text": [
      "Result for PPO_StatelessCartPole_72c9b_00000:\n",
      "  agent_timesteps_total: 16000\n",
      "  custom_metrics: {}\n",
      "  date: 2021-11-23_19-56-20\n",
      "  done: false\n",
      "  episode_len_mean: 35.166666666666664\n",
      "  episode_media: {}\n",
      "  episode_reward_max: 88.0\n",
      "  episode_reward_mean: 35.166666666666664\n",
      "  episode_reward_min: 10.0\n",
      "  episodes_this_iter: 114\n",
      "  episodes_total: 561\n",
      "  experiment_id: 5ab5d39a5646406282869656a0cafe8c\n",
      "  hostname: nb-stschn\n",
      "  info:\n",
      "    learner:\n",
      "      default_policy:\n",
      "        custom_metrics: {}\n",
      "        learner_stats:\n",
      "          cur_kl_coeff: 0.20000000298023224\n",
      "          cur_lr: 4.999999873689376e-05\n",
      "          entropy: 0.6015979647636414\n",
      "          entropy_coeff: 0.0\n",
      "          kl: 0.006288235541433096\n",
      "          model: {}\n",
      "          policy_loss: -0.002494542161002755\n",
      "          total_loss: 122.13024139404297\n",
      "          vf_explained_var: 0.2030862718820572\n",
      "          vf_loss: 122.13147735595703\n",
      "    num_agent_steps_sampled: 16000\n",
      "    num_agent_steps_trained: 16000\n",
      "    num_steps_sampled: 16000\n",
      "    num_steps_trained: 16000\n",
      "    num_steps_trained_this_iter: 0\n",
      "  iterations_since_restore: 4\n",
      "  node_ip: 127.0.0.1\n",
      "  num_healthy_workers: 2\n",
      "  off_policy_estimator: {}\n",
      "  perf:\n",
      "    cpu_util_percent: 94.28961038961037\n",
      "    ram_util_percent: 83.19870129870131\n",
      "  pid: 8232\n",
      "  policy_reward_max: {}\n",
      "  policy_reward_mean: {}\n",
      "  policy_reward_min: {}\n",
      "  sampler_perf:\n",
      "    mean_action_processing_ms: 0.10975307369854703\n",
      "    mean_env_render_ms: 0.0\n",
      "    mean_env_wait_ms: 0.11678648216341195\n",
      "    mean_inference_ms: 2.391730878518198\n",
      "    mean_raw_obs_processing_ms: 0.17551507430957108\n",
      "  time_since_restore: 227.68400621414185\n",
      "  time_this_iter_s: 55.5171058177948\n",
      "  time_total_s: 227.68400621414185\n",
      "  timers:\n",
      "    learn_throughput: 78.149\n",
      "    learn_time_ms: 51184.458\n",
      "    load_throughput: 0.0\n",
      "    load_time_ms: 0.0\n",
      "    sample_throughput: 89.839\n",
      "    sample_time_ms: 44524.081\n",
      "    update_time_ms: 11.488\n",
      "  timestamp: 1637693780\n",
      "  timesteps_since_restore: 0\n",
      "  timesteps_this_iter: 0\n",
      "  timesteps_total: 16000\n",
      "  training_iteration: 4\n",
      "  trial_id: 72c9b_00000\n",
      "  \n"
     ]
    },
    {
     "data": {
      "text/plain": "<IPython.core.display.HTML object>",
      "text/html": "== Status ==<br>Current time: 2021-11-23 19:56:23 (running for 00:04:20.10)<br>Memory usage on this node: 9.8/11.9 GiB<br>Using FIFO scheduling algorithm.<br>Resources requested: 3.0/3 CPUs, 0/0 GPUs, 0.0/1.4 GiB heap, 0.0/0.7 GiB objects<br>Result logdir: C:\\Users\\Stefan\\ray_results\\PPO<br>Number of trials: 1/1 (1 RUNNING)<br><table>\n<thead>\n<tr><th>Trial name                       </th><th>status  </th><th>loc           </th><th style=\"text-align: right;\">  iter</th><th style=\"text-align: right;\">  total time (s)</th><th style=\"text-align: right;\">   ts</th><th style=\"text-align: right;\">  reward</th><th style=\"text-align: right;\">  episode_reward_max</th><th style=\"text-align: right;\">  episode_reward_min</th><th style=\"text-align: right;\">  episode_len_mean</th></tr>\n</thead>\n<tbody>\n<tr><td>PPO_StatelessCartPole_72c9b_00000</td><td>RUNNING </td><td>127.0.0.1:8232</td><td style=\"text-align: right;\">     4</td><td style=\"text-align: right;\">         227.684</td><td style=\"text-align: right;\">16000</td><td style=\"text-align: right;\"> 35.1667</td><td style=\"text-align: right;\">                  88</td><td style=\"text-align: right;\">                  10</td><td style=\"text-align: right;\">           35.1667</td></tr>\n</tbody>\n</table><br><br>"
     },
     "metadata": {},
     "output_type": "display_data"
    },
    {
     "data": {
      "text/plain": "<IPython.core.display.HTML object>",
      "text/html": "== Status ==<br>Current time: 2021-11-23 19:56:28 (running for 00:04:25.22)<br>Memory usage on this node: 9.8/11.9 GiB<br>Using FIFO scheduling algorithm.<br>Resources requested: 3.0/3 CPUs, 0/0 GPUs, 0.0/1.4 GiB heap, 0.0/0.7 GiB objects<br>Result logdir: C:\\Users\\Stefan\\ray_results\\PPO<br>Number of trials: 1/1 (1 RUNNING)<br><table>\n<thead>\n<tr><th>Trial name                       </th><th>status  </th><th>loc           </th><th style=\"text-align: right;\">  iter</th><th style=\"text-align: right;\">  total time (s)</th><th style=\"text-align: right;\">   ts</th><th style=\"text-align: right;\">  reward</th><th style=\"text-align: right;\">  episode_reward_max</th><th style=\"text-align: right;\">  episode_reward_min</th><th style=\"text-align: right;\">  episode_len_mean</th></tr>\n</thead>\n<tbody>\n<tr><td>PPO_StatelessCartPole_72c9b_00000</td><td>RUNNING </td><td>127.0.0.1:8232</td><td style=\"text-align: right;\">     4</td><td style=\"text-align: right;\">         227.684</td><td style=\"text-align: right;\">16000</td><td style=\"text-align: right;\"> 35.1667</td><td style=\"text-align: right;\">                  88</td><td style=\"text-align: right;\">                  10</td><td style=\"text-align: right;\">           35.1667</td></tr>\n</tbody>\n</table><br><br>"
     },
     "metadata": {},
     "output_type": "display_data"
    },
    {
     "data": {
      "text/plain": "<IPython.core.display.HTML object>",
      "text/html": "== Status ==<br>Current time: 2021-11-23 19:56:34 (running for 00:04:30.42)<br>Memory usage on this node: 9.9/11.9 GiB<br>Using FIFO scheduling algorithm.<br>Resources requested: 3.0/3 CPUs, 0/0 GPUs, 0.0/1.4 GiB heap, 0.0/0.7 GiB objects<br>Result logdir: C:\\Users\\Stefan\\ray_results\\PPO<br>Number of trials: 1/1 (1 RUNNING)<br><table>\n<thead>\n<tr><th>Trial name                       </th><th>status  </th><th>loc           </th><th style=\"text-align: right;\">  iter</th><th style=\"text-align: right;\">  total time (s)</th><th style=\"text-align: right;\">   ts</th><th style=\"text-align: right;\">  reward</th><th style=\"text-align: right;\">  episode_reward_max</th><th style=\"text-align: right;\">  episode_reward_min</th><th style=\"text-align: right;\">  episode_len_mean</th></tr>\n</thead>\n<tbody>\n<tr><td>PPO_StatelessCartPole_72c9b_00000</td><td>RUNNING </td><td>127.0.0.1:8232</td><td style=\"text-align: right;\">     4</td><td style=\"text-align: right;\">         227.684</td><td style=\"text-align: right;\">16000</td><td style=\"text-align: right;\"> 35.1667</td><td style=\"text-align: right;\">                  88</td><td style=\"text-align: right;\">                  10</td><td style=\"text-align: right;\">           35.1667</td></tr>\n</tbody>\n</table><br><br>"
     },
     "metadata": {},
     "output_type": "display_data"
    },
    {
     "data": {
      "text/plain": "<IPython.core.display.HTML object>",
      "text/html": "== Status ==<br>Current time: 2021-11-23 19:56:39 (running for 00:04:35.52)<br>Memory usage on this node: 9.8/11.9 GiB<br>Using FIFO scheduling algorithm.<br>Resources requested: 3.0/3 CPUs, 0/0 GPUs, 0.0/1.4 GiB heap, 0.0/0.7 GiB objects<br>Result logdir: C:\\Users\\Stefan\\ray_results\\PPO<br>Number of trials: 1/1 (1 RUNNING)<br><table>\n<thead>\n<tr><th>Trial name                       </th><th>status  </th><th>loc           </th><th style=\"text-align: right;\">  iter</th><th style=\"text-align: right;\">  total time (s)</th><th style=\"text-align: right;\">   ts</th><th style=\"text-align: right;\">  reward</th><th style=\"text-align: right;\">  episode_reward_max</th><th style=\"text-align: right;\">  episode_reward_min</th><th style=\"text-align: right;\">  episode_len_mean</th></tr>\n</thead>\n<tbody>\n<tr><td>PPO_StatelessCartPole_72c9b_00000</td><td>RUNNING </td><td>127.0.0.1:8232</td><td style=\"text-align: right;\">     4</td><td style=\"text-align: right;\">         227.684</td><td style=\"text-align: right;\">16000</td><td style=\"text-align: right;\"> 35.1667</td><td style=\"text-align: right;\">                  88</td><td style=\"text-align: right;\">                  10</td><td style=\"text-align: right;\">           35.1667</td></tr>\n</tbody>\n</table><br><br>"
     },
     "metadata": {},
     "output_type": "display_data"
    },
    {
     "data": {
      "text/plain": "<IPython.core.display.HTML object>",
      "text/html": "== Status ==<br>Current time: 2021-11-23 19:56:44 (running for 00:04:40.72)<br>Memory usage on this node: 9.9/11.9 GiB<br>Using FIFO scheduling algorithm.<br>Resources requested: 3.0/3 CPUs, 0/0 GPUs, 0.0/1.4 GiB heap, 0.0/0.7 GiB objects<br>Result logdir: C:\\Users\\Stefan\\ray_results\\PPO<br>Number of trials: 1/1 (1 RUNNING)<br><table>\n<thead>\n<tr><th>Trial name                       </th><th>status  </th><th>loc           </th><th style=\"text-align: right;\">  iter</th><th style=\"text-align: right;\">  total time (s)</th><th style=\"text-align: right;\">   ts</th><th style=\"text-align: right;\">  reward</th><th style=\"text-align: right;\">  episode_reward_max</th><th style=\"text-align: right;\">  episode_reward_min</th><th style=\"text-align: right;\">  episode_len_mean</th></tr>\n</thead>\n<tbody>\n<tr><td>PPO_StatelessCartPole_72c9b_00000</td><td>RUNNING </td><td>127.0.0.1:8232</td><td style=\"text-align: right;\">     4</td><td style=\"text-align: right;\">         227.684</td><td style=\"text-align: right;\">16000</td><td style=\"text-align: right;\"> 35.1667</td><td style=\"text-align: right;\">                  88</td><td style=\"text-align: right;\">                  10</td><td style=\"text-align: right;\">           35.1667</td></tr>\n</tbody>\n</table><br><br>"
     },
     "metadata": {},
     "output_type": "display_data"
    },
    {
     "data": {
      "text/plain": "<IPython.core.display.HTML object>",
      "text/html": "== Status ==<br>Current time: 2021-11-23 19:56:49 (running for 00:04:45.88)<br>Memory usage on this node: 9.9/11.9 GiB<br>Using FIFO scheduling algorithm.<br>Resources requested: 3.0/3 CPUs, 0/0 GPUs, 0.0/1.4 GiB heap, 0.0/0.7 GiB objects<br>Result logdir: C:\\Users\\Stefan\\ray_results\\PPO<br>Number of trials: 1/1 (1 RUNNING)<br><table>\n<thead>\n<tr><th>Trial name                       </th><th>status  </th><th>loc           </th><th style=\"text-align: right;\">  iter</th><th style=\"text-align: right;\">  total time (s)</th><th style=\"text-align: right;\">   ts</th><th style=\"text-align: right;\">  reward</th><th style=\"text-align: right;\">  episode_reward_max</th><th style=\"text-align: right;\">  episode_reward_min</th><th style=\"text-align: right;\">  episode_len_mean</th></tr>\n</thead>\n<tbody>\n<tr><td>PPO_StatelessCartPole_72c9b_00000</td><td>RUNNING </td><td>127.0.0.1:8232</td><td style=\"text-align: right;\">     4</td><td style=\"text-align: right;\">         227.684</td><td style=\"text-align: right;\">16000</td><td style=\"text-align: right;\"> 35.1667</td><td style=\"text-align: right;\">                  88</td><td style=\"text-align: right;\">                  10</td><td style=\"text-align: right;\">           35.1667</td></tr>\n</tbody>\n</table><br><br>"
     },
     "metadata": {},
     "output_type": "display_data"
    },
    {
     "data": {
      "text/plain": "<IPython.core.display.HTML object>",
      "text/html": "== Status ==<br>Current time: 2021-11-23 19:56:54 (running for 00:04:51.08)<br>Memory usage on this node: 9.9/11.9 GiB<br>Using FIFO scheduling algorithm.<br>Resources requested: 3.0/3 CPUs, 0/0 GPUs, 0.0/1.4 GiB heap, 0.0/0.7 GiB objects<br>Result logdir: C:\\Users\\Stefan\\ray_results\\PPO<br>Number of trials: 1/1 (1 RUNNING)<br><table>\n<thead>\n<tr><th>Trial name                       </th><th>status  </th><th>loc           </th><th style=\"text-align: right;\">  iter</th><th style=\"text-align: right;\">  total time (s)</th><th style=\"text-align: right;\">   ts</th><th style=\"text-align: right;\">  reward</th><th style=\"text-align: right;\">  episode_reward_max</th><th style=\"text-align: right;\">  episode_reward_min</th><th style=\"text-align: right;\">  episode_len_mean</th></tr>\n</thead>\n<tbody>\n<tr><td>PPO_StatelessCartPole_72c9b_00000</td><td>RUNNING </td><td>127.0.0.1:8232</td><td style=\"text-align: right;\">     4</td><td style=\"text-align: right;\">         227.684</td><td style=\"text-align: right;\">16000</td><td style=\"text-align: right;\"> 35.1667</td><td style=\"text-align: right;\">                  88</td><td style=\"text-align: right;\">                  10</td><td style=\"text-align: right;\">           35.1667</td></tr>\n</tbody>\n</table><br><br>"
     },
     "metadata": {},
     "output_type": "display_data"
    },
    {
     "data": {
      "text/plain": "<IPython.core.display.HTML object>",
      "text/html": "== Status ==<br>Current time: 2021-11-23 19:57:00 (running for 00:04:56.43)<br>Memory usage on this node: 9.9/11.9 GiB<br>Using FIFO scheduling algorithm.<br>Resources requested: 3.0/3 CPUs, 0/0 GPUs, 0.0/1.4 GiB heap, 0.0/0.7 GiB objects<br>Result logdir: C:\\Users\\Stefan\\ray_results\\PPO<br>Number of trials: 1/1 (1 RUNNING)<br><table>\n<thead>\n<tr><th>Trial name                       </th><th>status  </th><th>loc           </th><th style=\"text-align: right;\">  iter</th><th style=\"text-align: right;\">  total time (s)</th><th style=\"text-align: right;\">   ts</th><th style=\"text-align: right;\">  reward</th><th style=\"text-align: right;\">  episode_reward_max</th><th style=\"text-align: right;\">  episode_reward_min</th><th style=\"text-align: right;\">  episode_len_mean</th></tr>\n</thead>\n<tbody>\n<tr><td>PPO_StatelessCartPole_72c9b_00000</td><td>RUNNING </td><td>127.0.0.1:8232</td><td style=\"text-align: right;\">     4</td><td style=\"text-align: right;\">         227.684</td><td style=\"text-align: right;\">16000</td><td style=\"text-align: right;\"> 35.1667</td><td style=\"text-align: right;\">                  88</td><td style=\"text-align: right;\">                  10</td><td style=\"text-align: right;\">           35.1667</td></tr>\n</tbody>\n</table><br><br>"
     },
     "metadata": {},
     "output_type": "display_data"
    },
    {
     "data": {
      "text/plain": "<IPython.core.display.HTML object>",
      "text/html": "== Status ==<br>Current time: 2021-11-23 19:57:05 (running for 00:05:01.60)<br>Memory usage on this node: 9.9/11.9 GiB<br>Using FIFO scheduling algorithm.<br>Resources requested: 3.0/3 CPUs, 0/0 GPUs, 0.0/1.4 GiB heap, 0.0/0.7 GiB objects<br>Result logdir: C:\\Users\\Stefan\\ray_results\\PPO<br>Number of trials: 1/1 (1 RUNNING)<br><table>\n<thead>\n<tr><th>Trial name                       </th><th>status  </th><th>loc           </th><th style=\"text-align: right;\">  iter</th><th style=\"text-align: right;\">  total time (s)</th><th style=\"text-align: right;\">   ts</th><th style=\"text-align: right;\">  reward</th><th style=\"text-align: right;\">  episode_reward_max</th><th style=\"text-align: right;\">  episode_reward_min</th><th style=\"text-align: right;\">  episode_len_mean</th></tr>\n</thead>\n<tbody>\n<tr><td>PPO_StatelessCartPole_72c9b_00000</td><td>RUNNING </td><td>127.0.0.1:8232</td><td style=\"text-align: right;\">     4</td><td style=\"text-align: right;\">         227.684</td><td style=\"text-align: right;\">16000</td><td style=\"text-align: right;\"> 35.1667</td><td style=\"text-align: right;\">                  88</td><td style=\"text-align: right;\">                  10</td><td style=\"text-align: right;\">           35.1667</td></tr>\n</tbody>\n</table><br><br>"
     },
     "metadata": {},
     "output_type": "display_data"
    },
    {
     "data": {
      "text/plain": "<IPython.core.display.HTML object>",
      "text/html": "== Status ==<br>Current time: 2021-11-23 19:57:10 (running for 00:05:06.77)<br>Memory usage on this node: 9.9/11.9 GiB<br>Using FIFO scheduling algorithm.<br>Resources requested: 3.0/3 CPUs, 0/0 GPUs, 0.0/1.4 GiB heap, 0.0/0.7 GiB objects<br>Result logdir: C:\\Users\\Stefan\\ray_results\\PPO<br>Number of trials: 1/1 (1 RUNNING)<br><table>\n<thead>\n<tr><th>Trial name                       </th><th>status  </th><th>loc           </th><th style=\"text-align: right;\">  iter</th><th style=\"text-align: right;\">  total time (s)</th><th style=\"text-align: right;\">   ts</th><th style=\"text-align: right;\">  reward</th><th style=\"text-align: right;\">  episode_reward_max</th><th style=\"text-align: right;\">  episode_reward_min</th><th style=\"text-align: right;\">  episode_len_mean</th></tr>\n</thead>\n<tbody>\n<tr><td>PPO_StatelessCartPole_72c9b_00000</td><td>RUNNING </td><td>127.0.0.1:8232</td><td style=\"text-align: right;\">     4</td><td style=\"text-align: right;\">         227.684</td><td style=\"text-align: right;\">16000</td><td style=\"text-align: right;\"> 35.1667</td><td style=\"text-align: right;\">                  88</td><td style=\"text-align: right;\">                  10</td><td style=\"text-align: right;\">           35.1667</td></tr>\n</tbody>\n</table><br><br>"
     },
     "metadata": {},
     "output_type": "display_data"
    },
    {
     "data": {
      "text/plain": "<IPython.core.display.HTML object>",
      "text/html": "== Status ==<br>Current time: 2021-11-23 19:57:15 (running for 00:05:12.00)<br>Memory usage on this node: 9.9/11.9 GiB<br>Using FIFO scheduling algorithm.<br>Resources requested: 3.0/3 CPUs, 0/0 GPUs, 0.0/1.4 GiB heap, 0.0/0.7 GiB objects<br>Result logdir: C:\\Users\\Stefan\\ray_results\\PPO<br>Number of trials: 1/1 (1 RUNNING)<br><table>\n<thead>\n<tr><th>Trial name                       </th><th>status  </th><th>loc           </th><th style=\"text-align: right;\">  iter</th><th style=\"text-align: right;\">  total time (s)</th><th style=\"text-align: right;\">   ts</th><th style=\"text-align: right;\">  reward</th><th style=\"text-align: right;\">  episode_reward_max</th><th style=\"text-align: right;\">  episode_reward_min</th><th style=\"text-align: right;\">  episode_len_mean</th></tr>\n</thead>\n<tbody>\n<tr><td>PPO_StatelessCartPole_72c9b_00000</td><td>RUNNING </td><td>127.0.0.1:8232</td><td style=\"text-align: right;\">     4</td><td style=\"text-align: right;\">         227.684</td><td style=\"text-align: right;\">16000</td><td style=\"text-align: right;\"> 35.1667</td><td style=\"text-align: right;\">                  88</td><td style=\"text-align: right;\">                  10</td><td style=\"text-align: right;\">           35.1667</td></tr>\n</tbody>\n</table><br><br>"
     },
     "metadata": {},
     "output_type": "display_data"
    },
    {
     "name": "stdout",
     "output_type": "stream",
     "text": [
      "Result for PPO_StatelessCartPole_72c9b_00000:\n",
      "  agent_timesteps_total: 20000\n",
      "  custom_metrics: {}\n",
      "  date: 2021-11-23_19-57-16\n",
      "  done: false\n",
      "  episode_len_mean: 35.60176991150443\n",
      "  episode_media: {}\n",
      "  episode_reward_max: 82.0\n",
      "  episode_reward_mean: 35.60176991150443\n",
      "  episode_reward_min: 9.0\n",
      "  episodes_this_iter: 113\n",
      "  episodes_total: 674\n",
      "  experiment_id: 5ab5d39a5646406282869656a0cafe8c\n",
      "  hostname: nb-stschn\n",
      "  info:\n",
      "    learner:\n",
      "      default_policy:\n",
      "        custom_metrics: {}\n",
      "        learner_stats:\n",
      "          cur_kl_coeff: 0.20000000298023224\n",
      "          cur_lr: 4.999999873689376e-05\n",
      "          entropy: 0.592738926410675\n",
      "          entropy_coeff: 0.0\n",
      "          kl: 0.010486969724297523\n",
      "          model: {}\n",
      "          policy_loss: -0.002916128607466817\n",
      "          total_loss: 138.9017333984375\n",
      "          vf_explained_var: 0.2189464569091797\n",
      "          vf_loss: 138.90255737304688\n",
      "    num_agent_steps_sampled: 20000\n",
      "    num_agent_steps_trained: 20000\n",
      "    num_steps_sampled: 20000\n",
      "    num_steps_trained: 20000\n",
      "    num_steps_trained_this_iter: 0\n",
      "  iterations_since_restore: 5\n",
      "  node_ip: 127.0.0.1\n",
      "  num_healthy_workers: 2\n",
      "  off_policy_estimator: {}\n",
      "  perf:\n",
      "    cpu_util_percent: 94.57564102564102\n",
      "    ram_util_percent: 82.98846153846154\n",
      "  pid: 8232\n",
      "  policy_reward_max: {}\n",
      "  policy_reward_mean: {}\n",
      "  policy_reward_min: {}\n",
      "  sampler_perf:\n",
      "    mean_action_processing_ms: 0.102542597695678\n",
      "    mean_env_render_ms: 0.0\n",
      "    mean_env_wait_ms: 0.11159985287861403\n",
      "    mean_inference_ms: 2.4058730163831163\n",
      "    mean_raw_obs_processing_ms: 0.16771017274990122\n",
      "  time_since_restore: 283.9473285675049\n",
      "  time_this_iter_s: 56.26332235336304\n",
      "  time_total_s: 283.9473285675049\n",
      "  timers:\n",
      "    learn_throughput: 78.32\n",
      "    learn_time_ms: 51072.37\n",
      "    load_throughput: 0.0\n",
      "    load_time_ms: 0.0\n",
      "    sample_throughput: 85.67\n",
      "    sample_time_ms: 46690.89\n",
      "    update_time_ms: 11.108\n",
      "  timestamp: 1637693836\n",
      "  timesteps_since_restore: 0\n",
      "  timesteps_this_iter: 0\n",
      "  timesteps_total: 20000\n",
      "  training_iteration: 5\n",
      "  trial_id: 72c9b_00000\n",
      "  \n"
     ]
    },
    {
     "data": {
      "text/plain": "<IPython.core.display.HTML object>",
      "text/html": "== Status ==<br>Current time: 2021-11-23 19:57:22 (running for 00:05:18.42)<br>Memory usage on this node: 9.9/11.9 GiB<br>Using FIFO scheduling algorithm.<br>Resources requested: 3.0/3 CPUs, 0/0 GPUs, 0.0/1.4 GiB heap, 0.0/0.7 GiB objects<br>Result logdir: C:\\Users\\Stefan\\ray_results\\PPO<br>Number of trials: 1/1 (1 RUNNING)<br><table>\n<thead>\n<tr><th>Trial name                       </th><th>status  </th><th>loc           </th><th style=\"text-align: right;\">  iter</th><th style=\"text-align: right;\">  total time (s)</th><th style=\"text-align: right;\">   ts</th><th style=\"text-align: right;\">  reward</th><th style=\"text-align: right;\">  episode_reward_max</th><th style=\"text-align: right;\">  episode_reward_min</th><th style=\"text-align: right;\">  episode_len_mean</th></tr>\n</thead>\n<tbody>\n<tr><td>PPO_StatelessCartPole_72c9b_00000</td><td>RUNNING </td><td>127.0.0.1:8232</td><td style=\"text-align: right;\">     5</td><td style=\"text-align: right;\">         283.947</td><td style=\"text-align: right;\">20000</td><td style=\"text-align: right;\"> 35.6018</td><td style=\"text-align: right;\">                  82</td><td style=\"text-align: right;\">                   9</td><td style=\"text-align: right;\">           35.6018</td></tr>\n</tbody>\n</table><br><br>"
     },
     "metadata": {},
     "output_type": "display_data"
    },
    {
     "data": {
      "text/plain": "<IPython.core.display.HTML object>",
      "text/html": "== Status ==<br>Current time: 2021-11-23 19:57:27 (running for 00:05:23.54)<br>Memory usage on this node: 9.8/11.9 GiB<br>Using FIFO scheduling algorithm.<br>Resources requested: 3.0/3 CPUs, 0/0 GPUs, 0.0/1.4 GiB heap, 0.0/0.7 GiB objects<br>Result logdir: C:\\Users\\Stefan\\ray_results\\PPO<br>Number of trials: 1/1 (1 RUNNING)<br><table>\n<thead>\n<tr><th>Trial name                       </th><th>status  </th><th>loc           </th><th style=\"text-align: right;\">  iter</th><th style=\"text-align: right;\">  total time (s)</th><th style=\"text-align: right;\">   ts</th><th style=\"text-align: right;\">  reward</th><th style=\"text-align: right;\">  episode_reward_max</th><th style=\"text-align: right;\">  episode_reward_min</th><th style=\"text-align: right;\">  episode_len_mean</th></tr>\n</thead>\n<tbody>\n<tr><td>PPO_StatelessCartPole_72c9b_00000</td><td>RUNNING </td><td>127.0.0.1:8232</td><td style=\"text-align: right;\">     5</td><td style=\"text-align: right;\">         283.947</td><td style=\"text-align: right;\">20000</td><td style=\"text-align: right;\"> 35.6018</td><td style=\"text-align: right;\">                  82</td><td style=\"text-align: right;\">                   9</td><td style=\"text-align: right;\">           35.6018</td></tr>\n</tbody>\n</table><br><br>"
     },
     "metadata": {},
     "output_type": "display_data"
    },
    {
     "data": {
      "text/plain": "<IPython.core.display.HTML object>",
      "text/html": "== Status ==<br>Current time: 2021-11-23 19:57:32 (running for 00:05:28.67)<br>Memory usage on this node: 9.8/11.9 GiB<br>Using FIFO scheduling algorithm.<br>Resources requested: 3.0/3 CPUs, 0/0 GPUs, 0.0/1.4 GiB heap, 0.0/0.7 GiB objects<br>Result logdir: C:\\Users\\Stefan\\ray_results\\PPO<br>Number of trials: 1/1 (1 RUNNING)<br><table>\n<thead>\n<tr><th>Trial name                       </th><th>status  </th><th>loc           </th><th style=\"text-align: right;\">  iter</th><th style=\"text-align: right;\">  total time (s)</th><th style=\"text-align: right;\">   ts</th><th style=\"text-align: right;\">  reward</th><th style=\"text-align: right;\">  episode_reward_max</th><th style=\"text-align: right;\">  episode_reward_min</th><th style=\"text-align: right;\">  episode_len_mean</th></tr>\n</thead>\n<tbody>\n<tr><td>PPO_StatelessCartPole_72c9b_00000</td><td>RUNNING </td><td>127.0.0.1:8232</td><td style=\"text-align: right;\">     5</td><td style=\"text-align: right;\">         283.947</td><td style=\"text-align: right;\">20000</td><td style=\"text-align: right;\"> 35.6018</td><td style=\"text-align: right;\">                  82</td><td style=\"text-align: right;\">                   9</td><td style=\"text-align: right;\">           35.6018</td></tr>\n</tbody>\n</table><br><br>"
     },
     "metadata": {},
     "output_type": "display_data"
    },
    {
     "data": {
      "text/plain": "<IPython.core.display.HTML object>",
      "text/html": "== Status ==<br>Current time: 2021-11-23 19:57:37 (running for 00:05:33.83)<br>Memory usage on this node: 9.8/11.9 GiB<br>Using FIFO scheduling algorithm.<br>Resources requested: 3.0/3 CPUs, 0/0 GPUs, 0.0/1.4 GiB heap, 0.0/0.7 GiB objects<br>Result logdir: C:\\Users\\Stefan\\ray_results\\PPO<br>Number of trials: 1/1 (1 RUNNING)<br><table>\n<thead>\n<tr><th>Trial name                       </th><th>status  </th><th>loc           </th><th style=\"text-align: right;\">  iter</th><th style=\"text-align: right;\">  total time (s)</th><th style=\"text-align: right;\">   ts</th><th style=\"text-align: right;\">  reward</th><th style=\"text-align: right;\">  episode_reward_max</th><th style=\"text-align: right;\">  episode_reward_min</th><th style=\"text-align: right;\">  episode_len_mean</th></tr>\n</thead>\n<tbody>\n<tr><td>PPO_StatelessCartPole_72c9b_00000</td><td>RUNNING </td><td>127.0.0.1:8232</td><td style=\"text-align: right;\">     5</td><td style=\"text-align: right;\">         283.947</td><td style=\"text-align: right;\">20000</td><td style=\"text-align: right;\"> 35.6018</td><td style=\"text-align: right;\">                  82</td><td style=\"text-align: right;\">                   9</td><td style=\"text-align: right;\">           35.6018</td></tr>\n</tbody>\n</table><br><br>"
     },
     "metadata": {},
     "output_type": "display_data"
    },
    {
     "data": {
      "text/plain": "<IPython.core.display.HTML object>",
      "text/html": "== Status ==<br>Current time: 2021-11-23 19:57:42 (running for 00:05:38.93)<br>Memory usage on this node: 9.8/11.9 GiB<br>Using FIFO scheduling algorithm.<br>Resources requested: 3.0/3 CPUs, 0/0 GPUs, 0.0/1.4 GiB heap, 0.0/0.7 GiB objects<br>Result logdir: C:\\Users\\Stefan\\ray_results\\PPO<br>Number of trials: 1/1 (1 RUNNING)<br><table>\n<thead>\n<tr><th>Trial name                       </th><th>status  </th><th>loc           </th><th style=\"text-align: right;\">  iter</th><th style=\"text-align: right;\">  total time (s)</th><th style=\"text-align: right;\">   ts</th><th style=\"text-align: right;\">  reward</th><th style=\"text-align: right;\">  episode_reward_max</th><th style=\"text-align: right;\">  episode_reward_min</th><th style=\"text-align: right;\">  episode_len_mean</th></tr>\n</thead>\n<tbody>\n<tr><td>PPO_StatelessCartPole_72c9b_00000</td><td>RUNNING </td><td>127.0.0.1:8232</td><td style=\"text-align: right;\">     5</td><td style=\"text-align: right;\">         283.947</td><td style=\"text-align: right;\">20000</td><td style=\"text-align: right;\"> 35.6018</td><td style=\"text-align: right;\">                  82</td><td style=\"text-align: right;\">                   9</td><td style=\"text-align: right;\">           35.6018</td></tr>\n</tbody>\n</table><br><br>"
     },
     "metadata": {},
     "output_type": "display_data"
    },
    {
     "data": {
      "text/plain": "<IPython.core.display.HTML object>",
      "text/html": "== Status ==<br>Current time: 2021-11-23 19:57:47 (running for 00:05:44.07)<br>Memory usage on this node: 9.8/11.9 GiB<br>Using FIFO scheduling algorithm.<br>Resources requested: 3.0/3 CPUs, 0/0 GPUs, 0.0/1.4 GiB heap, 0.0/0.7 GiB objects<br>Result logdir: C:\\Users\\Stefan\\ray_results\\PPO<br>Number of trials: 1/1 (1 RUNNING)<br><table>\n<thead>\n<tr><th>Trial name                       </th><th>status  </th><th>loc           </th><th style=\"text-align: right;\">  iter</th><th style=\"text-align: right;\">  total time (s)</th><th style=\"text-align: right;\">   ts</th><th style=\"text-align: right;\">  reward</th><th style=\"text-align: right;\">  episode_reward_max</th><th style=\"text-align: right;\">  episode_reward_min</th><th style=\"text-align: right;\">  episode_len_mean</th></tr>\n</thead>\n<tbody>\n<tr><td>PPO_StatelessCartPole_72c9b_00000</td><td>RUNNING </td><td>127.0.0.1:8232</td><td style=\"text-align: right;\">     5</td><td style=\"text-align: right;\">         283.947</td><td style=\"text-align: right;\">20000</td><td style=\"text-align: right;\"> 35.6018</td><td style=\"text-align: right;\">                  82</td><td style=\"text-align: right;\">                   9</td><td style=\"text-align: right;\">           35.6018</td></tr>\n</tbody>\n</table><br><br>"
     },
     "metadata": {},
     "output_type": "display_data"
    },
    {
     "data": {
      "text/plain": "<IPython.core.display.HTML object>",
      "text/html": "== Status ==<br>Current time: 2021-11-23 19:57:52 (running for 00:05:49.25)<br>Memory usage on this node: 9.8/11.9 GiB<br>Using FIFO scheduling algorithm.<br>Resources requested: 3.0/3 CPUs, 0/0 GPUs, 0.0/1.4 GiB heap, 0.0/0.7 GiB objects<br>Result logdir: C:\\Users\\Stefan\\ray_results\\PPO<br>Number of trials: 1/1 (1 RUNNING)<br><table>\n<thead>\n<tr><th>Trial name                       </th><th>status  </th><th>loc           </th><th style=\"text-align: right;\">  iter</th><th style=\"text-align: right;\">  total time (s)</th><th style=\"text-align: right;\">   ts</th><th style=\"text-align: right;\">  reward</th><th style=\"text-align: right;\">  episode_reward_max</th><th style=\"text-align: right;\">  episode_reward_min</th><th style=\"text-align: right;\">  episode_len_mean</th></tr>\n</thead>\n<tbody>\n<tr><td>PPO_StatelessCartPole_72c9b_00000</td><td>RUNNING </td><td>127.0.0.1:8232</td><td style=\"text-align: right;\">     5</td><td style=\"text-align: right;\">         283.947</td><td style=\"text-align: right;\">20000</td><td style=\"text-align: right;\"> 35.6018</td><td style=\"text-align: right;\">                  82</td><td style=\"text-align: right;\">                   9</td><td style=\"text-align: right;\">           35.6018</td></tr>\n</tbody>\n</table><br><br>"
     },
     "metadata": {},
     "output_type": "display_data"
    },
    {
     "data": {
      "text/plain": "<IPython.core.display.HTML object>",
      "text/html": "== Status ==<br>Current time: 2021-11-23 19:57:58 (running for 00:05:54.58)<br>Memory usage on this node: 9.8/11.9 GiB<br>Using FIFO scheduling algorithm.<br>Resources requested: 3.0/3 CPUs, 0/0 GPUs, 0.0/1.4 GiB heap, 0.0/0.7 GiB objects<br>Result logdir: C:\\Users\\Stefan\\ray_results\\PPO<br>Number of trials: 1/1 (1 RUNNING)<br><table>\n<thead>\n<tr><th>Trial name                       </th><th>status  </th><th>loc           </th><th style=\"text-align: right;\">  iter</th><th style=\"text-align: right;\">  total time (s)</th><th style=\"text-align: right;\">   ts</th><th style=\"text-align: right;\">  reward</th><th style=\"text-align: right;\">  episode_reward_max</th><th style=\"text-align: right;\">  episode_reward_min</th><th style=\"text-align: right;\">  episode_len_mean</th></tr>\n</thead>\n<tbody>\n<tr><td>PPO_StatelessCartPole_72c9b_00000</td><td>RUNNING </td><td>127.0.0.1:8232</td><td style=\"text-align: right;\">     5</td><td style=\"text-align: right;\">         283.947</td><td style=\"text-align: right;\">20000</td><td style=\"text-align: right;\"> 35.6018</td><td style=\"text-align: right;\">                  82</td><td style=\"text-align: right;\">                   9</td><td style=\"text-align: right;\">           35.6018</td></tr>\n</tbody>\n</table><br><br>"
     },
     "metadata": {},
     "output_type": "display_data"
    },
    {
     "data": {
      "text/plain": "<IPython.core.display.HTML object>",
      "text/html": "== Status ==<br>Current time: 2021-11-23 19:58:03 (running for 00:05:59.74)<br>Memory usage on this node: 9.8/11.9 GiB<br>Using FIFO scheduling algorithm.<br>Resources requested: 3.0/3 CPUs, 0/0 GPUs, 0.0/1.4 GiB heap, 0.0/0.7 GiB objects<br>Result logdir: C:\\Users\\Stefan\\ray_results\\PPO<br>Number of trials: 1/1 (1 RUNNING)<br><table>\n<thead>\n<tr><th>Trial name                       </th><th>status  </th><th>loc           </th><th style=\"text-align: right;\">  iter</th><th style=\"text-align: right;\">  total time (s)</th><th style=\"text-align: right;\">   ts</th><th style=\"text-align: right;\">  reward</th><th style=\"text-align: right;\">  episode_reward_max</th><th style=\"text-align: right;\">  episode_reward_min</th><th style=\"text-align: right;\">  episode_len_mean</th></tr>\n</thead>\n<tbody>\n<tr><td>PPO_StatelessCartPole_72c9b_00000</td><td>RUNNING </td><td>127.0.0.1:8232</td><td style=\"text-align: right;\">     5</td><td style=\"text-align: right;\">         283.947</td><td style=\"text-align: right;\">20000</td><td style=\"text-align: right;\"> 35.6018</td><td style=\"text-align: right;\">                  82</td><td style=\"text-align: right;\">                   9</td><td style=\"text-align: right;\">           35.6018</td></tr>\n</tbody>\n</table><br><br>"
     },
     "metadata": {},
     "output_type": "display_data"
    },
    {
     "data": {
      "text/plain": "<IPython.core.display.HTML object>",
      "text/html": "== Status ==<br>Current time: 2021-11-23 19:58:08 (running for 00:06:04.95)<br>Memory usage on this node: 9.8/11.9 GiB<br>Using FIFO scheduling algorithm.<br>Resources requested: 3.0/3 CPUs, 0/0 GPUs, 0.0/1.4 GiB heap, 0.0/0.7 GiB objects<br>Result logdir: C:\\Users\\Stefan\\ray_results\\PPO<br>Number of trials: 1/1 (1 RUNNING)<br><table>\n<thead>\n<tr><th>Trial name                       </th><th>status  </th><th>loc           </th><th style=\"text-align: right;\">  iter</th><th style=\"text-align: right;\">  total time (s)</th><th style=\"text-align: right;\">   ts</th><th style=\"text-align: right;\">  reward</th><th style=\"text-align: right;\">  episode_reward_max</th><th style=\"text-align: right;\">  episode_reward_min</th><th style=\"text-align: right;\">  episode_len_mean</th></tr>\n</thead>\n<tbody>\n<tr><td>PPO_StatelessCartPole_72c9b_00000</td><td>RUNNING </td><td>127.0.0.1:8232</td><td style=\"text-align: right;\">     5</td><td style=\"text-align: right;\">         283.947</td><td style=\"text-align: right;\">20000</td><td style=\"text-align: right;\"> 35.6018</td><td style=\"text-align: right;\">                  82</td><td style=\"text-align: right;\">                   9</td><td style=\"text-align: right;\">           35.6018</td></tr>\n</tbody>\n</table><br><br>"
     },
     "metadata": {},
     "output_type": "display_data"
    },
    {
     "data": {
      "text/plain": "<IPython.core.display.HTML object>",
      "text/html": "== Status ==<br>Current time: 2021-11-23 19:58:13 (running for 00:06:10.14)<br>Memory usage on this node: 9.8/11.9 GiB<br>Using FIFO scheduling algorithm.<br>Resources requested: 3.0/3 CPUs, 0/0 GPUs, 0.0/1.4 GiB heap, 0.0/0.7 GiB objects<br>Result logdir: C:\\Users\\Stefan\\ray_results\\PPO<br>Number of trials: 1/1 (1 RUNNING)<br><table>\n<thead>\n<tr><th>Trial name                       </th><th>status  </th><th>loc           </th><th style=\"text-align: right;\">  iter</th><th style=\"text-align: right;\">  total time (s)</th><th style=\"text-align: right;\">   ts</th><th style=\"text-align: right;\">  reward</th><th style=\"text-align: right;\">  episode_reward_max</th><th style=\"text-align: right;\">  episode_reward_min</th><th style=\"text-align: right;\">  episode_len_mean</th></tr>\n</thead>\n<tbody>\n<tr><td>PPO_StatelessCartPole_72c9b_00000</td><td>RUNNING </td><td>127.0.0.1:8232</td><td style=\"text-align: right;\">     5</td><td style=\"text-align: right;\">         283.947</td><td style=\"text-align: right;\">20000</td><td style=\"text-align: right;\"> 35.6018</td><td style=\"text-align: right;\">                  82</td><td style=\"text-align: right;\">                   9</td><td style=\"text-align: right;\">           35.6018</td></tr>\n</tbody>\n</table><br><br>"
     },
     "metadata": {},
     "output_type": "display_data"
    },
    {
     "data": {
      "text/plain": "<IPython.core.display.HTML object>",
      "text/html": "== Status ==<br>Current time: 2021-11-23 19:58:19 (running for 00:06:15.36)<br>Memory usage on this node: 9.8/11.9 GiB<br>Using FIFO scheduling algorithm.<br>Resources requested: 3.0/3 CPUs, 0/0 GPUs, 0.0/1.4 GiB heap, 0.0/0.7 GiB objects<br>Result logdir: C:\\Users\\Stefan\\ray_results\\PPO<br>Number of trials: 1/1 (1 RUNNING)<br><table>\n<thead>\n<tr><th>Trial name                       </th><th>status  </th><th>loc           </th><th style=\"text-align: right;\">  iter</th><th style=\"text-align: right;\">  total time (s)</th><th style=\"text-align: right;\">   ts</th><th style=\"text-align: right;\">  reward</th><th style=\"text-align: right;\">  episode_reward_max</th><th style=\"text-align: right;\">  episode_reward_min</th><th style=\"text-align: right;\">  episode_len_mean</th></tr>\n</thead>\n<tbody>\n<tr><td>PPO_StatelessCartPole_72c9b_00000</td><td>RUNNING </td><td>127.0.0.1:8232</td><td style=\"text-align: right;\">     5</td><td style=\"text-align: right;\">         283.947</td><td style=\"text-align: right;\">20000</td><td style=\"text-align: right;\"> 35.6018</td><td style=\"text-align: right;\">                  82</td><td style=\"text-align: right;\">                   9</td><td style=\"text-align: right;\">           35.6018</td></tr>\n</tbody>\n</table><br><br>"
     },
     "metadata": {},
     "output_type": "display_data"
    },
    {
     "name": "stdout",
     "output_type": "stream",
     "text": [
      "Result for PPO_StatelessCartPole_72c9b_00000:\n",
      "  agent_timesteps_total: 24000\n",
      "  custom_metrics: {}\n",
      "  date: 2021-11-23_19-58-19\n",
      "  done: false\n",
      "  episode_len_mean: 33.36974789915966\n",
      "  episode_media: {}\n",
      "  episode_reward_max: 91.0\n",
      "  episode_reward_mean: 33.36974789915966\n",
      "  episode_reward_min: 10.0\n",
      "  episodes_this_iter: 119\n",
      "  episodes_total: 793\n",
      "  experiment_id: 5ab5d39a5646406282869656a0cafe8c\n",
      "  hostname: nb-stschn\n",
      "  info:\n",
      "    learner:\n",
      "      default_policy:\n",
      "        custom_metrics: {}\n",
      "        learner_stats:\n",
      "          cur_kl_coeff: 0.20000000298023224\n",
      "          cur_lr: 4.999999873689376e-05\n",
      "          entropy: 0.600585401058197\n",
      "          entropy_coeff: 0.0\n",
      "          kl: 0.007351159583777189\n",
      "          model: {}\n",
      "          policy_loss: -0.0014522389974445105\n",
      "          total_loss: 115.78807067871094\n",
      "          vf_explained_var: 0.24461466073989868\n",
      "          vf_loss: 115.7880630493164\n",
      "    num_agent_steps_sampled: 24000\n",
      "    num_agent_steps_trained: 24000\n",
      "    num_steps_sampled: 24000\n",
      "    num_steps_trained: 24000\n",
      "    num_steps_trained_this_iter: 0\n",
      "  iterations_since_restore: 6\n",
      "  node_ip: 127.0.0.1\n",
      "  num_healthy_workers: 2\n",
      "  off_policy_estimator: {}\n",
      "  perf:\n",
      "    cpu_util_percent: 95.78941176470589\n",
      "    ram_util_percent: 82.68117647058824\n",
      "  pid: 8232\n",
      "  policy_reward_max: {}\n",
      "  policy_reward_mean: {}\n",
      "  policy_reward_min: {}\n",
      "  sampler_perf:\n",
      "    mean_action_processing_ms: 0.10739539877955466\n",
      "    mean_env_render_ms: 0.0\n",
      "    mean_env_wait_ms: 0.11178649070942596\n",
      "    mean_inference_ms: 2.431164113760216\n",
      "    mean_raw_obs_processing_ms: 0.17391455931268102\n",
      "  time_since_restore: 346.41274666786194\n",
      "  time_this_iter_s: 62.465418100357056\n",
      "  time_total_s: 346.41274666786194\n",
      "  timers:\n",
      "    learn_throughput: 77.004\n",
      "    learn_time_ms: 51945.091\n",
      "    load_throughput: 0.0\n",
      "    load_time_ms: 0.0\n",
      "    sample_throughput: 82.675\n",
      "    sample_time_ms: 48382.506\n",
      "    update_time_ms: 10.345\n",
      "  timestamp: 1637693899\n",
      "  timesteps_since_restore: 0\n",
      "  timesteps_this_iter: 0\n",
      "  timesteps_total: 24000\n",
      "  training_iteration: 6\n",
      "  trial_id: 72c9b_00000\n",
      "  \n"
     ]
    },
    {
     "data": {
      "text/plain": "<IPython.core.display.HTML object>",
      "text/html": "== Status ==<br>Current time: 2021-11-23 19:58:24 (running for 00:06:20.99)<br>Memory usage on this node: 9.8/11.9 GiB<br>Using FIFO scheduling algorithm.<br>Resources requested: 3.0/3 CPUs, 0/0 GPUs, 0.0/1.4 GiB heap, 0.0/0.7 GiB objects<br>Result logdir: C:\\Users\\Stefan\\ray_results\\PPO<br>Number of trials: 1/1 (1 RUNNING)<br><table>\n<thead>\n<tr><th>Trial name                       </th><th>status  </th><th>loc           </th><th style=\"text-align: right;\">  iter</th><th style=\"text-align: right;\">  total time (s)</th><th style=\"text-align: right;\">   ts</th><th style=\"text-align: right;\">  reward</th><th style=\"text-align: right;\">  episode_reward_max</th><th style=\"text-align: right;\">  episode_reward_min</th><th style=\"text-align: right;\">  episode_len_mean</th></tr>\n</thead>\n<tbody>\n<tr><td>PPO_StatelessCartPole_72c9b_00000</td><td>RUNNING </td><td>127.0.0.1:8232</td><td style=\"text-align: right;\">     6</td><td style=\"text-align: right;\">         346.413</td><td style=\"text-align: right;\">24000</td><td style=\"text-align: right;\"> 33.3697</td><td style=\"text-align: right;\">                  91</td><td style=\"text-align: right;\">                  10</td><td style=\"text-align: right;\">           33.3697</td></tr>\n</tbody>\n</table><br><br>"
     },
     "metadata": {},
     "output_type": "display_data"
    },
    {
     "data": {
      "text/plain": "<IPython.core.display.HTML object>",
      "text/html": "== Status ==<br>Current time: 2021-11-23 19:58:29 (running for 00:06:26.19)<br>Memory usage on this node: 9.8/11.9 GiB<br>Using FIFO scheduling algorithm.<br>Resources requested: 3.0/3 CPUs, 0/0 GPUs, 0.0/1.4 GiB heap, 0.0/0.7 GiB objects<br>Result logdir: C:\\Users\\Stefan\\ray_results\\PPO<br>Number of trials: 1/1 (1 RUNNING)<br><table>\n<thead>\n<tr><th>Trial name                       </th><th>status  </th><th>loc           </th><th style=\"text-align: right;\">  iter</th><th style=\"text-align: right;\">  total time (s)</th><th style=\"text-align: right;\">   ts</th><th style=\"text-align: right;\">  reward</th><th style=\"text-align: right;\">  episode_reward_max</th><th style=\"text-align: right;\">  episode_reward_min</th><th style=\"text-align: right;\">  episode_len_mean</th></tr>\n</thead>\n<tbody>\n<tr><td>PPO_StatelessCartPole_72c9b_00000</td><td>RUNNING </td><td>127.0.0.1:8232</td><td style=\"text-align: right;\">     6</td><td style=\"text-align: right;\">         346.413</td><td style=\"text-align: right;\">24000</td><td style=\"text-align: right;\"> 33.3697</td><td style=\"text-align: right;\">                  91</td><td style=\"text-align: right;\">                  10</td><td style=\"text-align: right;\">           33.3697</td></tr>\n</tbody>\n</table><br><br>"
     },
     "metadata": {},
     "output_type": "display_data"
    },
    {
     "data": {
      "text/plain": "<IPython.core.display.HTML object>",
      "text/html": "== Status ==<br>Current time: 2021-11-23 19:58:34 (running for 00:06:31.29)<br>Memory usage on this node: 9.8/11.9 GiB<br>Using FIFO scheduling algorithm.<br>Resources requested: 3.0/3 CPUs, 0/0 GPUs, 0.0/1.4 GiB heap, 0.0/0.7 GiB objects<br>Result logdir: C:\\Users\\Stefan\\ray_results\\PPO<br>Number of trials: 1/1 (1 RUNNING)<br><table>\n<thead>\n<tr><th>Trial name                       </th><th>status  </th><th>loc           </th><th style=\"text-align: right;\">  iter</th><th style=\"text-align: right;\">  total time (s)</th><th style=\"text-align: right;\">   ts</th><th style=\"text-align: right;\">  reward</th><th style=\"text-align: right;\">  episode_reward_max</th><th style=\"text-align: right;\">  episode_reward_min</th><th style=\"text-align: right;\">  episode_len_mean</th></tr>\n</thead>\n<tbody>\n<tr><td>PPO_StatelessCartPole_72c9b_00000</td><td>RUNNING </td><td>127.0.0.1:8232</td><td style=\"text-align: right;\">     6</td><td style=\"text-align: right;\">         346.413</td><td style=\"text-align: right;\">24000</td><td style=\"text-align: right;\"> 33.3697</td><td style=\"text-align: right;\">                  91</td><td style=\"text-align: right;\">                  10</td><td style=\"text-align: right;\">           33.3697</td></tr>\n</tbody>\n</table><br><br>"
     },
     "metadata": {},
     "output_type": "display_data"
    },
    {
     "data": {
      "text/plain": "<IPython.core.display.HTML object>",
      "text/html": "== Status ==<br>Current time: 2021-11-23 19:58:40 (running for 00:06:36.52)<br>Memory usage on this node: 9.8/11.9 GiB<br>Using FIFO scheduling algorithm.<br>Resources requested: 3.0/3 CPUs, 0/0 GPUs, 0.0/1.4 GiB heap, 0.0/0.7 GiB objects<br>Result logdir: C:\\Users\\Stefan\\ray_results\\PPO<br>Number of trials: 1/1 (1 RUNNING)<br><table>\n<thead>\n<tr><th>Trial name                       </th><th>status  </th><th>loc           </th><th style=\"text-align: right;\">  iter</th><th style=\"text-align: right;\">  total time (s)</th><th style=\"text-align: right;\">   ts</th><th style=\"text-align: right;\">  reward</th><th style=\"text-align: right;\">  episode_reward_max</th><th style=\"text-align: right;\">  episode_reward_min</th><th style=\"text-align: right;\">  episode_len_mean</th></tr>\n</thead>\n<tbody>\n<tr><td>PPO_StatelessCartPole_72c9b_00000</td><td>RUNNING </td><td>127.0.0.1:8232</td><td style=\"text-align: right;\">     6</td><td style=\"text-align: right;\">         346.413</td><td style=\"text-align: right;\">24000</td><td style=\"text-align: right;\"> 33.3697</td><td style=\"text-align: right;\">                  91</td><td style=\"text-align: right;\">                  10</td><td style=\"text-align: right;\">           33.3697</td></tr>\n</tbody>\n</table><br><br>"
     },
     "metadata": {},
     "output_type": "display_data"
    },
    {
     "data": {
      "text/plain": "<IPython.core.display.HTML object>",
      "text/html": "== Status ==<br>Current time: 2021-11-23 19:58:45 (running for 00:06:41.64)<br>Memory usage on this node: 9.8/11.9 GiB<br>Using FIFO scheduling algorithm.<br>Resources requested: 3.0/3 CPUs, 0/0 GPUs, 0.0/1.4 GiB heap, 0.0/0.7 GiB objects<br>Result logdir: C:\\Users\\Stefan\\ray_results\\PPO<br>Number of trials: 1/1 (1 RUNNING)<br><table>\n<thead>\n<tr><th>Trial name                       </th><th>status  </th><th>loc           </th><th style=\"text-align: right;\">  iter</th><th style=\"text-align: right;\">  total time (s)</th><th style=\"text-align: right;\">   ts</th><th style=\"text-align: right;\">  reward</th><th style=\"text-align: right;\">  episode_reward_max</th><th style=\"text-align: right;\">  episode_reward_min</th><th style=\"text-align: right;\">  episode_len_mean</th></tr>\n</thead>\n<tbody>\n<tr><td>PPO_StatelessCartPole_72c9b_00000</td><td>RUNNING </td><td>127.0.0.1:8232</td><td style=\"text-align: right;\">     6</td><td style=\"text-align: right;\">         346.413</td><td style=\"text-align: right;\">24000</td><td style=\"text-align: right;\"> 33.3697</td><td style=\"text-align: right;\">                  91</td><td style=\"text-align: right;\">                  10</td><td style=\"text-align: right;\">           33.3697</td></tr>\n</tbody>\n</table><br><br>"
     },
     "metadata": {},
     "output_type": "display_data"
    },
    {
     "data": {
      "text/plain": "<IPython.core.display.HTML object>",
      "text/html": "== Status ==<br>Current time: 2021-11-23 19:58:50 (running for 00:06:46.82)<br>Memory usage on this node: 9.9/11.9 GiB<br>Using FIFO scheduling algorithm.<br>Resources requested: 3.0/3 CPUs, 0/0 GPUs, 0.0/1.4 GiB heap, 0.0/0.7 GiB objects<br>Result logdir: C:\\Users\\Stefan\\ray_results\\PPO<br>Number of trials: 1/1 (1 RUNNING)<br><table>\n<thead>\n<tr><th>Trial name                       </th><th>status  </th><th>loc           </th><th style=\"text-align: right;\">  iter</th><th style=\"text-align: right;\">  total time (s)</th><th style=\"text-align: right;\">   ts</th><th style=\"text-align: right;\">  reward</th><th style=\"text-align: right;\">  episode_reward_max</th><th style=\"text-align: right;\">  episode_reward_min</th><th style=\"text-align: right;\">  episode_len_mean</th></tr>\n</thead>\n<tbody>\n<tr><td>PPO_StatelessCartPole_72c9b_00000</td><td>RUNNING </td><td>127.0.0.1:8232</td><td style=\"text-align: right;\">     6</td><td style=\"text-align: right;\">         346.413</td><td style=\"text-align: right;\">24000</td><td style=\"text-align: right;\"> 33.3697</td><td style=\"text-align: right;\">                  91</td><td style=\"text-align: right;\">                  10</td><td style=\"text-align: right;\">           33.3697</td></tr>\n</tbody>\n</table><br><br>"
     },
     "metadata": {},
     "output_type": "display_data"
    },
    {
     "data": {
      "text/plain": "<IPython.core.display.HTML object>",
      "text/html": "== Status ==<br>Current time: 2021-11-23 19:58:55 (running for 00:06:52.00)<br>Memory usage on this node: 9.8/11.9 GiB<br>Using FIFO scheduling algorithm.<br>Resources requested: 3.0/3 CPUs, 0/0 GPUs, 0.0/1.4 GiB heap, 0.0/0.7 GiB objects<br>Result logdir: C:\\Users\\Stefan\\ray_results\\PPO<br>Number of trials: 1/1 (1 RUNNING)<br><table>\n<thead>\n<tr><th>Trial name                       </th><th>status  </th><th>loc           </th><th style=\"text-align: right;\">  iter</th><th style=\"text-align: right;\">  total time (s)</th><th style=\"text-align: right;\">   ts</th><th style=\"text-align: right;\">  reward</th><th style=\"text-align: right;\">  episode_reward_max</th><th style=\"text-align: right;\">  episode_reward_min</th><th style=\"text-align: right;\">  episode_len_mean</th></tr>\n</thead>\n<tbody>\n<tr><td>PPO_StatelessCartPole_72c9b_00000</td><td>RUNNING </td><td>127.0.0.1:8232</td><td style=\"text-align: right;\">     6</td><td style=\"text-align: right;\">         346.413</td><td style=\"text-align: right;\">24000</td><td style=\"text-align: right;\"> 33.3697</td><td style=\"text-align: right;\">                  91</td><td style=\"text-align: right;\">                  10</td><td style=\"text-align: right;\">           33.3697</td></tr>\n</tbody>\n</table><br><br>"
     },
     "metadata": {},
     "output_type": "display_data"
    },
    {
     "data": {
      "text/plain": "<IPython.core.display.HTML object>",
      "text/html": "== Status ==<br>Current time: 2021-11-23 19:59:01 (running for 00:06:57.67)<br>Memory usage on this node: 9.9/11.9 GiB<br>Using FIFO scheduling algorithm.<br>Resources requested: 3.0/3 CPUs, 0/0 GPUs, 0.0/1.4 GiB heap, 0.0/0.7 GiB objects<br>Result logdir: C:\\Users\\Stefan\\ray_results\\PPO<br>Number of trials: 1/1 (1 RUNNING)<br><table>\n<thead>\n<tr><th>Trial name                       </th><th>status  </th><th>loc           </th><th style=\"text-align: right;\">  iter</th><th style=\"text-align: right;\">  total time (s)</th><th style=\"text-align: right;\">   ts</th><th style=\"text-align: right;\">  reward</th><th style=\"text-align: right;\">  episode_reward_max</th><th style=\"text-align: right;\">  episode_reward_min</th><th style=\"text-align: right;\">  episode_len_mean</th></tr>\n</thead>\n<tbody>\n<tr><td>PPO_StatelessCartPole_72c9b_00000</td><td>RUNNING </td><td>127.0.0.1:8232</td><td style=\"text-align: right;\">     6</td><td style=\"text-align: right;\">         346.413</td><td style=\"text-align: right;\">24000</td><td style=\"text-align: right;\"> 33.3697</td><td style=\"text-align: right;\">                  91</td><td style=\"text-align: right;\">                  10</td><td style=\"text-align: right;\">           33.3697</td></tr>\n</tbody>\n</table><br><br>"
     },
     "metadata": {},
     "output_type": "display_data"
    },
    {
     "data": {
      "text/plain": "<IPython.core.display.HTML object>",
      "text/html": "== Status ==<br>Current time: 2021-11-23 19:59:06 (running for 00:07:02.81)<br>Memory usage on this node: 9.9/11.9 GiB<br>Using FIFO scheduling algorithm.<br>Resources requested: 3.0/3 CPUs, 0/0 GPUs, 0.0/1.4 GiB heap, 0.0/0.7 GiB objects<br>Result logdir: C:\\Users\\Stefan\\ray_results\\PPO<br>Number of trials: 1/1 (1 RUNNING)<br><table>\n<thead>\n<tr><th>Trial name                       </th><th>status  </th><th>loc           </th><th style=\"text-align: right;\">  iter</th><th style=\"text-align: right;\">  total time (s)</th><th style=\"text-align: right;\">   ts</th><th style=\"text-align: right;\">  reward</th><th style=\"text-align: right;\">  episode_reward_max</th><th style=\"text-align: right;\">  episode_reward_min</th><th style=\"text-align: right;\">  episode_len_mean</th></tr>\n</thead>\n<tbody>\n<tr><td>PPO_StatelessCartPole_72c9b_00000</td><td>RUNNING </td><td>127.0.0.1:8232</td><td style=\"text-align: right;\">     6</td><td style=\"text-align: right;\">         346.413</td><td style=\"text-align: right;\">24000</td><td style=\"text-align: right;\"> 33.3697</td><td style=\"text-align: right;\">                  91</td><td style=\"text-align: right;\">                  10</td><td style=\"text-align: right;\">           33.3697</td></tr>\n</tbody>\n</table><br><br>"
     },
     "metadata": {},
     "output_type": "display_data"
    },
    {
     "data": {
      "text/plain": "<IPython.core.display.HTML object>",
      "text/html": "== Status ==<br>Current time: 2021-11-23 19:59:11 (running for 00:07:08.08)<br>Memory usage on this node: 10.0/11.9 GiB<br>Using FIFO scheduling algorithm.<br>Resources requested: 3.0/3 CPUs, 0/0 GPUs, 0.0/1.4 GiB heap, 0.0/0.7 GiB objects<br>Result logdir: C:\\Users\\Stefan\\ray_results\\PPO<br>Number of trials: 1/1 (1 RUNNING)<br><table>\n<thead>\n<tr><th>Trial name                       </th><th>status  </th><th>loc           </th><th style=\"text-align: right;\">  iter</th><th style=\"text-align: right;\">  total time (s)</th><th style=\"text-align: right;\">   ts</th><th style=\"text-align: right;\">  reward</th><th style=\"text-align: right;\">  episode_reward_max</th><th style=\"text-align: right;\">  episode_reward_min</th><th style=\"text-align: right;\">  episode_len_mean</th></tr>\n</thead>\n<tbody>\n<tr><td>PPO_StatelessCartPole_72c9b_00000</td><td>RUNNING </td><td>127.0.0.1:8232</td><td style=\"text-align: right;\">     6</td><td style=\"text-align: right;\">         346.413</td><td style=\"text-align: right;\">24000</td><td style=\"text-align: right;\"> 33.3697</td><td style=\"text-align: right;\">                  91</td><td style=\"text-align: right;\">                  10</td><td style=\"text-align: right;\">           33.3697</td></tr>\n</tbody>\n</table><br><br>"
     },
     "metadata": {},
     "output_type": "display_data"
    },
    {
     "data": {
      "text/plain": "<IPython.core.display.HTML object>",
      "text/html": "== Status ==<br>Current time: 2021-11-23 19:59:16 (running for 00:07:13.23)<br>Memory usage on this node: 10.0/11.9 GiB<br>Using FIFO scheduling algorithm.<br>Resources requested: 3.0/3 CPUs, 0/0 GPUs, 0.0/1.4 GiB heap, 0.0/0.7 GiB objects<br>Result logdir: C:\\Users\\Stefan\\ray_results\\PPO<br>Number of trials: 1/1 (1 RUNNING)<br><table>\n<thead>\n<tr><th>Trial name                       </th><th>status  </th><th>loc           </th><th style=\"text-align: right;\">  iter</th><th style=\"text-align: right;\">  total time (s)</th><th style=\"text-align: right;\">   ts</th><th style=\"text-align: right;\">  reward</th><th style=\"text-align: right;\">  episode_reward_max</th><th style=\"text-align: right;\">  episode_reward_min</th><th style=\"text-align: right;\">  episode_len_mean</th></tr>\n</thead>\n<tbody>\n<tr><td>PPO_StatelessCartPole_72c9b_00000</td><td>RUNNING </td><td>127.0.0.1:8232</td><td style=\"text-align: right;\">     6</td><td style=\"text-align: right;\">         346.413</td><td style=\"text-align: right;\">24000</td><td style=\"text-align: right;\"> 33.3697</td><td style=\"text-align: right;\">                  91</td><td style=\"text-align: right;\">                  10</td><td style=\"text-align: right;\">           33.3697</td></tr>\n</tbody>\n</table><br><br>"
     },
     "metadata": {},
     "output_type": "display_data"
    },
    {
     "data": {
      "text/plain": "<IPython.core.display.HTML object>",
      "text/html": "== Status ==<br>Current time: 2021-11-23 19:59:22 (running for 00:07:18.52)<br>Memory usage on this node: 10.0/11.9 GiB<br>Using FIFO scheduling algorithm.<br>Resources requested: 3.0/3 CPUs, 0/0 GPUs, 0.0/1.4 GiB heap, 0.0/0.7 GiB objects<br>Result logdir: C:\\Users\\Stefan\\ray_results\\PPO<br>Number of trials: 1/1 (1 RUNNING)<br><table>\n<thead>\n<tr><th>Trial name                       </th><th>status  </th><th>loc           </th><th style=\"text-align: right;\">  iter</th><th style=\"text-align: right;\">  total time (s)</th><th style=\"text-align: right;\">   ts</th><th style=\"text-align: right;\">  reward</th><th style=\"text-align: right;\">  episode_reward_max</th><th style=\"text-align: right;\">  episode_reward_min</th><th style=\"text-align: right;\">  episode_len_mean</th></tr>\n</thead>\n<tbody>\n<tr><td>PPO_StatelessCartPole_72c9b_00000</td><td>RUNNING </td><td>127.0.0.1:8232</td><td style=\"text-align: right;\">     6</td><td style=\"text-align: right;\">         346.413</td><td style=\"text-align: right;\">24000</td><td style=\"text-align: right;\"> 33.3697</td><td style=\"text-align: right;\">                  91</td><td style=\"text-align: right;\">                  10</td><td style=\"text-align: right;\">           33.3697</td></tr>\n</tbody>\n</table><br><br>"
     },
     "metadata": {},
     "output_type": "display_data"
    },
    {
     "data": {
      "text/plain": "<IPython.core.display.HTML object>",
      "text/html": "== Status ==<br>Current time: 2021-11-23 19:59:27 (running for 00:07:23.65)<br>Memory usage on this node: 9.9/11.9 GiB<br>Using FIFO scheduling algorithm.<br>Resources requested: 3.0/3 CPUs, 0/0 GPUs, 0.0/1.4 GiB heap, 0.0/0.7 GiB objects<br>Result logdir: C:\\Users\\Stefan\\ray_results\\PPO<br>Number of trials: 1/1 (1 RUNNING)<br><table>\n<thead>\n<tr><th>Trial name                       </th><th>status  </th><th>loc           </th><th style=\"text-align: right;\">  iter</th><th style=\"text-align: right;\">  total time (s)</th><th style=\"text-align: right;\">   ts</th><th style=\"text-align: right;\">  reward</th><th style=\"text-align: right;\">  episode_reward_max</th><th style=\"text-align: right;\">  episode_reward_min</th><th style=\"text-align: right;\">  episode_len_mean</th></tr>\n</thead>\n<tbody>\n<tr><td>PPO_StatelessCartPole_72c9b_00000</td><td>RUNNING </td><td>127.0.0.1:8232</td><td style=\"text-align: right;\">     6</td><td style=\"text-align: right;\">         346.413</td><td style=\"text-align: right;\">24000</td><td style=\"text-align: right;\"> 33.3697</td><td style=\"text-align: right;\">                  91</td><td style=\"text-align: right;\">                  10</td><td style=\"text-align: right;\">           33.3697</td></tr>\n</tbody>\n</table><br><br>"
     },
     "metadata": {},
     "output_type": "display_data"
    },
    {
     "name": "stdout",
     "output_type": "stream",
     "text": [
      "Result for PPO_StatelessCartPole_72c9b_00000:\n",
      "  agent_timesteps_total: 28000\n",
      "  custom_metrics: {}\n",
      "  date: 2021-11-23_19-59-29\n",
      "  done: false\n",
      "  episode_len_mean: 34.61739130434783\n",
      "  episode_media: {}\n",
      "  episode_reward_max: 87.0\n",
      "  episode_reward_mean: 34.61739130434783\n",
      "  episode_reward_min: 9.0\n",
      "  episodes_this_iter: 115\n",
      "  episodes_total: 908\n",
      "  experiment_id: 5ab5d39a5646406282869656a0cafe8c\n",
      "  hostname: nb-stschn\n",
      "  info:\n",
      "    learner:\n",
      "      default_policy:\n",
      "        custom_metrics: {}\n",
      "        learner_stats:\n",
      "          cur_kl_coeff: 0.20000000298023224\n",
      "          cur_lr: 4.999999873689376e-05\n",
      "          entropy: 0.5933268666267395\n",
      "          entropy_coeff: 0.0\n",
      "          kl: 0.009403372183442116\n",
      "          model: {}\n",
      "          policy_loss: 0.0012451679212972522\n",
      "          total_loss: 112.21086883544922\n",
      "          vf_explained_var: 0.2490883767604828\n",
      "          vf_loss: 112.20774841308594\n",
      "    num_agent_steps_sampled: 28000\n",
      "    num_agent_steps_trained: 28000\n",
      "    num_steps_sampled: 28000\n",
      "    num_steps_trained: 28000\n",
      "    num_steps_trained_this_iter: 0\n",
      "  iterations_since_restore: 7\n",
      "  node_ip: 127.0.0.1\n",
      "  num_healthy_workers: 2\n",
      "  off_policy_estimator: {}\n",
      "  perf:\n",
      "    cpu_util_percent: 97.30957446808512\n",
      "    ram_util_percent: 83.02127659574468\n",
      "  pid: 8232\n",
      "  policy_reward_max: {}\n",
      "  policy_reward_mean: {}\n",
      "  policy_reward_min: {}\n",
      "  sampler_perf:\n",
      "    mean_action_processing_ms: 0.11247899611146105\n",
      "    mean_env_render_ms: 0.0\n",
      "    mean_env_wait_ms: 0.11357298158632893\n",
      "    mean_inference_ms: 2.5322655557063523\n",
      "    mean_raw_obs_processing_ms: 0.18087817339048493\n",
      "  time_since_restore: 416.19013118743896\n",
      "  time_this_iter_s: 69.77738451957703\n",
      "  time_total_s: 416.19013118743896\n",
      "  timers:\n",
      "    learn_throughput: 74.859\n",
      "    learn_time_ms: 53433.883\n",
      "    load_throughput: 0.0\n",
      "    load_time_ms: 0.0\n",
      "    sample_throughput: 79.078\n",
      "    sample_time_ms: 50583.123\n",
      "    update_time_ms: 8.867\n",
      "  timestamp: 1637693969\n",
      "  timesteps_since_restore: 0\n",
      "  timesteps_this_iter: 0\n",
      "  timesteps_total: 28000\n",
      "  training_iteration: 7\n",
      "  trial_id: 72c9b_00000\n",
      "  \n"
     ]
    },
    {
     "data": {
      "text/plain": "<IPython.core.display.HTML object>",
      "text/html": "== Status ==<br>Current time: 2021-11-23 19:59:32 (running for 00:07:28.77)<br>Memory usage on this node: 9.9/11.9 GiB<br>Using FIFO scheduling algorithm.<br>Resources requested: 3.0/3 CPUs, 0/0 GPUs, 0.0/1.4 GiB heap, 0.0/0.7 GiB objects<br>Result logdir: C:\\Users\\Stefan\\ray_results\\PPO<br>Number of trials: 1/1 (1 RUNNING)<br><table>\n<thead>\n<tr><th>Trial name                       </th><th>status  </th><th>loc           </th><th style=\"text-align: right;\">  iter</th><th style=\"text-align: right;\">  total time (s)</th><th style=\"text-align: right;\">   ts</th><th style=\"text-align: right;\">  reward</th><th style=\"text-align: right;\">  episode_reward_max</th><th style=\"text-align: right;\">  episode_reward_min</th><th style=\"text-align: right;\">  episode_len_mean</th></tr>\n</thead>\n<tbody>\n<tr><td>PPO_StatelessCartPole_72c9b_00000</td><td>RUNNING </td><td>127.0.0.1:8232</td><td style=\"text-align: right;\">     7</td><td style=\"text-align: right;\">          416.19</td><td style=\"text-align: right;\">28000</td><td style=\"text-align: right;\"> 34.6174</td><td style=\"text-align: right;\">                  87</td><td style=\"text-align: right;\">                   9</td><td style=\"text-align: right;\">           34.6174</td></tr>\n</tbody>\n</table><br><br>"
     },
     "metadata": {},
     "output_type": "display_data"
    },
    {
     "data": {
      "text/plain": "<IPython.core.display.HTML object>",
      "text/html": "== Status ==<br>Current time: 2021-11-23 19:59:37 (running for 00:07:33.87)<br>Memory usage on this node: 9.9/11.9 GiB<br>Using FIFO scheduling algorithm.<br>Resources requested: 3.0/3 CPUs, 0/0 GPUs, 0.0/1.4 GiB heap, 0.0/0.7 GiB objects<br>Result logdir: C:\\Users\\Stefan\\ray_results\\PPO<br>Number of trials: 1/1 (1 RUNNING)<br><table>\n<thead>\n<tr><th>Trial name                       </th><th>status  </th><th>loc           </th><th style=\"text-align: right;\">  iter</th><th style=\"text-align: right;\">  total time (s)</th><th style=\"text-align: right;\">   ts</th><th style=\"text-align: right;\">  reward</th><th style=\"text-align: right;\">  episode_reward_max</th><th style=\"text-align: right;\">  episode_reward_min</th><th style=\"text-align: right;\">  episode_len_mean</th></tr>\n</thead>\n<tbody>\n<tr><td>PPO_StatelessCartPole_72c9b_00000</td><td>RUNNING </td><td>127.0.0.1:8232</td><td style=\"text-align: right;\">     7</td><td style=\"text-align: right;\">          416.19</td><td style=\"text-align: right;\">28000</td><td style=\"text-align: right;\"> 34.6174</td><td style=\"text-align: right;\">                  87</td><td style=\"text-align: right;\">                   9</td><td style=\"text-align: right;\">           34.6174</td></tr>\n</tbody>\n</table><br><br>"
     },
     "metadata": {},
     "output_type": "display_data"
    },
    {
     "data": {
      "text/plain": "<IPython.core.display.HTML object>",
      "text/html": "== Status ==<br>Current time: 2021-11-23 19:59:42 (running for 00:07:39.06)<br>Memory usage on this node: 10.0/11.9 GiB<br>Using FIFO scheduling algorithm.<br>Resources requested: 3.0/3 CPUs, 0/0 GPUs, 0.0/1.4 GiB heap, 0.0/0.7 GiB objects<br>Result logdir: C:\\Users\\Stefan\\ray_results\\PPO<br>Number of trials: 1/1 (1 RUNNING)<br><table>\n<thead>\n<tr><th>Trial name                       </th><th>status  </th><th>loc           </th><th style=\"text-align: right;\">  iter</th><th style=\"text-align: right;\">  total time (s)</th><th style=\"text-align: right;\">   ts</th><th style=\"text-align: right;\">  reward</th><th style=\"text-align: right;\">  episode_reward_max</th><th style=\"text-align: right;\">  episode_reward_min</th><th style=\"text-align: right;\">  episode_len_mean</th></tr>\n</thead>\n<tbody>\n<tr><td>PPO_StatelessCartPole_72c9b_00000</td><td>RUNNING </td><td>127.0.0.1:8232</td><td style=\"text-align: right;\">     7</td><td style=\"text-align: right;\">          416.19</td><td style=\"text-align: right;\">28000</td><td style=\"text-align: right;\"> 34.6174</td><td style=\"text-align: right;\">                  87</td><td style=\"text-align: right;\">                   9</td><td style=\"text-align: right;\">           34.6174</td></tr>\n</tbody>\n</table><br><br>"
     },
     "metadata": {},
     "output_type": "display_data"
    },
    {
     "data": {
      "text/plain": "<IPython.core.display.HTML object>",
      "text/html": "== Status ==<br>Current time: 2021-11-23 19:59:47 (running for 00:07:44.23)<br>Memory usage on this node: 10.1/11.9 GiB<br>Using FIFO scheduling algorithm.<br>Resources requested: 3.0/3 CPUs, 0/0 GPUs, 0.0/1.4 GiB heap, 0.0/0.7 GiB objects<br>Result logdir: C:\\Users\\Stefan\\ray_results\\PPO<br>Number of trials: 1/1 (1 RUNNING)<br><table>\n<thead>\n<tr><th>Trial name                       </th><th>status  </th><th>loc           </th><th style=\"text-align: right;\">  iter</th><th style=\"text-align: right;\">  total time (s)</th><th style=\"text-align: right;\">   ts</th><th style=\"text-align: right;\">  reward</th><th style=\"text-align: right;\">  episode_reward_max</th><th style=\"text-align: right;\">  episode_reward_min</th><th style=\"text-align: right;\">  episode_len_mean</th></tr>\n</thead>\n<tbody>\n<tr><td>PPO_StatelessCartPole_72c9b_00000</td><td>RUNNING </td><td>127.0.0.1:8232</td><td style=\"text-align: right;\">     7</td><td style=\"text-align: right;\">          416.19</td><td style=\"text-align: right;\">28000</td><td style=\"text-align: right;\"> 34.6174</td><td style=\"text-align: right;\">                  87</td><td style=\"text-align: right;\">                   9</td><td style=\"text-align: right;\">           34.6174</td></tr>\n</tbody>\n</table><br><br>"
     },
     "metadata": {},
     "output_type": "display_data"
    },
    {
     "data": {
      "text/plain": "<IPython.core.display.HTML object>",
      "text/html": "== Status ==<br>Current time: 2021-11-23 19:59:53 (running for 00:07:49.55)<br>Memory usage on this node: 10.1/11.9 GiB<br>Using FIFO scheduling algorithm.<br>Resources requested: 3.0/3 CPUs, 0/0 GPUs, 0.0/1.4 GiB heap, 0.0/0.7 GiB objects<br>Result logdir: C:\\Users\\Stefan\\ray_results\\PPO<br>Number of trials: 1/1 (1 RUNNING)<br><table>\n<thead>\n<tr><th>Trial name                       </th><th>status  </th><th>loc           </th><th style=\"text-align: right;\">  iter</th><th style=\"text-align: right;\">  total time (s)</th><th style=\"text-align: right;\">   ts</th><th style=\"text-align: right;\">  reward</th><th style=\"text-align: right;\">  episode_reward_max</th><th style=\"text-align: right;\">  episode_reward_min</th><th style=\"text-align: right;\">  episode_len_mean</th></tr>\n</thead>\n<tbody>\n<tr><td>PPO_StatelessCartPole_72c9b_00000</td><td>RUNNING </td><td>127.0.0.1:8232</td><td style=\"text-align: right;\">     7</td><td style=\"text-align: right;\">          416.19</td><td style=\"text-align: right;\">28000</td><td style=\"text-align: right;\"> 34.6174</td><td style=\"text-align: right;\">                  87</td><td style=\"text-align: right;\">                   9</td><td style=\"text-align: right;\">           34.6174</td></tr>\n</tbody>\n</table><br><br>"
     },
     "metadata": {},
     "output_type": "display_data"
    },
    {
     "data": {
      "text/plain": "<IPython.core.display.HTML object>",
      "text/html": "== Status ==<br>Current time: 2021-11-23 19:59:58 (running for 00:07:54.67)<br>Memory usage on this node: 10.1/11.9 GiB<br>Using FIFO scheduling algorithm.<br>Resources requested: 3.0/3 CPUs, 0/0 GPUs, 0.0/1.4 GiB heap, 0.0/0.7 GiB objects<br>Result logdir: C:\\Users\\Stefan\\ray_results\\PPO<br>Number of trials: 1/1 (1 RUNNING)<br><table>\n<thead>\n<tr><th>Trial name                       </th><th>status  </th><th>loc           </th><th style=\"text-align: right;\">  iter</th><th style=\"text-align: right;\">  total time (s)</th><th style=\"text-align: right;\">   ts</th><th style=\"text-align: right;\">  reward</th><th style=\"text-align: right;\">  episode_reward_max</th><th style=\"text-align: right;\">  episode_reward_min</th><th style=\"text-align: right;\">  episode_len_mean</th></tr>\n</thead>\n<tbody>\n<tr><td>PPO_StatelessCartPole_72c9b_00000</td><td>RUNNING </td><td>127.0.0.1:8232</td><td style=\"text-align: right;\">     7</td><td style=\"text-align: right;\">          416.19</td><td style=\"text-align: right;\">28000</td><td style=\"text-align: right;\"> 34.6174</td><td style=\"text-align: right;\">                  87</td><td style=\"text-align: right;\">                   9</td><td style=\"text-align: right;\">           34.6174</td></tr>\n</tbody>\n</table><br><br>"
     },
     "metadata": {},
     "output_type": "display_data"
    },
    {
     "data": {
      "text/plain": "<IPython.core.display.HTML object>",
      "text/html": "== Status ==<br>Current time: 2021-11-23 20:00:03 (running for 00:07:59.82)<br>Memory usage on this node: 10.1/11.9 GiB<br>Using FIFO scheduling algorithm.<br>Resources requested: 3.0/3 CPUs, 0/0 GPUs, 0.0/1.4 GiB heap, 0.0/0.7 GiB objects<br>Result logdir: C:\\Users\\Stefan\\ray_results\\PPO<br>Number of trials: 1/1 (1 RUNNING)<br><table>\n<thead>\n<tr><th>Trial name                       </th><th>status  </th><th>loc           </th><th style=\"text-align: right;\">  iter</th><th style=\"text-align: right;\">  total time (s)</th><th style=\"text-align: right;\">   ts</th><th style=\"text-align: right;\">  reward</th><th style=\"text-align: right;\">  episode_reward_max</th><th style=\"text-align: right;\">  episode_reward_min</th><th style=\"text-align: right;\">  episode_len_mean</th></tr>\n</thead>\n<tbody>\n<tr><td>PPO_StatelessCartPole_72c9b_00000</td><td>RUNNING </td><td>127.0.0.1:8232</td><td style=\"text-align: right;\">     7</td><td style=\"text-align: right;\">          416.19</td><td style=\"text-align: right;\">28000</td><td style=\"text-align: right;\"> 34.6174</td><td style=\"text-align: right;\">                  87</td><td style=\"text-align: right;\">                   9</td><td style=\"text-align: right;\">           34.6174</td></tr>\n</tbody>\n</table><br><br>"
     },
     "metadata": {},
     "output_type": "display_data"
    },
    {
     "data": {
      "text/plain": "<IPython.core.display.HTML object>",
      "text/html": "== Status ==<br>Current time: 2021-11-23 20:00:08 (running for 00:08:04.98)<br>Memory usage on this node: 10.1/11.9 GiB<br>Using FIFO scheduling algorithm.<br>Resources requested: 3.0/3 CPUs, 0/0 GPUs, 0.0/1.4 GiB heap, 0.0/0.7 GiB objects<br>Result logdir: C:\\Users\\Stefan\\ray_results\\PPO<br>Number of trials: 1/1 (1 RUNNING)<br><table>\n<thead>\n<tr><th>Trial name                       </th><th>status  </th><th>loc           </th><th style=\"text-align: right;\">  iter</th><th style=\"text-align: right;\">  total time (s)</th><th style=\"text-align: right;\">   ts</th><th style=\"text-align: right;\">  reward</th><th style=\"text-align: right;\">  episode_reward_max</th><th style=\"text-align: right;\">  episode_reward_min</th><th style=\"text-align: right;\">  episode_len_mean</th></tr>\n</thead>\n<tbody>\n<tr><td>PPO_StatelessCartPole_72c9b_00000</td><td>RUNNING </td><td>127.0.0.1:8232</td><td style=\"text-align: right;\">     7</td><td style=\"text-align: right;\">          416.19</td><td style=\"text-align: right;\">28000</td><td style=\"text-align: right;\"> 34.6174</td><td style=\"text-align: right;\">                  87</td><td style=\"text-align: right;\">                   9</td><td style=\"text-align: right;\">           34.6174</td></tr>\n</tbody>\n</table><br><br>"
     },
     "metadata": {},
     "output_type": "display_data"
    },
    {
     "data": {
      "text/plain": "<IPython.core.display.HTML object>",
      "text/html": "== Status ==<br>Current time: 2021-11-23 20:00:13 (running for 00:08:10.17)<br>Memory usage on this node: 10.1/11.9 GiB<br>Using FIFO scheduling algorithm.<br>Resources requested: 3.0/3 CPUs, 0/0 GPUs, 0.0/1.4 GiB heap, 0.0/0.7 GiB objects<br>Result logdir: C:\\Users\\Stefan\\ray_results\\PPO<br>Number of trials: 1/1 (1 RUNNING)<br><table>\n<thead>\n<tr><th>Trial name                       </th><th>status  </th><th>loc           </th><th style=\"text-align: right;\">  iter</th><th style=\"text-align: right;\">  total time (s)</th><th style=\"text-align: right;\">   ts</th><th style=\"text-align: right;\">  reward</th><th style=\"text-align: right;\">  episode_reward_max</th><th style=\"text-align: right;\">  episode_reward_min</th><th style=\"text-align: right;\">  episode_len_mean</th></tr>\n</thead>\n<tbody>\n<tr><td>PPO_StatelessCartPole_72c9b_00000</td><td>RUNNING </td><td>127.0.0.1:8232</td><td style=\"text-align: right;\">     7</td><td style=\"text-align: right;\">          416.19</td><td style=\"text-align: right;\">28000</td><td style=\"text-align: right;\"> 34.6174</td><td style=\"text-align: right;\">                  87</td><td style=\"text-align: right;\">                   9</td><td style=\"text-align: right;\">           34.6174</td></tr>\n</tbody>\n</table><br><br>"
     },
     "metadata": {},
     "output_type": "display_data"
    },
    {
     "data": {
      "text/plain": "<IPython.core.display.HTML object>",
      "text/html": "== Status ==<br>Current time: 2021-11-23 20:00:19 (running for 00:08:15.38)<br>Memory usage on this node: 10.2/11.9 GiB<br>Using FIFO scheduling algorithm.<br>Resources requested: 3.0/3 CPUs, 0/0 GPUs, 0.0/1.4 GiB heap, 0.0/0.7 GiB objects<br>Result logdir: C:\\Users\\Stefan\\ray_results\\PPO<br>Number of trials: 1/1 (1 RUNNING)<br><table>\n<thead>\n<tr><th>Trial name                       </th><th>status  </th><th>loc           </th><th style=\"text-align: right;\">  iter</th><th style=\"text-align: right;\">  total time (s)</th><th style=\"text-align: right;\">   ts</th><th style=\"text-align: right;\">  reward</th><th style=\"text-align: right;\">  episode_reward_max</th><th style=\"text-align: right;\">  episode_reward_min</th><th style=\"text-align: right;\">  episode_len_mean</th></tr>\n</thead>\n<tbody>\n<tr><td>PPO_StatelessCartPole_72c9b_00000</td><td>RUNNING </td><td>127.0.0.1:8232</td><td style=\"text-align: right;\">     7</td><td style=\"text-align: right;\">          416.19</td><td style=\"text-align: right;\">28000</td><td style=\"text-align: right;\"> 34.6174</td><td style=\"text-align: right;\">                  87</td><td style=\"text-align: right;\">                   9</td><td style=\"text-align: right;\">           34.6174</td></tr>\n</tbody>\n</table><br><br>"
     },
     "metadata": {},
     "output_type": "display_data"
    },
    {
     "data": {
      "text/plain": "<IPython.core.display.HTML object>",
      "text/html": "== Status ==<br>Current time: 2021-11-23 20:00:24 (running for 00:08:20.70)<br>Memory usage on this node: 10.2/11.9 GiB<br>Using FIFO scheduling algorithm.<br>Resources requested: 3.0/3 CPUs, 0/0 GPUs, 0.0/1.4 GiB heap, 0.0/0.7 GiB objects<br>Result logdir: C:\\Users\\Stefan\\ray_results\\PPO<br>Number of trials: 1/1 (1 RUNNING)<br><table>\n<thead>\n<tr><th>Trial name                       </th><th>status  </th><th>loc           </th><th style=\"text-align: right;\">  iter</th><th style=\"text-align: right;\">  total time (s)</th><th style=\"text-align: right;\">   ts</th><th style=\"text-align: right;\">  reward</th><th style=\"text-align: right;\">  episode_reward_max</th><th style=\"text-align: right;\">  episode_reward_min</th><th style=\"text-align: right;\">  episode_len_mean</th></tr>\n</thead>\n<tbody>\n<tr><td>PPO_StatelessCartPole_72c9b_00000</td><td>RUNNING </td><td>127.0.0.1:8232</td><td style=\"text-align: right;\">     7</td><td style=\"text-align: right;\">          416.19</td><td style=\"text-align: right;\">28000</td><td style=\"text-align: right;\"> 34.6174</td><td style=\"text-align: right;\">                  87</td><td style=\"text-align: right;\">                   9</td><td style=\"text-align: right;\">           34.6174</td></tr>\n</tbody>\n</table><br><br>"
     },
     "metadata": {},
     "output_type": "display_data"
    },
    {
     "data": {
      "text/plain": "<IPython.core.display.HTML object>",
      "text/html": "== Status ==<br>Current time: 2021-11-23 20:00:29 (running for 00:08:25.90)<br>Memory usage on this node: 10.2/11.9 GiB<br>Using FIFO scheduling algorithm.<br>Resources requested: 3.0/3 CPUs, 0/0 GPUs, 0.0/1.4 GiB heap, 0.0/0.7 GiB objects<br>Result logdir: C:\\Users\\Stefan\\ray_results\\PPO<br>Number of trials: 1/1 (1 RUNNING)<br><table>\n<thead>\n<tr><th>Trial name                       </th><th>status  </th><th>loc           </th><th style=\"text-align: right;\">  iter</th><th style=\"text-align: right;\">  total time (s)</th><th style=\"text-align: right;\">   ts</th><th style=\"text-align: right;\">  reward</th><th style=\"text-align: right;\">  episode_reward_max</th><th style=\"text-align: right;\">  episode_reward_min</th><th style=\"text-align: right;\">  episode_len_mean</th></tr>\n</thead>\n<tbody>\n<tr><td>PPO_StatelessCartPole_72c9b_00000</td><td>RUNNING </td><td>127.0.0.1:8232</td><td style=\"text-align: right;\">     7</td><td style=\"text-align: right;\">          416.19</td><td style=\"text-align: right;\">28000</td><td style=\"text-align: right;\"> 34.6174</td><td style=\"text-align: right;\">                  87</td><td style=\"text-align: right;\">                   9</td><td style=\"text-align: right;\">           34.6174</td></tr>\n</tbody>\n</table><br><br>"
     },
     "metadata": {},
     "output_type": "display_data"
    },
    {
     "name": "stdout",
     "output_type": "stream",
     "text": [
      "Result for PPO_StatelessCartPole_72c9b_00000:\n",
      "  agent_timesteps_total: 32000\n",
      "  custom_metrics: {}\n",
      "  date: 2021-11-23_20-00-34\n",
      "  done: false\n",
      "  episode_len_mean: 33.87394957983193\n",
      "  episode_media: {}\n",
      "  episode_reward_max: 101.0\n",
      "  episode_reward_mean: 33.87394957983193\n",
      "  episode_reward_min: 9.0\n",
      "  episodes_this_iter: 119\n",
      "  episodes_total: 1027\n",
      "  experiment_id: 5ab5d39a5646406282869656a0cafe8c\n",
      "  hostname: nb-stschn\n",
      "  info:\n",
      "    learner:\n",
      "      default_policy:\n",
      "        custom_metrics: {}\n",
      "        learner_stats:\n",
      "          cur_kl_coeff: 0.20000000298023224\n",
      "          cur_lr: 4.999999873689376e-05\n",
      "          entropy: 0.5909730792045593\n",
      "          entropy_coeff: 0.0\n",
      "          kl: 0.010507854633033276\n",
      "          model: {}\n",
      "          policy_loss: -0.007771820295602083\n",
      "          total_loss: 125.65485382080078\n",
      "          vf_explained_var: 0.306622177362442\n",
      "          vf_loss: 125.66051483154297\n",
      "    num_agent_steps_sampled: 32000\n",
      "    num_agent_steps_trained: 32000\n",
      "    num_steps_sampled: 32000\n",
      "    num_steps_trained: 32000\n",
      "    num_steps_trained_this_iter: 0\n",
      "  iterations_since_restore: 8\n",
      "  node_ip: 127.0.0.1\n",
      "  num_healthy_workers: 2\n",
      "  off_policy_estimator: {}\n",
      "  perf:\n",
      "    cpu_util_percent: 96.57931034482756\n",
      "    ram_util_percent: 84.7505747126437\n",
      "  pid: 8232\n",
      "  policy_reward_max: {}\n",
      "  policy_reward_mean: {}\n",
      "  policy_reward_min: {}\n",
      "  sampler_perf:\n",
      "    mean_action_processing_ms: 0.11834143342168393\n",
      "    mean_env_render_ms: 0.0\n",
      "    mean_env_wait_ms: 0.11549828486341572\n",
      "    mean_inference_ms: 2.5342134510103267\n",
      "    mean_raw_obs_processing_ms: 0.18377082499460293\n",
      "  time_since_restore: 481.3592948913574\n",
      "  time_this_iter_s: 65.16916370391846\n",
      "  time_total_s: 481.3592948913574\n",
      "  timers:\n",
      "    learn_throughput: 73.908\n",
      "    learn_time_ms: 54121.337\n",
      "    load_throughput: 0.0\n",
      "    load_time_ms: 0.0\n",
      "    sample_throughput: 75.703\n",
      "    sample_time_ms: 52838.12\n",
      "    update_time_ms: 8.702\n",
      "  timestamp: 1637694034\n",
      "  timesteps_since_restore: 0\n",
      "  timesteps_this_iter: 0\n",
      "  timesteps_total: 32000\n",
      "  training_iteration: 8\n",
      "  trial_id: 72c9b_00000\n",
      "  \n"
     ]
    },
    {
     "data": {
      "text/plain": "<IPython.core.display.HTML object>",
      "text/html": "== Status ==<br>Current time: 2021-11-23 20:00:34 (running for 00:08:30.97)<br>Memory usage on this node: 10.2/11.9 GiB<br>Using FIFO scheduling algorithm.<br>Resources requested: 3.0/3 CPUs, 0/0 GPUs, 0.0/1.4 GiB heap, 0.0/0.7 GiB objects<br>Result logdir: C:\\Users\\Stefan\\ray_results\\PPO<br>Number of trials: 1/1 (1 RUNNING)<br><table>\n<thead>\n<tr><th>Trial name                       </th><th>status  </th><th>loc           </th><th style=\"text-align: right;\">  iter</th><th style=\"text-align: right;\">  total time (s)</th><th style=\"text-align: right;\">   ts</th><th style=\"text-align: right;\">  reward</th><th style=\"text-align: right;\">  episode_reward_max</th><th style=\"text-align: right;\">  episode_reward_min</th><th style=\"text-align: right;\">  episode_len_mean</th></tr>\n</thead>\n<tbody>\n<tr><td>PPO_StatelessCartPole_72c9b_00000</td><td>RUNNING </td><td>127.0.0.1:8232</td><td style=\"text-align: right;\">     8</td><td style=\"text-align: right;\">         481.359</td><td style=\"text-align: right;\">32000</td><td style=\"text-align: right;\"> 33.8739</td><td style=\"text-align: right;\">                 101</td><td style=\"text-align: right;\">                   9</td><td style=\"text-align: right;\">           33.8739</td></tr>\n</tbody>\n</table><br><br>"
     },
     "metadata": {},
     "output_type": "display_data"
    },
    {
     "data": {
      "text/plain": "<IPython.core.display.HTML object>",
      "text/html": "== Status ==<br>Current time: 2021-11-23 20:00:39 (running for 00:08:36.10)<br>Memory usage on this node: 10.2/11.9 GiB<br>Using FIFO scheduling algorithm.<br>Resources requested: 3.0/3 CPUs, 0/0 GPUs, 0.0/1.4 GiB heap, 0.0/0.7 GiB objects<br>Result logdir: C:\\Users\\Stefan\\ray_results\\PPO<br>Number of trials: 1/1 (1 RUNNING)<br><table>\n<thead>\n<tr><th>Trial name                       </th><th>status  </th><th>loc           </th><th style=\"text-align: right;\">  iter</th><th style=\"text-align: right;\">  total time (s)</th><th style=\"text-align: right;\">   ts</th><th style=\"text-align: right;\">  reward</th><th style=\"text-align: right;\">  episode_reward_max</th><th style=\"text-align: right;\">  episode_reward_min</th><th style=\"text-align: right;\">  episode_len_mean</th></tr>\n</thead>\n<tbody>\n<tr><td>PPO_StatelessCartPole_72c9b_00000</td><td>RUNNING </td><td>127.0.0.1:8232</td><td style=\"text-align: right;\">     8</td><td style=\"text-align: right;\">         481.359</td><td style=\"text-align: right;\">32000</td><td style=\"text-align: right;\"> 33.8739</td><td style=\"text-align: right;\">                 101</td><td style=\"text-align: right;\">                   9</td><td style=\"text-align: right;\">           33.8739</td></tr>\n</tbody>\n</table><br><br>"
     },
     "metadata": {},
     "output_type": "display_data"
    },
    {
     "data": {
      "text/plain": "<IPython.core.display.HTML object>",
      "text/html": "== Status ==<br>Current time: 2021-11-23 20:00:44 (running for 00:08:41.22)<br>Memory usage on this node: 10.2/11.9 GiB<br>Using FIFO scheduling algorithm.<br>Resources requested: 3.0/3 CPUs, 0/0 GPUs, 0.0/1.4 GiB heap, 0.0/0.7 GiB objects<br>Result logdir: C:\\Users\\Stefan\\ray_results\\PPO<br>Number of trials: 1/1 (1 RUNNING)<br><table>\n<thead>\n<tr><th>Trial name                       </th><th>status  </th><th>loc           </th><th style=\"text-align: right;\">  iter</th><th style=\"text-align: right;\">  total time (s)</th><th style=\"text-align: right;\">   ts</th><th style=\"text-align: right;\">  reward</th><th style=\"text-align: right;\">  episode_reward_max</th><th style=\"text-align: right;\">  episode_reward_min</th><th style=\"text-align: right;\">  episode_len_mean</th></tr>\n</thead>\n<tbody>\n<tr><td>PPO_StatelessCartPole_72c9b_00000</td><td>RUNNING </td><td>127.0.0.1:8232</td><td style=\"text-align: right;\">     8</td><td style=\"text-align: right;\">         481.359</td><td style=\"text-align: right;\">32000</td><td style=\"text-align: right;\"> 33.8739</td><td style=\"text-align: right;\">                 101</td><td style=\"text-align: right;\">                   9</td><td style=\"text-align: right;\">           33.8739</td></tr>\n</tbody>\n</table><br><br>"
     },
     "metadata": {},
     "output_type": "display_data"
    },
    {
     "data": {
      "text/plain": "<IPython.core.display.HTML object>",
      "text/html": "== Status ==<br>Current time: 2021-11-23 20:00:50 (running for 00:08:46.39)<br>Memory usage on this node: 10.3/11.9 GiB<br>Using FIFO scheduling algorithm.<br>Resources requested: 3.0/3 CPUs, 0/0 GPUs, 0.0/1.4 GiB heap, 0.0/0.7 GiB objects<br>Result logdir: C:\\Users\\Stefan\\ray_results\\PPO<br>Number of trials: 1/1 (1 RUNNING)<br><table>\n<thead>\n<tr><th>Trial name                       </th><th>status  </th><th>loc           </th><th style=\"text-align: right;\">  iter</th><th style=\"text-align: right;\">  total time (s)</th><th style=\"text-align: right;\">   ts</th><th style=\"text-align: right;\">  reward</th><th style=\"text-align: right;\">  episode_reward_max</th><th style=\"text-align: right;\">  episode_reward_min</th><th style=\"text-align: right;\">  episode_len_mean</th></tr>\n</thead>\n<tbody>\n<tr><td>PPO_StatelessCartPole_72c9b_00000</td><td>RUNNING </td><td>127.0.0.1:8232</td><td style=\"text-align: right;\">     8</td><td style=\"text-align: right;\">         481.359</td><td style=\"text-align: right;\">32000</td><td style=\"text-align: right;\"> 33.8739</td><td style=\"text-align: right;\">                 101</td><td style=\"text-align: right;\">                   9</td><td style=\"text-align: right;\">           33.8739</td></tr>\n</tbody>\n</table><br><br>"
     },
     "metadata": {},
     "output_type": "display_data"
    },
    {
     "data": {
      "text/plain": "<IPython.core.display.HTML object>",
      "text/html": "== Status ==<br>Current time: 2021-11-23 20:00:55 (running for 00:08:51.68)<br>Memory usage on this node: 10.1/11.9 GiB<br>Using FIFO scheduling algorithm.<br>Resources requested: 3.0/3 CPUs, 0/0 GPUs, 0.0/1.4 GiB heap, 0.0/0.7 GiB objects<br>Result logdir: C:\\Users\\Stefan\\ray_results\\PPO<br>Number of trials: 1/1 (1 RUNNING)<br><table>\n<thead>\n<tr><th>Trial name                       </th><th>status  </th><th>loc           </th><th style=\"text-align: right;\">  iter</th><th style=\"text-align: right;\">  total time (s)</th><th style=\"text-align: right;\">   ts</th><th style=\"text-align: right;\">  reward</th><th style=\"text-align: right;\">  episode_reward_max</th><th style=\"text-align: right;\">  episode_reward_min</th><th style=\"text-align: right;\">  episode_len_mean</th></tr>\n</thead>\n<tbody>\n<tr><td>PPO_StatelessCartPole_72c9b_00000</td><td>RUNNING </td><td>127.0.0.1:8232</td><td style=\"text-align: right;\">     8</td><td style=\"text-align: right;\">         481.359</td><td style=\"text-align: right;\">32000</td><td style=\"text-align: right;\"> 33.8739</td><td style=\"text-align: right;\">                 101</td><td style=\"text-align: right;\">                   9</td><td style=\"text-align: right;\">           33.8739</td></tr>\n</tbody>\n</table><br><br>"
     },
     "metadata": {},
     "output_type": "display_data"
    },
    {
     "data": {
      "text/plain": "<IPython.core.display.HTML object>",
      "text/html": "== Status ==<br>Current time: 2021-11-23 20:01:00 (running for 00:08:56.90)<br>Memory usage on this node: 9.9/11.9 GiB<br>Using FIFO scheduling algorithm.<br>Resources requested: 3.0/3 CPUs, 0/0 GPUs, 0.0/1.4 GiB heap, 0.0/0.7 GiB objects<br>Result logdir: C:\\Users\\Stefan\\ray_results\\PPO<br>Number of trials: 1/1 (1 RUNNING)<br><table>\n<thead>\n<tr><th>Trial name                       </th><th>status  </th><th>loc           </th><th style=\"text-align: right;\">  iter</th><th style=\"text-align: right;\">  total time (s)</th><th style=\"text-align: right;\">   ts</th><th style=\"text-align: right;\">  reward</th><th style=\"text-align: right;\">  episode_reward_max</th><th style=\"text-align: right;\">  episode_reward_min</th><th style=\"text-align: right;\">  episode_len_mean</th></tr>\n</thead>\n<tbody>\n<tr><td>PPO_StatelessCartPole_72c9b_00000</td><td>RUNNING </td><td>127.0.0.1:8232</td><td style=\"text-align: right;\">     8</td><td style=\"text-align: right;\">         481.359</td><td style=\"text-align: right;\">32000</td><td style=\"text-align: right;\"> 33.8739</td><td style=\"text-align: right;\">                 101</td><td style=\"text-align: right;\">                   9</td><td style=\"text-align: right;\">           33.8739</td></tr>\n</tbody>\n</table><br><br>"
     },
     "metadata": {},
     "output_type": "display_data"
    },
    {
     "data": {
      "text/plain": "<IPython.core.display.HTML object>",
      "text/html": "== Status ==<br>Current time: 2021-11-23 20:01:05 (running for 00:09:02.06)<br>Memory usage on this node: 9.8/11.9 GiB<br>Using FIFO scheduling algorithm.<br>Resources requested: 3.0/3 CPUs, 0/0 GPUs, 0.0/1.4 GiB heap, 0.0/0.7 GiB objects<br>Result logdir: C:\\Users\\Stefan\\ray_results\\PPO<br>Number of trials: 1/1 (1 RUNNING)<br><table>\n<thead>\n<tr><th>Trial name                       </th><th>status  </th><th>loc           </th><th style=\"text-align: right;\">  iter</th><th style=\"text-align: right;\">  total time (s)</th><th style=\"text-align: right;\">   ts</th><th style=\"text-align: right;\">  reward</th><th style=\"text-align: right;\">  episode_reward_max</th><th style=\"text-align: right;\">  episode_reward_min</th><th style=\"text-align: right;\">  episode_len_mean</th></tr>\n</thead>\n<tbody>\n<tr><td>PPO_StatelessCartPole_72c9b_00000</td><td>RUNNING </td><td>127.0.0.1:8232</td><td style=\"text-align: right;\">     8</td><td style=\"text-align: right;\">         481.359</td><td style=\"text-align: right;\">32000</td><td style=\"text-align: right;\"> 33.8739</td><td style=\"text-align: right;\">                 101</td><td style=\"text-align: right;\">                   9</td><td style=\"text-align: right;\">           33.8739</td></tr>\n</tbody>\n</table><br><br>"
     },
     "metadata": {},
     "output_type": "display_data"
    },
    {
     "data": {
      "text/plain": "<IPython.core.display.HTML object>",
      "text/html": "== Status ==<br>Current time: 2021-11-23 20:01:10 (running for 00:09:07.18)<br>Memory usage on this node: 9.8/11.9 GiB<br>Using FIFO scheduling algorithm.<br>Resources requested: 3.0/3 CPUs, 0/0 GPUs, 0.0/1.4 GiB heap, 0.0/0.7 GiB objects<br>Result logdir: C:\\Users\\Stefan\\ray_results\\PPO<br>Number of trials: 1/1 (1 RUNNING)<br><table>\n<thead>\n<tr><th>Trial name                       </th><th>status  </th><th>loc           </th><th style=\"text-align: right;\">  iter</th><th style=\"text-align: right;\">  total time (s)</th><th style=\"text-align: right;\">   ts</th><th style=\"text-align: right;\">  reward</th><th style=\"text-align: right;\">  episode_reward_max</th><th style=\"text-align: right;\">  episode_reward_min</th><th style=\"text-align: right;\">  episode_len_mean</th></tr>\n</thead>\n<tbody>\n<tr><td>PPO_StatelessCartPole_72c9b_00000</td><td>RUNNING </td><td>127.0.0.1:8232</td><td style=\"text-align: right;\">     8</td><td style=\"text-align: right;\">         481.359</td><td style=\"text-align: right;\">32000</td><td style=\"text-align: right;\"> 33.8739</td><td style=\"text-align: right;\">                 101</td><td style=\"text-align: right;\">                   9</td><td style=\"text-align: right;\">           33.8739</td></tr>\n</tbody>\n</table><br><br>"
     },
     "metadata": {},
     "output_type": "display_data"
    },
    {
     "data": {
      "text/plain": "<IPython.core.display.HTML object>",
      "text/html": "== Status ==<br>Current time: 2021-11-23 20:01:15 (running for 00:09:12.29)<br>Memory usage on this node: 9.7/11.9 GiB<br>Using FIFO scheduling algorithm.<br>Resources requested: 3.0/3 CPUs, 0/0 GPUs, 0.0/1.4 GiB heap, 0.0/0.7 GiB objects<br>Result logdir: C:\\Users\\Stefan\\ray_results\\PPO<br>Number of trials: 1/1 (1 RUNNING)<br><table>\n<thead>\n<tr><th>Trial name                       </th><th>status  </th><th>loc           </th><th style=\"text-align: right;\">  iter</th><th style=\"text-align: right;\">  total time (s)</th><th style=\"text-align: right;\">   ts</th><th style=\"text-align: right;\">  reward</th><th style=\"text-align: right;\">  episode_reward_max</th><th style=\"text-align: right;\">  episode_reward_min</th><th style=\"text-align: right;\">  episode_len_mean</th></tr>\n</thead>\n<tbody>\n<tr><td>PPO_StatelessCartPole_72c9b_00000</td><td>RUNNING </td><td>127.0.0.1:8232</td><td style=\"text-align: right;\">     8</td><td style=\"text-align: right;\">         481.359</td><td style=\"text-align: right;\">32000</td><td style=\"text-align: right;\"> 33.8739</td><td style=\"text-align: right;\">                 101</td><td style=\"text-align: right;\">                   9</td><td style=\"text-align: right;\">           33.8739</td></tr>\n</tbody>\n</table><br><br>"
     },
     "metadata": {},
     "output_type": "display_data"
    },
    {
     "data": {
      "text/plain": "<IPython.core.display.HTML object>",
      "text/html": "== Status ==<br>Current time: 2021-11-23 20:01:21 (running for 00:09:17.44)<br>Memory usage on this node: 9.7/11.9 GiB<br>Using FIFO scheduling algorithm.<br>Resources requested: 3.0/3 CPUs, 0/0 GPUs, 0.0/1.4 GiB heap, 0.0/0.7 GiB objects<br>Result logdir: C:\\Users\\Stefan\\ray_results\\PPO<br>Number of trials: 1/1 (1 RUNNING)<br><table>\n<thead>\n<tr><th>Trial name                       </th><th>status  </th><th>loc           </th><th style=\"text-align: right;\">  iter</th><th style=\"text-align: right;\">  total time (s)</th><th style=\"text-align: right;\">   ts</th><th style=\"text-align: right;\">  reward</th><th style=\"text-align: right;\">  episode_reward_max</th><th style=\"text-align: right;\">  episode_reward_min</th><th style=\"text-align: right;\">  episode_len_mean</th></tr>\n</thead>\n<tbody>\n<tr><td>PPO_StatelessCartPole_72c9b_00000</td><td>RUNNING </td><td>127.0.0.1:8232</td><td style=\"text-align: right;\">     8</td><td style=\"text-align: right;\">         481.359</td><td style=\"text-align: right;\">32000</td><td style=\"text-align: right;\"> 33.8739</td><td style=\"text-align: right;\">                 101</td><td style=\"text-align: right;\">                   9</td><td style=\"text-align: right;\">           33.8739</td></tr>\n</tbody>\n</table><br><br>"
     },
     "metadata": {},
     "output_type": "display_data"
    },
    {
     "data": {
      "text/plain": "<IPython.core.display.HTML object>",
      "text/html": "== Status ==<br>Current time: 2021-11-23 20:01:26 (running for 00:09:22.62)<br>Memory usage on this node: 9.7/11.9 GiB<br>Using FIFO scheduling algorithm.<br>Resources requested: 3.0/3 CPUs, 0/0 GPUs, 0.0/1.4 GiB heap, 0.0/0.7 GiB objects<br>Result logdir: C:\\Users\\Stefan\\ray_results\\PPO<br>Number of trials: 1/1 (1 RUNNING)<br><table>\n<thead>\n<tr><th>Trial name                       </th><th>status  </th><th>loc           </th><th style=\"text-align: right;\">  iter</th><th style=\"text-align: right;\">  total time (s)</th><th style=\"text-align: right;\">   ts</th><th style=\"text-align: right;\">  reward</th><th style=\"text-align: right;\">  episode_reward_max</th><th style=\"text-align: right;\">  episode_reward_min</th><th style=\"text-align: right;\">  episode_len_mean</th></tr>\n</thead>\n<tbody>\n<tr><td>PPO_StatelessCartPole_72c9b_00000</td><td>RUNNING </td><td>127.0.0.1:8232</td><td style=\"text-align: right;\">     8</td><td style=\"text-align: right;\">         481.359</td><td style=\"text-align: right;\">32000</td><td style=\"text-align: right;\"> 33.8739</td><td style=\"text-align: right;\">                 101</td><td style=\"text-align: right;\">                   9</td><td style=\"text-align: right;\">           33.8739</td></tr>\n</tbody>\n</table><br><br>"
     },
     "metadata": {},
     "output_type": "display_data"
    },
    {
     "data": {
      "text/plain": "<IPython.core.display.HTML object>",
      "text/html": "== Status ==<br>Current time: 2021-11-23 20:01:31 (running for 00:09:27.77)<br>Memory usage on this node: 9.7/11.9 GiB<br>Using FIFO scheduling algorithm.<br>Resources requested: 3.0/3 CPUs, 0/0 GPUs, 0.0/1.4 GiB heap, 0.0/0.7 GiB objects<br>Result logdir: C:\\Users\\Stefan\\ray_results\\PPO<br>Number of trials: 1/1 (1 RUNNING)<br><table>\n<thead>\n<tr><th>Trial name                       </th><th>status  </th><th>loc           </th><th style=\"text-align: right;\">  iter</th><th style=\"text-align: right;\">  total time (s)</th><th style=\"text-align: right;\">   ts</th><th style=\"text-align: right;\">  reward</th><th style=\"text-align: right;\">  episode_reward_max</th><th style=\"text-align: right;\">  episode_reward_min</th><th style=\"text-align: right;\">  episode_len_mean</th></tr>\n</thead>\n<tbody>\n<tr><td>PPO_StatelessCartPole_72c9b_00000</td><td>RUNNING </td><td>127.0.0.1:8232</td><td style=\"text-align: right;\">     8</td><td style=\"text-align: right;\">         481.359</td><td style=\"text-align: right;\">32000</td><td style=\"text-align: right;\"> 33.8739</td><td style=\"text-align: right;\">                 101</td><td style=\"text-align: right;\">                   9</td><td style=\"text-align: right;\">           33.8739</td></tr>\n</tbody>\n</table><br><br>"
     },
     "metadata": {},
     "output_type": "display_data"
    },
    {
     "data": {
      "text/plain": "<IPython.core.display.HTML object>",
      "text/html": "== Status ==<br>Current time: 2021-11-23 20:01:36 (running for 00:09:32.94)<br>Memory usage on this node: 9.7/11.9 GiB<br>Using FIFO scheduling algorithm.<br>Resources requested: 3.0/3 CPUs, 0/0 GPUs, 0.0/1.4 GiB heap, 0.0/0.7 GiB objects<br>Result logdir: C:\\Users\\Stefan\\ray_results\\PPO<br>Number of trials: 1/1 (1 RUNNING)<br><table>\n<thead>\n<tr><th>Trial name                       </th><th>status  </th><th>loc           </th><th style=\"text-align: right;\">  iter</th><th style=\"text-align: right;\">  total time (s)</th><th style=\"text-align: right;\">   ts</th><th style=\"text-align: right;\">  reward</th><th style=\"text-align: right;\">  episode_reward_max</th><th style=\"text-align: right;\">  episode_reward_min</th><th style=\"text-align: right;\">  episode_len_mean</th></tr>\n</thead>\n<tbody>\n<tr><td>PPO_StatelessCartPole_72c9b_00000</td><td>RUNNING </td><td>127.0.0.1:8232</td><td style=\"text-align: right;\">     8</td><td style=\"text-align: right;\">         481.359</td><td style=\"text-align: right;\">32000</td><td style=\"text-align: right;\"> 33.8739</td><td style=\"text-align: right;\">                 101</td><td style=\"text-align: right;\">                   9</td><td style=\"text-align: right;\">           33.8739</td></tr>\n</tbody>\n</table><br><br>"
     },
     "metadata": {},
     "output_type": "display_data"
    },
    {
     "name": "stdout",
     "output_type": "stream",
     "text": [
      "Result for PPO_StatelessCartPole_72c9b_00000:\n",
      "  agent_timesteps_total: 36000\n",
      "  custom_metrics: {}\n",
      "  date: 2021-11-23_20-01-40\n",
      "  done: false\n",
      "  episode_len_mean: 38.625\n",
      "  episode_media: {}\n",
      "  episode_reward_max: 99.0\n",
      "  episode_reward_mean: 38.625\n",
      "  episode_reward_min: 11.0\n",
      "  episodes_this_iter: 104\n",
      "  episodes_total: 1131\n",
      "  experiment_id: 5ab5d39a5646406282869656a0cafe8c\n",
      "  hostname: nb-stschn\n",
      "  info:\n",
      "    learner:\n",
      "      default_policy:\n",
      "        custom_metrics: {}\n",
      "        learner_stats:\n",
      "          cur_kl_coeff: 0.20000000298023224\n",
      "          cur_lr: 4.999999873689376e-05\n",
      "          entropy: 0.5758077502250671\n",
      "          entropy_coeff: 0.0\n",
      "          kl: 0.008066794835031033\n",
      "          model: {}\n",
      "          policy_loss: -0.00612681033089757\n",
      "          total_loss: 112.96802520751953\n",
      "          vf_explained_var: 0.3204708695411682\n",
      "          vf_loss: 112.97254943847656\n",
      "    num_agent_steps_sampled: 36000\n",
      "    num_agent_steps_trained: 36000\n",
      "    num_steps_sampled: 36000\n",
      "    num_steps_trained: 36000\n",
      "    num_steps_trained_this_iter: 0\n",
      "  iterations_since_restore: 9\n",
      "  node_ip: 127.0.0.1\n",
      "  num_healthy_workers: 2\n",
      "  off_policy_estimator: {}\n",
      "  perf:\n",
      "    cpu_util_percent: 98.28333333333333\n",
      "    ram_util_percent: 83.16777777777776\n",
      "  pid: 8232\n",
      "  policy_reward_max: {}\n",
      "  policy_reward_mean: {}\n",
      "  policy_reward_min: {}\n",
      "  sampler_perf:\n",
      "    mean_action_processing_ms: 0.12184103393822844\n",
      "    mean_env_render_ms: 0.0\n",
      "    mean_env_wait_ms: 0.11841132422779245\n",
      "    mean_inference_ms: 2.610688710149235\n",
      "    mean_raw_obs_processing_ms: 0.192298508088587\n",
      "  time_since_restore: 547.3547585010529\n",
      "  time_this_iter_s: 65.99546360969543\n",
      "  time_total_s: 547.3547585010529\n",
      "  timers:\n",
      "    learn_throughput: 73.284\n",
      "    learn_time_ms: 54582.195\n",
      "    load_throughput: 0.0\n",
      "    load_time_ms: 0.0\n",
      "    sample_throughput: 73.55\n",
      "    sample_time_ms: 54384.792\n",
      "    update_time_ms: 8.863\n",
      "  timestamp: 1637694100\n",
      "  timesteps_since_restore: 0\n",
      "  timesteps_this_iter: 0\n",
      "  timesteps_total: 36000\n",
      "  training_iteration: 9\n",
      "  trial_id: 72c9b_00000\n",
      "  \n"
     ]
    },
    {
     "data": {
      "text/plain": "<IPython.core.display.HTML object>",
      "text/html": "== Status ==<br>Current time: 2021-11-23 20:01:41 (running for 00:09:38.07)<br>Memory usage on this node: 9.7/11.9 GiB<br>Using FIFO scheduling algorithm.<br>Resources requested: 3.0/3 CPUs, 0/0 GPUs, 0.0/1.4 GiB heap, 0.0/0.7 GiB objects<br>Result logdir: C:\\Users\\Stefan\\ray_results\\PPO<br>Number of trials: 1/1 (1 RUNNING)<br><table>\n<thead>\n<tr><th>Trial name                       </th><th>status  </th><th>loc           </th><th style=\"text-align: right;\">  iter</th><th style=\"text-align: right;\">  total time (s)</th><th style=\"text-align: right;\">   ts</th><th style=\"text-align: right;\">  reward</th><th style=\"text-align: right;\">  episode_reward_max</th><th style=\"text-align: right;\">  episode_reward_min</th><th style=\"text-align: right;\">  episode_len_mean</th></tr>\n</thead>\n<tbody>\n<tr><td>PPO_StatelessCartPole_72c9b_00000</td><td>RUNNING </td><td>127.0.0.1:8232</td><td style=\"text-align: right;\">     9</td><td style=\"text-align: right;\">         547.355</td><td style=\"text-align: right;\">36000</td><td style=\"text-align: right;\">  38.625</td><td style=\"text-align: right;\">                  99</td><td style=\"text-align: right;\">                  11</td><td style=\"text-align: right;\">            38.625</td></tr>\n</tbody>\n</table><br><br>"
     },
     "metadata": {},
     "output_type": "display_data"
    },
    {
     "data": {
      "text/plain": "<IPython.core.display.HTML object>",
      "text/html": "== Status ==<br>Current time: 2021-11-23 20:01:46 (running for 00:09:43.16)<br>Memory usage on this node: 9.7/11.9 GiB<br>Using FIFO scheduling algorithm.<br>Resources requested: 3.0/3 CPUs, 0/0 GPUs, 0.0/1.4 GiB heap, 0.0/0.7 GiB objects<br>Result logdir: C:\\Users\\Stefan\\ray_results\\PPO<br>Number of trials: 1/1 (1 RUNNING)<br><table>\n<thead>\n<tr><th>Trial name                       </th><th>status  </th><th>loc           </th><th style=\"text-align: right;\">  iter</th><th style=\"text-align: right;\">  total time (s)</th><th style=\"text-align: right;\">   ts</th><th style=\"text-align: right;\">  reward</th><th style=\"text-align: right;\">  episode_reward_max</th><th style=\"text-align: right;\">  episode_reward_min</th><th style=\"text-align: right;\">  episode_len_mean</th></tr>\n</thead>\n<tbody>\n<tr><td>PPO_StatelessCartPole_72c9b_00000</td><td>RUNNING </td><td>127.0.0.1:8232</td><td style=\"text-align: right;\">     9</td><td style=\"text-align: right;\">         547.355</td><td style=\"text-align: right;\">36000</td><td style=\"text-align: right;\">  38.625</td><td style=\"text-align: right;\">                  99</td><td style=\"text-align: right;\">                  11</td><td style=\"text-align: right;\">            38.625</td></tr>\n</tbody>\n</table><br><br>"
     },
     "metadata": {},
     "output_type": "display_data"
    },
    {
     "data": {
      "text/plain": "<IPython.core.display.HTML object>",
      "text/html": "== Status ==<br>Current time: 2021-11-23 20:01:51 (running for 00:09:48.22)<br>Memory usage on this node: 9.5/11.9 GiB<br>Using FIFO scheduling algorithm.<br>Resources requested: 3.0/3 CPUs, 0/0 GPUs, 0.0/1.4 GiB heap, 0.0/0.7 GiB objects<br>Result logdir: C:\\Users\\Stefan\\ray_results\\PPO<br>Number of trials: 1/1 (1 RUNNING)<br><table>\n<thead>\n<tr><th>Trial name                       </th><th>status  </th><th>loc           </th><th style=\"text-align: right;\">  iter</th><th style=\"text-align: right;\">  total time (s)</th><th style=\"text-align: right;\">   ts</th><th style=\"text-align: right;\">  reward</th><th style=\"text-align: right;\">  episode_reward_max</th><th style=\"text-align: right;\">  episode_reward_min</th><th style=\"text-align: right;\">  episode_len_mean</th></tr>\n</thead>\n<tbody>\n<tr><td>PPO_StatelessCartPole_72c9b_00000</td><td>RUNNING </td><td>127.0.0.1:8232</td><td style=\"text-align: right;\">     9</td><td style=\"text-align: right;\">         547.355</td><td style=\"text-align: right;\">36000</td><td style=\"text-align: right;\">  38.625</td><td style=\"text-align: right;\">                  99</td><td style=\"text-align: right;\">                  11</td><td style=\"text-align: right;\">            38.625</td></tr>\n</tbody>\n</table><br><br>"
     },
     "metadata": {},
     "output_type": "display_data"
    },
    {
     "data": {
      "text/plain": "<IPython.core.display.HTML object>",
      "text/html": "== Status ==<br>Current time: 2021-11-23 20:01:57 (running for 00:09:53.35)<br>Memory usage on this node: 9.5/11.9 GiB<br>Using FIFO scheduling algorithm.<br>Resources requested: 3.0/3 CPUs, 0/0 GPUs, 0.0/1.4 GiB heap, 0.0/0.7 GiB objects<br>Result logdir: C:\\Users\\Stefan\\ray_results\\PPO<br>Number of trials: 1/1 (1 RUNNING)<br><table>\n<thead>\n<tr><th>Trial name                       </th><th>status  </th><th>loc           </th><th style=\"text-align: right;\">  iter</th><th style=\"text-align: right;\">  total time (s)</th><th style=\"text-align: right;\">   ts</th><th style=\"text-align: right;\">  reward</th><th style=\"text-align: right;\">  episode_reward_max</th><th style=\"text-align: right;\">  episode_reward_min</th><th style=\"text-align: right;\">  episode_len_mean</th></tr>\n</thead>\n<tbody>\n<tr><td>PPO_StatelessCartPole_72c9b_00000</td><td>RUNNING </td><td>127.0.0.1:8232</td><td style=\"text-align: right;\">     9</td><td style=\"text-align: right;\">         547.355</td><td style=\"text-align: right;\">36000</td><td style=\"text-align: right;\">  38.625</td><td style=\"text-align: right;\">                  99</td><td style=\"text-align: right;\">                  11</td><td style=\"text-align: right;\">            38.625</td></tr>\n</tbody>\n</table><br><br>"
     },
     "metadata": {},
     "output_type": "display_data"
    },
    {
     "data": {
      "text/plain": "<IPython.core.display.HTML object>",
      "text/html": "== Status ==<br>Current time: 2021-11-23 20:02:02 (running for 00:09:58.43)<br>Memory usage on this node: 9.5/11.9 GiB<br>Using FIFO scheduling algorithm.<br>Resources requested: 3.0/3 CPUs, 0/0 GPUs, 0.0/1.4 GiB heap, 0.0/0.7 GiB objects<br>Result logdir: C:\\Users\\Stefan\\ray_results\\PPO<br>Number of trials: 1/1 (1 RUNNING)<br><table>\n<thead>\n<tr><th>Trial name                       </th><th>status  </th><th>loc           </th><th style=\"text-align: right;\">  iter</th><th style=\"text-align: right;\">  total time (s)</th><th style=\"text-align: right;\">   ts</th><th style=\"text-align: right;\">  reward</th><th style=\"text-align: right;\">  episode_reward_max</th><th style=\"text-align: right;\">  episode_reward_min</th><th style=\"text-align: right;\">  episode_len_mean</th></tr>\n</thead>\n<tbody>\n<tr><td>PPO_StatelessCartPole_72c9b_00000</td><td>RUNNING </td><td>127.0.0.1:8232</td><td style=\"text-align: right;\">     9</td><td style=\"text-align: right;\">         547.355</td><td style=\"text-align: right;\">36000</td><td style=\"text-align: right;\">  38.625</td><td style=\"text-align: right;\">                  99</td><td style=\"text-align: right;\">                  11</td><td style=\"text-align: right;\">            38.625</td></tr>\n</tbody>\n</table><br><br>"
     },
     "metadata": {},
     "output_type": "display_data"
    },
    {
     "data": {
      "text/plain": "<IPython.core.display.HTML object>",
      "text/html": "== Status ==<br>Current time: 2021-11-23 20:02:07 (running for 00:10:03.60)<br>Memory usage on this node: 9.5/11.9 GiB<br>Using FIFO scheduling algorithm.<br>Resources requested: 3.0/3 CPUs, 0/0 GPUs, 0.0/1.4 GiB heap, 0.0/0.7 GiB objects<br>Result logdir: C:\\Users\\Stefan\\ray_results\\PPO<br>Number of trials: 1/1 (1 RUNNING)<br><table>\n<thead>\n<tr><th>Trial name                       </th><th>status  </th><th>loc           </th><th style=\"text-align: right;\">  iter</th><th style=\"text-align: right;\">  total time (s)</th><th style=\"text-align: right;\">   ts</th><th style=\"text-align: right;\">  reward</th><th style=\"text-align: right;\">  episode_reward_max</th><th style=\"text-align: right;\">  episode_reward_min</th><th style=\"text-align: right;\">  episode_len_mean</th></tr>\n</thead>\n<tbody>\n<tr><td>PPO_StatelessCartPole_72c9b_00000</td><td>RUNNING </td><td>127.0.0.1:8232</td><td style=\"text-align: right;\">     9</td><td style=\"text-align: right;\">         547.355</td><td style=\"text-align: right;\">36000</td><td style=\"text-align: right;\">  38.625</td><td style=\"text-align: right;\">                  99</td><td style=\"text-align: right;\">                  11</td><td style=\"text-align: right;\">            38.625</td></tr>\n</tbody>\n</table><br><br>"
     },
     "metadata": {},
     "output_type": "display_data"
    },
    {
     "data": {
      "text/plain": "<IPython.core.display.HTML object>",
      "text/html": "== Status ==<br>Current time: 2021-11-23 20:02:12 (running for 00:10:08.71)<br>Memory usage on this node: 9.5/11.9 GiB<br>Using FIFO scheduling algorithm.<br>Resources requested: 3.0/3 CPUs, 0/0 GPUs, 0.0/1.4 GiB heap, 0.0/0.7 GiB objects<br>Result logdir: C:\\Users\\Stefan\\ray_results\\PPO<br>Number of trials: 1/1 (1 RUNNING)<br><table>\n<thead>\n<tr><th>Trial name                       </th><th>status  </th><th>loc           </th><th style=\"text-align: right;\">  iter</th><th style=\"text-align: right;\">  total time (s)</th><th style=\"text-align: right;\">   ts</th><th style=\"text-align: right;\">  reward</th><th style=\"text-align: right;\">  episode_reward_max</th><th style=\"text-align: right;\">  episode_reward_min</th><th style=\"text-align: right;\">  episode_len_mean</th></tr>\n</thead>\n<tbody>\n<tr><td>PPO_StatelessCartPole_72c9b_00000</td><td>RUNNING </td><td>127.0.0.1:8232</td><td style=\"text-align: right;\">     9</td><td style=\"text-align: right;\">         547.355</td><td style=\"text-align: right;\">36000</td><td style=\"text-align: right;\">  38.625</td><td style=\"text-align: right;\">                  99</td><td style=\"text-align: right;\">                  11</td><td style=\"text-align: right;\">            38.625</td></tr>\n</tbody>\n</table><br><br>"
     },
     "metadata": {},
     "output_type": "display_data"
    },
    {
     "data": {
      "text/plain": "<IPython.core.display.HTML object>",
      "text/html": "== Status ==<br>Current time: 2021-11-23 20:02:17 (running for 00:10:13.87)<br>Memory usage on this node: 9.5/11.9 GiB<br>Using FIFO scheduling algorithm.<br>Resources requested: 3.0/3 CPUs, 0/0 GPUs, 0.0/1.4 GiB heap, 0.0/0.7 GiB objects<br>Result logdir: C:\\Users\\Stefan\\ray_results\\PPO<br>Number of trials: 1/1 (1 RUNNING)<br><table>\n<thead>\n<tr><th>Trial name                       </th><th>status  </th><th>loc           </th><th style=\"text-align: right;\">  iter</th><th style=\"text-align: right;\">  total time (s)</th><th style=\"text-align: right;\">   ts</th><th style=\"text-align: right;\">  reward</th><th style=\"text-align: right;\">  episode_reward_max</th><th style=\"text-align: right;\">  episode_reward_min</th><th style=\"text-align: right;\">  episode_len_mean</th></tr>\n</thead>\n<tbody>\n<tr><td>PPO_StatelessCartPole_72c9b_00000</td><td>RUNNING </td><td>127.0.0.1:8232</td><td style=\"text-align: right;\">     9</td><td style=\"text-align: right;\">         547.355</td><td style=\"text-align: right;\">36000</td><td style=\"text-align: right;\">  38.625</td><td style=\"text-align: right;\">                  99</td><td style=\"text-align: right;\">                  11</td><td style=\"text-align: right;\">            38.625</td></tr>\n</tbody>\n</table><br><br>"
     },
     "metadata": {},
     "output_type": "display_data"
    },
    {
     "data": {
      "text/plain": "<IPython.core.display.HTML object>",
      "text/html": "== Status ==<br>Current time: 2021-11-23 20:02:22 (running for 00:10:18.97)<br>Memory usage on this node: 9.4/11.9 GiB<br>Using FIFO scheduling algorithm.<br>Resources requested: 3.0/3 CPUs, 0/0 GPUs, 0.0/1.4 GiB heap, 0.0/0.7 GiB objects<br>Result logdir: C:\\Users\\Stefan\\ray_results\\PPO<br>Number of trials: 1/1 (1 RUNNING)<br><table>\n<thead>\n<tr><th>Trial name                       </th><th>status  </th><th>loc           </th><th style=\"text-align: right;\">  iter</th><th style=\"text-align: right;\">  total time (s)</th><th style=\"text-align: right;\">   ts</th><th style=\"text-align: right;\">  reward</th><th style=\"text-align: right;\">  episode_reward_max</th><th style=\"text-align: right;\">  episode_reward_min</th><th style=\"text-align: right;\">  episode_len_mean</th></tr>\n</thead>\n<tbody>\n<tr><td>PPO_StatelessCartPole_72c9b_00000</td><td>RUNNING </td><td>127.0.0.1:8232</td><td style=\"text-align: right;\">     9</td><td style=\"text-align: right;\">         547.355</td><td style=\"text-align: right;\">36000</td><td style=\"text-align: right;\">  38.625</td><td style=\"text-align: right;\">                  99</td><td style=\"text-align: right;\">                  11</td><td style=\"text-align: right;\">            38.625</td></tr>\n</tbody>\n</table><br><br>"
     },
     "metadata": {},
     "output_type": "display_data"
    },
    {
     "data": {
      "text/plain": "<IPython.core.display.HTML object>",
      "text/html": "== Status ==<br>Current time: 2021-11-23 20:02:27 (running for 00:10:24.19)<br>Memory usage on this node: 9.4/11.9 GiB<br>Using FIFO scheduling algorithm.<br>Resources requested: 3.0/3 CPUs, 0/0 GPUs, 0.0/1.4 GiB heap, 0.0/0.7 GiB objects<br>Result logdir: C:\\Users\\Stefan\\ray_results\\PPO<br>Number of trials: 1/1 (1 RUNNING)<br><table>\n<thead>\n<tr><th>Trial name                       </th><th>status  </th><th>loc           </th><th style=\"text-align: right;\">  iter</th><th style=\"text-align: right;\">  total time (s)</th><th style=\"text-align: right;\">   ts</th><th style=\"text-align: right;\">  reward</th><th style=\"text-align: right;\">  episode_reward_max</th><th style=\"text-align: right;\">  episode_reward_min</th><th style=\"text-align: right;\">  episode_len_mean</th></tr>\n</thead>\n<tbody>\n<tr><td>PPO_StatelessCartPole_72c9b_00000</td><td>RUNNING </td><td>127.0.0.1:8232</td><td style=\"text-align: right;\">     9</td><td style=\"text-align: right;\">         547.355</td><td style=\"text-align: right;\">36000</td><td style=\"text-align: right;\">  38.625</td><td style=\"text-align: right;\">                  99</td><td style=\"text-align: right;\">                  11</td><td style=\"text-align: right;\">            38.625</td></tr>\n</tbody>\n</table><br><br>"
     },
     "metadata": {},
     "output_type": "display_data"
    },
    {
     "data": {
      "text/plain": "<IPython.core.display.HTML object>",
      "text/html": "== Status ==<br>Current time: 2021-11-23 20:02:32 (running for 00:10:29.30)<br>Memory usage on this node: 9.4/11.9 GiB<br>Using FIFO scheduling algorithm.<br>Resources requested: 3.0/3 CPUs, 0/0 GPUs, 0.0/1.4 GiB heap, 0.0/0.7 GiB objects<br>Result logdir: C:\\Users\\Stefan\\ray_results\\PPO<br>Number of trials: 1/1 (1 RUNNING)<br><table>\n<thead>\n<tr><th>Trial name                       </th><th>status  </th><th>loc           </th><th style=\"text-align: right;\">  iter</th><th style=\"text-align: right;\">  total time (s)</th><th style=\"text-align: right;\">   ts</th><th style=\"text-align: right;\">  reward</th><th style=\"text-align: right;\">  episode_reward_max</th><th style=\"text-align: right;\">  episode_reward_min</th><th style=\"text-align: right;\">  episode_len_mean</th></tr>\n</thead>\n<tbody>\n<tr><td>PPO_StatelessCartPole_72c9b_00000</td><td>RUNNING </td><td>127.0.0.1:8232</td><td style=\"text-align: right;\">     9</td><td style=\"text-align: right;\">         547.355</td><td style=\"text-align: right;\">36000</td><td style=\"text-align: right;\">  38.625</td><td style=\"text-align: right;\">                  99</td><td style=\"text-align: right;\">                  11</td><td style=\"text-align: right;\">            38.625</td></tr>\n</tbody>\n</table><br><br>"
     },
     "metadata": {},
     "output_type": "display_data"
    },
    {
     "name": "stdout",
     "output_type": "stream",
     "text": [
      "Result for PPO_StatelessCartPole_72c9b_00000:\n",
      "  agent_timesteps_total: 40000\n",
      "  custom_metrics: {}\n",
      "  date: 2021-11-23_20-02-37\n",
      "  done: true\n",
      "  episode_len_mean: 34.721739130434784\n",
      "  episode_media: {}\n",
      "  episode_reward_max: 142.0\n",
      "  episode_reward_mean: 34.721739130434784\n",
      "  episode_reward_min: 9.0\n",
      "  episodes_this_iter: 115\n",
      "  episodes_total: 1246\n",
      "  experiment_id: 5ab5d39a5646406282869656a0cafe8c\n",
      "  hostname: nb-stschn\n",
      "  info:\n",
      "    learner:\n",
      "      default_policy:\n",
      "        custom_metrics: {}\n",
      "        learner_stats:\n",
      "          cur_kl_coeff: 0.20000000298023224\n",
      "          cur_lr: 4.999999873689376e-05\n",
      "          entropy: 0.5509825348854065\n",
      "          entropy_coeff: 0.0\n",
      "          kl: 0.009169220924377441\n",
      "          model: {}\n",
      "          policy_loss: -0.011567086912691593\n",
      "          total_loss: 137.02117919921875\n",
      "          vf_explained_var: 0.3223947286605835\n",
      "          vf_loss: 137.03091430664062\n",
      "    num_agent_steps_sampled: 40000\n",
      "    num_agent_steps_trained: 40000\n",
      "    num_steps_sampled: 40000\n",
      "    num_steps_trained: 40000\n",
      "    num_steps_trained_this_iter: 0\n",
      "  iterations_since_restore: 10\n",
      "  node_ip: 127.0.0.1\n",
      "  num_healthy_workers: 2\n",
      "  off_policy_estimator: {}\n",
      "  perf:\n",
      "    cpu_util_percent: 98.28717948717946\n",
      "    ram_util_percent: 79.82179487179486\n",
      "  pid: 8232\n",
      "  policy_reward_max: {}\n",
      "  policy_reward_mean: {}\n",
      "  policy_reward_min: {}\n",
      "  sampler_perf:\n",
      "    mean_action_processing_ms: 0.11879841433230598\n",
      "    mean_env_render_ms: 0.0\n",
      "    mean_env_wait_ms: 0.11976210328320651\n",
      "    mean_inference_ms: 2.6651153212067342\n",
      "    mean_raw_obs_processing_ms: 0.19460917309534947\n",
      "  time_since_restore: 604.5396897792816\n",
      "  time_this_iter_s: 57.18493127822876\n",
      "  time_total_s: 604.5396897792816\n",
      "  timers:\n",
      "    learn_throughput: 73.928\n",
      "    learn_time_ms: 54106.804\n",
      "    load_throughput: 0.0\n",
      "    load_time_ms: 0.0\n",
      "    sample_throughput: 72.05\n",
      "    sample_time_ms: 55516.91\n",
      "    update_time_ms: 9.541\n",
      "  timestamp: 1637694157\n",
      "  timesteps_since_restore: 0\n",
      "  timesteps_this_iter: 0\n",
      "  timesteps_total: 40000\n",
      "  training_iteration: 10\n",
      "  trial_id: 72c9b_00000\n",
      "  \n"
     ]
    },
    {
     "data": {
      "text/plain": "<IPython.core.display.HTML object>",
      "text/html": "== Status ==<br>Current time: 2021-11-23 20:02:37 (running for 00:10:34.33)<br>Memory usage on this node: 9.4/11.9 GiB<br>Using FIFO scheduling algorithm.<br>Resources requested: 0/3 CPUs, 0/0 GPUs, 0.0/1.4 GiB heap, 0.0/0.7 GiB objects<br>Result logdir: C:\\Users\\Stefan\\ray_results\\PPO<br>Number of trials: 1/1 (1 TERMINATED)<br><table>\n<thead>\n<tr><th>Trial name                       </th><th>status    </th><th>loc           </th><th style=\"text-align: right;\">  iter</th><th style=\"text-align: right;\">  total time (s)</th><th style=\"text-align: right;\">   ts</th><th style=\"text-align: right;\">  reward</th><th style=\"text-align: right;\">  episode_reward_max</th><th style=\"text-align: right;\">  episode_reward_min</th><th style=\"text-align: right;\">  episode_len_mean</th></tr>\n</thead>\n<tbody>\n<tr><td>PPO_StatelessCartPole_72c9b_00000</td><td>TERMINATED</td><td>127.0.0.1:8232</td><td style=\"text-align: right;\">    10</td><td style=\"text-align: right;\">          604.54</td><td style=\"text-align: right;\">40000</td><td style=\"text-align: right;\"> 34.7217</td><td style=\"text-align: right;\">                 142</td><td style=\"text-align: right;\">                   9</td><td style=\"text-align: right;\">           34.7217</td></tr>\n</tbody>\n</table><br><br>"
     },
     "metadata": {},
     "output_type": "display_data"
    },
    {
     "data": {
      "text/plain": "<IPython.core.display.HTML object>",
      "text/html": "== Status ==<br>Current time: 2021-11-23 20:02:38 (running for 00:10:34.34)<br>Memory usage on this node: 9.4/11.9 GiB<br>Using FIFO scheduling algorithm.<br>Resources requested: 0/3 CPUs, 0/0 GPUs, 0.0/1.4 GiB heap, 0.0/0.7 GiB objects<br>Result logdir: C:\\Users\\Stefan\\ray_results\\PPO<br>Number of trials: 1/1 (1 TERMINATED)<br><table>\n<thead>\n<tr><th>Trial name                       </th><th>status    </th><th>loc           </th><th style=\"text-align: right;\">  iter</th><th style=\"text-align: right;\">  total time (s)</th><th style=\"text-align: right;\">   ts</th><th style=\"text-align: right;\">  reward</th><th style=\"text-align: right;\">  episode_reward_max</th><th style=\"text-align: right;\">  episode_reward_min</th><th style=\"text-align: right;\">  episode_len_mean</th></tr>\n</thead>\n<tbody>\n<tr><td>PPO_StatelessCartPole_72c9b_00000</td><td>TERMINATED</td><td>127.0.0.1:8232</td><td style=\"text-align: right;\">    10</td><td style=\"text-align: right;\">          604.54</td><td style=\"text-align: right;\">40000</td><td style=\"text-align: right;\"> 34.7217</td><td style=\"text-align: right;\">                 142</td><td style=\"text-align: right;\">                   9</td><td style=\"text-align: right;\">           34.7217</td></tr>\n</tbody>\n</table><br><br>"
     },
     "metadata": {},
     "output_type": "display_data"
    },
    {
     "name": "stderr",
     "output_type": "stream",
     "text": [
      "\u001B[2m\u001B[36m(pid=8232)\u001B[0m [2021-11-23 20:02:38,188 E 8232 580] raylet_client.cc:159: IOError: Unknown error [RayletClient] Failed to disconnect from raylet.\r\n",
      "\u001B[2m\u001B[36m(pid=8232)\u001B[0m Windows fatal exception: access violation\n",
      "\u001B[2m\u001B[36m(pid=8232)\u001B[0m \n",
      "\u001B[2m\u001B[36m(pid=20100)\u001B[0m [2021-11-23 20:02:38,195 E 20100 5616] raylet_client.cc:159: IOError: Unknown error [RayletClient] Failed to disconnect from raylet.\r\n",
      "\u001B[2m\u001B[36m(pid=20100)\u001B[0m Windows fatal exception: access violation\n",
      "\u001B[2m\u001B[36m(pid=20100)\u001B[0m \n",
      "\u001B[2m\u001B[36m(pid=1604)\u001B[0m [2021-11-23 20:02:38,210 C 1604 16564] core_worker.cc:796:  Check failed: _s.ok() Bad status: IOError: Unknown error\n",
      "\u001B[2m\u001B[36m(pid=1604)\u001B[0m *** StackTrace Information ***\n",
      "\u001B[2m\u001B[36m(pid=1604)\u001B[0m     PyInit__raylet\n",
      "\u001B[2m\u001B[36m(pid=1604)\u001B[0m     PyInit__raylet\n",
      "\u001B[2m\u001B[36m(pid=1604)\u001B[0m     PyInit__raylet\n",
      "\u001B[2m\u001B[36m(pid=1604)\u001B[0m     PyInit__raylet\n",
      "\u001B[2m\u001B[36m(pid=1604)\u001B[0m     PyInit__raylet\n",
      "\u001B[2m\u001B[36m(pid=1604)\u001B[0m     PyInit__raylet\n",
      "\u001B[2m\u001B[36m(pid=1604)\u001B[0m     PyInit__raylet\n",
      "\u001B[2m\u001B[36m(pid=1604)\u001B[0m     PyInit__raylet\n",
      "\u001B[2m\u001B[36m(pid=1604)\u001B[0m     PyInit__raylet\n",
      "\u001B[2m\u001B[36m(pid=1604)\u001B[0m     PyInit__raylet\n",
      "\u001B[2m\u001B[36m(pid=1604)\u001B[0m     PyInit__raylet\n",
      "\u001B[2m\u001B[36m(pid=1604)\u001B[0m     PyInit__raylet\n",
      "\u001B[2m\u001B[36m(pid=1604)\u001B[0m     PyInit__raylet\n",
      "\u001B[2m\u001B[36m(pid=1604)\u001B[0m     PyInit__raylet\n",
      "\u001B[2m\u001B[36m(pid=1604)\u001B[0m     PyInit__raylet\n",
      "\u001B[2m\u001B[36m(pid=1604)\u001B[0m     PyInit__raylet\n",
      "\u001B[2m\u001B[36m(pid=1604)\u001B[0m     PyNumber_InPlaceLshift\n",
      "\u001B[2m\u001B[36m(pid=1604)\u001B[0m     Py_CheckFunctionResult\n",
      "\u001B[2m\u001B[36m(pid=1604)\u001B[0m     PyEval_EvalFrameDefault\n",
      "\u001B[2m\u001B[36m(pid=1604)\u001B[0m     Py_CheckFunctionResult\n",
      "\u001B[2m\u001B[36m(pid=1604)\u001B[0m     PyEval_EvalFrameDefault\n",
      "\u001B[2m\u001B[36m(pid=1604)\u001B[0m     PyEval_EvalCodeWithName\n",
      "\u001B[2m\u001B[36m(pid=1604)\u001B[0m     PyEval_EvalCodeEx\n",
      "\u001B[2m\u001B[36m(pid=1604)\u001B[0m     PyEval_EvalCode\n",
      "\u001B[2m\u001B[36m(pid=1604)\u001B[0m     PyArena_New\n",
      "\u001B[2m\u001B[36m(pid=1604)\u001B[0m     PyArena_New\n",
      "\u001B[2m\u001B[36m(pid=1604)\u001B[0m     PyRun_FileExFlags\n",
      "\u001B[2m\u001B[36m(pid=1604)\u001B[0m     PyRun_SimpleFileExFlags\n",
      "\u001B[2m\u001B[36m(pid=1604)\u001B[0m     PyRun_AnyFileExFlags\n",
      "\u001B[2m\u001B[36m(pid=1604)\u001B[0m     Py_FatalError\n",
      "\u001B[2m\u001B[36m(pid=1604)\u001B[0m     Py_RunMain\n",
      "\u001B[2m\u001B[36m(pid=1604)\u001B[0m     Py_RunMain\n",
      "\u001B[2m\u001B[36m(pid=1604)\u001B[0m     Py_Main\n",
      "\u001B[2m\u001B[36m(pid=1604)\u001B[0m     BaseThreadInitThunk\n",
      "\u001B[2m\u001B[36m(pid=1604)\u001B[0m     RtlUserThreadStart\n",
      "\u001B[2m\u001B[36m(pid=1604)\u001B[0m \r\n",
      "\u001B[2m\u001B[36m(pid=1604)\u001B[0m Windows fatal exception: access violation\n",
      "\u001B[2m\u001B[36m(pid=1604)\u001B[0m \n",
      "\u001B[2m\u001B[36m(pid=1604)\u001B[0m Stack (most recent call first):\n",
      "\u001B[2m\u001B[36m(pid=1604)\u001B[0m   File \"c:\\users\\stefan\\git-repos\\private\\blog\\venv\\lib\\site-packages\\ray\\worker.py\", line 425 in main_loop\n",
      "\u001B[2m\u001B[36m(pid=1604)\u001B[0m   File \"c:\\users\\stefan\\git-repos\\private\\blog\\venv\\lib\\site-packages\\ray\\workers/default_worker.py\", line 218 in <module>\n",
      "2021-11-23 20:02:38,318\tINFO tune.py:630 -- Total run time: 634.67 seconds (634.33 seconds for the tuning loop).\n"
     ]
    },
    {
     "name": "stdout",
     "output_type": "stream",
     "text": [
      "Option 3b: Training finished successfully\n"
     ]
    }
   ],
   "source": [
    "config3b = ppo.DEFAULT_CONFIG.copy()\n",
    "config3b[\"env\"] = \"StatelessCartPole\"\n",
    "config3b[\"model\"] = {\n",
    "    \"use_lstm\": True,\n",
    "    \"max_seq_len\": 10,\n",
    "}\n",
    "\n",
    "results3b = ray.tune.run(\"PPO\", config=config3b, stop=stop)\n",
    "print(\"Option 3b: Training finished successfully\")"
   ],
   "metadata": {
    "collapsed": false,
    "pycharm": {
     "name": "#%%\n"
    }
   }
  },
  {
   "cell_type": "code",
   "execution_count": 46,
   "outputs": [
    {
     "data": {
      "text/plain": "34.721739130434784"
     },
     "execution_count": 46,
     "metadata": {},
     "output_type": "execute_result"
    }
   ],
   "source": [
    "# check results\n",
    "results3b.default_metric = \"episode_reward_mean\"\n",
    "results3b.default_mode = \"max\"\n",
    "# print the mean episode reward = episode length --> higher = better\n",
    "results3b.best_result[\"episode_reward_mean\"]"
   ],
   "metadata": {
    "collapsed": false,
    "pycharm": {
     "name": "#%%\n"
    }
   }
  },
  {
   "cell_type": "code",
   "execution_count": 47,
   "outputs": [
    {
     "name": "stderr",
     "output_type": "stream",
     "text": [
      "c:\\users\\stefan\\git-repos\\private\\blog\\venv\\lib\\site-packages\\seaborn\\_decorators.py:36: FutureWarning: Pass the following variables as keyword args: x, y. From version 0.12, the only valid positional argument will be `data`, and passing other arguments without an explicit keyword will result in an error or misinterpretation.\n",
      "  warnings.warn(\n"
     ]
    },
    {
     "data": {
      "text/plain": "<Figure size 432x288 with 1 Axes>",
      "image/png": "[encoded data removed]"
     },
     "metadata": {
      "needs_background": "light"
     },
     "output_type": "display_data"
    }
   ],
   "source": [
    "plot_rewards(results3b)"
   ],
   "metadata": {
    "collapsed": false,
    "pycharm": {
     "name": "#%%\n"
    }
   }
  },
  {
   "cell_type": "markdown",
   "source": [
    "### Option 3c: Use Attention for Processing the Sequence\n",
    "\n",
    "TODO: continue here\n",
    "https://github.com/ray-project/ray/blob/master/rllib/examples/attention_net.py\n",
    "\n",
    "> Tip: Also check out the [RLlib example using AttentionNet](https://github.com/ray-project/ray/blob/master/rllib/examples/attention_net.py).\n"
   ],
   "metadata": {
    "collapsed": false,
    "pycharm": {
     "name": "#%% md\n"
    }
   }
  },
  {
   "cell_type": "code",
   "execution_count": 48,
   "outputs": [
    {
     "data": {
      "text/plain": "<IPython.core.display.HTML object>",
      "text/html": "== Status ==<br>Current time: 2021-11-23 20:02:38 (running for 00:00:00.12)<br>Memory usage on this node: 8.5/11.9 GiB<br>Using FIFO scheduling algorithm.<br>Resources requested: 0/3 CPUs, 0/0 GPUs, 0.0/1.4 GiB heap, 0.0/0.7 GiB objects<br>Result logdir: C:\\Users\\Stefan\\ray_results\\PPO<br>Number of trials: 1/1 (1 PENDING)<br><table>\n<thead>\n<tr><th>Trial name                       </th><th>status  </th><th>loc  </th></tr>\n</thead>\n<tbody>\n<tr><td>PPO_StatelessCartPole_ed349_00000</td><td>PENDING </td><td>     </td></tr>\n</tbody>\n</table><br><br>"
     },
     "metadata": {},
     "output_type": "display_data"
    },
    {
     "name": "stderr",
     "output_type": "stream",
     "text": [
      "\u001B[2m\u001B[36m(pid=None)\u001B[0m c:\\users\\stefan\\git-repos\\private\\blog\\venv\\lib\\site-packages\\redis\\connection.py:77: UserWarning: redis-py works best with hiredis. Please consider installing\r\n",
      "\u001B[2m\u001B[36m(pid=None)\u001B[0m   warnings.warn(msg)\r\n"
     ]
    },
    {
     "data": {
      "text/plain": "<IPython.core.display.HTML object>",
      "text/html": "== Status ==<br>Current time: 2021-11-23 20:02:43 (running for 00:00:05.12)<br>Memory usage on this node: 8.5/11.9 GiB<br>Using FIFO scheduling algorithm.<br>Resources requested: 0/3 CPUs, 0/0 GPUs, 0.0/1.4 GiB heap, 0.0/0.7 GiB objects<br>Result logdir: C:\\Users\\Stefan\\ray_results\\PPO<br>Number of trials: 1/1 (1 PENDING)<br><table>\n<thead>\n<tr><th>Trial name                       </th><th>status  </th><th>loc  </th></tr>\n</thead>\n<tbody>\n<tr><td>PPO_StatelessCartPole_ed349_00000</td><td>PENDING </td><td>     </td></tr>\n</tbody>\n</table><br><br>"
     },
     "metadata": {},
     "output_type": "display_data"
    },
    {
     "name": "stderr",
     "output_type": "stream",
     "text": [
      "\u001B[2m\u001B[36m(pid=20568)\u001B[0m 2021-11-23 20:02:50,120\tINFO trainer.py:753 -- Tip: set framework=tfe or the --eager flag to enable TensorFlow eager execution\r\n",
      "\u001B[2m\u001B[36m(pid=20568)\u001B[0m 2021-11-23 20:02:50,120\tINFO ppo.py:166 -- In multi-agent mode, policies will be optimized sequentially by the multi-GPU optimizer. Consider setting simple_optimizer=True if this doesn't work for you.\r\n",
      "\u001B[2m\u001B[36m(pid=20568)\u001B[0m 2021-11-23 20:02:50,120\tINFO trainer.py:770 -- Current log_level is WARN. For more information, set 'log_level': 'INFO' / 'DEBUG' or use the -v and -vv flags.\r\n",
      "\u001B[2m\u001B[36m(pid=None)\u001B[0m c:\\users\\stefan\\git-repos\\private\\blog\\venv\\lib\\site-packages\\redis\\connection.py:77: UserWarning: redis-py works best with hiredis. Please consider installing\r\n",
      "\u001B[2m\u001B[36m(pid=None)\u001B[0m   warnings.warn(msg)\r\n",
      "\u001B[2m\u001B[36m(pid=None)\u001B[0m c:\\users\\stefan\\git-repos\\private\\blog\\venv\\lib\\site-packages\\redis\\connection.py:77: UserWarning: redis-py works best with hiredis. Please consider installing\r\n",
      "\u001B[2m\u001B[36m(pid=None)\u001B[0m   warnings.warn(msg)\r\n"
     ]
    },
    {
     "data": {
      "text/plain": "<IPython.core.display.HTML object>",
      "text/html": "== Status ==<br>Current time: 2021-11-23 20:03:15 (running for 00:00:37.17)<br>Memory usage on this node: 9.5/11.9 GiB<br>Using FIFO scheduling algorithm.<br>Resources requested: 3.0/3 CPUs, 0/0 GPUs, 0.0/1.4 GiB heap, 0.0/0.7 GiB objects<br>Result logdir: C:\\Users\\Stefan\\ray_results\\PPO<br>Number of trials: 1/1 (1 RUNNING)<br><table>\n<thead>\n<tr><th>Trial name                       </th><th>status  </th><th>loc            </th></tr>\n</thead>\n<tbody>\n<tr><td>PPO_StatelessCartPole_ed349_00000</td><td>RUNNING </td><td>127.0.0.1:20568</td></tr>\n</tbody>\n</table><br><br>"
     },
     "metadata": {},
     "output_type": "display_data"
    },
    {
     "name": "stderr",
     "output_type": "stream",
     "text": [
      "\u001B[2m\u001B[36m(pid=20568)\u001B[0m 2021-11-23 20:03:15,691\tWARNING trainer_template.py:185 -- `execution_plan` functions should accept `trainer`, `workers`, and `config` as args!\r\n",
      "\u001B[2m\u001B[36m(pid=20568)\u001B[0m 2021-11-23 20:03:15,691\tINFO trainable.py:110 -- Trainable.setup took 25.571 seconds. If your trainable is slow to initialize, consider setting reuse_actors=True to reduce actor creation overheads.\r\n",
      "\u001B[2m\u001B[36m(pid=20568)\u001B[0m 2021-11-23 20:03:15,707\tWARNING util.py:57 -- Install gputil for GPU system monitoring.\r\n"
     ]
    },
    {
     "data": {
      "text/plain": "<IPython.core.display.HTML object>",
      "text/html": "== Status ==<br>Current time: 2021-11-23 20:03:16 (running for 00:00:38.19)<br>Memory usage on this node: 9.5/11.9 GiB<br>Using FIFO scheduling algorithm.<br>Resources requested: 3.0/3 CPUs, 0/0 GPUs, 0.0/1.4 GiB heap, 0.0/0.7 GiB objects<br>Result logdir: C:\\Users\\Stefan\\ray_results\\PPO<br>Number of trials: 1/1 (1 RUNNING)<br><table>\n<thead>\n<tr><th>Trial name                       </th><th>status  </th><th>loc            </th></tr>\n</thead>\n<tbody>\n<tr><td>PPO_StatelessCartPole_ed349_00000</td><td>RUNNING </td><td>127.0.0.1:20568</td></tr>\n</tbody>\n</table><br><br>"
     },
     "metadata": {},
     "output_type": "display_data"
    },
    {
     "data": {
      "text/plain": "<IPython.core.display.HTML object>",
      "text/html": "== Status ==<br>Current time: 2021-11-23 20:03:21 (running for 00:00:43.22)<br>Memory usage on this node: 9.5/11.9 GiB<br>Using FIFO scheduling algorithm.<br>Resources requested: 3.0/3 CPUs, 0/0 GPUs, 0.0/1.4 GiB heap, 0.0/0.7 GiB objects<br>Result logdir: C:\\Users\\Stefan\\ray_results\\PPO<br>Number of trials: 1/1 (1 RUNNING)<br><table>\n<thead>\n<tr><th>Trial name                       </th><th>status  </th><th>loc            </th></tr>\n</thead>\n<tbody>\n<tr><td>PPO_StatelessCartPole_ed349_00000</td><td>RUNNING </td><td>127.0.0.1:20568</td></tr>\n</tbody>\n</table><br><br>"
     },
     "metadata": {},
     "output_type": "display_data"
    },
    {
     "name": "stderr",
     "output_type": "stream",
     "text": [
      "\u001B[2m\u001B[36m(pid=20568)\u001B[0m 2021-11-23 20:03:22,282\tWARNING deprecation.py:38 -- DeprecationWarning: `slice` has been deprecated. Use `SampleBatch[start:stop]` instead. This will raise an error in the future!\r\n"
     ]
    },
    {
     "data": {
      "text/plain": "<IPython.core.display.HTML object>",
      "text/html": "== Status ==<br>Current time: 2021-11-23 20:03:26 (running for 00:00:48.26)<br>Memory usage on this node: 9.4/11.9 GiB<br>Using FIFO scheduling algorithm.<br>Resources requested: 3.0/3 CPUs, 0/0 GPUs, 0.0/1.4 GiB heap, 0.0/0.7 GiB objects<br>Result logdir: C:\\Users\\Stefan\\ray_results\\PPO<br>Number of trials: 1/1 (1 RUNNING)<br><table>\n<thead>\n<tr><th>Trial name                       </th><th>status  </th><th>loc            </th></tr>\n</thead>\n<tbody>\n<tr><td>PPO_StatelessCartPole_ed349_00000</td><td>RUNNING </td><td>127.0.0.1:20568</td></tr>\n</tbody>\n</table><br><br>"
     },
     "metadata": {},
     "output_type": "display_data"
    },
    {
     "data": {
      "text/plain": "<IPython.core.display.HTML object>",
      "text/html": "== Status ==<br>Current time: 2021-11-23 20:03:31 (running for 00:00:53.30)<br>Memory usage on this node: 9.4/11.9 GiB<br>Using FIFO scheduling algorithm.<br>Resources requested: 3.0/3 CPUs, 0/0 GPUs, 0.0/1.4 GiB heap, 0.0/0.7 GiB objects<br>Result logdir: C:\\Users\\Stefan\\ray_results\\PPO<br>Number of trials: 1/1 (1 RUNNING)<br><table>\n<thead>\n<tr><th>Trial name                       </th><th>status  </th><th>loc            </th></tr>\n</thead>\n<tbody>\n<tr><td>PPO_StatelessCartPole_ed349_00000</td><td>RUNNING </td><td>127.0.0.1:20568</td></tr>\n</tbody>\n</table><br><br>"
     },
     "metadata": {},
     "output_type": "display_data"
    },
    {
     "name": "stdout",
     "output_type": "stream",
     "text": [
      "Result for PPO_StatelessCartPole_ed349_00000:\n",
      "  agent_timesteps_total: 4000\n",
      "  custom_metrics: {}\n",
      "  date: 2021-11-23_20-03-32\n",
      "  done: false\n",
      "  episode_len_mean: 21.262032085561497\n",
      "  episode_media: {}\n",
      "  episode_reward_max: 81.0\n",
      "  episode_reward_mean: 21.262032085561497\n",
      "  episode_reward_min: 9.0\n",
      "  episodes_this_iter: 187\n",
      "  episodes_total: 187\n",
      "  experiment_id: a20dca4fd94f46728886d8f17aa6afef\n",
      "  hostname: nb-stschn\n",
      "  info:\n",
      "    learner:\n",
      "      default_policy:\n",
      "        custom_metrics: {}\n",
      "        learner_stats:\n",
      "          cur_kl_coeff: 0.20000000298023224\n",
      "          cur_lr: 4.999999873689376e-05\n",
      "          entropy: 0.679179847240448\n",
      "          entropy_coeff: 0.0\n",
      "          kl: 0.010041364468634129\n",
      "          policy_loss: -0.0052756150253117085\n",
      "          total_loss: 135.094482421875\n",
      "          vf_explained_var: 0.0008982037543319166\n",
      "          vf_loss: 135.09776306152344\n",
      "    num_agent_steps_sampled: 4000\n",
      "    num_agent_steps_trained: 4000\n",
      "    num_steps_sampled: 4000\n",
      "    num_steps_trained: 4000\n",
      "  iterations_since_restore: 1\n",
      "  node_ip: 127.0.0.1\n",
      "  num_healthy_workers: 2\n",
      "  off_policy_estimator: {}\n",
      "  perf:\n",
      "    cpu_util_percent: 66.72500000000001\n",
      "    ram_util_percent: 79.61666666666666\n",
      "  pid: 20568\n",
      "  policy_reward_max: {}\n",
      "  policy_reward_mean: {}\n",
      "  policy_reward_min: {}\n",
      "  sampler_perf:\n",
      "    mean_action_processing_ms: 0.13870225359985883\n",
      "    mean_env_render_ms: 0.0\n",
      "    mean_env_wait_ms: 0.1022438821692007\n",
      "    mean_inference_ms: 2.737450140975867\n",
      "    mean_raw_obs_processing_ms: 0.15954027010571947\n",
      "  time_since_restore: 16.811930418014526\n",
      "  time_this_iter_s: 16.811930418014526\n",
      "  time_total_s: 16.811930418014526\n",
      "  timers:\n",
      "    learn_throughput: 391.349\n",
      "    learn_time_ms: 10221.063\n",
      "    load_throughput: 0.0\n",
      "    load_time_ms: 0.0\n",
      "    sample_throughput: 607.541\n",
      "    sample_time_ms: 6583.918\n",
      "    update_time_ms: 15.643\n",
      "  timestamp: 1637694212\n",
      "  timesteps_since_restore: 0\n",
      "  timesteps_this_iter: 0\n",
      "  timesteps_total: 4000\n",
      "  training_iteration: 1\n",
      "  trial_id: ed349_00000\n",
      "  \n"
     ]
    },
    {
     "data": {
      "text/plain": "<IPython.core.display.HTML object>",
      "text/html": "== Status ==<br>Current time: 2021-11-23 20:03:38 (running for 00:01:00.03)<br>Memory usage on this node: 9.4/11.9 GiB<br>Using FIFO scheduling algorithm.<br>Resources requested: 3.0/3 CPUs, 0/0 GPUs, 0.0/1.4 GiB heap, 0.0/0.7 GiB objects<br>Result logdir: C:\\Users\\Stefan\\ray_results\\PPO<br>Number of trials: 1/1 (1 RUNNING)<br><table>\n<thead>\n<tr><th>Trial name                       </th><th>status  </th><th>loc            </th><th style=\"text-align: right;\">  iter</th><th style=\"text-align: right;\">  total time (s)</th><th style=\"text-align: right;\">  ts</th><th style=\"text-align: right;\">  reward</th><th style=\"text-align: right;\">  episode_reward_max</th><th style=\"text-align: right;\">  episode_reward_min</th><th style=\"text-align: right;\">  episode_len_mean</th></tr>\n</thead>\n<tbody>\n<tr><td>PPO_StatelessCartPole_ed349_00000</td><td>RUNNING </td><td>127.0.0.1:20568</td><td style=\"text-align: right;\">     1</td><td style=\"text-align: right;\">         16.8119</td><td style=\"text-align: right;\">4000</td><td style=\"text-align: right;\">  21.262</td><td style=\"text-align: right;\">                  81</td><td style=\"text-align: right;\">                   9</td><td style=\"text-align: right;\">            21.262</td></tr>\n</tbody>\n</table><br><br>"
     },
     "metadata": {},
     "output_type": "display_data"
    },
    {
     "data": {
      "text/plain": "<IPython.core.display.HTML object>",
      "text/html": "== Status ==<br>Current time: 2021-11-23 20:03:43 (running for 00:01:05.04)<br>Memory usage on this node: 9.4/11.9 GiB<br>Using FIFO scheduling algorithm.<br>Resources requested: 3.0/3 CPUs, 0/0 GPUs, 0.0/1.4 GiB heap, 0.0/0.7 GiB objects<br>Result logdir: C:\\Users\\Stefan\\ray_results\\PPO<br>Number of trials: 1/1 (1 RUNNING)<br><table>\n<thead>\n<tr><th>Trial name                       </th><th>status  </th><th>loc            </th><th style=\"text-align: right;\">  iter</th><th style=\"text-align: right;\">  total time (s)</th><th style=\"text-align: right;\">  ts</th><th style=\"text-align: right;\">  reward</th><th style=\"text-align: right;\">  episode_reward_max</th><th style=\"text-align: right;\">  episode_reward_min</th><th style=\"text-align: right;\">  episode_len_mean</th></tr>\n</thead>\n<tbody>\n<tr><td>PPO_StatelessCartPole_ed349_00000</td><td>RUNNING </td><td>127.0.0.1:20568</td><td style=\"text-align: right;\">     1</td><td style=\"text-align: right;\">         16.8119</td><td style=\"text-align: right;\">4000</td><td style=\"text-align: right;\">  21.262</td><td style=\"text-align: right;\">                  81</td><td style=\"text-align: right;\">                   9</td><td style=\"text-align: right;\">            21.262</td></tr>\n</tbody>\n</table><br><br>"
     },
     "metadata": {},
     "output_type": "display_data"
    },
    {
     "name": "stdout",
     "output_type": "stream",
     "text": [
      "Result for PPO_StatelessCartPole_ed349_00000:\n",
      "  agent_timesteps_total: 8000\n",
      "  custom_metrics: {}\n",
      "  date: 2021-11-23_20-03-47\n",
      "  done: false\n",
      "  episode_len_mean: 24.08433734939759\n",
      "  episode_media: {}\n",
      "  episode_reward_max: 82.0\n",
      "  episode_reward_mean: 24.08433734939759\n",
      "  episode_reward_min: 9.0\n",
      "  episodes_this_iter: 166\n",
      "  episodes_total: 353\n",
      "  experiment_id: a20dca4fd94f46728886d8f17aa6afef\n",
      "  hostname: nb-stschn\n",
      "  info:\n",
      "    learner:\n",
      "      default_policy:\n",
      "        custom_metrics: {}\n",
      "        learner_stats:\n",
      "          cur_kl_coeff: 0.20000000298023224\n",
      "          cur_lr: 4.999999873689376e-05\n",
      "          entropy: 0.6655676960945129\n",
      "          entropy_coeff: 0.0\n",
      "          kl: 0.029991917312145233\n",
      "          policy_loss: -0.008723784238100052\n",
      "          total_loss: 85.6485366821289\n",
      "          vf_explained_var: 0.015965590253472328\n",
      "          vf_loss: 85.65127563476562\n",
      "    num_agent_steps_sampled: 8000\n",
      "    num_agent_steps_trained: 8000\n",
      "    num_steps_sampled: 8000\n",
      "    num_steps_trained: 8000\n",
      "    num_steps_trained_this_iter: 0\n",
      "  iterations_since_restore: 2\n",
      "  node_ip: 127.0.0.1\n",
      "  num_healthy_workers: 2\n",
      "  off_policy_estimator: {}\n",
      "  perf:\n",
      "    cpu_util_percent: 67.44285714285714\n",
      "    ram_util_percent: 79.24285714285715\n",
      "  pid: 20568\n",
      "  policy_reward_max: {}\n",
      "  policy_reward_mean: {}\n",
      "  policy_reward_min: {}\n",
      "  sampler_perf:\n",
      "    mean_action_processing_ms: 0.1277501688573218\n",
      "    mean_env_render_ms: 0.0\n",
      "    mean_env_wait_ms: 0.11326583794610731\n",
      "    mean_inference_ms: 2.603407741576187\n",
      "    mean_raw_obs_processing_ms: 0.18985802994403683\n",
      "  time_since_restore: 31.74670386314392\n",
      "  time_this_iter_s: 14.934773445129395\n",
      "  time_total_s: 31.74670386314392\n",
      "  timers:\n",
      "    learn_throughput: 418.255\n",
      "    learn_time_ms: 9563.554\n",
      "    load_throughput: 0.0\n",
      "    load_time_ms: 0.0\n",
      "    sample_throughput: 350.253\n",
      "    sample_time_ms: 11420.308\n",
      "    update_time_ms: 15.649\n",
      "  timestamp: 1637694227\n",
      "  timesteps_since_restore: 0\n",
      "  timesteps_this_iter: 0\n",
      "  timesteps_total: 8000\n",
      "  training_iteration: 2\n",
      "  trial_id: ed349_00000\n",
      "  \n"
     ]
    },
    {
     "data": {
      "text/plain": "<IPython.core.display.HTML object>",
      "text/html": "== Status ==<br>Current time: 2021-11-23 20:03:49 (running for 00:01:11.01)<br>Memory usage on this node: 9.4/11.9 GiB<br>Using FIFO scheduling algorithm.<br>Resources requested: 3.0/3 CPUs, 0/0 GPUs, 0.0/1.4 GiB heap, 0.0/0.7 GiB objects<br>Result logdir: C:\\Users\\Stefan\\ray_results\\PPO<br>Number of trials: 1/1 (1 RUNNING)<br><table>\n<thead>\n<tr><th>Trial name                       </th><th>status  </th><th>loc            </th><th style=\"text-align: right;\">  iter</th><th style=\"text-align: right;\">  total time (s)</th><th style=\"text-align: right;\">  ts</th><th style=\"text-align: right;\">  reward</th><th style=\"text-align: right;\">  episode_reward_max</th><th style=\"text-align: right;\">  episode_reward_min</th><th style=\"text-align: right;\">  episode_len_mean</th></tr>\n</thead>\n<tbody>\n<tr><td>PPO_StatelessCartPole_ed349_00000</td><td>RUNNING </td><td>127.0.0.1:20568</td><td style=\"text-align: right;\">     2</td><td style=\"text-align: right;\">         31.7467</td><td style=\"text-align: right;\">8000</td><td style=\"text-align: right;\"> 24.0843</td><td style=\"text-align: right;\">                  82</td><td style=\"text-align: right;\">                   9</td><td style=\"text-align: right;\">           24.0843</td></tr>\n</tbody>\n</table><br><br>"
     },
     "metadata": {},
     "output_type": "display_data"
    },
    {
     "data": {
      "text/plain": "<IPython.core.display.HTML object>",
      "text/html": "== Status ==<br>Current time: 2021-11-23 20:03:54 (running for 00:01:16.04)<br>Memory usage on this node: 9.4/11.9 GiB<br>Using FIFO scheduling algorithm.<br>Resources requested: 3.0/3 CPUs, 0/0 GPUs, 0.0/1.4 GiB heap, 0.0/0.7 GiB objects<br>Result logdir: C:\\Users\\Stefan\\ray_results\\PPO<br>Number of trials: 1/1 (1 RUNNING)<br><table>\n<thead>\n<tr><th>Trial name                       </th><th>status  </th><th>loc            </th><th style=\"text-align: right;\">  iter</th><th style=\"text-align: right;\">  total time (s)</th><th style=\"text-align: right;\">  ts</th><th style=\"text-align: right;\">  reward</th><th style=\"text-align: right;\">  episode_reward_max</th><th style=\"text-align: right;\">  episode_reward_min</th><th style=\"text-align: right;\">  episode_len_mean</th></tr>\n</thead>\n<tbody>\n<tr><td>PPO_StatelessCartPole_ed349_00000</td><td>RUNNING </td><td>127.0.0.1:20568</td><td style=\"text-align: right;\">     2</td><td style=\"text-align: right;\">         31.7467</td><td style=\"text-align: right;\">8000</td><td style=\"text-align: right;\"> 24.0843</td><td style=\"text-align: right;\">                  82</td><td style=\"text-align: right;\">                   9</td><td style=\"text-align: right;\">           24.0843</td></tr>\n</tbody>\n</table><br><br>"
     },
     "metadata": {},
     "output_type": "display_data"
    },
    {
     "data": {
      "text/plain": "<IPython.core.display.HTML object>",
      "text/html": "== Status ==<br>Current time: 2021-11-23 20:03:59 (running for 00:01:21.07)<br>Memory usage on this node: 9.4/11.9 GiB<br>Using FIFO scheduling algorithm.<br>Resources requested: 3.0/3 CPUs, 0/0 GPUs, 0.0/1.4 GiB heap, 0.0/0.7 GiB objects<br>Result logdir: C:\\Users\\Stefan\\ray_results\\PPO<br>Number of trials: 1/1 (1 RUNNING)<br><table>\n<thead>\n<tr><th>Trial name                       </th><th>status  </th><th>loc            </th><th style=\"text-align: right;\">  iter</th><th style=\"text-align: right;\">  total time (s)</th><th style=\"text-align: right;\">  ts</th><th style=\"text-align: right;\">  reward</th><th style=\"text-align: right;\">  episode_reward_max</th><th style=\"text-align: right;\">  episode_reward_min</th><th style=\"text-align: right;\">  episode_len_mean</th></tr>\n</thead>\n<tbody>\n<tr><td>PPO_StatelessCartPole_ed349_00000</td><td>RUNNING </td><td>127.0.0.1:20568</td><td style=\"text-align: right;\">     2</td><td style=\"text-align: right;\">         31.7467</td><td style=\"text-align: right;\">8000</td><td style=\"text-align: right;\"> 24.0843</td><td style=\"text-align: right;\">                  82</td><td style=\"text-align: right;\">                   9</td><td style=\"text-align: right;\">           24.0843</td></tr>\n</tbody>\n</table><br><br>"
     },
     "metadata": {},
     "output_type": "display_data"
    },
    {
     "name": "stdout",
     "output_type": "stream",
     "text": [
      "Result for PPO_StatelessCartPole_ed349_00000:\n",
      "  agent_timesteps_total: 12000\n",
      "  custom_metrics: {}\n",
      "  date: 2021-11-23_20-04-02\n",
      "  done: false\n",
      "  episode_len_mean: 32.60655737704918\n",
      "  episode_media: {}\n",
      "  episode_reward_max: 97.0\n",
      "  episode_reward_mean: 32.60655737704918\n",
      "  episode_reward_min: 9.0\n",
      "  episodes_this_iter: 122\n",
      "  episodes_total: 475\n",
      "  experiment_id: a20dca4fd94f46728886d8f17aa6afef\n",
      "  hostname: nb-stschn\n",
      "  info:\n",
      "    learner:\n",
      "      default_policy:\n",
      "        custom_metrics: {}\n",
      "        learner_stats:\n",
      "          cur_kl_coeff: 0.30000001192092896\n",
      "          cur_lr: 4.999999873689376e-05\n",
      "          entropy: 0.6112883687019348\n",
      "          entropy_coeff: 0.0\n",
      "          kl: 0.015228519216179848\n",
      "          policy_loss: 0.006799531634896994\n",
      "          total_loss: 151.49966430664062\n",
      "          vf_explained_var: -0.026928376406431198\n",
      "          vf_loss: 151.48826599121094\n",
      "    num_agent_steps_sampled: 12000\n",
      "    num_agent_steps_trained: 12000\n",
      "    num_steps_sampled: 12000\n",
      "    num_steps_trained: 12000\n",
      "    num_steps_trained_this_iter: 0\n",
      "  iterations_since_restore: 3\n",
      "  node_ip: 127.0.0.1\n",
      "  num_healthy_workers: 2\n",
      "  off_policy_estimator: {}\n",
      "  perf:\n",
      "    cpu_util_percent: 72.21818181818183\n",
      "    ram_util_percent: 79.36818181818184\n",
      "  pid: 20568\n",
      "  policy_reward_max: {}\n",
      "  policy_reward_mean: {}\n",
      "  policy_reward_min: {}\n",
      "  sampler_perf:\n",
      "    mean_action_processing_ms: 0.1149022924158573\n",
      "    mean_env_render_ms: 0.0\n",
      "    mean_env_wait_ms: 0.10434793925303647\n",
      "    mean_inference_ms: 2.6525577250451606\n",
      "    mean_raw_obs_processing_ms: 0.18465553438192175\n",
      "  time_since_restore: 47.18710970878601\n",
      "  time_this_iter_s: 15.44040584564209\n",
      "  time_total_s: 47.18710970878601\n",
      "  timers:\n",
      "    learn_throughput: 424.782\n",
      "    learn_time_ms: 9416.586\n",
      "    load_throughput: 0.0\n",
      "    load_time_ms: 0.0\n",
      "    sample_throughput: 314.62\n",
      "    sample_time_ms: 12713.742\n",
      "    update_time_ms: 15.641\n",
      "  timestamp: 1637694242\n",
      "  timesteps_since_restore: 0\n",
      "  timesteps_this_iter: 0\n",
      "  timesteps_total: 12000\n",
      "  training_iteration: 3\n",
      "  trial_id: ed349_00000\n",
      "  \n"
     ]
    },
    {
     "data": {
      "text/plain": "<IPython.core.display.HTML object>",
      "text/html": "== Status ==<br>Current time: 2021-11-23 20:04:05 (running for 00:01:26.48)<br>Memory usage on this node: 9.4/11.9 GiB<br>Using FIFO scheduling algorithm.<br>Resources requested: 3.0/3 CPUs, 0/0 GPUs, 0.0/1.4 GiB heap, 0.0/0.7 GiB objects<br>Result logdir: C:\\Users\\Stefan\\ray_results\\PPO<br>Number of trials: 1/1 (1 RUNNING)<br><table>\n<thead>\n<tr><th>Trial name                       </th><th>status  </th><th>loc            </th><th style=\"text-align: right;\">  iter</th><th style=\"text-align: right;\">  total time (s)</th><th style=\"text-align: right;\">   ts</th><th style=\"text-align: right;\">  reward</th><th style=\"text-align: right;\">  episode_reward_max</th><th style=\"text-align: right;\">  episode_reward_min</th><th style=\"text-align: right;\">  episode_len_mean</th></tr>\n</thead>\n<tbody>\n<tr><td>PPO_StatelessCartPole_ed349_00000</td><td>RUNNING </td><td>127.0.0.1:20568</td><td style=\"text-align: right;\">     3</td><td style=\"text-align: right;\">         47.1871</td><td style=\"text-align: right;\">12000</td><td style=\"text-align: right;\"> 32.6066</td><td style=\"text-align: right;\">                  97</td><td style=\"text-align: right;\">                   9</td><td style=\"text-align: right;\">           32.6066</td></tr>\n</tbody>\n</table><br><br>"
     },
     "metadata": {},
     "output_type": "display_data"
    },
    {
     "data": {
      "text/plain": "<IPython.core.display.HTML object>",
      "text/html": "== Status ==<br>Current time: 2021-11-23 20:04:10 (running for 00:01:31.51)<br>Memory usage on this node: 9.4/11.9 GiB<br>Using FIFO scheduling algorithm.<br>Resources requested: 3.0/3 CPUs, 0/0 GPUs, 0.0/1.4 GiB heap, 0.0/0.7 GiB objects<br>Result logdir: C:\\Users\\Stefan\\ray_results\\PPO<br>Number of trials: 1/1 (1 RUNNING)<br><table>\n<thead>\n<tr><th>Trial name                       </th><th>status  </th><th>loc            </th><th style=\"text-align: right;\">  iter</th><th style=\"text-align: right;\">  total time (s)</th><th style=\"text-align: right;\">   ts</th><th style=\"text-align: right;\">  reward</th><th style=\"text-align: right;\">  episode_reward_max</th><th style=\"text-align: right;\">  episode_reward_min</th><th style=\"text-align: right;\">  episode_len_mean</th></tr>\n</thead>\n<tbody>\n<tr><td>PPO_StatelessCartPole_ed349_00000</td><td>RUNNING </td><td>127.0.0.1:20568</td><td style=\"text-align: right;\">     3</td><td style=\"text-align: right;\">         47.1871</td><td style=\"text-align: right;\">12000</td><td style=\"text-align: right;\"> 32.6066</td><td style=\"text-align: right;\">                  97</td><td style=\"text-align: right;\">                   9</td><td style=\"text-align: right;\">           32.6066</td></tr>\n</tbody>\n</table><br><br>"
     },
     "metadata": {},
     "output_type": "display_data"
    },
    {
     "data": {
      "text/plain": "<IPython.core.display.HTML object>",
      "text/html": "== Status ==<br>Current time: 2021-11-23 20:04:15 (running for 00:01:36.55)<br>Memory usage on this node: 9.4/11.9 GiB<br>Using FIFO scheduling algorithm.<br>Resources requested: 3.0/3 CPUs, 0/0 GPUs, 0.0/1.4 GiB heap, 0.0/0.7 GiB objects<br>Result logdir: C:\\Users\\Stefan\\ray_results\\PPO<br>Number of trials: 1/1 (1 RUNNING)<br><table>\n<thead>\n<tr><th>Trial name                       </th><th>status  </th><th>loc            </th><th style=\"text-align: right;\">  iter</th><th style=\"text-align: right;\">  total time (s)</th><th style=\"text-align: right;\">   ts</th><th style=\"text-align: right;\">  reward</th><th style=\"text-align: right;\">  episode_reward_max</th><th style=\"text-align: right;\">  episode_reward_min</th><th style=\"text-align: right;\">  episode_len_mean</th></tr>\n</thead>\n<tbody>\n<tr><td>PPO_StatelessCartPole_ed349_00000</td><td>RUNNING </td><td>127.0.0.1:20568</td><td style=\"text-align: right;\">     3</td><td style=\"text-align: right;\">         47.1871</td><td style=\"text-align: right;\">12000</td><td style=\"text-align: right;\"> 32.6066</td><td style=\"text-align: right;\">                  97</td><td style=\"text-align: right;\">                   9</td><td style=\"text-align: right;\">           32.6066</td></tr>\n</tbody>\n</table><br><br>"
     },
     "metadata": {},
     "output_type": "display_data"
    },
    {
     "name": "stdout",
     "output_type": "stream",
     "text": [
      "Result for PPO_StatelessCartPole_ed349_00000:\n",
      "  agent_timesteps_total: 16000\n",
      "  custom_metrics: {}\n",
      "  date: 2021-11-23_20-04-17\n",
      "  done: false\n",
      "  episode_len_mean: 31.936507936507937\n",
      "  episode_media: {}\n",
      "  episode_reward_max: 127.0\n",
      "  episode_reward_mean: 31.936507936507937\n",
      "  episode_reward_min: 10.0\n",
      "  episodes_this_iter: 126\n",
      "  episodes_total: 601\n",
      "  experiment_id: a20dca4fd94f46728886d8f17aa6afef\n",
      "  hostname: nb-stschn\n",
      "  info:\n",
      "    learner:\n",
      "      default_policy:\n",
      "        custom_metrics: {}\n",
      "        learner_stats:\n",
      "          cur_kl_coeff: 0.30000001192092896\n",
      "          cur_lr: 4.999999873689376e-05\n",
      "          entropy: 0.5917171835899353\n",
      "          entropy_coeff: 0.0\n",
      "          kl: 0.007773145567625761\n",
      "          policy_loss: -0.01154142152518034\n",
      "          total_loss: 164.59902954101562\n",
      "          vf_explained_var: -0.02803165465593338\n",
      "          vf_loss: 164.60824584960938\n",
      "    num_agent_steps_sampled: 16000\n",
      "    num_agent_steps_trained: 16000\n",
      "    num_steps_sampled: 16000\n",
      "    num_steps_trained: 16000\n",
      "    num_steps_trained_this_iter: 0\n",
      "  iterations_since_restore: 4\n",
      "  node_ip: 127.0.0.1\n",
      "  num_healthy_workers: 2\n",
      "  off_policy_estimator: {}\n",
      "  perf:\n",
      "    cpu_util_percent: 66.67619047619047\n",
      "    ram_util_percent: 79.35714285714285\n",
      "  pid: 20568\n",
      "  policy_reward_max: {}\n",
      "  policy_reward_mean: {}\n",
      "  policy_reward_min: {}\n",
      "  sampler_perf:\n",
      "    mean_action_processing_ms: 0.12170966858758006\n",
      "    mean_env_render_ms: 0.0\n",
      "    mean_env_wait_ms: 0.11103872694613211\n",
      "    mean_inference_ms: 2.6151092513775125\n",
      "    mean_raw_obs_processing_ms: 0.18733068568546132\n",
      "  time_since_restore: 61.92340135574341\n",
      "  time_this_iter_s: 14.736291646957397\n",
      "  time_total_s: 61.92340135574341\n",
      "  timers:\n",
      "    learn_throughput: 432.569\n",
      "    learn_time_ms: 9247.077\n",
      "    load_throughput: 0.0\n",
      "    load_time_ms: 0.0\n",
      "    sample_throughput: 300.1\n",
      "    sample_time_ms: 13328.885\n",
      "    update_time_ms: 11.731\n",
      "  timestamp: 1637694257\n",
      "  timesteps_since_restore: 0\n",
      "  timesteps_this_iter: 0\n",
      "  timesteps_total: 16000\n",
      "  training_iteration: 4\n",
      "  trial_id: ed349_00000\n",
      "  \n"
     ]
    },
    {
     "data": {
      "text/plain": "<IPython.core.display.HTML object>",
      "text/html": "== Status ==<br>Current time: 2021-11-23 20:04:20 (running for 00:01:42.29)<br>Memory usage on this node: 9.4/11.9 GiB<br>Using FIFO scheduling algorithm.<br>Resources requested: 3.0/3 CPUs, 0/0 GPUs, 0.0/1.4 GiB heap, 0.0/0.7 GiB objects<br>Result logdir: C:\\Users\\Stefan\\ray_results\\PPO<br>Number of trials: 1/1 (1 RUNNING)<br><table>\n<thead>\n<tr><th>Trial name                       </th><th>status  </th><th>loc            </th><th style=\"text-align: right;\">  iter</th><th style=\"text-align: right;\">  total time (s)</th><th style=\"text-align: right;\">   ts</th><th style=\"text-align: right;\">  reward</th><th style=\"text-align: right;\">  episode_reward_max</th><th style=\"text-align: right;\">  episode_reward_min</th><th style=\"text-align: right;\">  episode_len_mean</th></tr>\n</thead>\n<tbody>\n<tr><td>PPO_StatelessCartPole_ed349_00000</td><td>RUNNING </td><td>127.0.0.1:20568</td><td style=\"text-align: right;\">     4</td><td style=\"text-align: right;\">         61.9234</td><td style=\"text-align: right;\">16000</td><td style=\"text-align: right;\"> 31.9365</td><td style=\"text-align: right;\">                 127</td><td style=\"text-align: right;\">                  10</td><td style=\"text-align: right;\">           31.9365</td></tr>\n</tbody>\n</table><br><br>"
     },
     "metadata": {},
     "output_type": "display_data"
    },
    {
     "data": {
      "text/plain": "<IPython.core.display.HTML object>",
      "text/html": "== Status ==<br>Current time: 2021-11-23 20:04:25 (running for 00:01:47.34)<br>Memory usage on this node: 9.4/11.9 GiB<br>Using FIFO scheduling algorithm.<br>Resources requested: 3.0/3 CPUs, 0/0 GPUs, 0.0/1.4 GiB heap, 0.0/0.7 GiB objects<br>Result logdir: C:\\Users\\Stefan\\ray_results\\PPO<br>Number of trials: 1/1 (1 RUNNING)<br><table>\n<thead>\n<tr><th>Trial name                       </th><th>status  </th><th>loc            </th><th style=\"text-align: right;\">  iter</th><th style=\"text-align: right;\">  total time (s)</th><th style=\"text-align: right;\">   ts</th><th style=\"text-align: right;\">  reward</th><th style=\"text-align: right;\">  episode_reward_max</th><th style=\"text-align: right;\">  episode_reward_min</th><th style=\"text-align: right;\">  episode_len_mean</th></tr>\n</thead>\n<tbody>\n<tr><td>PPO_StatelessCartPole_ed349_00000</td><td>RUNNING </td><td>127.0.0.1:20568</td><td style=\"text-align: right;\">     4</td><td style=\"text-align: right;\">         61.9234</td><td style=\"text-align: right;\">16000</td><td style=\"text-align: right;\"> 31.9365</td><td style=\"text-align: right;\">                 127</td><td style=\"text-align: right;\">                  10</td><td style=\"text-align: right;\">           31.9365</td></tr>\n</tbody>\n</table><br><br>"
     },
     "metadata": {},
     "output_type": "display_data"
    },
    {
     "data": {
      "text/plain": "<IPython.core.display.HTML object>",
      "text/html": "== Status ==<br>Current time: 2021-11-23 20:04:30 (running for 00:01:52.41)<br>Memory usage on this node: 9.4/11.9 GiB<br>Using FIFO scheduling algorithm.<br>Resources requested: 3.0/3 CPUs, 0/0 GPUs, 0.0/1.4 GiB heap, 0.0/0.7 GiB objects<br>Result logdir: C:\\Users\\Stefan\\ray_results\\PPO<br>Number of trials: 1/1 (1 RUNNING)<br><table>\n<thead>\n<tr><th>Trial name                       </th><th>status  </th><th>loc            </th><th style=\"text-align: right;\">  iter</th><th style=\"text-align: right;\">  total time (s)</th><th style=\"text-align: right;\">   ts</th><th style=\"text-align: right;\">  reward</th><th style=\"text-align: right;\">  episode_reward_max</th><th style=\"text-align: right;\">  episode_reward_min</th><th style=\"text-align: right;\">  episode_len_mean</th></tr>\n</thead>\n<tbody>\n<tr><td>PPO_StatelessCartPole_ed349_00000</td><td>RUNNING </td><td>127.0.0.1:20568</td><td style=\"text-align: right;\">     4</td><td style=\"text-align: right;\">         61.9234</td><td style=\"text-align: right;\">16000</td><td style=\"text-align: right;\"> 31.9365</td><td style=\"text-align: right;\">                 127</td><td style=\"text-align: right;\">                  10</td><td style=\"text-align: right;\">           31.9365</td></tr>\n</tbody>\n</table><br><br>"
     },
     "metadata": {},
     "output_type": "display_data"
    },
    {
     "name": "stdout",
     "output_type": "stream",
     "text": [
      "Result for PPO_StatelessCartPole_ed349_00000:\n",
      "  agent_timesteps_total: 20000\n",
      "  custom_metrics: {}\n",
      "  date: 2021-11-23_20-04-33\n",
      "  done: false\n",
      "  episode_len_mean: 36.18348623853211\n",
      "  episode_media: {}\n",
      "  episode_reward_max: 169.0\n",
      "  episode_reward_mean: 36.18348623853211\n",
      "  episode_reward_min: 11.0\n",
      "  episodes_this_iter: 109\n",
      "  episodes_total: 710\n",
      "  experiment_id: a20dca4fd94f46728886d8f17aa6afef\n",
      "  hostname: nb-stschn\n",
      "  info:\n",
      "    learner:\n",
      "      default_policy:\n",
      "        custom_metrics: {}\n",
      "        learner_stats:\n",
      "          cur_kl_coeff: 0.30000001192092896\n",
      "          cur_lr: 4.999999873689376e-05\n",
      "          entropy: 0.5868048667907715\n",
      "          entropy_coeff: 0.0\n",
      "          kl: 0.011738005094230175\n",
      "          policy_loss: -0.0034831564407795668\n",
      "          total_loss: 237.54965209960938\n",
      "          vf_explained_var: -0.013120776042342186\n",
      "          vf_loss: 237.5496063232422\n",
      "    num_agent_steps_sampled: 20000\n",
      "    num_agent_steps_trained: 20000\n",
      "    num_steps_sampled: 20000\n",
      "    num_steps_trained: 20000\n",
      "    num_steps_trained_this_iter: 0\n",
      "  iterations_since_restore: 5\n",
      "  node_ip: 127.0.0.1\n",
      "  num_healthy_workers: 2\n",
      "  off_policy_estimator: {}\n",
      "  perf:\n",
      "    cpu_util_percent: 75.04545454545453\n",
      "    ram_util_percent: 79.45909090909092\n",
      "  pid: 20568\n",
      "  policy_reward_max: {}\n",
      "  policy_reward_mean: {}\n",
      "  policy_reward_min: {}\n",
      "  sampler_perf:\n",
      "    mean_action_processing_ms: 0.11449160112781633\n",
      "    mean_env_render_ms: 0.0\n",
      "    mean_env_wait_ms: 0.11035112848334865\n",
      "    mean_inference_ms: 2.6541629157134996\n",
      "    mean_raw_obs_processing_ms: 0.1911741657344757\n",
      "  time_since_restore: 77.74231195449829\n",
      "  time_this_iter_s: 15.818910598754883\n",
      "  time_total_s: 77.74231195449829\n",
      "  timers:\n",
      "    learn_throughput: 432.038\n",
      "    learn_time_ms: 9258.446\n",
      "    load_throughput: 0.0\n",
      "    load_time_ms: 0.0\n",
      "    sample_throughput: 291.55\n",
      "    sample_time_ms: 13719.774\n",
      "    update_time_ms: 12.509\n",
      "  timestamp: 1637694273\n",
      "  timesteps_since_restore: 0\n",
      "  timesteps_this_iter: 0\n",
      "  timesteps_total: 20000\n",
      "  training_iteration: 5\n",
      "  trial_id: ed349_00000\n",
      "  \n"
     ]
    },
    {
     "data": {
      "text/plain": "<IPython.core.display.HTML object>",
      "text/html": "== Status ==<br>Current time: 2021-11-23 20:04:36 (running for 00:01:58.12)<br>Memory usage on this node: 9.5/11.9 GiB<br>Using FIFO scheduling algorithm.<br>Resources requested: 3.0/3 CPUs, 0/0 GPUs, 0.0/1.4 GiB heap, 0.0/0.7 GiB objects<br>Result logdir: C:\\Users\\Stefan\\ray_results\\PPO<br>Number of trials: 1/1 (1 RUNNING)<br><table>\n<thead>\n<tr><th>Trial name                       </th><th>status  </th><th>loc            </th><th style=\"text-align: right;\">  iter</th><th style=\"text-align: right;\">  total time (s)</th><th style=\"text-align: right;\">   ts</th><th style=\"text-align: right;\">  reward</th><th style=\"text-align: right;\">  episode_reward_max</th><th style=\"text-align: right;\">  episode_reward_min</th><th style=\"text-align: right;\">  episode_len_mean</th></tr>\n</thead>\n<tbody>\n<tr><td>PPO_StatelessCartPole_ed349_00000</td><td>RUNNING </td><td>127.0.0.1:20568</td><td style=\"text-align: right;\">     5</td><td style=\"text-align: right;\">         77.7423</td><td style=\"text-align: right;\">20000</td><td style=\"text-align: right;\"> 36.1835</td><td style=\"text-align: right;\">                 169</td><td style=\"text-align: right;\">                  11</td><td style=\"text-align: right;\">           36.1835</td></tr>\n</tbody>\n</table><br><br>"
     },
     "metadata": {},
     "output_type": "display_data"
    },
    {
     "data": {
      "text/plain": "<IPython.core.display.HTML object>",
      "text/html": "== Status ==<br>Current time: 2021-11-23 20:04:41 (running for 00:02:03.15)<br>Memory usage on this node: 9.5/11.9 GiB<br>Using FIFO scheduling algorithm.<br>Resources requested: 3.0/3 CPUs, 0/0 GPUs, 0.0/1.4 GiB heap, 0.0/0.7 GiB objects<br>Result logdir: C:\\Users\\Stefan\\ray_results\\PPO<br>Number of trials: 1/1 (1 RUNNING)<br><table>\n<thead>\n<tr><th>Trial name                       </th><th>status  </th><th>loc            </th><th style=\"text-align: right;\">  iter</th><th style=\"text-align: right;\">  total time (s)</th><th style=\"text-align: right;\">   ts</th><th style=\"text-align: right;\">  reward</th><th style=\"text-align: right;\">  episode_reward_max</th><th style=\"text-align: right;\">  episode_reward_min</th><th style=\"text-align: right;\">  episode_len_mean</th></tr>\n</thead>\n<tbody>\n<tr><td>PPO_StatelessCartPole_ed349_00000</td><td>RUNNING </td><td>127.0.0.1:20568</td><td style=\"text-align: right;\">     5</td><td style=\"text-align: right;\">         77.7423</td><td style=\"text-align: right;\">20000</td><td style=\"text-align: right;\"> 36.1835</td><td style=\"text-align: right;\">                 169</td><td style=\"text-align: right;\">                  11</td><td style=\"text-align: right;\">           36.1835</td></tr>\n</tbody>\n</table><br><br>"
     },
     "metadata": {},
     "output_type": "display_data"
    },
    {
     "data": {
      "text/plain": "<IPython.core.display.HTML object>",
      "text/html": "== Status ==<br>Current time: 2021-11-23 20:04:46 (running for 00:02:08.18)<br>Memory usage on this node: 9.5/11.9 GiB<br>Using FIFO scheduling algorithm.<br>Resources requested: 3.0/3 CPUs, 0/0 GPUs, 0.0/1.4 GiB heap, 0.0/0.7 GiB objects<br>Result logdir: C:\\Users\\Stefan\\ray_results\\PPO<br>Number of trials: 1/1 (1 RUNNING)<br><table>\n<thead>\n<tr><th>Trial name                       </th><th>status  </th><th>loc            </th><th style=\"text-align: right;\">  iter</th><th style=\"text-align: right;\">  total time (s)</th><th style=\"text-align: right;\">   ts</th><th style=\"text-align: right;\">  reward</th><th style=\"text-align: right;\">  episode_reward_max</th><th style=\"text-align: right;\">  episode_reward_min</th><th style=\"text-align: right;\">  episode_len_mean</th></tr>\n</thead>\n<tbody>\n<tr><td>PPO_StatelessCartPole_ed349_00000</td><td>RUNNING </td><td>127.0.0.1:20568</td><td style=\"text-align: right;\">     5</td><td style=\"text-align: right;\">         77.7423</td><td style=\"text-align: right;\">20000</td><td style=\"text-align: right;\"> 36.1835</td><td style=\"text-align: right;\">                 169</td><td style=\"text-align: right;\">                  11</td><td style=\"text-align: right;\">           36.1835</td></tr>\n</tbody>\n</table><br><br>"
     },
     "metadata": {},
     "output_type": "display_data"
    },
    {
     "name": "stdout",
     "output_type": "stream",
     "text": [
      "Result for PPO_StatelessCartPole_ed349_00000:\n",
      "  agent_timesteps_total: 24000\n",
      "  custom_metrics: {}\n",
      "  date: 2021-11-23_20-04-48\n",
      "  done: false\n",
      "  episode_len_mean: 41.74\n",
      "  episode_media: {}\n",
      "  episode_reward_max: 136.0\n",
      "  episode_reward_mean: 41.74\n",
      "  episode_reward_min: 10.0\n",
      "  episodes_this_iter: 94\n",
      "  episodes_total: 804\n",
      "  experiment_id: a20dca4fd94f46728886d8f17aa6afef\n",
      "  hostname: nb-stschn\n",
      "  info:\n",
      "    learner:\n",
      "      default_policy:\n",
      "        custom_metrics: {}\n",
      "        learner_stats:\n",
      "          cur_kl_coeff: 0.30000001192092896\n",
      "          cur_lr: 4.999999873689376e-05\n",
      "          entropy: 0.5268979072570801\n",
      "          entropy_coeff: 0.0\n",
      "          kl: 0.007060217205435038\n",
      "          policy_loss: -0.001066685770638287\n",
      "          total_loss: 199.92935180664062\n",
      "          vf_explained_var: 0.024954820051789284\n",
      "          vf_loss: 199.9282989501953\n",
      "    num_agent_steps_sampled: 24000\n",
      "    num_agent_steps_trained: 24000\n",
      "    num_steps_sampled: 24000\n",
      "    num_steps_trained: 24000\n",
      "    num_steps_trained_this_iter: 0\n",
      "  iterations_since_restore: 6\n",
      "  node_ip: 127.0.0.1\n",
      "  num_healthy_workers: 2\n",
      "  off_policy_estimator: {}\n",
      "  perf:\n",
      "    cpu_util_percent: 70.68636363636365\n",
      "    ram_util_percent: 79.62727272727271\n",
      "  pid: 20568\n",
      "  policy_reward_max: {}\n",
      "  policy_reward_mean: {}\n",
      "  policy_reward_min: {}\n",
      "  sampler_perf:\n",
      "    mean_action_processing_ms: 0.10977541112869299\n",
      "    mean_env_render_ms: 0.0\n",
      "    mean_env_wait_ms: 0.11098057758490844\n",
      "    mean_inference_ms: 2.653607923632789\n",
      "    mean_raw_obs_processing_ms: 0.18809168563598164\n",
      "  time_since_restore: 93.0082597732544\n",
      "  time_this_iter_s: 15.265947818756104\n",
      "  time_total_s: 93.0082597732544\n",
      "  timers:\n",
      "    learn_throughput: 433.471\n",
      "    learn_time_ms: 9227.842\n",
      "    load_throughput: 0.0\n",
      "    load_time_ms: 0.0\n",
      "    sample_throughput: 285.248\n",
      "    sample_time_ms: 14022.905\n",
      "    update_time_ms: 13.03\n",
      "  timestamp: 1637694288\n",
      "  timesteps_since_restore: 0\n",
      "  timesteps_this_iter: 0\n",
      "  timesteps_total: 24000\n",
      "  training_iteration: 6\n",
      "  trial_id: ed349_00000\n",
      "  \n"
     ]
    },
    {
     "data": {
      "text/plain": "<IPython.core.display.HTML object>",
      "text/html": "== Status ==<br>Current time: 2021-11-23 20:04:52 (running for 00:02:13.46)<br>Memory usage on this node: 9.5/11.9 GiB<br>Using FIFO scheduling algorithm.<br>Resources requested: 3.0/3 CPUs, 0/0 GPUs, 0.0/1.4 GiB heap, 0.0/0.7 GiB objects<br>Result logdir: C:\\Users\\Stefan\\ray_results\\PPO<br>Number of trials: 1/1 (1 RUNNING)<br><table>\n<thead>\n<tr><th>Trial name                       </th><th>status  </th><th>loc            </th><th style=\"text-align: right;\">  iter</th><th style=\"text-align: right;\">  total time (s)</th><th style=\"text-align: right;\">   ts</th><th style=\"text-align: right;\">  reward</th><th style=\"text-align: right;\">  episode_reward_max</th><th style=\"text-align: right;\">  episode_reward_min</th><th style=\"text-align: right;\">  episode_len_mean</th></tr>\n</thead>\n<tbody>\n<tr><td>PPO_StatelessCartPole_ed349_00000</td><td>RUNNING </td><td>127.0.0.1:20568</td><td style=\"text-align: right;\">     6</td><td style=\"text-align: right;\">         93.0083</td><td style=\"text-align: right;\">24000</td><td style=\"text-align: right;\">   41.74</td><td style=\"text-align: right;\">                 136</td><td style=\"text-align: right;\">                  10</td><td style=\"text-align: right;\">             41.74</td></tr>\n</tbody>\n</table><br><br>"
     },
     "metadata": {},
     "output_type": "display_data"
    },
    {
     "data": {
      "text/plain": "<IPython.core.display.HTML object>",
      "text/html": "== Status ==<br>Current time: 2021-11-23 20:04:57 (running for 00:02:18.52)<br>Memory usage on this node: 9.5/11.9 GiB<br>Using FIFO scheduling algorithm.<br>Resources requested: 3.0/3 CPUs, 0/0 GPUs, 0.0/1.4 GiB heap, 0.0/0.7 GiB objects<br>Result logdir: C:\\Users\\Stefan\\ray_results\\PPO<br>Number of trials: 1/1 (1 RUNNING)<br><table>\n<thead>\n<tr><th>Trial name                       </th><th>status  </th><th>loc            </th><th style=\"text-align: right;\">  iter</th><th style=\"text-align: right;\">  total time (s)</th><th style=\"text-align: right;\">   ts</th><th style=\"text-align: right;\">  reward</th><th style=\"text-align: right;\">  episode_reward_max</th><th style=\"text-align: right;\">  episode_reward_min</th><th style=\"text-align: right;\">  episode_len_mean</th></tr>\n</thead>\n<tbody>\n<tr><td>PPO_StatelessCartPole_ed349_00000</td><td>RUNNING </td><td>127.0.0.1:20568</td><td style=\"text-align: right;\">     6</td><td style=\"text-align: right;\">         93.0083</td><td style=\"text-align: right;\">24000</td><td style=\"text-align: right;\">   41.74</td><td style=\"text-align: right;\">                 136</td><td style=\"text-align: right;\">                  10</td><td style=\"text-align: right;\">             41.74</td></tr>\n</tbody>\n</table><br><br>"
     },
     "metadata": {},
     "output_type": "display_data"
    },
    {
     "data": {
      "text/plain": "<IPython.core.display.HTML object>",
      "text/html": "== Status ==<br>Current time: 2021-11-23 20:05:02 (running for 00:02:23.57)<br>Memory usage on this node: 9.5/11.9 GiB<br>Using FIFO scheduling algorithm.<br>Resources requested: 3.0/3 CPUs, 0/0 GPUs, 0.0/1.4 GiB heap, 0.0/0.7 GiB objects<br>Result logdir: C:\\Users\\Stefan\\ray_results\\PPO<br>Number of trials: 1/1 (1 RUNNING)<br><table>\n<thead>\n<tr><th>Trial name                       </th><th>status  </th><th>loc            </th><th style=\"text-align: right;\">  iter</th><th style=\"text-align: right;\">  total time (s)</th><th style=\"text-align: right;\">   ts</th><th style=\"text-align: right;\">  reward</th><th style=\"text-align: right;\">  episode_reward_max</th><th style=\"text-align: right;\">  episode_reward_min</th><th style=\"text-align: right;\">  episode_len_mean</th></tr>\n</thead>\n<tbody>\n<tr><td>PPO_StatelessCartPole_ed349_00000</td><td>RUNNING </td><td>127.0.0.1:20568</td><td style=\"text-align: right;\">     6</td><td style=\"text-align: right;\">         93.0083</td><td style=\"text-align: right;\">24000</td><td style=\"text-align: right;\">   41.74</td><td style=\"text-align: right;\">                 136</td><td style=\"text-align: right;\">                  10</td><td style=\"text-align: right;\">             41.74</td></tr>\n</tbody>\n</table><br><br>"
     },
     "metadata": {},
     "output_type": "display_data"
    },
    {
     "name": "stdout",
     "output_type": "stream",
     "text": [
      "Result for PPO_StatelessCartPole_ed349_00000:\n",
      "  agent_timesteps_total: 28000\n",
      "  custom_metrics: {}\n",
      "  date: 2021-11-23_20-05-05\n",
      "  done: false\n",
      "  episode_len_mean: 42.5\n",
      "  episode_media: {}\n",
      "  episode_reward_max: 125.0\n",
      "  episode_reward_mean: 42.5\n",
      "  episode_reward_min: 10.0\n",
      "  episodes_this_iter: 94\n",
      "  episodes_total: 898\n",
      "  experiment_id: a20dca4fd94f46728886d8f17aa6afef\n",
      "  hostname: nb-stschn\n",
      "  info:\n",
      "    learner:\n",
      "      default_policy:\n",
      "        custom_metrics: {}\n",
      "        learner_stats:\n",
      "          cur_kl_coeff: 0.30000001192092896\n",
      "          cur_lr: 4.999999873689376e-05\n",
      "          entropy: 0.5345466732978821\n",
      "          entropy_coeff: 0.0\n",
      "          kl: 0.007870975881814957\n",
      "          policy_loss: -0.01049668900668621\n",
      "          total_loss: 195.44029235839844\n",
      "          vf_explained_var: -0.021700987592339516\n",
      "          vf_loss: 195.44842529296875\n",
      "    num_agent_steps_sampled: 28000\n",
      "    num_agent_steps_trained: 28000\n",
      "    num_steps_sampled: 28000\n",
      "    num_steps_trained: 28000\n",
      "    num_steps_trained_this_iter: 0\n",
      "  iterations_since_restore: 7\n",
      "  node_ip: 127.0.0.1\n",
      "  num_healthy_workers: 2\n",
      "  off_policy_estimator: {}\n",
      "  perf:\n",
      "    cpu_util_percent: 71.18695652173912\n",
      "    ram_util_percent: 79.66521739130435\n",
      "  pid: 20568\n",
      "  policy_reward_max: {}\n",
      "  policy_reward_mean: {}\n",
      "  policy_reward_min: {}\n",
      "  sampler_perf:\n",
      "    mean_action_processing_ms: 0.10764503115268073\n",
      "    mean_env_render_ms: 0.0\n",
      "    mean_env_wait_ms: 0.1110926633171928\n",
      "    mean_inference_ms: 2.6576381708549364\n",
      "    mean_raw_obs_processing_ms: 0.18465818916430052\n",
      "  time_since_restore: 109.40761804580688\n",
      "  time_this_iter_s: 16.39935827255249\n",
      "  time_total_s: 109.40761804580688\n",
      "  timers:\n",
      "    learn_throughput: 427.484\n",
      "    learn_time_ms: 9357.079\n",
      "    load_throughput: 0.0\n",
      "    load_time_ms: 0.0\n",
      "    sample_throughput: 281.42\n",
      "    sample_time_ms: 14213.641\n",
      "    update_time_ms: 13.549\n",
      "  timestamp: 1637694305\n",
      "  timesteps_since_restore: 0\n",
      "  timesteps_this_iter: 0\n",
      "  timesteps_total: 28000\n",
      "  training_iteration: 7\n",
      "  trial_id: ed349_00000\n",
      "  \n"
     ]
    },
    {
     "data": {
      "text/plain": "<IPython.core.display.HTML object>",
      "text/html": "== Status ==<br>Current time: 2021-11-23 20:05:07 (running for 00:02:28.90)<br>Memory usage on this node: 9.5/11.9 GiB<br>Using FIFO scheduling algorithm.<br>Resources requested: 3.0/3 CPUs, 0/0 GPUs, 0.0/1.4 GiB heap, 0.0/0.7 GiB objects<br>Result logdir: C:\\Users\\Stefan\\ray_results\\PPO<br>Number of trials: 1/1 (1 RUNNING)<br><table>\n<thead>\n<tr><th>Trial name                       </th><th>status  </th><th>loc            </th><th style=\"text-align: right;\">  iter</th><th style=\"text-align: right;\">  total time (s)</th><th style=\"text-align: right;\">   ts</th><th style=\"text-align: right;\">  reward</th><th style=\"text-align: right;\">  episode_reward_max</th><th style=\"text-align: right;\">  episode_reward_min</th><th style=\"text-align: right;\">  episode_len_mean</th></tr>\n</thead>\n<tbody>\n<tr><td>PPO_StatelessCartPole_ed349_00000</td><td>RUNNING </td><td>127.0.0.1:20568</td><td style=\"text-align: right;\">     7</td><td style=\"text-align: right;\">         109.408</td><td style=\"text-align: right;\">28000</td><td style=\"text-align: right;\">    42.5</td><td style=\"text-align: right;\">                 125</td><td style=\"text-align: right;\">                  10</td><td style=\"text-align: right;\">              42.5</td></tr>\n</tbody>\n</table><br><br>"
     },
     "metadata": {},
     "output_type": "display_data"
    },
    {
     "data": {
      "text/plain": "<IPython.core.display.HTML object>",
      "text/html": "== Status ==<br>Current time: 2021-11-23 20:05:12 (running for 00:02:33.91)<br>Memory usage on this node: 9.5/11.9 GiB<br>Using FIFO scheduling algorithm.<br>Resources requested: 3.0/3 CPUs, 0/0 GPUs, 0.0/1.4 GiB heap, 0.0/0.7 GiB objects<br>Result logdir: C:\\Users\\Stefan\\ray_results\\PPO<br>Number of trials: 1/1 (1 RUNNING)<br><table>\n<thead>\n<tr><th>Trial name                       </th><th>status  </th><th>loc            </th><th style=\"text-align: right;\">  iter</th><th style=\"text-align: right;\">  total time (s)</th><th style=\"text-align: right;\">   ts</th><th style=\"text-align: right;\">  reward</th><th style=\"text-align: right;\">  episode_reward_max</th><th style=\"text-align: right;\">  episode_reward_min</th><th style=\"text-align: right;\">  episode_len_mean</th></tr>\n</thead>\n<tbody>\n<tr><td>PPO_StatelessCartPole_ed349_00000</td><td>RUNNING </td><td>127.0.0.1:20568</td><td style=\"text-align: right;\">     7</td><td style=\"text-align: right;\">         109.408</td><td style=\"text-align: right;\">28000</td><td style=\"text-align: right;\">    42.5</td><td style=\"text-align: right;\">                 125</td><td style=\"text-align: right;\">                  10</td><td style=\"text-align: right;\">              42.5</td></tr>\n</tbody>\n</table><br><br>"
     },
     "metadata": {},
     "output_type": "display_data"
    },
    {
     "data": {
      "text/plain": "<IPython.core.display.HTML object>",
      "text/html": "== Status ==<br>Current time: 2021-11-23 20:05:17 (running for 00:02:38.93)<br>Memory usage on this node: 9.5/11.9 GiB<br>Using FIFO scheduling algorithm.<br>Resources requested: 3.0/3 CPUs, 0/0 GPUs, 0.0/1.4 GiB heap, 0.0/0.7 GiB objects<br>Result logdir: C:\\Users\\Stefan\\ray_results\\PPO<br>Number of trials: 1/1 (1 RUNNING)<br><table>\n<thead>\n<tr><th>Trial name                       </th><th>status  </th><th>loc            </th><th style=\"text-align: right;\">  iter</th><th style=\"text-align: right;\">  total time (s)</th><th style=\"text-align: right;\">   ts</th><th style=\"text-align: right;\">  reward</th><th style=\"text-align: right;\">  episode_reward_max</th><th style=\"text-align: right;\">  episode_reward_min</th><th style=\"text-align: right;\">  episode_len_mean</th></tr>\n</thead>\n<tbody>\n<tr><td>PPO_StatelessCartPole_ed349_00000</td><td>RUNNING </td><td>127.0.0.1:20568</td><td style=\"text-align: right;\">     7</td><td style=\"text-align: right;\">         109.408</td><td style=\"text-align: right;\">28000</td><td style=\"text-align: right;\">    42.5</td><td style=\"text-align: right;\">                 125</td><td style=\"text-align: right;\">                  10</td><td style=\"text-align: right;\">              42.5</td></tr>\n</tbody>\n</table><br><br>"
     },
     "metadata": {},
     "output_type": "display_data"
    },
    {
     "name": "stdout",
     "output_type": "stream",
     "text": [
      "Result for PPO_StatelessCartPole_ed349_00000:\n",
      "  agent_timesteps_total: 32000\n",
      "  custom_metrics: {}\n",
      "  date: 2021-11-23_20-05-20\n",
      "  done: false\n",
      "  episode_len_mean: 51.26\n",
      "  episode_media: {}\n",
      "  episode_reward_max: 212.0\n",
      "  episode_reward_mean: 51.26\n",
      "  episode_reward_min: 10.0\n",
      "  episodes_this_iter: 73\n",
      "  episodes_total: 971\n",
      "  experiment_id: a20dca4fd94f46728886d8f17aa6afef\n",
      "  hostname: nb-stschn\n",
      "  info:\n",
      "    learner:\n",
      "      default_policy:\n",
      "        custom_metrics: {}\n",
      "        learner_stats:\n",
      "          cur_kl_coeff: 0.30000001192092896\n",
      "          cur_lr: 4.999999873689376e-05\n",
      "          entropy: 0.5582462549209595\n",
      "          entropy_coeff: 0.0\n",
      "          kl: 0.01066754013299942\n",
      "          policy_loss: 0.013204912655055523\n",
      "          total_loss: 302.75701904296875\n",
      "          vf_explained_var: -0.020273517817258835\n",
      "          vf_loss: 302.7406005859375\n",
      "    num_agent_steps_sampled: 32000\n",
      "    num_agent_steps_trained: 32000\n",
      "    num_steps_sampled: 32000\n",
      "    num_steps_trained: 32000\n",
      "    num_steps_trained_this_iter: 0\n",
      "  iterations_since_restore: 8\n",
      "  node_ip: 127.0.0.1\n",
      "  num_healthy_workers: 2\n",
      "  off_policy_estimator: {}\n",
      "  perf:\n",
      "    cpu_util_percent: 69.34285714285714\n",
      "    ram_util_percent: 79.72857142857143\n",
      "  pid: 20568\n",
      "  policy_reward_max: {}\n",
      "  policy_reward_mean: {}\n",
      "  policy_reward_min: {}\n",
      "  sampler_perf:\n",
      "    mean_action_processing_ms: 0.11218940752380821\n",
      "    mean_env_render_ms: 0.0\n",
      "    mean_env_wait_ms: 0.11281248670751787\n",
      "    mean_inference_ms: 2.67042704138766\n",
      "    mean_raw_obs_processing_ms: 0.17564055400040957\n",
      "  time_since_restore: 124.45607709884644\n",
      "  time_this_iter_s: 15.04845905303955\n",
      "  time_total_s: 124.45607709884644\n",
      "  timers:\n",
      "    learn_throughput: 431.613\n",
      "    learn_time_ms: 9267.563\n",
      "    load_throughput: 0.0\n",
      "    load_time_ms: 0.0\n",
      "    sample_throughput: 275.587\n",
      "    sample_time_ms: 14514.457\n",
      "    update_time_ms: 11.855\n",
      "  timestamp: 1637694320\n",
      "  timesteps_since_restore: 0\n",
      "  timesteps_this_iter: 0\n",
      "  timesteps_total: 32000\n",
      "  training_iteration: 8\n",
      "  trial_id: ed349_00000\n",
      "  \n"
     ]
    },
    {
     "data": {
      "text/plain": "<IPython.core.display.HTML object>",
      "text/html": "== Status ==<br>Current time: 2021-11-23 20:05:22 (running for 00:02:43.99)<br>Memory usage on this node: 9.5/11.9 GiB<br>Using FIFO scheduling algorithm.<br>Resources requested: 3.0/3 CPUs, 0/0 GPUs, 0.0/1.4 GiB heap, 0.0/0.7 GiB objects<br>Result logdir: C:\\Users\\Stefan\\ray_results\\PPO<br>Number of trials: 1/1 (1 RUNNING)<br><table>\n<thead>\n<tr><th>Trial name                       </th><th>status  </th><th>loc            </th><th style=\"text-align: right;\">  iter</th><th style=\"text-align: right;\">  total time (s)</th><th style=\"text-align: right;\">   ts</th><th style=\"text-align: right;\">  reward</th><th style=\"text-align: right;\">  episode_reward_max</th><th style=\"text-align: right;\">  episode_reward_min</th><th style=\"text-align: right;\">  episode_len_mean</th></tr>\n</thead>\n<tbody>\n<tr><td>PPO_StatelessCartPole_ed349_00000</td><td>RUNNING </td><td>127.0.0.1:20568</td><td style=\"text-align: right;\">     8</td><td style=\"text-align: right;\">         124.456</td><td style=\"text-align: right;\">32000</td><td style=\"text-align: right;\">   51.26</td><td style=\"text-align: right;\">                 212</td><td style=\"text-align: right;\">                  10</td><td style=\"text-align: right;\">             51.26</td></tr>\n</tbody>\n</table><br><br>"
     },
     "metadata": {},
     "output_type": "display_data"
    },
    {
     "data": {
      "text/plain": "<IPython.core.display.HTML object>",
      "text/html": "== Status ==<br>Current time: 2021-11-23 20:05:27 (running for 00:02:49.03)<br>Memory usage on this node: 9.5/11.9 GiB<br>Using FIFO scheduling algorithm.<br>Resources requested: 3.0/3 CPUs, 0/0 GPUs, 0.0/1.4 GiB heap, 0.0/0.7 GiB objects<br>Result logdir: C:\\Users\\Stefan\\ray_results\\PPO<br>Number of trials: 1/1 (1 RUNNING)<br><table>\n<thead>\n<tr><th>Trial name                       </th><th>status  </th><th>loc            </th><th style=\"text-align: right;\">  iter</th><th style=\"text-align: right;\">  total time (s)</th><th style=\"text-align: right;\">   ts</th><th style=\"text-align: right;\">  reward</th><th style=\"text-align: right;\">  episode_reward_max</th><th style=\"text-align: right;\">  episode_reward_min</th><th style=\"text-align: right;\">  episode_len_mean</th></tr>\n</thead>\n<tbody>\n<tr><td>PPO_StatelessCartPole_ed349_00000</td><td>RUNNING </td><td>127.0.0.1:20568</td><td style=\"text-align: right;\">     8</td><td style=\"text-align: right;\">         124.456</td><td style=\"text-align: right;\">32000</td><td style=\"text-align: right;\">   51.26</td><td style=\"text-align: right;\">                 212</td><td style=\"text-align: right;\">                  10</td><td style=\"text-align: right;\">             51.26</td></tr>\n</tbody>\n</table><br><br>"
     },
     "metadata": {},
     "output_type": "display_data"
    },
    {
     "data": {
      "text/plain": "<IPython.core.display.HTML object>",
      "text/html": "== Status ==<br>Current time: 2021-11-23 20:05:32 (running for 00:02:54.06)<br>Memory usage on this node: 9.5/11.9 GiB<br>Using FIFO scheduling algorithm.<br>Resources requested: 3.0/3 CPUs, 0/0 GPUs, 0.0/1.4 GiB heap, 0.0/0.7 GiB objects<br>Result logdir: C:\\Users\\Stefan\\ray_results\\PPO<br>Number of trials: 1/1 (1 RUNNING)<br><table>\n<thead>\n<tr><th>Trial name                       </th><th>status  </th><th>loc            </th><th style=\"text-align: right;\">  iter</th><th style=\"text-align: right;\">  total time (s)</th><th style=\"text-align: right;\">   ts</th><th style=\"text-align: right;\">  reward</th><th style=\"text-align: right;\">  episode_reward_max</th><th style=\"text-align: right;\">  episode_reward_min</th><th style=\"text-align: right;\">  episode_len_mean</th></tr>\n</thead>\n<tbody>\n<tr><td>PPO_StatelessCartPole_ed349_00000</td><td>RUNNING </td><td>127.0.0.1:20568</td><td style=\"text-align: right;\">     8</td><td style=\"text-align: right;\">         124.456</td><td style=\"text-align: right;\">32000</td><td style=\"text-align: right;\">   51.26</td><td style=\"text-align: right;\">                 212</td><td style=\"text-align: right;\">                  10</td><td style=\"text-align: right;\">             51.26</td></tr>\n</tbody>\n</table><br><br>"
     },
     "metadata": {},
     "output_type": "display_data"
    },
    {
     "name": "stdout",
     "output_type": "stream",
     "text": [
      "Result for PPO_StatelessCartPole_ed349_00000:\n",
      "  agent_timesteps_total: 36000\n",
      "  custom_metrics: {}\n",
      "  date: 2021-11-23_20-05-35\n",
      "  done: false\n",
      "  episode_len_mean: 42.09\n",
      "  episode_media: {}\n",
      "  episode_reward_max: 153.0\n",
      "  episode_reward_mean: 42.09\n",
      "  episode_reward_min: 10.0\n",
      "  episodes_this_iter: 96\n",
      "  episodes_total: 1067\n",
      "  experiment_id: a20dca4fd94f46728886d8f17aa6afef\n",
      "  hostname: nb-stschn\n",
      "  info:\n",
      "    learner:\n",
      "      default_policy:\n",
      "        custom_metrics: {}\n",
      "        learner_stats:\n",
      "          cur_kl_coeff: 0.30000001192092896\n",
      "          cur_lr: 4.999999873689376e-05\n",
      "          entropy: 0.503809928894043\n",
      "          entropy_coeff: 0.0\n",
      "          kl: 0.011404866352677345\n",
      "          policy_loss: -0.005207857117056847\n",
      "          total_loss: 224.0603790283203\n",
      "          vf_explained_var: 0.009964415803551674\n",
      "          vf_loss: 224.06216430664062\n",
      "    num_agent_steps_sampled: 36000\n",
      "    num_agent_steps_trained: 36000\n",
      "    num_steps_sampled: 36000\n",
      "    num_steps_trained: 36000\n",
      "    num_steps_trained_this_iter: 0\n",
      "  iterations_since_restore: 9\n",
      "  node_ip: 127.0.0.1\n",
      "  num_healthy_workers: 2\n",
      "  off_policy_estimator: {}\n",
      "  perf:\n",
      "    cpu_util_percent: 65.69047619047618\n",
      "    ram_util_percent: 79.72380952380952\n",
      "  pid: 20568\n",
      "  policy_reward_max: {}\n",
      "  policy_reward_mean: {}\n",
      "  policy_reward_min: {}\n",
      "  sampler_perf:\n",
      "    mean_action_processing_ms: 0.10854887984426609\n",
      "    mean_env_render_ms: 0.0\n",
      "    mean_env_wait_ms: 0.10937376088452742\n",
      "    mean_inference_ms: 2.66672320519143\n",
      "    mean_raw_obs_processing_ms: 0.17526238652440868\n",
      "  time_since_restore: 139.17379879951477\n",
      "  time_this_iter_s: 14.717721700668335\n",
      "  time_total_s: 139.17379879951477\n",
      "  timers:\n",
      "    learn_throughput: 434.578\n",
      "    learn_time_ms: 9204.338\n",
      "    load_throughput: 0.0\n",
      "    load_time_ms: 0.0\n",
      "    sample_throughput: 275.205\n",
      "    sample_time_ms: 14534.646\n",
      "    update_time_ms: 10.538\n",
      "  timestamp: 1637694335\n",
      "  timesteps_since_restore: 0\n",
      "  timesteps_this_iter: 0\n",
      "  timesteps_total: 36000\n",
      "  training_iteration: 9\n",
      "  trial_id: ed349_00000\n",
      "  \n"
     ]
    },
    {
     "data": {
      "text/plain": "<IPython.core.display.HTML object>",
      "text/html": "== Status ==<br>Current time: 2021-11-23 20:05:38 (running for 00:02:59.73)<br>Memory usage on this node: 9.5/11.9 GiB<br>Using FIFO scheduling algorithm.<br>Resources requested: 3.0/3 CPUs, 0/0 GPUs, 0.0/1.4 GiB heap, 0.0/0.7 GiB objects<br>Result logdir: C:\\Users\\Stefan\\ray_results\\PPO<br>Number of trials: 1/1 (1 RUNNING)<br><table>\n<thead>\n<tr><th>Trial name                       </th><th>status  </th><th>loc            </th><th style=\"text-align: right;\">  iter</th><th style=\"text-align: right;\">  total time (s)</th><th style=\"text-align: right;\">   ts</th><th style=\"text-align: right;\">  reward</th><th style=\"text-align: right;\">  episode_reward_max</th><th style=\"text-align: right;\">  episode_reward_min</th><th style=\"text-align: right;\">  episode_len_mean</th></tr>\n</thead>\n<tbody>\n<tr><td>PPO_StatelessCartPole_ed349_00000</td><td>RUNNING </td><td>127.0.0.1:20568</td><td style=\"text-align: right;\">     9</td><td style=\"text-align: right;\">         139.174</td><td style=\"text-align: right;\">36000</td><td style=\"text-align: right;\">   42.09</td><td style=\"text-align: right;\">                 153</td><td style=\"text-align: right;\">                  10</td><td style=\"text-align: right;\">             42.09</td></tr>\n</tbody>\n</table><br><br>"
     },
     "metadata": {},
     "output_type": "display_data"
    },
    {
     "data": {
      "text/plain": "<IPython.core.display.HTML object>",
      "text/html": "== Status ==<br>Current time: 2021-11-23 20:05:43 (running for 00:03:04.77)<br>Memory usage on this node: 9.5/11.9 GiB<br>Using FIFO scheduling algorithm.<br>Resources requested: 3.0/3 CPUs, 0/0 GPUs, 0.0/1.4 GiB heap, 0.0/0.7 GiB objects<br>Result logdir: C:\\Users\\Stefan\\ray_results\\PPO<br>Number of trials: 1/1 (1 RUNNING)<br><table>\n<thead>\n<tr><th>Trial name                       </th><th>status  </th><th>loc            </th><th style=\"text-align: right;\">  iter</th><th style=\"text-align: right;\">  total time (s)</th><th style=\"text-align: right;\">   ts</th><th style=\"text-align: right;\">  reward</th><th style=\"text-align: right;\">  episode_reward_max</th><th style=\"text-align: right;\">  episode_reward_min</th><th style=\"text-align: right;\">  episode_len_mean</th></tr>\n</thead>\n<tbody>\n<tr><td>PPO_StatelessCartPole_ed349_00000</td><td>RUNNING </td><td>127.0.0.1:20568</td><td style=\"text-align: right;\">     9</td><td style=\"text-align: right;\">         139.174</td><td style=\"text-align: right;\">36000</td><td style=\"text-align: right;\">   42.09</td><td style=\"text-align: right;\">                 153</td><td style=\"text-align: right;\">                  10</td><td style=\"text-align: right;\">             42.09</td></tr>\n</tbody>\n</table><br><br>"
     },
     "metadata": {},
     "output_type": "display_data"
    },
    {
     "data": {
      "text/plain": "<IPython.core.display.HTML object>",
      "text/html": "== Status ==<br>Current time: 2021-11-23 20:05:48 (running for 00:03:09.78)<br>Memory usage on this node: 9.5/11.9 GiB<br>Using FIFO scheduling algorithm.<br>Resources requested: 3.0/3 CPUs, 0/0 GPUs, 0.0/1.4 GiB heap, 0.0/0.7 GiB objects<br>Result logdir: C:\\Users\\Stefan\\ray_results\\PPO<br>Number of trials: 1/1 (1 RUNNING)<br><table>\n<thead>\n<tr><th>Trial name                       </th><th>status  </th><th>loc            </th><th style=\"text-align: right;\">  iter</th><th style=\"text-align: right;\">  total time (s)</th><th style=\"text-align: right;\">   ts</th><th style=\"text-align: right;\">  reward</th><th style=\"text-align: right;\">  episode_reward_max</th><th style=\"text-align: right;\">  episode_reward_min</th><th style=\"text-align: right;\">  episode_len_mean</th></tr>\n</thead>\n<tbody>\n<tr><td>PPO_StatelessCartPole_ed349_00000</td><td>RUNNING </td><td>127.0.0.1:20568</td><td style=\"text-align: right;\">     9</td><td style=\"text-align: right;\">         139.174</td><td style=\"text-align: right;\">36000</td><td style=\"text-align: right;\">   42.09</td><td style=\"text-align: right;\">                 153</td><td style=\"text-align: right;\">                  10</td><td style=\"text-align: right;\">             42.09</td></tr>\n</tbody>\n</table><br><br>"
     },
     "metadata": {},
     "output_type": "display_data"
    },
    {
     "name": "stdout",
     "output_type": "stream",
     "text": [
      "Result for PPO_StatelessCartPole_ed349_00000:\n",
      "  agent_timesteps_total: 40000\n",
      "  custom_metrics: {}\n",
      "  date: 2021-11-23_20-05-49\n",
      "  done: true\n",
      "  episode_len_mean: 53.41\n",
      "  episode_media: {}\n",
      "  episode_reward_max: 216.0\n",
      "  episode_reward_mean: 53.41\n",
      "  episode_reward_min: 10.0\n",
      "  episodes_this_iter: 68\n",
      "  episodes_total: 1135\n",
      "  experiment_id: a20dca4fd94f46728886d8f17aa6afef\n",
      "  hostname: nb-stschn\n",
      "  info:\n",
      "    learner:\n",
      "      default_policy:\n",
      "        custom_metrics: {}\n",
      "        learner_stats:\n",
      "          cur_kl_coeff: 0.30000001192092896\n",
      "          cur_lr: 4.999999873689376e-05\n",
      "          entropy: 0.4461559057235718\n",
      "          entropy_coeff: 0.0\n",
      "          kl: 0.006264682859182358\n",
      "          policy_loss: 0.0033616276923567057\n",
      "          total_loss: 333.1831359863281\n",
      "          vf_explained_var: -0.007664728909730911\n",
      "          vf_loss: 333.17791748046875\n",
      "    num_agent_steps_sampled: 40000\n",
      "    num_agent_steps_trained: 40000\n",
      "    num_steps_sampled: 40000\n",
      "    num_steps_trained: 40000\n",
      "    num_steps_trained_this_iter: 0\n",
      "  iterations_since_restore: 10\n",
      "  node_ip: 127.0.0.1\n",
      "  num_healthy_workers: 2\n",
      "  off_policy_estimator: {}\n",
      "  perf:\n",
      "    cpu_util_percent: 67.18500000000002\n",
      "    ram_util_percent: 79.73500000000001\n",
      "  pid: 20568\n",
      "  policy_reward_max: {}\n",
      "  policy_reward_mean: {}\n",
      "  policy_reward_min: {}\n",
      "  sampler_perf:\n",
      "    mean_action_processing_ms: 0.10831484577538607\n",
      "    mean_env_render_ms: 0.0\n",
      "    mean_env_wait_ms: 0.10716529324933358\n",
      "    mean_inference_ms: 2.666087568340396\n",
      "    mean_raw_obs_processing_ms: 0.17089974936618715\n",
      "  time_since_restore: 153.8071825504303\n",
      "  time_this_iter_s: 14.633383750915527\n",
      "  time_total_s: 153.8071825504303\n",
      "  timers:\n",
      "    learn_throughput: 437.046\n",
      "    learn_time_ms: 9152.344\n",
      "    load_throughput: 0.0\n",
      "    load_time_ms: 0.0\n",
      "    sample_throughput: 274.914\n",
      "    sample_time_ms: 14550.03\n",
      "    update_time_ms: 9.484\n",
      "  timestamp: 1637694349\n",
      "  timesteps_since_restore: 0\n",
      "  timesteps_this_iter: 0\n",
      "  timesteps_total: 40000\n",
      "  training_iteration: 10\n",
      "  trial_id: ed349_00000\n",
      "  \n"
     ]
    },
    {
     "data": {
      "text/plain": "<IPython.core.display.HTML object>",
      "text/html": "== Status ==<br>Current time: 2021-11-23 20:05:49 (running for 00:03:11.44)<br>Memory usage on this node: 9.5/11.9 GiB<br>Using FIFO scheduling algorithm.<br>Resources requested: 0/3 CPUs, 0/0 GPUs, 0.0/1.4 GiB heap, 0.0/0.7 GiB objects<br>Result logdir: C:\\Users\\Stefan\\ray_results\\PPO<br>Number of trials: 1/1 (1 TERMINATED)<br><table>\n<thead>\n<tr><th>Trial name                       </th><th>status    </th><th>loc            </th><th style=\"text-align: right;\">  iter</th><th style=\"text-align: right;\">  total time (s)</th><th style=\"text-align: right;\">   ts</th><th style=\"text-align: right;\">  reward</th><th style=\"text-align: right;\">  episode_reward_max</th><th style=\"text-align: right;\">  episode_reward_min</th><th style=\"text-align: right;\">  episode_len_mean</th></tr>\n</thead>\n<tbody>\n<tr><td>PPO_StatelessCartPole_ed349_00000</td><td>TERMINATED</td><td>127.0.0.1:20568</td><td style=\"text-align: right;\">    10</td><td style=\"text-align: right;\">         153.807</td><td style=\"text-align: right;\">40000</td><td style=\"text-align: right;\">   53.41</td><td style=\"text-align: right;\">                 216</td><td style=\"text-align: right;\">                  10</td><td style=\"text-align: right;\">             53.41</td></tr>\n</tbody>\n</table><br><br>"
     },
     "metadata": {},
     "output_type": "display_data"
    },
    {
     "name": "stderr",
     "output_type": "stream",
     "text": [
      "\u001B[2m\u001B[36m(pid=20568)\u001B[0m Windows fatal exception: access violation\n",
      "\u001B[2m\u001B[36m(pid=20568)\u001B[0m \n",
      "\u001B[2m\u001B[36m(pid=17696)\u001B[0m [2021-11-23 20:05:50,166 E 17696 2012] raylet_client.cc:159: IOError: Unknown error [RayletClient] Failed to disconnect from raylet.\r\n",
      "\u001B[2m\u001B[36m(pid=17696)\u001B[0m Windows fatal exception: access violation\n",
      "\u001B[2m\u001B[36m(pid=17696)\u001B[0m \n",
      "\u001B[2m\u001B[36m(pid=9728)\u001B[0m [2021-11-23 20:05:50,165 E 9728 18184] raylet_client.cc:159: IOError: Unknown error [RayletClient] Failed to disconnect from raylet.\r\n",
      "\u001B[2m\u001B[36m(pid=9728)\u001B[0m Windows fatal exception: access violation\n",
      "\u001B[2m\u001B[36m(pid=9728)\u001B[0m \n",
      "2021-11-23 20:05:50,279\tINFO tune.py:630 -- Total run time: 191.75 seconds (191.40 seconds for the tuning loop).\n"
     ]
    },
    {
     "name": "stdout",
     "output_type": "stream",
     "text": [
      "Option 3c: Training finished successfully\n"
     ]
    }
   ],
   "source": [
    "config3c = ppo.DEFAULT_CONFIG.copy()\n",
    "config3c[\"env\"] = \"StatelessCartPole\"\n",
    "config3c[\"model\"] = {\n",
    "    # Attention net wrapping (for tf) can already use the native keras\n",
    "    # model versions. For torch, this will have no effect.\n",
    "    \"_use_default_native_models\": True,\n",
    "    \"use_attention\": True,\n",
    "    \"max_seq_len\": 10,\n",
    "    \"attention_num_transformer_units\": 1,\n",
    "    \"attention_dim\": 32,\n",
    "    \"attention_memory_inference\": 10,\n",
    "    \"attention_memory_training\": 10,\n",
    "    \"attention_num_heads\": 1,\n",
    "    \"attention_head_dim\": 32,\n",
    "    \"attention_position_wise_mlp_dim\": 32,\n",
    "}\n",
    "\n",
    "results3c = ray.tune.run(\"PPO\", config=config3c, stop=stop)\n",
    "print(\"Option 3c: Training finished successfully\")"
   ],
   "metadata": {
    "collapsed": false,
    "pycharm": {
     "name": "#%%\n"
    }
   }
  },
  {
   "cell_type": "code",
   "execution_count": 49,
   "outputs": [
    {
     "data": {
      "text/plain": "53.41"
     },
     "execution_count": 49,
     "metadata": {},
     "output_type": "execute_result"
    }
   ],
   "source": [
    "# check results\n",
    "results3c.default_metric = \"episode_reward_mean\"\n",
    "results3c.default_mode = \"max\"\n",
    "# print the mean episode reward = episode length --> higher = better\n",
    "results3c.best_result[\"episode_reward_mean\"]"
   ],
   "metadata": {
    "collapsed": false,
    "pycharm": {
     "name": "#%%\n"
    }
   }
  },
  {
   "cell_type": "code",
   "execution_count": 50,
   "outputs": [
    {
     "name": "stderr",
     "output_type": "stream",
     "text": [
      "c:\\users\\stefan\\git-repos\\private\\blog\\venv\\lib\\site-packages\\seaborn\\_decorators.py:36: FutureWarning: Pass the following variables as keyword args: x, y. From version 0.12, the only valid positional argument will be `data`, and passing other arguments without an explicit keyword will result in an error or misinterpretation.\n",
      "  warnings.warn(\n"
     ]
    },
    {
     "data": {
      "text/plain": "<Figure size 432x288 with 1 Axes>",
      "image/png": "[encoded data removed]"
     },
     "metadata": {
      "needs_background": "light"
     },
     "output_type": "display_data"
    }
   ],
   "source": [
    "plot_rewards(results3c)"
   ],
   "metadata": {
    "collapsed": false,
    "pycharm": {
     "name": "#%%\n"
    }
   }
  },
  {
   "cell_type": "markdown",
   "source": [
    "\n"
   ],
   "metadata": {
    "collapsed": false,
    "pycharm": {
     "name": "#%% md\n"
    }
   }
  }
 ],
 "metadata": {
  "kernelspec": {
   "display_name": "Python 3",
   "language": "python",
   "name": "python3"
  },
  "language_info": {
   "codemirror_mode": {
    "name": "ipython",
    "version": 3
   },
   "file_extension": ".py",
   "mimetype": "text/x-python",
   "name": "python",
   "nbconvert_exporter": "python",
   "pygments_lexer": "ipython3",
   "version": "3.8.2"
  }
 },
 "nbformat": 4,
 "nbformat_minor": 4
}