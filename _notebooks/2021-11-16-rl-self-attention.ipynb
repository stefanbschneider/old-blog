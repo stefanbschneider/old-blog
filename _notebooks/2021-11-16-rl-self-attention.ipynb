{
 "cells": [
  {
   "cell_type": "markdown",
   "metadata": {
    "pycharm": {
     "name": "#%% md\n"
    }
   },
   "source": [
    "# Why and When Attention Matters in Reinforcement Learning\n",
    "> \"Using RLlib and AttentionNet to master environments with stateless observations, here, stateless CartPole.\"\n",
    "\n",
    "- hide: true\n",
    "- toc: true\n",
    "- branch: master\n",
    "- badges: true\n",
    "- comments: true\n",
    "- categories: [python, ray, rllib, tensorflow, machine learning, reinforcement learning, attention]\n",
    "- image: images/cartpole.jpg"
   ]
  },
  {
   "cell_type": "markdown",
   "metadata": {
    "pycharm": {
     "name": "#%% md\n"
    }
   },
   "source": [
    "TODOs:\n",
    "* Image and short explanation of (self-)attention.\n",
    "* Proper description of different options\n",
    "\n",
    "\n",
    "In reinforcement learning (RL), the RL agent typically selects a suitable action based on the last observation.\n",
    "Since many practical environments are stateful, this state should be taken into account when selecting an action.\n",
    "As an example, consider the popular [OpenAI Gym CartPole environment](https://gym.openai.com/envs/CartPole-v1/),\n",
    "where the task is to move a cart left or right in order to balance a pole on the cart as long as possible.\n",
    "\n",
    "![OpenAI Gym CartPole-v1 Environment](attention/cartpole.gif \"OpenAI Gym CartPole-v1 Environment\")\n",
    "\n",
    "Whether the cart should be moved left or right clearly depends on how the pole is currently moving,\n",
    "i.e., in which direction it is swinging and with which velocity.\n",
    "In this example, the pole's movement and velocity are an important part of the state,\n",
    "which should determine the selected action (left or right).\n",
    "\n",
    "In the following, I show different options how to deal with this state.\n",
    "\n",
    "* State explicitly observed\n",
    "* State not observed at all\n",
    "* Sequence of last observations\n",
    "* Sequence of last observations + attention\n",
    "\n",
    "For each case, I use PPO with default hyperparamters.\n",
    "\n",
    "> Tip: Also check out the [RLlib example using AttentionNet](https://github.com/ray-project/ray/blob/master/rllib/examples/attention_net.py).\n",
    "\n",
    "\n",
    "## Setup\n",
    "\n",
    "Install Ray RLlib and TensorFlow (also works with PyTorch) for the RL agent,\n",
    "Gym and pyglet for the environment, and seaborn for plotting.\n",
    "I am using Python 3.8 on Windows 10."
   ]
  },
  {
   "cell_type": "code",
   "execution_count": 1,
   "outputs": [
    {
     "name": "stdout",
     "output_type": "stream",
     "text": [
      "Requirement already satisfied: ray[rllib]==1.8.0 in c:\\users\\stefan\\git-repos\\private\\blog\\venv\\lib\\site-packages (1.8.0)\n",
      "Requirement already satisfied: grpcio>=1.28.1 in c:\\users\\stefan\\git-repos\\private\\blog\\venv\\lib\\site-packages (from ray[rllib]==1.8.0) (1.41.1)\n",
      "Requirement already satisfied: attrs in c:\\users\\stefan\\git-repos\\private\\blog\\venv\\lib\\site-packages (from ray[rllib]==1.8.0) (20.3.0)\n",
      "Requirement already satisfied: redis>=3.5.0 in c:\\users\\stefan\\git-repos\\private\\blog\\venv\\lib\\site-packages (from ray[rllib]==1.8.0) (4.0.0)\n",
      "Requirement already satisfied: protobuf>=3.15.3 in c:\\users\\stefan\\git-repos\\private\\blog\\venv\\lib\\site-packages (from ray[rllib]==1.8.0) (3.19.1)\n",
      "Requirement already satisfied: msgpack<2.0.0,>=1.0.0 in c:\\users\\stefan\\git-repos\\private\\blog\\venv\\lib\\site-packages (from ray[rllib]==1.8.0) (1.0.2)\n",
      "Requirement already satisfied: click>=7.0 in c:\\users\\stefan\\git-repos\\private\\blog\\venv\\lib\\site-packages (from ray[rllib]==1.8.0) (8.0.3)\n",
      "Requirement already satisfied: filelock in c:\\users\\stefan\\git-repos\\private\\blog\\venv\\lib\\site-packages (from ray[rllib]==1.8.0) (3.4.0)\n",
      "Requirement already satisfied: numpy>=1.16 in c:\\users\\stefan\\git-repos\\private\\blog\\venv\\lib\\site-packages (from ray[rllib]==1.8.0) (1.21.4)\n",
      "Requirement already satisfied: jsonschema in c:\\users\\stefan\\git-repos\\private\\blog\\venv\\lib\\site-packages (from ray[rllib]==1.8.0) (3.2.0)\n",
      "Requirement already satisfied: pyyaml in c:\\users\\stefan\\git-repos\\private\\blog\\venv\\lib\\site-packages (from ray[rllib]==1.8.0) (6.0)\n",
      "Requirement already satisfied: gym in c:\\users\\stefan\\git-repos\\private\\blog\\venv\\lib\\site-packages (from ray[rllib]==1.8.0) (0.21.0)\n",
      "Requirement already satisfied: tabulate in c:\\users\\stefan\\git-repos\\private\\blog\\venv\\lib\\site-packages (from ray[rllib]==1.8.0) (0.8.9)\n",
      "Requirement already satisfied: tensorboardX>=1.9 in c:\\users\\stefan\\git-repos\\private\\blog\\venv\\lib\\site-packages (from ray[rllib]==1.8.0) (2.4)\n",
      "Requirement already satisfied: requests in c:\\users\\stefan\\git-repos\\private\\blog\\venv\\lib\\site-packages (from ray[rllib]==1.8.0) (2.25.1)\n",
      "Requirement already satisfied: scipy in c:\\users\\stefan\\git-repos\\private\\blog\\venv\\lib\\site-packages (from ray[rllib]==1.8.0) (1.7.2)\n",
      "Requirement already satisfied: matplotlib!=3.4.3 in c:\\users\\stefan\\git-repos\\private\\blog\\venv\\lib\\site-packages (from ray[rllib]==1.8.0) (3.5.0)\n",
      "Requirement already satisfied: dm-tree in c:\\users\\stefan\\git-repos\\private\\blog\\venv\\lib\\site-packages (from ray[rllib]==1.8.0) (0.1.6)\n",
      "Requirement already satisfied: lz4 in c:\\users\\stefan\\git-repos\\private\\blog\\venv\\lib\\site-packages (from ray[rllib]==1.8.0) (3.1.3)\n",
      "Requirement already satisfied: scikit-image in c:\\users\\stefan\\git-repos\\private\\blog\\venv\\lib\\site-packages (from ray[rllib]==1.8.0) (0.18.3)\n",
      "Requirement already satisfied: pandas in c:\\users\\stefan\\git-repos\\private\\blog\\venv\\lib\\site-packages (from ray[rllib]==1.8.0) (1.3.4)\n",
      "Requirement already satisfied: colorama in c:\\users\\stefan\\git-repos\\private\\blog\\venv\\lib\\site-packages (from click>=7.0->ray[rllib]==1.8.0) (0.4.4)\n",
      "Requirement already satisfied: six>=1.5.2 in c:\\users\\stefan\\git-repos\\private\\blog\\venv\\lib\\site-packages (from grpcio>=1.28.1->ray[rllib]==1.8.0) (1.15.0)\n",
      "Requirement already satisfied: kiwisolver>=1.0.1 in c:\\users\\stefan\\git-repos\\private\\blog\\venv\\lib\\site-packages (from matplotlib!=3.4.3->ray[rllib]==1.8.0) (1.3.2)\n",
      "Requirement already satisfied: pillow>=6.2.0 in c:\\users\\stefan\\git-repos\\private\\blog\\venv\\lib\\site-packages (from matplotlib!=3.4.3->ray[rllib]==1.8.0) (8.4.0)\n",
      "Requirement already satisfied: fonttools>=4.22.0 in c:\\users\\stefan\\git-repos\\private\\blog\\venv\\lib\\site-packages (from matplotlib!=3.4.3->ray[rllib]==1.8.0) (4.28.1)\n",
      "Requirement already satisfied: python-dateutil>=2.7 in c:\\users\\stefan\\git-repos\\private\\blog\\venv\\lib\\site-packages (from matplotlib!=3.4.3->ray[rllib]==1.8.0) (2.8.1)\n",
      "Requirement already satisfied: setuptools-scm>=4 in c:\\users\\stefan\\git-repos\\private\\blog\\venv\\lib\\site-packages (from matplotlib!=3.4.3->ray[rllib]==1.8.0) (6.3.2)\n",
      "Requirement already satisfied: packaging>=20.0 in c:\\users\\stefan\\git-repos\\private\\blog\\venv\\lib\\site-packages (from matplotlib!=3.4.3->ray[rllib]==1.8.0) (20.8)\n",
      "Requirement already satisfied: cycler>=0.10 in c:\\users\\stefan\\git-repos\\private\\blog\\venv\\lib\\site-packages (from matplotlib!=3.4.3->ray[rllib]==1.8.0) (0.11.0)\n",
      "Requirement already satisfied: pyparsing>=2.2.1 in c:\\users\\stefan\\git-repos\\private\\blog\\venv\\lib\\site-packages (from matplotlib!=3.4.3->ray[rllib]==1.8.0) (2.4.7)\n",
      "Requirement already satisfied: deprecated in c:\\users\\stefan\\git-repos\\private\\blog\\venv\\lib\\site-packages (from redis>=3.5.0->ray[rllib]==1.8.0) (1.2.13)\n",
      "Requirement already satisfied: cloudpickle>=1.2.0 in c:\\users\\stefan\\git-repos\\private\\blog\\venv\\lib\\site-packages (from gym->ray[rllib]==1.8.0) (2.0.0)\n",
      "Requirement already satisfied: pyrsistent>=0.14.0 in c:\\users\\stefan\\git-repos\\private\\blog\\venv\\lib\\site-packages (from jsonschema->ray[rllib]==1.8.0) (0.17.3)\n",
      "Requirement already satisfied: setuptools in c:\\users\\stefan\\git-repos\\private\\blog\\venv\\lib\\site-packages (from jsonschema->ray[rllib]==1.8.0) (46.1.3)\n",
      "Requirement already satisfied: pytz>=2017.3 in c:\\users\\stefan\\git-repos\\private\\blog\\venv\\lib\\site-packages (from pandas->ray[rllib]==1.8.0) (2020.5)\n",
      "Requirement already satisfied: idna<3,>=2.5 in c:\\users\\stefan\\git-repos\\private\\blog\\venv\\lib\\site-packages (from requests->ray[rllib]==1.8.0) (2.10)\n",
      "Requirement already satisfied: urllib3<1.27,>=1.21.1 in c:\\users\\stefan\\git-repos\\private\\blog\\venv\\lib\\site-packages (from requests->ray[rllib]==1.8.0) (1.26.2)\n",
      "Requirement already satisfied: certifi>=2017.4.17 in c:\\users\\stefan\\git-repos\\private\\blog\\venv\\lib\\site-packages (from requests->ray[rllib]==1.8.0) (2020.12.5)\n",
      "Requirement already satisfied: chardet<5,>=3.0.2 in c:\\users\\stefan\\git-repos\\private\\blog\\venv\\lib\\site-packages (from requests->ray[rllib]==1.8.0) (4.0.0)\n",
      "Requirement already satisfied: tifffile>=2019.7.26 in c:\\users\\stefan\\git-repos\\private\\blog\\venv\\lib\\site-packages (from scikit-image->ray[rllib]==1.8.0) (2021.11.2)\n",
      "Requirement already satisfied: imageio>=2.3.0 in c:\\users\\stefan\\git-repos\\private\\blog\\venv\\lib\\site-packages (from scikit-image->ray[rllib]==1.8.0) (2.10.4)\n",
      "Requirement already satisfied: PyWavelets>=1.1.1 in c:\\users\\stefan\\git-repos\\private\\blog\\venv\\lib\\site-packages (from scikit-image->ray[rllib]==1.8.0) (1.2.0)\n",
      "Requirement already satisfied: networkx>=2.0 in c:\\users\\stefan\\git-repos\\private\\blog\\venv\\lib\\site-packages (from scikit-image->ray[rllib]==1.8.0) (2.6.3)\n",
      "Requirement already satisfied: tomli>=1.0.0 in c:\\users\\stefan\\git-repos\\private\\blog\\venv\\lib\\site-packages (from setuptools-scm>=4->matplotlib!=3.4.3->ray[rllib]==1.8.0) (1.2.2)\n",
      "Requirement already satisfied: wrapt<2,>=1.10 in c:\\users\\stefan\\git-repos\\private\\blog\\venv\\lib\\site-packages (from deprecated->redis>=3.5.0->ray[rllib]==1.8.0) (1.13.3)\n",
      "Requirement already satisfied: tensorflow==2.7.0 in c:\\users\\stefan\\git-repos\\private\\blog\\venv\\lib\\site-packages (2.7.0)\n",
      "Requirement already satisfied: libclang>=9.0.1 in c:\\users\\stefan\\git-repos\\private\\blog\\venv\\lib\\site-packages (from tensorflow==2.7.0) (12.0.0)\n",
      "Requirement already satisfied: protobuf>=3.9.2 in c:\\users\\stefan\\git-repos\\private\\blog\\venv\\lib\\site-packages (from tensorflow==2.7.0) (3.19.1)\n",
      "Requirement already satisfied: tensorboard~=2.6 in c:\\users\\stefan\\git-repos\\private\\blog\\venv\\lib\\site-packages (from tensorflow==2.7.0) (2.7.0)\n",
      "Requirement already satisfied: grpcio<2.0,>=1.24.3 in c:\\users\\stefan\\git-repos\\private\\blog\\venv\\lib\\site-packages (from tensorflow==2.7.0) (1.41.1)\n",
      "Requirement already satisfied: opt-einsum>=2.3.2 in c:\\users\\stefan\\git-repos\\private\\blog\\venv\\lib\\site-packages (from tensorflow==2.7.0) (3.3.0)\n",
      "Requirement already satisfied: gast<0.5.0,>=0.2.1 in c:\\users\\stefan\\git-repos\\private\\blog\\venv\\lib\\site-packages (from tensorflow==2.7.0) (0.4.0)\n",
      "Requirement already satisfied: termcolor>=1.1.0 in c:\\users\\stefan\\git-repos\\private\\blog\\venv\\lib\\site-packages (from tensorflow==2.7.0) (1.1.0)\n",
      "Requirement already satisfied: keras<2.8,>=2.7.0rc0 in c:\\users\\stefan\\git-repos\\private\\blog\\venv\\lib\\site-packages (from tensorflow==2.7.0) (2.7.0)\n",
      "Requirement already satisfied: tensorflow-estimator<2.8,~=2.7.0rc0 in c:\\users\\stefan\\git-repos\\private\\blog\\venv\\lib\\site-packages (from tensorflow==2.7.0) (2.7.0)\n",
      "Requirement already satisfied: wheel<1.0,>=0.32.0 in c:\\users\\stefan\\git-repos\\private\\blog\\venv\\lib\\site-packages (from tensorflow==2.7.0) (0.34.2)\n",
      "Requirement already satisfied: keras-preprocessing>=1.1.1 in c:\\users\\stefan\\git-repos\\private\\blog\\venv\\lib\\site-packages (from tensorflow==2.7.0) (1.1.2)\n",
      "Requirement already satisfied: flatbuffers<3.0,>=1.12 in c:\\users\\stefan\\git-repos\\private\\blog\\venv\\lib\\site-packages (from tensorflow==2.7.0) (2.0)\n",
      "Requirement already satisfied: six>=1.12.0 in c:\\users\\stefan\\git-repos\\private\\blog\\venv\\lib\\site-packages (from tensorflow==2.7.0) (1.15.0)\n",
      "Requirement already satisfied: h5py>=2.9.0 in c:\\users\\stefan\\git-repos\\private\\blog\\venv\\lib\\site-packages (from tensorflow==2.7.0) (3.6.0)\n",
      "Requirement already satisfied: tensorflow-io-gcs-filesystem>=0.21.0 in c:\\users\\stefan\\git-repos\\private\\blog\\venv\\lib\\site-packages (from tensorflow==2.7.0) (0.22.0)\n",
      "Requirement already satisfied: absl-py>=0.4.0 in c:\\users\\stefan\\git-repos\\private\\blog\\venv\\lib\\site-packages (from tensorflow==2.7.0) (1.0.0)\n",
      "Requirement already satisfied: typing-extensions>=3.6.6 in c:\\users\\stefan\\git-repos\\private\\blog\\venv\\lib\\site-packages (from tensorflow==2.7.0) (4.0.0)\n",
      "Requirement already satisfied: google-pasta>=0.1.1 in c:\\users\\stefan\\git-repos\\private\\blog\\venv\\lib\\site-packages (from tensorflow==2.7.0) (0.2.0)\n",
      "Requirement already satisfied: wrapt>=1.11.0 in c:\\users\\stefan\\git-repos\\private\\blog\\venv\\lib\\site-packages (from tensorflow==2.7.0) (1.13.3)\n",
      "Requirement already satisfied: astunparse>=1.6.0 in c:\\users\\stefan\\git-repos\\private\\blog\\venv\\lib\\site-packages (from tensorflow==2.7.0) (1.6.3)\n",
      "Requirement already satisfied: numpy>=1.14.5 in c:\\users\\stefan\\git-repos\\private\\blog\\venv\\lib\\site-packages (from tensorflow==2.7.0) (1.21.4)\n",
      "Requirement already satisfied: tensorboard-data-server<0.7.0,>=0.6.0 in c:\\users\\stefan\\git-repos\\private\\blog\\venv\\lib\\site-packages (from tensorboard~=2.6->tensorflow==2.7.0) (0.6.1)\n",
      "Requirement already satisfied: setuptools>=41.0.0 in c:\\users\\stefan\\git-repos\\private\\blog\\venv\\lib\\site-packages (from tensorboard~=2.6->tensorflow==2.7.0) (46.1.3)\n",
      "Requirement already satisfied: tensorboard-plugin-wit>=1.6.0 in c:\\users\\stefan\\git-repos\\private\\blog\\venv\\lib\\site-packages (from tensorboard~=2.6->tensorflow==2.7.0) (1.8.0)\n",
      "Requirement already satisfied: google-auth<3,>=1.6.3 in c:\\users\\stefan\\git-repos\\private\\blog\\venv\\lib\\site-packages (from tensorboard~=2.6->tensorflow==2.7.0) (2.3.3)\n",
      "Requirement already satisfied: google-auth-oauthlib<0.5,>=0.4.1 in c:\\users\\stefan\\git-repos\\private\\blog\\venv\\lib\\site-packages (from tensorboard~=2.6->tensorflow==2.7.0) (0.4.6)\n",
      "Requirement already satisfied: requests<3,>=2.21.0 in c:\\users\\stefan\\git-repos\\private\\blog\\venv\\lib\\site-packages (from tensorboard~=2.6->tensorflow==2.7.0) (2.25.1)\n",
      "Requirement already satisfied: markdown>=2.6.8 in c:\\users\\stefan\\git-repos\\private\\blog\\venv\\lib\\site-packages (from tensorboard~=2.6->tensorflow==2.7.0) (3.3.5)\n",
      "Requirement already satisfied: werkzeug>=0.11.15 in c:\\users\\stefan\\git-repos\\private\\blog\\venv\\lib\\site-packages (from tensorboard~=2.6->tensorflow==2.7.0) (2.0.2)\n",
      "Requirement already satisfied: pyasn1-modules>=0.2.1 in c:\\users\\stefan\\git-repos\\private\\blog\\venv\\lib\\site-packages (from google-auth<3,>=1.6.3->tensorboard~=2.6->tensorflow==2.7.0) (0.2.8)\n",
      "Requirement already satisfied: rsa<5,>=3.1.4 in c:\\users\\stefan\\git-repos\\private\\blog\\venv\\lib\\site-packages (from google-auth<3,>=1.6.3->tensorboard~=2.6->tensorflow==2.7.0) (4.7.2)\n",
      "Requirement already satisfied: cachetools<5.0,>=2.0.0 in c:\\users\\stefan\\git-repos\\private\\blog\\venv\\lib\\site-packages (from google-auth<3,>=1.6.3->tensorboard~=2.6->tensorflow==2.7.0) (4.2.4)\n",
      "Requirement already satisfied: requests-oauthlib>=0.7.0 in c:\\users\\stefan\\git-repos\\private\\blog\\venv\\lib\\site-packages (from google-auth-oauthlib<0.5,>=0.4.1->tensorboard~=2.6->tensorflow==2.7.0) (1.3.0)\n",
      "Requirement already satisfied: importlib-metadata>='4.4' in c:\\users\\stefan\\git-repos\\private\\blog\\venv\\lib\\site-packages (from markdown>=2.6.8->tensorboard~=2.6->tensorflow==2.7.0) (4.8.2)\n",
      "Requirement already satisfied: idna<3,>=2.5 in c:\\users\\stefan\\git-repos\\private\\blog\\venv\\lib\\site-packages (from requests<3,>=2.21.0->tensorboard~=2.6->tensorflow==2.7.0) (2.10)\n",
      "Requirement already satisfied: chardet<5,>=3.0.2 in c:\\users\\stefan\\git-repos\\private\\blog\\venv\\lib\\site-packages (from requests<3,>=2.21.0->tensorboard~=2.6->tensorflow==2.7.0) (4.0.0)\n",
      "Requirement already satisfied: certifi>=2017.4.17 in c:\\users\\stefan\\git-repos\\private\\blog\\venv\\lib\\site-packages (from requests<3,>=2.21.0->tensorboard~=2.6->tensorflow==2.7.0) (2020.12.5)\n",
      "Requirement already satisfied: urllib3<1.27,>=1.21.1 in c:\\users\\stefan\\git-repos\\private\\blog\\venv\\lib\\site-packages (from requests<3,>=2.21.0->tensorboard~=2.6->tensorflow==2.7.0) (1.26.2)\n",
      "Requirement already satisfied: zipp>=0.5 in c:\\users\\stefan\\git-repos\\private\\blog\\venv\\lib\\site-packages (from importlib-metadata>='4.4'->markdown>=2.6.8->tensorboard~=2.6->tensorflow==2.7.0) (3.6.0)\n",
      "Requirement already satisfied: pyasn1<0.5.0,>=0.4.6 in c:\\users\\stefan\\git-repos\\private\\blog\\venv\\lib\\site-packages (from pyasn1-modules>=0.2.1->google-auth<3,>=1.6.3->tensorboard~=2.6->tensorflow==2.7.0) (0.4.8)\n",
      "Requirement already satisfied: oauthlib>=3.0.0 in c:\\users\\stefan\\git-repos\\private\\blog\\venv\\lib\\site-packages (from requests-oauthlib>=0.7.0->google-auth-oauthlib<0.5,>=0.4.1->tensorboard~=2.6->tensorflow==2.7.0) (3.1.1)\n",
      "Requirement already satisfied: seaborn==0.11.2 in c:\\users\\stefan\\git-repos\\private\\blog\\venv\\lib\\site-packages (0.11.2)\n",
      "Requirement already satisfied: matplotlib>=2.2 in c:\\users\\stefan\\git-repos\\private\\blog\\venv\\lib\\site-packages (from seaborn==0.11.2) (3.5.0)\n",
      "Requirement already satisfied: numpy>=1.15 in c:\\users\\stefan\\git-repos\\private\\blog\\venv\\lib\\site-packages (from seaborn==0.11.2) (1.21.4)\n",
      "Requirement already satisfied: scipy>=1.0 in c:\\users\\stefan\\git-repos\\private\\blog\\venv\\lib\\site-packages (from seaborn==0.11.2) (1.7.2)\n",
      "Requirement already satisfied: pandas>=0.23 in c:\\users\\stefan\\git-repos\\private\\blog\\venv\\lib\\site-packages (from seaborn==0.11.2) (1.3.4)\n",
      "Requirement already satisfied: cycler>=0.10 in c:\\users\\stefan\\git-repos\\private\\blog\\venv\\lib\\site-packages (from matplotlib>=2.2->seaborn==0.11.2) (0.11.0)\n",
      "Requirement already satisfied: setuptools-scm>=4 in c:\\users\\stefan\\git-repos\\private\\blog\\venv\\lib\\site-packages (from matplotlib>=2.2->seaborn==0.11.2) (6.3.2)\n",
      "Requirement already satisfied: python-dateutil>=2.7 in c:\\users\\stefan\\git-repos\\private\\blog\\venv\\lib\\site-packages (from matplotlib>=2.2->seaborn==0.11.2) (2.8.1)\n",
      "Requirement already satisfied: kiwisolver>=1.0.1 in c:\\users\\stefan\\git-repos\\private\\blog\\venv\\lib\\site-packages (from matplotlib>=2.2->seaborn==0.11.2) (1.3.2)\n",
      "Requirement already satisfied: packaging>=20.0 in c:\\users\\stefan\\git-repos\\private\\blog\\venv\\lib\\site-packages (from matplotlib>=2.2->seaborn==0.11.2) (20.8)\n",
      "Requirement already satisfied: fonttools>=4.22.0 in c:\\users\\stefan\\git-repos\\private\\blog\\venv\\lib\\site-packages (from matplotlib>=2.2->seaborn==0.11.2) (4.28.1)\n",
      "Requirement already satisfied: pyparsing>=2.2.1 in c:\\users\\stefan\\git-repos\\private\\blog\\venv\\lib\\site-packages (from matplotlib>=2.2->seaborn==0.11.2) (2.4.7)\n",
      "Requirement already satisfied: pillow>=6.2.0 in c:\\users\\stefan\\git-repos\\private\\blog\\venv\\lib\\site-packages (from matplotlib>=2.2->seaborn==0.11.2) (8.4.0)\n",
      "Requirement already satisfied: pytz>=2017.3 in c:\\users\\stefan\\git-repos\\private\\blog\\venv\\lib\\site-packages (from pandas>=0.23->seaborn==0.11.2) (2020.5)\n",
      "Requirement already satisfied: six>=1.5 in c:\\users\\stefan\\git-repos\\private\\blog\\venv\\lib\\site-packages (from python-dateutil>=2.7->matplotlib>=2.2->seaborn==0.11.2) (1.15.0)\n",
      "Requirement already satisfied: setuptools in c:\\users\\stefan\\git-repos\\private\\blog\\venv\\lib\\site-packages (from setuptools-scm>=4->matplotlib>=2.2->seaborn==0.11.2) (46.1.3)\n",
      "Requirement already satisfied: tomli>=1.0.0 in c:\\users\\stefan\\git-repos\\private\\blog\\venv\\lib\\site-packages (from setuptools-scm>=4->matplotlib>=2.2->seaborn==0.11.2) (1.2.2)\n",
      "Requirement already satisfied: gym==0.21.0 in c:\\users\\stefan\\git-repos\\private\\blog\\venv\\lib\\site-packages (0.21.0)\n",
      "Requirement already satisfied: cloudpickle>=1.2.0 in c:\\users\\stefan\\git-repos\\private\\blog\\venv\\lib\\site-packages (from gym==0.21.0) (2.0.0)\n",
      "Requirement already satisfied: numpy>=1.18.0 in c:\\users\\stefan\\git-repos\\private\\blog\\venv\\lib\\site-packages (from gym==0.21.0) (1.21.4)\n",
      "Requirement already satisfied: pyglet==1.5.21 in c:\\users\\stefan\\git-repos\\private\\blog\\venv\\lib\\site-packages (1.5.21)\n"
     ]
    }
   ],
   "source": [
    "#collapse-output\n",
    "!pip install ray[rllib]==1.8.0\n",
    "!pip install tensorflow==2.7.0\n",
    "!pip install seaborn==0.11.2\n",
    "!pip install gym==0.21.0\n",
    "!pip install pyglet==1.5.21"
   ],
   "metadata": {
    "collapsed": false,
    "pycharm": {
     "name": "#%%\n"
    }
   }
  },
  {
   "cell_type": "markdown",
   "source": [
    "Import relevant dependencies and set constants."
   ],
   "metadata": {
    "collapsed": false,
    "pycharm": {
     "name": "#%% md\n"
    }
   }
  },
  {
   "cell_type": "code",
   "execution_count": 2,
   "outputs": [
    {
     "name": "stderr",
     "output_type": "stream",
     "text": [
      "c:\\users\\stefan\\git-repos\\private\\blog\\venv\\lib\\site-packages\\redis\\connection.py:77: UserWarning: redis-py works best with hiredis. Please consider installing\n",
      "  warnings.warn(msg)\n"
     ]
    }
   ],
   "source": [
    "import ray\n",
    "import ray.tune\n",
    "from ray.rllib.agents import ppo\n",
    "\n",
    "# adjust num_cpus and num_gpus to your system\n",
    "# for some reason, num_cpus=2 gets stuck on my system (when trying to train)\n",
    "ray.init(num_cpus=3, ignore_reinit_error=True)\n",
    "\n",
    "# stop conditions based on training iterations (each with 4000 train steps)\n",
    "stop = {\"training_iteration\": 1}"
   ],
   "metadata": {
    "collapsed": false,
    "pycharm": {
     "name": "#%%\n"
    }
   }
  },
  {
   "cell_type": "markdown",
   "source": [
    "## Explicitly Observe State (Velocity)\n",
    "\n",
    "\n",
    "The default `CartPole-v1` environment has four observations as described [here](https://github.com/openai/gym/blob/master/gym/envs/classic_control/cartpole.py#L26):\n",
    "Cart position, cart velocity, pole angle, and pole angular velocity"
   ],
   "metadata": {
    "collapsed": false,
    "pycharm": {
     "name": "#%% md\n"
    }
   }
  },
  {
   "cell_type": "code",
   "execution_count": 3,
   "outputs": [
    {
     "data": {
      "text/plain": "Box([-4.8000002e+00 -3.4028235e+38 -4.1887903e-01 -3.4028235e+38], [4.8000002e+00 3.4028235e+38 4.1887903e-01 3.4028235e+38], (4,), float32)"
     },
     "execution_count": 3,
     "metadata": {},
     "output_type": "execute_result"
    }
   ],
   "source": [
    "import gym\n",
    "\n",
    "env = gym.make(\"CartPole-v1\")\n",
    "env.observation_space"
   ],
   "metadata": {
    "collapsed": false,
    "pycharm": {
     "name": "#%%\n"
    }
   }
  },
  {
   "cell_type": "code",
   "execution_count": 4,
   "metadata": {
    "collapsed": false,
    "jupyter": {
     "outputs_hidden": false
    },
    "pycharm": {
     "name": "#%%\n"
    }
   },
   "outputs": [
    {
     "data": {
      "text/plain": "<IPython.core.display.HTML object>",
      "text/html": "== Status ==<br>Current time: 2021-11-17 21:05:24 (running for 00:00:00.14)<br>Memory usage on this node: 9.6/11.9 GiB<br>Using FIFO scheduling algorithm.<br>Resources requested: 0/3 CPUs, 0/0 GPUs, 0.0/1.63 GiB heap, 0.0/0.81 GiB objects<br>Result logdir: C:\\Users\\Stefan\\ray_results\\PPO<br>Number of trials: 1/1 (1 PENDING)<br><table>\n<thead>\n<tr><th>Trial name                 </th><th>status  </th><th>loc  </th></tr>\n</thead>\n<tbody>\n<tr><td>PPO_CartPole-v1_b3192_00000</td><td>PENDING </td><td>     </td></tr>\n</tbody>\n</table><br><br>"
     },
     "metadata": {},
     "output_type": "display_data"
    },
    {
     "name": "stderr",
     "output_type": "stream",
     "text": [
      "\u001B[2m\u001B[36m(pid=12888)\u001B[0m 2021-11-17 21:05:30,855\tINFO trainer.py:753 -- Tip: set framework=tfe or the --eager flag to enable TensorFlow eager execution\r\n",
      "\u001B[2m\u001B[36m(pid=12888)\u001B[0m 2021-11-17 21:05:30,855\tINFO ppo.py:166 -- In multi-agent mode, policies will be optimized sequentially by the multi-GPU optimizer. Consider setting simple_optimizer=True if this doesn't work for you.\r\n",
      "\u001B[2m\u001B[36m(pid=12888)\u001B[0m 2021-11-17 21:05:30,856\tINFO trainer.py:770 -- Current log_level is WARN. For more information, set 'log_level': 'INFO' / 'DEBUG' or use the -v and -vv flags.\r\n",
      "\u001B[2m\u001B[36m(pid=16380)\u001B[0m 2021-11-17 21:05:38,596\tWARNING deprecation.py:38 -- DeprecationWarning: `SampleBatch['is_training']` has been deprecated. Use `SampleBatch.is_training` instead. This will raise an error in the future!\r\n",
      "\u001B[2m\u001B[36m(pid=12888)\u001B[0m 2021-11-17 21:05:40,120\tWARNING deprecation.py:38 -- DeprecationWarning: `SampleBatch['is_training']` has been deprecated. Use `SampleBatch.is_training` instead. This will raise an error in the future!\r\n"
     ]
    },
    {
     "data": {
      "text/plain": "<IPython.core.display.HTML object>",
      "text/html": "== Status ==<br>Current time: 2021-11-17 21:05:41 (running for 00:00:17.32)<br>Memory usage on this node: 10.2/11.9 GiB<br>Using FIFO scheduling algorithm.<br>Resources requested: 3.0/3 CPUs, 0/0 GPUs, 0.0/1.63 GiB heap, 0.0/0.81 GiB objects<br>Result logdir: C:\\Users\\Stefan\\ray_results\\PPO<br>Number of trials: 1/1 (1 RUNNING)<br><table>\n<thead>\n<tr><th>Trial name                 </th><th>status  </th><th>loc            </th></tr>\n</thead>\n<tbody>\n<tr><td>PPO_CartPole-v1_b3192_00000</td><td>RUNNING </td><td>127.0.0.1:12888</td></tr>\n</tbody>\n</table><br><br>"
     },
     "metadata": {},
     "output_type": "display_data"
    },
    {
     "name": "stderr",
     "output_type": "stream",
     "text": [
      "\u001B[2m\u001B[36m(pid=12888)\u001B[0m 2021-11-17 21:05:41,327\tWARNING trainer_template.py:185 -- `execution_plan` functions should accept `trainer`, `workers`, and `config` as args!\r\n",
      "\u001B[2m\u001B[36m(pid=12888)\u001B[0m 2021-11-17 21:05:41,327\tINFO trainable.py:110 -- Trainable.setup took 10.473 seconds. If your trainable is slow to initialize, consider setting reuse_actors=True to reduce actor creation overheads.\r\n",
      "\u001B[2m\u001B[36m(pid=12888)\u001B[0m 2021-11-17 21:05:41,330\tWARNING util.py:57 -- Install gputil for GPU system monitoring.\r\n"
     ]
    },
    {
     "data": {
      "text/plain": "<IPython.core.display.HTML object>",
      "text/html": "== Status ==<br>Current time: 2021-11-17 21:05:42 (running for 00:00:18.36)<br>Memory usage on this node: 10.2/11.9 GiB<br>Using FIFO scheduling algorithm.<br>Resources requested: 3.0/3 CPUs, 0/0 GPUs, 0.0/1.63 GiB heap, 0.0/0.81 GiB objects<br>Result logdir: C:\\Users\\Stefan\\ray_results\\PPO<br>Number of trials: 1/1 (1 RUNNING)<br><table>\n<thead>\n<tr><th>Trial name                 </th><th>status  </th><th>loc            </th></tr>\n</thead>\n<tbody>\n<tr><td>PPO_CartPole-v1_b3192_00000</td><td>RUNNING </td><td>127.0.0.1:12888</td></tr>\n</tbody>\n</table><br><br>"
     },
     "metadata": {},
     "output_type": "display_data"
    },
    {
     "name": "stderr",
     "output_type": "stream",
     "text": [
      "\u001B[2m\u001B[36m(pid=12888)\u001B[0m 2021-11-17 21:05:45,186\tWARNING deprecation.py:38 -- DeprecationWarning: `slice` has been deprecated. Use `SampleBatch[start:stop]` instead. This will raise an error in the future!\r\n"
     ]
    },
    {
     "data": {
      "text/plain": "<IPython.core.display.HTML object>",
      "text/html": "== Status ==<br>Current time: 2021-11-17 21:05:47 (running for 00:00:23.41)<br>Memory usage on this node: 10.2/11.9 GiB<br>Using FIFO scheduling algorithm.<br>Resources requested: 3.0/3 CPUs, 0/0 GPUs, 0.0/1.63 GiB heap, 0.0/0.81 GiB objects<br>Result logdir: C:\\Users\\Stefan\\ray_results\\PPO<br>Number of trials: 1/1 (1 RUNNING)<br><table>\n<thead>\n<tr><th>Trial name                 </th><th>status  </th><th>loc            </th></tr>\n</thead>\n<tbody>\n<tr><td>PPO_CartPole-v1_b3192_00000</td><td>RUNNING </td><td>127.0.0.1:12888</td></tr>\n</tbody>\n</table><br><br>"
     },
     "metadata": {},
     "output_type": "display_data"
    },
    {
     "name": "stdout",
     "output_type": "stream",
     "text": [
      "Result for PPO_CartPole-v1_b3192_00000:\n",
      "  agent_timesteps_total: 4000\n",
      "  custom_metrics: {}\n",
      "  date: 2021-11-17_21-05-48\n",
      "  done: true\n",
      "  episode_len_mean: 23.203488372093023\n",
      "  episode_media: {}\n",
      "  episode_reward_max: 73.0\n",
      "  episode_reward_mean: 23.203488372093023\n",
      "  episode_reward_min: 9.0\n",
      "  episodes_this_iter: 172\n",
      "  episodes_total: 172\n",
      "  experiment_id: f1e8fb3735334df18704d65d64d59d44\n",
      "  hostname: nb-stschn\n",
      "  info:\n",
      "    learner:\n",
      "      default_policy:\n",
      "        custom_metrics: {}\n",
      "        learner_stats:\n",
      "          cur_kl_coeff: 0.20000000298023224\n",
      "          cur_lr: 4.999999873689376e-05\n",
      "          entropy: 0.6665485501289368\n",
      "          entropy_coeff: 0.0\n",
      "          kl: 0.027447432279586792\n",
      "          model: {}\n",
      "          policy_loss: -0.038158610463142395\n",
      "          total_loss: 220.3019561767578\n",
      "          vf_explained_var: 0.01699449121952057\n",
      "          vf_loss: 220.33462524414062\n",
      "    num_agent_steps_sampled: 4000\n",
      "    num_agent_steps_trained: 4000\n",
      "    num_steps_sampled: 4000\n",
      "    num_steps_trained: 4000\n",
      "  iterations_since_restore: 1\n",
      "  node_ip: 127.0.0.1\n",
      "  num_healthy_workers: 2\n",
      "  off_policy_estimator: {}\n",
      "  perf:\n",
      "    cpu_util_percent: 67.37272727272726\n",
      "    ram_util_percent: 85.98181818181818\n",
      "  pid: 12888\n",
      "  policy_reward_max: {}\n",
      "  policy_reward_mean: {}\n",
      "  policy_reward_min: {}\n",
      "  sampler_perf:\n",
      "    mean_action_processing_ms: 0.09073569083753306\n",
      "    mean_env_render_ms: 0.0\n",
      "    mean_env_wait_ms: 0.10815646047864709\n",
      "    mean_inference_ms: 1.489748525889395\n",
      "    mean_raw_obs_processing_ms: 0.16940676370591487\n",
      "  time_since_restore: 7.639729022979736\n",
      "  time_this_iter_s: 7.639729022979736\n",
      "  time_total_s: 7.639729022979736\n",
      "  timers:\n",
      "    learn_throughput: 1058.918\n",
      "    learn_time_ms: 3777.442\n",
      "    load_throughput: 0.0\n",
      "    load_time_ms: 0.0\n",
      "    sample_throughput: 1036.368\n",
      "    sample_time_ms: 3859.634\n",
      "    update_time_ms: 4.002\n",
      "  timestamp: 1637179548\n",
      "  timesteps_since_restore: 0\n",
      "  timesteps_this_iter: 0\n",
      "  timesteps_total: 4000\n",
      "  training_iteration: 1\n",
      "  trial_id: b3192_00000\n",
      "  \n"
     ]
    },
    {
     "data": {
      "text/plain": "<IPython.core.display.HTML object>",
      "text/html": "== Status ==<br>Current time: 2021-11-17 21:05:49 (running for 00:00:25.03)<br>Memory usage on this node: 10.2/11.9 GiB<br>Using FIFO scheduling algorithm.<br>Resources requested: 0/3 CPUs, 0/0 GPUs, 0.0/1.63 GiB heap, 0.0/0.81 GiB objects<br>Result logdir: C:\\Users\\Stefan\\ray_results\\PPO<br>Number of trials: 1/1 (1 TERMINATED)<br><table>\n<thead>\n<tr><th>Trial name                 </th><th>status    </th><th>loc            </th><th style=\"text-align: right;\">  iter</th><th style=\"text-align: right;\">  total time (s)</th><th style=\"text-align: right;\">  ts</th><th style=\"text-align: right;\">  reward</th><th style=\"text-align: right;\">  episode_reward_max</th><th style=\"text-align: right;\">  episode_reward_min</th><th style=\"text-align: right;\">  episode_len_mean</th></tr>\n</thead>\n<tbody>\n<tr><td>PPO_CartPole-v1_b3192_00000</td><td>TERMINATED</td><td>127.0.0.1:12888</td><td style=\"text-align: right;\">     1</td><td style=\"text-align: right;\">         7.63973</td><td style=\"text-align: right;\">4000</td><td style=\"text-align: right;\"> 23.2035</td><td style=\"text-align: right;\">                  73</td><td style=\"text-align: right;\">                   9</td><td style=\"text-align: right;\">           23.2035</td></tr>\n</tbody>\n</table><br><br>"
     },
     "metadata": {},
     "output_type": "display_data"
    },
    {
     "name": "stderr",
     "output_type": "stream",
     "text": [
      "\u001B[2m\u001B[36m(pid=12888)\u001B[0m Windows fatal exception: access violation\n",
      "\u001B[2m\u001B[36m(pid=12888)\u001B[0m \n",
      "\u001B[2m\u001B[36m(pid=18016)\u001B[0m [2021-11-17 21:05:49,193 E 18016 17996] raylet_client.cc:159: IOError: Unknown error [RayletClient] Failed to disconnect from raylet.\r\n",
      "\u001B[2m\u001B[36m(pid=18016)\u001B[0m Windows fatal exception: access violation\n",
      "\u001B[2m\u001B[36m(pid=18016)\u001B[0m \n",
      "2021-11-17 21:05:49,306\tINFO tune.py:630 -- Total run time: 25.36 seconds (24.99 seconds for the tuning loop).\n"
     ]
    },
    {
     "name": "stdout",
     "output_type": "stream",
     "text": [
      "Training finished successfully\n"
     ]
    },
    {
     "name": "stderr",
     "output_type": "stream",
     "text": [
      "\u001B[2m\u001B[36m(pid=16380)\u001B[0m [2021-11-17 21:05:49,206 E 16380 19280] raylet_client.cc:159: IOError: Unknown error [RayletClient] Failed to disconnect from raylet.\r\n",
      "\u001B[2m\u001B[36m(pid=16380)\u001B[0m Windows fatal exception: access violation\n",
      "\u001B[2m\u001B[36m(pid=16380)\u001B[0m \n"
     ]
    }
   ],
   "source": [
    "#collapse-output\n",
    "\n",
    "# load the PPO default config\n",
    "config = ppo.DEFAULT_CONFIG.copy()\n",
    "# use the normal, default CartPole-v1 envrion\n",
    "config[\"env\"] = \"CartPole-v1\"\n",
    "\n",
    "# train; this takes a while\n",
    "results_explicit = ray.tune.run(\"PPO\", config=config, stop=stop)\n",
    "print(\"Training finished successfully\")"
   ]
  },
  {
   "cell_type": "code",
   "execution_count": 5,
   "outputs": [
    {
     "data": {
      "text/plain": "23.203488372093023"
     },
     "execution_count": 5,
     "metadata": {},
     "output_type": "execute_result"
    }
   ],
   "source": [
    "# check results\n",
    "results_explicit.default_metric = \"episode_reward_mean\"\n",
    "results_explicit.default_mode = \"max\"\n",
    "# print the mean episode reward = episode length --> higher = better\n",
    "results_explicit.best_result[\"episode_reward_mean\"]"
   ],
   "metadata": {
    "collapsed": false,
    "pycharm": {
     "name": "#%%\n"
    }
   }
  },
  {
   "cell_type": "code",
   "execution_count": 6,
   "outputs": [
    {
     "data": {
      "text/plain": "   episode_reward_max  episode_reward_min  episode_reward_mean  \\\n0                73.0                 9.0            23.203488   \n\n   episode_len_mean  episodes_this_iter  num_healthy_workers  timesteps_total  \\\n0         23.203488                 172                    2             4000   \n\n   timesteps_this_iter  agent_timesteps_total  done  ...  \\\n0                    0                   4000  True  ...   \n\n   config/synchronize_filters  \\\n0                        True   \n\n                              config/tf_session_args  \\\n0  {'allow_soft_placement': True, 'device_count':...   \n\n  config/timesteps_per_iteration config/train_batch_size config/use_critic  \\\n0                              0                    4000              True   \n\n   config/use_gae  config/vf_clip_param  config/vf_loss_coeff  \\\n0            True                  10.0                   1.0   \n\n   config/vf_share_layers                                             logdir  \n0                      -1  C:\\Users\\Stefan\\ray_results\\PPO\\PPO_CartPole-v...  \n\n[1 rows x 148 columns]",
      "text/html": "<div>\n<style scoped>\n    .dataframe tbody tr th:only-of-type {\n        vertical-align: middle;\n    }\n\n    .dataframe tbody tr th {\n        vertical-align: top;\n    }\n\n    .dataframe thead th {\n        text-align: right;\n    }\n</style>\n<table border=\"1\" class=\"dataframe\">\n  <thead>\n    <tr style=\"text-align: right;\">\n      <th></th>\n      <th>episode_reward_max</th>\n      <th>episode_reward_min</th>\n      <th>episode_reward_mean</th>\n      <th>episode_len_mean</th>\n      <th>episodes_this_iter</th>\n      <th>num_healthy_workers</th>\n      <th>timesteps_total</th>\n      <th>timesteps_this_iter</th>\n      <th>agent_timesteps_total</th>\n      <th>done</th>\n      <th>...</th>\n      <th>config/synchronize_filters</th>\n      <th>config/tf_session_args</th>\n      <th>config/timesteps_per_iteration</th>\n      <th>config/train_batch_size</th>\n      <th>config/use_critic</th>\n      <th>config/use_gae</th>\n      <th>config/vf_clip_param</th>\n      <th>config/vf_loss_coeff</th>\n      <th>config/vf_share_layers</th>\n      <th>logdir</th>\n    </tr>\n  </thead>\n  <tbody>\n    <tr>\n      <th>0</th>\n      <td>73.0</td>\n      <td>9.0</td>\n      <td>23.203488</td>\n      <td>23.203488</td>\n      <td>172</td>\n      <td>2</td>\n      <td>4000</td>\n      <td>0</td>\n      <td>4000</td>\n      <td>True</td>\n      <td>...</td>\n      <td>True</td>\n      <td>{'allow_soft_placement': True, 'device_count':...</td>\n      <td>0</td>\n      <td>4000</td>\n      <td>True</td>\n      <td>True</td>\n      <td>10.0</td>\n      <td>1.0</td>\n      <td>-1</td>\n      <td>C:\\Users\\Stefan\\ray_results\\PPO\\PPO_CartPole-v...</td>\n    </tr>\n  </tbody>\n</table>\n<p>1 rows × 148 columns</p>\n</div>"
     },
     "execution_count": 6,
     "metadata": {},
     "output_type": "execute_result"
    }
   ],
   "source": [
    "results_explicit.dataframe()"
   ],
   "metadata": {
    "collapsed": false,
    "pycharm": {
     "name": "#%%\n"
    }
   }
  },
  {
   "cell_type": "code",
   "execution_count": 7,
   "outputs": [
    {
     "name": "stderr",
     "output_type": "stream",
     "text": [
      "c:\\users\\stefan\\git-repos\\private\\blog\\venv\\lib\\site-packages\\seaborn\\_decorators.py:36: FutureWarning: Pass the following variables as keyword args: x, y. From version 0.12, the only valid positional argument will be `data`, and passing other arguments without an explicit keyword will result in an error or misinterpretation.\n",
      "  warnings.warn(\n"
     ]
    },
    {
     "data": {
      "text/plain": "<AxesSubplot:>"
     },
     "execution_count": 7,
     "metadata": {},
     "output_type": "execute_result"
    },
    {
     "data": {
      "text/plain": "<Figure size 432x288 with 1 Axes>",
      "image/png": "[encoded data removed]"
     },
     "metadata": {
      "needs_background": "light"
     },
     "output_type": "display_data"
    }
   ],
   "source": [
    "\n",
    "import seaborn as sns\n",
    "\n",
    "\n",
    "eps_lengths = results_explicit.best_result[\"hist_stats\"][\"episode_lengths\"]\n",
    "eps = [i for i in range(len(eps_lengths))]\n",
    "sns.scatterplot(eps, eps_lengths)"
   ],
   "metadata": {
    "collapsed": false,
    "pycharm": {
     "name": "#%%\n"
    }
   }
  },
  {
   "cell_type": "markdown",
   "source": [
    "## Do Not Observe Velocity\n",
    "\n",
    "In many practical"
   ],
   "metadata": {
    "collapsed": false,
    "pycharm": {
     "name": "#%% md\n"
    }
   }
  },
  {
   "cell_type": "code",
   "execution_count": 8,
   "outputs": [
    {
     "data": {
      "text/plain": "<IPython.core.display.HTML object>",
      "text/html": "== Status ==<br>Current time: 2021-11-17 21:05:50 (running for 00:00:00.13)<br>Memory usage on this node: 9.5/11.9 GiB<br>Using FIFO scheduling algorithm.<br>Resources requested: 0/3 CPUs, 0/0 GPUs, 0.0/1.63 GiB heap, 0.0/0.81 GiB objects<br>Result logdir: C:\\Users\\Stefan\\ray_results\\PPO<br>Number of trials: 1/1 (1 PENDING)<br><table>\n<thead>\n<tr><th>Trial name                       </th><th>status  </th><th>loc  </th></tr>\n</thead>\n<tbody>\n<tr><td>PPO_StatelessCartPole_c29a7_00000</td><td>PENDING </td><td>     </td></tr>\n</tbody>\n</table><br><br>"
     },
     "metadata": {},
     "output_type": "display_data"
    },
    {
     "name": "stderr",
     "output_type": "stream",
     "text": [
      "\u001B[2m\u001B[36m(pid=None)\u001B[0m c:\\users\\stefan\\git-repos\\private\\blog\\venv\\lib\\site-packages\\redis\\connection.py:77: UserWarning: redis-py works best with hiredis. Please consider installing\r\n",
      "\u001B[2m\u001B[36m(pid=None)\u001B[0m   warnings.warn(msg)\r\n",
      "\u001B[2m\u001B[36m(pid=10428)\u001B[0m 2021-11-17 21:06:03,562\tINFO trainer.py:753 -- Tip: set framework=tfe or the --eager flag to enable TensorFlow eager execution\r\n",
      "\u001B[2m\u001B[36m(pid=10428)\u001B[0m 2021-11-17 21:06:03,562\tINFO ppo.py:166 -- In multi-agent mode, policies will be optimized sequentially by the multi-GPU optimizer. Consider setting simple_optimizer=True if this doesn't work for you.\r\n",
      "\u001B[2m\u001B[36m(pid=10428)\u001B[0m 2021-11-17 21:06:03,562\tINFO trainer.py:770 -- Current log_level is WARN. For more information, set 'log_level': 'INFO' / 'DEBUG' or use the -v and -vv flags.\r\n",
      "\u001B[2m\u001B[36m(pid=None)\u001B[0m c:\\users\\stefan\\git-repos\\private\\blog\\venv\\lib\\site-packages\\redis\\connection.py:77: UserWarning: redis-py works best with hiredis. Please consider installing\r\n",
      "\u001B[2m\u001B[36m(pid=None)\u001B[0m   warnings.warn(msg)\r\n",
      "\u001B[2m\u001B[36m(pid=None)\u001B[0m c:\\users\\stefan\\git-repos\\private\\blog\\venv\\lib\\site-packages\\redis\\connection.py:77: UserWarning: redis-py works best with hiredis. Please consider installing\r\n",
      "\u001B[2m\u001B[36m(pid=None)\u001B[0m   warnings.warn(msg)\r\n",
      "\u001B[2m\u001B[36m(pid=11920)\u001B[0m 2021-11-17 21:06:15,759\tWARNING deprecation.py:38 -- DeprecationWarning: `SampleBatch['is_training']` has been deprecated. Use `SampleBatch.is_training` instead. This will raise an error in the future!\r\n",
      "\u001B[2m\u001B[36m(pid=10428)\u001B[0m 2021-11-17 21:06:17,278\tWARNING deprecation.py:38 -- DeprecationWarning: `SampleBatch['is_training']` has been deprecated. Use `SampleBatch.is_training` instead. This will raise an error in the future!\r\n"
     ]
    },
    {
     "data": {
      "text/plain": "<IPython.core.display.HTML object>",
      "text/html": "== Status ==<br>Current time: 2021-11-17 21:06:18 (running for 00:00:28.42)<br>Memory usage on this node: 10.4/11.9 GiB<br>Using FIFO scheduling algorithm.<br>Resources requested: 3.0/3 CPUs, 0/0 GPUs, 0.0/1.63 GiB heap, 0.0/0.81 GiB objects<br>Result logdir: C:\\Users\\Stefan\\ray_results\\PPO<br>Number of trials: 1/1 (1 RUNNING)<br><table>\n<thead>\n<tr><th>Trial name                       </th><th>status  </th><th>loc            </th></tr>\n</thead>\n<tbody>\n<tr><td>PPO_StatelessCartPole_c29a7_00000</td><td>RUNNING </td><td>127.0.0.1:10428</td></tr>\n</tbody>\n</table><br><br>"
     },
     "metadata": {},
     "output_type": "display_data"
    },
    {
     "name": "stderr",
     "output_type": "stream",
     "text": [
      "\u001B[2m\u001B[36m(pid=10428)\u001B[0m 2021-11-17 21:06:18,385\tWARNING trainer_template.py:185 -- `execution_plan` functions should accept `trainer`, `workers`, and `config` as args!\r\n",
      "\u001B[2m\u001B[36m(pid=10428)\u001B[0m 2021-11-17 21:06:18,385\tINFO trainable.py:110 -- Trainable.setup took 14.837 seconds. If your trainable is slow to initialize, consider setting reuse_actors=True to reduce actor creation overheads.\r\n",
      "\u001B[2m\u001B[36m(pid=10428)\u001B[0m 2021-11-17 21:06:18,387\tWARNING util.py:57 -- Install gputil for GPU system monitoring.\r\n"
     ]
    },
    {
     "data": {
      "text/plain": "<IPython.core.display.HTML object>",
      "text/html": "== Status ==<br>Current time: 2021-11-17 21:06:19 (running for 00:00:29.45)<br>Memory usage on this node: 10.4/11.9 GiB<br>Using FIFO scheduling algorithm.<br>Resources requested: 3.0/3 CPUs, 0/0 GPUs, 0.0/1.63 GiB heap, 0.0/0.81 GiB objects<br>Result logdir: C:\\Users\\Stefan\\ray_results\\PPO<br>Number of trials: 1/1 (1 RUNNING)<br><table>\n<thead>\n<tr><th>Trial name                       </th><th>status  </th><th>loc            </th></tr>\n</thead>\n<tbody>\n<tr><td>PPO_StatelessCartPole_c29a7_00000</td><td>RUNNING </td><td>127.0.0.1:10428</td></tr>\n</tbody>\n</table><br><br>"
     },
     "metadata": {},
     "output_type": "display_data"
    },
    {
     "name": "stderr",
     "output_type": "stream",
     "text": [
      "\u001B[2m\u001B[36m(pid=10428)\u001B[0m 2021-11-17 21:06:22,727\tWARNING deprecation.py:38 -- DeprecationWarning: `slice` has been deprecated. Use `SampleBatch[start:stop]` instead. This will raise an error in the future!\r\n"
     ]
    },
    {
     "data": {
      "text/plain": "<IPython.core.display.HTML object>",
      "text/html": "== Status ==<br>Current time: 2021-11-17 21:06:24 (running for 00:00:34.53)<br>Memory usage on this node: 10.4/11.9 GiB<br>Using FIFO scheduling algorithm.<br>Resources requested: 3.0/3 CPUs, 0/0 GPUs, 0.0/1.63 GiB heap, 0.0/0.81 GiB objects<br>Result logdir: C:\\Users\\Stefan\\ray_results\\PPO<br>Number of trials: 1/1 (1 RUNNING)<br><table>\n<thead>\n<tr><th>Trial name                       </th><th>status  </th><th>loc            </th></tr>\n</thead>\n<tbody>\n<tr><td>PPO_StatelessCartPole_c29a7_00000</td><td>RUNNING </td><td>127.0.0.1:10428</td></tr>\n</tbody>\n</table><br><br>"
     },
     "metadata": {},
     "output_type": "display_data"
    },
    {
     "name": "stdout",
     "output_type": "stream",
     "text": [
      "Result for PPO_StatelessCartPole_c29a7_00000:\n",
      "  agent_timesteps_total: 4000\n",
      "  custom_metrics: {}\n",
      "  date: 2021-11-17_21-06-26\n",
      "  done: true\n",
      "  episode_len_mean: 22.71264367816092\n",
      "  episode_media: {}\n",
      "  episode_reward_max: 71.0\n",
      "  episode_reward_mean: 22.71264367816092\n",
      "  episode_reward_min: 9.0\n",
      "  episodes_this_iter: 174\n",
      "  episodes_total: 174\n",
      "  experiment_id: 71619c5299df43d1920acafae50cf6a6\n",
      "  hostname: nb-stschn\n",
      "  info:\n",
      "    learner:\n",
      "      default_policy:\n",
      "        custom_metrics: {}\n",
      "        learner_stats:\n",
      "          cur_kl_coeff: 0.20000000298023224\n",
      "          cur_lr: 4.999999873689376e-05\n",
      "          entropy: 0.6823717355728149\n",
      "          entropy_coeff: 0.0\n",
      "          kl: 0.01108759269118309\n",
      "          model: {}\n",
      "          policy_loss: -0.01692059449851513\n",
      "          total_loss: 184.0067596435547\n",
      "          vf_explained_var: 0.004661503713577986\n",
      "          vf_loss: 184.02146911621094\n",
      "    num_agent_steps_sampled: 4000\n",
      "    num_agent_steps_trained: 4000\n",
      "    num_steps_sampled: 4000\n",
      "    num_steps_trained: 4000\n",
      "  iterations_since_restore: 1\n",
      "  node_ip: 127.0.0.1\n",
      "  num_healthy_workers: 2\n",
      "  off_policy_estimator: {}\n",
      "  perf:\n",
      "    cpu_util_percent: 73.79166666666667\n",
      "    ram_util_percent: 87.23333333333335\n",
      "  pid: 10428\n",
      "  policy_reward_max: {}\n",
      "  policy_reward_mean: {}\n",
      "  policy_reward_min: {}\n",
      "  sampler_perf:\n",
      "    mean_action_processing_ms: 0.09765297790231785\n",
      "    mean_env_render_ms: 0.0\n",
      "    mean_env_wait_ms: 0.11839328656678698\n",
      "    mean_inference_ms: 1.691788983995424\n",
      "    mean_raw_obs_processing_ms: 0.1989294136695669\n",
      "  time_since_restore: 8.346945762634277\n",
      "  time_this_iter_s: 8.346945762634277\n",
      "  time_total_s: 8.346945762634277\n",
      "  timers:\n",
      "    learn_throughput: 998.516\n",
      "    learn_time_ms: 4005.946\n",
      "    load_throughput: 4005064.693\n",
      "    load_time_ms: 0.999\n",
      "    sample_throughput: 921.373\n",
      "    sample_time_ms: 4341.346\n",
      "    update_time_ms: 3.001\n",
      "  timestamp: 1637179586\n",
      "  timesteps_since_restore: 0\n",
      "  timesteps_this_iter: 0\n",
      "  timesteps_total: 4000\n",
      "  training_iteration: 1\n",
      "  trial_id: c29a7_00000\n",
      "  \n"
     ]
    },
    {
     "data": {
      "text/plain": "<IPython.core.display.HTML object>",
      "text/html": "== Status ==<br>Current time: 2021-11-17 21:06:26 (running for 00:00:36.85)<br>Memory usage on this node: 10.4/11.9 GiB<br>Using FIFO scheduling algorithm.<br>Resources requested: 0/3 CPUs, 0/0 GPUs, 0.0/1.63 GiB heap, 0.0/0.81 GiB objects<br>Result logdir: C:\\Users\\Stefan\\ray_results\\PPO<br>Number of trials: 1/1 (1 TERMINATED)<br><table>\n<thead>\n<tr><th>Trial name                       </th><th>status    </th><th>loc            </th><th style=\"text-align: right;\">  iter</th><th style=\"text-align: right;\">  total time (s)</th><th style=\"text-align: right;\">  ts</th><th style=\"text-align: right;\">  reward</th><th style=\"text-align: right;\">  episode_reward_max</th><th style=\"text-align: right;\">  episode_reward_min</th><th style=\"text-align: right;\">  episode_len_mean</th></tr>\n</thead>\n<tbody>\n<tr><td>PPO_StatelessCartPole_c29a7_00000</td><td>TERMINATED</td><td>127.0.0.1:10428</td><td style=\"text-align: right;\">     1</td><td style=\"text-align: right;\">         8.34695</td><td style=\"text-align: right;\">4000</td><td style=\"text-align: right;\"> 22.7126</td><td style=\"text-align: right;\">                  71</td><td style=\"text-align: right;\">                   9</td><td style=\"text-align: right;\">           22.7126</td></tr>\n</tbody>\n</table><br><br>"
     },
     "metadata": {},
     "output_type": "display_data"
    },
    {
     "name": "stderr",
     "output_type": "stream",
     "text": [
      "\u001B[2m\u001B[36m(pid=10428)\u001B[0m Windows fatal exception: access violation\n",
      "\u001B[2m\u001B[36m(pid=10428)\u001B[0m \n",
      "\u001B[2m\u001B[36m(pid=11920)\u001B[0m [2021-11-17 21:06:26,945 E 11920 10592] raylet_client.cc:159: IOError: Unknown error [RayletClient] Failed to disconnect from raylet.\r\n",
      "\u001B[2m\u001B[36m(pid=11920)\u001B[0m Windows fatal exception: access violation\n",
      "\u001B[2m\u001B[36m(pid=11920)\u001B[0m \n",
      "\u001B[2m\u001B[36m(pid=17780)\u001B[0m [2021-11-17 21:06:26,947 E 17780 4716] raylet_client.cc:159: IOError: Unknown error [RayletClient] Failed to disconnect from raylet.\r\n",
      "\u001B[2m\u001B[36m(pid=17780)\u001B[0m Windows fatal exception: access violation\n",
      "\u001B[2m\u001B[36m(pid=17780)\u001B[0m \n",
      "2021-11-17 21:06:27,057\tINFO tune.py:630 -- Total run time: 37.08 seconds (36.81 seconds for the tuning loop).\n"
     ]
    },
    {
     "name": "stdout",
     "output_type": "stream",
     "text": [
      "Training finished successfully\n"
     ]
    }
   ],
   "source": [
    "from ray.rllib.examples.env.stateless_cartpole import StatelessCartPole\n",
    "from ray.tune import registry\n",
    "\n",
    "registry.register_env(\"StatelessCartPole\", lambda _: StatelessCartPole())\n",
    "config[\"env\"] = \"StatelessCartPole\"\n",
    "# train; this takes a while\n",
    "results_stateless = ray.tune.run(\"PPO\", config=config, stop=stop)\n",
    "print(\"Training finished successfully\")"
   ],
   "metadata": {
    "collapsed": false,
    "pycharm": {
     "name": "#%%\n"
    }
   }
  },
  {
   "cell_type": "code",
   "execution_count": 9,
   "outputs": [
    {
     "data": {
      "text/plain": "22.71264367816092"
     },
     "execution_count": 9,
     "metadata": {},
     "output_type": "execute_result"
    }
   ],
   "source": [
    "# check results\n",
    "results_stateless.default_metric = \"episode_reward_mean\"\n",
    "results_stateless.default_mode = \"max\"\n",
    "# print the mean episode reward = episode length --> higher = better\n",
    "results_stateless.best_result[\"episode_reward_mean\"]"
   ],
   "metadata": {
    "collapsed": false,
    "pycharm": {
     "name": "#%%\n"
    }
   }
  },
  {
   "cell_type": "code",
   "execution_count": 10,
   "outputs": [
    {
     "name": "stderr",
     "output_type": "stream",
     "text": [
      "c:\\users\\stefan\\git-repos\\private\\blog\\venv\\lib\\site-packages\\seaborn\\_decorators.py:36: FutureWarning: Pass the following variables as keyword args: x, y. From version 0.12, the only valid positional argument will be `data`, and passing other arguments without an explicit keyword will result in an error or misinterpretation.\n",
      "  warnings.warn(\n"
     ]
    },
    {
     "data": {
      "text/plain": "<AxesSubplot:>"
     },
     "execution_count": 10,
     "metadata": {},
     "output_type": "execute_result"
    },
    {
     "data": {
      "text/plain": "<Figure size 432x288 with 1 Axes>",
      "image/png": "[encoded data removed]"
     },
     "metadata": {
      "needs_background": "light"
     },
     "output_type": "display_data"
    }
   ],
   "source": [
    "eps_lengths = results_stateless.best_result[\"hist_stats\"][\"episode_lengths\"]\n",
    "eps = [i for i in range(len(eps_lengths))]\n",
    "sns.scatterplot(eps, eps_lengths)\n"
   ],
   "metadata": {
    "collapsed": false,
    "pycharm": {
     "name": "#%%\n"
    }
   }
  },
  {
   "cell_type": "markdown",
   "source": [
    "## Stacked Observations with Attention\n",
    "\n",
    "TODO: continue here\n",
    "https://github.com/ray-project/ray/blob/master/rllib/examples/attention_net.py"
   ],
   "metadata": {
    "collapsed": false,
    "pycharm": {
     "name": "#%% md\n"
    }
   }
  },
  {
   "cell_type": "code",
   "execution_count": 13,
   "outputs": [
    {
     "data": {
      "text/plain": "<IPython.core.display.HTML object>",
      "text/html": "== Status ==<br>Current time: 2021-11-17 21:10:30 (running for 00:00:00.19)<br>Memory usage on this node: 9.5/11.9 GiB<br>Using FIFO scheduling algorithm.<br>Resources requested: 0/3 CPUs, 0/0 GPUs, 0.0/1.63 GiB heap, 0.0/0.81 GiB objects<br>Result logdir: C:\\Users\\Stefan\\ray_results\\PPO<br>Number of trials: 1/1 (1 PENDING)<br><table>\n<thead>\n<tr><th>Trial name                       </th><th>status  </th><th>loc  </th></tr>\n</thead>\n<tbody>\n<tr><td>PPO_StatelessCartPole_69b1f_00000</td><td>PENDING </td><td>     </td></tr>\n</tbody>\n</table><br><br>"
     },
     "metadata": {},
     "output_type": "display_data"
    },
    {
     "name": "stderr",
     "output_type": "stream",
     "text": [
      "\u001B[2m\u001B[36m(pid=None)\u001B[0m c:\\users\\stefan\\git-repos\\private\\blog\\venv\\lib\\site-packages\\redis\\connection.py:77: UserWarning: redis-py works best with hiredis. Please consider installing\r\n",
      "\u001B[2m\u001B[36m(pid=None)\u001B[0m   warnings.warn(msg)\r\n"
     ]
    },
    {
     "data": {
      "text/plain": "<IPython.core.display.HTML object>",
      "text/html": "== Status ==<br>Current time: 2021-11-17 21:10:35 (running for 00:00:05.19)<br>Memory usage on this node: 9.5/11.9 GiB<br>Using FIFO scheduling algorithm.<br>Resources requested: 0/3 CPUs, 0/0 GPUs, 0.0/1.63 GiB heap, 0.0/0.81 GiB objects<br>Result logdir: C:\\Users\\Stefan\\ray_results\\PPO<br>Number of trials: 1/1 (1 PENDING)<br><table>\n<thead>\n<tr><th>Trial name                       </th><th>status  </th><th>loc  </th></tr>\n</thead>\n<tbody>\n<tr><td>PPO_StatelessCartPole_69b1f_00000</td><td>PENDING </td><td>     </td></tr>\n</tbody>\n</table><br><br>"
     },
     "metadata": {},
     "output_type": "display_data"
    },
    {
     "name": "stderr",
     "output_type": "stream",
     "text": [
      "\u001B[2m\u001B[36m(pid=13208)\u001B[0m 2021-11-17 21:10:43,262\tINFO trainer.py:753 -- Tip: set framework=tfe or the --eager flag to enable TensorFlow eager execution\r\n",
      "\u001B[2m\u001B[36m(pid=13208)\u001B[0m 2021-11-17 21:10:43,262\tINFO ppo.py:166 -- In multi-agent mode, policies will be optimized sequentially by the multi-GPU optimizer. Consider setting simple_optimizer=True if this doesn't work for you.\r\n",
      "\u001B[2m\u001B[36m(pid=13208)\u001B[0m 2021-11-17 21:10:43,262\tINFO trainer.py:770 -- Current log_level is WARN. For more information, set 'log_level': 'INFO' / 'DEBUG' or use the -v and -vv flags.\r\n",
      "\u001B[2m\u001B[36m(pid=None)\u001B[0m c:\\users\\stefan\\git-repos\\private\\blog\\venv\\lib\\site-packages\\redis\\connection.py:77: UserWarning: redis-py works best with hiredis. Please consider installing\r\n",
      "\u001B[2m\u001B[36m(pid=None)\u001B[0m   warnings.warn(msg)\r\n",
      "\u001B[2m\u001B[36m(pid=None)\u001B[0m c:\\users\\stefan\\git-repos\\private\\blog\\venv\\lib\\site-packages\\redis\\connection.py:77: UserWarning: redis-py works best with hiredis. Please consider installing\r\n",
      "\u001B[2m\u001B[36m(pid=None)\u001B[0m   warnings.warn(msg)\r\n",
      "\u001B[2m\u001B[36m(pid=13208)\u001B[0m 2021-11-17 21:11:10,240\tWARNING trainer_template.py:185 -- `execution_plan` functions should accept `trainer`, `workers`, and `config` as args!\r\n",
      "\u001B[2m\u001B[36m(pid=13208)\u001B[0m 2021-11-17 21:11:10,243\tINFO trainable.py:110 -- Trainable.setup took 26.987 seconds. If your trainable is slow to initialize, consider setting reuse_actors=True to reduce actor creation overheads.\r\n",
      "\u001B[2m\u001B[36m(pid=13208)\u001B[0m 2021-11-17 21:11:10,245\tWARNING util.py:57 -- Install gputil for GPU system monitoring.\r\n"
     ]
    },
    {
     "data": {
      "text/plain": "<IPython.core.display.HTML object>",
      "text/html": "== Status ==<br>Current time: 2021-11-17 21:11:10 (running for 00:00:39.94)<br>Memory usage on this node: 10.4/11.9 GiB<br>Using FIFO scheduling algorithm.<br>Resources requested: 3.0/3 CPUs, 0/0 GPUs, 0.0/1.63 GiB heap, 0.0/0.81 GiB objects<br>Result logdir: C:\\Users\\Stefan\\ray_results\\PPO<br>Number of trials: 1/1 (1 RUNNING)<br><table>\n<thead>\n<tr><th>Trial name                       </th><th>status  </th><th>loc            </th></tr>\n</thead>\n<tbody>\n<tr><td>PPO_StatelessCartPole_69b1f_00000</td><td>RUNNING </td><td>127.0.0.1:13208</td></tr>\n</tbody>\n</table><br><br>"
     },
     "metadata": {},
     "output_type": "display_data"
    },
    {
     "data": {
      "text/plain": "<IPython.core.display.HTML object>",
      "text/html": "== Status ==<br>Current time: 2021-11-17 21:11:11 (running for 00:00:40.98)<br>Memory usage on this node: 10.4/11.9 GiB<br>Using FIFO scheduling algorithm.<br>Resources requested: 3.0/3 CPUs, 0/0 GPUs, 0.0/1.63 GiB heap, 0.0/0.81 GiB objects<br>Result logdir: C:\\Users\\Stefan\\ray_results\\PPO<br>Number of trials: 1/1 (1 RUNNING)<br><table>\n<thead>\n<tr><th>Trial name                       </th><th>status  </th><th>loc            </th></tr>\n</thead>\n<tbody>\n<tr><td>PPO_StatelessCartPole_69b1f_00000</td><td>RUNNING </td><td>127.0.0.1:13208</td></tr>\n</tbody>\n</table><br><br>"
     },
     "metadata": {},
     "output_type": "display_data"
    },
    {
     "data": {
      "text/plain": "<IPython.core.display.HTML object>",
      "text/html": "== Status ==<br>Current time: 2021-11-17 21:11:16 (running for 00:00:46.01)<br>Memory usage on this node: 10.4/11.9 GiB<br>Using FIFO scheduling algorithm.<br>Resources requested: 3.0/3 CPUs, 0/0 GPUs, 0.0/1.63 GiB heap, 0.0/0.81 GiB objects<br>Result logdir: C:\\Users\\Stefan\\ray_results\\PPO<br>Number of trials: 1/1 (1 RUNNING)<br><table>\n<thead>\n<tr><th>Trial name                       </th><th>status  </th><th>loc            </th></tr>\n</thead>\n<tbody>\n<tr><td>PPO_StatelessCartPole_69b1f_00000</td><td>RUNNING </td><td>127.0.0.1:13208</td></tr>\n</tbody>\n</table><br><br>"
     },
     "metadata": {},
     "output_type": "display_data"
    },
    {
     "name": "stderr",
     "output_type": "stream",
     "text": [
      "\u001B[2m\u001B[36m(pid=13208)\u001B[0m 2021-11-17 21:11:17,383\tWARNING deprecation.py:38 -- DeprecationWarning: `slice` has been deprecated. Use `SampleBatch[start:stop]` instead. This will raise an error in the future!\r\n"
     ]
    },
    {
     "data": {
      "text/plain": "<IPython.core.display.HTML object>",
      "text/html": "== Status ==<br>Current time: 2021-11-17 21:11:21 (running for 00:00:51.10)<br>Memory usage on this node: 10.4/11.9 GiB<br>Using FIFO scheduling algorithm.<br>Resources requested: 3.0/3 CPUs, 0/0 GPUs, 0.0/1.63 GiB heap, 0.0/0.81 GiB objects<br>Result logdir: C:\\Users\\Stefan\\ray_results\\PPO<br>Number of trials: 1/1 (1 RUNNING)<br><table>\n<thead>\n<tr><th>Trial name                       </th><th>status  </th><th>loc            </th></tr>\n</thead>\n<tbody>\n<tr><td>PPO_StatelessCartPole_69b1f_00000</td><td>RUNNING </td><td>127.0.0.1:13208</td></tr>\n</tbody>\n</table><br><br>"
     },
     "metadata": {},
     "output_type": "display_data"
    },
    {
     "data": {
      "text/plain": "<IPython.core.display.HTML object>",
      "text/html": "== Status ==<br>Current time: 2021-11-17 21:11:26 (running for 00:00:56.17)<br>Memory usage on this node: 10.4/11.9 GiB<br>Using FIFO scheduling algorithm.<br>Resources requested: 3.0/3 CPUs, 0/0 GPUs, 0.0/1.63 GiB heap, 0.0/0.81 GiB objects<br>Result logdir: C:\\Users\\Stefan\\ray_results\\PPO<br>Number of trials: 1/1 (1 RUNNING)<br><table>\n<thead>\n<tr><th>Trial name                       </th><th>status  </th><th>loc            </th></tr>\n</thead>\n<tbody>\n<tr><td>PPO_StatelessCartPole_69b1f_00000</td><td>RUNNING </td><td>127.0.0.1:13208</td></tr>\n</tbody>\n</table><br><br>"
     },
     "metadata": {},
     "output_type": "display_data"
    },
    {
     "name": "stdout",
     "output_type": "stream",
     "text": [
      "Result for PPO_StatelessCartPole_69b1f_00000:\n",
      "  agent_timesteps_total: 4000\n",
      "  custom_metrics: {}\n",
      "  date: 2021-11-17_21-11-28\n",
      "  done: true\n",
      "  episode_len_mean: 21.22872340425532\n",
      "  episode_media: {}\n",
      "  episode_reward_max: 76.0\n",
      "  episode_reward_mean: 21.22872340425532\n",
      "  episode_reward_min: 8.0\n",
      "  episodes_this_iter: 188\n",
      "  episodes_total: 188\n",
      "  experiment_id: 40d12bd65db94e73a80f0dc3a2193c84\n",
      "  hostname: nb-stschn\n",
      "  info:\n",
      "    learner:\n",
      "      default_policy:\n",
      "        custom_metrics: {}\n",
      "        learner_stats:\n",
      "          cur_kl_coeff: 0.20000000298023224\n",
      "          cur_lr: 4.999999873689376e-05\n",
      "          entropy: 0.6870076060295105\n",
      "          entropy_coeff: 0.0\n",
      "          kl: 0.012487230822443962\n",
      "          policy_loss: -0.01982882432639599\n",
      "          total_loss: 134.48117065429688\n",
      "          vf_explained_var: 0.0034447365906089544\n",
      "          vf_loss: 134.4984893798828\n",
      "    num_agent_steps_sampled: 4000\n",
      "    num_agent_steps_trained: 4000\n",
      "    num_steps_sampled: 4000\n",
      "    num_steps_trained: 4000\n",
      "  iterations_since_restore: 1\n",
      "  node_ip: 127.0.0.1\n",
      "  num_healthy_workers: 2\n",
      "  off_policy_estimator: {}\n",
      "  perf:\n",
      "    cpu_util_percent: 67.40384615384615\n",
      "    ram_util_percent: 87.8153846153846\n",
      "  pid: 13208\n",
      "  policy_reward_max: {}\n",
      "  policy_reward_mean: {}\n",
      "  policy_reward_min: {}\n",
      "  sampler_perf:\n",
      "    mean_action_processing_ms: 0.1099869229089374\n",
      "    mean_env_render_ms: 0.0\n",
      "    mean_env_wait_ms: 0.12275625740749012\n",
      "    mean_inference_ms: 2.968121623468662\n",
      "    mean_raw_obs_processing_ms: 0.20893224175723418\n",
      "  time_since_restore: 17.76781678199768\n",
      "  time_this_iter_s: 17.76781678199768\n",
      "  time_total_s: 17.76781678199768\n",
      "  timers:\n",
      "    learn_throughput: 376.672\n",
      "    learn_time_ms: 10619.313\n",
      "    load_throughput: 4000289.938\n",
      "    load_time_ms: 1.0\n",
      "    sample_throughput: 559.969\n",
      "    sample_time_ms: 7143.257\n",
      "    update_time_ms: 5.002\n",
      "  timestamp: 1637179888\n",
      "  timesteps_since_restore: 0\n",
      "  timesteps_this_iter: 0\n",
      "  timesteps_total: 4000\n",
      "  training_iteration: 1\n",
      "  trial_id: 69b1f_00000\n",
      "  \n"
     ]
    },
    {
     "data": {
      "text/plain": "<IPython.core.display.HTML object>",
      "text/html": "== Status ==<br>Current time: 2021-11-17 21:11:28 (running for 00:00:57.79)<br>Memory usage on this node: 10.4/11.9 GiB<br>Using FIFO scheduling algorithm.<br>Resources requested: 0/3 CPUs, 0/0 GPUs, 0.0/1.63 GiB heap, 0.0/0.81 GiB objects<br>Result logdir: C:\\Users\\Stefan\\ray_results\\PPO<br>Number of trials: 1/1 (1 TERMINATED)<br><table>\n<thead>\n<tr><th>Trial name                       </th><th>status    </th><th>loc            </th><th style=\"text-align: right;\">  iter</th><th style=\"text-align: right;\">  total time (s)</th><th style=\"text-align: right;\">  ts</th><th style=\"text-align: right;\">  reward</th><th style=\"text-align: right;\">  episode_reward_max</th><th style=\"text-align: right;\">  episode_reward_min</th><th style=\"text-align: right;\">  episode_len_mean</th></tr>\n</thead>\n<tbody>\n<tr><td>PPO_StatelessCartPole_69b1f_00000</td><td>TERMINATED</td><td>127.0.0.1:13208</td><td style=\"text-align: right;\">     1</td><td style=\"text-align: right;\">         17.7678</td><td style=\"text-align: right;\">4000</td><td style=\"text-align: right;\"> 21.2287</td><td style=\"text-align: right;\">                  76</td><td style=\"text-align: right;\">                   8</td><td style=\"text-align: right;\">           21.2287</td></tr>\n</tbody>\n</table><br><br>"
     },
     "metadata": {},
     "output_type": "display_data"
    },
    {
     "name": "stderr",
     "output_type": "stream",
     "text": [
      "\u001B[2m\u001B[36m(pid=13208)\u001B[0m [2021-11-17 21:11:28,691 E 13208 17780] raylet_client.cc:159: IOError: Unknown error [RayletClient] Failed to disconnect from raylet.\r\n",
      "\u001B[2m\u001B[36m(pid=13208)\u001B[0m Windows fatal exception: access violation\n",
      "\u001B[2m\u001B[36m(pid=13208)\u001B[0m \n",
      "\u001B[2m\u001B[36m(pid=18984)\u001B[0m [2021-11-17 21:11:28,714 C 18984 15404] core_worker.cc:796:  Check failed: _s.ok() Bad status: IOError: Unknown error\n",
      "\u001B[2m\u001B[36m(pid=18984)\u001B[0m *** StackTrace Information ***\n",
      "\u001B[2m\u001B[36m(pid=18984)\u001B[0m     PyInit__raylet\n",
      "\u001B[2m\u001B[36m(pid=18984)\u001B[0m     PyInit__raylet\n",
      "\u001B[2m\u001B[36m(pid=18984)\u001B[0m     PyInit__raylet\n",
      "\u001B[2m\u001B[36m(pid=18984)\u001B[0m     PyInit__raylet\n",
      "\u001B[2m\u001B[36m(pid=18984)\u001B[0m     PyInit__raylet\n",
      "\u001B[2m\u001B[36m(pid=18984)\u001B[0m     PyInit__raylet\n",
      "\u001B[2m\u001B[36m(pid=18984)\u001B[0m     PyInit__raylet\n",
      "\u001B[2m\u001B[36m(pid=18984)\u001B[0m     PyInit__raylet\n",
      "\u001B[2m\u001B[36m(pid=18984)\u001B[0m     PyInit__raylet\n",
      "\u001B[2m\u001B[36m(pid=18984)\u001B[0m     PyInit__raylet\n",
      "\u001B[2m\u001B[36m(pid=18984)\u001B[0m     PyInit__raylet\n",
      "\u001B[2m\u001B[36m(pid=18984)\u001B[0m     PyInit__raylet\n",
      "\u001B[2m\u001B[36m(pid=18984)\u001B[0m     PyInit__raylet\n",
      "\u001B[2m\u001B[36m(pid=18984)\u001B[0m     PyInit__raylet\n",
      "\u001B[2m\u001B[36m(pid=18984)\u001B[0m     PyInit__raylet\n",
      "\u001B[2m\u001B[36m(pid=18984)\u001B[0m     PyInit__raylet\n",
      "\u001B[2m\u001B[36m(pid=18984)\u001B[0m     PyNumber_InPlaceLshift\n",
      "\u001B[2m\u001B[36m(pid=18984)\u001B[0m     Py_CheckFunctionResult\n",
      "\u001B[2m\u001B[36m(pid=18984)\u001B[0m     PyEval_EvalFrameDefault\n",
      "\u001B[2m\u001B[36m(pid=18984)\u001B[0m     Py_CheckFunctionResult\n",
      "\u001B[2m\u001B[36m(pid=18984)\u001B[0m     PyEval_EvalFrameDefault\n",
      "\u001B[2m\u001B[36m(pid=18984)\u001B[0m     PyEval_EvalCodeWithName\n",
      "\u001B[2m\u001B[36m(pid=18984)\u001B[0m     PyEval_EvalCodeEx\n",
      "\u001B[2m\u001B[36m(pid=18984)\u001B[0m     PyEval_EvalCode\n",
      "\u001B[2m\u001B[36m(pid=18984)\u001B[0m     PyArena_New\n",
      "\u001B[2m\u001B[36m(pid=18984)\u001B[0m     PyArena_New\n",
      "\u001B[2m\u001B[36m(pid=18984)\u001B[0m     PyRun_FileExFlags\n",
      "\u001B[2m\u001B[36m(pid=18984)\u001B[0m     PyRun_SimpleFileExFlags\n",
      "\u001B[2m\u001B[36m(pid=18984)\u001B[0m     PyRun_AnyFileExFlags\n",
      "\u001B[2m\u001B[36m(pid=18984)\u001B[0m     Py_FatalError\n",
      "\u001B[2m\u001B[36m(pid=18984)\u001B[0m     Py_RunMain\n",
      "\u001B[2m\u001B[36m(pid=18984)\u001B[0m     Py_RunMain\n",
      "\u001B[2m\u001B[36m(pid=18984)\u001B[0m     Py_Main\n",
      "\u001B[2m\u001B[36m(pid=18984)\u001B[0m     BaseThreadInitThunk\n",
      "\u001B[2m\u001B[36m(pid=18984)\u001B[0m     RtlUserThreadStart\n",
      "\u001B[2m\u001B[36m(pid=18984)\u001B[0m \r\n",
      "\u001B[2m\u001B[36m(pid=18984)\u001B[0m Windows fatal exception: access violation\n",
      "\u001B[2m\u001B[36m(pid=18984)\u001B[0m \n",
      "\u001B[2m\u001B[36m(pid=18984)\u001B[0m Stack (most recent call first):\n",
      "\u001B[2m\u001B[36m(pid=18984)\u001B[0m   File \"c:\\users\\stefan\\git-repos\\private\\blog\\venv\\lib\\site-packages\\ray\\worker.py\", line 425 in main_loop\n",
      "\u001B[2m\u001B[36m(pid=18984)\u001B[0m   File \"c:\\users\\stefan\\git-repos\\private\\blog\\venv\\lib\\site-packages\\ray\\workers/default_worker.py\", line 218 in <module>\n",
      "\u001B[2m\u001B[36m(pid=11916)\u001B[0m [2021-11-17 21:11:28,713 C 11916 14648] core_worker.cc:796:  Check failed: _s.ok() Bad status: IOError: Unknown error\n",
      "\u001B[2m\u001B[36m(pid=11916)\u001B[0m *** StackTrace Information ***\n",
      "\u001B[2m\u001B[36m(pid=11916)\u001B[0m     PyInit__raylet\n",
      "\u001B[2m\u001B[36m(pid=11916)\u001B[0m     PyInit__raylet\n",
      "\u001B[2m\u001B[36m(pid=11916)\u001B[0m     PyInit__raylet\n",
      "\u001B[2m\u001B[36m(pid=11916)\u001B[0m     PyInit__raylet\n",
      "\u001B[2m\u001B[36m(pid=11916)\u001B[0m     PyInit__raylet\n",
      "\u001B[2m\u001B[36m(pid=11916)\u001B[0m     PyInit__raylet\n",
      "\u001B[2m\u001B[36m(pid=11916)\u001B[0m     PyInit__raylet\n",
      "\u001B[2m\u001B[36m(pid=11916)\u001B[0m     PyInit__raylet\n",
      "\u001B[2m\u001B[36m(pid=11916)\u001B[0m     PyInit__raylet\n",
      "\u001B[2m\u001B[36m(pid=11916)\u001B[0m     PyInit__raylet\n",
      "\u001B[2m\u001B[36m(pid=11916)\u001B[0m     PyInit__raylet\n",
      "\u001B[2m\u001B[36m(pid=11916)\u001B[0m     PyInit__raylet\n",
      "\u001B[2m\u001B[36m(pid=11916)\u001B[0m     PyInit__raylet\n",
      "\u001B[2m\u001B[36m(pid=11916)\u001B[0m     PyInit__raylet\n",
      "\u001B[2m\u001B[36m(pid=11916)\u001B[0m     PyInit__raylet\n",
      "\u001B[2m\u001B[36m(pid=11916)\u001B[0m     PyInit__raylet\n",
      "\u001B[2m\u001B[36m(pid=11916)\u001B[0m     PyNumber_InPlaceLshift\n",
      "\u001B[2m\u001B[36m(pid=11916)\u001B[0m     Py_CheckFunctionResult\n",
      "\u001B[2m\u001B[36m(pid=11916)\u001B[0m     PyEval_EvalFrameDefault\n",
      "\u001B[2m\u001B[36m(pid=11916)\u001B[0m     Py_CheckFunctionResult\n",
      "\u001B[2m\u001B[36m(pid=11916)\u001B[0m     PyEval_EvalFrameDefault\n",
      "\u001B[2m\u001B[36m(pid=11916)\u001B[0m     PyEval_EvalCodeWithName\n",
      "\u001B[2m\u001B[36m(pid=11916)\u001B[0m     PyEval_EvalCodeEx\n",
      "\u001B[2m\u001B[36m(pid=11916)\u001B[0m     PyEval_EvalCode\n",
      "\u001B[2m\u001B[36m(pid=11916)\u001B[0m     PyArena_New\n",
      "\u001B[2m\u001B[36m(pid=11916)\u001B[0m     PyArena_New\n",
      "\u001B[2m\u001B[36m(pid=11916)\u001B[0m     PyRun_FileExFlags\n",
      "\u001B[2m\u001B[36m(pid=11916)\u001B[0m     PyRun_SimpleFileExFlags\n",
      "\u001B[2m\u001B[36m(pid=11916)\u001B[0m     PyRun_AnyFileExFlags\n",
      "\u001B[2m\u001B[36m(pid=11916)\u001B[0m     Py_FatalError\n",
      "\u001B[2m\u001B[36m(pid=11916)\u001B[0m     Py_RunMain\n",
      "\u001B[2m\u001B[36m(pid=11916)\u001B[0m     Py_RunMain\n",
      "\u001B[2m\u001B[36m(pid=11916)\u001B[0m     Py_Main\n",
      "\u001B[2m\u001B[36m(pid=11916)\u001B[0m     BaseThreadInitThunk\n",
      "\u001B[2m\u001B[36m(pid=11916)\u001B[0m     RtlUserThreadStart\n",
      "\u001B[2m\u001B[36m(pid=11916)\u001B[0m \r\n",
      "\u001B[2m\u001B[36m(pid=11916)\u001B[0m Windows fatal exception: access violation\n",
      "\u001B[2m\u001B[36m(pid=11916)\u001B[0m \n",
      "\u001B[2m\u001B[36m(pid=11916)\u001B[0m Stack (most recent call first):\n",
      "\u001B[2m\u001B[36m(pid=11916)\u001B[0m   File \"c:\\users\\stefan\\git-repos\\private\\blog\\venv\\lib\\site-packages\\ray\\worker.py\", line 425 in main_loop\n",
      "\u001B[2m\u001B[36m(pid=11916)\u001B[0m   File \"c:\\users\\stefan\\git-repos\\private\\blog\\venv\\lib\\site-packages\\ray\\workers/default_worker.py\", line 218 in <module>\n",
      "2021-11-17 21:11:28,809\tINFO tune.py:630 -- Total run time: 58.56 seconds (57.75 seconds for the tuning loop).\n"
     ]
    },
    {
     "name": "stdout",
     "output_type": "stream",
     "text": [
      "Training finished successfully\n"
     ]
    }
   ],
   "source": [
    "config[\"model\"] = {\n",
    "    # Attention net wrapping (for tf) can already use the native keras\n",
    "    # model versions. For torch, this will have no effect.\n",
    "    \"_use_default_native_models\": True,\n",
    "    \"use_attention\": True,\n",
    "    \"max_seq_len\": 10,\n",
    "    \"attention_num_transformer_units\": 1,\n",
    "    \"attention_dim\": 32,\n",
    "    \"attention_memory_inference\": 10,\n",
    "    \"attention_memory_training\": 10,\n",
    "    \"attention_num_heads\": 1,\n",
    "    \"attention_head_dim\": 32,\n",
    "    \"attention_position_wise_mlp_dim\": 32,\n",
    "}\n",
    "\n",
    "results_attention = ray.tune.run(\"PPO\", config=config, stop=stop)\n",
    "print(\"Training finished successfully\")"
   ],
   "metadata": {
    "collapsed": false,
    "pycharm": {
     "name": "#%%\n"
    }
   }
  },
  {
   "cell_type": "code",
   "execution_count": 14,
   "outputs": [
    {
     "data": {
      "text/plain": "21.22872340425532"
     },
     "execution_count": 14,
     "metadata": {},
     "output_type": "execute_result"
    }
   ],
   "source": [
    "# check results\n",
    "results_attention.default_metric = \"episode_reward_mean\"\n",
    "results_attention.default_mode = \"max\"\n",
    "# print the mean episode reward = episode length --> higher = better\n",
    "results_attention.best_result[\"episode_reward_mean\"]"
   ],
   "metadata": {
    "collapsed": false,
    "pycharm": {
     "name": "#%%\n"
    }
   }
  },
  {
   "cell_type": "code",
   "execution_count": 15,
   "outputs": [
    {
     "name": "stderr",
     "output_type": "stream",
     "text": [
      "c:\\users\\stefan\\git-repos\\private\\blog\\venv\\lib\\site-packages\\seaborn\\_decorators.py:36: FutureWarning: Pass the following variables as keyword args: x, y. From version 0.12, the only valid positional argument will be `data`, and passing other arguments without an explicit keyword will result in an error or misinterpretation.\n",
      "  warnings.warn(\n"
     ]
    },
    {
     "data": {
      "text/plain": "<AxesSubplot:>"
     },
     "execution_count": 15,
     "metadata": {},
     "output_type": "execute_result"
    },
    {
     "data": {
      "text/plain": "<Figure size 432x288 with 1 Axes>",
      "image/png": "[encoded data removed]"
     },
     "metadata": {
      "needs_background": "light"
     },
     "output_type": "display_data"
    }
   ],
   "source": [
    "eps_lengths = results_attention.best_result[\"hist_stats\"][\"episode_lengths\"]\n",
    "eps = [i for i in range(len(eps_lengths))]\n",
    "sns.scatterplot(eps, eps_lengths)"
   ],
   "metadata": {
    "collapsed": false,
    "pycharm": {
     "name": "#%%\n"
    }
   }
  },
  {
   "cell_type": "markdown",
   "source": [
    "## Stateless but Stacked Frames\n",
    "\n",
    "(maybe even with LSTM)\n",
    "use `framestack = True`\n",
    "\n"
   ],
   "metadata": {
    "collapsed": false,
    "pycharm": {
     "name": "#%% md\n"
    }
   }
  }
 ],
 "metadata": {
  "kernelspec": {
   "display_name": "Python 3",
   "language": "python",
   "name": "python3"
  },
  "language_info": {
   "codemirror_mode": {
    "name": "ipython",
    "version": 3
   },
   "file_extension": ".py",
   "mimetype": "text/x-python",
   "name": "python",
   "nbconvert_exporter": "python",
   "pygments_lexer": "ipython3",
   "version": "3.8.2"
  }
 },
 "nbformat": 4,
 "nbformat_minor": 4
}