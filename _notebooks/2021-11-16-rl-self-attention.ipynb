{
 "cells": [
  {
   "cell_type": "markdown",
   "metadata": {
    "pycharm": {
     "name": "#%% md\n"
    }
   },
   "source": [
    "# Why and When Attention Matters in Reinforcement Learning\n",
    "> \"Using RLlib and AttentionNet to master environments with stateless observations, here, stateless CartPole.\"\n",
    "\n",
    "- hide: true\n",
    "- toc: true\n",
    "- branch: master\n",
    "- badges: true\n",
    "- comments: true\n",
    "- categories: [python, gym, ray, rllib, tensorflow, machine learning, reinforcement learning, sequence, attention]\n",
    "- image: images/cartpole.jpg"
   ]
  },
  {
   "cell_type": "markdown",
   "metadata": {
    "pycharm": {
     "name": "#%% md\n"
    }
   },
   "source": [
    "In reinforcement learning (RL), the RL agent typically selects a suitable action based on the last observation.\n",
    "In many practical environments, the full state can only be observed partially,\n",
    "such that important information may be missing when just considering the last observation.\n",
    "This blog post covers options for dealing with missing and only partially observed state,\n",
    "e.g., considering a *sequence* of last observations and applying *self-attention* to this sequence.\n",
    "\n",
    "\n",
    "## Example: The CartPole Gym Environment\n",
    "\n",
    "As an example, consider the popular [OpenAI Gym CartPole environment](https://gym.openai.com/envs/CartPole-v1/).\n",
    "Here, the task is to move a cart left or right in order to balance a pole on the cart as long as possible.\n",
    "\n",
    "![OpenAI Gym CartPole-v1 Environment](attention/cartpole.gif \"OpenAI Gym CartPole-v1 Environment\")\n",
    "\n",
    "In the normal [`CartPole-v1` environment](https://gym.openai.com/envs/CartPole-v1/), the RL agent observes four scalar values ([defined here](https://github.com/openai/gym/blob/master/gym/envs/classic_control/cartpole.py#L26:L32)):\n",
    "* The cart position, i.e., where the cart currently is.\n",
    "* The cart velocity, i.e., how fast the cart is currently moving and in which direction (can be positive or negative).\n",
    "* The pole angle, i.e., how tilted the pole currently is and in which direction.\n",
    "* The pole angular velocity, i.e., how fast the pole is currently moving and in which direction.\n",
    "\n",
    "All four observations are important to decide whether the cart should move left or right.\n",
    "\n",
    "Now, assume the RL agent only has access to an instant snapshot of the cart and the pole (e.g., through a photo/raw pixels)\n",
    "and can neither observe cart velocity nor pole angular velocity.\n",
    "In this case, the RL agent does not know whether the pole is currently swinging to one side and cannot properly balance the pole.\n",
    "How to deal with this problem of missing state (here, cart and pole velocity)?\n",
    "\n",
    "\n",
    "## Options for Dealing With Missing State\n",
    "\n",
    "There are different options for dealing with missing state, e.g., missing velocity in the CartPole example:\n",
    "\n",
    "1. Add the missing state explicitly, e.g., measure and observe velocity. Note that this may require installing extra sensors or may even be infeasible in some scenarios.\n",
    "2. Ignore the missing state, i.e., just rely on the available, partial observations. Depending on the missing state, this may be problematic and keep the agent from learning.\n",
    "3. Keep track of a sequence of the last observations. By observing the cart position and pole angle over time, the agent can implicitly derive their velocity. There are different ways to deal with this sequence:\n",
    "   1. Just use the sequence as is for a standard multi-layer perceptron (MLP)/dense feedforward neural network.\n",
    "   2. Feed the sequence into a recurrent neural network (RNN), e.g., with long short-term memory (LSTM).\n",
    "   3. Feed the sequence into a neural network with *self-attention*.\n",
    "\n",
    "In the following, I explain each option in more detail and illustrate them using simple example code.\n",
    "\n",
    "\n",
    "### Setup\n",
    "\n",
    "For the examples, I use a PPO RL agent from Ray RLlib with the CartPole environment, described above.\n",
    "\n",
    "To install these dependencies, run the following code (tested with Python 3.8 on Windows):"
   ]
  },
  {
   "cell_type": "code",
   "execution_count": 17,
   "outputs": [
    {
     "name": "stdout",
     "output_type": "stream",
     "text": [
      "Requirement already satisfied: ray[rllib]==1.8.0 in c:\\users\\stefan\\git-repos\\private\\blog\\venv\\lib\\site-packages (1.8.0)\n",
      "Requirement already satisfied: numpy>=1.16 in c:\\users\\stefan\\git-repos\\private\\blog\\venv\\lib\\site-packages (from ray[rllib]==1.8.0) (1.21.4)\n",
      "Requirement already satisfied: msgpack<2.0.0,>=1.0.0 in c:\\users\\stefan\\git-repos\\private\\blog\\venv\\lib\\site-packages (from ray[rllib]==1.8.0) (1.0.2)\n",
      "Requirement already satisfied: click>=7.0 in c:\\users\\stefan\\git-repos\\private\\blog\\venv\\lib\\site-packages (from ray[rllib]==1.8.0) (8.0.3)\n",
      "Requirement already satisfied: jsonschema in c:\\users\\stefan\\git-repos\\private\\blog\\venv\\lib\\site-packages (from ray[rllib]==1.8.0) (3.2.0)\n",
      "Requirement already satisfied: filelock in c:\\users\\stefan\\git-repos\\private\\blog\\venv\\lib\\site-packages (from ray[rllib]==1.8.0) (3.4.0)\n",
      "Requirement already satisfied: grpcio>=1.28.1 in c:\\users\\stefan\\git-repos\\private\\blog\\venv\\lib\\site-packages (from ray[rllib]==1.8.0) (1.41.1)\n",
      "Requirement already satisfied: protobuf>=3.15.3 in c:\\users\\stefan\\git-repos\\private\\blog\\venv\\lib\\site-packages (from ray[rllib]==1.8.0) (3.19.1)\n",
      "Requirement already satisfied: attrs in c:\\users\\stefan\\git-repos\\private\\blog\\venv\\lib\\site-packages (from ray[rllib]==1.8.0) (20.3.0)\n",
      "Requirement already satisfied: redis>=3.5.0 in c:\\users\\stefan\\git-repos\\private\\blog\\venv\\lib\\site-packages (from ray[rllib]==1.8.0) (4.0.0)\n",
      "Requirement already satisfied: pyyaml in c:\\users\\stefan\\git-repos\\private\\blog\\venv\\lib\\site-packages (from ray[rllib]==1.8.0) (6.0)\n",
      "Requirement already satisfied: tabulate in c:\\users\\stefan\\git-repos\\private\\blog\\venv\\lib\\site-packages (from ray[rllib]==1.8.0) (0.8.9)\n",
      "Requirement already satisfied: pandas in c:\\users\\stefan\\git-repos\\private\\blog\\venv\\lib\\site-packages (from ray[rllib]==1.8.0) (1.3.4)\n",
      "Requirement already satisfied: dm-tree in c:\\users\\stefan\\git-repos\\private\\blog\\venv\\lib\\site-packages (from ray[rllib]==1.8.0) (0.1.6)\n",
      "Requirement already satisfied: requests in c:\\users\\stefan\\git-repos\\private\\blog\\venv\\lib\\site-packages (from ray[rllib]==1.8.0) (2.25.1)\n",
      "Requirement already satisfied: matplotlib!=3.4.3 in c:\\users\\stefan\\git-repos\\private\\blog\\venv\\lib\\site-packages (from ray[rllib]==1.8.0) (3.5.0)\n",
      "Requirement already satisfied: tensorboardX>=1.9 in c:\\users\\stefan\\git-repos\\private\\blog\\venv\\lib\\site-packages (from ray[rllib]==1.8.0) (2.4)\n",
      "Requirement already satisfied: scipy in c:\\users\\stefan\\git-repos\\private\\blog\\venv\\lib\\site-packages (from ray[rllib]==1.8.0) (1.7.2)\n",
      "Requirement already satisfied: gym in c:\\users\\stefan\\git-repos\\private\\blog\\venv\\lib\\site-packages (from ray[rllib]==1.8.0) (0.21.0)\n",
      "Requirement already satisfied: lz4 in c:\\users\\stefan\\git-repos\\private\\blog\\venv\\lib\\site-packages (from ray[rllib]==1.8.0) (3.1.3)\n",
      "Requirement already satisfied: scikit-image in c:\\users\\stefan\\git-repos\\private\\blog\\venv\\lib\\site-packages (from ray[rllib]==1.8.0) (0.18.3)\n",
      "Requirement already satisfied: colorama in c:\\users\\stefan\\git-repos\\private\\blog\\venv\\lib\\site-packages (from click>=7.0->ray[rllib]==1.8.0) (0.4.4)\n",
      "Requirement already satisfied: six>=1.5.2 in c:\\users\\stefan\\git-repos\\private\\blog\\venv\\lib\\site-packages (from grpcio>=1.28.1->ray[rllib]==1.8.0) (1.15.0)\n",
      "Requirement already satisfied: pillow>=6.2.0 in c:\\users\\stefan\\git-repos\\private\\blog\\venv\\lib\\site-packages (from matplotlib!=3.4.3->ray[rllib]==1.8.0) (8.4.0)\n",
      "Requirement already satisfied: kiwisolver>=1.0.1 in c:\\users\\stefan\\git-repos\\private\\blog\\venv\\lib\\site-packages (from matplotlib!=3.4.3->ray[rllib]==1.8.0) (1.3.2)\n",
      "Requirement already satisfied: cycler>=0.10 in c:\\users\\stefan\\git-repos\\private\\blog\\venv\\lib\\site-packages (from matplotlib!=3.4.3->ray[rllib]==1.8.0) (0.11.0)\n",
      "Requirement already satisfied: fonttools>=4.22.0 in c:\\users\\stefan\\git-repos\\private\\blog\\venv\\lib\\site-packages (from matplotlib!=3.4.3->ray[rllib]==1.8.0) (4.28.1)\n",
      "Requirement already satisfied: python-dateutil>=2.7 in c:\\users\\stefan\\git-repos\\private\\blog\\venv\\lib\\site-packages (from matplotlib!=3.4.3->ray[rllib]==1.8.0) (2.8.1)\n",
      "Requirement already satisfied: packaging>=20.0 in c:\\users\\stefan\\git-repos\\private\\blog\\venv\\lib\\site-packages (from matplotlib!=3.4.3->ray[rllib]==1.8.0) (20.8)\n",
      "Requirement already satisfied: pyparsing>=2.2.1 in c:\\users\\stefan\\git-repos\\private\\blog\\venv\\lib\\site-packages (from matplotlib!=3.4.3->ray[rllib]==1.8.0) (2.4.7)\n",
      "Requirement already satisfied: setuptools-scm>=4 in c:\\users\\stefan\\git-repos\\private\\blog\\venv\\lib\\site-packages (from matplotlib!=3.4.3->ray[rllib]==1.8.0) (6.3.2)\n",
      "Requirement already satisfied: deprecated in c:\\users\\stefan\\git-repos\\private\\blog\\venv\\lib\\site-packages (from redis>=3.5.0->ray[rllib]==1.8.0) (1.2.13)\n",
      "Requirement already satisfied: cloudpickle>=1.2.0 in c:\\users\\stefan\\git-repos\\private\\blog\\venv\\lib\\site-packages (from gym->ray[rllib]==1.8.0) (2.0.0)\n",
      "Requirement already satisfied: setuptools in c:\\users\\stefan\\git-repos\\private\\blog\\venv\\lib\\site-packages (from jsonschema->ray[rllib]==1.8.0) (46.1.3)\n",
      "Requirement already satisfied: pyrsistent>=0.14.0 in c:\\users\\stefan\\git-repos\\private\\blog\\venv\\lib\\site-packages (from jsonschema->ray[rllib]==1.8.0) (0.17.3)\n",
      "Requirement already satisfied: pytz>=2017.3 in c:\\users\\stefan\\git-repos\\private\\blog\\venv\\lib\\site-packages (from pandas->ray[rllib]==1.8.0) (2020.5)\n",
      "Requirement already satisfied: certifi>=2017.4.17 in c:\\users\\stefan\\git-repos\\private\\blog\\venv\\lib\\site-packages (from requests->ray[rllib]==1.8.0) (2020.12.5)\n",
      "Requirement already satisfied: urllib3<1.27,>=1.21.1 in c:\\users\\stefan\\git-repos\\private\\blog\\venv\\lib\\site-packages (from requests->ray[rllib]==1.8.0) (1.26.2)\n",
      "Requirement already satisfied: idna<3,>=2.5 in c:\\users\\stefan\\git-repos\\private\\blog\\venv\\lib\\site-packages (from requests->ray[rllib]==1.8.0) (2.10)\n",
      "Requirement already satisfied: chardet<5,>=3.0.2 in c:\\users\\stefan\\git-repos\\private\\blog\\venv\\lib\\site-packages (from requests->ray[rllib]==1.8.0) (4.0.0)\n",
      "Requirement already satisfied: PyWavelets>=1.1.1 in c:\\users\\stefan\\git-repos\\private\\blog\\venv\\lib\\site-packages (from scikit-image->ray[rllib]==1.8.0) (1.2.0)\n",
      "Requirement already satisfied: imageio>=2.3.0 in c:\\users\\stefan\\git-repos\\private\\blog\\venv\\lib\\site-packages (from scikit-image->ray[rllib]==1.8.0) (2.10.4)\n",
      "Requirement already satisfied: tifffile>=2019.7.26 in c:\\users\\stefan\\git-repos\\private\\blog\\venv\\lib\\site-packages (from scikit-image->ray[rllib]==1.8.0) (2021.11.2)\n",
      "Requirement already satisfied: networkx>=2.0 in c:\\users\\stefan\\git-repos\\private\\blog\\venv\\lib\\site-packages (from scikit-image->ray[rllib]==1.8.0) (2.6.3)\n",
      "Requirement already satisfied: tomli>=1.0.0 in c:\\users\\stefan\\git-repos\\private\\blog\\venv\\lib\\site-packages (from setuptools-scm>=4->matplotlib!=3.4.3->ray[rllib]==1.8.0) (1.2.2)\n",
      "Requirement already satisfied: wrapt<2,>=1.10 in c:\\users\\stefan\\git-repos\\private\\blog\\venv\\lib\\site-packages (from deprecated->redis>=3.5.0->ray[rllib]==1.8.0) (1.13.3)\n",
      "Requirement already satisfied: tensorflow==2.7.0 in c:\\users\\stefan\\git-repos\\private\\blog\\venv\\lib\\site-packages (2.7.0)\n",
      "Requirement already satisfied: h5py>=2.9.0 in c:\\users\\stefan\\git-repos\\private\\blog\\venv\\lib\\site-packages (from tensorflow==2.7.0) (3.6.0)\n",
      "Requirement already satisfied: six>=1.12.0 in c:\\users\\stefan\\git-repos\\private\\blog\\venv\\lib\\site-packages (from tensorflow==2.7.0) (1.15.0)\n",
      "Requirement already satisfied: numpy>=1.14.5 in c:\\users\\stefan\\git-repos\\private\\blog\\venv\\lib\\site-packages (from tensorflow==2.7.0) (1.21.4)\n",
      "Requirement already satisfied: absl-py>=0.4.0 in c:\\users\\stefan\\git-repos\\private\\blog\\venv\\lib\\site-packages (from tensorflow==2.7.0) (1.0.0)\n",
      "Requirement already satisfied: keras<2.8,>=2.7.0rc0 in c:\\users\\stefan\\git-repos\\private\\blog\\venv\\lib\\site-packages (from tensorflow==2.7.0) (2.7.0)\n",
      "Requirement already satisfied: astunparse>=1.6.0 in c:\\users\\stefan\\git-repos\\private\\blog\\venv\\lib\\site-packages (from tensorflow==2.7.0) (1.6.3)\n",
      "Requirement already satisfied: google-pasta>=0.1.1 in c:\\users\\stefan\\git-repos\\private\\blog\\venv\\lib\\site-packages (from tensorflow==2.7.0) (0.2.0)\n",
      "Requirement already satisfied: gast<0.5.0,>=0.2.1 in c:\\users\\stefan\\git-repos\\private\\blog\\venv\\lib\\site-packages (from tensorflow==2.7.0) (0.4.0)\n",
      "Requirement already satisfied: tensorflow-io-gcs-filesystem>=0.21.0 in c:\\users\\stefan\\git-repos\\private\\blog\\venv\\lib\\site-packages (from tensorflow==2.7.0) (0.22.0)\n",
      "Requirement already satisfied: grpcio<2.0,>=1.24.3 in c:\\users\\stefan\\git-repos\\private\\blog\\venv\\lib\\site-packages (from tensorflow==2.7.0) (1.41.1)\n",
      "Requirement already satisfied: termcolor>=1.1.0 in c:\\users\\stefan\\git-repos\\private\\blog\\venv\\lib\\site-packages (from tensorflow==2.7.0) (1.1.0)\n",
      "Requirement already satisfied: opt-einsum>=2.3.2 in c:\\users\\stefan\\git-repos\\private\\blog\\venv\\lib\\site-packages (from tensorflow==2.7.0) (3.3.0)\n",
      "Requirement already satisfied: tensorboard~=2.6 in c:\\users\\stefan\\git-repos\\private\\blog\\venv\\lib\\site-packages (from tensorflow==2.7.0) (2.7.0)\n",
      "Requirement already satisfied: protobuf>=3.9.2 in c:\\users\\stefan\\git-repos\\private\\blog\\venv\\lib\\site-packages (from tensorflow==2.7.0) (3.19.1)\n",
      "Requirement already satisfied: flatbuffers<3.0,>=1.12 in c:\\users\\stefan\\git-repos\\private\\blog\\venv\\lib\\site-packages (from tensorflow==2.7.0) (2.0)\n",
      "Requirement already satisfied: keras-preprocessing>=1.1.1 in c:\\users\\stefan\\git-repos\\private\\blog\\venv\\lib\\site-packages (from tensorflow==2.7.0) (1.1.2)\n",
      "Requirement already satisfied: wheel<1.0,>=0.32.0 in c:\\users\\stefan\\git-repos\\private\\blog\\venv\\lib\\site-packages (from tensorflow==2.7.0) (0.34.2)\n",
      "Requirement already satisfied: wrapt>=1.11.0 in c:\\users\\stefan\\git-repos\\private\\blog\\venv\\lib\\site-packages (from tensorflow==2.7.0) (1.13.3)\n",
      "Requirement already satisfied: tensorflow-estimator<2.8,~=2.7.0rc0 in c:\\users\\stefan\\git-repos\\private\\blog\\venv\\lib\\site-packages (from tensorflow==2.7.0) (2.7.0)\n",
      "Requirement already satisfied: typing-extensions>=3.6.6 in c:\\users\\stefan\\git-repos\\private\\blog\\venv\\lib\\site-packages (from tensorflow==2.7.0) (4.0.0)\n",
      "Requirement already satisfied: libclang>=9.0.1 in c:\\users\\stefan\\git-repos\\private\\blog\\venv\\lib\\site-packages (from tensorflow==2.7.0) (12.0.0)\n",
      "Requirement already satisfied: markdown>=2.6.8 in c:\\users\\stefan\\git-repos\\private\\blog\\venv\\lib\\site-packages (from tensorboard~=2.6->tensorflow==2.7.0) (3.3.5)\n",
      "Requirement already satisfied: google-auth<3,>=1.6.3 in c:\\users\\stefan\\git-repos\\private\\blog\\venv\\lib\\site-packages (from tensorboard~=2.6->tensorflow==2.7.0) (2.3.3)\n",
      "Requirement already satisfied: google-auth-oauthlib<0.5,>=0.4.1 in c:\\users\\stefan\\git-repos\\private\\blog\\venv\\lib\\site-packages (from tensorboard~=2.6->tensorflow==2.7.0) (0.4.6)\n",
      "Requirement already satisfied: tensorboard-data-server<0.7.0,>=0.6.0 in c:\\users\\stefan\\git-repos\\private\\blog\\venv\\lib\\site-packages (from tensorboard~=2.6->tensorflow==2.7.0) (0.6.1)\n",
      "Requirement already satisfied: tensorboard-plugin-wit>=1.6.0 in c:\\users\\stefan\\git-repos\\private\\blog\\venv\\lib\\site-packages (from tensorboard~=2.6->tensorflow==2.7.0) (1.8.0)\n",
      "Requirement already satisfied: requests<3,>=2.21.0 in c:\\users\\stefan\\git-repos\\private\\blog\\venv\\lib\\site-packages (from tensorboard~=2.6->tensorflow==2.7.0) (2.25.1)\n",
      "Requirement already satisfied: setuptools>=41.0.0 in c:\\users\\stefan\\git-repos\\private\\blog\\venv\\lib\\site-packages (from tensorboard~=2.6->tensorflow==2.7.0) (46.1.3)\n",
      "Requirement already satisfied: werkzeug>=0.11.15 in c:\\users\\stefan\\git-repos\\private\\blog\\venv\\lib\\site-packages (from tensorboard~=2.6->tensorflow==2.7.0) (2.0.2)\n",
      "Requirement already satisfied: cachetools<5.0,>=2.0.0 in c:\\users\\stefan\\git-repos\\private\\blog\\venv\\lib\\site-packages (from google-auth<3,>=1.6.3->tensorboard~=2.6->tensorflow==2.7.0) (4.2.4)\n",
      "Requirement already satisfied: rsa<5,>=3.1.4 in c:\\users\\stefan\\git-repos\\private\\blog\\venv\\lib\\site-packages (from google-auth<3,>=1.6.3->tensorboard~=2.6->tensorflow==2.7.0) (4.7.2)\n",
      "Requirement already satisfied: pyasn1-modules>=0.2.1 in c:\\users\\stefan\\git-repos\\private\\blog\\venv\\lib\\site-packages (from google-auth<3,>=1.6.3->tensorboard~=2.6->tensorflow==2.7.0) (0.2.8)\n",
      "Requirement already satisfied: requests-oauthlib>=0.7.0 in c:\\users\\stefan\\git-repos\\private\\blog\\venv\\lib\\site-packages (from google-auth-oauthlib<0.5,>=0.4.1->tensorboard~=2.6->tensorflow==2.7.0) (1.3.0)\n",
      "Requirement already satisfied: importlib-metadata>='4.4' in c:\\users\\stefan\\git-repos\\private\\blog\\venv\\lib\\site-packages (from markdown>=2.6.8->tensorboard~=2.6->tensorflow==2.7.0) (4.8.2)\n",
      "Requirement already satisfied: certifi>=2017.4.17 in c:\\users\\stefan\\git-repos\\private\\blog\\venv\\lib\\site-packages (from requests<3,>=2.21.0->tensorboard~=2.6->tensorflow==2.7.0) (2020.12.5)\n",
      "Requirement already satisfied: idna<3,>=2.5 in c:\\users\\stefan\\git-repos\\private\\blog\\venv\\lib\\site-packages (from requests<3,>=2.21.0->tensorboard~=2.6->tensorflow==2.7.0) (2.10)\n",
      "Requirement already satisfied: urllib3<1.27,>=1.21.1 in c:\\users\\stefan\\git-repos\\private\\blog\\venv\\lib\\site-packages (from requests<3,>=2.21.0->tensorboard~=2.6->tensorflow==2.7.0) (1.26.2)\n",
      "Requirement already satisfied: chardet<5,>=3.0.2 in c:\\users\\stefan\\git-repos\\private\\blog\\venv\\lib\\site-packages (from requests<3,>=2.21.0->tensorboard~=2.6->tensorflow==2.7.0) (4.0.0)\n",
      "Requirement already satisfied: zipp>=0.5 in c:\\users\\stefan\\git-repos\\private\\blog\\venv\\lib\\site-packages (from importlib-metadata>='4.4'->markdown>=2.6.8->tensorboard~=2.6->tensorflow==2.7.0) (3.6.0)\n",
      "Requirement already satisfied: pyasn1<0.5.0,>=0.4.6 in c:\\users\\stefan\\git-repos\\private\\blog\\venv\\lib\\site-packages (from pyasn1-modules>=0.2.1->google-auth<3,>=1.6.3->tensorboard~=2.6->tensorflow==2.7.0) (0.4.8)\n",
      "Requirement already satisfied: oauthlib>=3.0.0 in c:\\users\\stefan\\git-repos\\private\\blog\\venv\\lib\\site-packages (from requests-oauthlib>=0.7.0->google-auth-oauthlib<0.5,>=0.4.1->tensorboard~=2.6->tensorflow==2.7.0) (3.1.1)\n",
      "Requirement already satisfied: seaborn==0.11.2 in c:\\users\\stefan\\git-repos\\private\\blog\\venv\\lib\\site-packages (0.11.2)\n",
      "Requirement already satisfied: matplotlib>=2.2 in c:\\users\\stefan\\git-repos\\private\\blog\\venv\\lib\\site-packages (from seaborn==0.11.2) (3.5.0)\n",
      "Requirement already satisfied: numpy>=1.15 in c:\\users\\stefan\\git-repos\\private\\blog\\venv\\lib\\site-packages (from seaborn==0.11.2) (1.21.4)\n",
      "Requirement already satisfied: pandas>=0.23 in c:\\users\\stefan\\git-repos\\private\\blog\\venv\\lib\\site-packages (from seaborn==0.11.2) (1.3.4)\n",
      "Requirement already satisfied: scipy>=1.0 in c:\\users\\stefan\\git-repos\\private\\blog\\venv\\lib\\site-packages (from seaborn==0.11.2) (1.7.2)\n",
      "Requirement already satisfied: packaging>=20.0 in c:\\users\\stefan\\git-repos\\private\\blog\\venv\\lib\\site-packages (from matplotlib>=2.2->seaborn==0.11.2) (20.8)\n",
      "Requirement already satisfied: cycler>=0.10 in c:\\users\\stefan\\git-repos\\private\\blog\\venv\\lib\\site-packages (from matplotlib>=2.2->seaborn==0.11.2) (0.11.0)\n",
      "Requirement already satisfied: fonttools>=4.22.0 in c:\\users\\stefan\\git-repos\\private\\blog\\venv\\lib\\site-packages (from matplotlib>=2.2->seaborn==0.11.2) (4.28.1)\n",
      "Requirement already satisfied: setuptools-scm>=4 in c:\\users\\stefan\\git-repos\\private\\blog\\venv\\lib\\site-packages (from matplotlib>=2.2->seaborn==0.11.2) (6.3.2)\n",
      "Requirement already satisfied: pillow>=6.2.0 in c:\\users\\stefan\\git-repos\\private\\blog\\venv\\lib\\site-packages (from matplotlib>=2.2->seaborn==0.11.2) (8.4.0)\n",
      "Requirement already satisfied: kiwisolver>=1.0.1 in c:\\users\\stefan\\git-repos\\private\\blog\\venv\\lib\\site-packages (from matplotlib>=2.2->seaborn==0.11.2) (1.3.2)\n",
      "Requirement already satisfied: python-dateutil>=2.7 in c:\\users\\stefan\\git-repos\\private\\blog\\venv\\lib\\site-packages (from matplotlib>=2.2->seaborn==0.11.2) (2.8.1)\n",
      "Requirement already satisfied: pyparsing>=2.2.1 in c:\\users\\stefan\\git-repos\\private\\blog\\venv\\lib\\site-packages (from matplotlib>=2.2->seaborn==0.11.2) (2.4.7)\n",
      "Requirement already satisfied: pytz>=2017.3 in c:\\users\\stefan\\git-repos\\private\\blog\\venv\\lib\\site-packages (from pandas>=0.23->seaborn==0.11.2) (2020.5)\n",
      "Requirement already satisfied: six>=1.5 in c:\\users\\stefan\\git-repos\\private\\blog\\venv\\lib\\site-packages (from python-dateutil>=2.7->matplotlib>=2.2->seaborn==0.11.2) (1.15.0)\n",
      "Requirement already satisfied: tomli>=1.0.0 in c:\\users\\stefan\\git-repos\\private\\blog\\venv\\lib\\site-packages (from setuptools-scm>=4->matplotlib>=2.2->seaborn==0.11.2) (1.2.2)\n",
      "Requirement already satisfied: setuptools in c:\\users\\stefan\\git-repos\\private\\blog\\venv\\lib\\site-packages (from setuptools-scm>=4->matplotlib>=2.2->seaborn==0.11.2) (46.1.3)\n",
      "Requirement already satisfied: gym==0.21.0 in c:\\users\\stefan\\git-repos\\private\\blog\\venv\\lib\\site-packages (0.21.0)\n",
      "Requirement already satisfied: numpy>=1.18.0 in c:\\users\\stefan\\git-repos\\private\\blog\\venv\\lib\\site-packages (from gym==0.21.0) (1.21.4)\n",
      "Requirement already satisfied: cloudpickle>=1.2.0 in c:\\users\\stefan\\git-repos\\private\\blog\\venv\\lib\\site-packages (from gym==0.21.0) (2.0.0)\n",
      "Requirement already satisfied: pyglet==1.5.21 in c:\\users\\stefan\\git-repos\\private\\blog\\venv\\lib\\site-packages (1.5.21)\n"
     ]
    }
   ],
   "source": [
    "#collapse-output\n",
    "!pip install ray[rllib]==1.8.0\n",
    "!pip install tensorflow==2.7.0\n",
    "!pip install seaborn==0.11.2\n",
    "!pip install gym==0.21.0\n",
    "!pip install pyglet==1.5.21"
   ],
   "metadata": {
    "collapsed": false,
    "pycharm": {
     "name": "#%%\n"
    }
   }
  },
  {
   "cell_type": "markdown",
   "source": [
    "Start up ray, load the default PPO config, and determine the number of training iterations,\n",
    "which is the same for all options (for comparability)."
   ],
   "metadata": {
    "collapsed": false,
    "pycharm": {
     "name": "#%% md\n"
    }
   }
  },
  {
   "cell_type": "code",
   "execution_count": 18,
   "outputs": [
    {
     "name": "stderr",
     "output_type": "stream",
     "text": [
      "2021-11-18 19:41:36,382\tINFO worker.py:832 -- Calling ray.init() again after it has already been called.\n"
     ]
    }
   ],
   "source": [
    "import ray\n",
    "\n",
    "# adjust num_cpus and num_gpus to your system\n",
    "# for some reason, num_cpus=2 gets stuck on my system (when trying to train)\n",
    "ray.init(num_cpus=3, ignore_reinit_error=True)\n",
    "\n",
    "# stop conditions based on training iterations (each with 4000 train steps)\n",
    "stop = {\"training_iteration\": 1}"
   ],
   "metadata": {
    "collapsed": false,
    "pycharm": {
     "name": "#%%\n"
    }
   }
  },
  {
   "cell_type": "markdown",
   "source": [
    "### Option 1: Explicitly Add Missing State\n",
    "\n",
    "Sometimes, it is possible to extend the observations and explicitly add important state that was previously unobserved.\n",
    "In the CartPole example, the cart and pole velocity can simply be \"added\" by using the default `CartPole-v1` environment.\n",
    "Here, the cart velocity and pole velocity are already included in the observations.\n",
    "\n",
    "Note that in many practical scenarios such \"missing\" state cannot be added and observed simply.\n",
    "Instead, it may require installing additional sensors or may even be completely infeasible.\n",
    "\n",
    "Let's start with the best case, i.e., explicitly including the missing state."
   ],
   "metadata": {
    "collapsed": false,
    "pycharm": {
     "name": "#%% md\n"
    }
   }
  },
  {
   "cell_type": "code",
   "execution_count": 19,
   "outputs": [
    {
     "data": {
      "text/plain": "(4,)"
     },
     "execution_count": 19,
     "metadata": {},
     "output_type": "execute_result"
    }
   ],
   "source": [
    "import gym\n",
    "\n",
    "# the default CartPole env has all 4 observations: position and velocity of both cart and pole\n",
    "env = gym.make(\"CartPole-v1\")\n",
    "env.observation_space.shape"
   ],
   "metadata": {
    "collapsed": false,
    "pycharm": {
     "name": "#%%\n"
    }
   }
  },
  {
   "cell_type": "code",
   "execution_count": 20,
   "metadata": {
    "collapsed": false,
    "jupyter": {
     "outputs_hidden": false
    },
    "pycharm": {
     "name": "#%%\n"
    }
   },
   "outputs": [
    {
     "data": {
      "text/plain": "<IPython.core.display.HTML object>",
      "text/html": "== Status ==<br>Current time: 2021-11-18 19:41:36 (running for 00:00:00.17)<br>Memory usage on this node: 9.1/11.9 GiB<br>Using FIFO scheduling algorithm.<br>Resources requested: 0/3 CPUs, 0/0 GPUs, 0.0/1.69 GiB heap, 0.0/0.85 GiB objects<br>Result logdir: C:\\Users\\Stefan\\ray_results\\PPO<br>Number of trials: 1/1 (1 PENDING)<br><table>\n<thead>\n<tr><th>Trial name                 </th><th>status  </th><th>loc  </th></tr>\n</thead>\n<tbody>\n<tr><td>PPO_CartPole-v1_28e2b_00000</td><td>PENDING </td><td>     </td></tr>\n</tbody>\n</table><br><br>"
     },
     "metadata": {},
     "output_type": "display_data"
    },
    {
     "name": "stderr",
     "output_type": "stream",
     "text": [
      "\u001B[2m\u001B[36m(pid=None)\u001B[0m c:\\users\\stefan\\git-repos\\private\\blog\\venv\\lib\\site-packages\\redis\\connection.py:77: UserWarning: redis-py works best with hiredis. Please consider installing\r\n",
      "\u001B[2m\u001B[36m(pid=None)\u001B[0m   warnings.warn(msg)\r\n"
     ]
    },
    {
     "data": {
      "text/plain": "<IPython.core.display.HTML object>",
      "text/html": "== Status ==<br>Current time: 2021-11-18 19:41:41 (running for 00:00:05.17)<br>Memory usage on this node: 9.3/11.9 GiB<br>Using FIFO scheduling algorithm.<br>Resources requested: 0/3 CPUs, 0/0 GPUs, 0.0/1.69 GiB heap, 0.0/0.85 GiB objects<br>Result logdir: C:\\Users\\Stefan\\ray_results\\PPO<br>Number of trials: 1/1 (1 PENDING)<br><table>\n<thead>\n<tr><th>Trial name                 </th><th>status  </th><th>loc  </th></tr>\n</thead>\n<tbody>\n<tr><td>PPO_CartPole-v1_28e2b_00000</td><td>PENDING </td><td>     </td></tr>\n</tbody>\n</table><br><br>"
     },
     "metadata": {},
     "output_type": "display_data"
    },
    {
     "name": "stderr",
     "output_type": "stream",
     "text": [
      "\u001B[2m\u001B[36m(pid=7964)\u001B[0m 2021-11-18 19:41:51,753\tINFO trainer.py:753 -- Tip: set framework=tfe or the --eager flag to enable TensorFlow eager execution\r\n",
      "\u001B[2m\u001B[36m(pid=7964)\u001B[0m 2021-11-18 19:41:51,754\tINFO ppo.py:166 -- In multi-agent mode, policies will be optimized sequentially by the multi-GPU optimizer. Consider setting simple_optimizer=True if this doesn't work for you.\r\n",
      "\u001B[2m\u001B[36m(pid=7964)\u001B[0m 2021-11-18 19:41:51,754\tINFO trainer.py:770 -- Current log_level is WARN. For more information, set 'log_level': 'INFO' / 'DEBUG' or use the -v and -vv flags.\r\n",
      "\u001B[2m\u001B[36m(pid=None)\u001B[0m c:\\users\\stefan\\git-repos\\private\\blog\\venv\\lib\\site-packages\\redis\\connection.py:77: UserWarning: redis-py works best with hiredis. Please consider installing\r\n",
      "\u001B[2m\u001B[36m(pid=None)\u001B[0m   warnings.warn(msg)\r\n",
      "\u001B[2m\u001B[36m(pid=None)\u001B[0m c:\\users\\stefan\\git-repos\\private\\blog\\venv\\lib\\site-packages\\redis\\connection.py:77: UserWarning: redis-py works best with hiredis. Please consider installing\r\n",
      "\u001B[2m\u001B[36m(pid=None)\u001B[0m   warnings.warn(msg)\r\n",
      "\u001B[2m\u001B[36m(pid=14324)\u001B[0m 2021-11-18 19:42:03,877\tWARNING deprecation.py:38 -- DeprecationWarning: `SampleBatch['is_training']` has been deprecated. Use `SampleBatch.is_training` instead. This will raise an error in the future!\r\n",
      "\u001B[2m\u001B[36m(pid=7964)\u001B[0m 2021-11-18 19:42:05,398\tWARNING deprecation.py:38 -- DeprecationWarning: `SampleBatch['is_training']` has been deprecated. Use `SampleBatch.is_training` instead. This will raise an error in the future!\r\n"
     ]
    },
    {
     "data": {
      "text/plain": "<IPython.core.display.HTML object>",
      "text/html": "== Status ==<br>Current time: 2021-11-18 19:42:06 (running for 00:00:29.99)<br>Memory usage on this node: 10.0/11.9 GiB<br>Using FIFO scheduling algorithm.<br>Resources requested: 3.0/3 CPUs, 0/0 GPUs, 0.0/1.69 GiB heap, 0.0/0.85 GiB objects<br>Result logdir: C:\\Users\\Stefan\\ray_results\\PPO<br>Number of trials: 1/1 (1 RUNNING)<br><table>\n<thead>\n<tr><th>Trial name                 </th><th>status  </th><th>loc           </th></tr>\n</thead>\n<tbody>\n<tr><td>PPO_CartPole-v1_28e2b_00000</td><td>RUNNING </td><td>127.0.0.1:7964</td></tr>\n</tbody>\n</table><br><br>"
     },
     "metadata": {},
     "output_type": "display_data"
    },
    {
     "name": "stderr",
     "output_type": "stream",
     "text": [
      "\u001B[2m\u001B[36m(pid=7964)\u001B[0m 2021-11-18 19:42:06,434\tWARNING trainer_template.py:185 -- `execution_plan` functions should accept `trainer`, `workers`, and `config` as args!\r\n",
      "\u001B[2m\u001B[36m(pid=7964)\u001B[0m 2021-11-18 19:42:06,435\tINFO trainable.py:110 -- Trainable.setup took 14.683 seconds. If your trainable is slow to initialize, consider setting reuse_actors=True to reduce actor creation overheads.\r\n",
      "\u001B[2m\u001B[36m(pid=7964)\u001B[0m 2021-11-18 19:42:06,437\tWARNING util.py:57 -- Install gputil for GPU system monitoring.\r\n"
     ]
    },
    {
     "data": {
      "text/plain": "<IPython.core.display.HTML object>",
      "text/html": "== Status ==<br>Current time: 2021-11-18 19:42:07 (running for 00:00:31.01)<br>Memory usage on this node: 10.0/11.9 GiB<br>Using FIFO scheduling algorithm.<br>Resources requested: 3.0/3 CPUs, 0/0 GPUs, 0.0/1.69 GiB heap, 0.0/0.85 GiB objects<br>Result logdir: C:\\Users\\Stefan\\ray_results\\PPO<br>Number of trials: 1/1 (1 RUNNING)<br><table>\n<thead>\n<tr><th>Trial name                 </th><th>status  </th><th>loc           </th></tr>\n</thead>\n<tbody>\n<tr><td>PPO_CartPole-v1_28e2b_00000</td><td>RUNNING </td><td>127.0.0.1:7964</td></tr>\n</tbody>\n</table><br><br>"
     },
     "metadata": {},
     "output_type": "display_data"
    },
    {
     "name": "stderr",
     "output_type": "stream",
     "text": [
      "\u001B[2m\u001B[36m(pid=7964)\u001B[0m 2021-11-18 19:42:10,178\tWARNING deprecation.py:38 -- DeprecationWarning: `slice` has been deprecated. Use `SampleBatch[start:stop]` instead. This will raise an error in the future!\r\n"
     ]
    },
    {
     "data": {
      "text/plain": "<IPython.core.display.HTML object>",
      "text/html": "== Status ==<br>Current time: 2021-11-18 19:42:12 (running for 00:00:36.08)<br>Memory usage on this node: 10.1/11.9 GiB<br>Using FIFO scheduling algorithm.<br>Resources requested: 3.0/3 CPUs, 0/0 GPUs, 0.0/1.69 GiB heap, 0.0/0.85 GiB objects<br>Result logdir: C:\\Users\\Stefan\\ray_results\\PPO<br>Number of trials: 1/1 (1 RUNNING)<br><table>\n<thead>\n<tr><th>Trial name                 </th><th>status  </th><th>loc           </th></tr>\n</thead>\n<tbody>\n<tr><td>PPO_CartPole-v1_28e2b_00000</td><td>RUNNING </td><td>127.0.0.1:7964</td></tr>\n</tbody>\n</table><br><br>"
     },
     "metadata": {},
     "output_type": "display_data"
    },
    {
     "name": "stdout",
     "output_type": "stream",
     "text": [
      "Result for PPO_CartPole-v1_28e2b_00000:\n",
      "  agent_timesteps_total: 4000\n",
      "  custom_metrics: {}\n",
      "  date: 2021-11-18_19-42-14\n",
      "  done: true\n",
      "  episode_len_mean: 21.85635359116022\n",
      "  episode_media: {}\n",
      "  episode_reward_max: 85.0\n",
      "  episode_reward_mean: 21.85635359116022\n",
      "  episode_reward_min: 8.0\n",
      "  episodes_this_iter: 181\n",
      "  episodes_total: 181\n",
      "  experiment_id: af2fbc569fc8451b91e593876c0f5bce\n",
      "  hostname: nb-stschn\n",
      "  info:\n",
      "    learner:\n",
      "      default_policy:\n",
      "        custom_metrics: {}\n",
      "        learner_stats:\n",
      "          cur_kl_coeff: 0.20000000298023224\n",
      "          cur_lr: 4.999999873689376e-05\n",
      "          entropy: 0.6653733849525452\n",
      "          entropy_coeff: 0.0\n",
      "          kl: 0.02849874459207058\n",
      "          model: {}\n",
      "          policy_loss: -0.046433474868535995\n",
      "          total_loss: 205.50587463378906\n",
      "          vf_explained_var: 0.02738642692565918\n",
      "          vf_loss: 205.54660034179688\n",
      "    num_agent_steps_sampled: 4000\n",
      "    num_agent_steps_trained: 4000\n",
      "    num_steps_sampled: 4000\n",
      "    num_steps_trained: 4000\n",
      "  iterations_since_restore: 1\n",
      "  node_ip: 127.0.0.1\n",
      "  num_healthy_workers: 2\n",
      "  off_policy_estimator: {}\n",
      "  perf:\n",
      "    cpu_util_percent: 67.10909090909091\n",
      "    ram_util_percent: 84.43636363636364\n",
      "  pid: 7964\n",
      "  policy_reward_max: {}\n",
      "  policy_reward_mean: {}\n",
      "  policy_reward_min: {}\n",
      "  sampler_perf:\n",
      "    mean_action_processing_ms: 0.09118207146173161\n",
      "    mean_env_render_ms: 0.0\n",
      "    mean_env_wait_ms: 0.09266559863480817\n",
      "    mean_inference_ms: 1.470599800963697\n",
      "    mean_raw_obs_processing_ms: 0.15789909448317452\n",
      "  time_since_restore: 7.7301928997039795\n",
      "  time_this_iter_s: 7.7301928997039795\n",
      "  time_total_s: 7.7301928997039795\n",
      "  timers:\n",
      "    learn_throughput: 1005.481\n",
      "    learn_time_ms: 3978.194\n",
      "    load_throughput: 0.0\n",
      "    load_time_ms: 0.0\n",
      "    sample_throughput: 1068.536\n",
      "    sample_time_ms: 3743.441\n",
      "    update_time_ms: 4.001\n",
      "  timestamp: 1637260934\n",
      "  timesteps_since_restore: 0\n",
      "  timesteps_this_iter: 0\n",
      "  timesteps_total: 4000\n",
      "  training_iteration: 1\n",
      "  trial_id: 28e2b_00000\n",
      "  \n"
     ]
    },
    {
     "data": {
      "text/plain": "<IPython.core.display.HTML object>",
      "text/html": "== Status ==<br>Current time: 2021-11-18 19:42:14 (running for 00:00:37.80)<br>Memory usage on this node: 10.1/11.9 GiB<br>Using FIFO scheduling algorithm.<br>Resources requested: 0/3 CPUs, 0/0 GPUs, 0.0/1.69 GiB heap, 0.0/0.85 GiB objects<br>Result logdir: C:\\Users\\Stefan\\ray_results\\PPO<br>Number of trials: 1/1 (1 TERMINATED)<br><table>\n<thead>\n<tr><th>Trial name                 </th><th>status    </th><th>loc           </th><th style=\"text-align: right;\">  iter</th><th style=\"text-align: right;\">  total time (s)</th><th style=\"text-align: right;\">  ts</th><th style=\"text-align: right;\">  reward</th><th style=\"text-align: right;\">  episode_reward_max</th><th style=\"text-align: right;\">  episode_reward_min</th><th style=\"text-align: right;\">  episode_len_mean</th></tr>\n</thead>\n<tbody>\n<tr><td>PPO_CartPole-v1_28e2b_00000</td><td>TERMINATED</td><td>127.0.0.1:7964</td><td style=\"text-align: right;\">     1</td><td style=\"text-align: right;\">         7.73019</td><td style=\"text-align: right;\">4000</td><td style=\"text-align: right;\"> 21.8564</td><td style=\"text-align: right;\">                  85</td><td style=\"text-align: right;\">                   8</td><td style=\"text-align: right;\">           21.8564</td></tr>\n</tbody>\n</table><br><br>"
     },
     "metadata": {},
     "output_type": "display_data"
    },
    {
     "name": "stderr",
     "output_type": "stream",
     "text": [
      "\u001B[2m\u001B[36m(pid=7964)\u001B[0m Windows fatal exception: access violation\n",
      "\u001B[2m\u001B[36m(pid=7964)\u001B[0m \n",
      "2021-11-18 19:42:14,403\tINFO tune.py:630 -- Total run time: 37.96 seconds (37.76 seconds for the tuning loop).\n"
     ]
    },
    {
     "name": "stdout",
     "output_type": "stream",
     "text": [
      "Option 1: Training finished successfully\n"
     ]
    }
   ],
   "source": [
    "#collapse-output\n",
    "\n",
    "from ray.rllib.agents import ppo\n",
    "\n",
    "# run PPO on the default CartPole-v1 env\n",
    "config1 = ppo.DEFAULT_CONFIG.copy()\n",
    "config1[\"env\"] = \"CartPole-v1\"\n",
    "\n",
    "# training takes a while\n",
    "results1 = ray.tune.run(\"PPO\", config=config1, stop=stop)\n",
    "print(\"Option 1: Training finished successfully\")"
   ]
  },
  {
   "cell_type": "code",
   "execution_count": 21,
   "outputs": [
    {
     "data": {
      "text/plain": "21.85635359116022"
     },
     "execution_count": 21,
     "metadata": {},
     "output_type": "execute_result"
    }
   ],
   "source": [
    "# check results\n",
    "results1.default_metric = \"episode_reward_mean\"\n",
    "results1.default_mode = \"max\"\n",
    "# print mean number of time steps the pole was balanced (higher = better)\n",
    "results1.best_result[\"episode_reward_mean\"]"
   ],
   "metadata": {
    "collapsed": false,
    "pycharm": {
     "name": "#%%\n"
    }
   }
  },
  {
   "cell_type": "code",
   "execution_count": 22,
   "outputs": [
    {
     "name": "stderr",
     "output_type": "stream",
     "text": [
      "c:\\users\\stefan\\git-repos\\private\\blog\\venv\\lib\\site-packages\\seaborn\\_decorators.py:36: FutureWarning: Pass the following variables as keyword args: x, y. From version 0.12, the only valid positional argument will be `data`, and passing other arguments without an explicit keyword will result in an error or misinterpretation.\n",
      "  warnings.warn(\n"
     ]
    },
    {
     "data": {
      "text/plain": "<AxesSubplot:>"
     },
     "execution_count": 22,
     "metadata": {},
     "output_type": "execute_result"
    },
    {
     "data": {
      "text/plain": "<Figure size 432x288 with 1 Axes>",
      "image/png": "[encoded data removed]"
     },
     "metadata": {
      "needs_background": "light"
     },
     "output_type": "display_data"
    }
   ],
   "source": [
    "# plot the last 100 episode rewards\n",
    "import seaborn as sns\n",
    "\n",
    "eps_rewards = results1.best_result[\"hist_stats\"][\"episode_reward\"]\n",
    "eps = [i for i in range(len(eps_rewards))]\n",
    "sns.scatterplot(eps, eps_rewards)\n"
   ],
   "metadata": {
    "collapsed": false,
    "pycharm": {
     "name": "#%%\n"
    }
   }
  },
  {
   "cell_type": "markdown",
   "source": [
    "## Do Not Observe Velocity\n",
    "\n",
    "In many practical"
   ],
   "metadata": {
    "collapsed": false,
    "pycharm": {
     "name": "#%% md\n"
    }
   }
  },
  {
   "cell_type": "code",
   "execution_count": 23,
   "outputs": [
    {
     "data": {
      "text/plain": "<IPython.core.display.HTML object>",
      "text/html": "== Status ==<br>Current time: 2021-11-18 19:42:14 (running for 00:00:00.14)<br>Memory usage on this node: 9.8/11.9 GiB<br>Using FIFO scheduling algorithm.<br>Resources requested: 0/3 CPUs, 0/0 GPUs, 0.0/1.69 GiB heap, 0.0/0.85 GiB objects<br>Result logdir: C:\\Users\\Stefan\\ray_results\\PPO<br>Number of trials: 1/1 (1 PENDING)<br><table>\n<thead>\n<tr><th>Trial name                       </th><th>status  </th><th>loc  </th></tr>\n</thead>\n<tbody>\n<tr><td>PPO_StatelessCartPole_3fb99_00000</td><td>PENDING </td><td>     </td></tr>\n</tbody>\n</table><br><br>"
     },
     "metadata": {},
     "output_type": "display_data"
    },
    {
     "name": "stderr",
     "output_type": "stream",
     "text": [
      "\u001B[2m\u001B[36m(pid=None)\u001B[0m c:\\users\\stefan\\git-repos\\private\\blog\\venv\\lib\\site-packages\\redis\\connection.py:77: UserWarning: redis-py works best with hiredis. Please consider installing\r\n",
      "\u001B[2m\u001B[36m(pid=None)\u001B[0m   warnings.warn(msg)\r\n"
     ]
    },
    {
     "data": {
      "text/plain": "<IPython.core.display.HTML object>",
      "text/html": "== Status ==<br>Current time: 2021-11-18 19:42:19 (running for 00:00:05.15)<br>Memory usage on this node: 9.3/11.9 GiB<br>Using FIFO scheduling algorithm.<br>Resources requested: 0/3 CPUs, 0/0 GPUs, 0.0/1.69 GiB heap, 0.0/0.85 GiB objects<br>Result logdir: C:\\Users\\Stefan\\ray_results\\PPO<br>Number of trials: 1/1 (1 PENDING)<br><table>\n<thead>\n<tr><th>Trial name                       </th><th>status  </th><th>loc  </th></tr>\n</thead>\n<tbody>\n<tr><td>PPO_StatelessCartPole_3fb99_00000</td><td>PENDING </td><td>     </td></tr>\n</tbody>\n</table><br><br>"
     },
     "metadata": {},
     "output_type": "display_data"
    },
    {
     "name": "stderr",
     "output_type": "stream",
     "text": [
      "\u001B[2m\u001B[36m(pid=22020)\u001B[0m 2021-11-18 19:42:26,459\tINFO trainer.py:753 -- Tip: set framework=tfe or the --eager flag to enable TensorFlow eager execution\r\n",
      "\u001B[2m\u001B[36m(pid=22020)\u001B[0m 2021-11-18 19:42:26,459\tINFO ppo.py:166 -- In multi-agent mode, policies will be optimized sequentially by the multi-GPU optimizer. Consider setting simple_optimizer=True if this doesn't work for you.\r\n",
      "\u001B[2m\u001B[36m(pid=22020)\u001B[0m 2021-11-18 19:42:26,459\tINFO trainer.py:770 -- Current log_level is WARN. For more information, set 'log_level': 'INFO' / 'DEBUG' or use the -v and -vv flags.\r\n",
      "\u001B[2m\u001B[36m(pid=None)\u001B[0m c:\\users\\stefan\\git-repos\\private\\blog\\venv\\lib\\site-packages\\redis\\connection.py:77: UserWarning: redis-py works best with hiredis. Please consider installing\r\n",
      "\u001B[2m\u001B[36m(pid=None)\u001B[0m   warnings.warn(msg)\r\n",
      "\u001B[2m\u001B[36m(pid=None)\u001B[0m c:\\users\\stefan\\git-repos\\private\\blog\\venv\\lib\\site-packages\\redis\\connection.py:77: UserWarning: redis-py works best with hiredis. Please consider installing\r\n",
      "\u001B[2m\u001B[36m(pid=None)\u001B[0m   warnings.warn(msg)\r\n"
     ]
    },
    {
     "data": {
      "text/plain": "<IPython.core.display.HTML object>",
      "text/html": "== Status ==<br>Current time: 2021-11-18 19:42:52 (running for 00:00:37.92)<br>Memory usage on this node: 10.2/11.9 GiB<br>Using FIFO scheduling algorithm.<br>Resources requested: 3.0/3 CPUs, 0/0 GPUs, 0.0/1.69 GiB heap, 0.0/0.85 GiB objects<br>Result logdir: C:\\Users\\Stefan\\ray_results\\PPO<br>Number of trials: 1/1 (1 RUNNING)<br><table>\n<thead>\n<tr><th>Trial name                       </th><th>status  </th><th>loc            </th></tr>\n</thead>\n<tbody>\n<tr><td>PPO_StatelessCartPole_3fb99_00000</td><td>RUNNING </td><td>127.0.0.1:22020</td></tr>\n</tbody>\n</table><br><br>"
     },
     "metadata": {},
     "output_type": "display_data"
    },
    {
     "name": "stderr",
     "output_type": "stream",
     "text": [
      "\u001B[2m\u001B[36m(pid=22020)\u001B[0m 2021-11-18 19:42:52,675\tWARNING trainer_template.py:185 -- `execution_plan` functions should accept `trainer`, `workers`, and `config` as args!\r\n",
      "\u001B[2m\u001B[36m(pid=22020)\u001B[0m 2021-11-18 19:42:52,679\tINFO trainable.py:110 -- Trainable.setup took 26.226 seconds. If your trainable is slow to initialize, consider setting reuse_actors=True to reduce actor creation overheads.\r\n",
      "\u001B[2m\u001B[36m(pid=22020)\u001B[0m 2021-11-18 19:42:52,681\tWARNING util.py:57 -- Install gputil for GPU system monitoring.\r\n"
     ]
    },
    {
     "data": {
      "text/plain": "<IPython.core.display.HTML object>",
      "text/html": "== Status ==<br>Current time: 2021-11-18 19:42:53 (running for 00:00:38.94)<br>Memory usage on this node: 10.2/11.9 GiB<br>Using FIFO scheduling algorithm.<br>Resources requested: 3.0/3 CPUs, 0/0 GPUs, 0.0/1.69 GiB heap, 0.0/0.85 GiB objects<br>Result logdir: C:\\Users\\Stefan\\ray_results\\PPO<br>Number of trials: 1/1 (1 RUNNING)<br><table>\n<thead>\n<tr><th>Trial name                       </th><th>status  </th><th>loc            </th></tr>\n</thead>\n<tbody>\n<tr><td>PPO_StatelessCartPole_3fb99_00000</td><td>RUNNING </td><td>127.0.0.1:22020</td></tr>\n</tbody>\n</table><br><br>"
     },
     "metadata": {},
     "output_type": "display_data"
    },
    {
     "data": {
      "text/plain": "<IPython.core.display.HTML object>",
      "text/html": "== Status ==<br>Current time: 2021-11-18 19:42:58 (running for 00:00:43.98)<br>Memory usage on this node: 10.2/11.9 GiB<br>Using FIFO scheduling algorithm.<br>Resources requested: 3.0/3 CPUs, 0/0 GPUs, 0.0/1.69 GiB heap, 0.0/0.85 GiB objects<br>Result logdir: C:\\Users\\Stefan\\ray_results\\PPO<br>Number of trials: 1/1 (1 RUNNING)<br><table>\n<thead>\n<tr><th>Trial name                       </th><th>status  </th><th>loc            </th></tr>\n</thead>\n<tbody>\n<tr><td>PPO_StatelessCartPole_3fb99_00000</td><td>RUNNING </td><td>127.0.0.1:22020</td></tr>\n</tbody>\n</table><br><br>"
     },
     "metadata": {},
     "output_type": "display_data"
    },
    {
     "name": "stderr",
     "output_type": "stream",
     "text": [
      "\u001B[2m\u001B[36m(pid=22020)\u001B[0m 2021-11-18 19:42:59,809\tWARNING deprecation.py:38 -- DeprecationWarning: `slice` has been deprecated. Use `SampleBatch[start:stop]` instead. This will raise an error in the future!\r\n"
     ]
    },
    {
     "data": {
      "text/plain": "<IPython.core.display.HTML object>",
      "text/html": "== Status ==<br>Current time: 2021-11-18 19:43:03 (running for 00:00:49.06)<br>Memory usage on this node: 10.2/11.9 GiB<br>Using FIFO scheduling algorithm.<br>Resources requested: 3.0/3 CPUs, 0/0 GPUs, 0.0/1.69 GiB heap, 0.0/0.85 GiB objects<br>Result logdir: C:\\Users\\Stefan\\ray_results\\PPO<br>Number of trials: 1/1 (1 RUNNING)<br><table>\n<thead>\n<tr><th>Trial name                       </th><th>status  </th><th>loc            </th></tr>\n</thead>\n<tbody>\n<tr><td>PPO_StatelessCartPole_3fb99_00000</td><td>RUNNING </td><td>127.0.0.1:22020</td></tr>\n</tbody>\n</table><br><br>"
     },
     "metadata": {},
     "output_type": "display_data"
    },
    {
     "data": {
      "text/plain": "<IPython.core.display.HTML object>",
      "text/html": "== Status ==<br>Current time: 2021-11-18 19:43:08 (running for 00:00:54.11)<br>Memory usage on this node: 10.2/11.9 GiB<br>Using FIFO scheduling algorithm.<br>Resources requested: 3.0/3 CPUs, 0/0 GPUs, 0.0/1.69 GiB heap, 0.0/0.85 GiB objects<br>Result logdir: C:\\Users\\Stefan\\ray_results\\PPO<br>Number of trials: 1/1 (1 RUNNING)<br><table>\n<thead>\n<tr><th>Trial name                       </th><th>status  </th><th>loc            </th></tr>\n</thead>\n<tbody>\n<tr><td>PPO_StatelessCartPole_3fb99_00000</td><td>RUNNING </td><td>127.0.0.1:22020</td></tr>\n</tbody>\n</table><br><br>"
     },
     "metadata": {},
     "output_type": "display_data"
    },
    {
     "name": "stdout",
     "output_type": "stream",
     "text": [
      "Result for PPO_StatelessCartPole_3fb99_00000:\n",
      "  agent_timesteps_total: 4000\n",
      "  custom_metrics: {}\n",
      "  date: 2021-11-18_19-43-10\n",
      "  done: true\n",
      "  episode_len_mean: 21.443243243243245\n",
      "  episode_media: {}\n",
      "  episode_reward_max: 58.0\n",
      "  episode_reward_mean: 21.443243243243245\n",
      "  episode_reward_min: 9.0\n",
      "  episodes_this_iter: 185\n",
      "  episodes_total: 185\n",
      "  experiment_id: 31f6f08b96254ef6a62a190f44b25eb1\n",
      "  hostname: nb-stschn\n",
      "  info:\n",
      "    learner:\n",
      "      default_policy:\n",
      "        custom_metrics: {}\n",
      "        learner_stats:\n",
      "          cur_kl_coeff: 0.20000000298023224\n",
      "          cur_lr: 4.999999873689376e-05\n",
      "          entropy: 0.6726511120796204\n",
      "          entropy_coeff: 0.0\n",
      "          kl: 0.03443628549575806\n",
      "          policy_loss: -0.013767484575510025\n",
      "          total_loss: 113.9546890258789\n",
      "          vf_explained_var: 0.01855170540511608\n",
      "          vf_loss: 113.96155548095703\n",
      "    num_agent_steps_sampled: 4000\n",
      "    num_agent_steps_trained: 4000\n",
      "    num_steps_sampled: 4000\n",
      "    num_steps_trained: 4000\n",
      "  iterations_since_restore: 1\n",
      "  node_ip: 127.0.0.1\n",
      "  num_healthy_workers: 2\n",
      "  off_policy_estimator: {}\n",
      "  perf:\n",
      "    cpu_util_percent: 67.968\n",
      "    ram_util_percent: 85.528\n",
      "  pid: 22020\n",
      "  policy_reward_max: {}\n",
      "  policy_reward_mean: {}\n",
      "  policy_reward_min: {}\n",
      "  sampler_perf:\n",
      "    mean_action_processing_ms: 0.10659550371665577\n",
      "    mean_env_render_ms: 0.0\n",
      "    mean_env_wait_ms: 0.12652261209157517\n",
      "    mean_inference_ms: 2.874186961994804\n",
      "    mean_raw_obs_processing_ms: 0.2528510178768302\n",
      "  time_since_restore: 17.631319999694824\n",
      "  time_this_iter_s: 17.631319999694824\n",
      "  time_total_s: 17.631319999694824\n",
      "  timers:\n",
      "    learn_throughput: 382.226\n",
      "    learn_time_ms: 10465.009\n",
      "    load_throughput: 4008892.712\n",
      "    load_time_ms: 0.998\n",
      "    sample_throughput: 560.827\n",
      "    sample_time_ms: 7132.324\n",
      "    update_time_ms: 4.994\n",
      "  timestamp: 1637260990\n",
      "  timesteps_since_restore: 0\n",
      "  timesteps_this_iter: 0\n",
      "  timesteps_total: 4000\n",
      "  training_iteration: 1\n",
      "  trial_id: 3fb99_00000\n",
      "  \n"
     ]
    },
    {
     "data": {
      "text/plain": "<IPython.core.display.HTML object>",
      "text/html": "== Status ==<br>Current time: 2021-11-18 19:43:10 (running for 00:00:55.64)<br>Memory usage on this node: 10.2/11.9 GiB<br>Using FIFO scheduling algorithm.<br>Resources requested: 0/3 CPUs, 0/0 GPUs, 0.0/1.69 GiB heap, 0.0/0.85 GiB objects<br>Result logdir: C:\\Users\\Stefan\\ray_results\\PPO<br>Number of trials: 1/1 (1 TERMINATED)<br><table>\n<thead>\n<tr><th>Trial name                       </th><th>status    </th><th>loc            </th><th style=\"text-align: right;\">  iter</th><th style=\"text-align: right;\">  total time (s)</th><th style=\"text-align: right;\">  ts</th><th style=\"text-align: right;\">  reward</th><th style=\"text-align: right;\">  episode_reward_max</th><th style=\"text-align: right;\">  episode_reward_min</th><th style=\"text-align: right;\">  episode_len_mean</th></tr>\n</thead>\n<tbody>\n<tr><td>PPO_StatelessCartPole_3fb99_00000</td><td>TERMINATED</td><td>127.0.0.1:22020</td><td style=\"text-align: right;\">     1</td><td style=\"text-align: right;\">         17.6313</td><td style=\"text-align: right;\">4000</td><td style=\"text-align: right;\"> 21.4432</td><td style=\"text-align: right;\">                  58</td><td style=\"text-align: right;\">                   9</td><td style=\"text-align: right;\">           21.4432</td></tr>\n</tbody>\n</table><br><br>"
     },
     "metadata": {},
     "output_type": "display_data"
    },
    {
     "name": "stderr",
     "output_type": "stream",
     "text": [
      "\u001B[2m\u001B[36m(pid=22020)\u001B[0m [2021-11-18 19:43:10,463 E 22020 22080] raylet_client.cc:159: IOError: Unknown error [RayletClient] Failed to disconnect from raylet.\r\n",
      "\u001B[2m\u001B[36m(pid=22020)\u001B[0m Windows fatal exception: access violation\n",
      "\u001B[2m\u001B[36m(pid=22020)\u001B[0m \n",
      "\u001B[2m\u001B[36m(pid=11404)\u001B[0m [2021-11-18 19:43:10,466 E 11404 7148] raylet_client.cc:159: IOError: Unknown error [RayletClient] Failed to disconnect from raylet.\r\n",
      "\u001B[2m\u001B[36m(pid=11404)\u001B[0m Windows fatal exception: access violation\n",
      "\u001B[2m\u001B[36m(pid=11404)\u001B[0m \n",
      "\u001B[2m\u001B[36m(pid=21240)\u001B[0m [2021-11-18 19:43:10,467 E 21240 9260] raylet_client.cc:159: IOError: Unknown error [RayletClient] Failed to disconnect from raylet.\r\n",
      "\u001B[2m\u001B[36m(pid=21240)\u001B[0m Windows fatal exception: access violation\n",
      "\u001B[2m\u001B[36m(pid=21240)\u001B[0m \n",
      "2021-11-18 19:43:10,576\tINFO tune.py:630 -- Total run time: 55.80 seconds (55.58 seconds for the tuning loop).\n"
     ]
    },
    {
     "name": "stdout",
     "output_type": "stream",
     "text": [
      "Training finished successfully\n"
     ]
    }
   ],
   "source": [
    "from ray.rllib.examples.env.stateless_cartpole import StatelessCartPole\n",
    "from ray.tune import registry\n",
    "\n",
    "registry.register_env(\"StatelessCartPole\", lambda _: StatelessCartPole())\n",
    "config[\"env\"] = \"StatelessCartPole\"\n",
    "# train; this takes a while\n",
    "results_stateless = ray.tune.run(\"PPO\", config=config, stop=stop)\n",
    "print(\"Training finished successfully\")"
   ],
   "metadata": {
    "collapsed": false,
    "pycharm": {
     "name": "#%%\n"
    }
   }
  },
  {
   "cell_type": "code",
   "execution_count": 24,
   "outputs": [
    {
     "data": {
      "text/plain": "21.443243243243245"
     },
     "execution_count": 24,
     "metadata": {},
     "output_type": "execute_result"
    }
   ],
   "source": [
    "# check results\n",
    "results_stateless.default_metric = \"episode_reward_mean\"\n",
    "results_stateless.default_mode = \"max\"\n",
    "# print the mean episode reward = episode length --> higher = better\n",
    "results_stateless.best_result[\"episode_reward_mean\"]"
   ],
   "metadata": {
    "collapsed": false,
    "pycharm": {
     "name": "#%%\n"
    }
   }
  },
  {
   "cell_type": "code",
   "execution_count": 25,
   "outputs": [
    {
     "name": "stderr",
     "output_type": "stream",
     "text": [
      "c:\\users\\stefan\\git-repos\\private\\blog\\venv\\lib\\site-packages\\seaborn\\_decorators.py:36: FutureWarning: Pass the following variables as keyword args: x, y. From version 0.12, the only valid positional argument will be `data`, and passing other arguments without an explicit keyword will result in an error or misinterpretation.\n",
      "  warnings.warn(\n"
     ]
    },
    {
     "data": {
      "text/plain": "<AxesSubplot:>"
     },
     "execution_count": 25,
     "metadata": {},
     "output_type": "execute_result"
    },
    {
     "data": {
      "text/plain": "<Figure size 432x288 with 1 Axes>",
      "image/png": "[encoded data removed]"
     },
     "metadata": {
      "needs_background": "light"
     },
     "output_type": "display_data"
    }
   ],
   "source": [
    "eps_lengths = results_stateless.best_result[\"hist_stats\"][\"episode_lengths\"]\n",
    "eps = [i for i in range(len(eps_lengths))]\n",
    "sns.scatterplot(eps, eps_lengths)\n"
   ],
   "metadata": {
    "collapsed": false,
    "pycharm": {
     "name": "#%%\n"
    }
   }
  },
  {
   "cell_type": "markdown",
   "source": [
    "## Stacked Observations with Attention\n",
    "\n",
    "TODO: continue here\n",
    "https://github.com/ray-project/ray/blob/master/rllib/examples/attention_net.py\n",
    "\n",
    "> Tip: Also check out the [RLlib example using AttentionNet](https://github.com/ray-project/ray/blob/master/rllib/examples/attention_net.py).\n"
   ],
   "metadata": {
    "collapsed": false,
    "pycharm": {
     "name": "#%% md\n"
    }
   }
  },
  {
   "cell_type": "code",
   "execution_count": 26,
   "outputs": [
    {
     "data": {
      "text/plain": "<IPython.core.display.HTML object>",
      "text/html": "== Status ==<br>Current time: 2021-11-18 19:43:10 (running for 00:00:00.13)<br>Memory usage on this node: 9.1/11.9 GiB<br>Using FIFO scheduling algorithm.<br>Resources requested: 0/3 CPUs, 0/0 GPUs, 0.0/1.69 GiB heap, 0.0/0.85 GiB objects<br>Result logdir: C:\\Users\\Stefan\\ray_results\\PPO<br>Number of trials: 1/1 (1 PENDING)<br><table>\n<thead>\n<tr><th>Trial name                       </th><th>status  </th><th>loc  </th></tr>\n</thead>\n<tbody>\n<tr><td>PPO_StatelessCartPole_61211_00000</td><td>PENDING </td><td>     </td></tr>\n</tbody>\n</table><br><br>"
     },
     "metadata": {},
     "output_type": "display_data"
    },
    {
     "name": "stderr",
     "output_type": "stream",
     "text": [
      "\u001B[2m\u001B[36m(pid=None)\u001B[0m c:\\users\\stefan\\git-repos\\private\\blog\\venv\\lib\\site-packages\\redis\\connection.py:77: UserWarning: redis-py works best with hiredis. Please consider installing\r\n",
      "\u001B[2m\u001B[36m(pid=None)\u001B[0m   warnings.warn(msg)\r\n",
      "\u001B[2m\u001B[36m(pid=18384)\u001B[0m 2021-11-18 19:43:22,316\tINFO trainer.py:753 -- Tip: set framework=tfe or the --eager flag to enable TensorFlow eager execution\r\n",
      "\u001B[2m\u001B[36m(pid=18384)\u001B[0m 2021-11-18 19:43:22,316\tINFO ppo.py:166 -- In multi-agent mode, policies will be optimized sequentially by the multi-GPU optimizer. Consider setting simple_optimizer=True if this doesn't work for you.\r\n",
      "\u001B[2m\u001B[36m(pid=18384)\u001B[0m 2021-11-18 19:43:22,316\tINFO trainer.py:770 -- Current log_level is WARN. For more information, set 'log_level': 'INFO' / 'DEBUG' or use the -v and -vv flags.\r\n",
      "\u001B[2m\u001B[36m(pid=None)\u001B[0m c:\\users\\stefan\\git-repos\\private\\blog\\venv\\lib\\site-packages\\redis\\connection.py:77: UserWarning: redis-py works best with hiredis. Please consider installing\r\n",
      "\u001B[2m\u001B[36m(pid=None)\u001B[0m   warnings.warn(msg)\r\n",
      "\u001B[2m\u001B[36m(pid=None)\u001B[0m c:\\users\\stefan\\git-repos\\private\\blog\\venv\\lib\\site-packages\\redis\\connection.py:77: UserWarning: redis-py works best with hiredis. Please consider installing\r\n",
      "\u001B[2m\u001B[36m(pid=None)\u001B[0m   warnings.warn(msg)\r\n",
      "\u001B[2m\u001B[36m(pid=18384)\u001B[0m 2021-11-18 19:43:48,847\tWARNING trainer_template.py:185 -- `execution_plan` functions should accept `trainer`, `workers`, and `config` as args!\r\n",
      "\u001B[2m\u001B[36m(pid=18384)\u001B[0m 2021-11-18 19:43:48,848\tINFO trainable.py:110 -- Trainable.setup took 26.537 seconds. If your trainable is slow to initialize, consider setting reuse_actors=True to reduce actor creation overheads.\r\n",
      "\u001B[2m\u001B[36m(pid=18384)\u001B[0m 2021-11-18 19:43:48,850\tWARNING util.py:57 -- Install gputil for GPU system monitoring.\r\n"
     ]
    },
    {
     "data": {
      "text/plain": "<IPython.core.display.HTML object>",
      "text/html": "== Status ==<br>Current time: 2021-11-18 19:43:48 (running for 00:00:38.07)<br>Memory usage on this node: 10.2/11.9 GiB<br>Using FIFO scheduling algorithm.<br>Resources requested: 3.0/3 CPUs, 0/0 GPUs, 0.0/1.69 GiB heap, 0.0/0.85 GiB objects<br>Result logdir: C:\\Users\\Stefan\\ray_results\\PPO<br>Number of trials: 1/1 (1 RUNNING)<br><table>\n<thead>\n<tr><th>Trial name                       </th><th>status  </th><th>loc            </th></tr>\n</thead>\n<tbody>\n<tr><td>PPO_StatelessCartPole_61211_00000</td><td>RUNNING </td><td>127.0.0.1:18384</td></tr>\n</tbody>\n</table><br><br>"
     },
     "metadata": {},
     "output_type": "display_data"
    },
    {
     "data": {
      "text/plain": "<IPython.core.display.HTML object>",
      "text/html": "== Status ==<br>Current time: 2021-11-18 19:43:49 (running for 00:00:39.11)<br>Memory usage on this node: 10.2/11.9 GiB<br>Using FIFO scheduling algorithm.<br>Resources requested: 3.0/3 CPUs, 0/0 GPUs, 0.0/1.69 GiB heap, 0.0/0.85 GiB objects<br>Result logdir: C:\\Users\\Stefan\\ray_results\\PPO<br>Number of trials: 1/1 (1 RUNNING)<br><table>\n<thead>\n<tr><th>Trial name                       </th><th>status  </th><th>loc            </th></tr>\n</thead>\n<tbody>\n<tr><td>PPO_StatelessCartPole_61211_00000</td><td>RUNNING </td><td>127.0.0.1:18384</td></tr>\n</tbody>\n</table><br><br>"
     },
     "metadata": {},
     "output_type": "display_data"
    },
    {
     "data": {
      "text/plain": "<IPython.core.display.HTML object>",
      "text/html": "== Status ==<br>Current time: 2021-11-18 19:43:55 (running for 00:00:44.17)<br>Memory usage on this node: 10.2/11.9 GiB<br>Using FIFO scheduling algorithm.<br>Resources requested: 3.0/3 CPUs, 0/0 GPUs, 0.0/1.69 GiB heap, 0.0/0.85 GiB objects<br>Result logdir: C:\\Users\\Stefan\\ray_results\\PPO<br>Number of trials: 1/1 (1 RUNNING)<br><table>\n<thead>\n<tr><th>Trial name                       </th><th>status  </th><th>loc            </th></tr>\n</thead>\n<tbody>\n<tr><td>PPO_StatelessCartPole_61211_00000</td><td>RUNNING </td><td>127.0.0.1:18384</td></tr>\n</tbody>\n</table><br><br>"
     },
     "metadata": {},
     "output_type": "display_data"
    },
    {
     "name": "stderr",
     "output_type": "stream",
     "text": [
      "\u001B[2m\u001B[36m(pid=18384)\u001B[0m 2021-11-18 19:43:55,725\tWARNING deprecation.py:38 -- DeprecationWarning: `slice` has been deprecated. Use `SampleBatch[start:stop]` instead. This will raise an error in the future!\r\n"
     ]
    },
    {
     "data": {
      "text/plain": "<IPython.core.display.HTML object>",
      "text/html": "== Status ==<br>Current time: 2021-11-18 19:44:00 (running for 00:00:49.25)<br>Memory usage on this node: 10.2/11.9 GiB<br>Using FIFO scheduling algorithm.<br>Resources requested: 3.0/3 CPUs, 0/0 GPUs, 0.0/1.69 GiB heap, 0.0/0.85 GiB objects<br>Result logdir: C:\\Users\\Stefan\\ray_results\\PPO<br>Number of trials: 1/1 (1 RUNNING)<br><table>\n<thead>\n<tr><th>Trial name                       </th><th>status  </th><th>loc            </th></tr>\n</thead>\n<tbody>\n<tr><td>PPO_StatelessCartPole_61211_00000</td><td>RUNNING </td><td>127.0.0.1:18384</td></tr>\n</tbody>\n</table><br><br>"
     },
     "metadata": {},
     "output_type": "display_data"
    },
    {
     "data": {
      "text/plain": "<IPython.core.display.HTML object>",
      "text/html": "== Status ==<br>Current time: 2021-11-18 19:44:05 (running for 00:00:54.33)<br>Memory usage on this node: 10.2/11.9 GiB<br>Using FIFO scheduling algorithm.<br>Resources requested: 3.0/3 CPUs, 0/0 GPUs, 0.0/1.69 GiB heap, 0.0/0.85 GiB objects<br>Result logdir: C:\\Users\\Stefan\\ray_results\\PPO<br>Number of trials: 1/1 (1 RUNNING)<br><table>\n<thead>\n<tr><th>Trial name                       </th><th>status  </th><th>loc            </th></tr>\n</thead>\n<tbody>\n<tr><td>PPO_StatelessCartPole_61211_00000</td><td>RUNNING </td><td>127.0.0.1:18384</td></tr>\n</tbody>\n</table><br><br>"
     },
     "metadata": {},
     "output_type": "display_data"
    },
    {
     "name": "stdout",
     "output_type": "stream",
     "text": [
      "Result for PPO_StatelessCartPole_61211_00000:\n",
      "  agent_timesteps_total: 4000\n",
      "  custom_metrics: {}\n",
      "  date: 2021-11-18_19-44-06\n",
      "  done: true\n",
      "  episode_len_mean: 21.75409836065574\n",
      "  episode_media: {}\n",
      "  episode_reward_max: 74.0\n",
      "  episode_reward_mean: 21.75409836065574\n",
      "  episode_reward_min: 8.0\n",
      "  episodes_this_iter: 183\n",
      "  episodes_total: 183\n",
      "  experiment_id: 54cf483dbce6432eb0784434065872bd\n",
      "  hostname: nb-stschn\n",
      "  info:\n",
      "    learner:\n",
      "      default_policy:\n",
      "        custom_metrics: {}\n",
      "        learner_stats:\n",
      "          cur_kl_coeff: 0.20000000298023224\n",
      "          cur_lr: 4.999999873689376e-05\n",
      "          entropy: 0.6707258820533752\n",
      "          entropy_coeff: 0.0\n",
      "          kl: 0.025403935462236404\n",
      "          policy_loss: 0.02212703600525856\n",
      "          total_loss: 123.25680541992188\n",
      "          vf_explained_var: 0.019463101401925087\n",
      "          vf_loss: 123.22958374023438\n",
      "    num_agent_steps_sampled: 4000\n",
      "    num_agent_steps_trained: 4000\n",
      "    num_steps_sampled: 4000\n",
      "    num_steps_trained: 4000\n",
      "  iterations_since_restore: 1\n",
      "  node_ip: 127.0.0.1\n",
      "  num_healthy_workers: 2\n",
      "  off_policy_estimator: {}\n",
      "  perf:\n",
      "    cpu_util_percent: 70.48400000000001\n",
      "    ram_util_percent: 85.48\n",
      "  pid: 18384\n",
      "  policy_reward_max: {}\n",
      "  policy_reward_mean: {}\n",
      "  policy_reward_min: {}\n",
      "  sampler_perf:\n",
      "    mean_action_processing_ms: 0.10515074700060385\n",
      "    mean_env_render_ms: 0.0\n",
      "    mean_env_wait_ms: 0.11844306703469794\n",
      "    mean_inference_ms: 2.841868886431108\n",
      "    mean_raw_obs_processing_ms: 0.1939670610310269\n",
      "  time_since_restore: 17.475682258605957\n",
      "  time_this_iter_s: 17.475682258605957\n",
      "  time_total_s: 17.475682258605957\n",
      "  timers:\n",
      "    learn_throughput: 377.726\n",
      "    learn_time_ms: 10589.689\n",
      "    load_throughput: 4002198.473\n",
      "    load_time_ms: 0.999\n",
      "    sample_throughput: 581.656\n",
      "    sample_time_ms: 6876.914\n",
      "    update_time_ms: 5.0\n",
      "  timestamp: 1637261046\n",
      "  timesteps_since_restore: 0\n",
      "  timesteps_this_iter: 0\n",
      "  timesteps_total: 4000\n",
      "  training_iteration: 1\n",
      "  trial_id: '61211_00000'\n",
      "  \n"
     ]
    },
    {
     "data": {
      "text/plain": "<IPython.core.display.HTML object>",
      "text/html": "== Status ==<br>Current time: 2021-11-18 19:44:06 (running for 00:00:55.63)<br>Memory usage on this node: 10.2/11.9 GiB<br>Using FIFO scheduling algorithm.<br>Resources requested: 0/3 CPUs, 0/0 GPUs, 0.0/1.69 GiB heap, 0.0/0.85 GiB objects<br>Result logdir: C:\\Users\\Stefan\\ray_results\\PPO<br>Number of trials: 1/1 (1 TERMINATED)<br><table>\n<thead>\n<tr><th>Trial name                       </th><th>status    </th><th>loc            </th><th style=\"text-align: right;\">  iter</th><th style=\"text-align: right;\">  total time (s)</th><th style=\"text-align: right;\">  ts</th><th style=\"text-align: right;\">  reward</th><th style=\"text-align: right;\">  episode_reward_max</th><th style=\"text-align: right;\">  episode_reward_min</th><th style=\"text-align: right;\">  episode_len_mean</th></tr>\n</thead>\n<tbody>\n<tr><td>PPO_StatelessCartPole_61211_00000</td><td>TERMINATED</td><td>127.0.0.1:18384</td><td style=\"text-align: right;\">     1</td><td style=\"text-align: right;\">         17.4757</td><td style=\"text-align: right;\">4000</td><td style=\"text-align: right;\"> 21.7541</td><td style=\"text-align: right;\">                  74</td><td style=\"text-align: right;\">                   8</td><td style=\"text-align: right;\">           21.7541</td></tr>\n</tbody>\n</table><br><br>"
     },
     "metadata": {},
     "output_type": "display_data"
    },
    {
     "name": "stderr",
     "output_type": "stream",
     "text": [
      "\u001B[2m\u001B[36m(pid=18384)\u001B[0m [2021-11-18 19:44:06,616 E 18384 9408] raylet_client.cc:159: IOError: Unknown error [RayletClient] Failed to disconnect from raylet.\r\n",
      "\u001B[2m\u001B[36m(pid=18384)\u001B[0m Windows fatal exception: access violation\n",
      "\u001B[2m\u001B[36m(pid=18384)\u001B[0m \n",
      "\u001B[2m\u001B[36m(pid=18620)\u001B[0m [2021-11-18 19:44:06,635 C 18620 14528] core_worker.cc:796:  Check failed: _s.ok() Bad status: IOError: Unknown error\n",
      "\u001B[2m\u001B[36m(pid=18620)\u001B[0m *** StackTrace Information ***\n",
      "\u001B[2m\u001B[36m(pid=18620)\u001B[0m     PyInit__raylet\n",
      "\u001B[2m\u001B[36m(pid=18620)\u001B[0m     PyInit__raylet\n",
      "\u001B[2m\u001B[36m(pid=18620)\u001B[0m     PyInit__raylet\n",
      "\u001B[2m\u001B[36m(pid=18620)\u001B[0m     PyInit__raylet\n",
      "\u001B[2m\u001B[36m(pid=18620)\u001B[0m     PyInit__raylet\n",
      "\u001B[2m\u001B[36m(pid=18620)\u001B[0m     PyInit__raylet\n",
      "\u001B[2m\u001B[36m(pid=18620)\u001B[0m     PyInit__raylet\n",
      "\u001B[2m\u001B[36m(pid=18620)\u001B[0m     PyInit__raylet\n",
      "\u001B[2m\u001B[36m(pid=18620)\u001B[0m     PyInit__raylet\n",
      "\u001B[2m\u001B[36m(pid=18620)\u001B[0m     PyInit__raylet\n",
      "\u001B[2m\u001B[36m(pid=18620)\u001B[0m     PyInit__raylet\n",
      "\u001B[2m\u001B[36m(pid=18620)\u001B[0m     PyInit__raylet\n",
      "\u001B[2m\u001B[36m(pid=18620)\u001B[0m     PyInit__raylet\n",
      "\u001B[2m\u001B[36m(pid=18620)\u001B[0m     PyInit__raylet\n",
      "\u001B[2m\u001B[36m(pid=18620)\u001B[0m     PyInit__raylet\n",
      "\u001B[2m\u001B[36m(pid=18620)\u001B[0m     PyInit__raylet\n",
      "\u001B[2m\u001B[36m(pid=18620)\u001B[0m     PyNumber_InPlaceLshift\n",
      "\u001B[2m\u001B[36m(pid=18620)\u001B[0m     Py_CheckFunctionResult\n",
      "\u001B[2m\u001B[36m(pid=18620)\u001B[0m     PyEval_EvalFrameDefault\n",
      "\u001B[2m\u001B[36m(pid=18620)\u001B[0m     Py_CheckFunctionResult\n",
      "\u001B[2m\u001B[36m(pid=18620)\u001B[0m     PyEval_EvalFrameDefault\n",
      "\u001B[2m\u001B[36m(pid=18620)\u001B[0m     PyEval_EvalCodeWithName\n",
      "\u001B[2m\u001B[36m(pid=18620)\u001B[0m     PyEval_EvalCodeEx\n",
      "\u001B[2m\u001B[36m(pid=18620)\u001B[0m     PyEval_EvalCode\n",
      "\u001B[2m\u001B[36m(pid=18620)\u001B[0m     PyArena_New\n",
      "\u001B[2m\u001B[36m(pid=18620)\u001B[0m     PyArena_New\n",
      "\u001B[2m\u001B[36m(pid=18620)\u001B[0m     PyRun_FileExFlags\n",
      "\u001B[2m\u001B[36m(pid=18620)\u001B[0m     PyRun_SimpleFileExFlags\n",
      "\u001B[2m\u001B[36m(pid=18620)\u001B[0m     PyRun_AnyFileExFlags\n",
      "\u001B[2m\u001B[36m(pid=18620)\u001B[0m     Py_FatalError\n",
      "\u001B[2m\u001B[36m(pid=18620)\u001B[0m     Py_RunMain\n",
      "\u001B[2m\u001B[36m(pid=18620)\u001B[0m     Py_RunMain\n",
      "\u001B[2m\u001B[36m(pid=18620)\u001B[0m     Py_Main\n",
      "\u001B[2m\u001B[36m(pid=18620)\u001B[0m     BaseThreadInitThunk\n",
      "\u001B[2m\u001B[36m(pid=18620)\u001B[0m     RtlUserThreadStart\n",
      "\u001B[2m\u001B[36m(pid=18620)\u001B[0m \r\n",
      "\u001B[2m\u001B[36m(pid=18620)\u001B[0m Windows fatal exception: access violation\n",
      "\u001B[2m\u001B[36m(pid=18620)\u001B[0m \n",
      "\u001B[2m\u001B[36m(pid=18620)\u001B[0m Stack (most recent call first):\n",
      "\u001B[2m\u001B[36m(pid=18620)\u001B[0m   File \"c:\\users\\stefan\\git-repos\\private\\blog\\venv\\lib\\site-packages\\ray\\worker.py\", line 425 in main_loop\n",
      "\u001B[2m\u001B[36m(pid=18620)\u001B[0m   File \"c:\\users\\stefan\\git-repos\\private\\blog\\venv\\lib\\site-packages\\ray\\workers/default_worker.py\", line 218 in <module>\n",
      "\u001B[2m\u001B[36m(pid=18180)\u001B[0m [2021-11-18 19:44:06,635 C 18180 12712] core_worker.cc:796:  Check failed: _s.ok() Bad status: IOError: Unknown error\n",
      "\u001B[2m\u001B[36m(pid=18180)\u001B[0m *** StackTrace Information ***\n",
      "\u001B[2m\u001B[36m(pid=18180)\u001B[0m     PyInit__raylet\n",
      "\u001B[2m\u001B[36m(pid=18180)\u001B[0m     PyInit__raylet\n",
      "\u001B[2m\u001B[36m(pid=18180)\u001B[0m     PyInit__raylet\n",
      "\u001B[2m\u001B[36m(pid=18180)\u001B[0m     PyInit__raylet\n",
      "\u001B[2m\u001B[36m(pid=18180)\u001B[0m     PyInit__raylet\n",
      "\u001B[2m\u001B[36m(pid=18180)\u001B[0m     PyInit__raylet\n",
      "\u001B[2m\u001B[36m(pid=18180)\u001B[0m     PyInit__raylet\n",
      "\u001B[2m\u001B[36m(pid=18180)\u001B[0m     PyInit__raylet\n",
      "\u001B[2m\u001B[36m(pid=18180)\u001B[0m     PyInit__raylet\n",
      "\u001B[2m\u001B[36m(pid=18180)\u001B[0m     PyInit__raylet\n",
      "\u001B[2m\u001B[36m(pid=18180)\u001B[0m     PyInit__raylet\n",
      "\u001B[2m\u001B[36m(pid=18180)\u001B[0m     PyInit__raylet\n",
      "\u001B[2m\u001B[36m(pid=18180)\u001B[0m     PyInit__raylet\n",
      "\u001B[2m\u001B[36m(pid=18180)\u001B[0m     PyInit__raylet\n",
      "\u001B[2m\u001B[36m(pid=18180)\u001B[0m     PyInit__raylet\n",
      "\u001B[2m\u001B[36m(pid=18180)\u001B[0m     PyInit__raylet\n",
      "\u001B[2m\u001B[36m(pid=18180)\u001B[0m     PyNumber_InPlaceLshift\n",
      "\u001B[2m\u001B[36m(pid=18180)\u001B[0m     Py_CheckFunctionResult\n",
      "\u001B[2m\u001B[36m(pid=18180)\u001B[0m     PyEval_EvalFrameDefault\n",
      "\u001B[2m\u001B[36m(pid=18180)\u001B[0m     Py_CheckFunctionResult\n",
      "\u001B[2m\u001B[36m(pid=18180)\u001B[0m     PyEval_EvalFrameDefault\n",
      "\u001B[2m\u001B[36m(pid=18180)\u001B[0m     PyEval_EvalCodeWithName\n",
      "\u001B[2m\u001B[36m(pid=18180)\u001B[0m     PyEval_EvalCodeEx\n",
      "\u001B[2m\u001B[36m(pid=18180)\u001B[0m     PyEval_EvalCode\n",
      "\u001B[2m\u001B[36m(pid=18180)\u001B[0m     PyArena_New\n",
      "\u001B[2m\u001B[36m(pid=18180)\u001B[0m     PyArena_New\n",
      "\u001B[2m\u001B[36m(pid=18180)\u001B[0m     PyRun_FileExFlags\n",
      "\u001B[2m\u001B[36m(pid=18180)\u001B[0m     PyRun_SimpleFileExFlags\n",
      "\u001B[2m\u001B[36m(pid=18180)\u001B[0m     PyRun_AnyFileExFlags\n",
      "\u001B[2m\u001B[36m(pid=18180)\u001B[0m     Py_FatalError\n",
      "\u001B[2m\u001B[36m(pid=18180)\u001B[0m     Py_RunMain\n",
      "\u001B[2m\u001B[36m(pid=18180)\u001B[0m     Py_RunMain\n",
      "\u001B[2m\u001B[36m(pid=18180)\u001B[0m     Py_Main\n",
      "\u001B[2m\u001B[36m(pid=18180)\u001B[0m     BaseThreadInitThunk\n",
      "\u001B[2m\u001B[36m(pid=18180)\u001B[0m     RtlUserThreadStart\n",
      "\u001B[2m\u001B[36m(pid=18180)\u001B[0m \r\n",
      "\u001B[2m\u001B[36m(pid=18180)\u001B[0m Windows fatal exception: access violation\n",
      "\u001B[2m\u001B[36m(pid=18180)\u001B[0m \n",
      "\u001B[2m\u001B[36m(pid=18180)\u001B[0m Stack (most recent call first):\n",
      "\u001B[2m\u001B[36m(pid=18180)\u001B[0m   File \"c:\\users\\stefan\\git-repos\\private\\blog\\venv\\lib\\site-packages\\ray\\worker.py\", line 425 in main_loop\n",
      "\u001B[2m\u001B[36m(pid=18180)\u001B[0m   File \"c:\\users\\stefan\\git-repos\\private\\blog\\venv\\lib\\site-packages\\ray\\workers/default_worker.py\", line 218 in <module>\n",
      "2021-11-18 19:44:06,741\tINFO tune.py:630 -- Total run time: 55.93 seconds (55.59 seconds for the tuning loop).\n"
     ]
    },
    {
     "name": "stdout",
     "output_type": "stream",
     "text": [
      "Training finished successfully\n"
     ]
    }
   ],
   "source": [
    "config[\"model\"] = {\n",
    "    # Attention net wrapping (for tf) can already use the native keras\n",
    "    # model versions. For torch, this will have no effect.\n",
    "    \"_use_default_native_models\": True,\n",
    "    \"use_attention\": True,\n",
    "    \"max_seq_len\": 10,\n",
    "    \"attention_num_transformer_units\": 1,\n",
    "    \"attention_dim\": 32,\n",
    "    \"attention_memory_inference\": 10,\n",
    "    \"attention_memory_training\": 10,\n",
    "    \"attention_num_heads\": 1,\n",
    "    \"attention_head_dim\": 32,\n",
    "    \"attention_position_wise_mlp_dim\": 32,\n",
    "}\n",
    "\n",
    "results_attention = ray.tune.run(\"PPO\", config=config, stop=stop)\n",
    "print(\"Training finished successfully\")"
   ],
   "metadata": {
    "collapsed": false,
    "pycharm": {
     "name": "#%%\n"
    }
   }
  },
  {
   "cell_type": "code",
   "execution_count": 27,
   "outputs": [
    {
     "data": {
      "text/plain": "21.75409836065574"
     },
     "execution_count": 27,
     "metadata": {},
     "output_type": "execute_result"
    }
   ],
   "source": [
    "# check results\n",
    "results_attention.default_metric = \"episode_reward_mean\"\n",
    "results_attention.default_mode = \"max\"\n",
    "# print the mean episode reward = episode length --> higher = better\n",
    "results_attention.best_result[\"episode_reward_mean\"]"
   ],
   "metadata": {
    "collapsed": false,
    "pycharm": {
     "name": "#%%\n"
    }
   }
  },
  {
   "cell_type": "code",
   "execution_count": 28,
   "outputs": [
    {
     "name": "stderr",
     "output_type": "stream",
     "text": [
      "c:\\users\\stefan\\git-repos\\private\\blog\\venv\\lib\\site-packages\\seaborn\\_decorators.py:36: FutureWarning: Pass the following variables as keyword args: x, y. From version 0.12, the only valid positional argument will be `data`, and passing other arguments without an explicit keyword will result in an error or misinterpretation.\n",
      "  warnings.warn(\n"
     ]
    },
    {
     "data": {
      "text/plain": "<AxesSubplot:>"
     },
     "execution_count": 28,
     "metadata": {},
     "output_type": "execute_result"
    },
    {
     "data": {
      "text/plain": "<Figure size 432x288 with 1 Axes>",
      "image/png": "[encoded data removed]"
     },
     "metadata": {
      "needs_background": "light"
     },
     "output_type": "display_data"
    }
   ],
   "source": [
    "eps_lengths = results_attention.best_result[\"hist_stats\"][\"episode_lengths\"]\n",
    "eps = [i for i in range(len(eps_lengths))]\n",
    "sns.scatterplot(eps, eps_lengths)"
   ],
   "metadata": {
    "collapsed": false,
    "pycharm": {
     "name": "#%%\n"
    }
   }
  },
  {
   "cell_type": "markdown",
   "source": [
    "## Stateless but Stacked Frames\n",
    "\n",
    "(maybe even with LSTM)\n",
    "use `framestack = True`\n",
    "\n"
   ],
   "metadata": {
    "collapsed": false,
    "pycharm": {
     "name": "#%% md\n"
    }
   }
  }
 ],
 "metadata": {
  "kernelspec": {
   "display_name": "Python 3",
   "language": "python",
   "name": "python3"
  },
  "language_info": {
   "codemirror_mode": {
    "name": "ipython",
    "version": 3
   },
   "file_extension": ".py",
   "mimetype": "text/x-python",
   "name": "python",
   "nbconvert_exporter": "python",
   "pygments_lexer": "ipython3",
   "version": "3.8.2"
  }
 },
 "nbformat": 4,
 "nbformat_minor": 4
}