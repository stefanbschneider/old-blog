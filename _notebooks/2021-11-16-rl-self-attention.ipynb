{
 "cells": [
  {
   "cell_type": "markdown",
   "metadata": {
    "pycharm": {
     "name": "#%% md\n"
    }
   },
   "source": [
    "# Why and When Attention Matters in Reinforcement Learning\n",
    "> \"Using RLlib and AttentionNet to master environments with stateless observations, here, stateless CartPole.\"\n",
    "\n",
    "- hide: true\n",
    "- toc: true\n",
    "- branch: master\n",
    "- badges: true\n",
    "- comments: true\n",
    "- categories: [python, gym, ray, rllib, tensorflow, machine learning, reinforcement learning, sequence, attention]\n",
    "- image: images/cartpole.jpg"
   ]
  },
  {
   "cell_type": "markdown",
   "metadata": {
    "pycharm": {
     "name": "#%% md\n"
    }
   },
   "source": [
    "In reinforcement learning (RL), the RL agent typically selects a suitable action based on the last observation.\n",
    "In many practical environments, the full state can only be observed partially,\n",
    "such that important information may be missing when just considering the last observation.\n",
    "This blog post covers options for dealing with missing and only partially observed state,\n",
    "e.g., considering a *sequence* of last observations and applying *self-attention* to this sequence.\n",
    "\n",
    "\n",
    "## Example: The CartPole Gym Environment\n",
    "\n",
    "As an example, consider the popular [OpenAI Gym CartPole environment](https://gym.openai.com/envs/CartPole-v1/).\n",
    "Here, the task is to move a cart left or right in order to balance a pole on the cart as long as possible.\n",
    "\n",
    "![OpenAI Gym CartPole-v1 Environment](attention/cartpole.gif \"OpenAI Gym CartPole-v1 Environment\")\n",
    "\n",
    "In the normal [`CartPole-v1` environment](https://gym.openai.com/envs/CartPole-v1/), the RL agent observes four scalar values ([defined here](https://github.com/openai/gym/blob/master/gym/envs/classic_control/cartpole.py#L26:L32)):\n",
    "* The cart position, i.e., where the cart currently is.\n",
    "* The cart velocity, i.e., how fast the cart is currently moving and in which direction (can be positive or negative).\n",
    "* The pole angle, i.e., how tilted the pole currently is and in which direction.\n",
    "* The pole angular velocity, i.e., how fast the pole is currently moving and in which direction.\n",
    "\n",
    "All four observations are important to decide whether the cart should move left or right.\n",
    "\n",
    "Now, assume the RL agent only has access to an instant snapshot of the cart and the pole (e.g., through a photo/raw pixels)\n",
    "and can neither observe cart velocity nor pole angular velocity.\n",
    "In this case, the RL agent does not know whether the pole is currently swinging to one side and cannot properly balance the pole.\n",
    "How to deal with this problem of missing state (here, cart and pole velocity)?\n",
    "\n",
    "\n",
    "## Options for Dealing With Missing State\n",
    "\n",
    "There are different options for dealing with missing state, e.g., missing velocity in the CartPole example:\n",
    "\n",
    "1. Add the missing state explicitly, e.g., measure and observe velocity. Note that this may require installing extra sensors or may even be infeasible in some scenarios.\n",
    "2. Ignore the missing state, i.e., just rely on the available, partial observations. Depending on the missing state, this may be problematic and keep the agent from learning.\n",
    "3. Keep track of a sequence of the last observations. By observing the cart position and pole angle over time, the agent can implicitly derive their velocity. There are different ways to deal with this sequence:\n",
    "   1. Just use the sequence as is for a standard multi-layer perceptron (MLP)/dense feedforward neural network.\n",
    "   2. Feed the sequence into a recurrent neural network (RNN), e.g., with long short-term memory (LSTM).\n",
    "   3. Feed the sequence into a neural network with *self-attention*.\n",
    "\n",
    "In the following, I explain each option in more detail and illustrate them using simple example code.\n",
    "\n",
    "\n",
    "### Setup\n",
    "\n",
    "For the examples, I use a PPO RL agent from Ray RLlib with the CartPole environment, described above.\n",
    "\n",
    "To install these dependencies, run the following code (tested with Python 3.8 on Windows):"
   ]
  },
  {
   "cell_type": "code",
   "execution_count": null,
   "outputs": [
    {
     "name": "stdout",
     "output_type": "stream",
     "text": [
      "Requirement already satisfied: ray[rllib]==1.8.0 in c:\\users\\stefan\\git-repos\\private\\blog\\venv\\lib\\site-packages (1.8.0)\n",
      "Requirement already satisfied: numpy>=1.16 in c:\\users\\stefan\\git-repos\\private\\blog\\venv\\lib\\site-packages (from ray[rllib]==1.8.0) (1.21.4)\n",
      "Requirement already satisfied: msgpack<2.0.0,>=1.0.0 in c:\\users\\stefan\\git-repos\\private\\blog\\venv\\lib\\site-packages (from ray[rllib]==1.8.0) (1.0.2)\n",
      "Requirement already satisfied: click>=7.0 in c:\\users\\stefan\\git-repos\\private\\blog\\venv\\lib\\site-packages (from ray[rllib]==1.8.0) (8.0.3)\n",
      "Requirement already satisfied: jsonschema in c:\\users\\stefan\\git-repos\\private\\blog\\venv\\lib\\site-packages (from ray[rllib]==1.8.0) (3.2.0)\n",
      "Requirement already satisfied: filelock in c:\\users\\stefan\\git-repos\\private\\blog\\venv\\lib\\site-packages (from ray[rllib]==1.8.0) (3.4.0)\n",
      "Requirement already satisfied: grpcio>=1.28.1 in c:\\users\\stefan\\git-repos\\private\\blog\\venv\\lib\\site-packages (from ray[rllib]==1.8.0) (1.41.1)\n",
      "Requirement already satisfied: protobuf>=3.15.3 in c:\\users\\stefan\\git-repos\\private\\blog\\venv\\lib\\site-packages (from ray[rllib]==1.8.0) (3.19.1)\n",
      "Requirement already satisfied: attrs in c:\\users\\stefan\\git-repos\\private\\blog\\venv\\lib\\site-packages (from ray[rllib]==1.8.0) (20.3.0)\n",
      "Requirement already satisfied: redis>=3.5.0 in c:\\users\\stefan\\git-repos\\private\\blog\\venv\\lib\\site-packages (from ray[rllib]==1.8.0) (4.0.0)\n",
      "Requirement already satisfied: pyyaml in c:\\users\\stefan\\git-repos\\private\\blog\\venv\\lib\\site-packages (from ray[rllib]==1.8.0) (6.0)\n",
      "Requirement already satisfied: tabulate in c:\\users\\stefan\\git-repos\\private\\blog\\venv\\lib\\site-packages (from ray[rllib]==1.8.0) (0.8.9)\n",
      "Requirement already satisfied: pandas in c:\\users\\stefan\\git-repos\\private\\blog\\venv\\lib\\site-packages (from ray[rllib]==1.8.0) (1.3.4)\n",
      "Requirement already satisfied: dm-tree in c:\\users\\stefan\\git-repos\\private\\blog\\venv\\lib\\site-packages (from ray[rllib]==1.8.0) (0.1.6)\n",
      "Requirement already satisfied: requests in c:\\users\\stefan\\git-repos\\private\\blog\\venv\\lib\\site-packages (from ray[rllib]==1.8.0) (2.25.1)\n",
      "Requirement already satisfied: matplotlib!=3.4.3 in c:\\users\\stefan\\git-repos\\private\\blog\\venv\\lib\\site-packages (from ray[rllib]==1.8.0) (3.5.0)\n",
      "Requirement already satisfied: tensorboardX>=1.9 in c:\\users\\stefan\\git-repos\\private\\blog\\venv\\lib\\site-packages (from ray[rllib]==1.8.0) (2.4)\n",
      "Requirement already satisfied: scipy in c:\\users\\stefan\\git-repos\\private\\blog\\venv\\lib\\site-packages (from ray[rllib]==1.8.0) (1.7.2)\n",
      "Requirement already satisfied: gym in c:\\users\\stefan\\git-repos\\private\\blog\\venv\\lib\\site-packages (from ray[rllib]==1.8.0) (0.21.0)\n",
      "Requirement already satisfied: lz4 in c:\\users\\stefan\\git-repos\\private\\blog\\venv\\lib\\site-packages (from ray[rllib]==1.8.0) (3.1.3)\n",
      "Requirement already satisfied: scikit-image in c:\\users\\stefan\\git-repos\\private\\blog\\venv\\lib\\site-packages (from ray[rllib]==1.8.0) (0.18.3)\n",
      "Requirement already satisfied: colorama in c:\\users\\stefan\\git-repos\\private\\blog\\venv\\lib\\site-packages (from click>=7.0->ray[rllib]==1.8.0) (0.4.4)\n",
      "Requirement already satisfied: six>=1.5.2 in c:\\users\\stefan\\git-repos\\private\\blog\\venv\\lib\\site-packages (from grpcio>=1.28.1->ray[rllib]==1.8.0) (1.15.0)\n",
      "Requirement already satisfied: pillow>=6.2.0 in c:\\users\\stefan\\git-repos\\private\\blog\\venv\\lib\\site-packages (from matplotlib!=3.4.3->ray[rllib]==1.8.0) (8.4.0)\n",
      "Requirement already satisfied: kiwisolver>=1.0.1 in c:\\users\\stefan\\git-repos\\private\\blog\\venv\\lib\\site-packages (from matplotlib!=3.4.3->ray[rllib]==1.8.0) (1.3.2)\n",
      "Requirement already satisfied: cycler>=0.10 in c:\\users\\stefan\\git-repos\\private\\blog\\venv\\lib\\site-packages (from matplotlib!=3.4.3->ray[rllib]==1.8.0) (0.11.0)\n",
      "Requirement already satisfied: fonttools>=4.22.0 in c:\\users\\stefan\\git-repos\\private\\blog\\venv\\lib\\site-packages (from matplotlib!=3.4.3->ray[rllib]==1.8.0) (4.28.1)\n",
      "Requirement already satisfied: python-dateutil>=2.7 in c:\\users\\stefan\\git-repos\\private\\blog\\venv\\lib\\site-packages (from matplotlib!=3.4.3->ray[rllib]==1.8.0) (2.8.1)\n",
      "Requirement already satisfied: packaging>=20.0 in c:\\users\\stefan\\git-repos\\private\\blog\\venv\\lib\\site-packages (from matplotlib!=3.4.3->ray[rllib]==1.8.0) (20.8)\n",
      "Requirement already satisfied: pyparsing>=2.2.1 in c:\\users\\stefan\\git-repos\\private\\blog\\venv\\lib\\site-packages (from matplotlib!=3.4.3->ray[rllib]==1.8.0) (2.4.7)\n",
      "Requirement already satisfied: setuptools-scm>=4 in c:\\users\\stefan\\git-repos\\private\\blog\\venv\\lib\\site-packages (from matplotlib!=3.4.3->ray[rllib]==1.8.0) (6.3.2)\n",
      "Requirement already satisfied: deprecated in c:\\users\\stefan\\git-repos\\private\\blog\\venv\\lib\\site-packages (from redis>=3.5.0->ray[rllib]==1.8.0) (1.2.13)\n",
      "Requirement already satisfied: cloudpickle>=1.2.0 in c:\\users\\stefan\\git-repos\\private\\blog\\venv\\lib\\site-packages (from gym->ray[rllib]==1.8.0) (2.0.0)\n",
      "Requirement already satisfied: setuptools in c:\\users\\stefan\\git-repos\\private\\blog\\venv\\lib\\site-packages (from jsonschema->ray[rllib]==1.8.0) (46.1.3)\n",
      "Requirement already satisfied: pyrsistent>=0.14.0 in c:\\users\\stefan\\git-repos\\private\\blog\\venv\\lib\\site-packages (from jsonschema->ray[rllib]==1.8.0) (0.17.3)\n",
      "Requirement already satisfied: pytz>=2017.3 in c:\\users\\stefan\\git-repos\\private\\blog\\venv\\lib\\site-packages (from pandas->ray[rllib]==1.8.0) (2020.5)\n",
      "Requirement already satisfied: certifi>=2017.4.17 in c:\\users\\stefan\\git-repos\\private\\blog\\venv\\lib\\site-packages (from requests->ray[rllib]==1.8.0) (2020.12.5)\n",
      "Requirement already satisfied: urllib3<1.27,>=1.21.1 in c:\\users\\stefan\\git-repos\\private\\blog\\venv\\lib\\site-packages (from requests->ray[rllib]==1.8.0) (1.26.2)\n",
      "Requirement already satisfied: idna<3,>=2.5 in c:\\users\\stefan\\git-repos\\private\\blog\\venv\\lib\\site-packages (from requests->ray[rllib]==1.8.0) (2.10)\n",
      "Requirement already satisfied: chardet<5,>=3.0.2 in c:\\users\\stefan\\git-repos\\private\\blog\\venv\\lib\\site-packages (from requests->ray[rllib]==1.8.0) (4.0.0)\n",
      "Requirement already satisfied: PyWavelets>=1.1.1 in c:\\users\\stefan\\git-repos\\private\\blog\\venv\\lib\\site-packages (from scikit-image->ray[rllib]==1.8.0) (1.2.0)\n",
      "Requirement already satisfied: imageio>=2.3.0 in c:\\users\\stefan\\git-repos\\private\\blog\\venv\\lib\\site-packages (from scikit-image->ray[rllib]==1.8.0) (2.10.4)\n",
      "Requirement already satisfied: tifffile>=2019.7.26 in c:\\users\\stefan\\git-repos\\private\\blog\\venv\\lib\\site-packages (from scikit-image->ray[rllib]==1.8.0) (2021.11.2)\n",
      "Requirement already satisfied: networkx>=2.0 in c:\\users\\stefan\\git-repos\\private\\blog\\venv\\lib\\site-packages (from scikit-image->ray[rllib]==1.8.0) (2.6.3)\n",
      "Requirement already satisfied: tomli>=1.0.0 in c:\\users\\stefan\\git-repos\\private\\blog\\venv\\lib\\site-packages (from setuptools-scm>=4->matplotlib!=3.4.3->ray[rllib]==1.8.0) (1.2.2)\n",
      "Requirement already satisfied: wrapt<2,>=1.10 in c:\\users\\stefan\\git-repos\\private\\blog\\venv\\lib\\site-packages (from deprecated->redis>=3.5.0->ray[rllib]==1.8.0) (1.13.3)\n",
      "Requirement already satisfied: tensorflow==2.7.0 in c:\\users\\stefan\\git-repos\\private\\blog\\venv\\lib\\site-packages (2.7.0)\n",
      "Requirement already satisfied: h5py>=2.9.0 in c:\\users\\stefan\\git-repos\\private\\blog\\venv\\lib\\site-packages (from tensorflow==2.7.0) (3.6.0)\n",
      "Requirement already satisfied: six>=1.12.0 in c:\\users\\stefan\\git-repos\\private\\blog\\venv\\lib\\site-packages (from tensorflow==2.7.0) (1.15.0)\n",
      "Requirement already satisfied: numpy>=1.14.5 in c:\\users\\stefan\\git-repos\\private\\blog\\venv\\lib\\site-packages (from tensorflow==2.7.0) (1.21.4)\n",
      "Requirement already satisfied: absl-py>=0.4.0 in c:\\users\\stefan\\git-repos\\private\\blog\\venv\\lib\\site-packages (from tensorflow==2.7.0) (1.0.0)\n",
      "Requirement already satisfied: keras<2.8,>=2.7.0rc0 in c:\\users\\stefan\\git-repos\\private\\blog\\venv\\lib\\site-packages (from tensorflow==2.7.0) (2.7.0)\n",
      "Requirement already satisfied: astunparse>=1.6.0 in c:\\users\\stefan\\git-repos\\private\\blog\\venv\\lib\\site-packages (from tensorflow==2.7.0) (1.6.3)\n",
      "Requirement already satisfied: google-pasta>=0.1.1 in c:\\users\\stefan\\git-repos\\private\\blog\\venv\\lib\\site-packages (from tensorflow==2.7.0) (0.2.0)\n",
      "Requirement already satisfied: gast<0.5.0,>=0.2.1 in c:\\users\\stefan\\git-repos\\private\\blog\\venv\\lib\\site-packages (from tensorflow==2.7.0) (0.4.0)\n",
      "Requirement already satisfied: tensorflow-io-gcs-filesystem>=0.21.0 in c:\\users\\stefan\\git-repos\\private\\blog\\venv\\lib\\site-packages (from tensorflow==2.7.0) (0.22.0)\n",
      "Requirement already satisfied: grpcio<2.0,>=1.24.3 in c:\\users\\stefan\\git-repos\\private\\blog\\venv\\lib\\site-packages (from tensorflow==2.7.0) (1.41.1)\n",
      "Requirement already satisfied: termcolor>=1.1.0 in c:\\users\\stefan\\git-repos\\private\\blog\\venv\\lib\\site-packages (from tensorflow==2.7.0) (1.1.0)\n",
      "Requirement already satisfied: opt-einsum>=2.3.2 in c:\\users\\stefan\\git-repos\\private\\blog\\venv\\lib\\site-packages (from tensorflow==2.7.0) (3.3.0)\n",
      "Requirement already satisfied: tensorboard~=2.6 in c:\\users\\stefan\\git-repos\\private\\blog\\venv\\lib\\site-packages (from tensorflow==2.7.0) (2.7.0)\n",
      "Requirement already satisfied: protobuf>=3.9.2 in c:\\users\\stefan\\git-repos\\private\\blog\\venv\\lib\\site-packages (from tensorflow==2.7.0) (3.19.1)\n",
      "Requirement already satisfied: flatbuffers<3.0,>=1.12 in c:\\users\\stefan\\git-repos\\private\\blog\\venv\\lib\\site-packages (from tensorflow==2.7.0) (2.0)\n",
      "Requirement already satisfied: keras-preprocessing>=1.1.1 in c:\\users\\stefan\\git-repos\\private\\blog\\venv\\lib\\site-packages (from tensorflow==2.7.0) (1.1.2)\n",
      "Requirement already satisfied: wheel<1.0,>=0.32.0 in c:\\users\\stefan\\git-repos\\private\\blog\\venv\\lib\\site-packages (from tensorflow==2.7.0) (0.34.2)\n",
      "Requirement already satisfied: wrapt>=1.11.0 in c:\\users\\stefan\\git-repos\\private\\blog\\venv\\lib\\site-packages (from tensorflow==2.7.0) (1.13.3)\n",
      "Requirement already satisfied: tensorflow-estimator<2.8,~=2.7.0rc0 in c:\\users\\stefan\\git-repos\\private\\blog\\venv\\lib\\site-packages (from tensorflow==2.7.0) (2.7.0)\n",
      "Requirement already satisfied: typing-extensions>=3.6.6 in c:\\users\\stefan\\git-repos\\private\\blog\\venv\\lib\\site-packages (from tensorflow==2.7.0) (4.0.0)\n",
      "Requirement already satisfied: libclang>=9.0.1 in c:\\users\\stefan\\git-repos\\private\\blog\\venv\\lib\\site-packages (from tensorflow==2.7.0) (12.0.0)\n",
      "Requirement already satisfied: markdown>=2.6.8 in c:\\users\\stefan\\git-repos\\private\\blog\\venv\\lib\\site-packages (from tensorboard~=2.6->tensorflow==2.7.0) (3.3.5)\n",
      "Requirement already satisfied: google-auth<3,>=1.6.3 in c:\\users\\stefan\\git-repos\\private\\blog\\venv\\lib\\site-packages (from tensorboard~=2.6->tensorflow==2.7.0) (2.3.3)\n",
      "Requirement already satisfied: google-auth-oauthlib<0.5,>=0.4.1 in c:\\users\\stefan\\git-repos\\private\\blog\\venv\\lib\\site-packages (from tensorboard~=2.6->tensorflow==2.7.0) (0.4.6)\n",
      "Requirement already satisfied: tensorboard-data-server<0.7.0,>=0.6.0 in c:\\users\\stefan\\git-repos\\private\\blog\\venv\\lib\\site-packages (from tensorboard~=2.6->tensorflow==2.7.0) (0.6.1)\n",
      "Requirement already satisfied: tensorboard-plugin-wit>=1.6.0 in c:\\users\\stefan\\git-repos\\private\\blog\\venv\\lib\\site-packages (from tensorboard~=2.6->tensorflow==2.7.0) (1.8.0)\n",
      "Requirement already satisfied: requests<3,>=2.21.0 in c:\\users\\stefan\\git-repos\\private\\blog\\venv\\lib\\site-packages (from tensorboard~=2.6->tensorflow==2.7.0) (2.25.1)\n",
      "Requirement already satisfied: setuptools>=41.0.0 in c:\\users\\stefan\\git-repos\\private\\blog\\venv\\lib\\site-packages (from tensorboard~=2.6->tensorflow==2.7.0) (46.1.3)\n",
      "Requirement already satisfied: werkzeug>=0.11.15 in c:\\users\\stefan\\git-repos\\private\\blog\\venv\\lib\\site-packages (from tensorboard~=2.6->tensorflow==2.7.0) (2.0.2)\n",
      "Requirement already satisfied: cachetools<5.0,>=2.0.0 in c:\\users\\stefan\\git-repos\\private\\blog\\venv\\lib\\site-packages (from google-auth<3,>=1.6.3->tensorboard~=2.6->tensorflow==2.7.0) (4.2.4)\n",
      "Requirement already satisfied: rsa<5,>=3.1.4 in c:\\users\\stefan\\git-repos\\private\\blog\\venv\\lib\\site-packages (from google-auth<3,>=1.6.3->tensorboard~=2.6->tensorflow==2.7.0) (4.7.2)\n",
      "Requirement already satisfied: pyasn1-modules>=0.2.1 in c:\\users\\stefan\\git-repos\\private\\blog\\venv\\lib\\site-packages (from google-auth<3,>=1.6.3->tensorboard~=2.6->tensorflow==2.7.0) (0.2.8)\n",
      "Requirement already satisfied: requests-oauthlib>=0.7.0 in c:\\users\\stefan\\git-repos\\private\\blog\\venv\\lib\\site-packages (from google-auth-oauthlib<0.5,>=0.4.1->tensorboard~=2.6->tensorflow==2.7.0) (1.3.0)\n",
      "Requirement already satisfied: importlib-metadata>='4.4' in c:\\users\\stefan\\git-repos\\private\\blog\\venv\\lib\\site-packages (from markdown>=2.6.8->tensorboard~=2.6->tensorflow==2.7.0) (4.8.2)\n",
      "Requirement already satisfied: certifi>=2017.4.17 in c:\\users\\stefan\\git-repos\\private\\blog\\venv\\lib\\site-packages (from requests<3,>=2.21.0->tensorboard~=2.6->tensorflow==2.7.0) (2020.12.5)\n",
      "Requirement already satisfied: idna<3,>=2.5 in c:\\users\\stefan\\git-repos\\private\\blog\\venv\\lib\\site-packages (from requests<3,>=2.21.0->tensorboard~=2.6->tensorflow==2.7.0) (2.10)\n",
      "Requirement already satisfied: urllib3<1.27,>=1.21.1 in c:\\users\\stefan\\git-repos\\private\\blog\\venv\\lib\\site-packages (from requests<3,>=2.21.0->tensorboard~=2.6->tensorflow==2.7.0) (1.26.2)\n",
      "Requirement already satisfied: chardet<5,>=3.0.2 in c:\\users\\stefan\\git-repos\\private\\blog\\venv\\lib\\site-packages (from requests<3,>=2.21.0->tensorboard~=2.6->tensorflow==2.7.0) (4.0.0)\n",
      "Requirement already satisfied: zipp>=0.5 in c:\\users\\stefan\\git-repos\\private\\blog\\venv\\lib\\site-packages (from importlib-metadata>='4.4'->markdown>=2.6.8->tensorboard~=2.6->tensorflow==2.7.0) (3.6.0)\n",
      "Requirement already satisfied: pyasn1<0.5.0,>=0.4.6 in c:\\users\\stefan\\git-repos\\private\\blog\\venv\\lib\\site-packages (from pyasn1-modules>=0.2.1->google-auth<3,>=1.6.3->tensorboard~=2.6->tensorflow==2.7.0) (0.4.8)\n",
      "Requirement already satisfied: oauthlib>=3.0.0 in c:\\users\\stefan\\git-repos\\private\\blog\\venv\\lib\\site-packages (from requests-oauthlib>=0.7.0->google-auth-oauthlib<0.5,>=0.4.1->tensorboard~=2.6->tensorflow==2.7.0) (3.1.1)\n",
      "Requirement already satisfied: seaborn==0.11.2 in c:\\users\\stefan\\git-repos\\private\\blog\\venv\\lib\\site-packages (0.11.2)\n",
      "Requirement already satisfied: matplotlib>=2.2 in c:\\users\\stefan\\git-repos\\private\\blog\\venv\\lib\\site-packages (from seaborn==0.11.2) (3.5.0)\n",
      "Requirement already satisfied: numpy>=1.15 in c:\\users\\stefan\\git-repos\\private\\blog\\venv\\lib\\site-packages (from seaborn==0.11.2) (1.21.4)\n",
      "Requirement already satisfied: pandas>=0.23 in c:\\users\\stefan\\git-repos\\private\\blog\\venv\\lib\\site-packages (from seaborn==0.11.2) (1.3.4)\n",
      "Requirement already satisfied: scipy>=1.0 in c:\\users\\stefan\\git-repos\\private\\blog\\venv\\lib\\site-packages (from seaborn==0.11.2) (1.7.2)\n",
      "Requirement already satisfied: packaging>=20.0 in c:\\users\\stefan\\git-repos\\private\\blog\\venv\\lib\\site-packages (from matplotlib>=2.2->seaborn==0.11.2) (20.8)\n",
      "Requirement already satisfied: cycler>=0.10 in c:\\users\\stefan\\git-repos\\private\\blog\\venv\\lib\\site-packages (from matplotlib>=2.2->seaborn==0.11.2) (0.11.0)\n",
      "Requirement already satisfied: fonttools>=4.22.0 in c:\\users\\stefan\\git-repos\\private\\blog\\venv\\lib\\site-packages (from matplotlib>=2.2->seaborn==0.11.2) (4.28.1)\n",
      "Requirement already satisfied: setuptools-scm>=4 in c:\\users\\stefan\\git-repos\\private\\blog\\venv\\lib\\site-packages (from matplotlib>=2.2->seaborn==0.11.2) (6.3.2)\n",
      "Requirement already satisfied: pillow>=6.2.0 in c:\\users\\stefan\\git-repos\\private\\blog\\venv\\lib\\site-packages (from matplotlib>=2.2->seaborn==0.11.2) (8.4.0)\n",
      "Requirement already satisfied: kiwisolver>=1.0.1 in c:\\users\\stefan\\git-repos\\private\\blog\\venv\\lib\\site-packages (from matplotlib>=2.2->seaborn==0.11.2) (1.3.2)\n",
      "Requirement already satisfied: python-dateutil>=2.7 in c:\\users\\stefan\\git-repos\\private\\blog\\venv\\lib\\site-packages (from matplotlib>=2.2->seaborn==0.11.2) (2.8.1)\n",
      "Requirement already satisfied: pyparsing>=2.2.1 in c:\\users\\stefan\\git-repos\\private\\blog\\venv\\lib\\site-packages (from matplotlib>=2.2->seaborn==0.11.2) (2.4.7)\n",
      "Requirement already satisfied: pytz>=2017.3 in c:\\users\\stefan\\git-repos\\private\\blog\\venv\\lib\\site-packages (from pandas>=0.23->seaborn==0.11.2) (2020.5)\n",
      "Requirement already satisfied: six>=1.5 in c:\\users\\stefan\\git-repos\\private\\blog\\venv\\lib\\site-packages (from python-dateutil>=2.7->matplotlib>=2.2->seaborn==0.11.2) (1.15.0)\n",
      "Requirement already satisfied: tomli>=1.0.0 in c:\\users\\stefan\\git-repos\\private\\blog\\venv\\lib\\site-packages (from setuptools-scm>=4->matplotlib>=2.2->seaborn==0.11.2) (1.2.2)\n",
      "Requirement already satisfied: setuptools in c:\\users\\stefan\\git-repos\\private\\blog\\venv\\lib\\site-packages (from setuptools-scm>=4->matplotlib>=2.2->seaborn==0.11.2) (46.1.3)\n",
      "Requirement already satisfied: gym==0.21.0 in c:\\users\\stefan\\git-repos\\private\\blog\\venv\\lib\\site-packages (0.21.0)\n",
      "Requirement already satisfied: numpy>=1.18.0 in c:\\users\\stefan\\git-repos\\private\\blog\\venv\\lib\\site-packages (from gym==0.21.0) (1.21.4)\n",
      "Requirement already satisfied: cloudpickle>=1.2.0 in c:\\users\\stefan\\git-repos\\private\\blog\\venv\\lib\\site-packages (from gym==0.21.0) (2.0.0)\n"
     ]
    }
   ],
   "source": [
    "#collapse-output\n",
    "!pip install ray[rllib]==1.8.0\n",
    "!pip install tensorflow==2.7.0\n",
    "!pip install seaborn==0.11.2\n",
    "!pip install gym==0.21.0\n",
    "!pip install pyglet==1.5.21"
   ],
   "metadata": {
    "collapsed": false,
    "pycharm": {
     "name": "#%%\n",
     "is_executing": true
    }
   }
  },
  {
   "cell_type": "markdown",
   "source": [
    "Start up ray, load the default PPO config, and determine the number of training iterations,\n",
    "which is the same for all options (for comparability)."
   ],
   "metadata": {
    "collapsed": false,
    "pycharm": {
     "name": "#%% md\n"
    }
   }
  },
  {
   "cell_type": "code",
   "execution_count": null,
   "outputs": [],
   "source": [
    "import ray\n",
    "\n",
    "# adjust num_cpus and num_gpus to your system\n",
    "# for some reason, num_cpus=2 gets stuck on my system (when trying to train)\n",
    "ray.init(num_cpus=3, ignore_reinit_error=True)\n",
    "\n",
    "# stop conditions based on training iterations (each with 4000 train steps)\n",
    "stop = {\"training_iteration\": 1}"
   ],
   "metadata": {
    "collapsed": false,
    "pycharm": {
     "name": "#%%\n",
     "is_executing": true
    }
   }
  },
  {
   "cell_type": "markdown",
   "source": [
    "### Option 1: Explicitly Add Missing State\n",
    "\n",
    "Sometimes, it is possible to extend the observations and explicitly add important state that was previously unobserved.\n",
    "In the CartPole example, the cart and pole velocity can simply be \"added\" by using the default `CartPole-v1` environment.\n",
    "Here, the cart velocity and pole velocity are already included in the observations.\n",
    "\n",
    "Note that in many practical scenarios such \"missing\" state cannot be added and observed simply.\n",
    "Instead, it may require installing additional sensors or may even be completely infeasible.\n",
    "\n",
    "Let's start with the best case, i.e., explicitly including the missing state."
   ],
   "metadata": {
    "collapsed": false,
    "pycharm": {
     "name": "#%% md\n"
    }
   }
  },
  {
   "cell_type": "code",
   "execution_count": null,
   "outputs": [],
   "source": [
    "import gym\n",
    "\n",
    "# the default CartPole env has all 4 observations: position and velocity of both cart and pole\n",
    "env = gym.make(\"CartPole-v1\")\n",
    "env.observation_space.shape"
   ],
   "metadata": {
    "collapsed": false,
    "pycharm": {
     "name": "#%%\n",
     "is_executing": true
    }
   }
  },
  {
   "cell_type": "code",
   "execution_count": null,
   "metadata": {
    "collapsed": false,
    "jupyter": {
     "outputs_hidden": false
    },
    "pycharm": {
     "name": "#%%\n",
     "is_executing": true
    }
   },
   "outputs": [],
   "source": [
    "#collapse-output\n",
    "\n",
    "from ray.rllib.agents import ppo\n",
    "\n",
    "# run PPO on the default CartPole-v1 env\n",
    "config1 = ppo.DEFAULT_CONFIG.copy()\n",
    "config1[\"env\"] = \"CartPole-v1\"\n",
    "\n",
    "# training takes a while\n",
    "results1 = ray.tune.run(\"PPO\", config=config1, stop=stop)\n",
    "print(\"Option 1: Training finished successfully\")"
   ]
  },
  {
   "cell_type": "code",
   "execution_count": null,
   "outputs": [],
   "source": [
    "# check results\n",
    "results1.default_metric = \"episode_reward_mean\"\n",
    "results1.default_mode = \"max\"\n",
    "# print mean number of time steps the pole was balanced (higher = better)\n",
    "results1.best_result[\"episode_reward_mean\"]"
   ],
   "metadata": {
    "collapsed": false,
    "pycharm": {
     "name": "#%%\n",
     "is_executing": true
    }
   }
  },
  {
   "cell_type": "code",
   "execution_count": null,
   "outputs": [],
   "source": [
    "# plot the last 100 episode rewards\n",
    "import seaborn as sns\n",
    "\n",
    "eps_rewards = results1.best_result[\"hist_stats\"][\"episode_reward\"]\n",
    "eps = [i for i in range(len(eps_rewards))]\n",
    "sns.scatterplot(eps, eps_rewards)\n"
   ],
   "metadata": {
    "collapsed": false,
    "pycharm": {
     "name": "#%%\n",
     "is_executing": true
    }
   }
  },
  {
   "cell_type": "markdown",
   "source": [
    "## Do Not Observe Velocity\n",
    "\n",
    "In many practical"
   ],
   "metadata": {
    "collapsed": false,
    "pycharm": {
     "name": "#%% md\n"
    }
   }
  },
  {
   "cell_type": "code",
   "execution_count": null,
   "outputs": [],
   "source": [
    "from ray.rllib.examples.env.stateless_cartpole import StatelessCartPole\n",
    "from ray.tune import registry\n",
    "\n",
    "registry.register_env(\"StatelessCartPole\", lambda _: StatelessCartPole())\n",
    "config[\"env\"] = \"StatelessCartPole\"\n",
    "# train; this takes a while\n",
    "results_stateless = ray.tune.run(\"PPO\", config=config, stop=stop)\n",
    "print(\"Training finished successfully\")"
   ],
   "metadata": {
    "collapsed": false,
    "pycharm": {
     "name": "#%%\n",
     "is_executing": true
    }
   }
  },
  {
   "cell_type": "code",
   "execution_count": null,
   "outputs": [],
   "source": [
    "# check results\n",
    "results_stateless.default_metric = \"episode_reward_mean\"\n",
    "results_stateless.default_mode = \"max\"\n",
    "# print the mean episode reward = episode length --> higher = better\n",
    "results_stateless.best_result[\"episode_reward_mean\"]"
   ],
   "metadata": {
    "collapsed": false,
    "pycharm": {
     "name": "#%%\n",
     "is_executing": true
    }
   }
  },
  {
   "cell_type": "code",
   "execution_count": null,
   "outputs": [],
   "source": [
    "eps_lengths = results_stateless.best_result[\"hist_stats\"][\"episode_lengths\"]\n",
    "eps = [i for i in range(len(eps_lengths))]\n",
    "sns.scatterplot(eps, eps_lengths)\n"
   ],
   "metadata": {
    "collapsed": false,
    "pycharm": {
     "name": "#%%\n",
     "is_executing": true
    }
   }
  },
  {
   "cell_type": "markdown",
   "source": [
    "## Stacked Observations with Attention\n",
    "\n",
    "TODO: continue here\n",
    "https://github.com/ray-project/ray/blob/master/rllib/examples/attention_net.py\n",
    "\n",
    "> Tip: Also check out the [RLlib example using AttentionNet](https://github.com/ray-project/ray/blob/master/rllib/examples/attention_net.py).\n"
   ],
   "metadata": {
    "collapsed": false,
    "pycharm": {
     "name": "#%% md\n"
    }
   }
  },
  {
   "cell_type": "code",
   "execution_count": null,
   "outputs": [],
   "source": [
    "config[\"model\"] = {\n",
    "    # Attention net wrapping (for tf) can already use the native keras\n",
    "    # model versions. For torch, this will have no effect.\n",
    "    \"_use_default_native_models\": True,\n",
    "    \"use_attention\": True,\n",
    "    \"max_seq_len\": 10,\n",
    "    \"attention_num_transformer_units\": 1,\n",
    "    \"attention_dim\": 32,\n",
    "    \"attention_memory_inference\": 10,\n",
    "    \"attention_memory_training\": 10,\n",
    "    \"attention_num_heads\": 1,\n",
    "    \"attention_head_dim\": 32,\n",
    "    \"attention_position_wise_mlp_dim\": 32,\n",
    "}\n",
    "\n",
    "results_attention = ray.tune.run(\"PPO\", config=config, stop=stop)\n",
    "print(\"Training finished successfully\")"
   ],
   "metadata": {
    "collapsed": false,
    "pycharm": {
     "name": "#%%\n",
     "is_executing": true
    }
   }
  },
  {
   "cell_type": "code",
   "execution_count": null,
   "outputs": [],
   "source": [
    "# check results\n",
    "results_attention.default_metric = \"episode_reward_mean\"\n",
    "results_attention.default_mode = \"max\"\n",
    "# print the mean episode reward = episode length --> higher = better\n",
    "results_attention.best_result[\"episode_reward_mean\"]"
   ],
   "metadata": {
    "collapsed": false,
    "pycharm": {
     "name": "#%%\n",
     "is_executing": true
    }
   }
  },
  {
   "cell_type": "code",
   "execution_count": null,
   "outputs": [],
   "source": [
    "eps_lengths = results_attention.best_result[\"hist_stats\"][\"episode_lengths\"]\n",
    "eps = [i for i in range(len(eps_lengths))]\n",
    "sns.scatterplot(eps, eps_lengths)"
   ],
   "metadata": {
    "collapsed": false,
    "pycharm": {
     "name": "#%%\n",
     "is_executing": true
    }
   }
  },
  {
   "cell_type": "markdown",
   "source": [
    "## Stateless but Stacked Frames\n",
    "\n",
    "(maybe even with LSTM)\n",
    "use `framestack = True`\n",
    "\n"
   ],
   "metadata": {
    "collapsed": false,
    "pycharm": {
     "name": "#%% md\n"
    }
   }
  }
 ],
 "metadata": {
  "kernelspec": {
   "display_name": "Python 3",
   "language": "python",
   "name": "python3"
  },
  "language_info": {
   "codemirror_mode": {
    "name": "ipython",
    "version": 3
   },
   "file_extension": ".py",
   "mimetype": "text/x-python",
   "name": "python",
   "nbconvert_exporter": "python",
   "pygments_lexer": "ipython3",
   "version": "3.8.2"
  }
 },
 "nbformat": 4,
 "nbformat_minor": 4
}