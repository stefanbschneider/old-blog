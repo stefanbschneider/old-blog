{
 "cells": [
  {
   "cell_type": "markdown",
   "metadata": {
    "pycharm": {
     "name": "#%% md\n"
    }
   },
   "source": [
    "# Why and When Attention Matters in Reinforcement Learning\n",
    "> \"Using RLlib and AttentionNet to master environments with stateless observations, here, stateless CartPole.\"\n",
    "\n",
    "- hide: true\n",
    "- toc: true\n",
    "- branch: master\n",
    "- badges: true\n",
    "- comments: true\n",
    "- categories: [python, ray, rllib, tensorflow, machine learning, reinforcement learning, attention]\n",
    "- image: images/cartpole.jpg"
   ]
  },
  {
   "cell_type": "markdown",
   "metadata": {
    "pycharm": {
     "name": "#%% md\n"
    }
   },
   "source": [
    "TODOs:\n",
    "* Image and short explanation of (self-)attention.\n",
    "* Proper description of different options\n",
    "\n",
    "\n",
    "In reinforcement learning (RL), the RL agent typically selects a suitable action based on the last observation.\n",
    "Since many practical environments are stateful, this state should be taken into account when selecting an action.\n",
    "As an example, consider the popular [OpenAI Gym CartPole environment](https://gym.openai.com/envs/CartPole-v1/),\n",
    "where the task is to move a cart left or right in order to balance a pole on the cart as long as possible.\n",
    "\n",
    "![OpenAI Gym CartPole-v1 Environment](attention/cartpole.gif \"OpenAI Gym CartPole-v1 Environment\")\n",
    "\n",
    "Whether the cart should be moved left or right clearly depends on how the pole is currently moving,\n",
    "i.e., in which direction it is swinging and with which velocity.\n",
    "In this example, the pole's movement and velocity are an important part of the state,\n",
    "which should determine the selected action (left or right).\n",
    "\n",
    "In the following, I show different options how to deal with this state.\n",
    "\n",
    "* State explicitly observed\n",
    "* State not observed at all\n",
    "* Sequence of last observations\n",
    "* Sequence of last observations + attention\n",
    "\n",
    "For each case, I use PPO with default hyperparamters.\n",
    "\n",
    "> Tip: Also check out the [RLlib example using AttentionNet](https://github.com/ray-project/ray/blob/master/rllib/examples/attention_net.py).\n",
    "\n",
    "\n",
    "## Setup\n",
    "\n",
    "Install Ray RLlib and TensorFlow (also works with PyTorch); seaborn for plotting.\n",
    "I am using Python 3.8 on Windows 10."
   ]
  },
  {
   "cell_type": "code",
   "execution_count": 2,
   "outputs": [
    {
     "name": "stdout",
     "output_type": "stream",
     "text": [
      "Requirement already satisfied: ray[rllib]==1.8.0 in c:\\users\\stefan\\git-repos\\private\\blog\\venv\\lib\\site-packages (1.8.0)\n",
      "Requirement already satisfied: filelock in c:\\users\\stefan\\git-repos\\private\\blog\\venv\\lib\\site-packages (from ray[rllib]==1.8.0) (3.4.0)\n",
      "Requirement already satisfied: msgpack<2.0.0,>=1.0.0 in c:\\users\\stefan\\git-repos\\private\\blog\\venv\\lib\\site-packages (from ray[rllib]==1.8.0) (1.0.2)\n",
      "Requirement already satisfied: jsonschema in c:\\users\\stefan\\git-repos\\private\\blog\\venv\\lib\\site-packages (from ray[rllib]==1.8.0) (3.2.0)\n",
      "Requirement already satisfied: numpy>=1.16 in c:\\users\\stefan\\git-repos\\private\\blog\\venv\\lib\\site-packages (from ray[rllib]==1.8.0) (1.21.4)\n",
      "Requirement already satisfied: protobuf>=3.15.3 in c:\\users\\stefan\\git-repos\\private\\blog\\venv\\lib\\site-packages (from ray[rllib]==1.8.0) (3.19.1)\n",
      "Requirement already satisfied: redis>=3.5.0 in c:\\users\\stefan\\git-repos\\private\\blog\\venv\\lib\\site-packages (from ray[rllib]==1.8.0) (4.0.0)\n",
      "Requirement already satisfied: attrs in c:\\users\\stefan\\git-repos\\private\\blog\\venv\\lib\\site-packages (from ray[rllib]==1.8.0) (20.3.0)\n",
      "Requirement already satisfied: grpcio>=1.28.1 in c:\\users\\stefan\\git-repos\\private\\blog\\venv\\lib\\site-packages (from ray[rllib]==1.8.0) (1.41.1)\n",
      "Requirement already satisfied: click>=7.0 in c:\\users\\stefan\\git-repos\\private\\blog\\venv\\lib\\site-packages (from ray[rllib]==1.8.0) (8.0.3)\n",
      "Requirement already satisfied: pyyaml in c:\\users\\stefan\\git-repos\\private\\blog\\venv\\lib\\site-packages (from ray[rllib]==1.8.0) (6.0)\n",
      "Requirement already satisfied: pandas in c:\\users\\stefan\\git-repos\\private\\blog\\venv\\lib\\site-packages (from ray[rllib]==1.8.0) (1.3.4)\n",
      "Requirement already satisfied: scikit-image in c:\\users\\stefan\\git-repos\\private\\blog\\venv\\lib\\site-packages (from ray[rllib]==1.8.0) (0.18.3)\n",
      "Requirement already satisfied: dm-tree in c:\\users\\stefan\\git-repos\\private\\blog\\venv\\lib\\site-packages (from ray[rllib]==1.8.0) (0.1.6)\n",
      "Requirement already satisfied: matplotlib!=3.4.3 in c:\\users\\stefan\\git-repos\\private\\blog\\venv\\lib\\site-packages (from ray[rllib]==1.8.0) (3.5.0)\n",
      "Requirement already satisfied: scipy in c:\\users\\stefan\\git-repos\\private\\blog\\venv\\lib\\site-packages (from ray[rllib]==1.8.0) (1.7.2)\n",
      "Requirement already satisfied: requests in c:\\users\\stefan\\git-repos\\private\\blog\\venv\\lib\\site-packages (from ray[rllib]==1.8.0) (2.25.1)\n",
      "Requirement already satisfied: gym in c:\\users\\stefan\\git-repos\\private\\blog\\venv\\lib\\site-packages (from ray[rllib]==1.8.0) (0.21.0)\n",
      "Requirement already satisfied: lz4 in c:\\users\\stefan\\git-repos\\private\\blog\\venv\\lib\\site-packages (from ray[rllib]==1.8.0) (3.1.3)\n",
      "Requirement already satisfied: tabulate in c:\\users\\stefan\\git-repos\\private\\blog\\venv\\lib\\site-packages (from ray[rllib]==1.8.0) (0.8.9)\n",
      "Requirement already satisfied: tensorboardX>=1.9 in c:\\users\\stefan\\git-repos\\private\\blog\\venv\\lib\\site-packages (from ray[rllib]==1.8.0) (2.4)\n",
      "Requirement already satisfied: colorama in c:\\users\\stefan\\git-repos\\private\\blog\\venv\\lib\\site-packages (from click>=7.0->ray[rllib]==1.8.0) (0.4.4)\n",
      "Requirement already satisfied: six>=1.5.2 in c:\\users\\stefan\\git-repos\\private\\blog\\venv\\lib\\site-packages (from grpcio>=1.28.1->ray[rllib]==1.8.0) (1.15.0)\n",
      "Requirement already satisfied: fonttools>=4.22.0 in c:\\users\\stefan\\git-repos\\private\\blog\\venv\\lib\\site-packages (from matplotlib!=3.4.3->ray[rllib]==1.8.0) (4.28.1)\n",
      "Requirement already satisfied: python-dateutil>=2.7 in c:\\users\\stefan\\git-repos\\private\\blog\\venv\\lib\\site-packages (from matplotlib!=3.4.3->ray[rllib]==1.8.0) (2.8.1)\n",
      "Requirement already satisfied: pillow>=6.2.0 in c:\\users\\stefan\\git-repos\\private\\blog\\venv\\lib\\site-packages (from matplotlib!=3.4.3->ray[rllib]==1.8.0) (8.4.0)\n",
      "Requirement already satisfied: setuptools-scm>=4 in c:\\users\\stefan\\git-repos\\private\\blog\\venv\\lib\\site-packages (from matplotlib!=3.4.3->ray[rllib]==1.8.0) (6.3.2)\n",
      "Requirement already satisfied: pyparsing>=2.2.1 in c:\\users\\stefan\\git-repos\\private\\blog\\venv\\lib\\site-packages (from matplotlib!=3.4.3->ray[rllib]==1.8.0) (2.4.7)\n",
      "Requirement already satisfied: kiwisolver>=1.0.1 in c:\\users\\stefan\\git-repos\\private\\blog\\venv\\lib\\site-packages (from matplotlib!=3.4.3->ray[rllib]==1.8.0) (1.3.2)\n",
      "Requirement already satisfied: cycler>=0.10 in c:\\users\\stefan\\git-repos\\private\\blog\\venv\\lib\\site-packages (from matplotlib!=3.4.3->ray[rllib]==1.8.0) (0.11.0)\n",
      "Requirement already satisfied: packaging>=20.0 in c:\\users\\stefan\\git-repos\\private\\blog\\venv\\lib\\site-packages (from matplotlib!=3.4.3->ray[rllib]==1.8.0) (20.8)\n",
      "Requirement already satisfied: deprecated in c:\\users\\stefan\\git-repos\\private\\blog\\venv\\lib\\site-packages (from redis>=3.5.0->ray[rllib]==1.8.0) (1.2.13)\n",
      "Requirement already satisfied: cloudpickle>=1.2.0 in c:\\users\\stefan\\git-repos\\private\\blog\\venv\\lib\\site-packages (from gym->ray[rllib]==1.8.0) (2.0.0)\n",
      "Requirement already satisfied: pyrsistent>=0.14.0 in c:\\users\\stefan\\git-repos\\private\\blog\\venv\\lib\\site-packages (from jsonschema->ray[rllib]==1.8.0) (0.17.3)\n",
      "Requirement already satisfied: setuptools in c:\\users\\stefan\\git-repos\\private\\blog\\venv\\lib\\site-packages (from jsonschema->ray[rllib]==1.8.0) (46.1.3)\n",
      "Requirement already satisfied: pytz>=2017.3 in c:\\users\\stefan\\git-repos\\private\\blog\\venv\\lib\\site-packages (from pandas->ray[rllib]==1.8.0) (2020.5)\n",
      "Requirement already satisfied: chardet<5,>=3.0.2 in c:\\users\\stefan\\git-repos\\private\\blog\\venv\\lib\\site-packages (from requests->ray[rllib]==1.8.0) (4.0.0)\n",
      "Requirement already satisfied: certifi>=2017.4.17 in c:\\users\\stefan\\git-repos\\private\\blog\\venv\\lib\\site-packages (from requests->ray[rllib]==1.8.0) (2020.12.5)\n",
      "Requirement already satisfied: urllib3<1.27,>=1.21.1 in c:\\users\\stefan\\git-repos\\private\\blog\\venv\\lib\\site-packages (from requests->ray[rllib]==1.8.0) (1.26.2)\n",
      "Requirement already satisfied: idna<3,>=2.5 in c:\\users\\stefan\\git-repos\\private\\blog\\venv\\lib\\site-packages (from requests->ray[rllib]==1.8.0) (2.10)\n",
      "Requirement already satisfied: PyWavelets>=1.1.1 in c:\\users\\stefan\\git-repos\\private\\blog\\venv\\lib\\site-packages (from scikit-image->ray[rllib]==1.8.0) (1.2.0)\n",
      "Requirement already satisfied: imageio>=2.3.0 in c:\\users\\stefan\\git-repos\\private\\blog\\venv\\lib\\site-packages (from scikit-image->ray[rllib]==1.8.0) (2.10.4)\n",
      "Requirement already satisfied: networkx>=2.0 in c:\\users\\stefan\\git-repos\\private\\blog\\venv\\lib\\site-packages (from scikit-image->ray[rllib]==1.8.0) (2.6.3)\n",
      "Requirement already satisfied: tifffile>=2019.7.26 in c:\\users\\stefan\\git-repos\\private\\blog\\venv\\lib\\site-packages (from scikit-image->ray[rllib]==1.8.0) (2021.11.2)\n",
      "Requirement already satisfied: tomli>=1.0.0 in c:\\users\\stefan\\git-repos\\private\\blog\\venv\\lib\\site-packages (from setuptools-scm>=4->matplotlib!=3.4.3->ray[rllib]==1.8.0) (1.2.2)\n",
      "Requirement already satisfied: wrapt<2,>=1.10 in c:\\users\\stefan\\git-repos\\private\\blog\\venv\\lib\\site-packages (from deprecated->redis>=3.5.0->ray[rllib]==1.8.0) (1.13.3)\n",
      "Requirement already satisfied: tensorflow==2.7.0 in c:\\users\\stefan\\git-repos\\private\\blog\\venv\\lib\\site-packages (2.7.0)\n",
      "Requirement already satisfied: numpy>=1.14.5 in c:\\users\\stefan\\git-repos\\private\\blog\\venv\\lib\\site-packages (from tensorflow==2.7.0) (1.21.4)\n",
      "Requirement already satisfied: keras<2.8,>=2.7.0rc0 in c:\\users\\stefan\\git-repos\\private\\blog\\venv\\lib\\site-packages (from tensorflow==2.7.0) (2.7.0)\n",
      "Requirement already satisfied: wrapt>=1.11.0 in c:\\users\\stefan\\git-repos\\private\\blog\\venv\\lib\\site-packages (from tensorflow==2.7.0) (1.13.3)\n",
      "Requirement already satisfied: google-pasta>=0.1.1 in c:\\users\\stefan\\git-repos\\private\\blog\\venv\\lib\\site-packages (from tensorflow==2.7.0) (0.2.0)\n",
      "Requirement already satisfied: libclang>=9.0.1 in c:\\users\\stefan\\git-repos\\private\\blog\\venv\\lib\\site-packages (from tensorflow==2.7.0) (12.0.0)\n",
      "Requirement already satisfied: opt-einsum>=2.3.2 in c:\\users\\stefan\\git-repos\\private\\blog\\venv\\lib\\site-packages (from tensorflow==2.7.0) (3.3.0)\n",
      "Requirement already satisfied: six>=1.12.0 in c:\\users\\stefan\\git-repos\\private\\blog\\venv\\lib\\site-packages (from tensorflow==2.7.0) (1.15.0)\n",
      "Requirement already satisfied: h5py>=2.9.0 in c:\\users\\stefan\\git-repos\\private\\blog\\venv\\lib\\site-packages (from tensorflow==2.7.0) (3.6.0)\n",
      "Requirement already satisfied: typing-extensions>=3.6.6 in c:\\users\\stefan\\git-repos\\private\\blog\\venv\\lib\\site-packages (from tensorflow==2.7.0) (4.0.0)\n",
      "Requirement already satisfied: gast<0.5.0,>=0.2.1 in c:\\users\\stefan\\git-repos\\private\\blog\\venv\\lib\\site-packages (from tensorflow==2.7.0) (0.4.0)\n",
      "Requirement already satisfied: keras-preprocessing>=1.1.1 in c:\\users\\stefan\\git-repos\\private\\blog\\venv\\lib\\site-packages (from tensorflow==2.7.0) (1.1.2)\n",
      "Requirement already satisfied: tensorboard~=2.6 in c:\\users\\stefan\\git-repos\\private\\blog\\venv\\lib\\site-packages (from tensorflow==2.7.0) (2.7.0)\n",
      "Requirement already satisfied: wheel<1.0,>=0.32.0 in c:\\users\\stefan\\git-repos\\private\\blog\\venv\\lib\\site-packages (from tensorflow==2.7.0) (0.34.2)\n",
      "Requirement already satisfied: flatbuffers<3.0,>=1.12 in c:\\users\\stefan\\git-repos\\private\\blog\\venv\\lib\\site-packages (from tensorflow==2.7.0) (2.0)\n",
      "Requirement already satisfied: protobuf>=3.9.2 in c:\\users\\stefan\\git-repos\\private\\blog\\venv\\lib\\site-packages (from tensorflow==2.7.0) (3.19.1)\n",
      "Requirement already satisfied: tensorflow-estimator<2.8,~=2.7.0rc0 in c:\\users\\stefan\\git-repos\\private\\blog\\venv\\lib\\site-packages (from tensorflow==2.7.0) (2.7.0)\n",
      "Requirement already satisfied: tensorflow-io-gcs-filesystem>=0.21.0 in c:\\users\\stefan\\git-repos\\private\\blog\\venv\\lib\\site-packages (from tensorflow==2.7.0) (0.22.0)\n",
      "Requirement already satisfied: absl-py>=0.4.0 in c:\\users\\stefan\\git-repos\\private\\blog\\venv\\lib\\site-packages (from tensorflow==2.7.0) (1.0.0)\n",
      "Requirement already satisfied: astunparse>=1.6.0 in c:\\users\\stefan\\git-repos\\private\\blog\\venv\\lib\\site-packages (from tensorflow==2.7.0) (1.6.3)\n",
      "Requirement already satisfied: grpcio<2.0,>=1.24.3 in c:\\users\\stefan\\git-repos\\private\\blog\\venv\\lib\\site-packages (from tensorflow==2.7.0) (1.41.1)\n",
      "Requirement already satisfied: termcolor>=1.1.0 in c:\\users\\stefan\\git-repos\\private\\blog\\venv\\lib\\site-packages (from tensorflow==2.7.0) (1.1.0)\n",
      "Requirement already satisfied: requests<3,>=2.21.0 in c:\\users\\stefan\\git-repos\\private\\blog\\venv\\lib\\site-packages (from tensorboard~=2.6->tensorflow==2.7.0) (2.25.1)\n",
      "Requirement already satisfied: google-auth-oauthlib<0.5,>=0.4.1 in c:\\users\\stefan\\git-repos\\private\\blog\\venv\\lib\\site-packages (from tensorboard~=2.6->tensorflow==2.7.0) (0.4.6)\n",
      "Requirement already satisfied: markdown>=2.6.8 in c:\\users\\stefan\\git-repos\\private\\blog\\venv\\lib\\site-packages (from tensorboard~=2.6->tensorflow==2.7.0) (3.3.5)\n",
      "Requirement already satisfied: tensorboard-plugin-wit>=1.6.0 in c:\\users\\stefan\\git-repos\\private\\blog\\venv\\lib\\site-packages (from tensorboard~=2.6->tensorflow==2.7.0) (1.8.0)\n",
      "Requirement already satisfied: tensorboard-data-server<0.7.0,>=0.6.0 in c:\\users\\stefan\\git-repos\\private\\blog\\venv\\lib\\site-packages (from tensorboard~=2.6->tensorflow==2.7.0) (0.6.1)\n",
      "Requirement already satisfied: google-auth<3,>=1.6.3 in c:\\users\\stefan\\git-repos\\private\\blog\\venv\\lib\\site-packages (from tensorboard~=2.6->tensorflow==2.7.0) (2.3.3)\n",
      "Requirement already satisfied: werkzeug>=0.11.15 in c:\\users\\stefan\\git-repos\\private\\blog\\venv\\lib\\site-packages (from tensorboard~=2.6->tensorflow==2.7.0) (2.0.2)\n",
      "Requirement already satisfied: setuptools>=41.0.0 in c:\\users\\stefan\\git-repos\\private\\blog\\venv\\lib\\site-packages (from tensorboard~=2.6->tensorflow==2.7.0) (46.1.3)\n",
      "Requirement already satisfied: pyasn1-modules>=0.2.1 in c:\\users\\stefan\\git-repos\\private\\blog\\venv\\lib\\site-packages (from google-auth<3,>=1.6.3->tensorboard~=2.6->tensorflow==2.7.0) (0.2.8)\n",
      "Requirement already satisfied: rsa<5,>=3.1.4 in c:\\users\\stefan\\git-repos\\private\\blog\\venv\\lib\\site-packages (from google-auth<3,>=1.6.3->tensorboard~=2.6->tensorflow==2.7.0) (4.7.2)\n",
      "Requirement already satisfied: cachetools<5.0,>=2.0.0 in c:\\users\\stefan\\git-repos\\private\\blog\\venv\\lib\\site-packages (from google-auth<3,>=1.6.3->tensorboard~=2.6->tensorflow==2.7.0) (4.2.4)\n",
      "Requirement already satisfied: requests-oauthlib>=0.7.0 in c:\\users\\stefan\\git-repos\\private\\blog\\venv\\lib\\site-packages (from google-auth-oauthlib<0.5,>=0.4.1->tensorboard~=2.6->tensorflow==2.7.0) (1.3.0)\n",
      "Requirement already satisfied: importlib-metadata>='4.4' in c:\\users\\stefan\\git-repos\\private\\blog\\venv\\lib\\site-packages (from markdown>=2.6.8->tensorboard~=2.6->tensorflow==2.7.0) (4.8.2)\n",
      "Requirement already satisfied: urllib3<1.27,>=1.21.1 in c:\\users\\stefan\\git-repos\\private\\blog\\venv\\lib\\site-packages (from requests<3,>=2.21.0->tensorboard~=2.6->tensorflow==2.7.0) (1.26.2)\n",
      "Requirement already satisfied: certifi>=2017.4.17 in c:\\users\\stefan\\git-repos\\private\\blog\\venv\\lib\\site-packages (from requests<3,>=2.21.0->tensorboard~=2.6->tensorflow==2.7.0) (2020.12.5)\n",
      "Requirement already satisfied: chardet<5,>=3.0.2 in c:\\users\\stefan\\git-repos\\private\\blog\\venv\\lib\\site-packages (from requests<3,>=2.21.0->tensorboard~=2.6->tensorflow==2.7.0) (4.0.0)\n",
      "Requirement already satisfied: idna<3,>=2.5 in c:\\users\\stefan\\git-repos\\private\\blog\\venv\\lib\\site-packages (from requests<3,>=2.21.0->tensorboard~=2.6->tensorflow==2.7.0) (2.10)\n",
      "Requirement already satisfied: zipp>=0.5 in c:\\users\\stefan\\git-repos\\private\\blog\\venv\\lib\\site-packages (from importlib-metadata>='4.4'->markdown>=2.6.8->tensorboard~=2.6->tensorflow==2.7.0) (3.6.0)\n",
      "Requirement already satisfied: pyasn1<0.5.0,>=0.4.6 in c:\\users\\stefan\\git-repos\\private\\blog\\venv\\lib\\site-packages (from pyasn1-modules>=0.2.1->google-auth<3,>=1.6.3->tensorboard~=2.6->tensorflow==2.7.0) (0.4.8)\n",
      "Requirement already satisfied: oauthlib>=3.0.0 in c:\\users\\stefan\\git-repos\\private\\blog\\venv\\lib\\site-packages (from requests-oauthlib>=0.7.0->google-auth-oauthlib<0.5,>=0.4.1->tensorboard~=2.6->tensorflow==2.7.0) (3.1.1)\n"
     ]
    }
   ],
   "source": [
    "#collapse-output\n",
    "!pip install ray[rllib]==1.8.0\n",
    "!pip install tensorflow==2.7.0\n",
    "!pip install seaborn==0.11.2"
   ],
   "metadata": {
    "collapsed": false,
    "pycharm": {
     "name": "#%%\n"
    }
   }
  },
  {
   "cell_type": "markdown",
   "source": [
    "Import relevant dependencies and set constants."
   ],
   "metadata": {
    "collapsed": false,
    "pycharm": {
     "name": "#%% md\n"
    }
   }
  },
  {
   "cell_type": "code",
   "execution_count": 13,
   "outputs": [
    {
     "name": "stderr",
     "output_type": "stream",
     "text": [
      "2021-11-16 18:20:30,686\tINFO worker.py:832 -- Calling ray.init() again after it has already been called.\n"
     ]
    }
   ],
   "source": [
    "import ray\n",
    "import ray.tune\n",
    "from ray.rllib.agents import ppo\n",
    "\n",
    "# adjust num_cpus and num_gpus to your system\n",
    "# for some reason, num_cpus=2 gets stuck on my system (when trying to train)\n",
    "ray.init(num_cpus=3, ignore_reinit_error=True)\n",
    "\n",
    "# stop conditions based on training iterations (each with 4000 train steps)\n",
    "stop = {\"training_iteration\": 5}"
   ],
   "metadata": {
    "collapsed": false,
    "pycharm": {
     "name": "#%%\n"
    }
   }
  },
  {
   "cell_type": "markdown",
   "source": [
    "## Explicitly Observe State (Velocity)\n",
    "\n",
    "\n",
    "The default `CartPole-v1` environment has four observations as described [here](https://github.com/openai/gym/blob/master/gym/envs/classic_control/cartpole.py#L26):\n",
    "Cart position, cart velocity, pole angle, and pole angular velocity"
   ],
   "metadata": {
    "collapsed": false,
    "pycharm": {
     "name": "#%% md\n"
    }
   }
  },
  {
   "cell_type": "code",
   "execution_count": 14,
   "outputs": [
    {
     "data": {
      "text/plain": "Box([-4.8000002e+00 -3.4028235e+38 -4.1887903e-01 -3.4028235e+38], [4.8000002e+00 3.4028235e+38 4.1887903e-01 3.4028235e+38], (4,), float32)"
     },
     "execution_count": 14,
     "metadata": {},
     "output_type": "execute_result"
    }
   ],
   "source": [
    "import gym\n",
    "\n",
    "env = gym.make(\"CartPole-v1\")\n",
    "env.observation_space"
   ],
   "metadata": {
    "collapsed": false,
    "pycharm": {
     "name": "#%%\n"
    }
   }
  },
  {
   "cell_type": "code",
   "execution_count": 15,
   "metadata": {
    "collapsed": false,
    "jupyter": {
     "outputs_hidden": false
    },
    "pycharm": {
     "name": "#%%\n"
    }
   },
   "outputs": [
    {
     "data": {
      "text/plain": "<IPython.core.display.HTML object>",
      "text/html": "== Status ==<br>Current time: 2021-11-16 18:20:35 (running for 00:00:00.14)<br>Memory usage on this node: 9.8/11.9 GiB<br>Using FIFO scheduling algorithm.<br>Resources requested: 0/3 CPUs, 0/0 GPUs, 0.0/1.26 GiB heap, 0.0/0.63 GiB objects<br>Result logdir: C:\\Users\\Stefan\\ray_results\\PPO<br>Number of trials: 1/1 (1 PENDING)<br><table>\n<thead>\n<tr><th>Trial name                 </th><th>status  </th><th>loc  </th></tr>\n</thead>\n<tbody>\n<tr><td>PPO_CartPole-v1_82e0a_00000</td><td>PENDING </td><td>     </td></tr>\n</tbody>\n</table><br><br>"
     },
     "metadata": {},
     "output_type": "display_data"
    },
    {
     "name": "stderr",
     "output_type": "stream",
     "text": [
      "\u001B[2m\u001B[36m(pid=None)\u001B[0m c:\\users\\stefan\\git-repos\\private\\blog\\venv\\lib\\site-packages\\redis\\connection.py:77: UserWarning: redis-py works best with hiredis. Please consider installing\r\n",
      "\u001B[2m\u001B[36m(pid=None)\u001B[0m   warnings.warn(msg)\r\n"
     ]
    },
    {
     "data": {
      "text/plain": "<IPython.core.display.HTML object>",
      "text/html": "== Status ==<br>Current time: 2021-11-16 18:20:40 (running for 00:00:05.15)<br>Memory usage on this node: 9.9/11.9 GiB<br>Using FIFO scheduling algorithm.<br>Resources requested: 0/3 CPUs, 0/0 GPUs, 0.0/1.26 GiB heap, 0.0/0.63 GiB objects<br>Result logdir: C:\\Users\\Stefan\\ray_results\\PPO<br>Number of trials: 1/1 (1 PENDING)<br><table>\n<thead>\n<tr><th>Trial name                 </th><th>status  </th><th>loc  </th></tr>\n</thead>\n<tbody>\n<tr><td>PPO_CartPole-v1_82e0a_00000</td><td>PENDING </td><td>     </td></tr>\n</tbody>\n</table><br><br>"
     },
     "metadata": {},
     "output_type": "display_data"
    },
    {
     "name": "stderr",
     "output_type": "stream",
     "text": [
      "\u001B[2m\u001B[36m(pid=17188)\u001B[0m 2021-11-16 18:20:49,461\tINFO trainer.py:753 -- Tip: set framework=tfe or the --eager flag to enable TensorFlow eager execution\r\n",
      "\u001B[2m\u001B[36m(pid=17188)\u001B[0m 2021-11-16 18:20:49,462\tINFO ppo.py:166 -- In multi-agent mode, policies will be optimized sequentially by the multi-GPU optimizer. Consider setting simple_optimizer=True if this doesn't work for you.\r\n",
      "\u001B[2m\u001B[36m(pid=17188)\u001B[0m 2021-11-16 18:20:49,462\tINFO trainer.py:770 -- Current log_level is WARN. For more information, set 'log_level': 'INFO' / 'DEBUG' or use the -v and -vv flags.\r\n",
      "\u001B[2m\u001B[36m(pid=None)\u001B[0m c:\\users\\stefan\\git-repos\\private\\blog\\venv\\lib\\site-packages\\redis\\connection.py:77: UserWarning: redis-py works best with hiredis. Please consider installing\r\n",
      "\u001B[2m\u001B[36m(pid=None)\u001B[0m   warnings.warn(msg)\r\n",
      "\u001B[2m\u001B[36m(pid=None)\u001B[0m c:\\users\\stefan\\git-repos\\private\\blog\\venv\\lib\\site-packages\\redis\\connection.py:77: UserWarning: redis-py works best with hiredis. Please consider installing\r\n",
      "\u001B[2m\u001B[36m(pid=None)\u001B[0m   warnings.warn(msg)\r\n",
      "\u001B[2m\u001B[36m(pid=17172)\u001B[0m 2021-11-16 18:21:03,326\tWARNING deprecation.py:38 -- DeprecationWarning: `SampleBatch['is_training']` has been deprecated. Use `SampleBatch.is_training` instead. This will raise an error in the future!\r\n",
      "\u001B[2m\u001B[36m(pid=17188)\u001B[0m 2021-11-16 18:21:05,226\tWARNING deprecation.py:38 -- DeprecationWarning: `SampleBatch['is_training']` has been deprecated. Use `SampleBatch.is_training` instead. This will raise an error in the future!\r\n"
     ]
    },
    {
     "data": {
      "text/plain": "<IPython.core.display.HTML object>",
      "text/html": "== Status ==<br>Current time: 2021-11-16 18:21:06 (running for 00:00:30.72)<br>Memory usage on this node: 10.5/11.9 GiB<br>Using FIFO scheduling algorithm.<br>Resources requested: 3.0/3 CPUs, 0/0 GPUs, 0.0/1.26 GiB heap, 0.0/0.63 GiB objects<br>Result logdir: C:\\Users\\Stefan\\ray_results\\PPO<br>Number of trials: 1/1 (1 RUNNING)<br><table>\n<thead>\n<tr><th>Trial name                 </th><th>status  </th><th>loc            </th></tr>\n</thead>\n<tbody>\n<tr><td>PPO_CartPole-v1_82e0a_00000</td><td>RUNNING </td><td>127.0.0.1:17188</td></tr>\n</tbody>\n</table><br><br>"
     },
     "metadata": {},
     "output_type": "display_data"
    },
    {
     "name": "stderr",
     "output_type": "stream",
     "text": [
      "\u001B[2m\u001B[36m(pid=17188)\u001B[0m 2021-11-16 18:21:06,492\tWARNING trainer_template.py:185 -- `execution_plan` functions should accept `trainer`, `workers`, and `config` as args!\r\n",
      "\u001B[2m\u001B[36m(pid=17188)\u001B[0m 2021-11-16 18:21:06,492\tINFO trainable.py:110 -- Trainable.setup took 17.034 seconds. If your trainable is slow to initialize, consider setting reuse_actors=True to reduce actor creation overheads.\r\n",
      "\u001B[2m\u001B[36m(pid=17188)\u001B[0m 2021-11-16 18:21:06,492\tWARNING util.py:57 -- Install gputil for GPU system monitoring.\r\n"
     ]
    },
    {
     "data": {
      "text/plain": "<IPython.core.display.HTML object>",
      "text/html": "== Status ==<br>Current time: 2021-11-16 18:21:07 (running for 00:00:31.76)<br>Memory usage on this node: 10.6/11.9 GiB<br>Using FIFO scheduling algorithm.<br>Resources requested: 3.0/3 CPUs, 0/0 GPUs, 0.0/1.26 GiB heap, 0.0/0.63 GiB objects<br>Result logdir: C:\\Users\\Stefan\\ray_results\\PPO<br>Number of trials: 1/1 (1 RUNNING)<br><table>\n<thead>\n<tr><th>Trial name                 </th><th>status  </th><th>loc            </th></tr>\n</thead>\n<tbody>\n<tr><td>PPO_CartPole-v1_82e0a_00000</td><td>RUNNING </td><td>127.0.0.1:17188</td></tr>\n</tbody>\n</table><br><br>"
     },
     "metadata": {},
     "output_type": "display_data"
    },
    {
     "name": "stderr",
     "output_type": "stream",
     "text": [
      "\u001B[2m\u001B[36m(pid=17188)\u001B[0m 2021-11-16 18:21:10,976\tWARNING deprecation.py:38 -- DeprecationWarning: `slice` has been deprecated. Use `SampleBatch[start:stop]` instead. This will raise an error in the future!\r\n"
     ]
    },
    {
     "data": {
      "text/plain": "<IPython.core.display.HTML object>",
      "text/html": "== Status ==<br>Current time: 2021-11-16 18:21:12 (running for 00:00:36.82)<br>Memory usage on this node: 10.6/11.9 GiB<br>Using FIFO scheduling algorithm.<br>Resources requested: 3.0/3 CPUs, 0/0 GPUs, 0.0/1.26 GiB heap, 0.0/0.63 GiB objects<br>Result logdir: C:\\Users\\Stefan\\ray_results\\PPO<br>Number of trials: 1/1 (1 RUNNING)<br><table>\n<thead>\n<tr><th>Trial name                 </th><th>status  </th><th>loc            </th></tr>\n</thead>\n<tbody>\n<tr><td>PPO_CartPole-v1_82e0a_00000</td><td>RUNNING </td><td>127.0.0.1:17188</td></tr>\n</tbody>\n</table><br><br>"
     },
     "metadata": {},
     "output_type": "display_data"
    },
    {
     "name": "stdout",
     "output_type": "stream",
     "text": [
      "Result for PPO_CartPole-v1_82e0a_00000:\n",
      "  agent_timesteps_total: 4000\n",
      "  custom_metrics: {}\n",
      "  date: 2021-11-16_18-21-15\n",
      "  done: false\n",
      "  episode_len_mean: 21.481081081081083\n",
      "  episode_media: {}\n",
      "  episode_reward_max: 77.0\n",
      "  episode_reward_mean: 21.481081081081083\n",
      "  episode_reward_min: 8.0\n",
      "  episodes_this_iter: 185\n",
      "  episodes_total: 185\n",
      "  experiment_id: 95780d6ad71a4a26be1d679814f7cb8b\n",
      "  hostname: nb-stschn\n",
      "  info:\n",
      "    learner:\n",
      "      default_policy:\n",
      "        custom_metrics: {}\n",
      "        learner_stats:\n",
      "          cur_kl_coeff: 0.20000000298023224\n",
      "          cur_lr: 4.999999873689376e-05\n",
      "          entropy: 0.6670995354652405\n",
      "          entropy_coeff: 0.0\n",
      "          kl: 0.0263509601354599\n",
      "          model: {}\n",
      "          policy_loss: -0.04095163196325302\n",
      "          total_loss: 175.8995361328125\n",
      "          vf_explained_var: -0.0022988677956163883\n",
      "          vf_loss: 175.93521118164062\n",
      "    num_agent_steps_sampled: 4000\n",
      "    num_agent_steps_trained: 4000\n",
      "    num_steps_sampled: 4000\n",
      "    num_steps_trained: 4000\n",
      "  iterations_since_restore: 1\n",
      "  node_ip: 127.0.0.1\n",
      "  num_healthy_workers: 2\n",
      "  off_policy_estimator: {}\n",
      "  perf:\n",
      "    cpu_util_percent: 76.8357142857143\n",
      "    ram_util_percent: 88.71428571428571\n",
      "  pid: 17188\n",
      "  policy_reward_max: {}\n",
      "  policy_reward_mean: {}\n",
      "  policy_reward_min: {}\n",
      "  sampler_perf:\n",
      "    mean_action_processing_ms: 0.127664703970325\n",
      "    mean_env_render_ms: 0.0\n",
      "    mean_env_wait_ms: 0.12732167838224773\n",
      "    mean_inference_ms: 1.7430081621184959\n",
      "    mean_raw_obs_processing_ms: 0.16532560375535182\n",
      "  time_since_restore: 9.454798460006714\n",
      "  time_this_iter_s: 9.454798460006714\n",
      "  time_total_s: 9.454798460006714\n",
      "  timers:\n",
      "    learn_throughput: 808.423\n",
      "    learn_time_ms: 4947.906\n",
      "    load_throughput: 0.0\n",
      "    load_time_ms: 0.0\n",
      "    sample_throughput: 890.365\n",
      "    sample_time_ms: 4492.537\n",
      "    update_time_ms: 3.998\n",
      "  timestamp: 1637083275\n",
      "  timesteps_since_restore: 0\n",
      "  timesteps_this_iter: 0\n",
      "  timesteps_total: 4000\n",
      "  training_iteration: 1\n",
      "  trial_id: 82e0a_00000\n",
      "  \n"
     ]
    },
    {
     "data": {
      "text/plain": "<IPython.core.display.HTML object>",
      "text/html": "== Status ==<br>Current time: 2021-11-16 18:21:18 (running for 00:00:42.33)<br>Memory usage on this node: 10.4/11.9 GiB<br>Using FIFO scheduling algorithm.<br>Resources requested: 3.0/3 CPUs, 0/0 GPUs, 0.0/1.26 GiB heap, 0.0/0.63 GiB objects<br>Result logdir: C:\\Users\\Stefan\\ray_results\\PPO<br>Number of trials: 1/1 (1 RUNNING)<br><table>\n<thead>\n<tr><th>Trial name                 </th><th>status  </th><th>loc            </th><th style=\"text-align: right;\">  iter</th><th style=\"text-align: right;\">  total time (s)</th><th style=\"text-align: right;\">  ts</th><th style=\"text-align: right;\">  reward</th><th style=\"text-align: right;\">  episode_reward_max</th><th style=\"text-align: right;\">  episode_reward_min</th><th style=\"text-align: right;\">  episode_len_mean</th></tr>\n</thead>\n<tbody>\n<tr><td>PPO_CartPole-v1_82e0a_00000</td><td>RUNNING </td><td>127.0.0.1:17188</td><td style=\"text-align: right;\">     1</td><td style=\"text-align: right;\">          9.4548</td><td style=\"text-align: right;\">4000</td><td style=\"text-align: right;\"> 21.4811</td><td style=\"text-align: right;\">                  77</td><td style=\"text-align: right;\">                   8</td><td style=\"text-align: right;\">           21.4811</td></tr>\n</tbody>\n</table><br><br>"
     },
     "metadata": {},
     "output_type": "display_data"
    },
    {
     "data": {
      "text/plain": "<IPython.core.display.HTML object>",
      "text/html": "== Status ==<br>Current time: 2021-11-16 18:21:23 (running for 00:00:47.38)<br>Memory usage on this node: 10.5/11.9 GiB<br>Using FIFO scheduling algorithm.<br>Resources requested: 3.0/3 CPUs, 0/0 GPUs, 0.0/1.26 GiB heap, 0.0/0.63 GiB objects<br>Result logdir: C:\\Users\\Stefan\\ray_results\\PPO<br>Number of trials: 1/1 (1 RUNNING)<br><table>\n<thead>\n<tr><th>Trial name                 </th><th>status  </th><th>loc            </th><th style=\"text-align: right;\">  iter</th><th style=\"text-align: right;\">  total time (s)</th><th style=\"text-align: right;\">  ts</th><th style=\"text-align: right;\">  reward</th><th style=\"text-align: right;\">  episode_reward_max</th><th style=\"text-align: right;\">  episode_reward_min</th><th style=\"text-align: right;\">  episode_len_mean</th></tr>\n</thead>\n<tbody>\n<tr><td>PPO_CartPole-v1_82e0a_00000</td><td>RUNNING </td><td>127.0.0.1:17188</td><td style=\"text-align: right;\">     1</td><td style=\"text-align: right;\">          9.4548</td><td style=\"text-align: right;\">4000</td><td style=\"text-align: right;\"> 21.4811</td><td style=\"text-align: right;\">                  77</td><td style=\"text-align: right;\">                   8</td><td style=\"text-align: right;\">           21.4811</td></tr>\n</tbody>\n</table><br><br>"
     },
     "metadata": {},
     "output_type": "display_data"
    },
    {
     "name": "stdout",
     "output_type": "stream",
     "text": [
      "Result for PPO_CartPole-v1_82e0a_00000:\n",
      "  agent_timesteps_total: 8000\n",
      "  custom_metrics: {}\n",
      "  date: 2021-11-16_18-21-24\n",
      "  done: false\n",
      "  episode_len_mean: 44.09\n",
      "  episode_media: {}\n",
      "  episode_reward_max: 139.0\n",
      "  episode_reward_mean: 44.09\n",
      "  episode_reward_min: 10.0\n",
      "  episodes_this_iter: 79\n",
      "  episodes_total: 264\n",
      "  experiment_id: 95780d6ad71a4a26be1d679814f7cb8b\n",
      "  hostname: nb-stschn\n",
      "  info:\n",
      "    learner:\n",
      "      default_policy:\n",
      "        custom_metrics: {}\n",
      "        learner_stats:\n",
      "          cur_kl_coeff: 0.30000001192092896\n",
      "          cur_lr: 4.999999873689376e-05\n",
      "          entropy: 0.6171236038208008\n",
      "          entropy_coeff: 0.0\n",
      "          kl: 0.016787048429250717\n",
      "          model: {}\n",
      "          policy_loss: -0.03248118236660957\n",
      "          total_loss: 416.99993896484375\n",
      "          vf_explained_var: 0.05350838229060173\n",
      "          vf_loss: 417.02740478515625\n",
      "    num_agent_steps_sampled: 8000\n",
      "    num_agent_steps_trained: 8000\n",
      "    num_steps_sampled: 8000\n",
      "    num_steps_trained: 8000\n",
      "    num_steps_trained_this_iter: 0\n",
      "  iterations_since_restore: 2\n",
      "  node_ip: 127.0.0.1\n",
      "  num_healthy_workers: 2\n",
      "  off_policy_estimator: {}\n",
      "  perf:\n",
      "    cpu_util_percent: 86.64999999999999\n",
      "    ram_util_percent: 87.78333333333335\n",
      "  pid: 17188\n",
      "  policy_reward_max: {}\n",
      "  policy_reward_mean: {}\n",
      "  policy_reward_min: {}\n",
      "  sampler_perf:\n",
      "    mean_action_processing_ms: 0.11728406363015359\n",
      "    mean_env_render_ms: 0.0\n",
      "    mean_env_wait_ms: 0.1296299800851497\n",
      "    mean_inference_ms: 1.8582867542484849\n",
      "    mean_raw_obs_processing_ms: 0.17340395457146918\n",
      "  time_since_restore: 18.11357545852661\n",
      "  time_this_iter_s: 8.658776998519897\n",
      "  time_total_s: 18.11357545852661\n",
      "  timers:\n",
      "    learn_throughput: 932.218\n",
      "    learn_time_ms: 4290.842\n",
      "    load_throughput: 1998834.336\n",
      "    load_time_ms: 2.001\n",
      "    sample_throughput: 549.895\n",
      "    sample_time_ms: 7274.113\n",
      "    update_time_ms: 4.002\n",
      "  timestamp: 1637083284\n",
      "  timesteps_since_restore: 0\n",
      "  timesteps_this_iter: 0\n",
      "  timesteps_total: 8000\n",
      "  training_iteration: 2\n",
      "  trial_id: 82e0a_00000\n",
      "  \n"
     ]
    },
    {
     "data": {
      "text/plain": "<IPython.core.display.HTML object>",
      "text/html": "== Status ==<br>Current time: 2021-11-16 18:21:28 (running for 00:00:52.98)<br>Memory usage on this node: 10.5/11.9 GiB<br>Using FIFO scheduling algorithm.<br>Resources requested: 3.0/3 CPUs, 0/0 GPUs, 0.0/1.26 GiB heap, 0.0/0.63 GiB objects<br>Result logdir: C:\\Users\\Stefan\\ray_results\\PPO<br>Number of trials: 1/1 (1 RUNNING)<br><table>\n<thead>\n<tr><th>Trial name                 </th><th>status  </th><th>loc            </th><th style=\"text-align: right;\">  iter</th><th style=\"text-align: right;\">  total time (s)</th><th style=\"text-align: right;\">  ts</th><th style=\"text-align: right;\">  reward</th><th style=\"text-align: right;\">  episode_reward_max</th><th style=\"text-align: right;\">  episode_reward_min</th><th style=\"text-align: right;\">  episode_len_mean</th></tr>\n</thead>\n<tbody>\n<tr><td>PPO_CartPole-v1_82e0a_00000</td><td>RUNNING </td><td>127.0.0.1:17188</td><td style=\"text-align: right;\">     2</td><td style=\"text-align: right;\">         18.1136</td><td style=\"text-align: right;\">8000</td><td style=\"text-align: right;\">   44.09</td><td style=\"text-align: right;\">                 139</td><td style=\"text-align: right;\">                  10</td><td style=\"text-align: right;\">             44.09</td></tr>\n</tbody>\n</table><br><br>"
     },
     "metadata": {},
     "output_type": "display_data"
    },
    {
     "name": "stdout",
     "output_type": "stream",
     "text": [
      "Result for PPO_CartPole-v1_82e0a_00000:\n",
      "  agent_timesteps_total: 12000\n",
      "  custom_metrics: {}\n",
      "  date: 2021-11-16_18-21-33\n",
      "  done: false\n",
      "  episode_len_mean: 69.38\n",
      "  episode_media: {}\n",
      "  episode_reward_max: 425.0\n",
      "  episode_reward_mean: 69.38\n",
      "  episode_reward_min: 10.0\n",
      "  episodes_this_iter: 38\n",
      "  episodes_total: 302\n",
      "  experiment_id: 95780d6ad71a4a26be1d679814f7cb8b\n",
      "  hostname: nb-stschn\n",
      "  info:\n",
      "    learner:\n",
      "      default_policy:\n",
      "        custom_metrics: {}\n",
      "        learner_stats:\n",
      "          cur_kl_coeff: 0.30000001192092896\n",
      "          cur_lr: 4.999999873689376e-05\n",
      "          entropy: 0.5824630856513977\n",
      "          entropy_coeff: 0.0\n",
      "          kl: 0.011254677549004555\n",
      "          model: {}\n",
      "          policy_loss: -0.021928098052740097\n",
      "          total_loss: 694.076904296875\n",
      "          vf_explained_var: 0.09451597183942795\n",
      "          vf_loss: 694.095458984375\n",
      "    num_agent_steps_sampled: 12000\n",
      "    num_agent_steps_trained: 12000\n",
      "    num_steps_sampled: 12000\n",
      "    num_steps_trained: 12000\n",
      "    num_steps_trained_this_iter: 0\n",
      "  iterations_since_restore: 3\n",
      "  node_ip: 127.0.0.1\n",
      "  num_healthy_workers: 2\n",
      "  off_policy_estimator: {}\n",
      "  perf:\n",
      "    cpu_util_percent: 84.51538461538463\n",
      "    ram_util_percent: 88.27692307692307\n",
      "  pid: 17188\n",
      "  policy_reward_max: {}\n",
      "  policy_reward_mean: {}\n",
      "  policy_reward_min: {}\n",
      "  sampler_perf:\n",
      "    mean_action_processing_ms: 0.11374154002795965\n",
      "    mean_env_render_ms: 0.0\n",
      "    mean_env_wait_ms: 0.1293918307566467\n",
      "    mean_inference_ms: 1.894245498526136\n",
      "    mean_raw_obs_processing_ms: 0.17868187082011325\n",
      "  time_since_restore: 27.239910125732422\n",
      "  time_this_iter_s: 9.12633466720581\n",
      "  time_total_s: 27.239910125732422\n",
      "  timers:\n",
      "    learn_throughput: 931.173\n",
      "    learn_time_ms: 4295.658\n",
      "    load_throughput: 2998251.504\n",
      "    load_time_ms: 1.334\n",
      "    sample_throughput: 520.823\n",
      "    sample_time_ms: 7680.15\n",
      "    update_time_ms: 4.001\n",
      "  timestamp: 1637083293\n",
      "  timesteps_since_restore: 0\n",
      "  timesteps_this_iter: 0\n",
      "  timesteps_total: 12000\n",
      "  training_iteration: 3\n",
      "  trial_id: 82e0a_00000\n",
      "  \n"
     ]
    },
    {
     "data": {
      "text/plain": "<IPython.core.display.HTML object>",
      "text/html": "== Status ==<br>Current time: 2021-11-16 18:21:33 (running for 00:00:58.10)<br>Memory usage on this node: 10.5/11.9 GiB<br>Using FIFO scheduling algorithm.<br>Resources requested: 3.0/3 CPUs, 0/0 GPUs, 0.0/1.26 GiB heap, 0.0/0.63 GiB objects<br>Result logdir: C:\\Users\\Stefan\\ray_results\\PPO<br>Number of trials: 1/1 (1 RUNNING)<br><table>\n<thead>\n<tr><th>Trial name                 </th><th>status  </th><th>loc            </th><th style=\"text-align: right;\">  iter</th><th style=\"text-align: right;\">  total time (s)</th><th style=\"text-align: right;\">   ts</th><th style=\"text-align: right;\">  reward</th><th style=\"text-align: right;\">  episode_reward_max</th><th style=\"text-align: right;\">  episode_reward_min</th><th style=\"text-align: right;\">  episode_len_mean</th></tr>\n</thead>\n<tbody>\n<tr><td>PPO_CartPole-v1_82e0a_00000</td><td>RUNNING </td><td>127.0.0.1:17188</td><td style=\"text-align: right;\">     3</td><td style=\"text-align: right;\">         27.2399</td><td style=\"text-align: right;\">12000</td><td style=\"text-align: right;\">   69.38</td><td style=\"text-align: right;\">                 425</td><td style=\"text-align: right;\">                  10</td><td style=\"text-align: right;\">             69.38</td></tr>\n</tbody>\n</table><br><br>"
     },
     "metadata": {},
     "output_type": "display_data"
    },
    {
     "data": {
      "text/plain": "<IPython.core.display.HTML object>",
      "text/html": "== Status ==<br>Current time: 2021-11-16 18:21:38 (running for 00:01:03.15)<br>Memory usage on this node: 10.5/11.9 GiB<br>Using FIFO scheduling algorithm.<br>Resources requested: 3.0/3 CPUs, 0/0 GPUs, 0.0/1.26 GiB heap, 0.0/0.63 GiB objects<br>Result logdir: C:\\Users\\Stefan\\ray_results\\PPO<br>Number of trials: 1/1 (1 RUNNING)<br><table>\n<thead>\n<tr><th>Trial name                 </th><th>status  </th><th>loc            </th><th style=\"text-align: right;\">  iter</th><th style=\"text-align: right;\">  total time (s)</th><th style=\"text-align: right;\">   ts</th><th style=\"text-align: right;\">  reward</th><th style=\"text-align: right;\">  episode_reward_max</th><th style=\"text-align: right;\">  episode_reward_min</th><th style=\"text-align: right;\">  episode_len_mean</th></tr>\n</thead>\n<tbody>\n<tr><td>PPO_CartPole-v1_82e0a_00000</td><td>RUNNING </td><td>127.0.0.1:17188</td><td style=\"text-align: right;\">     3</td><td style=\"text-align: right;\">         27.2399</td><td style=\"text-align: right;\">12000</td><td style=\"text-align: right;\">   69.38</td><td style=\"text-align: right;\">                 425</td><td style=\"text-align: right;\">                  10</td><td style=\"text-align: right;\">             69.38</td></tr>\n</tbody>\n</table><br><br>"
     },
     "metadata": {},
     "output_type": "display_data"
    },
    {
     "name": "stdout",
     "output_type": "stream",
     "text": [
      "Result for PPO_CartPole-v1_82e0a_00000:\n",
      "  agent_timesteps_total: 16000\n",
      "  custom_metrics: {}\n",
      "  date: 2021-11-16_18-21-41\n",
      "  done: false\n",
      "  episode_len_mean: 97.77\n",
      "  episode_media: {}\n",
      "  episode_reward_max: 425.0\n",
      "  episode_reward_mean: 97.77\n",
      "  episode_reward_min: 10.0\n",
      "  episodes_this_iter: 19\n",
      "  episodes_total: 321\n",
      "  experiment_id: 95780d6ad71a4a26be1d679814f7cb8b\n",
      "  hostname: nb-stschn\n",
      "  info:\n",
      "    learner:\n",
      "      default_policy:\n",
      "        custom_metrics: {}\n",
      "        learner_stats:\n",
      "          cur_kl_coeff: 0.30000001192092896\n",
      "          cur_lr: 4.999999873689376e-05\n",
      "          entropy: 0.570598304271698\n",
      "          entropy_coeff: 0.0\n",
      "          kl: 0.006147594656795263\n",
      "          model: {}\n",
      "          policy_loss: -0.01379616279155016\n",
      "          total_loss: 804.7181396484375\n",
      "          vf_explained_var: 0.2031535804271698\n",
      "          vf_loss: 804.7300415039062\n",
      "    num_agent_steps_sampled: 16000\n",
      "    num_agent_steps_trained: 16000\n",
      "    num_steps_sampled: 16000\n",
      "    num_steps_trained: 16000\n",
      "    num_steps_trained_this_iter: 0\n",
      "  iterations_since_restore: 4\n",
      "  node_ip: 127.0.0.1\n",
      "  num_healthy_workers: 2\n",
      "  off_policy_estimator: {}\n",
      "  perf:\n",
      "    cpu_util_percent: 74.03636363636363\n",
      "    ram_util_percent: 88.60000000000001\n",
      "  pid: 17188\n",
      "  policy_reward_max: {}\n",
      "  policy_reward_mean: {}\n",
      "  policy_reward_min: {}\n",
      "  sampler_perf:\n",
      "    mean_action_processing_ms: 0.10972487240390415\n",
      "    mean_env_render_ms: 0.0\n",
      "    mean_env_wait_ms: 0.1289923783376188\n",
      "    mean_inference_ms: 1.884052476086062\n",
      "    mean_raw_obs_processing_ms: 0.17730069307320093\n",
      "  time_since_restore: 35.02851128578186\n",
      "  time_this_iter_s: 7.7886011600494385\n",
      "  time_total_s: 35.02851128578186\n",
      "  timers:\n",
      "    learn_throughput: 959.174\n",
      "    learn_time_ms: 4170.256\n",
      "    load_throughput: 3997668.672\n",
      "    load_time_ms: 1.001\n",
      "    sample_throughput: 509.689\n",
      "    sample_time_ms: 7847.927\n",
      "    update_time_ms: 4.001\n",
      "  timestamp: 1637083301\n",
      "  timesteps_since_restore: 0\n",
      "  timesteps_this_iter: 0\n",
      "  timesteps_total: 16000\n",
      "  training_iteration: 4\n",
      "  trial_id: 82e0a_00000\n",
      "  \n"
     ]
    },
    {
     "data": {
      "text/plain": "<IPython.core.display.HTML object>",
      "text/html": "== Status ==<br>Current time: 2021-11-16 18:21:44 (running for 00:01:08.97)<br>Memory usage on this node: 10.6/11.9 GiB<br>Using FIFO scheduling algorithm.<br>Resources requested: 3.0/3 CPUs, 0/0 GPUs, 0.0/1.26 GiB heap, 0.0/0.63 GiB objects<br>Result logdir: C:\\Users\\Stefan\\ray_results\\PPO<br>Number of trials: 1/1 (1 RUNNING)<br><table>\n<thead>\n<tr><th>Trial name                 </th><th>status  </th><th>loc            </th><th style=\"text-align: right;\">  iter</th><th style=\"text-align: right;\">  total time (s)</th><th style=\"text-align: right;\">   ts</th><th style=\"text-align: right;\">  reward</th><th style=\"text-align: right;\">  episode_reward_max</th><th style=\"text-align: right;\">  episode_reward_min</th><th style=\"text-align: right;\">  episode_len_mean</th></tr>\n</thead>\n<tbody>\n<tr><td>PPO_CartPole-v1_82e0a_00000</td><td>RUNNING </td><td>127.0.0.1:17188</td><td style=\"text-align: right;\">     4</td><td style=\"text-align: right;\">         35.0285</td><td style=\"text-align: right;\">16000</td><td style=\"text-align: right;\">   97.77</td><td style=\"text-align: right;\">                 425</td><td style=\"text-align: right;\">                  10</td><td style=\"text-align: right;\">             97.77</td></tr>\n</tbody>\n</table><br><br>"
     },
     "metadata": {},
     "output_type": "display_data"
    },
    {
     "data": {
      "text/plain": "<IPython.core.display.HTML object>",
      "text/html": "== Status ==<br>Current time: 2021-11-16 18:21:49 (running for 00:01:14.05)<br>Memory usage on this node: 10.6/11.9 GiB<br>Using FIFO scheduling algorithm.<br>Resources requested: 3.0/3 CPUs, 0/0 GPUs, 0.0/1.26 GiB heap, 0.0/0.63 GiB objects<br>Result logdir: C:\\Users\\Stefan\\ray_results\\PPO<br>Number of trials: 1/1 (1 RUNNING)<br><table>\n<thead>\n<tr><th>Trial name                 </th><th>status  </th><th>loc            </th><th style=\"text-align: right;\">  iter</th><th style=\"text-align: right;\">  total time (s)</th><th style=\"text-align: right;\">   ts</th><th style=\"text-align: right;\">  reward</th><th style=\"text-align: right;\">  episode_reward_max</th><th style=\"text-align: right;\">  episode_reward_min</th><th style=\"text-align: right;\">  episode_len_mean</th></tr>\n</thead>\n<tbody>\n<tr><td>PPO_CartPole-v1_82e0a_00000</td><td>RUNNING </td><td>127.0.0.1:17188</td><td style=\"text-align: right;\">     4</td><td style=\"text-align: right;\">         35.0285</td><td style=\"text-align: right;\">16000</td><td style=\"text-align: right;\">   97.77</td><td style=\"text-align: right;\">                 425</td><td style=\"text-align: right;\">                  10</td><td style=\"text-align: right;\">             97.77</td></tr>\n</tbody>\n</table><br><br>"
     },
     "metadata": {},
     "output_type": "display_data"
    },
    {
     "name": "stdout",
     "output_type": "stream",
     "text": [
      "Result for PPO_CartPole-v1_82e0a_00000:\n",
      "  agent_timesteps_total: 20000\n",
      "  custom_metrics: {}\n",
      "  date: 2021-11-16_18-21-49\n",
      "  done: true\n",
      "  episode_len_mean: 133.09\n",
      "  episode_media: {}\n",
      "  episode_reward_max: 500.0\n",
      "  episode_reward_mean: 133.09\n",
      "  episode_reward_min: 10.0\n",
      "  episodes_this_iter: 12\n",
      "  episodes_total: 333\n",
      "  experiment_id: 95780d6ad71a4a26be1d679814f7cb8b\n",
      "  hostname: nb-stschn\n",
      "  info:\n",
      "    learner:\n",
      "      default_policy:\n",
      "        custom_metrics: {}\n",
      "        learner_stats:\n",
      "          cur_kl_coeff: 0.30000001192092896\n",
      "          cur_lr: 4.999999873689376e-05\n",
      "          entropy: 0.5628640651702881\n",
      "          entropy_coeff: 0.0\n",
      "          kl: 0.0053915660828351974\n",
      "          model: {}\n",
      "          policy_loss: -0.012018542736768723\n",
      "          total_loss: 663.389892578125\n",
      "          vf_explained_var: 0.19897815585136414\n",
      "          vf_loss: 663.4002685546875\n",
      "    num_agent_steps_sampled: 20000\n",
      "    num_agent_steps_trained: 20000\n",
      "    num_steps_sampled: 20000\n",
      "    num_steps_trained: 20000\n",
      "    num_steps_trained_this_iter: 0\n",
      "  iterations_since_restore: 5\n",
      "  node_ip: 127.0.0.1\n",
      "  num_healthy_workers: 2\n",
      "  off_policy_estimator: {}\n",
      "  perf:\n",
      "    cpu_util_percent: 76.77272727272728\n",
      "    ram_util_percent: 88.98181818181818\n",
      "  pid: 17188\n",
      "  policy_reward_max: {}\n",
      "  policy_reward_mean: {}\n",
      "  policy_reward_min: {}\n",
      "  sampler_perf:\n",
      "    mean_action_processing_ms: 0.1101548528670135\n",
      "    mean_env_render_ms: 0.0\n",
      "    mean_env_wait_ms: 0.1286273378410459\n",
      "    mean_inference_ms: 1.8714427281323907\n",
      "    mean_raw_obs_processing_ms: 0.17624516043509197\n",
      "  time_since_restore: 43.24149799346924\n",
      "  time_this_iter_s: 8.212986707687378\n",
      "  time_total_s: 43.24149799346924\n",
      "  timers:\n",
      "    learn_throughput: 967.026\n",
      "    learn_time_ms: 4136.393\n",
      "    load_throughput: 4997085.84\n",
      "    load_time_ms: 0.8\n",
      "    sample_throughput: 507.402\n",
      "    sample_time_ms: 7883.289\n",
      "    update_time_ms: 6.534\n",
      "  timestamp: 1637083309\n",
      "  timesteps_since_restore: 0\n",
      "  timesteps_this_iter: 0\n",
      "  timesteps_total: 20000\n",
      "  training_iteration: 5\n",
      "  trial_id: 82e0a_00000\n",
      "  \n"
     ]
    },
    {
     "data": {
      "text/plain": "<IPython.core.display.HTML object>",
      "text/html": "== Status ==<br>Current time: 2021-11-16 18:21:50 (running for 00:01:14.24)<br>Memory usage on this node: 10.6/11.9 GiB<br>Using FIFO scheduling algorithm.<br>Resources requested: 0/3 CPUs, 0/0 GPUs, 0.0/1.26 GiB heap, 0.0/0.63 GiB objects<br>Result logdir: C:\\Users\\Stefan\\ray_results\\PPO<br>Number of trials: 1/1 (1 TERMINATED)<br><table>\n<thead>\n<tr><th>Trial name                 </th><th>status    </th><th>loc            </th><th style=\"text-align: right;\">  iter</th><th style=\"text-align: right;\">  total time (s)</th><th style=\"text-align: right;\">   ts</th><th style=\"text-align: right;\">  reward</th><th style=\"text-align: right;\">  episode_reward_max</th><th style=\"text-align: right;\">  episode_reward_min</th><th style=\"text-align: right;\">  episode_len_mean</th></tr>\n</thead>\n<tbody>\n<tr><td>PPO_CartPole-v1_82e0a_00000</td><td>TERMINATED</td><td>127.0.0.1:17188</td><td style=\"text-align: right;\">     5</td><td style=\"text-align: right;\">         43.2415</td><td style=\"text-align: right;\">20000</td><td style=\"text-align: right;\">  133.09</td><td style=\"text-align: right;\">                 500</td><td style=\"text-align: right;\">                  10</td><td style=\"text-align: right;\">            133.09</td></tr>\n</tbody>\n</table><br><br>"
     },
     "metadata": {},
     "output_type": "display_data"
    },
    {
     "name": "stderr",
     "output_type": "stream",
     "text": [
      "\u001B[2m\u001B[36m(pid=17188)\u001B[0m [2021-11-16 18:21:50,089 E 17188 8580] raylet_client.cc:159: IOError: Unknown error [RayletClient] Failed to disconnect from raylet.\r\n",
      "\u001B[2m\u001B[36m(pid=17188)\u001B[0m Windows fatal exception: access violation\n",
      "\u001B[2m\u001B[36m(pid=17188)\u001B[0m \n",
      "\u001B[2m\u001B[36m(pid=17172)\u001B[0m [2021-11-16 18:21:50,106 C 17172 1512] core_worker.cc:2234:  Check failed: _s.ok() Bad status: IOError: Unknown error\n",
      "\u001B[2m\u001B[36m(pid=17172)\u001B[0m *** StackTrace Information ***\n",
      "\u001B[2m\u001B[36m(pid=17172)\u001B[0m     PyInit__raylet\n",
      "\u001B[2m\u001B[36m(pid=17172)\u001B[0m     PyInit__raylet\n",
      "\u001B[2m\u001B[36m(pid=17172)\u001B[0m     PyInit__raylet\n",
      "\u001B[2m\u001B[36m(pid=17172)\u001B[0m     PyInit__raylet\n",
      "\u001B[2m\u001B[36m(pid=17172)\u001B[0m     PyInit__raylet\n",
      "\u001B[2m\u001B[36m(pid=17172)\u001B[0m     PyInit__raylet\n",
      "\u001B[2m\u001B[36m(pid=17172)\u001B[0m     PyInit__raylet\n",
      "\u001B[2m\u001B[36m(pid=17172)\u001B[0m     PyInit__raylet\n",
      "\u001B[2m\u001B[36m(pid=17172)\u001B[0m     PyInit__raylet\n",
      "\u001B[2m\u001B[36m(pid=17172)\u001B[0m     PyInit__raylet\n",
      "\u001B[2m\u001B[36m(pid=17172)\u001B[0m     PyInit__raylet\n",
      "\u001B[2m\u001B[36m(pid=17172)\u001B[0m     PyInit__raylet\n",
      "\u001B[2m\u001B[36m(pid=17172)\u001B[0m     PyInit__raylet\n",
      "\u001B[2m\u001B[36m(pid=17172)\u001B[0m     PyInit__raylet\n",
      "\u001B[2m\u001B[36m(pid=17172)\u001B[0m     PyInit__raylet\n",
      "\u001B[2m\u001B[36m(pid=17172)\u001B[0m     PyNumber_InPlaceLshift\n",
      "\u001B[2m\u001B[36m(pid=17172)\u001B[0m     Py_CheckFunctionResult\n",
      "\u001B[2m\u001B[36m(pid=17172)\u001B[0m     PyEval_EvalFrameDefault\n",
      "\u001B[2m\u001B[36m(pid=17172)\u001B[0m     Py_CheckFunctionResult\n",
      "\u001B[2m\u001B[36m(pid=17172)\u001B[0m     PyEval_EvalFrameDefault\n",
      "\u001B[2m\u001B[36m(pid=17172)\u001B[0m     PyEval_EvalCodeWithName\n",
      "\u001B[2m\u001B[36m(pid=17172)\u001B[0m     PyEval_EvalCodeEx\n",
      "\u001B[2m\u001B[36m(pid=17172)\u001B[0m     PyEval_EvalCode\n",
      "\u001B[2m\u001B[36m(pid=17172)\u001B[0m     PyArena_New\n",
      "\u001B[2m\u001B[36m(pid=17172)\u001B[0m     PyArena_New\n",
      "\u001B[2m\u001B[36m(pid=17172)\u001B[0m     PyRun_FileExFlags\n",
      "\u001B[2m\u001B[36m(pid=17172)\u001B[0m     PyRun_SimpleFileExFlags\n",
      "\u001B[2m\u001B[36m(pid=17172)\u001B[0m     PyRun_AnyFileExFlags\n",
      "\u001B[2m\u001B[36m(pid=17172)\u001B[0m     Py_FatalError\n",
      "\u001B[2m\u001B[36m(pid=17172)\u001B[0m     Py_RunMain\n",
      "\u001B[2m\u001B[36m(pid=17172)\u001B[0m     Py_RunMain\n",
      "\u001B[2m\u001B[36m(pid=17172)\u001B[0m     Py_Main\n",
      "\u001B[2m\u001B[36m(pid=17172)\u001B[0m     BaseThreadInitThunk\n",
      "\u001B[2m\u001B[36m(pid=17172)\u001B[0m     RtlUserThreadStart\n",
      "\u001B[2m\u001B[36m(pid=17172)\u001B[0m \r\n",
      "\u001B[2m\u001B[36m(pid=17172)\u001B[0m Windows fatal exception: access violation\n",
      "\u001B[2m\u001B[36m(pid=17172)\u001B[0m \n",
      "\u001B[2m\u001B[36m(pid=17172)\u001B[0m Stack (most recent call first):\n",
      "\u001B[2m\u001B[36m(pid=17172)\u001B[0m   File \"c:\\users\\stefan\\git-repos\\private\\blog\\venv\\lib\\site-packages\\ray\\worker.py\", line 425 in main_loop\n",
      "\u001B[2m\u001B[36m(pid=17172)\u001B[0m   File \"c:\\users\\stefan\\git-repos\\private\\blog\\venv\\lib\\site-packages\\ray\\workers/default_worker.py\", line 218 in <module>\n",
      "\u001B[2m\u001B[36m(pid=19460)\u001B[0m [2021-11-16 18:21:50,127 C 19460 13496] core_worker.cc:2234:  Check failed: _s.ok() Bad status: IOError: Unknown error\n",
      "\u001B[2m\u001B[36m(pid=19460)\u001B[0m *** StackTrace Information ***\n",
      "\u001B[2m\u001B[36m(pid=19460)\u001B[0m     PyInit__raylet\n",
      "\u001B[2m\u001B[36m(pid=19460)\u001B[0m     PyInit__raylet\n",
      "\u001B[2m\u001B[36m(pid=19460)\u001B[0m     PyInit__raylet\n",
      "\u001B[2m\u001B[36m(pid=19460)\u001B[0m     PyInit__raylet\n",
      "\u001B[2m\u001B[36m(pid=19460)\u001B[0m     PyInit__raylet\n",
      "\u001B[2m\u001B[36m(pid=19460)\u001B[0m     PyInit__raylet\n",
      "\u001B[2m\u001B[36m(pid=19460)\u001B[0m     PyInit__raylet\n",
      "\u001B[2m\u001B[36m(pid=19460)\u001B[0m     PyInit__raylet\n",
      "\u001B[2m\u001B[36m(pid=19460)\u001B[0m     PyInit__raylet\n",
      "\u001B[2m\u001B[36m(pid=19460)\u001B[0m     PyInit__raylet\n",
      "\u001B[2m\u001B[36m(pid=19460)\u001B[0m     PyInit__raylet\n",
      "\u001B[2m\u001B[36m(pid=19460)\u001B[0m     PyInit__raylet\n",
      "\u001B[2m\u001B[36m(pid=19460)\u001B[0m     PyInit__raylet\n",
      "\u001B[2m\u001B[36m(pid=19460)\u001B[0m     PyInit__raylet\n",
      "\u001B[2m\u001B[36m(pid=19460)\u001B[0m     PyInit__raylet\n",
      "\u001B[2m\u001B[36m(pid=19460)\u001B[0m     PyNumber_InPlaceLshift\n",
      "\u001B[2m\u001B[36m(pid=19460)\u001B[0m     Py_CheckFunctionResult\n",
      "\u001B[2m\u001B[36m(pid=19460)\u001B[0m     PyEval_EvalFrameDefault\n",
      "\u001B[2m\u001B[36m(pid=19460)\u001B[0m     Py_CheckFunctionResult\n",
      "\u001B[2m\u001B[36m(pid=19460)\u001B[0m     PyEval_EvalFrameDefault\n",
      "\u001B[2m\u001B[36m(pid=19460)\u001B[0m     PyEval_EvalCodeWithName\n",
      "\u001B[2m\u001B[36m(pid=19460)\u001B[0m     PyEval_EvalCodeEx\n",
      "\u001B[2m\u001B[36m(pid=19460)\u001B[0m     PyEval_EvalCode\n",
      "\u001B[2m\u001B[36m(pid=19460)\u001B[0m     PyArena_New\n",
      "\u001B[2m\u001B[36m(pid=19460)\u001B[0m     PyArena_New\n",
      "\u001B[2m\u001B[36m(pid=19460)\u001B[0m     PyRun_FileExFlags\n",
      "\u001B[2m\u001B[36m(pid=19460)\u001B[0m     PyRun_SimpleFileExFlags\n",
      "\u001B[2m\u001B[36m(pid=19460)\u001B[0m     PyRun_AnyFileExFlags\n",
      "\u001B[2m\u001B[36m(pid=19460)\u001B[0m     Py_FatalError\n",
      "\u001B[2m\u001B[36m(pid=19460)\u001B[0m     Py_RunMain\n",
      "\u001B[2m\u001B[36m(pid=19460)\u001B[0m     Py_RunMain\n",
      "\u001B[2m\u001B[36m(pid=19460)\u001B[0m     Py_Main\n",
      "\u001B[2m\u001B[36m(pid=19460)\u001B[0m     BaseThreadInitThunk\n",
      "\u001B[2m\u001B[36m(pid=19460)\u001B[0m     RtlUserThreadStart\n",
      "\u001B[2m\u001B[36m(pid=19460)\u001B[0m \r\n",
      "\u001B[2m\u001B[36m(pid=19460)\u001B[0m Windows fatal exception: access violation\n",
      "\u001B[2m\u001B[36m(pid=19460)\u001B[0m \n",
      "\u001B[2m\u001B[36m(pid=19460)\u001B[0m Stack (most recent call first):\n",
      "\u001B[2m\u001B[36m(pid=19460)\u001B[0m   File \"c:\\users\\stefan\\git-repos\\private\\blog\\venv\\lib\\site-packages\\ray\\worker.py\", line 425 in main_loop\n",
      "\u001B[2m\u001B[36m(pid=19460)\u001B[0m   File \"c:\\users\\stefan\\git-repos\\private\\blog\\venv\\lib\\site-packages\\ray\\workers/default_worker.py\", line 218 in <module>\n",
      "2021-11-16 18:21:50,198\tINFO tune.py:630 -- Total run time: 74.41 seconds (74.19 seconds for the tuning loop).\n"
     ]
    },
    {
     "name": "stdout",
     "output_type": "stream",
     "text": [
      "Training finished successfully\n"
     ]
    }
   ],
   "source": [
    "#collapse-output\n",
    "\n",
    "# load the PPO default config\n",
    "config = ppo.DEFAULT_CONFIG.copy()\n",
    "# use the normal, default CartPole-v1 envrion\n",
    "config[\"env\"] = \"CartPole-v1\"\n",
    "\n",
    "# train; this takes a while\n",
    "results = ray.tune.run(\"PPO\", config=config, stop=stop)\n",
    "print(\"Training finished successfully\")"
   ]
  },
  {
   "cell_type": "code",
   "execution_count": 16,
   "outputs": [
    {
     "data": {
      "text/plain": "133.09"
     },
     "execution_count": 16,
     "metadata": {},
     "output_type": "execute_result"
    }
   ],
   "source": [
    "# check results\n",
    "results.default_metric = \"episode_reward_mean\"\n",
    "results.default_mode = \"max\"\n",
    "# print the mean episode reward = episode length --> higher = better\n",
    "results.best_result[\"episode_reward_mean\"]"
   ],
   "metadata": {
    "collapsed": false,
    "pycharm": {
     "name": "#%%\n"
    }
   }
  },
  {
   "cell_type": "code",
   "execution_count": 25,
   "outputs": [
    {
     "data": {
      "text/plain": "   episode_reward_max  episode_reward_min  episode_reward_mean  \\\n0               500.0                10.0               133.09   \n\n   episode_len_mean  episodes_this_iter  num_healthy_workers  timesteps_total  \\\n0            133.09                  12                    2            20000   \n\n   timesteps_this_iter  agent_timesteps_total  done  ...  \\\n0                    0                  20000  True  ...   \n\n   config/synchronize_filters  \\\n0                        True   \n\n                              config/tf_session_args  \\\n0  {'allow_soft_placement': True, 'device_count':...   \n\n  config/timesteps_per_iteration config/train_batch_size config/use_critic  \\\n0                              0                    4000              True   \n\n   config/use_gae  config/vf_clip_param  config/vf_loss_coeff  \\\n0            True                  10.0                   1.0   \n\n   config/vf_share_layers                                             logdir  \n0                      -1  C:\\Users\\Stefan\\ray_results\\PPO\\PPO_CartPole-v...  \n\n[1 rows x 148 columns]",
      "text/html": "<div>\n<style scoped>\n    .dataframe tbody tr th:only-of-type {\n        vertical-align: middle;\n    }\n\n    .dataframe tbody tr th {\n        vertical-align: top;\n    }\n\n    .dataframe thead th {\n        text-align: right;\n    }\n</style>\n<table border=\"1\" class=\"dataframe\">\n  <thead>\n    <tr style=\"text-align: right;\">\n      <th></th>\n      <th>episode_reward_max</th>\n      <th>episode_reward_min</th>\n      <th>episode_reward_mean</th>\n      <th>episode_len_mean</th>\n      <th>episodes_this_iter</th>\n      <th>num_healthy_workers</th>\n      <th>timesteps_total</th>\n      <th>timesteps_this_iter</th>\n      <th>agent_timesteps_total</th>\n      <th>done</th>\n      <th>...</th>\n      <th>config/synchronize_filters</th>\n      <th>config/tf_session_args</th>\n      <th>config/timesteps_per_iteration</th>\n      <th>config/train_batch_size</th>\n      <th>config/use_critic</th>\n      <th>config/use_gae</th>\n      <th>config/vf_clip_param</th>\n      <th>config/vf_loss_coeff</th>\n      <th>config/vf_share_layers</th>\n      <th>logdir</th>\n    </tr>\n  </thead>\n  <tbody>\n    <tr>\n      <th>0</th>\n      <td>500.0</td>\n      <td>10.0</td>\n      <td>133.09</td>\n      <td>133.09</td>\n      <td>12</td>\n      <td>2</td>\n      <td>20000</td>\n      <td>0</td>\n      <td>20000</td>\n      <td>True</td>\n      <td>...</td>\n      <td>True</td>\n      <td>{'allow_soft_placement': True, 'device_count':...</td>\n      <td>0</td>\n      <td>4000</td>\n      <td>True</td>\n      <td>True</td>\n      <td>10.0</td>\n      <td>1.0</td>\n      <td>-1</td>\n      <td>C:\\Users\\Stefan\\ray_results\\PPO\\PPO_CartPole-v...</td>\n    </tr>\n  </tbody>\n</table>\n<p>1 rows × 148 columns</p>\n</div>"
     },
     "execution_count": 25,
     "metadata": {},
     "output_type": "execute_result"
    }
   ],
   "source": [
    "results.dataframe()"
   ],
   "metadata": {
    "collapsed": false,
    "pycharm": {
     "name": "#%%\n"
    }
   }
  },
  {
   "cell_type": "code",
   "execution_count": 29,
   "outputs": [
    {
     "name": "stderr",
     "output_type": "stream",
     "text": [
      "c:\\users\\stefan\\git-repos\\private\\blog\\venv\\lib\\site-packages\\seaborn\\_decorators.py:36: FutureWarning: Pass the following variables as keyword args: x, y. From version 0.12, the only valid positional argument will be `data`, and passing other arguments without an explicit keyword will result in an error or misinterpretation.\n",
      "  warnings.warn(\n"
     ]
    },
    {
     "data": {
      "text/plain": "<AxesSubplot:>"
     },
     "execution_count": 29,
     "metadata": {},
     "output_type": "execute_result"
    },
    {
     "data": {
      "text/plain": "<Figure size 432x288 with 1 Axes>",
      "image/png": "[encoded data removed]"
     },
     "metadata": {
      "needs_background": "light"
     },
     "output_type": "display_data"
    }
   ],
   "source": [
    "\n",
    "import seaborn as sns\n",
    "\n",
    "\n",
    "eps_lengths = results.best_result[\"hist_stats\"][\"episode_lengths\"]\n",
    "eps = [i for i in range(len(eps_lengths))]\n",
    "sns.scatterplot(eps, eps_lengths)"
   ],
   "metadata": {
    "collapsed": false,
    "pycharm": {
     "name": "#%%\n"
    }
   }
  },
  {
   "cell_type": "markdown",
   "source": [
    "## Do Not Observe Velocity\n",
    "\n",
    "In many practical"
   ],
   "metadata": {
    "collapsed": false,
    "pycharm": {
     "name": "#%% md\n"
    }
   }
  },
  {
   "cell_type": "code",
   "execution_count": 26,
   "outputs": [
    {
     "data": {
      "text/plain": "<IPython.core.display.HTML object>",
      "text/html": "== Status ==<br>Current time: 2021-11-16 18:32:50 (running for 00:00:00.15)<br>Memory usage on this node: 9.3/11.9 GiB<br>Using FIFO scheduling algorithm.<br>Resources requested: 0/3 CPUs, 0/0 GPUs, 0.0/1.26 GiB heap, 0.0/0.63 GiB objects<br>Result logdir: C:\\Users\\Stefan\\ray_results\\PPO<br>Number of trials: 1/1 (1 PENDING)<br><table>\n<thead>\n<tr><th>Trial name                       </th><th>status  </th><th>loc  </th></tr>\n</thead>\n<tbody>\n<tr><td>PPO_StatelessCartPole_38798_00000</td><td>PENDING </td><td>     </td></tr>\n</tbody>\n</table><br><br>"
     },
     "metadata": {},
     "output_type": "display_data"
    },
    {
     "name": "stderr",
     "output_type": "stream",
     "text": [
      "\u001B[2m\u001B[36m(pid=None)\u001B[0m c:\\users\\stefan\\git-repos\\private\\blog\\venv\\lib\\site-packages\\redis\\connection.py:77: UserWarning: redis-py works best with hiredis. Please consider installing\r\n",
      "\u001B[2m\u001B[36m(pid=None)\u001B[0m   warnings.warn(msg)\r\n"
     ]
    },
    {
     "data": {
      "text/plain": "<IPython.core.display.HTML object>",
      "text/html": "== Status ==<br>Current time: 2021-11-16 18:32:55 (running for 00:00:05.15)<br>Memory usage on this node: 9.3/11.9 GiB<br>Using FIFO scheduling algorithm.<br>Resources requested: 0/3 CPUs, 0/0 GPUs, 0.0/1.26 GiB heap, 0.0/0.63 GiB objects<br>Result logdir: C:\\Users\\Stefan\\ray_results\\PPO<br>Number of trials: 1/1 (1 PENDING)<br><table>\n<thead>\n<tr><th>Trial name                       </th><th>status  </th><th>loc  </th></tr>\n</thead>\n<tbody>\n<tr><td>PPO_StatelessCartPole_38798_00000</td><td>PENDING </td><td>     </td></tr>\n</tbody>\n</table><br><br>"
     },
     "metadata": {},
     "output_type": "display_data"
    },
    {
     "name": "stderr",
     "output_type": "stream",
     "text": [
      "\u001B[2m\u001B[36m(pid=7440)\u001B[0m 2021-11-16 18:33:04,342\tINFO trainer.py:753 -- Tip: set framework=tfe or the --eager flag to enable TensorFlow eager execution\r\n",
      "\u001B[2m\u001B[36m(pid=7440)\u001B[0m 2021-11-16 18:33:04,342\tINFO ppo.py:166 -- In multi-agent mode, policies will be optimized sequentially by the multi-GPU optimizer. Consider setting simple_optimizer=True if this doesn't work for you.\r\n",
      "\u001B[2m\u001B[36m(pid=7440)\u001B[0m 2021-11-16 18:33:04,342\tINFO trainer.py:770 -- Current log_level is WARN. For more information, set 'log_level': 'INFO' / 'DEBUG' or use the -v and -vv flags.\r\n",
      "\u001B[2m\u001B[36m(pid=None)\u001B[0m c:\\users\\stefan\\git-repos\\private\\blog\\venv\\lib\\site-packages\\redis\\connection.py:77: UserWarning: redis-py works best with hiredis. Please consider installing\r\n",
      "\u001B[2m\u001B[36m(pid=None)\u001B[0m   warnings.warn(msg)\r\n",
      "\u001B[2m\u001B[36m(pid=None)\u001B[0m c:\\users\\stefan\\git-repos\\private\\blog\\venv\\lib\\site-packages\\redis\\connection.py:77: UserWarning: redis-py works best with hiredis. Please consider installing\r\n",
      "\u001B[2m\u001B[36m(pid=None)\u001B[0m   warnings.warn(msg)\r\n",
      "\u001B[2m\u001B[36m(pid=284)\u001B[0m 2021-11-16 18:33:18,156\tWARNING deprecation.py:38 -- DeprecationWarning: `SampleBatch['is_training']` has been deprecated. Use `SampleBatch.is_training` instead. This will raise an error in the future!\r\n",
      "\u001B[2m\u001B[36m(pid=7440)\u001B[0m 2021-11-16 18:33:19,535\tWARNING deprecation.py:38 -- DeprecationWarning: `SampleBatch['is_training']` has been deprecated. Use `SampleBatch.is_training` instead. This will raise an error in the future!\r\n",
      "\u001B[2m\u001B[36m(pid=7440)\u001B[0m 2021-11-16 18:33:20,476\tWARNING trainer_template.py:185 -- `execution_plan` functions should accept `trainer`, `workers`, and `config` as args!\r\n",
      "\u001B[2m\u001B[36m(pid=7440)\u001B[0m 2021-11-16 18:33:20,476\tINFO trainable.py:110 -- Trainable.setup took 16.150 seconds. If your trainable is slow to initialize, consider setting reuse_actors=True to reduce actor creation overheads.\r\n",
      "\u001B[2m\u001B[36m(pid=7440)\u001B[0m 2021-11-16 18:33:20,476\tWARNING util.py:57 -- Install gputil for GPU system monitoring.\r\n"
     ]
    },
    {
     "data": {
      "text/plain": "<IPython.core.display.HTML object>",
      "text/html": "== Status ==<br>Current time: 2021-11-16 18:33:20 (running for 00:00:30.54)<br>Memory usage on this node: 10.3/11.9 GiB<br>Using FIFO scheduling algorithm.<br>Resources requested: 3.0/3 CPUs, 0/0 GPUs, 0.0/1.26 GiB heap, 0.0/0.63 GiB objects<br>Result logdir: C:\\Users\\Stefan\\ray_results\\PPO<br>Number of trials: 1/1 (1 RUNNING)<br><table>\n<thead>\n<tr><th>Trial name                       </th><th>status  </th><th>loc           </th></tr>\n</thead>\n<tbody>\n<tr><td>PPO_StatelessCartPole_38798_00000</td><td>RUNNING </td><td>127.0.0.1:7440</td></tr>\n</tbody>\n</table><br><br>"
     },
     "metadata": {},
     "output_type": "display_data"
    },
    {
     "data": {
      "text/plain": "<IPython.core.display.HTML object>",
      "text/html": "== Status ==<br>Current time: 2021-11-16 18:33:22 (running for 00:00:32.56)<br>Memory usage on this node: 10.3/11.9 GiB<br>Using FIFO scheduling algorithm.<br>Resources requested: 3.0/3 CPUs, 0/0 GPUs, 0.0/1.26 GiB heap, 0.0/0.63 GiB objects<br>Result logdir: C:\\Users\\Stefan\\ray_results\\PPO<br>Number of trials: 1/1 (1 RUNNING)<br><table>\n<thead>\n<tr><th>Trial name                       </th><th>status  </th><th>loc           </th></tr>\n</thead>\n<tbody>\n<tr><td>PPO_StatelessCartPole_38798_00000</td><td>RUNNING </td><td>127.0.0.1:7440</td></tr>\n</tbody>\n</table><br><br>"
     },
     "metadata": {},
     "output_type": "display_data"
    },
    {
     "name": "stderr",
     "output_type": "stream",
     "text": [
      "\u001B[2m\u001B[36m(pid=7440)\u001B[0m 2021-11-16 18:33:24,010\tWARNING deprecation.py:38 -- DeprecationWarning: `slice` has been deprecated. Use `SampleBatch[start:stop]` instead. This will raise an error in the future!\r\n"
     ]
    },
    {
     "data": {
      "text/plain": "<IPython.core.display.HTML object>",
      "text/html": "== Status ==<br>Current time: 2021-11-16 18:33:27 (running for 00:00:37.60)<br>Memory usage on this node: 10.3/11.9 GiB<br>Using FIFO scheduling algorithm.<br>Resources requested: 3.0/3 CPUs, 0/0 GPUs, 0.0/1.26 GiB heap, 0.0/0.63 GiB objects<br>Result logdir: C:\\Users\\Stefan\\ray_results\\PPO<br>Number of trials: 1/1 (1 RUNNING)<br><table>\n<thead>\n<tr><th>Trial name                       </th><th>status  </th><th>loc           </th></tr>\n</thead>\n<tbody>\n<tr><td>PPO_StatelessCartPole_38798_00000</td><td>RUNNING </td><td>127.0.0.1:7440</td></tr>\n</tbody>\n</table><br><br>"
     },
     "metadata": {},
     "output_type": "display_data"
    },
    {
     "name": "stdout",
     "output_type": "stream",
     "text": [
      "Result for PPO_StatelessCartPole_38798_00000:\n",
      "  agent_timesteps_total: 4000\n",
      "  custom_metrics: {}\n",
      "  date: 2021-11-16_18-33-27\n",
      "  done: false\n",
      "  episode_len_mean: 22.105555555555554\n",
      "  episode_media: {}\n",
      "  episode_reward_max: 68.0\n",
      "  episode_reward_mean: 22.105555555555554\n",
      "  episode_reward_min: 8.0\n",
      "  episodes_this_iter: 180\n",
      "  episodes_total: 180\n",
      "  experiment_id: 00eced3f242b47f9acdfe84b0105571c\n",
      "  hostname: nb-stschn\n",
      "  info:\n",
      "    learner:\n",
      "      default_policy:\n",
      "        custom_metrics: {}\n",
      "        learner_stats:\n",
      "          cur_kl_coeff: 0.20000000298023224\n",
      "          cur_lr: 4.999999873689376e-05\n",
      "          entropy: 0.6810067296028137\n",
      "          entropy_coeff: 0.0\n",
      "          kl: 0.012460388243198395\n",
      "          model: {}\n",
      "          policy_loss: -0.024759571999311447\n",
      "          total_loss: 154.19677734375\n",
      "          vf_explained_var: -0.002643636194989085\n",
      "          vf_loss: 154.21905517578125\n",
      "    num_agent_steps_sampled: 4000\n",
      "    num_agent_steps_trained: 4000\n",
      "    num_steps_sampled: 4000\n",
      "    num_steps_trained: 4000\n",
      "  iterations_since_restore: 1\n",
      "  node_ip: 127.0.0.1\n",
      "  num_healthy_workers: 2\n",
      "  off_policy_estimator: {}\n",
      "  perf:\n",
      "    cpu_util_percent: 66.19090909090909\n",
      "    ram_util_percent: 86.67272727272729\n",
      "  pid: 7440\n",
      "  policy_reward_max: {}\n",
      "  policy_reward_mean: {}\n",
      "  policy_reward_min: {}\n",
      "  sampler_perf:\n",
      "    mean_action_processing_ms: 0.10636796214683929\n",
      "    mean_env_render_ms: 0.0\n",
      "    mean_env_wait_ms: 0.10898812659557673\n",
      "    mean_inference_ms: 1.3292118725767934\n",
      "    mean_raw_obs_processing_ms: 0.17066405544845512\n",
      "  time_since_restore: 7.11869478225708\n",
      "  time_this_iter_s: 7.11869478225708\n",
      "  time_total_s: 7.11869478225708\n",
      "  timers:\n",
      "    learn_throughput: 1114.75\n",
      "    learn_time_ms: 3588.248\n",
      "    load_throughput: 1001864.087\n",
      "    load_time_ms: 3.993\n",
      "    sample_throughput: 1132.052\n",
      "    sample_time_ms: 3533.406\n",
      "    update_time_ms: 0.0\n",
      "  timestamp: 1637084007\n",
      "  timesteps_since_restore: 0\n",
      "  timesteps_this_iter: 0\n",
      "  timesteps_total: 4000\n",
      "  training_iteration: 1\n",
      "  trial_id: '38798_00000'\n",
      "  \n"
     ]
    },
    {
     "data": {
      "text/plain": "<IPython.core.display.HTML object>",
      "text/html": "== Status ==<br>Current time: 2021-11-16 18:33:33 (running for 00:00:43.75)<br>Memory usage on this node: 10.3/11.9 GiB<br>Using FIFO scheduling algorithm.<br>Resources requested: 3.0/3 CPUs, 0/0 GPUs, 0.0/1.26 GiB heap, 0.0/0.63 GiB objects<br>Result logdir: C:\\Users\\Stefan\\ray_results\\PPO<br>Number of trials: 1/1 (1 RUNNING)<br><table>\n<thead>\n<tr><th>Trial name                       </th><th>status  </th><th>loc           </th><th style=\"text-align: right;\">  iter</th><th style=\"text-align: right;\">  total time (s)</th><th style=\"text-align: right;\">  ts</th><th style=\"text-align: right;\">  reward</th><th style=\"text-align: right;\">  episode_reward_max</th><th style=\"text-align: right;\">  episode_reward_min</th><th style=\"text-align: right;\">  episode_len_mean</th></tr>\n</thead>\n<tbody>\n<tr><td>PPO_StatelessCartPole_38798_00000</td><td>RUNNING </td><td>127.0.0.1:7440</td><td style=\"text-align: right;\">     1</td><td style=\"text-align: right;\">         7.11869</td><td style=\"text-align: right;\">4000</td><td style=\"text-align: right;\"> 22.1056</td><td style=\"text-align: right;\">                  68</td><td style=\"text-align: right;\">                   8</td><td style=\"text-align: right;\">           22.1056</td></tr>\n</tbody>\n</table><br><br>"
     },
     "metadata": {},
     "output_type": "display_data"
    },
    {
     "name": "stdout",
     "output_type": "stream",
     "text": [
      "Result for PPO_StatelessCartPole_38798_00000:\n",
      "  agent_timesteps_total: 8000\n",
      "  custom_metrics: {}\n",
      "  date: 2021-11-16_18-33-34\n",
      "  done: false\n",
      "  episode_len_mean: 28.557142857142857\n",
      "  episode_media: {}\n",
      "  episode_reward_max: 99.0\n",
      "  episode_reward_mean: 28.557142857142857\n",
      "  episode_reward_min: 9.0\n",
      "  episodes_this_iter: 140\n",
      "  episodes_total: 320\n",
      "  experiment_id: 00eced3f242b47f9acdfe84b0105571c\n",
      "  hostname: nb-stschn\n",
      "  info:\n",
      "    learner:\n",
      "      default_policy:\n",
      "        custom_metrics: {}\n",
      "        learner_stats:\n",
      "          cur_kl_coeff: 0.20000000298023224\n",
      "          cur_lr: 4.999999873689376e-05\n",
      "          entropy: 0.6480510830879211\n",
      "          entropy_coeff: 0.0\n",
      "          kl: 0.010690557770431042\n",
      "          model: {}\n",
      "          policy_loss: -0.0200344268232584\n",
      "          total_loss: 161.2119903564453\n",
      "          vf_explained_var: 0.013951760716736317\n",
      "          vf_loss: 161.2299041748047\n",
      "    num_agent_steps_sampled: 8000\n",
      "    num_agent_steps_trained: 8000\n",
      "    num_steps_sampled: 8000\n",
      "    num_steps_trained: 8000\n",
      "    num_steps_trained_this_iter: 0\n",
      "  iterations_since_restore: 2\n",
      "  node_ip: 127.0.0.1\n",
      "  num_healthy_workers: 2\n",
      "  off_policy_estimator: {}\n",
      "  perf:\n",
      "    cpu_util_percent: 66.06666666666666\n",
      "    ram_util_percent: 86.72222222222223\n",
      "  pid: 7440\n",
      "  policy_reward_max: {}\n",
      "  policy_reward_mean: {}\n",
      "  policy_reward_min: {}\n",
      "  sampler_perf:\n",
      "    mean_action_processing_ms: 0.08943788870862097\n",
      "    mean_env_render_ms: 0.0\n",
      "    mean_env_wait_ms: 0.11331973133924138\n",
      "    mean_inference_ms: 1.3393772564812167\n",
      "    mean_raw_obs_processing_ms: 0.1626650536333169\n",
      "  time_since_restore: 13.931317567825317\n",
      "  time_this_iter_s: 6.812622785568237\n",
      "  time_total_s: 13.931317567825317\n",
      "  timers:\n",
      "    learn_throughput: 1152.046\n",
      "    learn_time_ms: 3472.084\n",
      "    load_throughput: 2003728.174\n",
      "    load_time_ms: 1.996\n",
      "    sample_throughput: 753.5\n",
      "    sample_time_ms: 5308.558\n",
      "    update_time_ms: 1.999\n",
      "  timestamp: 1637084014\n",
      "  timesteps_since_restore: 0\n",
      "  timesteps_this_iter: 0\n",
      "  timesteps_total: 8000\n",
      "  training_iteration: 2\n",
      "  trial_id: '38798_00000'\n",
      "  \n"
     ]
    },
    {
     "data": {
      "text/plain": "<IPython.core.display.HTML object>",
      "text/html": "== Status ==<br>Current time: 2021-11-16 18:33:39 (running for 00:00:49.58)<br>Memory usage on this node: 10.3/11.9 GiB<br>Using FIFO scheduling algorithm.<br>Resources requested: 3.0/3 CPUs, 0/0 GPUs, 0.0/1.26 GiB heap, 0.0/0.63 GiB objects<br>Result logdir: C:\\Users\\Stefan\\ray_results\\PPO<br>Number of trials: 1/1 (1 RUNNING)<br><table>\n<thead>\n<tr><th>Trial name                       </th><th>status  </th><th>loc           </th><th style=\"text-align: right;\">  iter</th><th style=\"text-align: right;\">  total time (s)</th><th style=\"text-align: right;\">  ts</th><th style=\"text-align: right;\">  reward</th><th style=\"text-align: right;\">  episode_reward_max</th><th style=\"text-align: right;\">  episode_reward_min</th><th style=\"text-align: right;\">  episode_len_mean</th></tr>\n</thead>\n<tbody>\n<tr><td>PPO_StatelessCartPole_38798_00000</td><td>RUNNING </td><td>127.0.0.1:7440</td><td style=\"text-align: right;\">     2</td><td style=\"text-align: right;\">         13.9313</td><td style=\"text-align: right;\">8000</td><td style=\"text-align: right;\"> 28.5571</td><td style=\"text-align: right;\">                  99</td><td style=\"text-align: right;\">                   9</td><td style=\"text-align: right;\">           28.5571</td></tr>\n</tbody>\n</table><br><br>"
     },
     "metadata": {},
     "output_type": "display_data"
    },
    {
     "name": "stdout",
     "output_type": "stream",
     "text": [
      "Result for PPO_StatelessCartPole_38798_00000:\n",
      "  agent_timesteps_total: 12000\n",
      "  custom_metrics: {}\n",
      "  date: 2021-11-16_18-33-41\n",
      "  done: false\n",
      "  episode_len_mean: 37.345794392523366\n",
      "  episode_media: {}\n",
      "  episode_reward_max: 97.0\n",
      "  episode_reward_mean: 37.345794392523366\n",
      "  episode_reward_min: 10.0\n",
      "  episodes_this_iter: 107\n",
      "  episodes_total: 427\n",
      "  experiment_id: 00eced3f242b47f9acdfe84b0105571c\n",
      "  hostname: nb-stschn\n",
      "  info:\n",
      "    learner:\n",
      "      default_policy:\n",
      "        custom_metrics: {}\n",
      "        learner_stats:\n",
      "          cur_kl_coeff: 0.20000000298023224\n",
      "          cur_lr: 4.999999873689376e-05\n",
      "          entropy: 0.604137659072876\n",
      "          entropy_coeff: 0.0\n",
      "          kl: 0.007240870501846075\n",
      "          model: {}\n",
      "          policy_loss: -0.009266306646168232\n",
      "          total_loss: 162.28103637695312\n",
      "          vf_explained_var: 0.029492605477571487\n",
      "          vf_loss: 162.28884887695312\n",
      "    num_agent_steps_sampled: 12000\n",
      "    num_agent_steps_trained: 12000\n",
      "    num_steps_sampled: 12000\n",
      "    num_steps_trained: 12000\n",
      "    num_steps_trained_this_iter: 0\n",
      "  iterations_since_restore: 3\n",
      "  node_ip: 127.0.0.1\n",
      "  num_healthy_workers: 2\n",
      "  off_policy_estimator: {}\n",
      "  perf:\n",
      "    cpu_util_percent: 68.85999999999999\n",
      "    ram_util_percent: 86.6\n",
      "  pid: 7440\n",
      "  policy_reward_max: {}\n",
      "  policy_reward_mean: {}\n",
      "  policy_reward_min: {}\n",
      "  sampler_perf:\n",
      "    mean_action_processing_ms: 0.09430762304029042\n",
      "    mean_env_render_ms: 0.0\n",
      "    mean_env_wait_ms: 0.10862870842667358\n",
      "    mean_inference_ms: 1.3400886897689277\n",
      "    mean_raw_obs_processing_ms: 0.15122171322039685\n",
      "  time_since_restore: 20.671086072921753\n",
      "  time_this_iter_s: 6.7397685050964355\n",
      "  time_total_s: 20.671086072921753\n",
      "  timers:\n",
      "    learn_throughput: 1168.034\n",
      "    learn_time_ms: 3424.558\n",
      "    load_throughput: 3005592.261\n",
      "    load_time_ms: 1.331\n",
      "    sample_throughput: 689.03\n",
      "    sample_time_ms: 5805.259\n",
      "    update_time_ms: 2.668\n",
      "  timestamp: 1637084021\n",
      "  timesteps_since_restore: 0\n",
      "  timesteps_this_iter: 0\n",
      "  timesteps_total: 12000\n",
      "  training_iteration: 3\n",
      "  trial_id: '38798_00000'\n",
      "  \n"
     ]
    },
    {
     "data": {
      "text/plain": "<IPython.core.display.HTML object>",
      "text/html": "== Status ==<br>Current time: 2021-11-16 18:33:45 (running for 00:00:55.38)<br>Memory usage on this node: 10.3/11.9 GiB<br>Using FIFO scheduling algorithm.<br>Resources requested: 3.0/3 CPUs, 0/0 GPUs, 0.0/1.26 GiB heap, 0.0/0.63 GiB objects<br>Result logdir: C:\\Users\\Stefan\\ray_results\\PPO<br>Number of trials: 1/1 (1 RUNNING)<br><table>\n<thead>\n<tr><th>Trial name                       </th><th>status  </th><th>loc           </th><th style=\"text-align: right;\">  iter</th><th style=\"text-align: right;\">  total time (s)</th><th style=\"text-align: right;\">   ts</th><th style=\"text-align: right;\">  reward</th><th style=\"text-align: right;\">  episode_reward_max</th><th style=\"text-align: right;\">  episode_reward_min</th><th style=\"text-align: right;\">  episode_len_mean</th></tr>\n</thead>\n<tbody>\n<tr><td>PPO_StatelessCartPole_38798_00000</td><td>RUNNING </td><td>127.0.0.1:7440</td><td style=\"text-align: right;\">     3</td><td style=\"text-align: right;\">         20.6711</td><td style=\"text-align: right;\">12000</td><td style=\"text-align: right;\"> 37.3458</td><td style=\"text-align: right;\">                  97</td><td style=\"text-align: right;\">                  10</td><td style=\"text-align: right;\">           37.3458</td></tr>\n</tbody>\n</table><br><br>"
     },
     "metadata": {},
     "output_type": "display_data"
    },
    {
     "name": "stdout",
     "output_type": "stream",
     "text": [
      "Result for PPO_StatelessCartPole_38798_00000:\n",
      "  agent_timesteps_total: 16000\n",
      "  custom_metrics: {}\n",
      "  date: 2021-11-16_18-33-47\n",
      "  done: false\n",
      "  episode_len_mean: 46.53\n",
      "  episode_media: {}\n",
      "  episode_reward_max: 168.0\n",
      "  episode_reward_mean: 46.53\n",
      "  episode_reward_min: 9.0\n",
      "  episodes_this_iter: 79\n",
      "  episodes_total: 506\n",
      "  experiment_id: 00eced3f242b47f9acdfe84b0105571c\n",
      "  hostname: nb-stschn\n",
      "  info:\n",
      "    learner:\n",
      "      default_policy:\n",
      "        custom_metrics: {}\n",
      "        learner_stats:\n",
      "          cur_kl_coeff: 0.20000000298023224\n",
      "          cur_lr: 4.999999873689376e-05\n",
      "          entropy: 0.5635395646095276\n",
      "          entropy_coeff: 0.0\n",
      "          kl: 0.003835817100480199\n",
      "          model: {}\n",
      "          policy_loss: -0.005301193334162235\n",
      "          total_loss: 229.7139129638672\n",
      "          vf_explained_var: 0.10358849167823792\n",
      "          vf_loss: 229.71847534179688\n",
      "    num_agent_steps_sampled: 16000\n",
      "    num_agent_steps_trained: 16000\n",
      "    num_steps_sampled: 16000\n",
      "    num_steps_trained: 16000\n",
      "    num_steps_trained_this_iter: 0\n",
      "  iterations_since_restore: 4\n",
      "  node_ip: 127.0.0.1\n",
      "  num_healthy_workers: 2\n",
      "  off_policy_estimator: {}\n",
      "  perf:\n",
      "    cpu_util_percent: 67.12222222222222\n",
      "    ram_util_percent: 86.5\n",
      "  pid: 7440\n",
      "  policy_reward_max: {}\n",
      "  policy_reward_mean: {}\n",
      "  policy_reward_min: {}\n",
      "  sampler_perf:\n",
      "    mean_action_processing_ms: 0.09221450519483476\n",
      "    mean_env_render_ms: 0.0\n",
      "    mean_env_wait_ms: 0.1020140860250836\n",
      "    mean_inference_ms: 1.3503365870758819\n",
      "    mean_raw_obs_processing_ms: 0.14147245967583053\n",
      "  time_since_restore: 27.35444664955139\n",
      "  time_this_iter_s: 6.683360576629639\n",
      "  time_total_s: 27.35444664955139\n",
      "  timers:\n",
      "    learn_throughput: 1177.3\n",
      "    learn_time_ms: 3397.605\n",
      "    load_throughput: 4007456.348\n",
      "    load_time_ms: 0.998\n",
      "    sample_throughput: 661.814\n",
      "    sample_time_ms: 6043.991\n",
      "    update_time_ms: 2.001\n",
      "  timestamp: 1637084027\n",
      "  timesteps_since_restore: 0\n",
      "  timesteps_this_iter: 0\n",
      "  timesteps_total: 16000\n",
      "  training_iteration: 4\n",
      "  trial_id: '38798_00000'\n",
      "  \n"
     ]
    },
    {
     "data": {
      "text/plain": "<IPython.core.display.HTML object>",
      "text/html": "== Status ==<br>Current time: 2021-11-16 18:33:51 (running for 00:01:01.08)<br>Memory usage on this node: 10.3/11.9 GiB<br>Using FIFO scheduling algorithm.<br>Resources requested: 3.0/3 CPUs, 0/0 GPUs, 0.0/1.26 GiB heap, 0.0/0.63 GiB objects<br>Result logdir: C:\\Users\\Stefan\\ray_results\\PPO<br>Number of trials: 1/1 (1 RUNNING)<br><table>\n<thead>\n<tr><th>Trial name                       </th><th>status  </th><th>loc           </th><th style=\"text-align: right;\">  iter</th><th style=\"text-align: right;\">  total time (s)</th><th style=\"text-align: right;\">   ts</th><th style=\"text-align: right;\">  reward</th><th style=\"text-align: right;\">  episode_reward_max</th><th style=\"text-align: right;\">  episode_reward_min</th><th style=\"text-align: right;\">  episode_len_mean</th></tr>\n</thead>\n<tbody>\n<tr><td>PPO_StatelessCartPole_38798_00000</td><td>RUNNING </td><td>127.0.0.1:7440</td><td style=\"text-align: right;\">     4</td><td style=\"text-align: right;\">         27.3544</td><td style=\"text-align: right;\">16000</td><td style=\"text-align: right;\">   46.53</td><td style=\"text-align: right;\">                 168</td><td style=\"text-align: right;\">                   9</td><td style=\"text-align: right;\">             46.53</td></tr>\n</tbody>\n</table><br><br>"
     },
     "metadata": {},
     "output_type": "display_data"
    },
    {
     "name": "stdout",
     "output_type": "stream",
     "text": [
      "Result for PPO_StatelessCartPole_38798_00000:\n",
      "  agent_timesteps_total: 20000\n",
      "  custom_metrics: {}\n",
      "  date: 2021-11-16_18-33-54\n",
      "  done: true\n",
      "  episode_len_mean: 49.42\n",
      "  episode_media: {}\n",
      "  episode_reward_max: 166.0\n",
      "  episode_reward_mean: 49.42\n",
      "  episode_reward_min: 11.0\n",
      "  episodes_this_iter: 80\n",
      "  episodes_total: 586\n",
      "  experiment_id: 00eced3f242b47f9acdfe84b0105571c\n",
      "  hostname: nb-stschn\n",
      "  info:\n",
      "    learner:\n",
      "      default_policy:\n",
      "        custom_metrics: {}\n",
      "        learner_stats:\n",
      "          cur_kl_coeff: 0.10000000149011612\n",
      "          cur_lr: 4.999999873689376e-05\n",
      "          entropy: 0.5414723753929138\n",
      "          entropy_coeff: 0.0\n",
      "          kl: 0.00503366207703948\n",
      "          model: {}\n",
      "          policy_loss: -0.008636890910565853\n",
      "          total_loss: 251.0379638671875\n",
      "          vf_explained_var: 0.11828897148370743\n",
      "          vf_loss: 251.04611206054688\n",
      "    num_agent_steps_sampled: 20000\n",
      "    num_agent_steps_trained: 20000\n",
      "    num_steps_sampled: 20000\n",
      "    num_steps_trained: 20000\n",
      "    num_steps_trained_this_iter: 0\n",
      "  iterations_since_restore: 5\n",
      "  node_ip: 127.0.0.1\n",
      "  num_healthy_workers: 2\n",
      "  off_policy_estimator: {}\n",
      "  perf:\n",
      "    cpu_util_percent: 65.99\n",
      "    ram_util_percent: 86.45\n",
      "  pid: 7440\n",
      "  policy_reward_max: {}\n",
      "  policy_reward_mean: {}\n",
      "  policy_reward_min: {}\n",
      "  sampler_perf:\n",
      "    mean_action_processing_ms: 0.08826391746689896\n",
      "    mean_env_render_ms: 0.0\n",
      "    mean_env_wait_ms: 0.10487394178942751\n",
      "    mean_inference_ms: 1.3501880647822182\n",
      "    mean_raw_obs_processing_ms: 0.1351827020650464\n",
      "  time_since_restore: 34.08873701095581\n",
      "  time_this_iter_s: 6.734290361404419\n",
      "  time_total_s: 34.08873701095581\n",
      "  timers:\n",
      "    learn_throughput: 1179.187\n",
      "    learn_time_ms: 3392.166\n",
      "    load_throughput: 5009320.435\n",
      "    load_time_ms: 0.799\n",
      "    sample_throughput: 647.419\n",
      "    sample_time_ms: 6178.376\n",
      "    update_time_ms: 2.201\n",
      "  timestamp: 1637084034\n",
      "  timesteps_since_restore: 0\n",
      "  timesteps_this_iter: 0\n",
      "  timesteps_total: 20000\n",
      "  training_iteration: 5\n",
      "  trial_id: '38798_00000'\n",
      "  \n"
     ]
    },
    {
     "data": {
      "text/plain": "<IPython.core.display.HTML object>",
      "text/html": "== Status ==<br>Current time: 2021-11-16 18:33:54 (running for 00:01:04.88)<br>Memory usage on this node: 10.3/11.9 GiB<br>Using FIFO scheduling algorithm.<br>Resources requested: 0/3 CPUs, 0/0 GPUs, 0.0/1.26 GiB heap, 0.0/0.63 GiB objects<br>Result logdir: C:\\Users\\Stefan\\ray_results\\PPO<br>Number of trials: 1/1 (1 TERMINATED)<br><table>\n<thead>\n<tr><th>Trial name                       </th><th>status    </th><th>loc           </th><th style=\"text-align: right;\">  iter</th><th style=\"text-align: right;\">  total time (s)</th><th style=\"text-align: right;\">   ts</th><th style=\"text-align: right;\">  reward</th><th style=\"text-align: right;\">  episode_reward_max</th><th style=\"text-align: right;\">  episode_reward_min</th><th style=\"text-align: right;\">  episode_len_mean</th></tr>\n</thead>\n<tbody>\n<tr><td>PPO_StatelessCartPole_38798_00000</td><td>TERMINATED</td><td>127.0.0.1:7440</td><td style=\"text-align: right;\">     5</td><td style=\"text-align: right;\">         34.0887</td><td style=\"text-align: right;\">20000</td><td style=\"text-align: right;\">   49.42</td><td style=\"text-align: right;\">                 166</td><td style=\"text-align: right;\">                  11</td><td style=\"text-align: right;\">             49.42</td></tr>\n</tbody>\n</table><br><br>"
     },
     "metadata": {},
     "output_type": "display_data"
    },
    {
     "name": "stderr",
     "output_type": "stream",
     "text": [
      "\u001B[2m\u001B[36m(pid=7440)\u001B[0m [2021-11-16 18:33:55,327 E 7440 8396] raylet_client.cc:159: IOError: Unknown error [RayletClient] Failed to disconnect from raylet.\r\n",
      "\u001B[2m\u001B[36m(pid=7440)\u001B[0m Windows fatal exception: access violation\n",
      "\u001B[2m\u001B[36m(pid=7440)\u001B[0m \n",
      "\u001B[2m\u001B[36m(pid=284)\u001B[0m [2021-11-16 18:33:55,329 E 284 18192] raylet_client.cc:159: IOError: Unknown error [RayletClient] Failed to disconnect from raylet.\r\n",
      "\u001B[2m\u001B[36m(pid=284)\u001B[0m Windows fatal exception: access violation\n",
      "\u001B[2m\u001B[36m(pid=284)\u001B[0m \n",
      "2021-11-16 18:33:55,436\tINFO tune.py:630 -- Total run time: 65.48 seconds (64.87 seconds for the tuning loop).\n"
     ]
    },
    {
     "name": "stdout",
     "output_type": "stream",
     "text": [
      "Training finished successfully\n"
     ]
    },
    {
     "name": "stderr",
     "output_type": "stream",
     "text": [
      "\u001B[2m\u001B[36m(pid=16636)\u001B[0m [2021-11-16 18:33:55,354 C 16636 21336] core_worker.cc:796:  Check failed: _s.ok() Bad status: IOError: Unknown error\n",
      "\u001B[2m\u001B[36m(pid=16636)\u001B[0m *** StackTrace Information ***\n",
      "\u001B[2m\u001B[36m(pid=16636)\u001B[0m     PyInit__raylet\n",
      "\u001B[2m\u001B[36m(pid=16636)\u001B[0m     PyInit__raylet\n",
      "\u001B[2m\u001B[36m(pid=16636)\u001B[0m     PyInit__raylet\n",
      "\u001B[2m\u001B[36m(pid=16636)\u001B[0m     PyInit__raylet\n",
      "\u001B[2m\u001B[36m(pid=16636)\u001B[0m     PyInit__raylet\n",
      "\u001B[2m\u001B[36m(pid=16636)\u001B[0m     PyInit__raylet\n",
      "\u001B[2m\u001B[36m(pid=16636)\u001B[0m     PyInit__raylet\n",
      "\u001B[2m\u001B[36m(pid=16636)\u001B[0m     PyInit__raylet\n",
      "\u001B[2m\u001B[36m(pid=16636)\u001B[0m     PyInit__raylet\n",
      "\u001B[2m\u001B[36m(pid=16636)\u001B[0m     PyInit__raylet\n",
      "\u001B[2m\u001B[36m(pid=16636)\u001B[0m     PyInit__raylet\n",
      "\u001B[2m\u001B[36m(pid=16636)\u001B[0m     PyInit__raylet\n",
      "\u001B[2m\u001B[36m(pid=16636)\u001B[0m     PyInit__raylet\n",
      "\u001B[2m\u001B[36m(pid=16636)\u001B[0m     PyInit__raylet\n",
      "\u001B[2m\u001B[36m(pid=16636)\u001B[0m     PyInit__raylet\n",
      "\u001B[2m\u001B[36m(pid=16636)\u001B[0m     PyInit__raylet\n",
      "\u001B[2m\u001B[36m(pid=16636)\u001B[0m     PyNumber_InPlaceLshift\n",
      "\u001B[2m\u001B[36m(pid=16636)\u001B[0m     Py_CheckFunctionResult\n",
      "\u001B[2m\u001B[36m(pid=16636)\u001B[0m     PyEval_EvalFrameDefault\n",
      "\u001B[2m\u001B[36m(pid=16636)\u001B[0m     Py_CheckFunctionResult\n",
      "\u001B[2m\u001B[36m(pid=16636)\u001B[0m     PyEval_EvalFrameDefault\n",
      "\u001B[2m\u001B[36m(pid=16636)\u001B[0m     PyEval_EvalCodeWithName\n",
      "\u001B[2m\u001B[36m(pid=16636)\u001B[0m     PyEval_EvalCodeEx\n",
      "\u001B[2m\u001B[36m(pid=16636)\u001B[0m     PyEval_EvalCode\n",
      "\u001B[2m\u001B[36m(pid=16636)\u001B[0m     PyArena_New\n",
      "\u001B[2m\u001B[36m(pid=16636)\u001B[0m     PyArena_New\n",
      "\u001B[2m\u001B[36m(pid=16636)\u001B[0m     PyRun_FileExFlags\n",
      "\u001B[2m\u001B[36m(pid=16636)\u001B[0m     PyRun_SimpleFileExFlags\n",
      "\u001B[2m\u001B[36m(pid=16636)\u001B[0m     PyRun_AnyFileExFlags\n",
      "\u001B[2m\u001B[36m(pid=16636)\u001B[0m     Py_FatalError\n",
      "\u001B[2m\u001B[36m(pid=16636)\u001B[0m     Py_RunMain\n",
      "\u001B[2m\u001B[36m(pid=16636)\u001B[0m     Py_RunMain\n",
      "\u001B[2m\u001B[36m(pid=16636)\u001B[0m     Py_Main\n",
      "\u001B[2m\u001B[36m(pid=16636)\u001B[0m     BaseThreadInitThunk\n",
      "\u001B[2m\u001B[36m(pid=16636)\u001B[0m     RtlUserThreadStart\n",
      "\u001B[2m\u001B[36m(pid=16636)\u001B[0m \r\n",
      "\u001B[2m\u001B[36m(pid=16636)\u001B[0m Windows fatal exception: access violation\n",
      "\u001B[2m\u001B[36m(pid=16636)\u001B[0m \n",
      "\u001B[2m\u001B[36m(pid=16636)\u001B[0m Stack (most recent call first):\n",
      "\u001B[2m\u001B[36m(pid=16636)\u001B[0m   File \"c:\\users\\stefan\\git-repos\\private\\blog\\venv\\lib\\site-packages\\ray\\worker.py\", line 425 in main_loop\n",
      "\u001B[2m\u001B[36m(pid=16636)\u001B[0m   File \"c:\\users\\stefan\\git-repos\\private\\blog\\venv\\lib\\site-packages\\ray\\workers/default_worker.py\", line 218 in <module>\n"
     ]
    }
   ],
   "source": [
    "from ray.rllib.examples.env.stateless_cartpole import StatelessCartPole\n",
    "from ray.tune import registry\n",
    "\n",
    "registry.register_env(\"StatelessCartPole\", lambda _: StatelessCartPole())\n",
    "config[\"env\"] = \"StatelessCartPole\"\n",
    "# train; this takes a while\n",
    "results = ray.tune.run(\"PPO\", config=config, stop=stop)\n",
    "print(\"Training finished successfully\")"
   ],
   "metadata": {
    "collapsed": false,
    "pycharm": {
     "name": "#%%\n"
    }
   }
  },
  {
   "cell_type": "code",
   "execution_count": 27,
   "outputs": [
    {
     "data": {
      "text/plain": "49.42"
     },
     "execution_count": 27,
     "metadata": {},
     "output_type": "execute_result"
    }
   ],
   "source": [
    "# check results\n",
    "results.default_metric = \"episode_reward_mean\"\n",
    "results.default_mode = \"max\"\n",
    "# print the mean episode reward = episode length --> higher = better\n",
    "results.best_result[\"episode_reward_mean\"]"
   ],
   "metadata": {
    "collapsed": false,
    "pycharm": {
     "name": "#%%\n"
    }
   }
  },
  {
   "cell_type": "code",
   "execution_count": 30,
   "outputs": [
    {
     "name": "stderr",
     "output_type": "stream",
     "text": [
      "c:\\users\\stefan\\git-repos\\private\\blog\\venv\\lib\\site-packages\\seaborn\\_decorators.py:36: FutureWarning: Pass the following variables as keyword args: x, y. From version 0.12, the only valid positional argument will be `data`, and passing other arguments without an explicit keyword will result in an error or misinterpretation.\n",
      "  warnings.warn(\n"
     ]
    },
    {
     "data": {
      "text/plain": "<AxesSubplot:>"
     },
     "execution_count": 30,
     "metadata": {},
     "output_type": "execute_result"
    },
    {
     "data": {
      "text/plain": "<Figure size 432x288 with 1 Axes>",
      "image/png": "[encoded data removed]"
     },
     "metadata": {
      "needs_background": "light"
     },
     "output_type": "display_data"
    }
   ],
   "source": [
    "eps_lengths = results.best_result[\"hist_stats\"][\"episode_lengths\"]\n",
    "eps = [i for i in range(len(eps_lengths))]\n",
    "sns.scatterplot(eps, eps_lengths)"
   ],
   "metadata": {
    "collapsed": false,
    "pycharm": {
     "name": "#%%\n"
    }
   }
  },
  {
   "cell_type": "markdown",
   "source": [
    "## Stacked Observations with Attention\n",
    "\n",
    "TODO: continue here\n",
    "https://github.com/ray-project/ray/blob/master/rllib/examples/attention_net.py"
   ],
   "metadata": {
    "collapsed": false,
    "pycharm": {
     "name": "#%% md\n"
    }
   }
  },
  {
   "cell_type": "code",
   "execution_count": null,
   "outputs": [],
   "source": [],
   "metadata": {
    "collapsed": false,
    "pycharm": {
     "name": "#%%\n"
    }
   }
  }
 ],
 "metadata": {
  "kernelspec": {
   "display_name": "Python 3",
   "language": "python",
   "name": "python3"
  },
  "language_info": {
   "codemirror_mode": {
    "name": "ipython",
    "version": 3
   },
   "file_extension": ".py",
   "mimetype": "text/x-python",
   "name": "python",
   "nbconvert_exporter": "python",
   "pygments_lexer": "ipython3",
   "version": "3.8.2"
  }
 },
 "nbformat": 4,
 "nbformat_minor": 4
}