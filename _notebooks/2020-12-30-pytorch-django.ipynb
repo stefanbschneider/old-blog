{
 "cells": [
  {
   "cell_type": "markdown",
   "metadata": {
    "pycharm": {
     "name": "#%% md\n"
    }
   },
   "source": [
    "# Deploying a PyTorch Model Using Django\n",
    "> \"Building a simple image classification web app using Django and PyTorch and deploying it on Heroku.\"\n",
    "\n",
    "- hide: true\n",
    "- toc: true\n",
    "- branch: master\n",
    "- badges: true\n",
    "- comments: true\n",
    "- categories: [machine learning, pytorch, vision, classification, django, heroku, deployment]\n",
    "- image: images/pytorch.png"
   ]
  },
  {
   "cell_type": "markdown",
   "metadata": {
    "pycharm": {
     "name": "#%% md\n"
    }
   },
   "source": [
    "We are going build a simple image classification\n",
    "using a pre-trained model in PyTorch.\n",
    "We are then going to deploy the PyTorch model inside a simple\n",
    "web app built with Django.\n",
    "\n",
    "## Install and Setup Django\n",
    "\n",
    "Install:\n",
    "\n",
    "```\n",
    "pip install django\n",
    "```\n",
    "\n",
    "Create the project and a Django app:\n",
    "\n",
    "```\n",
    "django-admin startproject pytorch_django\n",
    "cd pytorch_django\n",
    "python manage.py startapp image_classification\n",
    "```\n",
    "\n"
   ]
  }
 ],
 "metadata": {
  "kernelspec": {
   "display_name": "Python 3",
   "language": "python",
   "name": "python3"
  },
  "language_info": {
   "codemirror_mode": {
    "name": "ipython",
    "version": 3
   },
   "file_extension": ".py",
   "mimetype": "text/x-python",
   "name": "python",
   "nbconvert_exporter": "python",
   "pygments_lexer": "ipython3",
   "version": "3.8.2"
  }
 },
 "nbformat": 4,
 "nbformat_minor": 4
}