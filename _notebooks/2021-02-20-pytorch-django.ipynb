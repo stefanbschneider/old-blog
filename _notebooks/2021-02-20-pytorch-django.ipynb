{
 "cells": [
  {
   "cell_type": "markdown",
   "metadata": {
    "pycharm": {
     "name": "#%% md\n"
    }
   },
   "source": [
    "# Using PyTorch Inside a Django App\n",
    "> \"Building a simple image classification web app using Django and a pretrained PyTorch model.\"\n",
    "\n",
    "- hide: true\n",
    "- toc: true\n",
    "- branch: master\n",
    "- badges: true\n",
    "- comments: true\n",
    "- categories: [python, machine learning, pytorch, vision, classification, django, heroku]\n",
    "- image: images/logos/pytorch.png"
   ]
  },
  {
   "cell_type": "markdown",
   "metadata": {
    "pycharm": {
     "name": "#%% md\n"
    }
   },
   "source": [
    "In this blog post, I build a simple image classification app using a pre-trained model in PyTorch.\n",
    "I deploy this image classification model inside a Django web app on Heroku.\n",
    "\n",
    "\n",
    "This is very much related to the [PyTorch guide on deployment with Flask](https://pytorch.org/tutorials/intermediate/flask_rest_api_tutorial.html).\n",
    "Here, I show an alternative using Django, which is not as light-weight but contains more features built-in than Flask.\n",
    "For more information on differences between Django and Flask, see [this website](https://hackr.io/blog/flask-vs-django).\n",
    "\n",
    "Also, refer to my related blog posts on [building and deploying Django apps on Heroku](https://stefanbschneider.github.io/blog/django-heroku)\n",
    "as well as [getting started with PyTorch](https://stefanbschneider.github.io/blog/pytorch-getting-started).\n",
    "\n",
    "\n",
    "## Basic Django Setup\n",
    "\n",
    "Install:\n",
    "\n",
    "```\n",
    "pip install django\n",
    "```\n",
    "\n",
    "Create the project and a Django app `image_classification`:\n",
    "\n",
    "```\n",
    "django-admin startproject pytorch_django\n",
    "cd pytorch_django\n",
    "python manage.py startapp image_classification\n",
    "```\n",
    "\n",
    "Inside `settings.py`, add `'image_classification.apps.ImageClassificationConfig'` to the `INSTALLED_APPS` list.\n",
    "\n",
    "To verify, that there are no errors yet, start the Django dev server:\n",
    "\n",
    "```\n",
    "python manage.py runserver\n",
    "```\n",
    "\n",
    "Go to `localhost:8000`:\n",
    "\n",
    "![](pytorch-django/django-setup-complete.png)\n",
    "\n",
    "\n",
    "## URL setup\n",
    "\n",
    "Then prepare a separate `image_classification/urls.py` for the URLs of the image classification app:\n",
    "```python\n",
    "from django.urls import path, include\n",
    "from django.conf import settings\n",
    "from django.conf.urls.static import static\n",
    "from . import views\n",
    "\n",
    "app_name = 'image_classification'\n",
    "urlpatterns = [\n",
    "    # two paths: with or without given image\n",
    "    path('', views.index, name='index'),\n",
    "] + static(settings.MEDIA_URL, document_root=settings.MEDIA_ROOT)\n",
    "```\n",
    "And link these URLs to the project's URLs in `pytorch_django/urls.py`:\n",
    "```python\n",
    "urlpatterns = [\n",
    "    path('', include('image_classification.urls')),\n",
    "    path('admin/', admin.site.urls),\n",
    "]\n",
    "```\n",
    "For the simple app here, I only need the default URL, which points to my `index` view,\n",
    "which I implement next.\n",
    "\n",
    "\n",
    "## Image Upload and Display\n",
    "\n",
    "After this initial setup, I need to build a simple view and template that allows users to upload an image for classification.\n",
    "As usual, user input is handled through a Django form, here just consisting of a single `ImageField` (`image_classification/forms.py`):\n",
    "```python\n",
    "from django import forms\n",
    "\n",
    "class ImageUploadForm(forms.Form):\n",
    "    image = forms.ImageField()\n",
    "```\n",
    "Here, I just want to display the uploaded image and pass it to the PyTorch model for classification.\n",
    "I do not want to (even temporarily) store it in the file system/disk.\n",
    "Hence, inside the view (`image_classification/views.py`), I get the image from the form, get its byte representation (for PyTorch later)\n",
    "and create an image URI for displaying the image later (see [StackOverflow](https://stackoverflow.com/a/40568024/2745116)):\n",
    "\n",
    "```python\n",
    "def index(request):\n",
    "    image_uri = None\n",
    "    predicted_label = None\n",
    "\n",
    "    if request.method == 'POST':\n",
    "        form = ImageUploadForm(request.POST, request.FILES)\n",
    "        if form.is_valid():\n",
    "            # passing the image as base64 string to avoid storing it to DB or filesystem\n",
    "            image = form.cleaned_data['image']\n",
    "            image_bytes = image.file.read()\n",
    "            encoded_img = base64.b64encode(image_bytes).decode('ascii')\n",
    "            image_uri = 'data:%s;base64,%s' % ('image/jpeg', encoded_img)\n",
    "\n",
    "            # get predicted label\n",
    "            predicted_label = get_prediction(image_bytes)\n",
    "\n",
    "    else:\n",
    "        form = ImageUploadForm()\n",
    "\n",
    "    # pass the form, image URI, and predicted label to the template to be rendered\n",
    "    context = {\n",
    "        'form': form,\n",
    "        'image_uri': image_uri,\n",
    "        'predicted_label': predicted_label,\n",
    "    }\n",
    "    return render(request, 'image_classification/index.html', context)\n",
    "```\n",
    "TODO: Note that the `get_prediction()` function is implemented below.\n"
   ]
  },
  {
   "cell_type": "markdown",
   "source": [
    "To display the uploaded image and prediction by the PyTorch model, create a template `image_classification/templates/image_classification/index.html`:\n",
    "```html\n",
    "<h1>PyTorch Image Classification App</h1>\n",
    "<p>A pretrained PyTorch DenseNet model will try to classify the selected image according to ImageNet labels.</p>\n",
    "\n",
    "<form method=\"post\" enctype=\"multipart/form-data\" style=\"margin-top: 50px; margin-bottom: 50px;\">\n",
    "    {% csrf_token %}\n",
    "    {{ form }}\n",
    "    <button type=\"submit\" class=\"btn btn-primary\">Upload</button>\n",
    "</form>\n",
    "\n",
    "{% if image_uri is not None %}\n",
    "    <figure class=\"figure\">\n",
    "        <img src=\"{{ image_uri }}\" class=\"img-fluid\" alt=\"Uploaded image\" style=\"max-width: 500px; max-height: 500px;\">\n",
    "        <figcaption class=\"figure-caption\">Figure selected for classification.</figcaption>\n",
    "    </figure>\n",
    "\n",
    "    {% if predicted_label is not None %}\n",
    "        <div class=\"alert alert-primary\" role=\"alert\">\n",
    "            Predicted label: {{ predicted_label }}\n",
    "        </div>\n",
    "    {% endif %}\n",
    "{% endif %}\n",
    "```\n",
    "The uploaded image uses the saved and passed image URI from before and does not need to load any image from disk.\n",
    "This template relies on some Bootstrap styling (see [my corresponding Blog post](https://stefanbschneider.github.io/blog/django-bootstrap)),\n",
    "but it's of course possible to omit that.\n"
   ],
   "metadata": {
    "collapsed": false,
    "pycharm": {
     "name": "#%% md\n"
    }
   }
  },
  {
   "cell_type": "markdown",
   "source": [
    "TODO: Restructure --> first setup of both djang oand pytorch, 2. dummy django app, 3. pytorch logic, 4. django integration and view, 5. heroku\n",
    "\n",
    "FIXME: heroku build breaks..."
   ],
   "metadata": {
    "collapsed": false,
    "pycharm": {
     "name": "#%% md\n"
    }
   }
  },
  {
   "cell_type": "markdown",
   "source": [
    "## PyTorch\n",
    "\n",
    "### Installation\n",
    "\n",
    "PyTorch classification:\n",
    "\n",
    "```\n",
    "pip install torchvision\n",
    "```\n",
    "\n",
    "### Image Classification\n",
    "\n",
    "\n",
    "## Deployment on Heroku\n",
    "\n",
    "Heroku Deployment:\n",
    "\n",
    "* Register/Login --> Create new app --> Connect to GitHub (Need GitHub repo!)\n",
    "* Enable automatic deploys\n",
    "* Secrets:\n",
    "DJANGO_SETTINGS_MODULE: project.prod_settings\n",
    "DJANGO_SECRET_KEY: <randomly-generated-secret-key>\n",
    "\n",
    "Also prepare `prod_settings`\n",
    "\n",
    "* add `runtime.txt` and `Procfile`\n",
    "* Install `whitenoise` and add `'whitenoise.middleware.WhiteNoiseMiddleware',` to middleware in `settings.py` for static file serving\n",
    "\n",
    "Add to `settings.py`:\n",
    "```\n",
    "STATIC_URL = '/static/'\n",
    "# path to where static files are copied for deployment (eg, for heroku)\n",
    "STATIC_ROOT = os.path.join(BASE_DIR, 'staticfiles')\n",
    "# location of static files in local development: https://learndjango.com/tutorials/django-favicon-tutorial\n",
    "STATICFILES_DIRS = [os.path.join(BASE_DIR, 'static'),]\n",
    "```\n",
    "\n",
    "\n"
   ],
   "metadata": {
    "collapsed": false,
    "pycharm": {
     "name": "#%% md\n"
    }
   }
  }
 ],
 "metadata": {
  "kernelspec": {
   "display_name": "Python 3",
   "language": "python",
   "name": "python3"
  },
  "language_info": {
   "codemirror_mode": {
    "name": "ipython",
    "version": 3
   },
   "file_extension": ".py",
   "mimetype": "text/x-python",
   "name": "python",
   "nbconvert_exporter": "python",
   "pygments_lexer": "ipython3",
   "version": "3.8.2"
  }
 },
 "nbformat": 4,
 "nbformat_minor": 4
}