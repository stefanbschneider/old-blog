{
 "cells": [
  {
   "cell_type": "markdown",
   "metadata": {
    "pycharm": {
     "name": "#%% md\n"
    }
   },
   "source": [
    "# Using PyTorch Inside a Django App\n",
    "> \"Building a simple image classification web app using Django and a pretrained PyTorch model.\"\n",
    "\n",
    "- hide: true\n",
    "- toc: true\n",
    "- branch: master\n",
    "- badges: true\n",
    "- comments: true\n",
    "- categories: [python, machine learning, pytorch, vision, classification, django, heroku]\n",
    "- image: images/logos/pytorch.png"
   ]
  },
  {
   "cell_type": "markdown",
   "metadata": {
    "pycharm": {
     "name": "#%% md\n"
    }
   },
   "source": [
    "In this blog post, I build a simple image classification using a pre-trained model in PyTorch.\n",
    "I deploy this image classification model inside a Django app as a web app on Heroku.\n",
    "Todo: related posts for pytorch, django, heroku\n",
    "\n",
    "This is very much related to the [guide on deploying PyTorch with Flask](https://pytorch.org/tutorials/intermediate/flask_rest_api_tutorial.html).\n",
    "Here, I show an alternative using Django, which is not as light-weight but contains more features built-in than Flask.\n",
    "For more info on the difference between Django and Flask, see [this website](https://hackr.io/blog/flask-vs-django).\n",
    "\n",
    "## Install and Setup Django\n",
    "\n",
    "Install:\n",
    "\n",
    "```\n",
    "pip install django\n",
    "```\n",
    "\n",
    "Create the project and a Django app:\n",
    "\n",
    "```\n",
    "django-admin startproject pytorch_django\n",
    "cd pytorch_django\n",
    "python manage.py startapp image_classification\n",
    "```\n",
    "\n",
    "Inside `settings.py`, add `'image_classification.apps.ImageClassificationConfig'` to the `INSTALLED_APPS` list.\n",
    "\n",
    "Start the Django dev server:\n",
    "\n",
    "```\n",
    "python manage.py runserver\n",
    "```\n",
    "\n",
    "Go to `localhost:8000`:\n",
    "\n",
    "![](pytorch-django/django-setup-complete.png)"
   ]
  },
  {
   "cell_type": "markdown",
   "source": [
    "* Create `image_classification/urls.py`\n",
    "* Link it from the project's URL config\n",
    "* Create image upload form and view"
   ],
   "metadata": {
    "collapsed": false,
    "pycharm": {
     "name": "#%% md\n"
    }
   }
  },
  {
   "cell_type": "markdown",
   "source": [
    "* Upload and save the image using data URI instead of saving it to DB/disk: https://stackoverflow.com/a/40568024/2745116\n",
    "* Showing the uploaded image: https://stackoverflow.com/a/29397661/2745116"
   ],
   "metadata": {
    "collapsed": false,
    "pycharm": {
     "name": "#%% md\n"
    }
   }
  },
  {
   "cell_type": "markdown",
   "source": [
    "Heroku Deployment:\n",
    "\n",
    "* Register/Login --> Create new app --> Connect to GitHub (Need GitHub repo!)\n",
    "* Enable automatic deploys\n",
    "* Secrets:\n",
    "DJANGO_SETTINGS_MODULE: project.prod_settings\n",
    "DJANGO_SECRET_KEY: <randomly-generated-secret-key>\n",
    "\n",
    "Also prepare `prod_settings`\n",
    "\n",
    "* add `runtime.txt` and `Procfile`\n",
    "* Install `whitenoise` and add `'whitenoise.middleware.WhiteNoiseMiddleware',` to middleware in `settings.py` for static file serving\n",
    "\n",
    "Add to `settings.py`:\n",
    "```\n",
    "STATIC_URL = '/static/'\n",
    "# path to where static files are copied for deployment (eg, for heroku)\n",
    "STATIC_ROOT = os.path.join(BASE_DIR, 'staticfiles')\n",
    "# location of static files in local development: https://learndjango.com/tutorials/django-favicon-tutorial\n",
    "STATICFILES_DIRS = [os.path.join(BASE_DIR, 'static'),]\n",
    "```"
   ],
   "metadata": {
    "collapsed": false,
    "pycharm": {
     "name": "#%% md\n"
    }
   }
  }
 ],
 "metadata": {
  "kernelspec": {
   "display_name": "Python 3",
   "language": "python",
   "name": "python3"
  },
  "language_info": {
   "codemirror_mode": {
    "name": "ipython",
    "version": 3
   },
   "file_extension": ".py",
   "mimetype": "text/x-python",
   "name": "python",
   "nbconvert_exporter": "python",
   "pygments_lexer": "ipython3",
   "version": "3.8.2"
  }
 },
 "nbformat": 4,
 "nbformat_minor": 4
}