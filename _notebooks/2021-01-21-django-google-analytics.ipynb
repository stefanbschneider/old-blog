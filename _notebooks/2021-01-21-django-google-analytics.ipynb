{
 "cells": [
  {
   "cell_type": "markdown",
   "metadata": {
    "collapsed": true,
    "pycharm": {
     "name": "#%% md\n"
    }
   },
   "source": [
    "# Adding Google Analytics to a Django App\n",
    "> \"Using Google Analytics GA4 for monitoring and analyzing user traffic on a Django app.\"\n",
    "\n",
    "- hide: true\n",
    "- toc: true\n",
    "- branch: master\n",
    "- badges: false\n",
    "- comments: true\n",
    "- categories: [django, google analytics]\n",
    "- image: images/logos/google-analytics.png"
   ]
  },
  {
   "cell_type": "markdown",
   "source": [
    "> Note: This guide builds on the Django \"Hello World\" app described in [this post](https://stefanbschneider.github.io/blog/django/heroku/github/deployment/2021/01/19/django-heroku.html).\n",
    "> The code is in [this GitHub repository](https://github.com/stefanbschneider/django-hello-world).\n",
    "\n"
   ],
   "metadata": {
    "collapsed": false
   }
  }
 ],
 "metadata": {
  "kernelspec": {
   "display_name": "Python 3",
   "language": "python",
   "name": "python3"
  },
  "language_info": {
   "codemirror_mode": {
    "name": "ipython",
    "version": 2
   },
   "file_extension": ".py",
   "mimetype": "text/x-python",
   "name": "python",
   "nbconvert_exporter": "python",
   "pygments_lexer": "ipython2",
   "version": "2.7.6"
  }
 },
 "nbformat": 4,
 "nbformat_minor": 0
}